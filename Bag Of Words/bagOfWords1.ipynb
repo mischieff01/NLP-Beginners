{
 "cells": [
  {
   "cell_type": "code",
   "execution_count": 1,
   "metadata": {},
   "outputs": [],
   "source": [
    "import pandas as pd\n",
    "import numpy as np"
   ]
  },
  {
   "cell_type": "code",
   "execution_count": 2,
   "metadata": {},
   "outputs": [],
   "source": [
    "from sklearn.feature_extraction.text import CountVectorizer"
   ]
  },
  {
   "cell_type": "code",
   "execution_count": 17,
   "metadata": {},
   "outputs": [],
   "source": [
    "# define function for bag of words\n",
    "def get_bag_of_words(doc,vocab):\n",
    "    # create intial dictionary which maps each vocabulary word to a count of 0\n",
    "    word_count_dict = dict.fromkeys(vocab,0)\n",
    "    print(word_count_dict)\n",
    "    # for each word in the doc, increament its count\n",
    "    for word in doc:\n",
    "        word_count_dict[word] +=1\n",
    "    # now initialize the vector , set itx index equal to its count\n",
    "    bag = [0]*len(vocab)\n",
    "    # for every vocab word, set its index equal to its count\n",
    "    for i, word in enumerate(vocab):\n",
    "        bag[i] = word_count_dict[word]\n",
    "    return bag"
   ]
  },
  {
   "cell_type": "code",
   "execution_count": 4,
   "metadata": {},
   "outputs": [],
   "source": [
    "import re\n",
    "vocab = ['a', 'am', 'and', 'anywhere', 'are', 'be', 'boat', 'box', 'car',\\\n",
    "        'could', 'dark', 'do', 'eat', 'eggs', 'fox', 'goat', 'good', 'green',\\\n",
    "        'ham', 'here', 'house', 'i', 'if', 'in', 'let', 'like', 'may', 'me',\\\n",
    "        'mouse', 'not', 'on', 'or', 'rain', 'sam', 'say', 'see', 'so', 'thank',\\\n",
    "        'that', 'the', 'them', 'there', 'they', 'train', 'tree', 'try', 'will',\\\n",
    "        'with', 'would', 'you']\n",
    "\n",
    "# Define the document\n",
    "doc = (\"I would not like them here or there.\\n\"\n",
    "      \"I would not like them anywhere.\\n\"\n",
    "      \"I do not like green eggs and ham.\\n\"\n",
    "      \"I do not like them, Sam-I-am.\")\n",
    "\n",
    "# convert to lower case\n",
    "doc = doc.lower()\n"
   ]
  },
  {
   "cell_type": "code",
   "execution_count": 5,
   "metadata": {},
   "outputs": [
    {
     "name": "stdout",
     "output_type": "stream",
     "text": [
      "['i', 'would', 'not', 'like', 'them', 'here', 'or', 'there', 'i', 'would', 'not', 'like', 'them', 'anywhere', 'i', 'do', 'not', 'like', 'green', 'eggs', 'and', 'ham', 'i', 'do', 'not', 'like', 'them', 'sam', 'i', 'am', '']\n"
     ]
    }
   ],
   "source": [
    "doc1 = re.split(r'\\W+', doc)\n",
    "print(doc1)"
   ]
  },
  {
   "cell_type": "code",
   "execution_count": 15,
   "metadata": {},
   "outputs": [],
   "source": [
    "# drop empty estrings\n",
    "\n",
    "doc1  = [s for s in doc1 if len(s)>0]"
   ]
  },
  {
   "cell_type": "code",
   "execution_count": 18,
   "metadata": {},
   "outputs": [
    {
     "name": "stdout",
     "output_type": "stream",
     "text": [
      "{'a': 0, 'am': 0, 'and': 0, 'anywhere': 0, 'are': 0, 'be': 0, 'boat': 0, 'box': 0, 'car': 0, 'could': 0, 'dark': 0, 'do': 0, 'eat': 0, 'eggs': 0, 'fox': 0, 'goat': 0, 'good': 0, 'green': 0, 'ham': 0, 'here': 0, 'house': 0, 'i': 0, 'if': 0, 'in': 0, 'let': 0, 'like': 0, 'may': 0, 'me': 0, 'mouse': 0, 'not': 0, 'on': 0, 'or': 0, 'rain': 0, 'sam': 0, 'say': 0, 'see': 0, 'so': 0, 'thank': 0, 'that': 0, 'the': 0, 'them': 0, 'there': 0, 'they': 0, 'train': 0, 'tree': 0, 'try': 0, 'will': 0, 'with': 0, 'would': 0, 'you': 0}\n"
     ]
    },
    {
     "data": {
      "text/plain": [
       "[0,\n",
       " 1,\n",
       " 1,\n",
       " 1,\n",
       " 0,\n",
       " 0,\n",
       " 0,\n",
       " 0,\n",
       " 0,\n",
       " 0,\n",
       " 0,\n",
       " 2,\n",
       " 0,\n",
       " 1,\n",
       " 0,\n",
       " 0,\n",
       " 0,\n",
       " 1,\n",
       " 1,\n",
       " 1,\n",
       " 0,\n",
       " 5,\n",
       " 0,\n",
       " 0,\n",
       " 0,\n",
       " 4,\n",
       " 0,\n",
       " 0,\n",
       " 0,\n",
       " 4,\n",
       " 0,\n",
       " 1,\n",
       " 0,\n",
       " 1,\n",
       " 0,\n",
       " 0,\n",
       " 0,\n",
       " 0,\n",
       " 0,\n",
       " 0,\n",
       " 3,\n",
       " 1,\n",
       " 0,\n",
       " 0,\n",
       " 0,\n",
       " 0,\n",
       " 0,\n",
       " 0,\n",
       " 2,\n",
       " 0]"
      ]
     },
     "execution_count": 18,
     "metadata": {},
     "output_type": "execute_result"
    }
   ],
   "source": [
    "get_bag_of_words(doc1,vocab)"
   ]
  },
  {
   "cell_type": "code",
   "execution_count": null,
   "metadata": {},
   "outputs": [],
   "source": []
  }
 ],
 "metadata": {
  "kernelspec": {
   "display_name": "base",
   "language": "python",
   "name": "python3"
  },
  "language_info": {
   "codemirror_mode": {
    "name": "ipython",
    "version": 3
   },
   "file_extension": ".py",
   "mimetype": "text/x-python",
   "name": "python",
   "nbconvert_exporter": "python",
   "pygments_lexer": "ipython3",
   "version": "3.12.7"
  }
 },
 "nbformat": 4,
 "nbformat_minor": 2
}
