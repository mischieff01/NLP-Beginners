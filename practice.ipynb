{
 "cells": [
  {
   "cell_type": "code",
   "execution_count": 1,
   "metadata": {},
   "outputs": [],
   "source": [
    "import pandas as pd\n",
    "import nltk \n",
    "from nltk.stem import PorterStemmer\n",
    "from nltk.corpus import stopwords"
   ]
  },
  {
   "cell_type": "code",
   "execution_count": 10,
   "metadata": {},
   "outputs": [],
   "source": [
    "from nltk.stem import WordNetLemmatizer"
   ]
  },
  {
   "cell_type": "code",
   "execution_count": 2,
   "metadata": {},
   "outputs": [
    {
     "name": "stderr",
     "output_type": "stream",
     "text": [
      "[nltk_data] Downloading package punkt to C:\\Users\\akkan/nltk_data...\n",
      "[nltk_data]   Package punkt is already up-to-date!\n"
     ]
    },
    {
     "data": {
      "text/plain": [
       "True"
      ]
     },
     "execution_count": 2,
     "metadata": {},
     "output_type": "execute_result"
    }
   ],
   "source": [
    "nltk.download('punkt')"
   ]
  },
  {
   "cell_type": "code",
   "execution_count": 3,
   "metadata": {},
   "outputs": [],
   "source": [
    "para = \"\"\"\n",
    "Elon Reeve Musk (/ˈiːlɒn mʌsk/; born June 28, 1971) is a businessman and \n",
    "political figure known for his key roles in the automotive \n",
    "company Tesla, Inc. and the space company SpaceX. Since January 2025, \n",
    "he is serving as Administrator of the Department of Government Efficiency, under the second Donald Trump presidential administration. He is also known for his ownership of X Corp. (the company that operates the social media platform X, formerly Twitter), and his role in the founding of the Boring Company, xAI, Neuralink, and OpenAI. Musk is the wealthiest individual in the world; as of January 2025, Forbes estimates his net worth to be US$427 billion.\n",
    "A member of the wealthy South African Musk family, Musk was born in \n",
    "Pretoria and briefly attended the University of Pretoria. At the age of \n",
    "18 he immigrated to Canada, acquiring its citizenship through his \n",
    "Canadian-born mother, Maye. Two years later, he matriculated at \n",
    "Queen's University in Canada. Musk later transferred to the University \n",
    "of Pennsylvania and received bachelor's degrees in economics and physics. \n",
    "He moved to California in 1995 to attend Stanford University but never \n",
    "enrolled in classes, and with his brother Kimbal co-founded the online \n",
    "city guide software company Zip2. The startup was acquired by Compaq for \n",
    "$307 million in 1999. That same year, Musk co-founded X.com, a direct \n",
    "bank. X.com merged with Confinity in 2000 to form PayPal. In 2002, \n",
    "Musk acquired United States citizenship, and that October eBay acquired \n",
    "PayPal for $1.5 billion. Using $100 million of the money he made from the \n",
    "sale of PayPal, Musk founded SpaceX, a spaceflight services company, in 2002.\n",
    "\"\"\""
   ]
  },
  {
   "cell_type": "code",
   "execution_count": 6,
   "metadata": {},
   "outputs": [],
   "source": [
    "# tokenization \n",
    "# sentence tokenization\n",
    "sentences = nltk.sent_tokenize(para)"
   ]
  },
  {
   "cell_type": "code",
   "execution_count": 7,
   "metadata": {},
   "outputs": [
    {
     "data": {
      "text/plain": [
       "['\\nElon Reeve Musk (/ˈiːlɒn mʌsk/; born June 28, 1971) is a businessman and \\npolitical figure known for his key roles in the automotive \\ncompany Tesla, Inc. and the space company SpaceX.',\n",
       " 'Since January 2025, \\nhe is serving as Administrator of the Department of Government Efficiency, under the second Donald Trump presidential administration.',\n",
       " 'He is also known for his ownership of X Corp. (the company that operates the social media platform X, formerly Twitter), and his role in the founding of the Boring Company, xAI, Neuralink, and OpenAI.',\n",
       " 'Musk is the wealthiest individual in the world; as of January 2025, Forbes estimates his net worth to be US$427 billion.',\n",
       " 'A member of the wealthy South African Musk family, Musk was born in \\nPretoria and briefly attended the University of Pretoria.',\n",
       " 'At the age of \\n18 he immigrated to Canada, acquiring its citizenship through his \\nCanadian-born mother, Maye.',\n",
       " \"Two years later, he matriculated at \\nQueen's University in Canada.\",\n",
       " \"Musk later transferred to the University \\nof Pennsylvania and received bachelor's degrees in economics and physics.\",\n",
       " 'He moved to California in 1995 to attend Stanford University but never \\nenrolled in classes, and with his brother Kimbal co-founded the online \\ncity guide software company Zip2.',\n",
       " 'The startup was acquired by Compaq for \\n$307 million in 1999.',\n",
       " 'That same year, Musk co-founded X.com, a direct \\nbank.',\n",
       " 'X.com merged with Confinity in 2000 to form PayPal.',\n",
       " 'In 2002, \\nMusk acquired United States citizenship, and that October eBay acquired \\nPayPal for $1.5 billion.',\n",
       " 'Using $100 million of the money he made from the \\nsale of PayPal, Musk founded SpaceX, a spaceflight services company, in 2002.']"
      ]
     },
     "execution_count": 7,
     "metadata": {},
     "output_type": "execute_result"
    }
   ],
   "source": [
    "sentences"
   ]
  },
  {
   "cell_type": "code",
   "execution_count": 8,
   "metadata": {},
   "outputs": [],
   "source": [
    "# stemming\n",
    "stemmer = PorterStemmer()"
   ]
  },
  {
   "cell_type": "code",
   "execution_count": 9,
   "metadata": {},
   "outputs": [
    {
     "data": {
      "text/plain": [
       "'go'"
      ]
     },
     "execution_count": 9,
     "metadata": {},
     "output_type": "execute_result"
    }
   ],
   "source": [
    "stemmer.stem('going')"
   ]
  },
  {
   "cell_type": "code",
   "execution_count": 11,
   "metadata": {},
   "outputs": [
    {
     "data": {
      "text/plain": [
       "'histori'"
      ]
     },
     "execution_count": 11,
     "metadata": {},
     "output_type": "execute_result"
    }
   ],
   "source": [
    "stemmer.stem(\"history\")"
   ]
  },
  {
   "cell_type": "code",
   "execution_count": 12,
   "metadata": {},
   "outputs": [],
   "source": [
    "lemmatizer = WordNetLemmatizer()"
   ]
  },
  {
   "cell_type": "code",
   "execution_count": 13,
   "metadata": {},
   "outputs": [
    {
     "data": {
      "text/plain": [
       "'history'"
      ]
     },
     "execution_count": 13,
     "metadata": {},
     "output_type": "execute_result"
    }
   ],
   "source": [
    "lemmatizer.lemmatize('history')"
   ]
  },
  {
   "cell_type": "code",
   "execution_count": 14,
   "metadata": {},
   "outputs": [
    {
     "data": {
      "text/plain": [
       "14"
      ]
     },
     "execution_count": 14,
     "metadata": {},
     "output_type": "execute_result"
    }
   ],
   "source": [
    "len(sentences)"
   ]
  },
  {
   "cell_type": "code",
   "execution_count": 15,
   "metadata": {},
   "outputs": [],
   "source": [
    "# clean para\n",
    "import re\n",
    "corpus = []\n",
    "for i in range(len(sentences)):\n",
    "   review =  re.sub('[^a-zA-Z]',' ',sentences[i])\n",
    "   review = review.lower()\n",
    "   corpus.append(review)"
   ]
  },
  {
   "cell_type": "code",
   "execution_count": 16,
   "metadata": {},
   "outputs": [
    {
     "data": {
      "text/plain": [
       "[' elon reeve musk    i l n m sk   born june           is a businessman and  political figure known for his key roles in the automotive  company tesla  inc  and the space company spacex ',\n",
       " 'since january        he is serving as administrator of the department of government efficiency  under the second donald trump presidential administration ',\n",
       " 'he is also known for his ownership of x corp   the company that operates the social media platform x  formerly twitter   and his role in the founding of the boring company  xai  neuralink  and openai ',\n",
       " 'musk is the wealthiest individual in the world  as of january       forbes estimates his net worth to be us     billion ',\n",
       " 'a member of the wealthy south african musk family  musk was born in  pretoria and briefly attended the university of pretoria ',\n",
       " 'at the age of     he immigrated to canada  acquiring its citizenship through his  canadian born mother  maye ',\n",
       " 'two years later  he matriculated at  queen s university in canada ',\n",
       " 'musk later transferred to the university  of pennsylvania and received bachelor s degrees in economics and physics ',\n",
       " 'he moved to california in      to attend stanford university but never  enrolled in classes  and with his brother kimbal co founded the online  city guide software company zip  ',\n",
       " 'the startup was acquired by compaq for       million in      ',\n",
       " 'that same year  musk co founded x com  a direct  bank ',\n",
       " 'x com merged with confinity in      to form paypal ',\n",
       " 'in        musk acquired united states citizenship  and that october ebay acquired  paypal for      billion ',\n",
       " 'using      million of the money he made from the  sale of paypal  musk founded spacex  a spaceflight services company  in      ']"
      ]
     },
     "execution_count": 16,
     "metadata": {},
     "output_type": "execute_result"
    }
   ],
   "source": [
    "corpus"
   ]
  },
  {
   "cell_type": "code",
   "execution_count": 18,
   "metadata": {},
   "outputs": [
    {
     "name": "stdout",
     "output_type": "stream",
     "text": [
      " elon reeve musk    i l n m sk   born june           is a businessman and  political figure known for his key roles in the automotive  company tesla  inc  and the space company spacex \n",
      "--------\n",
      "since january        he is serving as administrator of the department of government efficiency  under the second donald trump presidential administration \n",
      "--------\n",
      "he is also known for his ownership of x corp   the company that operates the social media platform x  formerly twitter   and his role in the founding of the boring company  xai  neuralink  and openai \n",
      "--------\n",
      "musk is the wealthiest individual in the world  as of january       forbes estimates his net worth to be us     billion \n",
      "--------\n",
      "a member of the wealthy south african musk family  musk was born in  pretoria and briefly attended the university of pretoria \n",
      "--------\n",
      "at the age of     he immigrated to canada  acquiring its citizenship through his  canadian born mother  maye \n",
      "--------\n",
      "two years later  he matriculated at  queen s university in canada \n",
      "--------\n",
      "musk later transferred to the university  of pennsylvania and received bachelor s degrees in economics and physics \n",
      "--------\n",
      "he moved to california in      to attend stanford university but never  enrolled in classes  and with his brother kimbal co founded the online  city guide software company zip  \n",
      "--------\n",
      "the startup was acquired by compaq for       million in      \n",
      "--------\n",
      "that same year  musk co founded x com  a direct  bank \n",
      "--------\n",
      "x com merged with confinity in      to form paypal \n",
      "--------\n",
      "in        musk acquired united states citizenship  and that october ebay acquired  paypal for      billion \n",
      "--------\n",
      "using      million of the money he made from the  sale of paypal  musk founded spacex  a spaceflight services company  in      \n",
      "--------\n"
     ]
    }
   ],
   "source": [
    "## Stemming\n",
    "for i in corpus:\n",
    "    print(i)\n",
    "    print(\"--------\")"
   ]
  },
  {
   "cell_type": "code",
   "execution_count": 20,
   "metadata": {},
   "outputs": [
    {
     "name": "stdout",
     "output_type": "stream",
     "text": [
      "elon\n",
      "reev\n",
      "musk\n",
      "l\n",
      "n\n",
      "sk\n",
      "born\n",
      "june\n",
      "businessman\n",
      "polit\n",
      "figur\n",
      "known\n",
      "key\n",
      "role\n",
      "automot\n",
      "compani\n",
      "tesla\n",
      "inc\n",
      "space\n",
      "compani\n",
      "spacex\n",
      "sinc\n",
      "januari\n",
      "serv\n",
      "administr\n",
      "depart\n",
      "govern\n",
      "effici\n",
      "second\n",
      "donald\n",
      "trump\n",
      "presidenti\n",
      "administr\n",
      "also\n",
      "known\n",
      "ownership\n",
      "x\n",
      "corp\n",
      "compani\n",
      "oper\n",
      "social\n",
      "media\n",
      "platform\n",
      "x\n",
      "formerli\n",
      "twitter\n",
      "role\n",
      "found\n",
      "bore\n",
      "compani\n",
      "xai\n",
      "neuralink\n",
      "openai\n",
      "musk\n",
      "wealthiest\n",
      "individu\n",
      "world\n",
      "januari\n",
      "forb\n",
      "estim\n",
      "net\n",
      "worth\n",
      "us\n",
      "billion\n",
      "member\n",
      "wealthi\n",
      "south\n",
      "african\n",
      "musk\n",
      "famili\n",
      "musk\n",
      "born\n",
      "pretoria\n",
      "briefli\n",
      "attend\n",
      "univers\n",
      "pretoria\n",
      "age\n",
      "immigr\n",
      "canada\n",
      "acquir\n",
      "citizenship\n",
      "canadian\n",
      "born\n",
      "mother\n",
      "may\n",
      "two\n",
      "year\n",
      "later\n",
      "matricul\n",
      "queen\n",
      "univers\n",
      "canada\n",
      "musk\n",
      "later\n",
      "transfer\n",
      "univers\n",
      "pennsylvania\n",
      "receiv\n",
      "bachelor\n",
      "degre\n",
      "econom\n",
      "physic\n",
      "move\n",
      "california\n",
      "attend\n",
      "stanford\n",
      "univers\n",
      "never\n",
      "enrol\n",
      "class\n",
      "brother\n",
      "kimbal\n",
      "co\n",
      "found\n",
      "onlin\n",
      "citi\n",
      "guid\n",
      "softwar\n",
      "compani\n",
      "zip\n",
      "startup\n",
      "acquir\n",
      "compaq\n",
      "million\n",
      "year\n",
      "musk\n",
      "co\n",
      "found\n",
      "x\n",
      "com\n",
      "direct\n",
      "bank\n",
      "x\n",
      "com\n",
      "merg\n",
      "confin\n",
      "form\n",
      "paypal\n",
      "musk\n",
      "acquir\n",
      "unit\n",
      "state\n",
      "citizenship\n",
      "octob\n",
      "ebay\n",
      "acquir\n",
      "paypal\n",
      "billion\n",
      "use\n",
      "million\n",
      "money\n",
      "made\n",
      "sale\n",
      "paypal\n",
      "musk\n",
      "found\n",
      "spacex\n",
      "spaceflight\n",
      "servic\n",
      "compani\n"
     ]
    }
   ],
   "source": [
    "# stemmed\n",
    "for i in corpus:\n",
    "    words = nltk.word_tokenize(i)\n",
    "    for word in words:\n",
    "        if word not in set(stopwords.words('english')):\n",
    "            print(stemmer.stem(word))"
   ]
  },
  {
   "cell_type": "code",
   "execution_count": 25,
   "metadata": {},
   "outputs": [
    {
     "name": "stdout",
     "output_type": "stream",
     "text": [
      "['elon']\n",
      "['elon', 'reeve']\n",
      "['elon', 'reeve', 'musk']\n",
      "['elon', 'reeve', 'musk', 'l']\n",
      "['elon', 'reeve', 'musk', 'l', 'n']\n",
      "['elon', 'reeve', 'musk', 'l', 'n', 'sk']\n",
      "['elon', 'reeve', 'musk', 'l', 'n', 'sk', 'born']\n",
      "['elon', 'reeve', 'musk', 'l', 'n', 'sk', 'born', 'june']\n",
      "['elon', 'reeve', 'musk', 'l', 'n', 'sk', 'born', 'june', 'businessman']\n",
      "['elon', 'reeve', 'musk', 'l', 'n', 'sk', 'born', 'june', 'businessman', 'political']\n",
      "['elon', 'reeve', 'musk', 'l', 'n', 'sk', 'born', 'june', 'businessman', 'political', 'figure']\n",
      "['elon', 'reeve', 'musk', 'l', 'n', 'sk', 'born', 'june', 'businessman', 'political', 'figure', 'known']\n",
      "['elon', 'reeve', 'musk', 'l', 'n', 'sk', 'born', 'june', 'businessman', 'political', 'figure', 'known', 'key']\n",
      "['elon', 'reeve', 'musk', 'l', 'n', 'sk', 'born', 'june', 'businessman', 'political', 'figure', 'known', 'key', 'role']\n",
      "['elon', 'reeve', 'musk', 'l', 'n', 'sk', 'born', 'june', 'businessman', 'political', 'figure', 'known', 'key', 'role', 'automotive']\n",
      "['elon', 'reeve', 'musk', 'l', 'n', 'sk', 'born', 'june', 'businessman', 'political', 'figure', 'known', 'key', 'role', 'automotive', 'company']\n",
      "['elon', 'reeve', 'musk', 'l', 'n', 'sk', 'born', 'june', 'businessman', 'political', 'figure', 'known', 'key', 'role', 'automotive', 'company', 'tesla']\n",
      "['elon', 'reeve', 'musk', 'l', 'n', 'sk', 'born', 'june', 'businessman', 'political', 'figure', 'known', 'key', 'role', 'automotive', 'company', 'tesla', 'inc']\n",
      "['elon', 'reeve', 'musk', 'l', 'n', 'sk', 'born', 'june', 'businessman', 'political', 'figure', 'known', 'key', 'role', 'automotive', 'company', 'tesla', 'inc', 'space']\n",
      "['elon', 'reeve', 'musk', 'l', 'n', 'sk', 'born', 'june', 'businessman', 'political', 'figure', 'known', 'key', 'role', 'automotive', 'company', 'tesla', 'inc', 'space', 'company']\n",
      "['elon', 'reeve', 'musk', 'l', 'n', 'sk', 'born', 'june', 'businessman', 'political', 'figure', 'known', 'key', 'role', 'automotive', 'company', 'tesla', 'inc', 'space', 'company', 'spacex']\n",
      "['elon', 'reeve', 'musk', 'l', 'n', 'sk', 'born', 'june', 'businessman', 'political', 'figure', 'known', 'key', 'role', 'automotive', 'company', 'tesla', 'inc', 'space', 'company', 'spacex', 'since']\n",
      "['elon', 'reeve', 'musk', 'l', 'n', 'sk', 'born', 'june', 'businessman', 'political', 'figure', 'known', 'key', 'role', 'automotive', 'company', 'tesla', 'inc', 'space', 'company', 'spacex', 'since', 'january']\n",
      "['elon', 'reeve', 'musk', 'l', 'n', 'sk', 'born', 'june', 'businessman', 'political', 'figure', 'known', 'key', 'role', 'automotive', 'company', 'tesla', 'inc', 'space', 'company', 'spacex', 'since', 'january', 'serving']\n",
      "['elon', 'reeve', 'musk', 'l', 'n', 'sk', 'born', 'june', 'businessman', 'political', 'figure', 'known', 'key', 'role', 'automotive', 'company', 'tesla', 'inc', 'space', 'company', 'spacex', 'since', 'january', 'serving', 'administrator']\n",
      "['elon', 'reeve', 'musk', 'l', 'n', 'sk', 'born', 'june', 'businessman', 'political', 'figure', 'known', 'key', 'role', 'automotive', 'company', 'tesla', 'inc', 'space', 'company', 'spacex', 'since', 'january', 'serving', 'administrator', 'department']\n",
      "['elon', 'reeve', 'musk', 'l', 'n', 'sk', 'born', 'june', 'businessman', 'political', 'figure', 'known', 'key', 'role', 'automotive', 'company', 'tesla', 'inc', 'space', 'company', 'spacex', 'since', 'january', 'serving', 'administrator', 'department', 'government']\n",
      "['elon', 'reeve', 'musk', 'l', 'n', 'sk', 'born', 'june', 'businessman', 'political', 'figure', 'known', 'key', 'role', 'automotive', 'company', 'tesla', 'inc', 'space', 'company', 'spacex', 'since', 'january', 'serving', 'administrator', 'department', 'government', 'efficiency']\n",
      "['elon', 'reeve', 'musk', 'l', 'n', 'sk', 'born', 'june', 'businessman', 'political', 'figure', 'known', 'key', 'role', 'automotive', 'company', 'tesla', 'inc', 'space', 'company', 'spacex', 'since', 'january', 'serving', 'administrator', 'department', 'government', 'efficiency', 'second']\n",
      "['elon', 'reeve', 'musk', 'l', 'n', 'sk', 'born', 'june', 'businessman', 'political', 'figure', 'known', 'key', 'role', 'automotive', 'company', 'tesla', 'inc', 'space', 'company', 'spacex', 'since', 'january', 'serving', 'administrator', 'department', 'government', 'efficiency', 'second', 'donald']\n",
      "['elon', 'reeve', 'musk', 'l', 'n', 'sk', 'born', 'june', 'businessman', 'political', 'figure', 'known', 'key', 'role', 'automotive', 'company', 'tesla', 'inc', 'space', 'company', 'spacex', 'since', 'january', 'serving', 'administrator', 'department', 'government', 'efficiency', 'second', 'donald', 'trump']\n",
      "['elon', 'reeve', 'musk', 'l', 'n', 'sk', 'born', 'june', 'businessman', 'political', 'figure', 'known', 'key', 'role', 'automotive', 'company', 'tesla', 'inc', 'space', 'company', 'spacex', 'since', 'january', 'serving', 'administrator', 'department', 'government', 'efficiency', 'second', 'donald', 'trump', 'presidential']\n",
      "['elon', 'reeve', 'musk', 'l', 'n', 'sk', 'born', 'june', 'businessman', 'political', 'figure', 'known', 'key', 'role', 'automotive', 'company', 'tesla', 'inc', 'space', 'company', 'spacex', 'since', 'january', 'serving', 'administrator', 'department', 'government', 'efficiency', 'second', 'donald', 'trump', 'presidential', 'administration']\n",
      "['elon', 'reeve', 'musk', 'l', 'n', 'sk', 'born', 'june', 'businessman', 'political', 'figure', 'known', 'key', 'role', 'automotive', 'company', 'tesla', 'inc', 'space', 'company', 'spacex', 'since', 'january', 'serving', 'administrator', 'department', 'government', 'efficiency', 'second', 'donald', 'trump', 'presidential', 'administration', 'also']\n",
      "['elon', 'reeve', 'musk', 'l', 'n', 'sk', 'born', 'june', 'businessman', 'political', 'figure', 'known', 'key', 'role', 'automotive', 'company', 'tesla', 'inc', 'space', 'company', 'spacex', 'since', 'january', 'serving', 'administrator', 'department', 'government', 'efficiency', 'second', 'donald', 'trump', 'presidential', 'administration', 'also', 'known']\n",
      "['elon', 'reeve', 'musk', 'l', 'n', 'sk', 'born', 'june', 'businessman', 'political', 'figure', 'known', 'key', 'role', 'automotive', 'company', 'tesla', 'inc', 'space', 'company', 'spacex', 'since', 'january', 'serving', 'administrator', 'department', 'government', 'efficiency', 'second', 'donald', 'trump', 'presidential', 'administration', 'also', 'known', 'ownership']\n",
      "['elon', 'reeve', 'musk', 'l', 'n', 'sk', 'born', 'june', 'businessman', 'political', 'figure', 'known', 'key', 'role', 'automotive', 'company', 'tesla', 'inc', 'space', 'company', 'spacex', 'since', 'january', 'serving', 'administrator', 'department', 'government', 'efficiency', 'second', 'donald', 'trump', 'presidential', 'administration', 'also', 'known', 'ownership', 'x']\n",
      "['elon', 'reeve', 'musk', 'l', 'n', 'sk', 'born', 'june', 'businessman', 'political', 'figure', 'known', 'key', 'role', 'automotive', 'company', 'tesla', 'inc', 'space', 'company', 'spacex', 'since', 'january', 'serving', 'administrator', 'department', 'government', 'efficiency', 'second', 'donald', 'trump', 'presidential', 'administration', 'also', 'known', 'ownership', 'x', 'corp']\n",
      "['elon', 'reeve', 'musk', 'l', 'n', 'sk', 'born', 'june', 'businessman', 'political', 'figure', 'known', 'key', 'role', 'automotive', 'company', 'tesla', 'inc', 'space', 'company', 'spacex', 'since', 'january', 'serving', 'administrator', 'department', 'government', 'efficiency', 'second', 'donald', 'trump', 'presidential', 'administration', 'also', 'known', 'ownership', 'x', 'corp', 'company']\n",
      "['elon', 'reeve', 'musk', 'l', 'n', 'sk', 'born', 'june', 'businessman', 'political', 'figure', 'known', 'key', 'role', 'automotive', 'company', 'tesla', 'inc', 'space', 'company', 'spacex', 'since', 'january', 'serving', 'administrator', 'department', 'government', 'efficiency', 'second', 'donald', 'trump', 'presidential', 'administration', 'also', 'known', 'ownership', 'x', 'corp', 'company', 'operates']\n",
      "['elon', 'reeve', 'musk', 'l', 'n', 'sk', 'born', 'june', 'businessman', 'political', 'figure', 'known', 'key', 'role', 'automotive', 'company', 'tesla', 'inc', 'space', 'company', 'spacex', 'since', 'january', 'serving', 'administrator', 'department', 'government', 'efficiency', 'second', 'donald', 'trump', 'presidential', 'administration', 'also', 'known', 'ownership', 'x', 'corp', 'company', 'operates', 'social']\n",
      "['elon', 'reeve', 'musk', 'l', 'n', 'sk', 'born', 'june', 'businessman', 'political', 'figure', 'known', 'key', 'role', 'automotive', 'company', 'tesla', 'inc', 'space', 'company', 'spacex', 'since', 'january', 'serving', 'administrator', 'department', 'government', 'efficiency', 'second', 'donald', 'trump', 'presidential', 'administration', 'also', 'known', 'ownership', 'x', 'corp', 'company', 'operates', 'social', 'medium']\n",
      "['elon', 'reeve', 'musk', 'l', 'n', 'sk', 'born', 'june', 'businessman', 'political', 'figure', 'known', 'key', 'role', 'automotive', 'company', 'tesla', 'inc', 'space', 'company', 'spacex', 'since', 'january', 'serving', 'administrator', 'department', 'government', 'efficiency', 'second', 'donald', 'trump', 'presidential', 'administration', 'also', 'known', 'ownership', 'x', 'corp', 'company', 'operates', 'social', 'medium', 'platform']\n",
      "['elon', 'reeve', 'musk', 'l', 'n', 'sk', 'born', 'june', 'businessman', 'political', 'figure', 'known', 'key', 'role', 'automotive', 'company', 'tesla', 'inc', 'space', 'company', 'spacex', 'since', 'january', 'serving', 'administrator', 'department', 'government', 'efficiency', 'second', 'donald', 'trump', 'presidential', 'administration', 'also', 'known', 'ownership', 'x', 'corp', 'company', 'operates', 'social', 'medium', 'platform', 'x']\n",
      "['elon', 'reeve', 'musk', 'l', 'n', 'sk', 'born', 'june', 'businessman', 'political', 'figure', 'known', 'key', 'role', 'automotive', 'company', 'tesla', 'inc', 'space', 'company', 'spacex', 'since', 'january', 'serving', 'administrator', 'department', 'government', 'efficiency', 'second', 'donald', 'trump', 'presidential', 'administration', 'also', 'known', 'ownership', 'x', 'corp', 'company', 'operates', 'social', 'medium', 'platform', 'x', 'formerly']\n",
      "['elon', 'reeve', 'musk', 'l', 'n', 'sk', 'born', 'june', 'businessman', 'political', 'figure', 'known', 'key', 'role', 'automotive', 'company', 'tesla', 'inc', 'space', 'company', 'spacex', 'since', 'january', 'serving', 'administrator', 'department', 'government', 'efficiency', 'second', 'donald', 'trump', 'presidential', 'administration', 'also', 'known', 'ownership', 'x', 'corp', 'company', 'operates', 'social', 'medium', 'platform', 'x', 'formerly', 'twitter']\n",
      "['elon', 'reeve', 'musk', 'l', 'n', 'sk', 'born', 'june', 'businessman', 'political', 'figure', 'known', 'key', 'role', 'automotive', 'company', 'tesla', 'inc', 'space', 'company', 'spacex', 'since', 'january', 'serving', 'administrator', 'department', 'government', 'efficiency', 'second', 'donald', 'trump', 'presidential', 'administration', 'also', 'known', 'ownership', 'x', 'corp', 'company', 'operates', 'social', 'medium', 'platform', 'x', 'formerly', 'twitter', 'role']\n",
      "['elon', 'reeve', 'musk', 'l', 'n', 'sk', 'born', 'june', 'businessman', 'political', 'figure', 'known', 'key', 'role', 'automotive', 'company', 'tesla', 'inc', 'space', 'company', 'spacex', 'since', 'january', 'serving', 'administrator', 'department', 'government', 'efficiency', 'second', 'donald', 'trump', 'presidential', 'administration', 'also', 'known', 'ownership', 'x', 'corp', 'company', 'operates', 'social', 'medium', 'platform', 'x', 'formerly', 'twitter', 'role', 'founding']\n",
      "['elon', 'reeve', 'musk', 'l', 'n', 'sk', 'born', 'june', 'businessman', 'political', 'figure', 'known', 'key', 'role', 'automotive', 'company', 'tesla', 'inc', 'space', 'company', 'spacex', 'since', 'january', 'serving', 'administrator', 'department', 'government', 'efficiency', 'second', 'donald', 'trump', 'presidential', 'administration', 'also', 'known', 'ownership', 'x', 'corp', 'company', 'operates', 'social', 'medium', 'platform', 'x', 'formerly', 'twitter', 'role', 'founding', 'boring']\n",
      "['elon', 'reeve', 'musk', 'l', 'n', 'sk', 'born', 'june', 'businessman', 'political', 'figure', 'known', 'key', 'role', 'automotive', 'company', 'tesla', 'inc', 'space', 'company', 'spacex', 'since', 'january', 'serving', 'administrator', 'department', 'government', 'efficiency', 'second', 'donald', 'trump', 'presidential', 'administration', 'also', 'known', 'ownership', 'x', 'corp', 'company', 'operates', 'social', 'medium', 'platform', 'x', 'formerly', 'twitter', 'role', 'founding', 'boring', 'company']\n",
      "['elon', 'reeve', 'musk', 'l', 'n', 'sk', 'born', 'june', 'businessman', 'political', 'figure', 'known', 'key', 'role', 'automotive', 'company', 'tesla', 'inc', 'space', 'company', 'spacex', 'since', 'january', 'serving', 'administrator', 'department', 'government', 'efficiency', 'second', 'donald', 'trump', 'presidential', 'administration', 'also', 'known', 'ownership', 'x', 'corp', 'company', 'operates', 'social', 'medium', 'platform', 'x', 'formerly', 'twitter', 'role', 'founding', 'boring', 'company', 'xai']\n",
      "['elon', 'reeve', 'musk', 'l', 'n', 'sk', 'born', 'june', 'businessman', 'political', 'figure', 'known', 'key', 'role', 'automotive', 'company', 'tesla', 'inc', 'space', 'company', 'spacex', 'since', 'january', 'serving', 'administrator', 'department', 'government', 'efficiency', 'second', 'donald', 'trump', 'presidential', 'administration', 'also', 'known', 'ownership', 'x', 'corp', 'company', 'operates', 'social', 'medium', 'platform', 'x', 'formerly', 'twitter', 'role', 'founding', 'boring', 'company', 'xai', 'neuralink']\n",
      "['elon', 'reeve', 'musk', 'l', 'n', 'sk', 'born', 'june', 'businessman', 'political', 'figure', 'known', 'key', 'role', 'automotive', 'company', 'tesla', 'inc', 'space', 'company', 'spacex', 'since', 'january', 'serving', 'administrator', 'department', 'government', 'efficiency', 'second', 'donald', 'trump', 'presidential', 'administration', 'also', 'known', 'ownership', 'x', 'corp', 'company', 'operates', 'social', 'medium', 'platform', 'x', 'formerly', 'twitter', 'role', 'founding', 'boring', 'company', 'xai', 'neuralink', 'openai']\n",
      "['elon', 'reeve', 'musk', 'l', 'n', 'sk', 'born', 'june', 'businessman', 'political', 'figure', 'known', 'key', 'role', 'automotive', 'company', 'tesla', 'inc', 'space', 'company', 'spacex', 'since', 'january', 'serving', 'administrator', 'department', 'government', 'efficiency', 'second', 'donald', 'trump', 'presidential', 'administration', 'also', 'known', 'ownership', 'x', 'corp', 'company', 'operates', 'social', 'medium', 'platform', 'x', 'formerly', 'twitter', 'role', 'founding', 'boring', 'company', 'xai', 'neuralink', 'openai', 'musk']\n",
      "['elon', 'reeve', 'musk', 'l', 'n', 'sk', 'born', 'june', 'businessman', 'political', 'figure', 'known', 'key', 'role', 'automotive', 'company', 'tesla', 'inc', 'space', 'company', 'spacex', 'since', 'january', 'serving', 'administrator', 'department', 'government', 'efficiency', 'second', 'donald', 'trump', 'presidential', 'administration', 'also', 'known', 'ownership', 'x', 'corp', 'company', 'operates', 'social', 'medium', 'platform', 'x', 'formerly', 'twitter', 'role', 'founding', 'boring', 'company', 'xai', 'neuralink', 'openai', 'musk', 'wealthiest']\n",
      "['elon', 'reeve', 'musk', 'l', 'n', 'sk', 'born', 'june', 'businessman', 'political', 'figure', 'known', 'key', 'role', 'automotive', 'company', 'tesla', 'inc', 'space', 'company', 'spacex', 'since', 'january', 'serving', 'administrator', 'department', 'government', 'efficiency', 'second', 'donald', 'trump', 'presidential', 'administration', 'also', 'known', 'ownership', 'x', 'corp', 'company', 'operates', 'social', 'medium', 'platform', 'x', 'formerly', 'twitter', 'role', 'founding', 'boring', 'company', 'xai', 'neuralink', 'openai', 'musk', 'wealthiest', 'individual']\n",
      "['elon', 'reeve', 'musk', 'l', 'n', 'sk', 'born', 'june', 'businessman', 'political', 'figure', 'known', 'key', 'role', 'automotive', 'company', 'tesla', 'inc', 'space', 'company', 'spacex', 'since', 'january', 'serving', 'administrator', 'department', 'government', 'efficiency', 'second', 'donald', 'trump', 'presidential', 'administration', 'also', 'known', 'ownership', 'x', 'corp', 'company', 'operates', 'social', 'medium', 'platform', 'x', 'formerly', 'twitter', 'role', 'founding', 'boring', 'company', 'xai', 'neuralink', 'openai', 'musk', 'wealthiest', 'individual', 'world']\n",
      "['elon', 'reeve', 'musk', 'l', 'n', 'sk', 'born', 'june', 'businessman', 'political', 'figure', 'known', 'key', 'role', 'automotive', 'company', 'tesla', 'inc', 'space', 'company', 'spacex', 'since', 'january', 'serving', 'administrator', 'department', 'government', 'efficiency', 'second', 'donald', 'trump', 'presidential', 'administration', 'also', 'known', 'ownership', 'x', 'corp', 'company', 'operates', 'social', 'medium', 'platform', 'x', 'formerly', 'twitter', 'role', 'founding', 'boring', 'company', 'xai', 'neuralink', 'openai', 'musk', 'wealthiest', 'individual', 'world', 'january']\n",
      "['elon', 'reeve', 'musk', 'l', 'n', 'sk', 'born', 'june', 'businessman', 'political', 'figure', 'known', 'key', 'role', 'automotive', 'company', 'tesla', 'inc', 'space', 'company', 'spacex', 'since', 'january', 'serving', 'administrator', 'department', 'government', 'efficiency', 'second', 'donald', 'trump', 'presidential', 'administration', 'also', 'known', 'ownership', 'x', 'corp', 'company', 'operates', 'social', 'medium', 'platform', 'x', 'formerly', 'twitter', 'role', 'founding', 'boring', 'company', 'xai', 'neuralink', 'openai', 'musk', 'wealthiest', 'individual', 'world', 'january', 'forbes']\n",
      "['elon', 'reeve', 'musk', 'l', 'n', 'sk', 'born', 'june', 'businessman', 'political', 'figure', 'known', 'key', 'role', 'automotive', 'company', 'tesla', 'inc', 'space', 'company', 'spacex', 'since', 'january', 'serving', 'administrator', 'department', 'government', 'efficiency', 'second', 'donald', 'trump', 'presidential', 'administration', 'also', 'known', 'ownership', 'x', 'corp', 'company', 'operates', 'social', 'medium', 'platform', 'x', 'formerly', 'twitter', 'role', 'founding', 'boring', 'company', 'xai', 'neuralink', 'openai', 'musk', 'wealthiest', 'individual', 'world', 'january', 'forbes', 'estimate']\n",
      "['elon', 'reeve', 'musk', 'l', 'n', 'sk', 'born', 'june', 'businessman', 'political', 'figure', 'known', 'key', 'role', 'automotive', 'company', 'tesla', 'inc', 'space', 'company', 'spacex', 'since', 'january', 'serving', 'administrator', 'department', 'government', 'efficiency', 'second', 'donald', 'trump', 'presidential', 'administration', 'also', 'known', 'ownership', 'x', 'corp', 'company', 'operates', 'social', 'medium', 'platform', 'x', 'formerly', 'twitter', 'role', 'founding', 'boring', 'company', 'xai', 'neuralink', 'openai', 'musk', 'wealthiest', 'individual', 'world', 'january', 'forbes', 'estimate', 'net']\n",
      "['elon', 'reeve', 'musk', 'l', 'n', 'sk', 'born', 'june', 'businessman', 'political', 'figure', 'known', 'key', 'role', 'automotive', 'company', 'tesla', 'inc', 'space', 'company', 'spacex', 'since', 'january', 'serving', 'administrator', 'department', 'government', 'efficiency', 'second', 'donald', 'trump', 'presidential', 'administration', 'also', 'known', 'ownership', 'x', 'corp', 'company', 'operates', 'social', 'medium', 'platform', 'x', 'formerly', 'twitter', 'role', 'founding', 'boring', 'company', 'xai', 'neuralink', 'openai', 'musk', 'wealthiest', 'individual', 'world', 'january', 'forbes', 'estimate', 'net', 'worth']\n",
      "['elon', 'reeve', 'musk', 'l', 'n', 'sk', 'born', 'june', 'businessman', 'political', 'figure', 'known', 'key', 'role', 'automotive', 'company', 'tesla', 'inc', 'space', 'company', 'spacex', 'since', 'january', 'serving', 'administrator', 'department', 'government', 'efficiency', 'second', 'donald', 'trump', 'presidential', 'administration', 'also', 'known', 'ownership', 'x', 'corp', 'company', 'operates', 'social', 'medium', 'platform', 'x', 'formerly', 'twitter', 'role', 'founding', 'boring', 'company', 'xai', 'neuralink', 'openai', 'musk', 'wealthiest', 'individual', 'world', 'january', 'forbes', 'estimate', 'net', 'worth', 'u']\n",
      "['elon', 'reeve', 'musk', 'l', 'n', 'sk', 'born', 'june', 'businessman', 'political', 'figure', 'known', 'key', 'role', 'automotive', 'company', 'tesla', 'inc', 'space', 'company', 'spacex', 'since', 'january', 'serving', 'administrator', 'department', 'government', 'efficiency', 'second', 'donald', 'trump', 'presidential', 'administration', 'also', 'known', 'ownership', 'x', 'corp', 'company', 'operates', 'social', 'medium', 'platform', 'x', 'formerly', 'twitter', 'role', 'founding', 'boring', 'company', 'xai', 'neuralink', 'openai', 'musk', 'wealthiest', 'individual', 'world', 'january', 'forbes', 'estimate', 'net', 'worth', 'u', 'billion']\n",
      "['elon', 'reeve', 'musk', 'l', 'n', 'sk', 'born', 'june', 'businessman', 'political', 'figure', 'known', 'key', 'role', 'automotive', 'company', 'tesla', 'inc', 'space', 'company', 'spacex', 'since', 'january', 'serving', 'administrator', 'department', 'government', 'efficiency', 'second', 'donald', 'trump', 'presidential', 'administration', 'also', 'known', 'ownership', 'x', 'corp', 'company', 'operates', 'social', 'medium', 'platform', 'x', 'formerly', 'twitter', 'role', 'founding', 'boring', 'company', 'xai', 'neuralink', 'openai', 'musk', 'wealthiest', 'individual', 'world', 'january', 'forbes', 'estimate', 'net', 'worth', 'u', 'billion', 'member']\n",
      "['elon', 'reeve', 'musk', 'l', 'n', 'sk', 'born', 'june', 'businessman', 'political', 'figure', 'known', 'key', 'role', 'automotive', 'company', 'tesla', 'inc', 'space', 'company', 'spacex', 'since', 'january', 'serving', 'administrator', 'department', 'government', 'efficiency', 'second', 'donald', 'trump', 'presidential', 'administration', 'also', 'known', 'ownership', 'x', 'corp', 'company', 'operates', 'social', 'medium', 'platform', 'x', 'formerly', 'twitter', 'role', 'founding', 'boring', 'company', 'xai', 'neuralink', 'openai', 'musk', 'wealthiest', 'individual', 'world', 'january', 'forbes', 'estimate', 'net', 'worth', 'u', 'billion', 'member', 'wealthy']\n",
      "['elon', 'reeve', 'musk', 'l', 'n', 'sk', 'born', 'june', 'businessman', 'political', 'figure', 'known', 'key', 'role', 'automotive', 'company', 'tesla', 'inc', 'space', 'company', 'spacex', 'since', 'january', 'serving', 'administrator', 'department', 'government', 'efficiency', 'second', 'donald', 'trump', 'presidential', 'administration', 'also', 'known', 'ownership', 'x', 'corp', 'company', 'operates', 'social', 'medium', 'platform', 'x', 'formerly', 'twitter', 'role', 'founding', 'boring', 'company', 'xai', 'neuralink', 'openai', 'musk', 'wealthiest', 'individual', 'world', 'january', 'forbes', 'estimate', 'net', 'worth', 'u', 'billion', 'member', 'wealthy', 'south']\n",
      "['elon', 'reeve', 'musk', 'l', 'n', 'sk', 'born', 'june', 'businessman', 'political', 'figure', 'known', 'key', 'role', 'automotive', 'company', 'tesla', 'inc', 'space', 'company', 'spacex', 'since', 'january', 'serving', 'administrator', 'department', 'government', 'efficiency', 'second', 'donald', 'trump', 'presidential', 'administration', 'also', 'known', 'ownership', 'x', 'corp', 'company', 'operates', 'social', 'medium', 'platform', 'x', 'formerly', 'twitter', 'role', 'founding', 'boring', 'company', 'xai', 'neuralink', 'openai', 'musk', 'wealthiest', 'individual', 'world', 'january', 'forbes', 'estimate', 'net', 'worth', 'u', 'billion', 'member', 'wealthy', 'south', 'african']\n",
      "['elon', 'reeve', 'musk', 'l', 'n', 'sk', 'born', 'june', 'businessman', 'political', 'figure', 'known', 'key', 'role', 'automotive', 'company', 'tesla', 'inc', 'space', 'company', 'spacex', 'since', 'january', 'serving', 'administrator', 'department', 'government', 'efficiency', 'second', 'donald', 'trump', 'presidential', 'administration', 'also', 'known', 'ownership', 'x', 'corp', 'company', 'operates', 'social', 'medium', 'platform', 'x', 'formerly', 'twitter', 'role', 'founding', 'boring', 'company', 'xai', 'neuralink', 'openai', 'musk', 'wealthiest', 'individual', 'world', 'january', 'forbes', 'estimate', 'net', 'worth', 'u', 'billion', 'member', 'wealthy', 'south', 'african', 'musk']\n",
      "['elon', 'reeve', 'musk', 'l', 'n', 'sk', 'born', 'june', 'businessman', 'political', 'figure', 'known', 'key', 'role', 'automotive', 'company', 'tesla', 'inc', 'space', 'company', 'spacex', 'since', 'january', 'serving', 'administrator', 'department', 'government', 'efficiency', 'second', 'donald', 'trump', 'presidential', 'administration', 'also', 'known', 'ownership', 'x', 'corp', 'company', 'operates', 'social', 'medium', 'platform', 'x', 'formerly', 'twitter', 'role', 'founding', 'boring', 'company', 'xai', 'neuralink', 'openai', 'musk', 'wealthiest', 'individual', 'world', 'january', 'forbes', 'estimate', 'net', 'worth', 'u', 'billion', 'member', 'wealthy', 'south', 'african', 'musk', 'family']\n",
      "['elon', 'reeve', 'musk', 'l', 'n', 'sk', 'born', 'june', 'businessman', 'political', 'figure', 'known', 'key', 'role', 'automotive', 'company', 'tesla', 'inc', 'space', 'company', 'spacex', 'since', 'january', 'serving', 'administrator', 'department', 'government', 'efficiency', 'second', 'donald', 'trump', 'presidential', 'administration', 'also', 'known', 'ownership', 'x', 'corp', 'company', 'operates', 'social', 'medium', 'platform', 'x', 'formerly', 'twitter', 'role', 'founding', 'boring', 'company', 'xai', 'neuralink', 'openai', 'musk', 'wealthiest', 'individual', 'world', 'january', 'forbes', 'estimate', 'net', 'worth', 'u', 'billion', 'member', 'wealthy', 'south', 'african', 'musk', 'family', 'musk']\n",
      "['elon', 'reeve', 'musk', 'l', 'n', 'sk', 'born', 'june', 'businessman', 'political', 'figure', 'known', 'key', 'role', 'automotive', 'company', 'tesla', 'inc', 'space', 'company', 'spacex', 'since', 'january', 'serving', 'administrator', 'department', 'government', 'efficiency', 'second', 'donald', 'trump', 'presidential', 'administration', 'also', 'known', 'ownership', 'x', 'corp', 'company', 'operates', 'social', 'medium', 'platform', 'x', 'formerly', 'twitter', 'role', 'founding', 'boring', 'company', 'xai', 'neuralink', 'openai', 'musk', 'wealthiest', 'individual', 'world', 'january', 'forbes', 'estimate', 'net', 'worth', 'u', 'billion', 'member', 'wealthy', 'south', 'african', 'musk', 'family', 'musk', 'born']\n",
      "['elon', 'reeve', 'musk', 'l', 'n', 'sk', 'born', 'june', 'businessman', 'political', 'figure', 'known', 'key', 'role', 'automotive', 'company', 'tesla', 'inc', 'space', 'company', 'spacex', 'since', 'january', 'serving', 'administrator', 'department', 'government', 'efficiency', 'second', 'donald', 'trump', 'presidential', 'administration', 'also', 'known', 'ownership', 'x', 'corp', 'company', 'operates', 'social', 'medium', 'platform', 'x', 'formerly', 'twitter', 'role', 'founding', 'boring', 'company', 'xai', 'neuralink', 'openai', 'musk', 'wealthiest', 'individual', 'world', 'january', 'forbes', 'estimate', 'net', 'worth', 'u', 'billion', 'member', 'wealthy', 'south', 'african', 'musk', 'family', 'musk', 'born', 'pretoria']\n",
      "['elon', 'reeve', 'musk', 'l', 'n', 'sk', 'born', 'june', 'businessman', 'political', 'figure', 'known', 'key', 'role', 'automotive', 'company', 'tesla', 'inc', 'space', 'company', 'spacex', 'since', 'january', 'serving', 'administrator', 'department', 'government', 'efficiency', 'second', 'donald', 'trump', 'presidential', 'administration', 'also', 'known', 'ownership', 'x', 'corp', 'company', 'operates', 'social', 'medium', 'platform', 'x', 'formerly', 'twitter', 'role', 'founding', 'boring', 'company', 'xai', 'neuralink', 'openai', 'musk', 'wealthiest', 'individual', 'world', 'january', 'forbes', 'estimate', 'net', 'worth', 'u', 'billion', 'member', 'wealthy', 'south', 'african', 'musk', 'family', 'musk', 'born', 'pretoria', 'briefly']\n",
      "['elon', 'reeve', 'musk', 'l', 'n', 'sk', 'born', 'june', 'businessman', 'political', 'figure', 'known', 'key', 'role', 'automotive', 'company', 'tesla', 'inc', 'space', 'company', 'spacex', 'since', 'january', 'serving', 'administrator', 'department', 'government', 'efficiency', 'second', 'donald', 'trump', 'presidential', 'administration', 'also', 'known', 'ownership', 'x', 'corp', 'company', 'operates', 'social', 'medium', 'platform', 'x', 'formerly', 'twitter', 'role', 'founding', 'boring', 'company', 'xai', 'neuralink', 'openai', 'musk', 'wealthiest', 'individual', 'world', 'january', 'forbes', 'estimate', 'net', 'worth', 'u', 'billion', 'member', 'wealthy', 'south', 'african', 'musk', 'family', 'musk', 'born', 'pretoria', 'briefly', 'attended']\n",
      "['elon', 'reeve', 'musk', 'l', 'n', 'sk', 'born', 'june', 'businessman', 'political', 'figure', 'known', 'key', 'role', 'automotive', 'company', 'tesla', 'inc', 'space', 'company', 'spacex', 'since', 'january', 'serving', 'administrator', 'department', 'government', 'efficiency', 'second', 'donald', 'trump', 'presidential', 'administration', 'also', 'known', 'ownership', 'x', 'corp', 'company', 'operates', 'social', 'medium', 'platform', 'x', 'formerly', 'twitter', 'role', 'founding', 'boring', 'company', 'xai', 'neuralink', 'openai', 'musk', 'wealthiest', 'individual', 'world', 'january', 'forbes', 'estimate', 'net', 'worth', 'u', 'billion', 'member', 'wealthy', 'south', 'african', 'musk', 'family', 'musk', 'born', 'pretoria', 'briefly', 'attended', 'university']\n",
      "['elon', 'reeve', 'musk', 'l', 'n', 'sk', 'born', 'june', 'businessman', 'political', 'figure', 'known', 'key', 'role', 'automotive', 'company', 'tesla', 'inc', 'space', 'company', 'spacex', 'since', 'january', 'serving', 'administrator', 'department', 'government', 'efficiency', 'second', 'donald', 'trump', 'presidential', 'administration', 'also', 'known', 'ownership', 'x', 'corp', 'company', 'operates', 'social', 'medium', 'platform', 'x', 'formerly', 'twitter', 'role', 'founding', 'boring', 'company', 'xai', 'neuralink', 'openai', 'musk', 'wealthiest', 'individual', 'world', 'january', 'forbes', 'estimate', 'net', 'worth', 'u', 'billion', 'member', 'wealthy', 'south', 'african', 'musk', 'family', 'musk', 'born', 'pretoria', 'briefly', 'attended', 'university', 'pretoria']\n",
      "['elon', 'reeve', 'musk', 'l', 'n', 'sk', 'born', 'june', 'businessman', 'political', 'figure', 'known', 'key', 'role', 'automotive', 'company', 'tesla', 'inc', 'space', 'company', 'spacex', 'since', 'january', 'serving', 'administrator', 'department', 'government', 'efficiency', 'second', 'donald', 'trump', 'presidential', 'administration', 'also', 'known', 'ownership', 'x', 'corp', 'company', 'operates', 'social', 'medium', 'platform', 'x', 'formerly', 'twitter', 'role', 'founding', 'boring', 'company', 'xai', 'neuralink', 'openai', 'musk', 'wealthiest', 'individual', 'world', 'january', 'forbes', 'estimate', 'net', 'worth', 'u', 'billion', 'member', 'wealthy', 'south', 'african', 'musk', 'family', 'musk', 'born', 'pretoria', 'briefly', 'attended', 'university', 'pretoria', 'age']\n",
      "['elon', 'reeve', 'musk', 'l', 'n', 'sk', 'born', 'june', 'businessman', 'political', 'figure', 'known', 'key', 'role', 'automotive', 'company', 'tesla', 'inc', 'space', 'company', 'spacex', 'since', 'january', 'serving', 'administrator', 'department', 'government', 'efficiency', 'second', 'donald', 'trump', 'presidential', 'administration', 'also', 'known', 'ownership', 'x', 'corp', 'company', 'operates', 'social', 'medium', 'platform', 'x', 'formerly', 'twitter', 'role', 'founding', 'boring', 'company', 'xai', 'neuralink', 'openai', 'musk', 'wealthiest', 'individual', 'world', 'january', 'forbes', 'estimate', 'net', 'worth', 'u', 'billion', 'member', 'wealthy', 'south', 'african', 'musk', 'family', 'musk', 'born', 'pretoria', 'briefly', 'attended', 'university', 'pretoria', 'age', 'immigrated']\n",
      "['elon', 'reeve', 'musk', 'l', 'n', 'sk', 'born', 'june', 'businessman', 'political', 'figure', 'known', 'key', 'role', 'automotive', 'company', 'tesla', 'inc', 'space', 'company', 'spacex', 'since', 'january', 'serving', 'administrator', 'department', 'government', 'efficiency', 'second', 'donald', 'trump', 'presidential', 'administration', 'also', 'known', 'ownership', 'x', 'corp', 'company', 'operates', 'social', 'medium', 'platform', 'x', 'formerly', 'twitter', 'role', 'founding', 'boring', 'company', 'xai', 'neuralink', 'openai', 'musk', 'wealthiest', 'individual', 'world', 'january', 'forbes', 'estimate', 'net', 'worth', 'u', 'billion', 'member', 'wealthy', 'south', 'african', 'musk', 'family', 'musk', 'born', 'pretoria', 'briefly', 'attended', 'university', 'pretoria', 'age', 'immigrated', 'canada']\n",
      "['elon', 'reeve', 'musk', 'l', 'n', 'sk', 'born', 'june', 'businessman', 'political', 'figure', 'known', 'key', 'role', 'automotive', 'company', 'tesla', 'inc', 'space', 'company', 'spacex', 'since', 'january', 'serving', 'administrator', 'department', 'government', 'efficiency', 'second', 'donald', 'trump', 'presidential', 'administration', 'also', 'known', 'ownership', 'x', 'corp', 'company', 'operates', 'social', 'medium', 'platform', 'x', 'formerly', 'twitter', 'role', 'founding', 'boring', 'company', 'xai', 'neuralink', 'openai', 'musk', 'wealthiest', 'individual', 'world', 'january', 'forbes', 'estimate', 'net', 'worth', 'u', 'billion', 'member', 'wealthy', 'south', 'african', 'musk', 'family', 'musk', 'born', 'pretoria', 'briefly', 'attended', 'university', 'pretoria', 'age', 'immigrated', 'canada', 'acquiring']\n",
      "['elon', 'reeve', 'musk', 'l', 'n', 'sk', 'born', 'june', 'businessman', 'political', 'figure', 'known', 'key', 'role', 'automotive', 'company', 'tesla', 'inc', 'space', 'company', 'spacex', 'since', 'january', 'serving', 'administrator', 'department', 'government', 'efficiency', 'second', 'donald', 'trump', 'presidential', 'administration', 'also', 'known', 'ownership', 'x', 'corp', 'company', 'operates', 'social', 'medium', 'platform', 'x', 'formerly', 'twitter', 'role', 'founding', 'boring', 'company', 'xai', 'neuralink', 'openai', 'musk', 'wealthiest', 'individual', 'world', 'january', 'forbes', 'estimate', 'net', 'worth', 'u', 'billion', 'member', 'wealthy', 'south', 'african', 'musk', 'family', 'musk', 'born', 'pretoria', 'briefly', 'attended', 'university', 'pretoria', 'age', 'immigrated', 'canada', 'acquiring', 'citizenship']\n",
      "['elon', 'reeve', 'musk', 'l', 'n', 'sk', 'born', 'june', 'businessman', 'political', 'figure', 'known', 'key', 'role', 'automotive', 'company', 'tesla', 'inc', 'space', 'company', 'spacex', 'since', 'january', 'serving', 'administrator', 'department', 'government', 'efficiency', 'second', 'donald', 'trump', 'presidential', 'administration', 'also', 'known', 'ownership', 'x', 'corp', 'company', 'operates', 'social', 'medium', 'platform', 'x', 'formerly', 'twitter', 'role', 'founding', 'boring', 'company', 'xai', 'neuralink', 'openai', 'musk', 'wealthiest', 'individual', 'world', 'january', 'forbes', 'estimate', 'net', 'worth', 'u', 'billion', 'member', 'wealthy', 'south', 'african', 'musk', 'family', 'musk', 'born', 'pretoria', 'briefly', 'attended', 'university', 'pretoria', 'age', 'immigrated', 'canada', 'acquiring', 'citizenship', 'canadian']\n",
      "['elon', 'reeve', 'musk', 'l', 'n', 'sk', 'born', 'june', 'businessman', 'political', 'figure', 'known', 'key', 'role', 'automotive', 'company', 'tesla', 'inc', 'space', 'company', 'spacex', 'since', 'january', 'serving', 'administrator', 'department', 'government', 'efficiency', 'second', 'donald', 'trump', 'presidential', 'administration', 'also', 'known', 'ownership', 'x', 'corp', 'company', 'operates', 'social', 'medium', 'platform', 'x', 'formerly', 'twitter', 'role', 'founding', 'boring', 'company', 'xai', 'neuralink', 'openai', 'musk', 'wealthiest', 'individual', 'world', 'january', 'forbes', 'estimate', 'net', 'worth', 'u', 'billion', 'member', 'wealthy', 'south', 'african', 'musk', 'family', 'musk', 'born', 'pretoria', 'briefly', 'attended', 'university', 'pretoria', 'age', 'immigrated', 'canada', 'acquiring', 'citizenship', 'canadian', 'born']\n",
      "['elon', 'reeve', 'musk', 'l', 'n', 'sk', 'born', 'june', 'businessman', 'political', 'figure', 'known', 'key', 'role', 'automotive', 'company', 'tesla', 'inc', 'space', 'company', 'spacex', 'since', 'january', 'serving', 'administrator', 'department', 'government', 'efficiency', 'second', 'donald', 'trump', 'presidential', 'administration', 'also', 'known', 'ownership', 'x', 'corp', 'company', 'operates', 'social', 'medium', 'platform', 'x', 'formerly', 'twitter', 'role', 'founding', 'boring', 'company', 'xai', 'neuralink', 'openai', 'musk', 'wealthiest', 'individual', 'world', 'january', 'forbes', 'estimate', 'net', 'worth', 'u', 'billion', 'member', 'wealthy', 'south', 'african', 'musk', 'family', 'musk', 'born', 'pretoria', 'briefly', 'attended', 'university', 'pretoria', 'age', 'immigrated', 'canada', 'acquiring', 'citizenship', 'canadian', 'born', 'mother']\n",
      "['elon', 'reeve', 'musk', 'l', 'n', 'sk', 'born', 'june', 'businessman', 'political', 'figure', 'known', 'key', 'role', 'automotive', 'company', 'tesla', 'inc', 'space', 'company', 'spacex', 'since', 'january', 'serving', 'administrator', 'department', 'government', 'efficiency', 'second', 'donald', 'trump', 'presidential', 'administration', 'also', 'known', 'ownership', 'x', 'corp', 'company', 'operates', 'social', 'medium', 'platform', 'x', 'formerly', 'twitter', 'role', 'founding', 'boring', 'company', 'xai', 'neuralink', 'openai', 'musk', 'wealthiest', 'individual', 'world', 'january', 'forbes', 'estimate', 'net', 'worth', 'u', 'billion', 'member', 'wealthy', 'south', 'african', 'musk', 'family', 'musk', 'born', 'pretoria', 'briefly', 'attended', 'university', 'pretoria', 'age', 'immigrated', 'canada', 'acquiring', 'citizenship', 'canadian', 'born', 'mother', 'maye']\n",
      "['elon', 'reeve', 'musk', 'l', 'n', 'sk', 'born', 'june', 'businessman', 'political', 'figure', 'known', 'key', 'role', 'automotive', 'company', 'tesla', 'inc', 'space', 'company', 'spacex', 'since', 'january', 'serving', 'administrator', 'department', 'government', 'efficiency', 'second', 'donald', 'trump', 'presidential', 'administration', 'also', 'known', 'ownership', 'x', 'corp', 'company', 'operates', 'social', 'medium', 'platform', 'x', 'formerly', 'twitter', 'role', 'founding', 'boring', 'company', 'xai', 'neuralink', 'openai', 'musk', 'wealthiest', 'individual', 'world', 'january', 'forbes', 'estimate', 'net', 'worth', 'u', 'billion', 'member', 'wealthy', 'south', 'african', 'musk', 'family', 'musk', 'born', 'pretoria', 'briefly', 'attended', 'university', 'pretoria', 'age', 'immigrated', 'canada', 'acquiring', 'citizenship', 'canadian', 'born', 'mother', 'maye', 'two']\n",
      "['elon', 'reeve', 'musk', 'l', 'n', 'sk', 'born', 'june', 'businessman', 'political', 'figure', 'known', 'key', 'role', 'automotive', 'company', 'tesla', 'inc', 'space', 'company', 'spacex', 'since', 'january', 'serving', 'administrator', 'department', 'government', 'efficiency', 'second', 'donald', 'trump', 'presidential', 'administration', 'also', 'known', 'ownership', 'x', 'corp', 'company', 'operates', 'social', 'medium', 'platform', 'x', 'formerly', 'twitter', 'role', 'founding', 'boring', 'company', 'xai', 'neuralink', 'openai', 'musk', 'wealthiest', 'individual', 'world', 'january', 'forbes', 'estimate', 'net', 'worth', 'u', 'billion', 'member', 'wealthy', 'south', 'african', 'musk', 'family', 'musk', 'born', 'pretoria', 'briefly', 'attended', 'university', 'pretoria', 'age', 'immigrated', 'canada', 'acquiring', 'citizenship', 'canadian', 'born', 'mother', 'maye', 'two', 'year']\n",
      "['elon', 'reeve', 'musk', 'l', 'n', 'sk', 'born', 'june', 'businessman', 'political', 'figure', 'known', 'key', 'role', 'automotive', 'company', 'tesla', 'inc', 'space', 'company', 'spacex', 'since', 'january', 'serving', 'administrator', 'department', 'government', 'efficiency', 'second', 'donald', 'trump', 'presidential', 'administration', 'also', 'known', 'ownership', 'x', 'corp', 'company', 'operates', 'social', 'medium', 'platform', 'x', 'formerly', 'twitter', 'role', 'founding', 'boring', 'company', 'xai', 'neuralink', 'openai', 'musk', 'wealthiest', 'individual', 'world', 'january', 'forbes', 'estimate', 'net', 'worth', 'u', 'billion', 'member', 'wealthy', 'south', 'african', 'musk', 'family', 'musk', 'born', 'pretoria', 'briefly', 'attended', 'university', 'pretoria', 'age', 'immigrated', 'canada', 'acquiring', 'citizenship', 'canadian', 'born', 'mother', 'maye', 'two', 'year', 'later']\n",
      "['elon', 'reeve', 'musk', 'l', 'n', 'sk', 'born', 'june', 'businessman', 'political', 'figure', 'known', 'key', 'role', 'automotive', 'company', 'tesla', 'inc', 'space', 'company', 'spacex', 'since', 'january', 'serving', 'administrator', 'department', 'government', 'efficiency', 'second', 'donald', 'trump', 'presidential', 'administration', 'also', 'known', 'ownership', 'x', 'corp', 'company', 'operates', 'social', 'medium', 'platform', 'x', 'formerly', 'twitter', 'role', 'founding', 'boring', 'company', 'xai', 'neuralink', 'openai', 'musk', 'wealthiest', 'individual', 'world', 'january', 'forbes', 'estimate', 'net', 'worth', 'u', 'billion', 'member', 'wealthy', 'south', 'african', 'musk', 'family', 'musk', 'born', 'pretoria', 'briefly', 'attended', 'university', 'pretoria', 'age', 'immigrated', 'canada', 'acquiring', 'citizenship', 'canadian', 'born', 'mother', 'maye', 'two', 'year', 'later', 'matriculated']\n",
      "['elon', 'reeve', 'musk', 'l', 'n', 'sk', 'born', 'june', 'businessman', 'political', 'figure', 'known', 'key', 'role', 'automotive', 'company', 'tesla', 'inc', 'space', 'company', 'spacex', 'since', 'january', 'serving', 'administrator', 'department', 'government', 'efficiency', 'second', 'donald', 'trump', 'presidential', 'administration', 'also', 'known', 'ownership', 'x', 'corp', 'company', 'operates', 'social', 'medium', 'platform', 'x', 'formerly', 'twitter', 'role', 'founding', 'boring', 'company', 'xai', 'neuralink', 'openai', 'musk', 'wealthiest', 'individual', 'world', 'january', 'forbes', 'estimate', 'net', 'worth', 'u', 'billion', 'member', 'wealthy', 'south', 'african', 'musk', 'family', 'musk', 'born', 'pretoria', 'briefly', 'attended', 'university', 'pretoria', 'age', 'immigrated', 'canada', 'acquiring', 'citizenship', 'canadian', 'born', 'mother', 'maye', 'two', 'year', 'later', 'matriculated', 'queen']\n",
      "['elon', 'reeve', 'musk', 'l', 'n', 'sk', 'born', 'june', 'businessman', 'political', 'figure', 'known', 'key', 'role', 'automotive', 'company', 'tesla', 'inc', 'space', 'company', 'spacex', 'since', 'january', 'serving', 'administrator', 'department', 'government', 'efficiency', 'second', 'donald', 'trump', 'presidential', 'administration', 'also', 'known', 'ownership', 'x', 'corp', 'company', 'operates', 'social', 'medium', 'platform', 'x', 'formerly', 'twitter', 'role', 'founding', 'boring', 'company', 'xai', 'neuralink', 'openai', 'musk', 'wealthiest', 'individual', 'world', 'january', 'forbes', 'estimate', 'net', 'worth', 'u', 'billion', 'member', 'wealthy', 'south', 'african', 'musk', 'family', 'musk', 'born', 'pretoria', 'briefly', 'attended', 'university', 'pretoria', 'age', 'immigrated', 'canada', 'acquiring', 'citizenship', 'canadian', 'born', 'mother', 'maye', 'two', 'year', 'later', 'matriculated', 'queen', 'university']\n",
      "['elon', 'reeve', 'musk', 'l', 'n', 'sk', 'born', 'june', 'businessman', 'political', 'figure', 'known', 'key', 'role', 'automotive', 'company', 'tesla', 'inc', 'space', 'company', 'spacex', 'since', 'january', 'serving', 'administrator', 'department', 'government', 'efficiency', 'second', 'donald', 'trump', 'presidential', 'administration', 'also', 'known', 'ownership', 'x', 'corp', 'company', 'operates', 'social', 'medium', 'platform', 'x', 'formerly', 'twitter', 'role', 'founding', 'boring', 'company', 'xai', 'neuralink', 'openai', 'musk', 'wealthiest', 'individual', 'world', 'january', 'forbes', 'estimate', 'net', 'worth', 'u', 'billion', 'member', 'wealthy', 'south', 'african', 'musk', 'family', 'musk', 'born', 'pretoria', 'briefly', 'attended', 'university', 'pretoria', 'age', 'immigrated', 'canada', 'acquiring', 'citizenship', 'canadian', 'born', 'mother', 'maye', 'two', 'year', 'later', 'matriculated', 'queen', 'university', 'canada']\n",
      "['elon', 'reeve', 'musk', 'l', 'n', 'sk', 'born', 'june', 'businessman', 'political', 'figure', 'known', 'key', 'role', 'automotive', 'company', 'tesla', 'inc', 'space', 'company', 'spacex', 'since', 'january', 'serving', 'administrator', 'department', 'government', 'efficiency', 'second', 'donald', 'trump', 'presidential', 'administration', 'also', 'known', 'ownership', 'x', 'corp', 'company', 'operates', 'social', 'medium', 'platform', 'x', 'formerly', 'twitter', 'role', 'founding', 'boring', 'company', 'xai', 'neuralink', 'openai', 'musk', 'wealthiest', 'individual', 'world', 'january', 'forbes', 'estimate', 'net', 'worth', 'u', 'billion', 'member', 'wealthy', 'south', 'african', 'musk', 'family', 'musk', 'born', 'pretoria', 'briefly', 'attended', 'university', 'pretoria', 'age', 'immigrated', 'canada', 'acquiring', 'citizenship', 'canadian', 'born', 'mother', 'maye', 'two', 'year', 'later', 'matriculated', 'queen', 'university', 'canada', 'musk']\n",
      "['elon', 'reeve', 'musk', 'l', 'n', 'sk', 'born', 'june', 'businessman', 'political', 'figure', 'known', 'key', 'role', 'automotive', 'company', 'tesla', 'inc', 'space', 'company', 'spacex', 'since', 'january', 'serving', 'administrator', 'department', 'government', 'efficiency', 'second', 'donald', 'trump', 'presidential', 'administration', 'also', 'known', 'ownership', 'x', 'corp', 'company', 'operates', 'social', 'medium', 'platform', 'x', 'formerly', 'twitter', 'role', 'founding', 'boring', 'company', 'xai', 'neuralink', 'openai', 'musk', 'wealthiest', 'individual', 'world', 'january', 'forbes', 'estimate', 'net', 'worth', 'u', 'billion', 'member', 'wealthy', 'south', 'african', 'musk', 'family', 'musk', 'born', 'pretoria', 'briefly', 'attended', 'university', 'pretoria', 'age', 'immigrated', 'canada', 'acquiring', 'citizenship', 'canadian', 'born', 'mother', 'maye', 'two', 'year', 'later', 'matriculated', 'queen', 'university', 'canada', 'musk', 'later']\n",
      "['elon', 'reeve', 'musk', 'l', 'n', 'sk', 'born', 'june', 'businessman', 'political', 'figure', 'known', 'key', 'role', 'automotive', 'company', 'tesla', 'inc', 'space', 'company', 'spacex', 'since', 'january', 'serving', 'administrator', 'department', 'government', 'efficiency', 'second', 'donald', 'trump', 'presidential', 'administration', 'also', 'known', 'ownership', 'x', 'corp', 'company', 'operates', 'social', 'medium', 'platform', 'x', 'formerly', 'twitter', 'role', 'founding', 'boring', 'company', 'xai', 'neuralink', 'openai', 'musk', 'wealthiest', 'individual', 'world', 'january', 'forbes', 'estimate', 'net', 'worth', 'u', 'billion', 'member', 'wealthy', 'south', 'african', 'musk', 'family', 'musk', 'born', 'pretoria', 'briefly', 'attended', 'university', 'pretoria', 'age', 'immigrated', 'canada', 'acquiring', 'citizenship', 'canadian', 'born', 'mother', 'maye', 'two', 'year', 'later', 'matriculated', 'queen', 'university', 'canada', 'musk', 'later', 'transferred']\n",
      "['elon', 'reeve', 'musk', 'l', 'n', 'sk', 'born', 'june', 'businessman', 'political', 'figure', 'known', 'key', 'role', 'automotive', 'company', 'tesla', 'inc', 'space', 'company', 'spacex', 'since', 'january', 'serving', 'administrator', 'department', 'government', 'efficiency', 'second', 'donald', 'trump', 'presidential', 'administration', 'also', 'known', 'ownership', 'x', 'corp', 'company', 'operates', 'social', 'medium', 'platform', 'x', 'formerly', 'twitter', 'role', 'founding', 'boring', 'company', 'xai', 'neuralink', 'openai', 'musk', 'wealthiest', 'individual', 'world', 'january', 'forbes', 'estimate', 'net', 'worth', 'u', 'billion', 'member', 'wealthy', 'south', 'african', 'musk', 'family', 'musk', 'born', 'pretoria', 'briefly', 'attended', 'university', 'pretoria', 'age', 'immigrated', 'canada', 'acquiring', 'citizenship', 'canadian', 'born', 'mother', 'maye', 'two', 'year', 'later', 'matriculated', 'queen', 'university', 'canada', 'musk', 'later', 'transferred', 'university']\n",
      "['elon', 'reeve', 'musk', 'l', 'n', 'sk', 'born', 'june', 'businessman', 'political', 'figure', 'known', 'key', 'role', 'automotive', 'company', 'tesla', 'inc', 'space', 'company', 'spacex', 'since', 'january', 'serving', 'administrator', 'department', 'government', 'efficiency', 'second', 'donald', 'trump', 'presidential', 'administration', 'also', 'known', 'ownership', 'x', 'corp', 'company', 'operates', 'social', 'medium', 'platform', 'x', 'formerly', 'twitter', 'role', 'founding', 'boring', 'company', 'xai', 'neuralink', 'openai', 'musk', 'wealthiest', 'individual', 'world', 'january', 'forbes', 'estimate', 'net', 'worth', 'u', 'billion', 'member', 'wealthy', 'south', 'african', 'musk', 'family', 'musk', 'born', 'pretoria', 'briefly', 'attended', 'university', 'pretoria', 'age', 'immigrated', 'canada', 'acquiring', 'citizenship', 'canadian', 'born', 'mother', 'maye', 'two', 'year', 'later', 'matriculated', 'queen', 'university', 'canada', 'musk', 'later', 'transferred', 'university', 'pennsylvania']\n",
      "['elon', 'reeve', 'musk', 'l', 'n', 'sk', 'born', 'june', 'businessman', 'political', 'figure', 'known', 'key', 'role', 'automotive', 'company', 'tesla', 'inc', 'space', 'company', 'spacex', 'since', 'january', 'serving', 'administrator', 'department', 'government', 'efficiency', 'second', 'donald', 'trump', 'presidential', 'administration', 'also', 'known', 'ownership', 'x', 'corp', 'company', 'operates', 'social', 'medium', 'platform', 'x', 'formerly', 'twitter', 'role', 'founding', 'boring', 'company', 'xai', 'neuralink', 'openai', 'musk', 'wealthiest', 'individual', 'world', 'january', 'forbes', 'estimate', 'net', 'worth', 'u', 'billion', 'member', 'wealthy', 'south', 'african', 'musk', 'family', 'musk', 'born', 'pretoria', 'briefly', 'attended', 'university', 'pretoria', 'age', 'immigrated', 'canada', 'acquiring', 'citizenship', 'canadian', 'born', 'mother', 'maye', 'two', 'year', 'later', 'matriculated', 'queen', 'university', 'canada', 'musk', 'later', 'transferred', 'university', 'pennsylvania', 'received']\n",
      "['elon', 'reeve', 'musk', 'l', 'n', 'sk', 'born', 'june', 'businessman', 'political', 'figure', 'known', 'key', 'role', 'automotive', 'company', 'tesla', 'inc', 'space', 'company', 'spacex', 'since', 'january', 'serving', 'administrator', 'department', 'government', 'efficiency', 'second', 'donald', 'trump', 'presidential', 'administration', 'also', 'known', 'ownership', 'x', 'corp', 'company', 'operates', 'social', 'medium', 'platform', 'x', 'formerly', 'twitter', 'role', 'founding', 'boring', 'company', 'xai', 'neuralink', 'openai', 'musk', 'wealthiest', 'individual', 'world', 'january', 'forbes', 'estimate', 'net', 'worth', 'u', 'billion', 'member', 'wealthy', 'south', 'african', 'musk', 'family', 'musk', 'born', 'pretoria', 'briefly', 'attended', 'university', 'pretoria', 'age', 'immigrated', 'canada', 'acquiring', 'citizenship', 'canadian', 'born', 'mother', 'maye', 'two', 'year', 'later', 'matriculated', 'queen', 'university', 'canada', 'musk', 'later', 'transferred', 'university', 'pennsylvania', 'received', 'bachelor']\n",
      "['elon', 'reeve', 'musk', 'l', 'n', 'sk', 'born', 'june', 'businessman', 'political', 'figure', 'known', 'key', 'role', 'automotive', 'company', 'tesla', 'inc', 'space', 'company', 'spacex', 'since', 'january', 'serving', 'administrator', 'department', 'government', 'efficiency', 'second', 'donald', 'trump', 'presidential', 'administration', 'also', 'known', 'ownership', 'x', 'corp', 'company', 'operates', 'social', 'medium', 'platform', 'x', 'formerly', 'twitter', 'role', 'founding', 'boring', 'company', 'xai', 'neuralink', 'openai', 'musk', 'wealthiest', 'individual', 'world', 'january', 'forbes', 'estimate', 'net', 'worth', 'u', 'billion', 'member', 'wealthy', 'south', 'african', 'musk', 'family', 'musk', 'born', 'pretoria', 'briefly', 'attended', 'university', 'pretoria', 'age', 'immigrated', 'canada', 'acquiring', 'citizenship', 'canadian', 'born', 'mother', 'maye', 'two', 'year', 'later', 'matriculated', 'queen', 'university', 'canada', 'musk', 'later', 'transferred', 'university', 'pennsylvania', 'received', 'bachelor', 'degree']\n",
      "['elon', 'reeve', 'musk', 'l', 'n', 'sk', 'born', 'june', 'businessman', 'political', 'figure', 'known', 'key', 'role', 'automotive', 'company', 'tesla', 'inc', 'space', 'company', 'spacex', 'since', 'january', 'serving', 'administrator', 'department', 'government', 'efficiency', 'second', 'donald', 'trump', 'presidential', 'administration', 'also', 'known', 'ownership', 'x', 'corp', 'company', 'operates', 'social', 'medium', 'platform', 'x', 'formerly', 'twitter', 'role', 'founding', 'boring', 'company', 'xai', 'neuralink', 'openai', 'musk', 'wealthiest', 'individual', 'world', 'january', 'forbes', 'estimate', 'net', 'worth', 'u', 'billion', 'member', 'wealthy', 'south', 'african', 'musk', 'family', 'musk', 'born', 'pretoria', 'briefly', 'attended', 'university', 'pretoria', 'age', 'immigrated', 'canada', 'acquiring', 'citizenship', 'canadian', 'born', 'mother', 'maye', 'two', 'year', 'later', 'matriculated', 'queen', 'university', 'canada', 'musk', 'later', 'transferred', 'university', 'pennsylvania', 'received', 'bachelor', 'degree', 'economics']\n",
      "['elon', 'reeve', 'musk', 'l', 'n', 'sk', 'born', 'june', 'businessman', 'political', 'figure', 'known', 'key', 'role', 'automotive', 'company', 'tesla', 'inc', 'space', 'company', 'spacex', 'since', 'january', 'serving', 'administrator', 'department', 'government', 'efficiency', 'second', 'donald', 'trump', 'presidential', 'administration', 'also', 'known', 'ownership', 'x', 'corp', 'company', 'operates', 'social', 'medium', 'platform', 'x', 'formerly', 'twitter', 'role', 'founding', 'boring', 'company', 'xai', 'neuralink', 'openai', 'musk', 'wealthiest', 'individual', 'world', 'january', 'forbes', 'estimate', 'net', 'worth', 'u', 'billion', 'member', 'wealthy', 'south', 'african', 'musk', 'family', 'musk', 'born', 'pretoria', 'briefly', 'attended', 'university', 'pretoria', 'age', 'immigrated', 'canada', 'acquiring', 'citizenship', 'canadian', 'born', 'mother', 'maye', 'two', 'year', 'later', 'matriculated', 'queen', 'university', 'canada', 'musk', 'later', 'transferred', 'university', 'pennsylvania', 'received', 'bachelor', 'degree', 'economics', 'physic']\n",
      "['elon', 'reeve', 'musk', 'l', 'n', 'sk', 'born', 'june', 'businessman', 'political', 'figure', 'known', 'key', 'role', 'automotive', 'company', 'tesla', 'inc', 'space', 'company', 'spacex', 'since', 'january', 'serving', 'administrator', 'department', 'government', 'efficiency', 'second', 'donald', 'trump', 'presidential', 'administration', 'also', 'known', 'ownership', 'x', 'corp', 'company', 'operates', 'social', 'medium', 'platform', 'x', 'formerly', 'twitter', 'role', 'founding', 'boring', 'company', 'xai', 'neuralink', 'openai', 'musk', 'wealthiest', 'individual', 'world', 'january', 'forbes', 'estimate', 'net', 'worth', 'u', 'billion', 'member', 'wealthy', 'south', 'african', 'musk', 'family', 'musk', 'born', 'pretoria', 'briefly', 'attended', 'university', 'pretoria', 'age', 'immigrated', 'canada', 'acquiring', 'citizenship', 'canadian', 'born', 'mother', 'maye', 'two', 'year', 'later', 'matriculated', 'queen', 'university', 'canada', 'musk', 'later', 'transferred', 'university', 'pennsylvania', 'received', 'bachelor', 'degree', 'economics', 'physic', 'moved']\n",
      "['elon', 'reeve', 'musk', 'l', 'n', 'sk', 'born', 'june', 'businessman', 'political', 'figure', 'known', 'key', 'role', 'automotive', 'company', 'tesla', 'inc', 'space', 'company', 'spacex', 'since', 'january', 'serving', 'administrator', 'department', 'government', 'efficiency', 'second', 'donald', 'trump', 'presidential', 'administration', 'also', 'known', 'ownership', 'x', 'corp', 'company', 'operates', 'social', 'medium', 'platform', 'x', 'formerly', 'twitter', 'role', 'founding', 'boring', 'company', 'xai', 'neuralink', 'openai', 'musk', 'wealthiest', 'individual', 'world', 'january', 'forbes', 'estimate', 'net', 'worth', 'u', 'billion', 'member', 'wealthy', 'south', 'african', 'musk', 'family', 'musk', 'born', 'pretoria', 'briefly', 'attended', 'university', 'pretoria', 'age', 'immigrated', 'canada', 'acquiring', 'citizenship', 'canadian', 'born', 'mother', 'maye', 'two', 'year', 'later', 'matriculated', 'queen', 'university', 'canada', 'musk', 'later', 'transferred', 'university', 'pennsylvania', 'received', 'bachelor', 'degree', 'economics', 'physic', 'moved', 'california']\n",
      "['elon', 'reeve', 'musk', 'l', 'n', 'sk', 'born', 'june', 'businessman', 'political', 'figure', 'known', 'key', 'role', 'automotive', 'company', 'tesla', 'inc', 'space', 'company', 'spacex', 'since', 'january', 'serving', 'administrator', 'department', 'government', 'efficiency', 'second', 'donald', 'trump', 'presidential', 'administration', 'also', 'known', 'ownership', 'x', 'corp', 'company', 'operates', 'social', 'medium', 'platform', 'x', 'formerly', 'twitter', 'role', 'founding', 'boring', 'company', 'xai', 'neuralink', 'openai', 'musk', 'wealthiest', 'individual', 'world', 'january', 'forbes', 'estimate', 'net', 'worth', 'u', 'billion', 'member', 'wealthy', 'south', 'african', 'musk', 'family', 'musk', 'born', 'pretoria', 'briefly', 'attended', 'university', 'pretoria', 'age', 'immigrated', 'canada', 'acquiring', 'citizenship', 'canadian', 'born', 'mother', 'maye', 'two', 'year', 'later', 'matriculated', 'queen', 'university', 'canada', 'musk', 'later', 'transferred', 'university', 'pennsylvania', 'received', 'bachelor', 'degree', 'economics', 'physic', 'moved', 'california', 'attend']\n",
      "['elon', 'reeve', 'musk', 'l', 'n', 'sk', 'born', 'june', 'businessman', 'political', 'figure', 'known', 'key', 'role', 'automotive', 'company', 'tesla', 'inc', 'space', 'company', 'spacex', 'since', 'january', 'serving', 'administrator', 'department', 'government', 'efficiency', 'second', 'donald', 'trump', 'presidential', 'administration', 'also', 'known', 'ownership', 'x', 'corp', 'company', 'operates', 'social', 'medium', 'platform', 'x', 'formerly', 'twitter', 'role', 'founding', 'boring', 'company', 'xai', 'neuralink', 'openai', 'musk', 'wealthiest', 'individual', 'world', 'january', 'forbes', 'estimate', 'net', 'worth', 'u', 'billion', 'member', 'wealthy', 'south', 'african', 'musk', 'family', 'musk', 'born', 'pretoria', 'briefly', 'attended', 'university', 'pretoria', 'age', 'immigrated', 'canada', 'acquiring', 'citizenship', 'canadian', 'born', 'mother', 'maye', 'two', 'year', 'later', 'matriculated', 'queen', 'university', 'canada', 'musk', 'later', 'transferred', 'university', 'pennsylvania', 'received', 'bachelor', 'degree', 'economics', 'physic', 'moved', 'california', 'attend', 'stanford']\n",
      "['elon', 'reeve', 'musk', 'l', 'n', 'sk', 'born', 'june', 'businessman', 'political', 'figure', 'known', 'key', 'role', 'automotive', 'company', 'tesla', 'inc', 'space', 'company', 'spacex', 'since', 'january', 'serving', 'administrator', 'department', 'government', 'efficiency', 'second', 'donald', 'trump', 'presidential', 'administration', 'also', 'known', 'ownership', 'x', 'corp', 'company', 'operates', 'social', 'medium', 'platform', 'x', 'formerly', 'twitter', 'role', 'founding', 'boring', 'company', 'xai', 'neuralink', 'openai', 'musk', 'wealthiest', 'individual', 'world', 'january', 'forbes', 'estimate', 'net', 'worth', 'u', 'billion', 'member', 'wealthy', 'south', 'african', 'musk', 'family', 'musk', 'born', 'pretoria', 'briefly', 'attended', 'university', 'pretoria', 'age', 'immigrated', 'canada', 'acquiring', 'citizenship', 'canadian', 'born', 'mother', 'maye', 'two', 'year', 'later', 'matriculated', 'queen', 'university', 'canada', 'musk', 'later', 'transferred', 'university', 'pennsylvania', 'received', 'bachelor', 'degree', 'economics', 'physic', 'moved', 'california', 'attend', 'stanford', 'university']\n",
      "['elon', 'reeve', 'musk', 'l', 'n', 'sk', 'born', 'june', 'businessman', 'political', 'figure', 'known', 'key', 'role', 'automotive', 'company', 'tesla', 'inc', 'space', 'company', 'spacex', 'since', 'january', 'serving', 'administrator', 'department', 'government', 'efficiency', 'second', 'donald', 'trump', 'presidential', 'administration', 'also', 'known', 'ownership', 'x', 'corp', 'company', 'operates', 'social', 'medium', 'platform', 'x', 'formerly', 'twitter', 'role', 'founding', 'boring', 'company', 'xai', 'neuralink', 'openai', 'musk', 'wealthiest', 'individual', 'world', 'january', 'forbes', 'estimate', 'net', 'worth', 'u', 'billion', 'member', 'wealthy', 'south', 'african', 'musk', 'family', 'musk', 'born', 'pretoria', 'briefly', 'attended', 'university', 'pretoria', 'age', 'immigrated', 'canada', 'acquiring', 'citizenship', 'canadian', 'born', 'mother', 'maye', 'two', 'year', 'later', 'matriculated', 'queen', 'university', 'canada', 'musk', 'later', 'transferred', 'university', 'pennsylvania', 'received', 'bachelor', 'degree', 'economics', 'physic', 'moved', 'california', 'attend', 'stanford', 'university', 'never']\n",
      "['elon', 'reeve', 'musk', 'l', 'n', 'sk', 'born', 'june', 'businessman', 'political', 'figure', 'known', 'key', 'role', 'automotive', 'company', 'tesla', 'inc', 'space', 'company', 'spacex', 'since', 'january', 'serving', 'administrator', 'department', 'government', 'efficiency', 'second', 'donald', 'trump', 'presidential', 'administration', 'also', 'known', 'ownership', 'x', 'corp', 'company', 'operates', 'social', 'medium', 'platform', 'x', 'formerly', 'twitter', 'role', 'founding', 'boring', 'company', 'xai', 'neuralink', 'openai', 'musk', 'wealthiest', 'individual', 'world', 'january', 'forbes', 'estimate', 'net', 'worth', 'u', 'billion', 'member', 'wealthy', 'south', 'african', 'musk', 'family', 'musk', 'born', 'pretoria', 'briefly', 'attended', 'university', 'pretoria', 'age', 'immigrated', 'canada', 'acquiring', 'citizenship', 'canadian', 'born', 'mother', 'maye', 'two', 'year', 'later', 'matriculated', 'queen', 'university', 'canada', 'musk', 'later', 'transferred', 'university', 'pennsylvania', 'received', 'bachelor', 'degree', 'economics', 'physic', 'moved', 'california', 'attend', 'stanford', 'university', 'never', 'enrolled']\n",
      "['elon', 'reeve', 'musk', 'l', 'n', 'sk', 'born', 'june', 'businessman', 'political', 'figure', 'known', 'key', 'role', 'automotive', 'company', 'tesla', 'inc', 'space', 'company', 'spacex', 'since', 'january', 'serving', 'administrator', 'department', 'government', 'efficiency', 'second', 'donald', 'trump', 'presidential', 'administration', 'also', 'known', 'ownership', 'x', 'corp', 'company', 'operates', 'social', 'medium', 'platform', 'x', 'formerly', 'twitter', 'role', 'founding', 'boring', 'company', 'xai', 'neuralink', 'openai', 'musk', 'wealthiest', 'individual', 'world', 'january', 'forbes', 'estimate', 'net', 'worth', 'u', 'billion', 'member', 'wealthy', 'south', 'african', 'musk', 'family', 'musk', 'born', 'pretoria', 'briefly', 'attended', 'university', 'pretoria', 'age', 'immigrated', 'canada', 'acquiring', 'citizenship', 'canadian', 'born', 'mother', 'maye', 'two', 'year', 'later', 'matriculated', 'queen', 'university', 'canada', 'musk', 'later', 'transferred', 'university', 'pennsylvania', 'received', 'bachelor', 'degree', 'economics', 'physic', 'moved', 'california', 'attend', 'stanford', 'university', 'never', 'enrolled', 'class']\n",
      "['elon', 'reeve', 'musk', 'l', 'n', 'sk', 'born', 'june', 'businessman', 'political', 'figure', 'known', 'key', 'role', 'automotive', 'company', 'tesla', 'inc', 'space', 'company', 'spacex', 'since', 'january', 'serving', 'administrator', 'department', 'government', 'efficiency', 'second', 'donald', 'trump', 'presidential', 'administration', 'also', 'known', 'ownership', 'x', 'corp', 'company', 'operates', 'social', 'medium', 'platform', 'x', 'formerly', 'twitter', 'role', 'founding', 'boring', 'company', 'xai', 'neuralink', 'openai', 'musk', 'wealthiest', 'individual', 'world', 'january', 'forbes', 'estimate', 'net', 'worth', 'u', 'billion', 'member', 'wealthy', 'south', 'african', 'musk', 'family', 'musk', 'born', 'pretoria', 'briefly', 'attended', 'university', 'pretoria', 'age', 'immigrated', 'canada', 'acquiring', 'citizenship', 'canadian', 'born', 'mother', 'maye', 'two', 'year', 'later', 'matriculated', 'queen', 'university', 'canada', 'musk', 'later', 'transferred', 'university', 'pennsylvania', 'received', 'bachelor', 'degree', 'economics', 'physic', 'moved', 'california', 'attend', 'stanford', 'university', 'never', 'enrolled', 'class', 'brother']\n",
      "['elon', 'reeve', 'musk', 'l', 'n', 'sk', 'born', 'june', 'businessman', 'political', 'figure', 'known', 'key', 'role', 'automotive', 'company', 'tesla', 'inc', 'space', 'company', 'spacex', 'since', 'january', 'serving', 'administrator', 'department', 'government', 'efficiency', 'second', 'donald', 'trump', 'presidential', 'administration', 'also', 'known', 'ownership', 'x', 'corp', 'company', 'operates', 'social', 'medium', 'platform', 'x', 'formerly', 'twitter', 'role', 'founding', 'boring', 'company', 'xai', 'neuralink', 'openai', 'musk', 'wealthiest', 'individual', 'world', 'january', 'forbes', 'estimate', 'net', 'worth', 'u', 'billion', 'member', 'wealthy', 'south', 'african', 'musk', 'family', 'musk', 'born', 'pretoria', 'briefly', 'attended', 'university', 'pretoria', 'age', 'immigrated', 'canada', 'acquiring', 'citizenship', 'canadian', 'born', 'mother', 'maye', 'two', 'year', 'later', 'matriculated', 'queen', 'university', 'canada', 'musk', 'later', 'transferred', 'university', 'pennsylvania', 'received', 'bachelor', 'degree', 'economics', 'physic', 'moved', 'california', 'attend', 'stanford', 'university', 'never', 'enrolled', 'class', 'brother', 'kimbal']\n",
      "['elon', 'reeve', 'musk', 'l', 'n', 'sk', 'born', 'june', 'businessman', 'political', 'figure', 'known', 'key', 'role', 'automotive', 'company', 'tesla', 'inc', 'space', 'company', 'spacex', 'since', 'january', 'serving', 'administrator', 'department', 'government', 'efficiency', 'second', 'donald', 'trump', 'presidential', 'administration', 'also', 'known', 'ownership', 'x', 'corp', 'company', 'operates', 'social', 'medium', 'platform', 'x', 'formerly', 'twitter', 'role', 'founding', 'boring', 'company', 'xai', 'neuralink', 'openai', 'musk', 'wealthiest', 'individual', 'world', 'january', 'forbes', 'estimate', 'net', 'worth', 'u', 'billion', 'member', 'wealthy', 'south', 'african', 'musk', 'family', 'musk', 'born', 'pretoria', 'briefly', 'attended', 'university', 'pretoria', 'age', 'immigrated', 'canada', 'acquiring', 'citizenship', 'canadian', 'born', 'mother', 'maye', 'two', 'year', 'later', 'matriculated', 'queen', 'university', 'canada', 'musk', 'later', 'transferred', 'university', 'pennsylvania', 'received', 'bachelor', 'degree', 'economics', 'physic', 'moved', 'california', 'attend', 'stanford', 'university', 'never', 'enrolled', 'class', 'brother', 'kimbal', 'co']\n",
      "['elon', 'reeve', 'musk', 'l', 'n', 'sk', 'born', 'june', 'businessman', 'political', 'figure', 'known', 'key', 'role', 'automotive', 'company', 'tesla', 'inc', 'space', 'company', 'spacex', 'since', 'january', 'serving', 'administrator', 'department', 'government', 'efficiency', 'second', 'donald', 'trump', 'presidential', 'administration', 'also', 'known', 'ownership', 'x', 'corp', 'company', 'operates', 'social', 'medium', 'platform', 'x', 'formerly', 'twitter', 'role', 'founding', 'boring', 'company', 'xai', 'neuralink', 'openai', 'musk', 'wealthiest', 'individual', 'world', 'january', 'forbes', 'estimate', 'net', 'worth', 'u', 'billion', 'member', 'wealthy', 'south', 'african', 'musk', 'family', 'musk', 'born', 'pretoria', 'briefly', 'attended', 'university', 'pretoria', 'age', 'immigrated', 'canada', 'acquiring', 'citizenship', 'canadian', 'born', 'mother', 'maye', 'two', 'year', 'later', 'matriculated', 'queen', 'university', 'canada', 'musk', 'later', 'transferred', 'university', 'pennsylvania', 'received', 'bachelor', 'degree', 'economics', 'physic', 'moved', 'california', 'attend', 'stanford', 'university', 'never', 'enrolled', 'class', 'brother', 'kimbal', 'co', 'founded']\n",
      "['elon', 'reeve', 'musk', 'l', 'n', 'sk', 'born', 'june', 'businessman', 'political', 'figure', 'known', 'key', 'role', 'automotive', 'company', 'tesla', 'inc', 'space', 'company', 'spacex', 'since', 'january', 'serving', 'administrator', 'department', 'government', 'efficiency', 'second', 'donald', 'trump', 'presidential', 'administration', 'also', 'known', 'ownership', 'x', 'corp', 'company', 'operates', 'social', 'medium', 'platform', 'x', 'formerly', 'twitter', 'role', 'founding', 'boring', 'company', 'xai', 'neuralink', 'openai', 'musk', 'wealthiest', 'individual', 'world', 'january', 'forbes', 'estimate', 'net', 'worth', 'u', 'billion', 'member', 'wealthy', 'south', 'african', 'musk', 'family', 'musk', 'born', 'pretoria', 'briefly', 'attended', 'university', 'pretoria', 'age', 'immigrated', 'canada', 'acquiring', 'citizenship', 'canadian', 'born', 'mother', 'maye', 'two', 'year', 'later', 'matriculated', 'queen', 'university', 'canada', 'musk', 'later', 'transferred', 'university', 'pennsylvania', 'received', 'bachelor', 'degree', 'economics', 'physic', 'moved', 'california', 'attend', 'stanford', 'university', 'never', 'enrolled', 'class', 'brother', 'kimbal', 'co', 'founded', 'online']\n",
      "['elon', 'reeve', 'musk', 'l', 'n', 'sk', 'born', 'june', 'businessman', 'political', 'figure', 'known', 'key', 'role', 'automotive', 'company', 'tesla', 'inc', 'space', 'company', 'spacex', 'since', 'january', 'serving', 'administrator', 'department', 'government', 'efficiency', 'second', 'donald', 'trump', 'presidential', 'administration', 'also', 'known', 'ownership', 'x', 'corp', 'company', 'operates', 'social', 'medium', 'platform', 'x', 'formerly', 'twitter', 'role', 'founding', 'boring', 'company', 'xai', 'neuralink', 'openai', 'musk', 'wealthiest', 'individual', 'world', 'january', 'forbes', 'estimate', 'net', 'worth', 'u', 'billion', 'member', 'wealthy', 'south', 'african', 'musk', 'family', 'musk', 'born', 'pretoria', 'briefly', 'attended', 'university', 'pretoria', 'age', 'immigrated', 'canada', 'acquiring', 'citizenship', 'canadian', 'born', 'mother', 'maye', 'two', 'year', 'later', 'matriculated', 'queen', 'university', 'canada', 'musk', 'later', 'transferred', 'university', 'pennsylvania', 'received', 'bachelor', 'degree', 'economics', 'physic', 'moved', 'california', 'attend', 'stanford', 'university', 'never', 'enrolled', 'class', 'brother', 'kimbal', 'co', 'founded', 'online', 'city']\n",
      "['elon', 'reeve', 'musk', 'l', 'n', 'sk', 'born', 'june', 'businessman', 'political', 'figure', 'known', 'key', 'role', 'automotive', 'company', 'tesla', 'inc', 'space', 'company', 'spacex', 'since', 'january', 'serving', 'administrator', 'department', 'government', 'efficiency', 'second', 'donald', 'trump', 'presidential', 'administration', 'also', 'known', 'ownership', 'x', 'corp', 'company', 'operates', 'social', 'medium', 'platform', 'x', 'formerly', 'twitter', 'role', 'founding', 'boring', 'company', 'xai', 'neuralink', 'openai', 'musk', 'wealthiest', 'individual', 'world', 'january', 'forbes', 'estimate', 'net', 'worth', 'u', 'billion', 'member', 'wealthy', 'south', 'african', 'musk', 'family', 'musk', 'born', 'pretoria', 'briefly', 'attended', 'university', 'pretoria', 'age', 'immigrated', 'canada', 'acquiring', 'citizenship', 'canadian', 'born', 'mother', 'maye', 'two', 'year', 'later', 'matriculated', 'queen', 'university', 'canada', 'musk', 'later', 'transferred', 'university', 'pennsylvania', 'received', 'bachelor', 'degree', 'economics', 'physic', 'moved', 'california', 'attend', 'stanford', 'university', 'never', 'enrolled', 'class', 'brother', 'kimbal', 'co', 'founded', 'online', 'city', 'guide']\n",
      "['elon', 'reeve', 'musk', 'l', 'n', 'sk', 'born', 'june', 'businessman', 'political', 'figure', 'known', 'key', 'role', 'automotive', 'company', 'tesla', 'inc', 'space', 'company', 'spacex', 'since', 'january', 'serving', 'administrator', 'department', 'government', 'efficiency', 'second', 'donald', 'trump', 'presidential', 'administration', 'also', 'known', 'ownership', 'x', 'corp', 'company', 'operates', 'social', 'medium', 'platform', 'x', 'formerly', 'twitter', 'role', 'founding', 'boring', 'company', 'xai', 'neuralink', 'openai', 'musk', 'wealthiest', 'individual', 'world', 'january', 'forbes', 'estimate', 'net', 'worth', 'u', 'billion', 'member', 'wealthy', 'south', 'african', 'musk', 'family', 'musk', 'born', 'pretoria', 'briefly', 'attended', 'university', 'pretoria', 'age', 'immigrated', 'canada', 'acquiring', 'citizenship', 'canadian', 'born', 'mother', 'maye', 'two', 'year', 'later', 'matriculated', 'queen', 'university', 'canada', 'musk', 'later', 'transferred', 'university', 'pennsylvania', 'received', 'bachelor', 'degree', 'economics', 'physic', 'moved', 'california', 'attend', 'stanford', 'university', 'never', 'enrolled', 'class', 'brother', 'kimbal', 'co', 'founded', 'online', 'city', 'guide', 'software']\n",
      "['elon', 'reeve', 'musk', 'l', 'n', 'sk', 'born', 'june', 'businessman', 'political', 'figure', 'known', 'key', 'role', 'automotive', 'company', 'tesla', 'inc', 'space', 'company', 'spacex', 'since', 'january', 'serving', 'administrator', 'department', 'government', 'efficiency', 'second', 'donald', 'trump', 'presidential', 'administration', 'also', 'known', 'ownership', 'x', 'corp', 'company', 'operates', 'social', 'medium', 'platform', 'x', 'formerly', 'twitter', 'role', 'founding', 'boring', 'company', 'xai', 'neuralink', 'openai', 'musk', 'wealthiest', 'individual', 'world', 'january', 'forbes', 'estimate', 'net', 'worth', 'u', 'billion', 'member', 'wealthy', 'south', 'african', 'musk', 'family', 'musk', 'born', 'pretoria', 'briefly', 'attended', 'university', 'pretoria', 'age', 'immigrated', 'canada', 'acquiring', 'citizenship', 'canadian', 'born', 'mother', 'maye', 'two', 'year', 'later', 'matriculated', 'queen', 'university', 'canada', 'musk', 'later', 'transferred', 'university', 'pennsylvania', 'received', 'bachelor', 'degree', 'economics', 'physic', 'moved', 'california', 'attend', 'stanford', 'university', 'never', 'enrolled', 'class', 'brother', 'kimbal', 'co', 'founded', 'online', 'city', 'guide', 'software', 'company']\n",
      "['elon', 'reeve', 'musk', 'l', 'n', 'sk', 'born', 'june', 'businessman', 'political', 'figure', 'known', 'key', 'role', 'automotive', 'company', 'tesla', 'inc', 'space', 'company', 'spacex', 'since', 'january', 'serving', 'administrator', 'department', 'government', 'efficiency', 'second', 'donald', 'trump', 'presidential', 'administration', 'also', 'known', 'ownership', 'x', 'corp', 'company', 'operates', 'social', 'medium', 'platform', 'x', 'formerly', 'twitter', 'role', 'founding', 'boring', 'company', 'xai', 'neuralink', 'openai', 'musk', 'wealthiest', 'individual', 'world', 'january', 'forbes', 'estimate', 'net', 'worth', 'u', 'billion', 'member', 'wealthy', 'south', 'african', 'musk', 'family', 'musk', 'born', 'pretoria', 'briefly', 'attended', 'university', 'pretoria', 'age', 'immigrated', 'canada', 'acquiring', 'citizenship', 'canadian', 'born', 'mother', 'maye', 'two', 'year', 'later', 'matriculated', 'queen', 'university', 'canada', 'musk', 'later', 'transferred', 'university', 'pennsylvania', 'received', 'bachelor', 'degree', 'economics', 'physic', 'moved', 'california', 'attend', 'stanford', 'university', 'never', 'enrolled', 'class', 'brother', 'kimbal', 'co', 'founded', 'online', 'city', 'guide', 'software', 'company', 'zip']\n",
      "['elon', 'reeve', 'musk', 'l', 'n', 'sk', 'born', 'june', 'businessman', 'political', 'figure', 'known', 'key', 'role', 'automotive', 'company', 'tesla', 'inc', 'space', 'company', 'spacex', 'since', 'january', 'serving', 'administrator', 'department', 'government', 'efficiency', 'second', 'donald', 'trump', 'presidential', 'administration', 'also', 'known', 'ownership', 'x', 'corp', 'company', 'operates', 'social', 'medium', 'platform', 'x', 'formerly', 'twitter', 'role', 'founding', 'boring', 'company', 'xai', 'neuralink', 'openai', 'musk', 'wealthiest', 'individual', 'world', 'january', 'forbes', 'estimate', 'net', 'worth', 'u', 'billion', 'member', 'wealthy', 'south', 'african', 'musk', 'family', 'musk', 'born', 'pretoria', 'briefly', 'attended', 'university', 'pretoria', 'age', 'immigrated', 'canada', 'acquiring', 'citizenship', 'canadian', 'born', 'mother', 'maye', 'two', 'year', 'later', 'matriculated', 'queen', 'university', 'canada', 'musk', 'later', 'transferred', 'university', 'pennsylvania', 'received', 'bachelor', 'degree', 'economics', 'physic', 'moved', 'california', 'attend', 'stanford', 'university', 'never', 'enrolled', 'class', 'brother', 'kimbal', 'co', 'founded', 'online', 'city', 'guide', 'software', 'company', 'zip', 'startup']\n",
      "['elon', 'reeve', 'musk', 'l', 'n', 'sk', 'born', 'june', 'businessman', 'political', 'figure', 'known', 'key', 'role', 'automotive', 'company', 'tesla', 'inc', 'space', 'company', 'spacex', 'since', 'january', 'serving', 'administrator', 'department', 'government', 'efficiency', 'second', 'donald', 'trump', 'presidential', 'administration', 'also', 'known', 'ownership', 'x', 'corp', 'company', 'operates', 'social', 'medium', 'platform', 'x', 'formerly', 'twitter', 'role', 'founding', 'boring', 'company', 'xai', 'neuralink', 'openai', 'musk', 'wealthiest', 'individual', 'world', 'january', 'forbes', 'estimate', 'net', 'worth', 'u', 'billion', 'member', 'wealthy', 'south', 'african', 'musk', 'family', 'musk', 'born', 'pretoria', 'briefly', 'attended', 'university', 'pretoria', 'age', 'immigrated', 'canada', 'acquiring', 'citizenship', 'canadian', 'born', 'mother', 'maye', 'two', 'year', 'later', 'matriculated', 'queen', 'university', 'canada', 'musk', 'later', 'transferred', 'university', 'pennsylvania', 'received', 'bachelor', 'degree', 'economics', 'physic', 'moved', 'california', 'attend', 'stanford', 'university', 'never', 'enrolled', 'class', 'brother', 'kimbal', 'co', 'founded', 'online', 'city', 'guide', 'software', 'company', 'zip', 'startup', 'acquired']\n",
      "['elon', 'reeve', 'musk', 'l', 'n', 'sk', 'born', 'june', 'businessman', 'political', 'figure', 'known', 'key', 'role', 'automotive', 'company', 'tesla', 'inc', 'space', 'company', 'spacex', 'since', 'january', 'serving', 'administrator', 'department', 'government', 'efficiency', 'second', 'donald', 'trump', 'presidential', 'administration', 'also', 'known', 'ownership', 'x', 'corp', 'company', 'operates', 'social', 'medium', 'platform', 'x', 'formerly', 'twitter', 'role', 'founding', 'boring', 'company', 'xai', 'neuralink', 'openai', 'musk', 'wealthiest', 'individual', 'world', 'january', 'forbes', 'estimate', 'net', 'worth', 'u', 'billion', 'member', 'wealthy', 'south', 'african', 'musk', 'family', 'musk', 'born', 'pretoria', 'briefly', 'attended', 'university', 'pretoria', 'age', 'immigrated', 'canada', 'acquiring', 'citizenship', 'canadian', 'born', 'mother', 'maye', 'two', 'year', 'later', 'matriculated', 'queen', 'university', 'canada', 'musk', 'later', 'transferred', 'university', 'pennsylvania', 'received', 'bachelor', 'degree', 'economics', 'physic', 'moved', 'california', 'attend', 'stanford', 'university', 'never', 'enrolled', 'class', 'brother', 'kimbal', 'co', 'founded', 'online', 'city', 'guide', 'software', 'company', 'zip', 'startup', 'acquired', 'compaq']\n",
      "['elon', 'reeve', 'musk', 'l', 'n', 'sk', 'born', 'june', 'businessman', 'political', 'figure', 'known', 'key', 'role', 'automotive', 'company', 'tesla', 'inc', 'space', 'company', 'spacex', 'since', 'january', 'serving', 'administrator', 'department', 'government', 'efficiency', 'second', 'donald', 'trump', 'presidential', 'administration', 'also', 'known', 'ownership', 'x', 'corp', 'company', 'operates', 'social', 'medium', 'platform', 'x', 'formerly', 'twitter', 'role', 'founding', 'boring', 'company', 'xai', 'neuralink', 'openai', 'musk', 'wealthiest', 'individual', 'world', 'january', 'forbes', 'estimate', 'net', 'worth', 'u', 'billion', 'member', 'wealthy', 'south', 'african', 'musk', 'family', 'musk', 'born', 'pretoria', 'briefly', 'attended', 'university', 'pretoria', 'age', 'immigrated', 'canada', 'acquiring', 'citizenship', 'canadian', 'born', 'mother', 'maye', 'two', 'year', 'later', 'matriculated', 'queen', 'university', 'canada', 'musk', 'later', 'transferred', 'university', 'pennsylvania', 'received', 'bachelor', 'degree', 'economics', 'physic', 'moved', 'california', 'attend', 'stanford', 'university', 'never', 'enrolled', 'class', 'brother', 'kimbal', 'co', 'founded', 'online', 'city', 'guide', 'software', 'company', 'zip', 'startup', 'acquired', 'compaq', 'million']\n",
      "['elon', 'reeve', 'musk', 'l', 'n', 'sk', 'born', 'june', 'businessman', 'political', 'figure', 'known', 'key', 'role', 'automotive', 'company', 'tesla', 'inc', 'space', 'company', 'spacex', 'since', 'january', 'serving', 'administrator', 'department', 'government', 'efficiency', 'second', 'donald', 'trump', 'presidential', 'administration', 'also', 'known', 'ownership', 'x', 'corp', 'company', 'operates', 'social', 'medium', 'platform', 'x', 'formerly', 'twitter', 'role', 'founding', 'boring', 'company', 'xai', 'neuralink', 'openai', 'musk', 'wealthiest', 'individual', 'world', 'january', 'forbes', 'estimate', 'net', 'worth', 'u', 'billion', 'member', 'wealthy', 'south', 'african', 'musk', 'family', 'musk', 'born', 'pretoria', 'briefly', 'attended', 'university', 'pretoria', 'age', 'immigrated', 'canada', 'acquiring', 'citizenship', 'canadian', 'born', 'mother', 'maye', 'two', 'year', 'later', 'matriculated', 'queen', 'university', 'canada', 'musk', 'later', 'transferred', 'university', 'pennsylvania', 'received', 'bachelor', 'degree', 'economics', 'physic', 'moved', 'california', 'attend', 'stanford', 'university', 'never', 'enrolled', 'class', 'brother', 'kimbal', 'co', 'founded', 'online', 'city', 'guide', 'software', 'company', 'zip', 'startup', 'acquired', 'compaq', 'million', 'year']\n",
      "['elon', 'reeve', 'musk', 'l', 'n', 'sk', 'born', 'june', 'businessman', 'political', 'figure', 'known', 'key', 'role', 'automotive', 'company', 'tesla', 'inc', 'space', 'company', 'spacex', 'since', 'january', 'serving', 'administrator', 'department', 'government', 'efficiency', 'second', 'donald', 'trump', 'presidential', 'administration', 'also', 'known', 'ownership', 'x', 'corp', 'company', 'operates', 'social', 'medium', 'platform', 'x', 'formerly', 'twitter', 'role', 'founding', 'boring', 'company', 'xai', 'neuralink', 'openai', 'musk', 'wealthiest', 'individual', 'world', 'january', 'forbes', 'estimate', 'net', 'worth', 'u', 'billion', 'member', 'wealthy', 'south', 'african', 'musk', 'family', 'musk', 'born', 'pretoria', 'briefly', 'attended', 'university', 'pretoria', 'age', 'immigrated', 'canada', 'acquiring', 'citizenship', 'canadian', 'born', 'mother', 'maye', 'two', 'year', 'later', 'matriculated', 'queen', 'university', 'canada', 'musk', 'later', 'transferred', 'university', 'pennsylvania', 'received', 'bachelor', 'degree', 'economics', 'physic', 'moved', 'california', 'attend', 'stanford', 'university', 'never', 'enrolled', 'class', 'brother', 'kimbal', 'co', 'founded', 'online', 'city', 'guide', 'software', 'company', 'zip', 'startup', 'acquired', 'compaq', 'million', 'year', 'musk']\n",
      "['elon', 'reeve', 'musk', 'l', 'n', 'sk', 'born', 'june', 'businessman', 'political', 'figure', 'known', 'key', 'role', 'automotive', 'company', 'tesla', 'inc', 'space', 'company', 'spacex', 'since', 'january', 'serving', 'administrator', 'department', 'government', 'efficiency', 'second', 'donald', 'trump', 'presidential', 'administration', 'also', 'known', 'ownership', 'x', 'corp', 'company', 'operates', 'social', 'medium', 'platform', 'x', 'formerly', 'twitter', 'role', 'founding', 'boring', 'company', 'xai', 'neuralink', 'openai', 'musk', 'wealthiest', 'individual', 'world', 'january', 'forbes', 'estimate', 'net', 'worth', 'u', 'billion', 'member', 'wealthy', 'south', 'african', 'musk', 'family', 'musk', 'born', 'pretoria', 'briefly', 'attended', 'university', 'pretoria', 'age', 'immigrated', 'canada', 'acquiring', 'citizenship', 'canadian', 'born', 'mother', 'maye', 'two', 'year', 'later', 'matriculated', 'queen', 'university', 'canada', 'musk', 'later', 'transferred', 'university', 'pennsylvania', 'received', 'bachelor', 'degree', 'economics', 'physic', 'moved', 'california', 'attend', 'stanford', 'university', 'never', 'enrolled', 'class', 'brother', 'kimbal', 'co', 'founded', 'online', 'city', 'guide', 'software', 'company', 'zip', 'startup', 'acquired', 'compaq', 'million', 'year', 'musk', 'co']\n",
      "['elon', 'reeve', 'musk', 'l', 'n', 'sk', 'born', 'june', 'businessman', 'political', 'figure', 'known', 'key', 'role', 'automotive', 'company', 'tesla', 'inc', 'space', 'company', 'spacex', 'since', 'january', 'serving', 'administrator', 'department', 'government', 'efficiency', 'second', 'donald', 'trump', 'presidential', 'administration', 'also', 'known', 'ownership', 'x', 'corp', 'company', 'operates', 'social', 'medium', 'platform', 'x', 'formerly', 'twitter', 'role', 'founding', 'boring', 'company', 'xai', 'neuralink', 'openai', 'musk', 'wealthiest', 'individual', 'world', 'january', 'forbes', 'estimate', 'net', 'worth', 'u', 'billion', 'member', 'wealthy', 'south', 'african', 'musk', 'family', 'musk', 'born', 'pretoria', 'briefly', 'attended', 'university', 'pretoria', 'age', 'immigrated', 'canada', 'acquiring', 'citizenship', 'canadian', 'born', 'mother', 'maye', 'two', 'year', 'later', 'matriculated', 'queen', 'university', 'canada', 'musk', 'later', 'transferred', 'university', 'pennsylvania', 'received', 'bachelor', 'degree', 'economics', 'physic', 'moved', 'california', 'attend', 'stanford', 'university', 'never', 'enrolled', 'class', 'brother', 'kimbal', 'co', 'founded', 'online', 'city', 'guide', 'software', 'company', 'zip', 'startup', 'acquired', 'compaq', 'million', 'year', 'musk', 'co', 'founded']\n",
      "['elon', 'reeve', 'musk', 'l', 'n', 'sk', 'born', 'june', 'businessman', 'political', 'figure', 'known', 'key', 'role', 'automotive', 'company', 'tesla', 'inc', 'space', 'company', 'spacex', 'since', 'january', 'serving', 'administrator', 'department', 'government', 'efficiency', 'second', 'donald', 'trump', 'presidential', 'administration', 'also', 'known', 'ownership', 'x', 'corp', 'company', 'operates', 'social', 'medium', 'platform', 'x', 'formerly', 'twitter', 'role', 'founding', 'boring', 'company', 'xai', 'neuralink', 'openai', 'musk', 'wealthiest', 'individual', 'world', 'january', 'forbes', 'estimate', 'net', 'worth', 'u', 'billion', 'member', 'wealthy', 'south', 'african', 'musk', 'family', 'musk', 'born', 'pretoria', 'briefly', 'attended', 'university', 'pretoria', 'age', 'immigrated', 'canada', 'acquiring', 'citizenship', 'canadian', 'born', 'mother', 'maye', 'two', 'year', 'later', 'matriculated', 'queen', 'university', 'canada', 'musk', 'later', 'transferred', 'university', 'pennsylvania', 'received', 'bachelor', 'degree', 'economics', 'physic', 'moved', 'california', 'attend', 'stanford', 'university', 'never', 'enrolled', 'class', 'brother', 'kimbal', 'co', 'founded', 'online', 'city', 'guide', 'software', 'company', 'zip', 'startup', 'acquired', 'compaq', 'million', 'year', 'musk', 'co', 'founded', 'x']\n",
      "['elon', 'reeve', 'musk', 'l', 'n', 'sk', 'born', 'june', 'businessman', 'political', 'figure', 'known', 'key', 'role', 'automotive', 'company', 'tesla', 'inc', 'space', 'company', 'spacex', 'since', 'january', 'serving', 'administrator', 'department', 'government', 'efficiency', 'second', 'donald', 'trump', 'presidential', 'administration', 'also', 'known', 'ownership', 'x', 'corp', 'company', 'operates', 'social', 'medium', 'platform', 'x', 'formerly', 'twitter', 'role', 'founding', 'boring', 'company', 'xai', 'neuralink', 'openai', 'musk', 'wealthiest', 'individual', 'world', 'january', 'forbes', 'estimate', 'net', 'worth', 'u', 'billion', 'member', 'wealthy', 'south', 'african', 'musk', 'family', 'musk', 'born', 'pretoria', 'briefly', 'attended', 'university', 'pretoria', 'age', 'immigrated', 'canada', 'acquiring', 'citizenship', 'canadian', 'born', 'mother', 'maye', 'two', 'year', 'later', 'matriculated', 'queen', 'university', 'canada', 'musk', 'later', 'transferred', 'university', 'pennsylvania', 'received', 'bachelor', 'degree', 'economics', 'physic', 'moved', 'california', 'attend', 'stanford', 'university', 'never', 'enrolled', 'class', 'brother', 'kimbal', 'co', 'founded', 'online', 'city', 'guide', 'software', 'company', 'zip', 'startup', 'acquired', 'compaq', 'million', 'year', 'musk', 'co', 'founded', 'x', 'com']\n",
      "['elon', 'reeve', 'musk', 'l', 'n', 'sk', 'born', 'june', 'businessman', 'political', 'figure', 'known', 'key', 'role', 'automotive', 'company', 'tesla', 'inc', 'space', 'company', 'spacex', 'since', 'january', 'serving', 'administrator', 'department', 'government', 'efficiency', 'second', 'donald', 'trump', 'presidential', 'administration', 'also', 'known', 'ownership', 'x', 'corp', 'company', 'operates', 'social', 'medium', 'platform', 'x', 'formerly', 'twitter', 'role', 'founding', 'boring', 'company', 'xai', 'neuralink', 'openai', 'musk', 'wealthiest', 'individual', 'world', 'january', 'forbes', 'estimate', 'net', 'worth', 'u', 'billion', 'member', 'wealthy', 'south', 'african', 'musk', 'family', 'musk', 'born', 'pretoria', 'briefly', 'attended', 'university', 'pretoria', 'age', 'immigrated', 'canada', 'acquiring', 'citizenship', 'canadian', 'born', 'mother', 'maye', 'two', 'year', 'later', 'matriculated', 'queen', 'university', 'canada', 'musk', 'later', 'transferred', 'university', 'pennsylvania', 'received', 'bachelor', 'degree', 'economics', 'physic', 'moved', 'california', 'attend', 'stanford', 'university', 'never', 'enrolled', 'class', 'brother', 'kimbal', 'co', 'founded', 'online', 'city', 'guide', 'software', 'company', 'zip', 'startup', 'acquired', 'compaq', 'million', 'year', 'musk', 'co', 'founded', 'x', 'com', 'direct']\n",
      "['elon', 'reeve', 'musk', 'l', 'n', 'sk', 'born', 'june', 'businessman', 'political', 'figure', 'known', 'key', 'role', 'automotive', 'company', 'tesla', 'inc', 'space', 'company', 'spacex', 'since', 'january', 'serving', 'administrator', 'department', 'government', 'efficiency', 'second', 'donald', 'trump', 'presidential', 'administration', 'also', 'known', 'ownership', 'x', 'corp', 'company', 'operates', 'social', 'medium', 'platform', 'x', 'formerly', 'twitter', 'role', 'founding', 'boring', 'company', 'xai', 'neuralink', 'openai', 'musk', 'wealthiest', 'individual', 'world', 'january', 'forbes', 'estimate', 'net', 'worth', 'u', 'billion', 'member', 'wealthy', 'south', 'african', 'musk', 'family', 'musk', 'born', 'pretoria', 'briefly', 'attended', 'university', 'pretoria', 'age', 'immigrated', 'canada', 'acquiring', 'citizenship', 'canadian', 'born', 'mother', 'maye', 'two', 'year', 'later', 'matriculated', 'queen', 'university', 'canada', 'musk', 'later', 'transferred', 'university', 'pennsylvania', 'received', 'bachelor', 'degree', 'economics', 'physic', 'moved', 'california', 'attend', 'stanford', 'university', 'never', 'enrolled', 'class', 'brother', 'kimbal', 'co', 'founded', 'online', 'city', 'guide', 'software', 'company', 'zip', 'startup', 'acquired', 'compaq', 'million', 'year', 'musk', 'co', 'founded', 'x', 'com', 'direct', 'bank']\n",
      "['elon', 'reeve', 'musk', 'l', 'n', 'sk', 'born', 'june', 'businessman', 'political', 'figure', 'known', 'key', 'role', 'automotive', 'company', 'tesla', 'inc', 'space', 'company', 'spacex', 'since', 'january', 'serving', 'administrator', 'department', 'government', 'efficiency', 'second', 'donald', 'trump', 'presidential', 'administration', 'also', 'known', 'ownership', 'x', 'corp', 'company', 'operates', 'social', 'medium', 'platform', 'x', 'formerly', 'twitter', 'role', 'founding', 'boring', 'company', 'xai', 'neuralink', 'openai', 'musk', 'wealthiest', 'individual', 'world', 'january', 'forbes', 'estimate', 'net', 'worth', 'u', 'billion', 'member', 'wealthy', 'south', 'african', 'musk', 'family', 'musk', 'born', 'pretoria', 'briefly', 'attended', 'university', 'pretoria', 'age', 'immigrated', 'canada', 'acquiring', 'citizenship', 'canadian', 'born', 'mother', 'maye', 'two', 'year', 'later', 'matriculated', 'queen', 'university', 'canada', 'musk', 'later', 'transferred', 'university', 'pennsylvania', 'received', 'bachelor', 'degree', 'economics', 'physic', 'moved', 'california', 'attend', 'stanford', 'university', 'never', 'enrolled', 'class', 'brother', 'kimbal', 'co', 'founded', 'online', 'city', 'guide', 'software', 'company', 'zip', 'startup', 'acquired', 'compaq', 'million', 'year', 'musk', 'co', 'founded', 'x', 'com', 'direct', 'bank', 'x']\n",
      "['elon', 'reeve', 'musk', 'l', 'n', 'sk', 'born', 'june', 'businessman', 'political', 'figure', 'known', 'key', 'role', 'automotive', 'company', 'tesla', 'inc', 'space', 'company', 'spacex', 'since', 'january', 'serving', 'administrator', 'department', 'government', 'efficiency', 'second', 'donald', 'trump', 'presidential', 'administration', 'also', 'known', 'ownership', 'x', 'corp', 'company', 'operates', 'social', 'medium', 'platform', 'x', 'formerly', 'twitter', 'role', 'founding', 'boring', 'company', 'xai', 'neuralink', 'openai', 'musk', 'wealthiest', 'individual', 'world', 'january', 'forbes', 'estimate', 'net', 'worth', 'u', 'billion', 'member', 'wealthy', 'south', 'african', 'musk', 'family', 'musk', 'born', 'pretoria', 'briefly', 'attended', 'university', 'pretoria', 'age', 'immigrated', 'canada', 'acquiring', 'citizenship', 'canadian', 'born', 'mother', 'maye', 'two', 'year', 'later', 'matriculated', 'queen', 'university', 'canada', 'musk', 'later', 'transferred', 'university', 'pennsylvania', 'received', 'bachelor', 'degree', 'economics', 'physic', 'moved', 'california', 'attend', 'stanford', 'university', 'never', 'enrolled', 'class', 'brother', 'kimbal', 'co', 'founded', 'online', 'city', 'guide', 'software', 'company', 'zip', 'startup', 'acquired', 'compaq', 'million', 'year', 'musk', 'co', 'founded', 'x', 'com', 'direct', 'bank', 'x', 'com']\n",
      "['elon', 'reeve', 'musk', 'l', 'n', 'sk', 'born', 'june', 'businessman', 'political', 'figure', 'known', 'key', 'role', 'automotive', 'company', 'tesla', 'inc', 'space', 'company', 'spacex', 'since', 'january', 'serving', 'administrator', 'department', 'government', 'efficiency', 'second', 'donald', 'trump', 'presidential', 'administration', 'also', 'known', 'ownership', 'x', 'corp', 'company', 'operates', 'social', 'medium', 'platform', 'x', 'formerly', 'twitter', 'role', 'founding', 'boring', 'company', 'xai', 'neuralink', 'openai', 'musk', 'wealthiest', 'individual', 'world', 'january', 'forbes', 'estimate', 'net', 'worth', 'u', 'billion', 'member', 'wealthy', 'south', 'african', 'musk', 'family', 'musk', 'born', 'pretoria', 'briefly', 'attended', 'university', 'pretoria', 'age', 'immigrated', 'canada', 'acquiring', 'citizenship', 'canadian', 'born', 'mother', 'maye', 'two', 'year', 'later', 'matriculated', 'queen', 'university', 'canada', 'musk', 'later', 'transferred', 'university', 'pennsylvania', 'received', 'bachelor', 'degree', 'economics', 'physic', 'moved', 'california', 'attend', 'stanford', 'university', 'never', 'enrolled', 'class', 'brother', 'kimbal', 'co', 'founded', 'online', 'city', 'guide', 'software', 'company', 'zip', 'startup', 'acquired', 'compaq', 'million', 'year', 'musk', 'co', 'founded', 'x', 'com', 'direct', 'bank', 'x', 'com', 'merged']\n",
      "['elon', 'reeve', 'musk', 'l', 'n', 'sk', 'born', 'june', 'businessman', 'political', 'figure', 'known', 'key', 'role', 'automotive', 'company', 'tesla', 'inc', 'space', 'company', 'spacex', 'since', 'january', 'serving', 'administrator', 'department', 'government', 'efficiency', 'second', 'donald', 'trump', 'presidential', 'administration', 'also', 'known', 'ownership', 'x', 'corp', 'company', 'operates', 'social', 'medium', 'platform', 'x', 'formerly', 'twitter', 'role', 'founding', 'boring', 'company', 'xai', 'neuralink', 'openai', 'musk', 'wealthiest', 'individual', 'world', 'january', 'forbes', 'estimate', 'net', 'worth', 'u', 'billion', 'member', 'wealthy', 'south', 'african', 'musk', 'family', 'musk', 'born', 'pretoria', 'briefly', 'attended', 'university', 'pretoria', 'age', 'immigrated', 'canada', 'acquiring', 'citizenship', 'canadian', 'born', 'mother', 'maye', 'two', 'year', 'later', 'matriculated', 'queen', 'university', 'canada', 'musk', 'later', 'transferred', 'university', 'pennsylvania', 'received', 'bachelor', 'degree', 'economics', 'physic', 'moved', 'california', 'attend', 'stanford', 'university', 'never', 'enrolled', 'class', 'brother', 'kimbal', 'co', 'founded', 'online', 'city', 'guide', 'software', 'company', 'zip', 'startup', 'acquired', 'compaq', 'million', 'year', 'musk', 'co', 'founded', 'x', 'com', 'direct', 'bank', 'x', 'com', 'merged', 'confinity']\n",
      "['elon', 'reeve', 'musk', 'l', 'n', 'sk', 'born', 'june', 'businessman', 'political', 'figure', 'known', 'key', 'role', 'automotive', 'company', 'tesla', 'inc', 'space', 'company', 'spacex', 'since', 'january', 'serving', 'administrator', 'department', 'government', 'efficiency', 'second', 'donald', 'trump', 'presidential', 'administration', 'also', 'known', 'ownership', 'x', 'corp', 'company', 'operates', 'social', 'medium', 'platform', 'x', 'formerly', 'twitter', 'role', 'founding', 'boring', 'company', 'xai', 'neuralink', 'openai', 'musk', 'wealthiest', 'individual', 'world', 'january', 'forbes', 'estimate', 'net', 'worth', 'u', 'billion', 'member', 'wealthy', 'south', 'african', 'musk', 'family', 'musk', 'born', 'pretoria', 'briefly', 'attended', 'university', 'pretoria', 'age', 'immigrated', 'canada', 'acquiring', 'citizenship', 'canadian', 'born', 'mother', 'maye', 'two', 'year', 'later', 'matriculated', 'queen', 'university', 'canada', 'musk', 'later', 'transferred', 'university', 'pennsylvania', 'received', 'bachelor', 'degree', 'economics', 'physic', 'moved', 'california', 'attend', 'stanford', 'university', 'never', 'enrolled', 'class', 'brother', 'kimbal', 'co', 'founded', 'online', 'city', 'guide', 'software', 'company', 'zip', 'startup', 'acquired', 'compaq', 'million', 'year', 'musk', 'co', 'founded', 'x', 'com', 'direct', 'bank', 'x', 'com', 'merged', 'confinity', 'form']\n",
      "['elon', 'reeve', 'musk', 'l', 'n', 'sk', 'born', 'june', 'businessman', 'political', 'figure', 'known', 'key', 'role', 'automotive', 'company', 'tesla', 'inc', 'space', 'company', 'spacex', 'since', 'january', 'serving', 'administrator', 'department', 'government', 'efficiency', 'second', 'donald', 'trump', 'presidential', 'administration', 'also', 'known', 'ownership', 'x', 'corp', 'company', 'operates', 'social', 'medium', 'platform', 'x', 'formerly', 'twitter', 'role', 'founding', 'boring', 'company', 'xai', 'neuralink', 'openai', 'musk', 'wealthiest', 'individual', 'world', 'january', 'forbes', 'estimate', 'net', 'worth', 'u', 'billion', 'member', 'wealthy', 'south', 'african', 'musk', 'family', 'musk', 'born', 'pretoria', 'briefly', 'attended', 'university', 'pretoria', 'age', 'immigrated', 'canada', 'acquiring', 'citizenship', 'canadian', 'born', 'mother', 'maye', 'two', 'year', 'later', 'matriculated', 'queen', 'university', 'canada', 'musk', 'later', 'transferred', 'university', 'pennsylvania', 'received', 'bachelor', 'degree', 'economics', 'physic', 'moved', 'california', 'attend', 'stanford', 'university', 'never', 'enrolled', 'class', 'brother', 'kimbal', 'co', 'founded', 'online', 'city', 'guide', 'software', 'company', 'zip', 'startup', 'acquired', 'compaq', 'million', 'year', 'musk', 'co', 'founded', 'x', 'com', 'direct', 'bank', 'x', 'com', 'merged', 'confinity', 'form', 'paypal']\n",
      "['elon', 'reeve', 'musk', 'l', 'n', 'sk', 'born', 'june', 'businessman', 'political', 'figure', 'known', 'key', 'role', 'automotive', 'company', 'tesla', 'inc', 'space', 'company', 'spacex', 'since', 'january', 'serving', 'administrator', 'department', 'government', 'efficiency', 'second', 'donald', 'trump', 'presidential', 'administration', 'also', 'known', 'ownership', 'x', 'corp', 'company', 'operates', 'social', 'medium', 'platform', 'x', 'formerly', 'twitter', 'role', 'founding', 'boring', 'company', 'xai', 'neuralink', 'openai', 'musk', 'wealthiest', 'individual', 'world', 'january', 'forbes', 'estimate', 'net', 'worth', 'u', 'billion', 'member', 'wealthy', 'south', 'african', 'musk', 'family', 'musk', 'born', 'pretoria', 'briefly', 'attended', 'university', 'pretoria', 'age', 'immigrated', 'canada', 'acquiring', 'citizenship', 'canadian', 'born', 'mother', 'maye', 'two', 'year', 'later', 'matriculated', 'queen', 'university', 'canada', 'musk', 'later', 'transferred', 'university', 'pennsylvania', 'received', 'bachelor', 'degree', 'economics', 'physic', 'moved', 'california', 'attend', 'stanford', 'university', 'never', 'enrolled', 'class', 'brother', 'kimbal', 'co', 'founded', 'online', 'city', 'guide', 'software', 'company', 'zip', 'startup', 'acquired', 'compaq', 'million', 'year', 'musk', 'co', 'founded', 'x', 'com', 'direct', 'bank', 'x', 'com', 'merged', 'confinity', 'form', 'paypal', 'musk']\n",
      "['elon', 'reeve', 'musk', 'l', 'n', 'sk', 'born', 'june', 'businessman', 'political', 'figure', 'known', 'key', 'role', 'automotive', 'company', 'tesla', 'inc', 'space', 'company', 'spacex', 'since', 'january', 'serving', 'administrator', 'department', 'government', 'efficiency', 'second', 'donald', 'trump', 'presidential', 'administration', 'also', 'known', 'ownership', 'x', 'corp', 'company', 'operates', 'social', 'medium', 'platform', 'x', 'formerly', 'twitter', 'role', 'founding', 'boring', 'company', 'xai', 'neuralink', 'openai', 'musk', 'wealthiest', 'individual', 'world', 'january', 'forbes', 'estimate', 'net', 'worth', 'u', 'billion', 'member', 'wealthy', 'south', 'african', 'musk', 'family', 'musk', 'born', 'pretoria', 'briefly', 'attended', 'university', 'pretoria', 'age', 'immigrated', 'canada', 'acquiring', 'citizenship', 'canadian', 'born', 'mother', 'maye', 'two', 'year', 'later', 'matriculated', 'queen', 'university', 'canada', 'musk', 'later', 'transferred', 'university', 'pennsylvania', 'received', 'bachelor', 'degree', 'economics', 'physic', 'moved', 'california', 'attend', 'stanford', 'university', 'never', 'enrolled', 'class', 'brother', 'kimbal', 'co', 'founded', 'online', 'city', 'guide', 'software', 'company', 'zip', 'startup', 'acquired', 'compaq', 'million', 'year', 'musk', 'co', 'founded', 'x', 'com', 'direct', 'bank', 'x', 'com', 'merged', 'confinity', 'form', 'paypal', 'musk', 'acquired']\n",
      "['elon', 'reeve', 'musk', 'l', 'n', 'sk', 'born', 'june', 'businessman', 'political', 'figure', 'known', 'key', 'role', 'automotive', 'company', 'tesla', 'inc', 'space', 'company', 'spacex', 'since', 'january', 'serving', 'administrator', 'department', 'government', 'efficiency', 'second', 'donald', 'trump', 'presidential', 'administration', 'also', 'known', 'ownership', 'x', 'corp', 'company', 'operates', 'social', 'medium', 'platform', 'x', 'formerly', 'twitter', 'role', 'founding', 'boring', 'company', 'xai', 'neuralink', 'openai', 'musk', 'wealthiest', 'individual', 'world', 'january', 'forbes', 'estimate', 'net', 'worth', 'u', 'billion', 'member', 'wealthy', 'south', 'african', 'musk', 'family', 'musk', 'born', 'pretoria', 'briefly', 'attended', 'university', 'pretoria', 'age', 'immigrated', 'canada', 'acquiring', 'citizenship', 'canadian', 'born', 'mother', 'maye', 'two', 'year', 'later', 'matriculated', 'queen', 'university', 'canada', 'musk', 'later', 'transferred', 'university', 'pennsylvania', 'received', 'bachelor', 'degree', 'economics', 'physic', 'moved', 'california', 'attend', 'stanford', 'university', 'never', 'enrolled', 'class', 'brother', 'kimbal', 'co', 'founded', 'online', 'city', 'guide', 'software', 'company', 'zip', 'startup', 'acquired', 'compaq', 'million', 'year', 'musk', 'co', 'founded', 'x', 'com', 'direct', 'bank', 'x', 'com', 'merged', 'confinity', 'form', 'paypal', 'musk', 'acquired', 'united']\n",
      "['elon', 'reeve', 'musk', 'l', 'n', 'sk', 'born', 'june', 'businessman', 'political', 'figure', 'known', 'key', 'role', 'automotive', 'company', 'tesla', 'inc', 'space', 'company', 'spacex', 'since', 'january', 'serving', 'administrator', 'department', 'government', 'efficiency', 'second', 'donald', 'trump', 'presidential', 'administration', 'also', 'known', 'ownership', 'x', 'corp', 'company', 'operates', 'social', 'medium', 'platform', 'x', 'formerly', 'twitter', 'role', 'founding', 'boring', 'company', 'xai', 'neuralink', 'openai', 'musk', 'wealthiest', 'individual', 'world', 'january', 'forbes', 'estimate', 'net', 'worth', 'u', 'billion', 'member', 'wealthy', 'south', 'african', 'musk', 'family', 'musk', 'born', 'pretoria', 'briefly', 'attended', 'university', 'pretoria', 'age', 'immigrated', 'canada', 'acquiring', 'citizenship', 'canadian', 'born', 'mother', 'maye', 'two', 'year', 'later', 'matriculated', 'queen', 'university', 'canada', 'musk', 'later', 'transferred', 'university', 'pennsylvania', 'received', 'bachelor', 'degree', 'economics', 'physic', 'moved', 'california', 'attend', 'stanford', 'university', 'never', 'enrolled', 'class', 'brother', 'kimbal', 'co', 'founded', 'online', 'city', 'guide', 'software', 'company', 'zip', 'startup', 'acquired', 'compaq', 'million', 'year', 'musk', 'co', 'founded', 'x', 'com', 'direct', 'bank', 'x', 'com', 'merged', 'confinity', 'form', 'paypal', 'musk', 'acquired', 'united', 'state']\n",
      "['elon', 'reeve', 'musk', 'l', 'n', 'sk', 'born', 'june', 'businessman', 'political', 'figure', 'known', 'key', 'role', 'automotive', 'company', 'tesla', 'inc', 'space', 'company', 'spacex', 'since', 'january', 'serving', 'administrator', 'department', 'government', 'efficiency', 'second', 'donald', 'trump', 'presidential', 'administration', 'also', 'known', 'ownership', 'x', 'corp', 'company', 'operates', 'social', 'medium', 'platform', 'x', 'formerly', 'twitter', 'role', 'founding', 'boring', 'company', 'xai', 'neuralink', 'openai', 'musk', 'wealthiest', 'individual', 'world', 'january', 'forbes', 'estimate', 'net', 'worth', 'u', 'billion', 'member', 'wealthy', 'south', 'african', 'musk', 'family', 'musk', 'born', 'pretoria', 'briefly', 'attended', 'university', 'pretoria', 'age', 'immigrated', 'canada', 'acquiring', 'citizenship', 'canadian', 'born', 'mother', 'maye', 'two', 'year', 'later', 'matriculated', 'queen', 'university', 'canada', 'musk', 'later', 'transferred', 'university', 'pennsylvania', 'received', 'bachelor', 'degree', 'economics', 'physic', 'moved', 'california', 'attend', 'stanford', 'university', 'never', 'enrolled', 'class', 'brother', 'kimbal', 'co', 'founded', 'online', 'city', 'guide', 'software', 'company', 'zip', 'startup', 'acquired', 'compaq', 'million', 'year', 'musk', 'co', 'founded', 'x', 'com', 'direct', 'bank', 'x', 'com', 'merged', 'confinity', 'form', 'paypal', 'musk', 'acquired', 'united', 'state', 'citizenship']\n",
      "['elon', 'reeve', 'musk', 'l', 'n', 'sk', 'born', 'june', 'businessman', 'political', 'figure', 'known', 'key', 'role', 'automotive', 'company', 'tesla', 'inc', 'space', 'company', 'spacex', 'since', 'january', 'serving', 'administrator', 'department', 'government', 'efficiency', 'second', 'donald', 'trump', 'presidential', 'administration', 'also', 'known', 'ownership', 'x', 'corp', 'company', 'operates', 'social', 'medium', 'platform', 'x', 'formerly', 'twitter', 'role', 'founding', 'boring', 'company', 'xai', 'neuralink', 'openai', 'musk', 'wealthiest', 'individual', 'world', 'january', 'forbes', 'estimate', 'net', 'worth', 'u', 'billion', 'member', 'wealthy', 'south', 'african', 'musk', 'family', 'musk', 'born', 'pretoria', 'briefly', 'attended', 'university', 'pretoria', 'age', 'immigrated', 'canada', 'acquiring', 'citizenship', 'canadian', 'born', 'mother', 'maye', 'two', 'year', 'later', 'matriculated', 'queen', 'university', 'canada', 'musk', 'later', 'transferred', 'university', 'pennsylvania', 'received', 'bachelor', 'degree', 'economics', 'physic', 'moved', 'california', 'attend', 'stanford', 'university', 'never', 'enrolled', 'class', 'brother', 'kimbal', 'co', 'founded', 'online', 'city', 'guide', 'software', 'company', 'zip', 'startup', 'acquired', 'compaq', 'million', 'year', 'musk', 'co', 'founded', 'x', 'com', 'direct', 'bank', 'x', 'com', 'merged', 'confinity', 'form', 'paypal', 'musk', 'acquired', 'united', 'state', 'citizenship', 'october']\n",
      "['elon', 'reeve', 'musk', 'l', 'n', 'sk', 'born', 'june', 'businessman', 'political', 'figure', 'known', 'key', 'role', 'automotive', 'company', 'tesla', 'inc', 'space', 'company', 'spacex', 'since', 'january', 'serving', 'administrator', 'department', 'government', 'efficiency', 'second', 'donald', 'trump', 'presidential', 'administration', 'also', 'known', 'ownership', 'x', 'corp', 'company', 'operates', 'social', 'medium', 'platform', 'x', 'formerly', 'twitter', 'role', 'founding', 'boring', 'company', 'xai', 'neuralink', 'openai', 'musk', 'wealthiest', 'individual', 'world', 'january', 'forbes', 'estimate', 'net', 'worth', 'u', 'billion', 'member', 'wealthy', 'south', 'african', 'musk', 'family', 'musk', 'born', 'pretoria', 'briefly', 'attended', 'university', 'pretoria', 'age', 'immigrated', 'canada', 'acquiring', 'citizenship', 'canadian', 'born', 'mother', 'maye', 'two', 'year', 'later', 'matriculated', 'queen', 'university', 'canada', 'musk', 'later', 'transferred', 'university', 'pennsylvania', 'received', 'bachelor', 'degree', 'economics', 'physic', 'moved', 'california', 'attend', 'stanford', 'university', 'never', 'enrolled', 'class', 'brother', 'kimbal', 'co', 'founded', 'online', 'city', 'guide', 'software', 'company', 'zip', 'startup', 'acquired', 'compaq', 'million', 'year', 'musk', 'co', 'founded', 'x', 'com', 'direct', 'bank', 'x', 'com', 'merged', 'confinity', 'form', 'paypal', 'musk', 'acquired', 'united', 'state', 'citizenship', 'october', 'ebay']\n",
      "['elon', 'reeve', 'musk', 'l', 'n', 'sk', 'born', 'june', 'businessman', 'political', 'figure', 'known', 'key', 'role', 'automotive', 'company', 'tesla', 'inc', 'space', 'company', 'spacex', 'since', 'january', 'serving', 'administrator', 'department', 'government', 'efficiency', 'second', 'donald', 'trump', 'presidential', 'administration', 'also', 'known', 'ownership', 'x', 'corp', 'company', 'operates', 'social', 'medium', 'platform', 'x', 'formerly', 'twitter', 'role', 'founding', 'boring', 'company', 'xai', 'neuralink', 'openai', 'musk', 'wealthiest', 'individual', 'world', 'january', 'forbes', 'estimate', 'net', 'worth', 'u', 'billion', 'member', 'wealthy', 'south', 'african', 'musk', 'family', 'musk', 'born', 'pretoria', 'briefly', 'attended', 'university', 'pretoria', 'age', 'immigrated', 'canada', 'acquiring', 'citizenship', 'canadian', 'born', 'mother', 'maye', 'two', 'year', 'later', 'matriculated', 'queen', 'university', 'canada', 'musk', 'later', 'transferred', 'university', 'pennsylvania', 'received', 'bachelor', 'degree', 'economics', 'physic', 'moved', 'california', 'attend', 'stanford', 'university', 'never', 'enrolled', 'class', 'brother', 'kimbal', 'co', 'founded', 'online', 'city', 'guide', 'software', 'company', 'zip', 'startup', 'acquired', 'compaq', 'million', 'year', 'musk', 'co', 'founded', 'x', 'com', 'direct', 'bank', 'x', 'com', 'merged', 'confinity', 'form', 'paypal', 'musk', 'acquired', 'united', 'state', 'citizenship', 'october', 'ebay', 'acquired']\n",
      "['elon', 'reeve', 'musk', 'l', 'n', 'sk', 'born', 'june', 'businessman', 'political', 'figure', 'known', 'key', 'role', 'automotive', 'company', 'tesla', 'inc', 'space', 'company', 'spacex', 'since', 'january', 'serving', 'administrator', 'department', 'government', 'efficiency', 'second', 'donald', 'trump', 'presidential', 'administration', 'also', 'known', 'ownership', 'x', 'corp', 'company', 'operates', 'social', 'medium', 'platform', 'x', 'formerly', 'twitter', 'role', 'founding', 'boring', 'company', 'xai', 'neuralink', 'openai', 'musk', 'wealthiest', 'individual', 'world', 'january', 'forbes', 'estimate', 'net', 'worth', 'u', 'billion', 'member', 'wealthy', 'south', 'african', 'musk', 'family', 'musk', 'born', 'pretoria', 'briefly', 'attended', 'university', 'pretoria', 'age', 'immigrated', 'canada', 'acquiring', 'citizenship', 'canadian', 'born', 'mother', 'maye', 'two', 'year', 'later', 'matriculated', 'queen', 'university', 'canada', 'musk', 'later', 'transferred', 'university', 'pennsylvania', 'received', 'bachelor', 'degree', 'economics', 'physic', 'moved', 'california', 'attend', 'stanford', 'university', 'never', 'enrolled', 'class', 'brother', 'kimbal', 'co', 'founded', 'online', 'city', 'guide', 'software', 'company', 'zip', 'startup', 'acquired', 'compaq', 'million', 'year', 'musk', 'co', 'founded', 'x', 'com', 'direct', 'bank', 'x', 'com', 'merged', 'confinity', 'form', 'paypal', 'musk', 'acquired', 'united', 'state', 'citizenship', 'october', 'ebay', 'acquired', 'paypal']\n",
      "['elon', 'reeve', 'musk', 'l', 'n', 'sk', 'born', 'june', 'businessman', 'political', 'figure', 'known', 'key', 'role', 'automotive', 'company', 'tesla', 'inc', 'space', 'company', 'spacex', 'since', 'january', 'serving', 'administrator', 'department', 'government', 'efficiency', 'second', 'donald', 'trump', 'presidential', 'administration', 'also', 'known', 'ownership', 'x', 'corp', 'company', 'operates', 'social', 'medium', 'platform', 'x', 'formerly', 'twitter', 'role', 'founding', 'boring', 'company', 'xai', 'neuralink', 'openai', 'musk', 'wealthiest', 'individual', 'world', 'january', 'forbes', 'estimate', 'net', 'worth', 'u', 'billion', 'member', 'wealthy', 'south', 'african', 'musk', 'family', 'musk', 'born', 'pretoria', 'briefly', 'attended', 'university', 'pretoria', 'age', 'immigrated', 'canada', 'acquiring', 'citizenship', 'canadian', 'born', 'mother', 'maye', 'two', 'year', 'later', 'matriculated', 'queen', 'university', 'canada', 'musk', 'later', 'transferred', 'university', 'pennsylvania', 'received', 'bachelor', 'degree', 'economics', 'physic', 'moved', 'california', 'attend', 'stanford', 'university', 'never', 'enrolled', 'class', 'brother', 'kimbal', 'co', 'founded', 'online', 'city', 'guide', 'software', 'company', 'zip', 'startup', 'acquired', 'compaq', 'million', 'year', 'musk', 'co', 'founded', 'x', 'com', 'direct', 'bank', 'x', 'com', 'merged', 'confinity', 'form', 'paypal', 'musk', 'acquired', 'united', 'state', 'citizenship', 'october', 'ebay', 'acquired', 'paypal', 'billion']\n",
      "['elon', 'reeve', 'musk', 'l', 'n', 'sk', 'born', 'june', 'businessman', 'political', 'figure', 'known', 'key', 'role', 'automotive', 'company', 'tesla', 'inc', 'space', 'company', 'spacex', 'since', 'january', 'serving', 'administrator', 'department', 'government', 'efficiency', 'second', 'donald', 'trump', 'presidential', 'administration', 'also', 'known', 'ownership', 'x', 'corp', 'company', 'operates', 'social', 'medium', 'platform', 'x', 'formerly', 'twitter', 'role', 'founding', 'boring', 'company', 'xai', 'neuralink', 'openai', 'musk', 'wealthiest', 'individual', 'world', 'january', 'forbes', 'estimate', 'net', 'worth', 'u', 'billion', 'member', 'wealthy', 'south', 'african', 'musk', 'family', 'musk', 'born', 'pretoria', 'briefly', 'attended', 'university', 'pretoria', 'age', 'immigrated', 'canada', 'acquiring', 'citizenship', 'canadian', 'born', 'mother', 'maye', 'two', 'year', 'later', 'matriculated', 'queen', 'university', 'canada', 'musk', 'later', 'transferred', 'university', 'pennsylvania', 'received', 'bachelor', 'degree', 'economics', 'physic', 'moved', 'california', 'attend', 'stanford', 'university', 'never', 'enrolled', 'class', 'brother', 'kimbal', 'co', 'founded', 'online', 'city', 'guide', 'software', 'company', 'zip', 'startup', 'acquired', 'compaq', 'million', 'year', 'musk', 'co', 'founded', 'x', 'com', 'direct', 'bank', 'x', 'com', 'merged', 'confinity', 'form', 'paypal', 'musk', 'acquired', 'united', 'state', 'citizenship', 'october', 'ebay', 'acquired', 'paypal', 'billion', 'using']\n",
      "['elon', 'reeve', 'musk', 'l', 'n', 'sk', 'born', 'june', 'businessman', 'political', 'figure', 'known', 'key', 'role', 'automotive', 'company', 'tesla', 'inc', 'space', 'company', 'spacex', 'since', 'january', 'serving', 'administrator', 'department', 'government', 'efficiency', 'second', 'donald', 'trump', 'presidential', 'administration', 'also', 'known', 'ownership', 'x', 'corp', 'company', 'operates', 'social', 'medium', 'platform', 'x', 'formerly', 'twitter', 'role', 'founding', 'boring', 'company', 'xai', 'neuralink', 'openai', 'musk', 'wealthiest', 'individual', 'world', 'january', 'forbes', 'estimate', 'net', 'worth', 'u', 'billion', 'member', 'wealthy', 'south', 'african', 'musk', 'family', 'musk', 'born', 'pretoria', 'briefly', 'attended', 'university', 'pretoria', 'age', 'immigrated', 'canada', 'acquiring', 'citizenship', 'canadian', 'born', 'mother', 'maye', 'two', 'year', 'later', 'matriculated', 'queen', 'university', 'canada', 'musk', 'later', 'transferred', 'university', 'pennsylvania', 'received', 'bachelor', 'degree', 'economics', 'physic', 'moved', 'california', 'attend', 'stanford', 'university', 'never', 'enrolled', 'class', 'brother', 'kimbal', 'co', 'founded', 'online', 'city', 'guide', 'software', 'company', 'zip', 'startup', 'acquired', 'compaq', 'million', 'year', 'musk', 'co', 'founded', 'x', 'com', 'direct', 'bank', 'x', 'com', 'merged', 'confinity', 'form', 'paypal', 'musk', 'acquired', 'united', 'state', 'citizenship', 'october', 'ebay', 'acquired', 'paypal', 'billion', 'using', 'million']\n",
      "['elon', 'reeve', 'musk', 'l', 'n', 'sk', 'born', 'june', 'businessman', 'political', 'figure', 'known', 'key', 'role', 'automotive', 'company', 'tesla', 'inc', 'space', 'company', 'spacex', 'since', 'january', 'serving', 'administrator', 'department', 'government', 'efficiency', 'second', 'donald', 'trump', 'presidential', 'administration', 'also', 'known', 'ownership', 'x', 'corp', 'company', 'operates', 'social', 'medium', 'platform', 'x', 'formerly', 'twitter', 'role', 'founding', 'boring', 'company', 'xai', 'neuralink', 'openai', 'musk', 'wealthiest', 'individual', 'world', 'january', 'forbes', 'estimate', 'net', 'worth', 'u', 'billion', 'member', 'wealthy', 'south', 'african', 'musk', 'family', 'musk', 'born', 'pretoria', 'briefly', 'attended', 'university', 'pretoria', 'age', 'immigrated', 'canada', 'acquiring', 'citizenship', 'canadian', 'born', 'mother', 'maye', 'two', 'year', 'later', 'matriculated', 'queen', 'university', 'canada', 'musk', 'later', 'transferred', 'university', 'pennsylvania', 'received', 'bachelor', 'degree', 'economics', 'physic', 'moved', 'california', 'attend', 'stanford', 'university', 'never', 'enrolled', 'class', 'brother', 'kimbal', 'co', 'founded', 'online', 'city', 'guide', 'software', 'company', 'zip', 'startup', 'acquired', 'compaq', 'million', 'year', 'musk', 'co', 'founded', 'x', 'com', 'direct', 'bank', 'x', 'com', 'merged', 'confinity', 'form', 'paypal', 'musk', 'acquired', 'united', 'state', 'citizenship', 'october', 'ebay', 'acquired', 'paypal', 'billion', 'using', 'million', 'money']\n",
      "['elon', 'reeve', 'musk', 'l', 'n', 'sk', 'born', 'june', 'businessman', 'political', 'figure', 'known', 'key', 'role', 'automotive', 'company', 'tesla', 'inc', 'space', 'company', 'spacex', 'since', 'january', 'serving', 'administrator', 'department', 'government', 'efficiency', 'second', 'donald', 'trump', 'presidential', 'administration', 'also', 'known', 'ownership', 'x', 'corp', 'company', 'operates', 'social', 'medium', 'platform', 'x', 'formerly', 'twitter', 'role', 'founding', 'boring', 'company', 'xai', 'neuralink', 'openai', 'musk', 'wealthiest', 'individual', 'world', 'january', 'forbes', 'estimate', 'net', 'worth', 'u', 'billion', 'member', 'wealthy', 'south', 'african', 'musk', 'family', 'musk', 'born', 'pretoria', 'briefly', 'attended', 'university', 'pretoria', 'age', 'immigrated', 'canada', 'acquiring', 'citizenship', 'canadian', 'born', 'mother', 'maye', 'two', 'year', 'later', 'matriculated', 'queen', 'university', 'canada', 'musk', 'later', 'transferred', 'university', 'pennsylvania', 'received', 'bachelor', 'degree', 'economics', 'physic', 'moved', 'california', 'attend', 'stanford', 'university', 'never', 'enrolled', 'class', 'brother', 'kimbal', 'co', 'founded', 'online', 'city', 'guide', 'software', 'company', 'zip', 'startup', 'acquired', 'compaq', 'million', 'year', 'musk', 'co', 'founded', 'x', 'com', 'direct', 'bank', 'x', 'com', 'merged', 'confinity', 'form', 'paypal', 'musk', 'acquired', 'united', 'state', 'citizenship', 'october', 'ebay', 'acquired', 'paypal', 'billion', 'using', 'million', 'money', 'made']\n",
      "['elon', 'reeve', 'musk', 'l', 'n', 'sk', 'born', 'june', 'businessman', 'political', 'figure', 'known', 'key', 'role', 'automotive', 'company', 'tesla', 'inc', 'space', 'company', 'spacex', 'since', 'january', 'serving', 'administrator', 'department', 'government', 'efficiency', 'second', 'donald', 'trump', 'presidential', 'administration', 'also', 'known', 'ownership', 'x', 'corp', 'company', 'operates', 'social', 'medium', 'platform', 'x', 'formerly', 'twitter', 'role', 'founding', 'boring', 'company', 'xai', 'neuralink', 'openai', 'musk', 'wealthiest', 'individual', 'world', 'january', 'forbes', 'estimate', 'net', 'worth', 'u', 'billion', 'member', 'wealthy', 'south', 'african', 'musk', 'family', 'musk', 'born', 'pretoria', 'briefly', 'attended', 'university', 'pretoria', 'age', 'immigrated', 'canada', 'acquiring', 'citizenship', 'canadian', 'born', 'mother', 'maye', 'two', 'year', 'later', 'matriculated', 'queen', 'university', 'canada', 'musk', 'later', 'transferred', 'university', 'pennsylvania', 'received', 'bachelor', 'degree', 'economics', 'physic', 'moved', 'california', 'attend', 'stanford', 'university', 'never', 'enrolled', 'class', 'brother', 'kimbal', 'co', 'founded', 'online', 'city', 'guide', 'software', 'company', 'zip', 'startup', 'acquired', 'compaq', 'million', 'year', 'musk', 'co', 'founded', 'x', 'com', 'direct', 'bank', 'x', 'com', 'merged', 'confinity', 'form', 'paypal', 'musk', 'acquired', 'united', 'state', 'citizenship', 'october', 'ebay', 'acquired', 'paypal', 'billion', 'using', 'million', 'money', 'made', 'sale']\n",
      "['elon', 'reeve', 'musk', 'l', 'n', 'sk', 'born', 'june', 'businessman', 'political', 'figure', 'known', 'key', 'role', 'automotive', 'company', 'tesla', 'inc', 'space', 'company', 'spacex', 'since', 'january', 'serving', 'administrator', 'department', 'government', 'efficiency', 'second', 'donald', 'trump', 'presidential', 'administration', 'also', 'known', 'ownership', 'x', 'corp', 'company', 'operates', 'social', 'medium', 'platform', 'x', 'formerly', 'twitter', 'role', 'founding', 'boring', 'company', 'xai', 'neuralink', 'openai', 'musk', 'wealthiest', 'individual', 'world', 'january', 'forbes', 'estimate', 'net', 'worth', 'u', 'billion', 'member', 'wealthy', 'south', 'african', 'musk', 'family', 'musk', 'born', 'pretoria', 'briefly', 'attended', 'university', 'pretoria', 'age', 'immigrated', 'canada', 'acquiring', 'citizenship', 'canadian', 'born', 'mother', 'maye', 'two', 'year', 'later', 'matriculated', 'queen', 'university', 'canada', 'musk', 'later', 'transferred', 'university', 'pennsylvania', 'received', 'bachelor', 'degree', 'economics', 'physic', 'moved', 'california', 'attend', 'stanford', 'university', 'never', 'enrolled', 'class', 'brother', 'kimbal', 'co', 'founded', 'online', 'city', 'guide', 'software', 'company', 'zip', 'startup', 'acquired', 'compaq', 'million', 'year', 'musk', 'co', 'founded', 'x', 'com', 'direct', 'bank', 'x', 'com', 'merged', 'confinity', 'form', 'paypal', 'musk', 'acquired', 'united', 'state', 'citizenship', 'october', 'ebay', 'acquired', 'paypal', 'billion', 'using', 'million', 'money', 'made', 'sale', 'paypal']\n",
      "['elon', 'reeve', 'musk', 'l', 'n', 'sk', 'born', 'june', 'businessman', 'political', 'figure', 'known', 'key', 'role', 'automotive', 'company', 'tesla', 'inc', 'space', 'company', 'spacex', 'since', 'january', 'serving', 'administrator', 'department', 'government', 'efficiency', 'second', 'donald', 'trump', 'presidential', 'administration', 'also', 'known', 'ownership', 'x', 'corp', 'company', 'operates', 'social', 'medium', 'platform', 'x', 'formerly', 'twitter', 'role', 'founding', 'boring', 'company', 'xai', 'neuralink', 'openai', 'musk', 'wealthiest', 'individual', 'world', 'january', 'forbes', 'estimate', 'net', 'worth', 'u', 'billion', 'member', 'wealthy', 'south', 'african', 'musk', 'family', 'musk', 'born', 'pretoria', 'briefly', 'attended', 'university', 'pretoria', 'age', 'immigrated', 'canada', 'acquiring', 'citizenship', 'canadian', 'born', 'mother', 'maye', 'two', 'year', 'later', 'matriculated', 'queen', 'university', 'canada', 'musk', 'later', 'transferred', 'university', 'pennsylvania', 'received', 'bachelor', 'degree', 'economics', 'physic', 'moved', 'california', 'attend', 'stanford', 'university', 'never', 'enrolled', 'class', 'brother', 'kimbal', 'co', 'founded', 'online', 'city', 'guide', 'software', 'company', 'zip', 'startup', 'acquired', 'compaq', 'million', 'year', 'musk', 'co', 'founded', 'x', 'com', 'direct', 'bank', 'x', 'com', 'merged', 'confinity', 'form', 'paypal', 'musk', 'acquired', 'united', 'state', 'citizenship', 'october', 'ebay', 'acquired', 'paypal', 'billion', 'using', 'million', 'money', 'made', 'sale', 'paypal', 'musk']\n",
      "['elon', 'reeve', 'musk', 'l', 'n', 'sk', 'born', 'june', 'businessman', 'political', 'figure', 'known', 'key', 'role', 'automotive', 'company', 'tesla', 'inc', 'space', 'company', 'spacex', 'since', 'january', 'serving', 'administrator', 'department', 'government', 'efficiency', 'second', 'donald', 'trump', 'presidential', 'administration', 'also', 'known', 'ownership', 'x', 'corp', 'company', 'operates', 'social', 'medium', 'platform', 'x', 'formerly', 'twitter', 'role', 'founding', 'boring', 'company', 'xai', 'neuralink', 'openai', 'musk', 'wealthiest', 'individual', 'world', 'january', 'forbes', 'estimate', 'net', 'worth', 'u', 'billion', 'member', 'wealthy', 'south', 'african', 'musk', 'family', 'musk', 'born', 'pretoria', 'briefly', 'attended', 'university', 'pretoria', 'age', 'immigrated', 'canada', 'acquiring', 'citizenship', 'canadian', 'born', 'mother', 'maye', 'two', 'year', 'later', 'matriculated', 'queen', 'university', 'canada', 'musk', 'later', 'transferred', 'university', 'pennsylvania', 'received', 'bachelor', 'degree', 'economics', 'physic', 'moved', 'california', 'attend', 'stanford', 'university', 'never', 'enrolled', 'class', 'brother', 'kimbal', 'co', 'founded', 'online', 'city', 'guide', 'software', 'company', 'zip', 'startup', 'acquired', 'compaq', 'million', 'year', 'musk', 'co', 'founded', 'x', 'com', 'direct', 'bank', 'x', 'com', 'merged', 'confinity', 'form', 'paypal', 'musk', 'acquired', 'united', 'state', 'citizenship', 'october', 'ebay', 'acquired', 'paypal', 'billion', 'using', 'million', 'money', 'made', 'sale', 'paypal', 'musk', 'founded']\n",
      "['elon', 'reeve', 'musk', 'l', 'n', 'sk', 'born', 'june', 'businessman', 'political', 'figure', 'known', 'key', 'role', 'automotive', 'company', 'tesla', 'inc', 'space', 'company', 'spacex', 'since', 'january', 'serving', 'administrator', 'department', 'government', 'efficiency', 'second', 'donald', 'trump', 'presidential', 'administration', 'also', 'known', 'ownership', 'x', 'corp', 'company', 'operates', 'social', 'medium', 'platform', 'x', 'formerly', 'twitter', 'role', 'founding', 'boring', 'company', 'xai', 'neuralink', 'openai', 'musk', 'wealthiest', 'individual', 'world', 'january', 'forbes', 'estimate', 'net', 'worth', 'u', 'billion', 'member', 'wealthy', 'south', 'african', 'musk', 'family', 'musk', 'born', 'pretoria', 'briefly', 'attended', 'university', 'pretoria', 'age', 'immigrated', 'canada', 'acquiring', 'citizenship', 'canadian', 'born', 'mother', 'maye', 'two', 'year', 'later', 'matriculated', 'queen', 'university', 'canada', 'musk', 'later', 'transferred', 'university', 'pennsylvania', 'received', 'bachelor', 'degree', 'economics', 'physic', 'moved', 'california', 'attend', 'stanford', 'university', 'never', 'enrolled', 'class', 'brother', 'kimbal', 'co', 'founded', 'online', 'city', 'guide', 'software', 'company', 'zip', 'startup', 'acquired', 'compaq', 'million', 'year', 'musk', 'co', 'founded', 'x', 'com', 'direct', 'bank', 'x', 'com', 'merged', 'confinity', 'form', 'paypal', 'musk', 'acquired', 'united', 'state', 'citizenship', 'october', 'ebay', 'acquired', 'paypal', 'billion', 'using', 'million', 'money', 'made', 'sale', 'paypal', 'musk', 'founded', 'spacex']\n",
      "['elon', 'reeve', 'musk', 'l', 'n', 'sk', 'born', 'june', 'businessman', 'political', 'figure', 'known', 'key', 'role', 'automotive', 'company', 'tesla', 'inc', 'space', 'company', 'spacex', 'since', 'january', 'serving', 'administrator', 'department', 'government', 'efficiency', 'second', 'donald', 'trump', 'presidential', 'administration', 'also', 'known', 'ownership', 'x', 'corp', 'company', 'operates', 'social', 'medium', 'platform', 'x', 'formerly', 'twitter', 'role', 'founding', 'boring', 'company', 'xai', 'neuralink', 'openai', 'musk', 'wealthiest', 'individual', 'world', 'january', 'forbes', 'estimate', 'net', 'worth', 'u', 'billion', 'member', 'wealthy', 'south', 'african', 'musk', 'family', 'musk', 'born', 'pretoria', 'briefly', 'attended', 'university', 'pretoria', 'age', 'immigrated', 'canada', 'acquiring', 'citizenship', 'canadian', 'born', 'mother', 'maye', 'two', 'year', 'later', 'matriculated', 'queen', 'university', 'canada', 'musk', 'later', 'transferred', 'university', 'pennsylvania', 'received', 'bachelor', 'degree', 'economics', 'physic', 'moved', 'california', 'attend', 'stanford', 'university', 'never', 'enrolled', 'class', 'brother', 'kimbal', 'co', 'founded', 'online', 'city', 'guide', 'software', 'company', 'zip', 'startup', 'acquired', 'compaq', 'million', 'year', 'musk', 'co', 'founded', 'x', 'com', 'direct', 'bank', 'x', 'com', 'merged', 'confinity', 'form', 'paypal', 'musk', 'acquired', 'united', 'state', 'citizenship', 'october', 'ebay', 'acquired', 'paypal', 'billion', 'using', 'million', 'money', 'made', 'sale', 'paypal', 'musk', 'founded', 'spacex', 'spaceflight']\n",
      "['elon', 'reeve', 'musk', 'l', 'n', 'sk', 'born', 'june', 'businessman', 'political', 'figure', 'known', 'key', 'role', 'automotive', 'company', 'tesla', 'inc', 'space', 'company', 'spacex', 'since', 'january', 'serving', 'administrator', 'department', 'government', 'efficiency', 'second', 'donald', 'trump', 'presidential', 'administration', 'also', 'known', 'ownership', 'x', 'corp', 'company', 'operates', 'social', 'medium', 'platform', 'x', 'formerly', 'twitter', 'role', 'founding', 'boring', 'company', 'xai', 'neuralink', 'openai', 'musk', 'wealthiest', 'individual', 'world', 'january', 'forbes', 'estimate', 'net', 'worth', 'u', 'billion', 'member', 'wealthy', 'south', 'african', 'musk', 'family', 'musk', 'born', 'pretoria', 'briefly', 'attended', 'university', 'pretoria', 'age', 'immigrated', 'canada', 'acquiring', 'citizenship', 'canadian', 'born', 'mother', 'maye', 'two', 'year', 'later', 'matriculated', 'queen', 'university', 'canada', 'musk', 'later', 'transferred', 'university', 'pennsylvania', 'received', 'bachelor', 'degree', 'economics', 'physic', 'moved', 'california', 'attend', 'stanford', 'university', 'never', 'enrolled', 'class', 'brother', 'kimbal', 'co', 'founded', 'online', 'city', 'guide', 'software', 'company', 'zip', 'startup', 'acquired', 'compaq', 'million', 'year', 'musk', 'co', 'founded', 'x', 'com', 'direct', 'bank', 'x', 'com', 'merged', 'confinity', 'form', 'paypal', 'musk', 'acquired', 'united', 'state', 'citizenship', 'october', 'ebay', 'acquired', 'paypal', 'billion', 'using', 'million', 'money', 'made', 'sale', 'paypal', 'musk', 'founded', 'spacex', 'spaceflight', 'service']\n",
      "['elon', 'reeve', 'musk', 'l', 'n', 'sk', 'born', 'june', 'businessman', 'political', 'figure', 'known', 'key', 'role', 'automotive', 'company', 'tesla', 'inc', 'space', 'company', 'spacex', 'since', 'january', 'serving', 'administrator', 'department', 'government', 'efficiency', 'second', 'donald', 'trump', 'presidential', 'administration', 'also', 'known', 'ownership', 'x', 'corp', 'company', 'operates', 'social', 'medium', 'platform', 'x', 'formerly', 'twitter', 'role', 'founding', 'boring', 'company', 'xai', 'neuralink', 'openai', 'musk', 'wealthiest', 'individual', 'world', 'january', 'forbes', 'estimate', 'net', 'worth', 'u', 'billion', 'member', 'wealthy', 'south', 'african', 'musk', 'family', 'musk', 'born', 'pretoria', 'briefly', 'attended', 'university', 'pretoria', 'age', 'immigrated', 'canada', 'acquiring', 'citizenship', 'canadian', 'born', 'mother', 'maye', 'two', 'year', 'later', 'matriculated', 'queen', 'university', 'canada', 'musk', 'later', 'transferred', 'university', 'pennsylvania', 'received', 'bachelor', 'degree', 'economics', 'physic', 'moved', 'california', 'attend', 'stanford', 'university', 'never', 'enrolled', 'class', 'brother', 'kimbal', 'co', 'founded', 'online', 'city', 'guide', 'software', 'company', 'zip', 'startup', 'acquired', 'compaq', 'million', 'year', 'musk', 'co', 'founded', 'x', 'com', 'direct', 'bank', 'x', 'com', 'merged', 'confinity', 'form', 'paypal', 'musk', 'acquired', 'united', 'state', 'citizenship', 'october', 'ebay', 'acquired', 'paypal', 'billion', 'using', 'million', 'money', 'made', 'sale', 'paypal', 'musk', 'founded', 'spacex', 'spaceflight', 'service', 'company']\n"
     ]
    }
   ],
   "source": [
    "# lemmatization\n",
    "l = []\n",
    "for i in corpus:\n",
    "    words = nltk.word_tokenize(i)\n",
    "    for word in words:\n",
    "        if word not in set(stopwords.words('english')):\n",
    "            l.append(lemmatizer.lemmatize(word))\n",
    "            print(l)"
   ]
  },
  {
   "cell_type": "code",
   "execution_count": 22,
   "metadata": {},
   "outputs": [],
   "source": [
    "# bag of words\n",
    "from sklearn.feature_extraction.text import CountVectorizer"
   ]
  },
  {
   "cell_type": "code",
   "execution_count": 23,
   "metadata": {},
   "outputs": [],
   "source": [
    "cv = CountVectorizer()"
   ]
  },
  {
   "cell_type": "code",
   "execution_count": 27,
   "metadata": {},
   "outputs": [],
   "source": [
    "X = cv.fit_transform(l)"
   ]
  },
  {
   "cell_type": "code",
   "execution_count": 30,
   "metadata": {},
   "outputs": [
    {
     "data": {
      "text/plain": [
       "{'elon': 37,\n",
       " 'reeve': 86,\n",
       " 'musk': 68,\n",
       " 'sk': 93,\n",
       " 'born': 14,\n",
       " 'june': 53,\n",
       " 'businessman': 17,\n",
       " 'political': 81,\n",
       " 'figure': 41,\n",
       " 'known': 56,\n",
       " 'key': 54,\n",
       " 'role': 87,\n",
       " 'automotive': 9,\n",
       " 'company': 26,\n",
       " 'tesla': 103,\n",
       " 'inc': 50,\n",
       " 'space': 97,\n",
       " 'spacex': 99,\n",
       " 'since': 92,\n",
       " 'january': 52,\n",
       " 'serving': 91,\n",
       " 'administrator': 3,\n",
       " 'department': 31,\n",
       " 'government': 47,\n",
       " 'efficiency': 36,\n",
       " 'second': 89,\n",
       " 'donald': 33,\n",
       " 'trump': 105,\n",
       " 'presidential': 82,\n",
       " 'administration': 2,\n",
       " 'also': 6,\n",
       " 'ownership': 76,\n",
       " 'corp': 29,\n",
       " 'operates': 75,\n",
       " 'social': 94,\n",
       " 'medium': 61,\n",
       " 'platform': 80,\n",
       " 'formerly': 44,\n",
       " 'twitter': 106,\n",
       " 'founding': 46,\n",
       " 'boring': 13,\n",
       " 'xai': 115,\n",
       " 'neuralink': 70,\n",
       " 'openai': 74,\n",
       " 'wealthiest': 111,\n",
       " 'individual': 51,\n",
       " 'world': 113,\n",
       " 'forbes': 42,\n",
       " 'estimate': 39,\n",
       " 'net': 69,\n",
       " 'worth': 114,\n",
       " 'billion': 12,\n",
       " 'member': 62,\n",
       " 'wealthy': 112,\n",
       " 'south': 96,\n",
       " 'african': 4,\n",
       " 'family': 40,\n",
       " 'pretoria': 83,\n",
       " 'briefly': 15,\n",
       " 'attended': 8,\n",
       " 'university': 109,\n",
       " 'age': 5,\n",
       " 'immigrated': 49,\n",
       " 'canada': 19,\n",
       " 'acquiring': 1,\n",
       " 'citizenship': 21,\n",
       " 'canadian': 20,\n",
       " 'mother': 66,\n",
       " 'maye': 60,\n",
       " 'two': 107,\n",
       " 'year': 116,\n",
       " 'later': 57,\n",
       " 'matriculated': 59,\n",
       " 'queen': 84,\n",
       " 'transferred': 104,\n",
       " 'pennsylvania': 78,\n",
       " 'received': 85,\n",
       " 'bachelor': 10,\n",
       " 'degree': 30,\n",
       " 'economics': 35,\n",
       " 'physic': 79,\n",
       " 'moved': 67,\n",
       " 'california': 18,\n",
       " 'attend': 7,\n",
       " 'stanford': 100,\n",
       " 'never': 71,\n",
       " 'enrolled': 38,\n",
       " 'class': 23,\n",
       " 'brother': 16,\n",
       " 'kimbal': 55,\n",
       " 'co': 24,\n",
       " 'founded': 45,\n",
       " 'online': 73,\n",
       " 'city': 22,\n",
       " 'guide': 48,\n",
       " 'software': 95,\n",
       " 'zip': 117,\n",
       " 'startup': 101,\n",
       " 'acquired': 0,\n",
       " 'compaq': 27,\n",
       " 'million': 64,\n",
       " 'com': 25,\n",
       " 'direct': 32,\n",
       " 'bank': 11,\n",
       " 'merged': 63,\n",
       " 'confinity': 28,\n",
       " 'form': 43,\n",
       " 'paypal': 77,\n",
       " 'united': 108,\n",
       " 'state': 102,\n",
       " 'october': 72,\n",
       " 'ebay': 34,\n",
       " 'using': 110,\n",
       " 'money': 65,\n",
       " 'made': 58,\n",
       " 'sale': 88,\n",
       " 'spaceflight': 98,\n",
       " 'service': 90}"
      ]
     },
     "execution_count": 30,
     "metadata": {},
     "output_type": "execute_result"
    }
   ],
   "source": [
    "cv.vocabulary_"
   ]
  },
  {
   "cell_type": "code",
   "execution_count": 31,
   "metadata": {},
   "outputs": [],
   "source": [
    "x = cv.fit_transform(corpus)"
   ]
  },
  {
   "cell_type": "code",
   "execution_count": 32,
   "metadata": {},
   "outputs": [
    {
     "data": {
      "text/plain": [
       "{'elon': 43,\n",
       " 'reeve': 100,\n",
       " 'musk': 81,\n",
       " 'sk': 109,\n",
       " 'born': 18,\n",
       " 'june': 66,\n",
       " 'is': 63,\n",
       " 'businessman': 21,\n",
       " 'and': 7,\n",
       " 'political': 95,\n",
       " 'figure': 47,\n",
       " 'known': 69,\n",
       " 'for': 48,\n",
       " 'his': 58,\n",
       " 'key': 67,\n",
       " 'roles': 102,\n",
       " 'in': 60,\n",
       " 'the': 121,\n",
       " 'automotive': 12,\n",
       " 'company': 32,\n",
       " 'tesla': 119,\n",
       " 'inc': 61,\n",
       " 'space': 113,\n",
       " 'spacex': 115,\n",
       " 'since': 108,\n",
       " 'january': 65,\n",
       " 'he': 57,\n",
       " 'serving': 107,\n",
       " 'as': 8,\n",
       " 'administrator': 3,\n",
       " 'of': 86,\n",
       " 'department': 37,\n",
       " 'government': 55,\n",
       " 'efficiency': 42,\n",
       " 'under': 128,\n",
       " 'second': 105,\n",
       " 'donald': 39,\n",
       " 'trump': 125,\n",
       " 'presidential': 96,\n",
       " 'administration': 2,\n",
       " 'also': 6,\n",
       " 'ownership': 90,\n",
       " 'corp': 35,\n",
       " 'that': 120,\n",
       " 'operates': 89,\n",
       " 'social': 110,\n",
       " 'media': 74,\n",
       " 'platform': 94,\n",
       " 'formerly': 51,\n",
       " 'twitter': 126,\n",
       " 'role': 101,\n",
       " 'founding': 53,\n",
       " 'boring': 17,\n",
       " 'xai': 139,\n",
       " 'neuralink': 83,\n",
       " 'openai': 88,\n",
       " 'wealthiest': 134,\n",
       " 'individual': 62,\n",
       " 'world': 137,\n",
       " 'forbes': 49,\n",
       " 'estimates': 45,\n",
       " 'net': 82,\n",
       " 'worth': 138,\n",
       " 'to': 123,\n",
       " 'be': 15,\n",
       " 'us': 131,\n",
       " 'billion': 16,\n",
       " 'member': 75,\n",
       " 'wealthy': 135,\n",
       " 'south': 112,\n",
       " 'african': 4,\n",
       " 'family': 46,\n",
       " 'was': 133,\n",
       " 'pretoria': 97,\n",
       " 'briefly': 19,\n",
       " 'attended': 11,\n",
       " 'university': 130,\n",
       " 'at': 9,\n",
       " 'age': 5,\n",
       " 'immigrated': 59,\n",
       " 'canada': 25,\n",
       " 'acquiring': 1,\n",
       " 'its': 64,\n",
       " 'citizenship': 27,\n",
       " 'through': 122,\n",
       " 'canadian': 26,\n",
       " 'mother': 79,\n",
       " 'maye': 73,\n",
       " 'two': 127,\n",
       " 'years': 141,\n",
       " 'later': 70,\n",
       " 'matriculated': 72,\n",
       " 'queen': 98,\n",
       " 'transferred': 124,\n",
       " 'pennsylvania': 92,\n",
       " 'received': 99,\n",
       " 'bachelor': 13,\n",
       " 'degrees': 36,\n",
       " 'economics': 41,\n",
       " 'physics': 93,\n",
       " 'moved': 80,\n",
       " 'california': 24,\n",
       " 'attend': 10,\n",
       " 'stanford': 116,\n",
       " 'but': 22,\n",
       " 'never': 84,\n",
       " 'enrolled': 44,\n",
       " 'classes': 29,\n",
       " 'with': 136,\n",
       " 'brother': 20,\n",
       " 'kimbal': 68,\n",
       " 'co': 30,\n",
       " 'founded': 52,\n",
       " 'online': 87,\n",
       " 'city': 28,\n",
       " 'guide': 56,\n",
       " 'software': 111,\n",
       " 'zip': 142,\n",
       " 'startup': 117,\n",
       " 'acquired': 0,\n",
       " 'by': 23,\n",
       " 'compaq': 33,\n",
       " 'million': 77,\n",
       " 'same': 104,\n",
       " 'year': 140,\n",
       " 'com': 31,\n",
       " 'direct': 38,\n",
       " 'bank': 14,\n",
       " 'merged': 76,\n",
       " 'confinity': 34,\n",
       " 'form': 50,\n",
       " 'paypal': 91,\n",
       " 'united': 129,\n",
       " 'states': 118,\n",
       " 'october': 85,\n",
       " 'ebay': 40,\n",
       " 'using': 132,\n",
       " 'money': 78,\n",
       " 'made': 71,\n",
       " 'from': 54,\n",
       " 'sale': 103,\n",
       " 'spaceflight': 114,\n",
       " 'services': 106}"
      ]
     },
     "execution_count": 32,
     "metadata": {},
     "output_type": "execute_result"
    }
   ],
   "source": [
    "cv.vocabulary_"
   ]
  },
  {
   "cell_type": "code",
   "execution_count": 33,
   "metadata": {},
   "outputs": [
    {
     "data": {
      "text/plain": [
       "' elon reeve musk    i l n m sk   born june           is a businessman and  political figure known for his key roles in the automotive  company tesla  inc  and the space company spacex '"
      ]
     },
     "execution_count": 33,
     "metadata": {},
     "output_type": "execute_result"
    }
   ],
   "source": [
    "corpus[0]"
   ]
  },
  {
   "cell_type": "code",
   "execution_count": 34,
   "metadata": {},
   "outputs": [
    {
     "data": {
      "text/plain": [
       "array([[0, 0, 0, 0, 0, 0, 0, 2, 0, 0, 0, 0, 1, 0, 0, 0, 0, 0, 1, 0, 0, 1,\n",
       "        0, 0, 0, 0, 0, 0, 0, 0, 0, 0, 2, 0, 0, 0, 0, 0, 0, 0, 0, 0, 0, 1,\n",
       "        0, 0, 0, 1, 1, 0, 0, 0, 0, 0, 0, 0, 0, 0, 1, 0, 1, 1, 0, 1, 0, 0,\n",
       "        1, 1, 0, 1, 0, 0, 0, 0, 0, 0, 0, 0, 0, 0, 0, 1, 0, 0, 0, 0, 0, 0,\n",
       "        0, 0, 0, 0, 0, 0, 0, 1, 0, 0, 0, 0, 1, 0, 1, 0, 0, 0, 0, 0, 0, 1,\n",
       "        0, 0, 0, 1, 0, 1, 0, 0, 0, 1, 0, 2, 0, 0, 0, 0, 0, 0, 0, 0, 0, 0,\n",
       "        0, 0, 0, 0, 0, 0, 0, 0, 0, 0, 0]], dtype=int64)"
      ]
     },
     "execution_count": 34,
     "metadata": {},
     "output_type": "execute_result"
    }
   ],
   "source": [
    "x[0].toarray()"
   ]
  },
  {
   "cell_type": "code",
   "execution_count": null,
   "metadata": {},
   "outputs": [],
   "source": []
  }
 ],
 "metadata": {
  "kernelspec": {
   "display_name": "base",
   "language": "python",
   "name": "python3"
  },
  "language_info": {
   "codemirror_mode": {
    "name": "ipython",
    "version": 3
   },
   "file_extension": ".py",
   "mimetype": "text/x-python",
   "name": "python",
   "nbconvert_exporter": "python",
   "pygments_lexer": "ipython3",
   "version": "3.12.7"
  }
 },
 "nbformat": 4,
 "nbformat_minor": 2
}
