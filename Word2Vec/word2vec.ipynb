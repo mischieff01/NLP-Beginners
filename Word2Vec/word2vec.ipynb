{
 "cells": [
  {
   "cell_type": "code",
   "execution_count": 1,
   "metadata": {},
   "outputs": [],
   "source": [
    "import numpy as np\n",
    "import pandas as pd"
   ]
  },
  {
   "cell_type": "code",
   "execution_count": 2,
   "metadata": {},
   "outputs": [],
   "source": [
    "import gensim"
   ]
  },
  {
   "cell_type": "code",
   "execution_count": 3,
   "metadata": {},
   "outputs": [],
   "source": [
    "import os"
   ]
  },
  {
   "cell_type": "code",
   "execution_count": 4,
   "metadata": {},
   "outputs": [],
   "source": [
    "from nltk import sent_tokenize\n",
    "from gensim.utils import simple_preprocess"
   ]
  },
  {
   "cell_type": "code",
   "execution_count": 5,
   "metadata": {},
   "outputs": [],
   "source": [
    "import nltk\n",
    "from nltk.corpus import stopwords"
   ]
  },
  {
   "cell_type": "code",
   "execution_count": 6,
   "metadata": {},
   "outputs": [],
   "source": [
    "books = []\n",
    "for filename in os.listdir('Data'):\n",
    "    filepath = os.path.join('Data',filename)\n",
    "    with open(filepath, encoding='ISO-8859-1') as f:\n",
    "        corpus = f.read()\n",
    "        raw_sent = sent_tokenize(corpus)\n",
    "        for sent in raw_sent:\n",
    "            books.append(simple_preprocess(sent))   "
   ]
  },
  {
   "cell_type": "code",
   "execution_count": 7,
   "metadata": {},
   "outputs": [
    {
     "data": {
      "text/plain": [
       "145020"
      ]
     },
     "execution_count": 7,
     "metadata": {},
     "output_type": "execute_result"
    }
   ],
   "source": [
    "len(books)"
   ]
  },
  {
   "cell_type": "code",
   "execution_count": 8,
   "metadata": {},
   "outputs": [
    {
     "data": {
      "text/plain": [
       "[['game',\n",
       "  'of',\n",
       "  'thrones',\n",
       "  'book',\n",
       "  'one',\n",
       "  'of',\n",
       "  'song',\n",
       "  'of',\n",
       "  'ice',\n",
       "  'and',\n",
       "  'fire',\n",
       "  'by',\n",
       "  'george',\n",
       "  'martin',\n",
       "  'prologue',\n",
       "  'we',\n",
       "  'should',\n",
       "  'start',\n",
       "  'back',\n",
       "  'gared',\n",
       "  'urged',\n",
       "  'as',\n",
       "  'the',\n",
       "  'woods',\n",
       "  'began',\n",
       "  'to',\n",
       "  'grow',\n",
       "  'dark',\n",
       "  'around',\n",
       "  'them'],\n",
       " ['the', 'wildlings', 'are', 'dead'],\n",
       " ['do', 'the', 'dead', 'frighten', 'you'],\n",
       " ['ser',\n",
       "  'waymar',\n",
       "  'royce',\n",
       "  'asked',\n",
       "  'with',\n",
       "  'just',\n",
       "  'the',\n",
       "  'hint',\n",
       "  'of',\n",
       "  'smile'],\n",
       " ['gared', 'did', 'not', 'rise', 'to', 'the', 'bait'],\n",
       " ['he',\n",
       "  'was',\n",
       "  'an',\n",
       "  'old',\n",
       "  'man',\n",
       "  'past',\n",
       "  'fifty',\n",
       "  'and',\n",
       "  'he',\n",
       "  'had',\n",
       "  'seen',\n",
       "  'the',\n",
       "  'lordlings',\n",
       "  'come',\n",
       "  'and',\n",
       "  'go'],\n",
       " ['dead', 'is', 'dead', 'he', 'said'],\n",
       " ['we', 'have', 'no', 'business', 'with', 'the', 'dead'],\n",
       " ['are', 'they', 'dead'],\n",
       " ['royce', 'asked', 'softly'],\n",
       " ['what', 'proof', 'have', 'we'],\n",
       " ['will', 'saw', 'them', 'gared', 'said'],\n",
       " ['if',\n",
       "  'he',\n",
       "  'says',\n",
       "  'they',\n",
       "  'are',\n",
       "  'dead',\n",
       "  'that',\n",
       "  'proof',\n",
       "  'enough',\n",
       "  'for',\n",
       "  'me'],\n",
       " ['will',\n",
       "  'had',\n",
       "  'known',\n",
       "  'they',\n",
       "  'would',\n",
       "  'drag',\n",
       "  'him',\n",
       "  'into',\n",
       "  'the',\n",
       "  'quarrel',\n",
       "  'sooner',\n",
       "  'or',\n",
       "  'later'],\n",
       " ['he', 'wished', 'it', 'had', 'been', 'later', 'rather', 'than', 'sooner'],\n",
       " ['my',\n",
       "  'mother',\n",
       "  'told',\n",
       "  'me',\n",
       "  'that',\n",
       "  'dead',\n",
       "  'men',\n",
       "  'sing',\n",
       "  'no',\n",
       "  'songs',\n",
       "  'he',\n",
       "  'put',\n",
       "  'in'],\n",
       " ['my',\n",
       "  'wet',\n",
       "  'nurse',\n",
       "  'said',\n",
       "  'the',\n",
       "  'same',\n",
       "  'thing',\n",
       "  'will',\n",
       "  'royce',\n",
       "  'replied'],\n",
       " ['never', 'believe', 'anything', 'you', 'hear', 'at', 'woman', 'tit'],\n",
       " ['there',\n",
       "  'are',\n",
       "  'things',\n",
       "  'to',\n",
       "  'be',\n",
       "  'learned',\n",
       "  'even',\n",
       "  'from',\n",
       "  'the',\n",
       "  'dead'],\n",
       " ['his', 'voice', 'echoed', 'too', 'loud', 'in', 'the', 'twilit', 'forest'],\n",
       " ['page',\n",
       "  'we',\n",
       "  'have',\n",
       "  'long',\n",
       "  'ride',\n",
       "  'before',\n",
       "  'us',\n",
       "  'gared',\n",
       "  'pointed',\n",
       "  'out'],\n",
       " ['eight', 'days', 'maybe', 'nine'],\n",
       " ['and', 'night', 'is', 'falling'],\n",
       " ['ser',\n",
       "  'waymar',\n",
       "  'royce',\n",
       "  'glanced',\n",
       "  'at',\n",
       "  'the',\n",
       "  'sky',\n",
       "  'with',\n",
       "  'disinterest'],\n",
       " ['it', 'does', 'that', 'every', 'day', 'about', 'this', 'time'],\n",
       " ['are', 'you', 'unmanned', 'by', 'the', 'dark', 'gared'],\n",
       " ['will',\n",
       "  'could',\n",
       "  'see',\n",
       "  'the',\n",
       "  'tightness',\n",
       "  'around',\n",
       "  'gared',\n",
       "  'mouth',\n",
       "  'the',\n",
       "  'barely',\n",
       "  'sup',\n",
       "  'pressed',\n",
       "  'anger',\n",
       "  'in',\n",
       "  'his',\n",
       "  'eyes',\n",
       "  'under',\n",
       "  'the',\n",
       "  'thick',\n",
       "  'black',\n",
       "  'hood',\n",
       "  'of',\n",
       "  'his',\n",
       "  'cloak'],\n",
       " ['gared',\n",
       "  'had',\n",
       "  'spent',\n",
       "  'forty',\n",
       "  'years',\n",
       "  'in',\n",
       "  'the',\n",
       "  'night',\n",
       "  'watch',\n",
       "  'man',\n",
       "  'and',\n",
       "  'boy',\n",
       "  'and',\n",
       "  'he',\n",
       "  'was',\n",
       "  'not',\n",
       "  'accustomed',\n",
       "  'to',\n",
       "  'being',\n",
       "  'made',\n",
       "  'light',\n",
       "  'of'],\n",
       " ['yet', 'it', 'was', 'more', 'than', 'that'],\n",
       " ['under',\n",
       "  'the',\n",
       "  'wounded',\n",
       "  'pride',\n",
       "  'will',\n",
       "  'could',\n",
       "  'sense',\n",
       "  'something',\n",
       "  'else',\n",
       "  'in',\n",
       "  'the',\n",
       "  'older',\n",
       "  'man'],\n",
       " ['you',\n",
       "  'could',\n",
       "  'taste',\n",
       "  'it',\n",
       "  'nervous',\n",
       "  'tension',\n",
       "  'that',\n",
       "  'came',\n",
       "  'perilous',\n",
       "  'close',\n",
       "  'to',\n",
       "  'fear'],\n",
       " ['will', 'shared', 'his', 'unease'],\n",
       " ['he', 'had', 'been', 'four', 'years', 'on', 'the', 'wall'],\n",
       " ['the',\n",
       "  'first',\n",
       "  'time',\n",
       "  'he',\n",
       "  'had',\n",
       "  'been',\n",
       "  'sent',\n",
       "  'beyond',\n",
       "  'all',\n",
       "  'the',\n",
       "  'old',\n",
       "  'stories',\n",
       "  'had',\n",
       "  'come',\n",
       "  'rushing',\n",
       "  'back',\n",
       "  'and',\n",
       "  'his',\n",
       "  'bowels',\n",
       "  'had',\n",
       "  'turned',\n",
       "  'to',\n",
       "  'water'],\n",
       " ['he', 'had', 'laughed', 'about', 'it', 'afterward'],\n",
       " ['he',\n",
       "  'was',\n",
       "  'veteran',\n",
       "  'of',\n",
       "  'hundred',\n",
       "  'rangings',\n",
       "  'by',\n",
       "  'now',\n",
       "  'and',\n",
       "  'the',\n",
       "  'endless',\n",
       "  'dark',\n",
       "  'wilderness',\n",
       "  'that',\n",
       "  'the',\n",
       "  'southron',\n",
       "  'called',\n",
       "  'the',\n",
       "  'haunted',\n",
       "  'forest',\n",
       "  'had',\n",
       "  'no',\n",
       "  'more',\n",
       "  'terrors',\n",
       "  'for',\n",
       "  'him'],\n",
       " ['until', 'tonight'],\n",
       " ['something', 'was', 'different', 'tonight'],\n",
       " ['there',\n",
       "  'was',\n",
       "  'an',\n",
       "  'edge',\n",
       "  'to',\n",
       "  'this',\n",
       "  'darkness',\n",
       "  'that',\n",
       "  'made',\n",
       "  'his',\n",
       "  'hackles',\n",
       "  'rise'],\n",
       " ['nine',\n",
       "  'days',\n",
       "  'they',\n",
       "  'had',\n",
       "  'been',\n",
       "  'riding',\n",
       "  'north',\n",
       "  'and',\n",
       "  'northwest',\n",
       "  'and',\n",
       "  'then',\n",
       "  'north',\n",
       "  'again',\n",
       "  'farther',\n",
       "  'and',\n",
       "  'farther',\n",
       "  'from',\n",
       "  'the',\n",
       "  'wall',\n",
       "  'hard',\n",
       "  'on',\n",
       "  'the',\n",
       "  'track',\n",
       "  'of',\n",
       "  'band',\n",
       "  'of',\n",
       "  'wildling',\n",
       "  'raiders'],\n",
       " ['each',\n",
       "  'day',\n",
       "  'had',\n",
       "  'been',\n",
       "  'worse',\n",
       "  'than',\n",
       "  'the',\n",
       "  'day',\n",
       "  'that',\n",
       "  'had',\n",
       "  'come',\n",
       "  'before',\n",
       "  'it'],\n",
       " ['today', 'was', 'the', 'worst', 'of', 'all'],\n",
       " ['cold',\n",
       "  'wind',\n",
       "  'was',\n",
       "  'blowing',\n",
       "  'out',\n",
       "  'of',\n",
       "  'the',\n",
       "  'north',\n",
       "  'and',\n",
       "  'it',\n",
       "  'made',\n",
       "  'the',\n",
       "  'trees',\n",
       "  'rustle',\n",
       "  'like',\n",
       "  'living',\n",
       "  'things'],\n",
       " ['all',\n",
       "  'day',\n",
       "  'will',\n",
       "  'had',\n",
       "  'felt',\n",
       "  'as',\n",
       "  'though',\n",
       "  'something',\n",
       "  'were',\n",
       "  'watching',\n",
       "  'him',\n",
       "  'something',\n",
       "  'cold',\n",
       "  'and',\n",
       "  'implacable',\n",
       "  'that',\n",
       "  'loved',\n",
       "  'him',\n",
       "  'not'],\n",
       " ['gared', 'had', 'felt', 'it', 'too'],\n",
       " ['will',\n",
       "  'wanted',\n",
       "  'nothing',\n",
       "  'so',\n",
       "  'much',\n",
       "  'as',\n",
       "  'to',\n",
       "  'ride',\n",
       "  'hellbent',\n",
       "  'for',\n",
       "  'the',\n",
       "  'safety',\n",
       "  'of',\n",
       "  'the',\n",
       "  'wall',\n",
       "  'but',\n",
       "  'that',\n",
       "  'was',\n",
       "  'not',\n",
       "  'feeling',\n",
       "  'to',\n",
       "  'share',\n",
       "  'with',\n",
       "  'your',\n",
       "  'commander'],\n",
       " ['especially', 'not', 'commander', 'like', 'this', 'one'],\n",
       " ['ser',\n",
       "  'waymar',\n",
       "  'royce',\n",
       "  'was',\n",
       "  'the',\n",
       "  'youngest',\n",
       "  'son',\n",
       "  'of',\n",
       "  'an',\n",
       "  'ancient',\n",
       "  'house',\n",
       "  'with',\n",
       "  'too',\n",
       "  'many',\n",
       "  'heirs'],\n",
       " ['he',\n",
       "  'was',\n",
       "  'handsome',\n",
       "  'youth',\n",
       "  'of',\n",
       "  'eighteen',\n",
       "  'grey',\n",
       "  'eyed',\n",
       "  'and',\n",
       "  'graceful',\n",
       "  'and',\n",
       "  'slender',\n",
       "  'as',\n",
       "  'knife'],\n",
       " ['mounted',\n",
       "  'on',\n",
       "  'his',\n",
       "  'huge',\n",
       "  'black',\n",
       "  'destrier',\n",
       "  'the',\n",
       "  'knight',\n",
       "  'towered',\n",
       "  'above',\n",
       "  'will',\n",
       "  'and',\n",
       "  'gared',\n",
       "  'on',\n",
       "  'their',\n",
       "  'smaller',\n",
       "  'garrons'],\n",
       " ['he',\n",
       "  'wore',\n",
       "  'black',\n",
       "  'leather',\n",
       "  'boots',\n",
       "  'black',\n",
       "  'woolen',\n",
       "  'pants',\n",
       "  'black',\n",
       "  'moleskin',\n",
       "  'gloves',\n",
       "  'and',\n",
       "  'fine',\n",
       "  'supple',\n",
       "  'coat',\n",
       "  'of',\n",
       "  'gleaming',\n",
       "  'black',\n",
       "  'ringmail',\n",
       "  'over',\n",
       "  'layers',\n",
       "  'of',\n",
       "  'black',\n",
       "  'wool',\n",
       "  'and',\n",
       "  'boiled',\n",
       "  'leather'],\n",
       " ['ser',\n",
       "  'waymar',\n",
       "  'had',\n",
       "  'been',\n",
       "  'sworn',\n",
       "  'brother',\n",
       "  'of',\n",
       "  'the',\n",
       "  'night',\n",
       "  'watch',\n",
       "  'for',\n",
       "  'less',\n",
       "  'than',\n",
       "  'half',\n",
       "  'year',\n",
       "  'but',\n",
       "  'no',\n",
       "  'one',\n",
       "  'could',\n",
       "  'say',\n",
       "  'he',\n",
       "  'had',\n",
       "  'not',\n",
       "  'prepared',\n",
       "  'for',\n",
       "  'his',\n",
       "  'vocation'],\n",
       " ['at', 'least', 'insofar', 'as', 'his', 'wardrobe', 'was', 'concerned'],\n",
       " ['his',\n",
       "  'cloak',\n",
       "  'was',\n",
       "  'his',\n",
       "  'crowning',\n",
       "  'glory',\n",
       "  'sable',\n",
       "  'thick',\n",
       "  'and',\n",
       "  'black',\n",
       "  'and',\n",
       "  'soft',\n",
       "  'as',\n",
       "  'sin'],\n",
       " ['bet',\n",
       "  'he',\n",
       "  'killed',\n",
       "  'them',\n",
       "  'all',\n",
       "  'himself',\n",
       "  'he',\n",
       "  'did',\n",
       "  'gared',\n",
       "  'told',\n",
       "  'the',\n",
       "  'barracks',\n",
       "  'over',\n",
       "  'wine',\n",
       "  'twisted',\n",
       "  'their',\n",
       "  'little',\n",
       "  'heads',\n",
       "  'off',\n",
       "  'our',\n",
       "  'mighty',\n",
       "  'warrior'],\n",
       " ['they', 'had', 'all', 'shared', 'the', 'laugh'],\n",
       " ['it',\n",
       "  'is',\n",
       "  'hard',\n",
       "  'to',\n",
       "  'take',\n",
       "  'orders',\n",
       "  'from',\n",
       "  'man',\n",
       "  'you',\n",
       "  'laughed',\n",
       "  'at',\n",
       "  'in',\n",
       "  'your',\n",
       "  'cups',\n",
       "  'will',\n",
       "  'reflected',\n",
       "  'as',\n",
       "  'he',\n",
       "  'sat',\n",
       "  'shivering',\n",
       "  'atop',\n",
       "  'his',\n",
       "  'garron'],\n",
       " ['gared', 'must', 'have', 'felt', 'the', 'same'],\n",
       " ['mormont',\n",
       "  'said',\n",
       "  'as',\n",
       "  'we',\n",
       "  'should',\n",
       "  'track',\n",
       "  'them',\n",
       "  'and',\n",
       "  'we',\n",
       "  'did',\n",
       "  'gared',\n",
       "  'said'],\n",
       " ['they', 're', 'dead'],\n",
       " ['they', 'shan', 'trouble', 'us', 'no', 'more'],\n",
       " ['there', 'hard', 'riding', 'before', 'us'],\n",
       " ['don', 'like', 'this', 'weather'],\n",
       " ['if',\n",
       "  'it',\n",
       "  'snows',\n",
       "  'we',\n",
       "  'could',\n",
       "  'be',\n",
       "  'fortnight',\n",
       "  'getting',\n",
       "  'back',\n",
       "  'and',\n",
       "  'snow',\n",
       "  'the',\n",
       "  'best',\n",
       "  'we',\n",
       "  'can',\n",
       "  'hope',\n",
       "  'for'],\n",
       " ['ever', 'seen', 'an', 'ice', 'storm', 'my', 'lord'],\n",
       " ['the', 'lordling', 'seemed', 'not', 'to', 'hear', 'him'],\n",
       " ['he',\n",
       "  'studied',\n",
       "  'the',\n",
       "  'deepening',\n",
       "  'twilight',\n",
       "  'in',\n",
       "  'that',\n",
       "  'half',\n",
       "  'bored',\n",
       "  'half',\n",
       "  'distracted',\n",
       "  'page',\n",
       "  'way',\n",
       "  'he',\n",
       "  'had'],\n",
       " ['will',\n",
       "  'had',\n",
       "  'ridden',\n",
       "  'with',\n",
       "  'the',\n",
       "  'knight',\n",
       "  'long',\n",
       "  'enough',\n",
       "  'to',\n",
       "  'understand',\n",
       "  'that',\n",
       "  'it',\n",
       "  'was',\n",
       "  'best',\n",
       "  'not',\n",
       "  'to',\n",
       "  'interrupt',\n",
       "  'him',\n",
       "  'when',\n",
       "  'he',\n",
       "  'looked',\n",
       "  'like',\n",
       "  'that'],\n",
       " ['tell', 'me', 'again', 'what', 'you', 'saw', 'will'],\n",
       " ['all', 'the', 'details'],\n",
       " ['leave', 'nothing', 'out'],\n",
       " ['will',\n",
       "  'had',\n",
       "  'been',\n",
       "  'hunter',\n",
       "  'before',\n",
       "  'he',\n",
       "  'joined',\n",
       "  'the',\n",
       "  'night',\n",
       "  'watch'],\n",
       " ['well', 'poacher', 'in', 'truth'],\n",
       " ['mallister',\n",
       "  'freeriders',\n",
       "  'had',\n",
       "  'caught',\n",
       "  'him',\n",
       "  'red',\n",
       "  'handed',\n",
       "  'in',\n",
       "  'the',\n",
       "  'mallisters',\n",
       "  'own',\n",
       "  'woods',\n",
       "  'skinning',\n",
       "  'one',\n",
       "  'of',\n",
       "  'the',\n",
       "  'mallisters',\n",
       "  'own',\n",
       "  'bucks',\n",
       "  'and',\n",
       "  'it',\n",
       "  'had',\n",
       "  'been',\n",
       "  'choice',\n",
       "  'of',\n",
       "  'putting',\n",
       "  'on',\n",
       "  'the',\n",
       "  'black',\n",
       "  'or',\n",
       "  'losing',\n",
       "  'hand'],\n",
       " ['no',\n",
       "  'one',\n",
       "  'could',\n",
       "  'move',\n",
       "  'through',\n",
       "  'the',\n",
       "  'woods',\n",
       "  'as',\n",
       "  'silent',\n",
       "  'as',\n",
       "  'will',\n",
       "  'and',\n",
       "  'it',\n",
       "  'had',\n",
       "  'not',\n",
       "  'taken',\n",
       "  'the',\n",
       "  'black',\n",
       "  'brothers',\n",
       "  'long',\n",
       "  'to',\n",
       "  'discover',\n",
       "  'his',\n",
       "  'talent'],\n",
       " ['the',\n",
       "  'camp',\n",
       "  'is',\n",
       "  'two',\n",
       "  'miles',\n",
       "  'farther',\n",
       "  'on',\n",
       "  'over',\n",
       "  'that',\n",
       "  'ridge',\n",
       "  'hard',\n",
       "  'beside',\n",
       "  'stream',\n",
       "  'will',\n",
       "  'said'],\n",
       " ['got', 'close', 'as', 'dared'],\n",
       " ['there', 'eight', 'of', 'them', 'men', 'and', 'women', 'both'],\n",
       " ['no', 'children', 'could', 'see'],\n",
       " ['they', 'put', 'up', 'lean', 'to', 'against', 'the', 'rock'],\n",
       " ['the',\n",
       "  'snow',\n",
       "  'pretty',\n",
       "  'well',\n",
       "  'covered',\n",
       "  'it',\n",
       "  'now',\n",
       "  'but',\n",
       "  'could',\n",
       "  'still',\n",
       "  'make',\n",
       "  'it',\n",
       "  'out'],\n",
       " ['no',\n",
       "  'fire',\n",
       "  'burning',\n",
       "  'but',\n",
       "  'the',\n",
       "  'firepit',\n",
       "  'was',\n",
       "  'still',\n",
       "  'plain',\n",
       "  'as',\n",
       "  'day'],\n",
       " ['no', 'one', 'moving'],\n",
       " ['watched', 'long', 'time'],\n",
       " ['no', 'living', 'man', 'ever', 'lay', 'so', 'still'],\n",
       " ['did', 'you', 'see', 'any', 'blood'],\n",
       " ['well', 'no', 'will', 'admitted'],\n",
       " ['did', 'you', 'see', 'any', 'weapons'],\n",
       " ['some', 'swords', 'few', 'bows'],\n",
       " ['one', 'man', 'had', 'an', 'axe'],\n",
       " ['heavy', 'looking', 'double', 'bladed', 'cruel', 'piece', 'of', 'iron'],\n",
       " ['it',\n",
       "  'was',\n",
       "  'on',\n",
       "  'the',\n",
       "  'ground',\n",
       "  'beside',\n",
       "  'him',\n",
       "  'right',\n",
       "  'by',\n",
       "  'his',\n",
       "  'hand'],\n",
       " ['did',\n",
       "  'you',\n",
       "  'make',\n",
       "  'note',\n",
       "  'of',\n",
       "  'the',\n",
       "  'position',\n",
       "  'of',\n",
       "  'the',\n",
       "  'bodies'],\n",
       " ['will', 'shrugged'],\n",
       " ['couple', 'are', 'sitting', 'up', 'against', 'the', 'rock'],\n",
       " ['most', 'of', 'them', 'on', 'the', 'ground'],\n",
       " ['fallen', 'like'],\n",
       " ['or', 'sleeping', 'royce', 'suggested'],\n",
       " ['fallen', 'will', 'insisted'],\n",
       " ['there',\n",
       "  'one',\n",
       "  'woman',\n",
       "  'up',\n",
       "  'an',\n",
       "  'ironwood',\n",
       "  'halfhid',\n",
       "  'in',\n",
       "  'the',\n",
       "  'branches'],\n",
       " ['far', 'eyes'],\n",
       " ['he', 'smiled', 'thinly'],\n",
       " ['took', 'care', 'she', 'never', 'saw', 'me'],\n",
       " ['when', 'got', 'closer', 'saw', 'that', 'she', 'wasn', 'moving', 'neither'],\n",
       " ['despite', 'himself', 'he', 'shivered'],\n",
       " ['you', 'have', 'chill'],\n",
       " ['royce', 'asked'],\n",
       " ['some', 'will', 'muttered'],\n",
       " ['the', 'wind', 'lord'],\n",
       " ['the',\n",
       "  'young',\n",
       "  'knight',\n",
       "  'turned',\n",
       "  'back',\n",
       "  'to',\n",
       "  'his',\n",
       "  'grizzled',\n",
       "  'man',\n",
       "  'at',\n",
       "  'arms'],\n",
       " ['frostfallen',\n",
       "  'leaves',\n",
       "  'whispered',\n",
       "  'past',\n",
       "  'them',\n",
       "  'and',\n",
       "  'royce',\n",
       "  'destrier',\n",
       "  'moved',\n",
       "  'restlessly'],\n",
       " ['what',\n",
       "  'do',\n",
       "  'you',\n",
       "  'think',\n",
       "  'might',\n",
       "  'have',\n",
       "  'killed',\n",
       "  'these',\n",
       "  'men',\n",
       "  'gared'],\n",
       " ['ser', 'waymar', 'asked', 'casually'],\n",
       " ['he', 'adjusted', 'the', 'drape', 'of', 'his', 'long', 'sable', 'cloak'],\n",
       " ['it', 'was', 'the', 'cold', 'gared', 'said', 'with', 'iron', 'certainty'],\n",
       " ['saw',\n",
       "  'men',\n",
       "  'freeze',\n",
       "  'last',\n",
       "  'winter',\n",
       "  'and',\n",
       "  'the',\n",
       "  'one',\n",
       "  'before',\n",
       "  'when',\n",
       "  'was',\n",
       "  'half',\n",
       "  'boy'],\n",
       " ['everyone',\n",
       "  'talks',\n",
       "  'about',\n",
       "  'snows',\n",
       "  'forty',\n",
       "  'foot',\n",
       "  'deep',\n",
       "  'and',\n",
       "  'how',\n",
       "  'the',\n",
       "  'ice',\n",
       "  'wind',\n",
       "  'comes',\n",
       "  'howling',\n",
       "  'out',\n",
       "  'of',\n",
       "  'the',\n",
       "  'north',\n",
       "  'but',\n",
       "  'the',\n",
       "  'real',\n",
       "  'enemy',\n",
       "  'is',\n",
       "  'the',\n",
       "  'cold'],\n",
       " ['it',\n",
       "  'steals',\n",
       "  'up',\n",
       "  'on',\n",
       "  'you',\n",
       "  'quieter',\n",
       "  'than',\n",
       "  'will',\n",
       "  'and',\n",
       "  'at',\n",
       "  'first',\n",
       "  'you',\n",
       "  'shiver',\n",
       "  'and',\n",
       "  'your',\n",
       "  'teeth',\n",
       "  'chatter',\n",
       "  'and',\n",
       "  'you',\n",
       "  'stamp',\n",
       "  'your',\n",
       "  'feet',\n",
       "  'and',\n",
       "  'dream',\n",
       "  'of',\n",
       "  'mulled',\n",
       "  'wine',\n",
       "  'and',\n",
       "  'nice',\n",
       "  'hot',\n",
       "  'fires'],\n",
       " ['it', 'burns', 'it', 'does'],\n",
       " ['nothing', 'burns', 'like', 'the', 'cold'],\n",
       " ['but', 'only', 'for', 'while'],\n",
       " ['then',\n",
       "  'it',\n",
       "  'gets',\n",
       "  'inside',\n",
       "  'you',\n",
       "  'and',\n",
       "  'starts',\n",
       "  'to',\n",
       "  'fill',\n",
       "  'you',\n",
       "  'up',\n",
       "  'and',\n",
       "  'after',\n",
       "  'while',\n",
       "  'you',\n",
       "  'don',\n",
       "  'have',\n",
       "  'the',\n",
       "  'strength',\n",
       "  'to',\n",
       "  'fight',\n",
       "  'it'],\n",
       " ['it', 'easier', 'just', 'to', 'sit', 'down', 'or', 'go', 'to', 'sleep'],\n",
       " ['they', 'say', 'you', 'don', 'feel', 'any', 'pain', 'toward', 'the', 'end'],\n",
       " ['first',\n",
       "  'you',\n",
       "  'go',\n",
       "  'weak',\n",
       "  'and',\n",
       "  'drowsy',\n",
       "  'and',\n",
       "  'everything',\n",
       "  'starts',\n",
       "  'to',\n",
       "  'fade',\n",
       "  'and',\n",
       "  'then',\n",
       "  'it',\n",
       "  'like',\n",
       "  'sinking',\n",
       "  'into',\n",
       "  'sea',\n",
       "  'of',\n",
       "  'warm',\n",
       "  'milk'],\n",
       " ['peaceful', 'like'],\n",
       " ['such', 'eloquence', 'gared', 'ser', 'waymar', 'observed'],\n",
       " ['never', 'suspected', 'you', 'had', 'it', 'in', 'you'],\n",
       " ['page', 've', 'had', 'the', 'cold', 'in', 'me', 'too', 'lordling'],\n",
       " ['gared',\n",
       "  'pulled',\n",
       "  'back',\n",
       "  'his',\n",
       "  'hood',\n",
       "  'giving',\n",
       "  'ser',\n",
       "  'waymar',\n",
       "  'good',\n",
       "  'long',\n",
       "  'look',\n",
       "  'at',\n",
       "  'the',\n",
       "  'stumps',\n",
       "  'where',\n",
       "  'his',\n",
       "  'ears',\n",
       "  'had',\n",
       "  'been'],\n",
       " ['two',\n",
       "  'ears',\n",
       "  'three',\n",
       "  'toes',\n",
       "  'and',\n",
       "  'the',\n",
       "  'little',\n",
       "  'finger',\n",
       "  'off',\n",
       "  'my',\n",
       "  'left',\n",
       "  'hand'],\n",
       " ['got', 'off', 'light'],\n",
       " ['we',\n",
       "  'found',\n",
       "  'my',\n",
       "  'brother',\n",
       "  'frozen',\n",
       "  'at',\n",
       "  'his',\n",
       "  'watch',\n",
       "  'with',\n",
       "  'smile',\n",
       "  'on',\n",
       "  'his',\n",
       "  'face'],\n",
       " ['ser', 'waymar', 'shrugged'],\n",
       " ['you', 'ought', 'dress', 'more', 'warmly', 'gared'],\n",
       " ['gared',\n",
       "  'glared',\n",
       "  'at',\n",
       "  'the',\n",
       "  'lordling',\n",
       "  'the',\n",
       "  'scars',\n",
       "  'around',\n",
       "  'his',\n",
       "  'ear',\n",
       "  'holes',\n",
       "  'flushed',\n",
       "  'red',\n",
       "  'with',\n",
       "  'anger',\n",
       "  'where',\n",
       "  'maester',\n",
       "  'aemon',\n",
       "  'had',\n",
       "  'cut',\n",
       "  'the',\n",
       "  'ears',\n",
       "  'away'],\n",
       " ['we',\n",
       "  'll',\n",
       "  'see',\n",
       "  'how',\n",
       "  'warm',\n",
       "  'you',\n",
       "  'can',\n",
       "  'dress',\n",
       "  'when',\n",
       "  'the',\n",
       "  'winter',\n",
       "  'comes'],\n",
       " ['he',\n",
       "  'pulled',\n",
       "  'up',\n",
       "  'his',\n",
       "  'hood',\n",
       "  'and',\n",
       "  'hunched',\n",
       "  'over',\n",
       "  'his',\n",
       "  'garron',\n",
       "  'silent',\n",
       "  'and',\n",
       "  'sullen'],\n",
       " ['if', 'gared', 'said', 'it', 'was', 'the', 'cold'],\n",
       " [],\n",
       " [],\n",
       " ['will', 'began'],\n",
       " ['have', 'you', 'drawn', 'any', 'watches', 'this', 'past', 'week', 'will'],\n",
       " ['yes', 'lord'],\n",
       " ['there',\n",
       "  'never',\n",
       "  'was',\n",
       "  'week',\n",
       "  'when',\n",
       "  'he',\n",
       "  'did',\n",
       "  'not',\n",
       "  'draw',\n",
       "  'dozen',\n",
       "  'bloody',\n",
       "  'watches'],\n",
       " ['what', 'was', 'the', 'man', 'driving', 'at'],\n",
       " ['and', 'how', 'did', 'you', 'find', 'the', 'wall'],\n",
       " ['weeping', 'will', 'said', 'frowning'],\n",
       " ['he',\n",
       "  'saw',\n",
       "  'it',\n",
       "  'clear',\n",
       "  'enough',\n",
       "  'now',\n",
       "  'that',\n",
       "  'the',\n",
       "  'lordling',\n",
       "  'had',\n",
       "  'pointed',\n",
       "  'it',\n",
       "  'out'],\n",
       " ['they', 'couldn', 'have', 'froze'],\n",
       " ['not', 'if', 'the', 'wall', 'was', 'weeping'],\n",
       " ['it', 'wasn', 'cold', 'enough'],\n",
       " ['royce', 'nodded'],\n",
       " ['bright', 'lad'],\n",
       " ['we',\n",
       "  've',\n",
       "  'had',\n",
       "  'few',\n",
       "  'light',\n",
       "  'frosts',\n",
       "  'this',\n",
       "  'past',\n",
       "  'week',\n",
       "  'and',\n",
       "  'quick',\n",
       "  'flurry',\n",
       "  'of',\n",
       "  'snow',\n",
       "  'now',\n",
       "  'and',\n",
       "  'then',\n",
       "  'but',\n",
       "  'surely',\n",
       "  'no',\n",
       "  'cold',\n",
       "  'fierce',\n",
       "  'enough',\n",
       "  'to',\n",
       "  'kill',\n",
       "  'eight',\n",
       "  'grown',\n",
       "  'men'],\n",
       " ['men',\n",
       "  'clad',\n",
       "  'in',\n",
       "  'fur',\n",
       "  'and',\n",
       "  'leather',\n",
       "  'let',\n",
       "  'me',\n",
       "  'remind',\n",
       "  'you',\n",
       "  'with',\n",
       "  'shelter',\n",
       "  'near',\n",
       "  'at',\n",
       "  'hand',\n",
       "  'and',\n",
       "  'the',\n",
       "  'means',\n",
       "  'of',\n",
       "  'making',\n",
       "  'fire'],\n",
       " ['the', 'knight', 'smile', 'was', 'cocksure'],\n",
       " ['will', 'lead', 'us', 'there'],\n",
       " ['would', 'see', 'these', 'dead', 'men', 'for', 'myself'],\n",
       " ['and', 'then', 'there', 'was', 'nothing', 'to', 'be', 'done', 'for', 'it'],\n",
       " ['the',\n",
       "  'order',\n",
       "  'had',\n",
       "  'been',\n",
       "  'given',\n",
       "  'and',\n",
       "  'honor',\n",
       "  'bound',\n",
       "  'them',\n",
       "  'to',\n",
       "  'obey'],\n",
       " ['will',\n",
       "  'went',\n",
       "  'in',\n",
       "  'front',\n",
       "  'his',\n",
       "  'shaggy',\n",
       "  'little',\n",
       "  'garron',\n",
       "  'picking',\n",
       "  'the',\n",
       "  'way',\n",
       "  'carefully',\n",
       "  'through',\n",
       "  'the',\n",
       "  'undergrowth'],\n",
       " ['light',\n",
       "  'snow',\n",
       "  'had',\n",
       "  'fallen',\n",
       "  'the',\n",
       "  'night',\n",
       "  'before',\n",
       "  'and',\n",
       "  'there',\n",
       "  'were',\n",
       "  'stones',\n",
       "  'and',\n",
       "  'roots',\n",
       "  'and',\n",
       "  'hidden',\n",
       "  'sinks',\n",
       "  'lying',\n",
       "  'just',\n",
       "  'under',\n",
       "  'its',\n",
       "  'crust',\n",
       "  'waiting',\n",
       "  'for',\n",
       "  'the',\n",
       "  'careless',\n",
       "  'and',\n",
       "  'the',\n",
       "  'unwary'],\n",
       " ['ser',\n",
       "  'waymar',\n",
       "  'royce',\n",
       "  'came',\n",
       "  'next',\n",
       "  'his',\n",
       "  'great',\n",
       "  'black',\n",
       "  'destrier',\n",
       "  'snorting',\n",
       "  'impatiently'],\n",
       " ['the',\n",
       "  'warhorse',\n",
       "  'was',\n",
       "  'the',\n",
       "  'wrong',\n",
       "  'mount',\n",
       "  'for',\n",
       "  'ranging',\n",
       "  'but',\n",
       "  'try',\n",
       "  'and',\n",
       "  'tell',\n",
       "  'that',\n",
       "  'to',\n",
       "  'the',\n",
       "  'lordling'],\n",
       " ['gared', 'brought', 'up', 'the', 'rear'],\n",
       " ['the',\n",
       "  'old',\n",
       "  'man',\n",
       "  'at',\n",
       "  'arms',\n",
       "  'muttered',\n",
       "  'to',\n",
       "  'himself',\n",
       "  'as',\n",
       "  'he',\n",
       "  'rode'],\n",
       " ['twilight', 'deepened'],\n",
       " ['the',\n",
       "  'cloudless',\n",
       "  'sky',\n",
       "  'turned',\n",
       "  'deep',\n",
       "  'purple',\n",
       "  'the',\n",
       "  'color',\n",
       "  'of',\n",
       "  'an',\n",
       "  'old',\n",
       "  'bruise',\n",
       "  'then',\n",
       "  'faded',\n",
       "  'to',\n",
       "  'black'],\n",
       " ['the', 'stars', 'began', 'to', 'come', 'out'],\n",
       " ['half', 'moon', 'rose'],\n",
       " ['will', 'was', 'grateful', 'for', 'the', 'light'],\n",
       " ['we',\n",
       "  'can',\n",
       "  'make',\n",
       "  'better',\n",
       "  'pace',\n",
       "  'than',\n",
       "  'this',\n",
       "  'surely',\n",
       "  'royce',\n",
       "  'said',\n",
       "  'when',\n",
       "  'the',\n",
       "  'moon',\n",
       "  'was',\n",
       "  'full',\n",
       "  'risen'],\n",
       " ['not', 'with', 'this', 'horse', 'will', 'said'],\n",
       " ['fear', 'had', 'made', 'him', 'insolent'],\n",
       " ['perhaps', 'my', 'lord', 'would', 'care', 'to', 'take', 'the', 'lead'],\n",
       " ['ser', 'waymar', 'royce', 'did', 'not', 'deign', 'to', 'reply'],\n",
       " ['somewhere', 'off', 'in', 'the', 'wood', 'wolf', 'howled'],\n",
       " ['will',\n",
       "  'pulled',\n",
       "  'his',\n",
       "  'garron',\n",
       "  'over',\n",
       "  'beneath',\n",
       "  'an',\n",
       "  'ancient',\n",
       "  'gnarled',\n",
       "  'ironwood',\n",
       "  'and',\n",
       "  'dismounted'],\n",
       " ['page', 'why', 'are', 'you', 'stopping'],\n",
       " ['ser', 'waymar', 'asked'],\n",
       " ['best', 'go', 'the', 'rest', 'of', 'the', 'way', 'on', 'foot', 'lord'],\n",
       " ['it', 'just', 'over', 'that', 'ridge'],\n",
       " ['royce',\n",
       "  'paused',\n",
       "  'moment',\n",
       "  'staring',\n",
       "  'off',\n",
       "  'into',\n",
       "  'the',\n",
       "  'distance',\n",
       "  'his',\n",
       "  'face',\n",
       "  'reflective'],\n",
       " ['cold', 'wind', 'whispered', 'through', 'the', 'trees'],\n",
       " ['his',\n",
       "  'great',\n",
       "  'sable',\n",
       "  'cloak',\n",
       "  'stirred',\n",
       "  'behind',\n",
       "  'like',\n",
       "  'something',\n",
       "  'half',\n",
       "  'alive'],\n",
       " ['there', 'something', 'wrong', 'here', 'gared', 'muttered'],\n",
       " ['the', 'young', 'knight', 'gave', 'him', 'disdainful', 'smile'],\n",
       " ['is', 'there'],\n",
       " ['can', 'you', 'feel', 'it'],\n",
       " ['gared', 'asked'],\n",
       " ['listen', 'to', 'the', 'darkness'],\n",
       " ['will', 'could', 'feel', 'it'],\n",
       " ['four',\n",
       "  'years',\n",
       "  'in',\n",
       "  'the',\n",
       "  'night',\n",
       "  'watch',\n",
       "  'and',\n",
       "  'he',\n",
       "  'had',\n",
       "  'never',\n",
       "  'been',\n",
       "  'so',\n",
       "  'afraid'],\n",
       " ['what', 'was', 'it'],\n",
       " ['wind'],\n",
       " ['trees', 'rustling'],\n",
       " ['wolf'],\n",
       " ['which', 'sound', 'is', 'it', 'that', 'unmans', 'you', 'so', 'gared'],\n",
       " ['when',\n",
       "  'gared',\n",
       "  'did',\n",
       "  'not',\n",
       "  'answer',\n",
       "  'royce',\n",
       "  'slid',\n",
       "  'gracefully',\n",
       "  'from',\n",
       "  'his',\n",
       "  'saddle'],\n",
       " ['he',\n",
       "  'tied',\n",
       "  'the',\n",
       "  'destrier',\n",
       "  'securely',\n",
       "  'to',\n",
       "  'low',\n",
       "  'hanging',\n",
       "  'limb',\n",
       "  'well',\n",
       "  'away',\n",
       "  'from',\n",
       "  'the',\n",
       "  'other',\n",
       "  'horses',\n",
       "  'and',\n",
       "  'drew',\n",
       "  'his',\n",
       "  'longsword',\n",
       "  'from',\n",
       "  'its',\n",
       "  'sheath'],\n",
       " ['jewels',\n",
       "  'glittered',\n",
       "  'in',\n",
       "  'its',\n",
       "  'hilt',\n",
       "  'and',\n",
       "  'the',\n",
       "  'moonlight',\n",
       "  'ran',\n",
       "  'down',\n",
       "  'the',\n",
       "  'shining',\n",
       "  'steel'],\n",
       " ['it',\n",
       "  'was',\n",
       "  'splendid',\n",
       "  'weapon',\n",
       "  'castle',\n",
       "  'forged',\n",
       "  'and',\n",
       "  'new',\n",
       "  'made',\n",
       "  'from',\n",
       "  'the',\n",
       "  'look',\n",
       "  'of',\n",
       "  'it'],\n",
       " ['will', 'doubted', 'it', 'had', 'ever', 'been', 'swung', 'in', 'anger'],\n",
       " ['the', 'trees', 'press', 'close', 'here', 'will', 'warned'],\n",
       " ['that', 'sword', 'will', 'tangle', 'you', 'up', 'ord'],\n",
       " ['better', 'knife'],\n",
       " ['if',\n",
       "  'need',\n",
       "  'instruction',\n",
       "  'will',\n",
       "  'ask',\n",
       "  'for',\n",
       "  'it',\n",
       "  'the',\n",
       "  'young',\n",
       "  'lord',\n",
       "  'said'],\n",
       " ['gared', 'stay', 'here'],\n",
       " ['guard', 'the', 'horses'],\n",
       " ['gared', 'dismounted'],\n",
       " ['we', 'need', 'fire'],\n",
       " ['ll', 'see', 'to', 'it'],\n",
       " ['how', 'big', 'fool', 'are', 'you', 'old', 'man'],\n",
       " ['if',\n",
       "  'there',\n",
       "  'are',\n",
       "  'enemies',\n",
       "  'in',\n",
       "  'this',\n",
       "  'wood',\n",
       "  'fire',\n",
       "  'is',\n",
       "  'the',\n",
       "  'last',\n",
       "  'thing',\n",
       "  'we',\n",
       "  'want'],\n",
       " ['there', 'some', 'enemies', 'fire', 'will', 'keep', 'away', 'gared', 'said'],\n",
       " ['bears', 'and', 'direwolves', 'and', 'and', 'other', 'things'],\n",
       " [],\n",
       " [],\n",
       " ['ser', 'waymar', 'mouth', 'became', 'hard', 'line'],\n",
       " ['no', 'fire'],\n",
       " ['gared',\n",
       "  'hood',\n",
       "  'shadowed',\n",
       "  'his',\n",
       "  'face',\n",
       "  'but',\n",
       "  'will',\n",
       "  'could',\n",
       "  'see',\n",
       "  'the',\n",
       "  'hard',\n",
       "  'glitter',\n",
       "  'in',\n",
       "  'his',\n",
       "  'eyes',\n",
       "  'as',\n",
       "  'he',\n",
       "  'stared',\n",
       "  'at',\n",
       "  'the',\n",
       "  'knight'],\n",
       " ['for',\n",
       "  'moment',\n",
       "  'he',\n",
       "  'was',\n",
       "  'afraid',\n",
       "  'the',\n",
       "  'older',\n",
       "  'man',\n",
       "  'would',\n",
       "  'go',\n",
       "  'for',\n",
       "  'his',\n",
       "  'sword'],\n",
       " ['it',\n",
       "  'was',\n",
       "  'short',\n",
       "  'ugly',\n",
       "  'thing',\n",
       "  'its',\n",
       "  'grip',\n",
       "  'discolored',\n",
       "  'by',\n",
       "  'sweat',\n",
       "  'its',\n",
       "  'edge',\n",
       "  'nicked',\n",
       "  'from',\n",
       "  'hard',\n",
       "  'use',\n",
       "  'but',\n",
       "  'will',\n",
       "  'would',\n",
       "  'not',\n",
       "  'have',\n",
       "  'given',\n",
       "  'an',\n",
       "  'iron',\n",
       "  'bob',\n",
       "  'for',\n",
       "  'the',\n",
       "  'lordling',\n",
       "  'life',\n",
       "  'if',\n",
       "  'gared',\n",
       "  'pulled',\n",
       "  'it',\n",
       "  'from',\n",
       "  'its',\n",
       "  'scabbard'],\n",
       " ['finally', 'gared', 'looked', 'down'],\n",
       " ['no', 'fire', 'he', 'muttered', 'low', 'under', 'his', 'breath'],\n",
       " ['royce', 'took', 'it', 'for', 'acquiescence', 'and', 'turned', 'away'],\n",
       " ['lead', 'on', 'he', 'said', 'to', 'will'],\n",
       " ['will',\n",
       "  'threaded',\n",
       "  'their',\n",
       "  'way',\n",
       "  'through',\n",
       "  'thicket',\n",
       "  'then',\n",
       "  'started',\n",
       "  'up',\n",
       "  'the',\n",
       "  'slope',\n",
       "  'to',\n",
       "  'the',\n",
       "  'low',\n",
       "  'ridge',\n",
       "  'where',\n",
       "  'he',\n",
       "  'had',\n",
       "  'found',\n",
       "  'his',\n",
       "  'vantage',\n",
       "  'point',\n",
       "  'under',\n",
       "  'sentinel',\n",
       "  'tree'],\n",
       " ['under',\n",
       "  'the',\n",
       "  'thin',\n",
       "  'crust',\n",
       "  'of',\n",
       "  'snow',\n",
       "  'the',\n",
       "  'ground',\n",
       "  'was',\n",
       "  'damp',\n",
       "  'and',\n",
       "  'muddy',\n",
       "  'slick',\n",
       "  'footing',\n",
       "  'with',\n",
       "  'rocks',\n",
       "  'and',\n",
       "  'hidden',\n",
       "  'roots',\n",
       "  'to',\n",
       "  'trip',\n",
       "  'you',\n",
       "  'up'],\n",
       " ['will', 'made', 'no', 'sound', 'as', 'he', 'climbed'],\n",
       " ['behind',\n",
       "  'him',\n",
       "  'he',\n",
       "  'heard',\n",
       "  'the',\n",
       "  'soft',\n",
       "  'metallic',\n",
       "  'slither',\n",
       "  'of',\n",
       "  'the',\n",
       "  'lordling',\n",
       "  'ringmail',\n",
       "  'the',\n",
       "  'rustle',\n",
       "  'of',\n",
       "  'leaves',\n",
       "  'and',\n",
       "  'muttered',\n",
       "  'curses',\n",
       "  'as',\n",
       "  'reaching',\n",
       "  'branches',\n",
       "  'grabbed',\n",
       "  'at',\n",
       "  'his',\n",
       "  'longsword',\n",
       "  'and',\n",
       "  'tugged',\n",
       "  'on',\n",
       "  'his',\n",
       "  'splendid',\n",
       "  'sable',\n",
       "  'cloak'],\n",
       " ['the',\n",
       "  'great',\n",
       "  'sentinel',\n",
       "  'was',\n",
       "  'right',\n",
       "  'there',\n",
       "  'at',\n",
       "  'the',\n",
       "  'top',\n",
       "  'of',\n",
       "  'the',\n",
       "  'ridge',\n",
       "  'where',\n",
       "  'will',\n",
       "  'had',\n",
       "  'known',\n",
       "  'it',\n",
       "  'would',\n",
       "  'be',\n",
       "  'its',\n",
       "  'lowest',\n",
       "  'branches',\n",
       "  'bare',\n",
       "  'foot',\n",
       "  'off',\n",
       "  'the',\n",
       "  'ground'],\n",
       " ['will',\n",
       "  'slid',\n",
       "  'in',\n",
       "  'underneath',\n",
       "  'flat',\n",
       "  'on',\n",
       "  'his',\n",
       "  'belly',\n",
       "  'in',\n",
       "  'the',\n",
       "  'snow',\n",
       "  'and',\n",
       "  'the',\n",
       "  'mud',\n",
       "  'and',\n",
       "  'page',\n",
       "  'looked',\n",
       "  'down',\n",
       "  'on',\n",
       "  'the',\n",
       "  'empty',\n",
       "  'clearing',\n",
       "  'below'],\n",
       " ['his', 'heart', 'stopped', 'in', 'his', 'chest'],\n",
       " ['for', 'moment', 'he', 'dared', 'not', 'breathe'],\n",
       " ['moonlight',\n",
       "  'shone',\n",
       "  'down',\n",
       "  'on',\n",
       "  'the',\n",
       "  'clearing',\n",
       "  'the',\n",
       "  'ashes',\n",
       "  'of',\n",
       "  'the',\n",
       "  'firepit',\n",
       "  'the',\n",
       "  'snow',\n",
       "  'covered',\n",
       "  'lean',\n",
       "  'to',\n",
       "  'the',\n",
       "  'great',\n",
       "  'rock',\n",
       "  'the',\n",
       "  'little',\n",
       "  'half',\n",
       "  'frozen',\n",
       "  'stream'],\n",
       " ['everything',\n",
       "  'was',\n",
       "  'just',\n",
       "  'as',\n",
       "  'it',\n",
       "  'had',\n",
       "  'been',\n",
       "  'few',\n",
       "  'hours',\n",
       "  'ago'],\n",
       " ['they', 'were', 'gone'],\n",
       " ['all', 'the', 'bodies', 'were', 'gone'],\n",
       " ['gods'],\n",
       " ['he', 'heard', 'behind', 'him'],\n",
       " ['sword',\n",
       "  'slashed',\n",
       "  'at',\n",
       "  'branch',\n",
       "  'as',\n",
       "  'ser',\n",
       "  'waymar',\n",
       "  'royce',\n",
       "  'gained',\n",
       "  'the',\n",
       "  'ridge'],\n",
       " ['he',\n",
       "  'stood',\n",
       "  'there',\n",
       "  'beside',\n",
       "  'the',\n",
       "  'sentinel',\n",
       "  'longsword',\n",
       "  'in',\n",
       "  'hand',\n",
       "  'his',\n",
       "  'cloak',\n",
       "  'billowing',\n",
       "  'behind',\n",
       "  'him',\n",
       "  'as',\n",
       "  'the',\n",
       "  'wind',\n",
       "  'came',\n",
       "  'up',\n",
       "  'outlined',\n",
       "  'nobly',\n",
       "  'against',\n",
       "  'the',\n",
       "  'stars',\n",
       "  'for',\n",
       "  'all',\n",
       "  'to',\n",
       "  'see'],\n",
       " ['get', 'down'],\n",
       " ['will', 'whispered', 'urgently'],\n",
       " ['something', 'wrong'],\n",
       " ['royce', 'did', 'not', 'move'],\n",
       " ['he', 'looked', 'down', 'at', 'the', 'empty', 'clearing', 'and', 'laughed'],\n",
       " ['your', 'dead', 'men', 'seem', 'to', 'have', 'moved', 'camp', 'will'],\n",
       " ['will', 'voice', 'abandoned', 'him'],\n",
       " ['he', 'groped', 'for', 'words', 'that', 'did', 'not', 'come'],\n",
       " ['it', 'was', 'not', 'possible'],\n",
       " ['his',\n",
       "  'eyes',\n",
       "  'swept',\n",
       "  'back',\n",
       "  'and',\n",
       "  'forth',\n",
       "  'over',\n",
       "  'the',\n",
       "  'abandoned',\n",
       "  'campsite',\n",
       "  'stopped',\n",
       "  'on',\n",
       "  'the',\n",
       "  'axe'],\n",
       " ['huge',\n",
       "  'double',\n",
       "  'bladed',\n",
       "  'battle',\n",
       "  'axe',\n",
       "  'still',\n",
       "  'lying',\n",
       "  'where',\n",
       "  'he',\n",
       "  'had',\n",
       "  'seen',\n",
       "  'it',\n",
       "  'last',\n",
       "  'untouched'],\n",
       " ['valuable', 'weapon'],\n",
       " [],\n",
       " [],\n",
       " ['on', 'your', 'feet', 'will', 'ser', 'waymar', 'commanded'],\n",
       " ['there', 'no', 'one', 'here'],\n",
       " ['won', 'have', 'you', 'hiding', 'under', 'bush'],\n",
       " ['reluctantly', 'will', 'obeyed'],\n",
       " ['ser', 'waymar', 'looked', 'him', 'over', 'with', 'open', 'disapproval'],\n",
       " ['am',\n",
       "  'not',\n",
       "  'going',\n",
       "  'back',\n",
       "  'to',\n",
       "  'castle',\n",
       "  'black',\n",
       "  'failure',\n",
       "  'on',\n",
       "  'my',\n",
       "  'first',\n",
       "  'ranging'],\n",
       " ['we', 'will', 'find', 'these', 'men'],\n",
       " ['he', 'glanced', 'around'],\n",
       " ['up', 'the', 'tree'],\n",
       " ['be', 'quick', 'about', 'it'],\n",
       " ['look', 'for', 'fire'],\n",
       " ['will', 'turned', 'away', 'wordless'],\n",
       " ['there', 'was', 'no', 'use', 'to', 'argue'],\n",
       " ['the', 'wind', 'was', 'moving'],\n",
       " ['it', 'cut', 'right', 'through', 'him'],\n",
       " ['he',\n",
       "  'went',\n",
       "  'to',\n",
       "  'the',\n",
       "  'tree',\n",
       "  'vaulting',\n",
       "  'grey',\n",
       "  'green',\n",
       "  'sentinel',\n",
       "  'and',\n",
       "  'began',\n",
       "  'to',\n",
       "  'climb'],\n",
       " ['soon',\n",
       "  'his',\n",
       "  'hands',\n",
       "  'were',\n",
       "  'sticky',\n",
       "  'with',\n",
       "  'sap',\n",
       "  'and',\n",
       "  'he',\n",
       "  'was',\n",
       "  'lost',\n",
       "  'among',\n",
       "  'the',\n",
       "  'needles'],\n",
       " ['fear',\n",
       "  'filled',\n",
       "  'his',\n",
       "  'gut',\n",
       "  'like',\n",
       "  'meal',\n",
       "  'he',\n",
       "  'could',\n",
       "  'not',\n",
       "  'digest'],\n",
       " ['he',\n",
       "  'whispered',\n",
       "  'prayer',\n",
       "  'to',\n",
       "  'the',\n",
       "  'nameless',\n",
       "  'gods',\n",
       "  'of',\n",
       "  'the',\n",
       "  'wood',\n",
       "  'and',\n",
       "  'slipped',\n",
       "  'his',\n",
       "  'dirk',\n",
       "  'free',\n",
       "  'of',\n",
       "  'its',\n",
       "  'sheath'],\n",
       " ['he',\n",
       "  'put',\n",
       "  'it',\n",
       "  'between',\n",
       "  'his',\n",
       "  'teeth',\n",
       "  'to',\n",
       "  'keep',\n",
       "  'both',\n",
       "  'hands',\n",
       "  'free',\n",
       "  'for',\n",
       "  'climbing'],\n",
       " ['the',\n",
       "  'taste',\n",
       "  'of',\n",
       "  'cold',\n",
       "  'iron',\n",
       "  'in',\n",
       "  'his',\n",
       "  'mouth',\n",
       "  'gave',\n",
       "  'him',\n",
       "  'comfort'],\n",
       " ['down',\n",
       "  'below',\n",
       "  'the',\n",
       "  'lordling',\n",
       "  'called',\n",
       "  'out',\n",
       "  'suddenly',\n",
       "  'who',\n",
       "  'goes',\n",
       "  'there'],\n",
       " ['will', 'heard', 'uncertainty', 'in', 'the', 'challenge'],\n",
       " ['he', 'stopped', 'climbing', 'he', 'listened', 'he', 'watched'],\n",
       " ['the',\n",
       "  'woods',\n",
       "  'gave',\n",
       "  'answer',\n",
       "  'the',\n",
       "  'rustle',\n",
       "  'of',\n",
       "  'leaves',\n",
       "  'the',\n",
       "  'icy',\n",
       "  'rush',\n",
       "  'of',\n",
       "  'the',\n",
       "  'stream',\n",
       "  'distant',\n",
       "  'hoot',\n",
       "  'of',\n",
       "  'snow',\n",
       "  'owl'],\n",
       " ['the', 'others', 'made', 'no', 'sound'],\n",
       " ['will', 'saw', 'movement', 'from', 'the', 'corner', 'of', 'his', 'eye'],\n",
       " ['pale', 'shapes', 'gliding', 'through', 'the', 'wood'],\n",
       " ['he',\n",
       "  'turned',\n",
       "  'his',\n",
       "  'head',\n",
       "  'glimpsed',\n",
       "  'white',\n",
       "  'shadow',\n",
       "  'in',\n",
       "  'the',\n",
       "  'darkness'],\n",
       " ['then', 'it', 'was', 'gone'],\n",
       " ['branches',\n",
       "  'stirred',\n",
       "  'gently',\n",
       "  'in',\n",
       "  'the',\n",
       "  'wind',\n",
       "  'scratching',\n",
       "  'at',\n",
       "  'one',\n",
       "  'another',\n",
       "  'with',\n",
       "  'wooden',\n",
       "  'fingers'],\n",
       " ['will',\n",
       "  'opened',\n",
       "  'his',\n",
       "  'mouth',\n",
       "  'to',\n",
       "  'call',\n",
       "  'down',\n",
       "  'warning',\n",
       "  'and',\n",
       "  'the',\n",
       "  'words',\n",
       "  'seemed',\n",
       "  'to',\n",
       "  'freeze',\n",
       "  'in',\n",
       "  'his',\n",
       "  'throat'],\n",
       " ['perhaps', 'he', 'was', 'wrong'],\n",
       " ['perhaps',\n",
       "  'it',\n",
       "  'had',\n",
       "  'only',\n",
       "  'been',\n",
       "  'bird',\n",
       "  'reflection',\n",
       "  'on',\n",
       "  'the',\n",
       "  'snow',\n",
       "  'some',\n",
       "  'trick',\n",
       "  'of',\n",
       "  'the',\n",
       "  'moonlight'],\n",
       " ['what', 'had', 'he', 'seen', 'after', 'all'],\n",
       " ['will', 'where', 'are', 'you'],\n",
       " ['ser', 'waymar', 'called', 'up'],\n",
       " ['can', 'you', 'see', 'anything'],\n",
       " ['he',\n",
       "  'was',\n",
       "  'turning',\n",
       "  'in',\n",
       "  'slow',\n",
       "  'circle',\n",
       "  'suddenly',\n",
       "  'wary',\n",
       "  'his',\n",
       "  'sword',\n",
       "  'in',\n",
       "  'hand'],\n",
       " ['he', 'must', 'have', 'felt', 'them', 'as', 'will', 'felt', 'them'],\n",
       " ['there', 'was', 'nothing', 'to', 'see'],\n",
       " ['page', 'answer', 'me'],\n",
       " ['why', 'is', 'it', 'so', 'cold'],\n",
       " ['it', 'was', 'cold'],\n",
       " ['shivering', 'will', 'clung', 'more', 'tightly', 'to', 'his', 'perch'],\n",
       " ['his',\n",
       "  'face',\n",
       "  'pressed',\n",
       "  'hard',\n",
       "  'against',\n",
       "  'the',\n",
       "  'trunk',\n",
       "  'of',\n",
       "  'the',\n",
       "  'sentinel'],\n",
       " ['he',\n",
       "  'could',\n",
       "  'feel',\n",
       "  'the',\n",
       "  'sweet',\n",
       "  'sticky',\n",
       "  'sap',\n",
       "  'on',\n",
       "  'his',\n",
       "  'cheek'],\n",
       " ['shadow', 'emerged', 'from', 'the', 'dark', 'of', 'the', 'wood'],\n",
       " ['it', 'stood', 'in', 'front', 'of', 'royce'],\n",
       " ['tall',\n",
       "  'it',\n",
       "  'was',\n",
       "  'and',\n",
       "  'gaunt',\n",
       "  'and',\n",
       "  'hard',\n",
       "  'as',\n",
       "  'old',\n",
       "  'bones',\n",
       "  'with',\n",
       "  'flesh',\n",
       "  'pale',\n",
       "  'as',\n",
       "  'milk'],\n",
       " ['its',\n",
       "  'armor',\n",
       "  'seemed',\n",
       "  'to',\n",
       "  'change',\n",
       "  'color',\n",
       "  'as',\n",
       "  'it',\n",
       "  'moved',\n",
       "  'here',\n",
       "  'it',\n",
       "  'was',\n",
       "  'white',\n",
       "  'as',\n",
       "  'new',\n",
       "  'fallen',\n",
       "  'snow',\n",
       "  'there',\n",
       "  'black',\n",
       "  'as',\n",
       "  'shadow',\n",
       "  'everywhere',\n",
       "  'dappled',\n",
       "  'with',\n",
       "  'the',\n",
       "  'deep',\n",
       "  'grey',\n",
       "  'green',\n",
       "  'of',\n",
       "  'the',\n",
       "  'trees'],\n",
       " ['the',\n",
       "  'patterns',\n",
       "  'ran',\n",
       "  'like',\n",
       "  'moonlight',\n",
       "  'on',\n",
       "  'water',\n",
       "  'with',\n",
       "  'every',\n",
       "  'step',\n",
       "  'it',\n",
       "  'took'],\n",
       " ['will',\n",
       "  'heard',\n",
       "  'the',\n",
       "  'breath',\n",
       "  'go',\n",
       "  'out',\n",
       "  'of',\n",
       "  'ser',\n",
       "  'waymar',\n",
       "  'royce',\n",
       "  'in',\n",
       "  'long',\n",
       "  'hiss'],\n",
       " ['come', 'no', 'farther', 'the', 'lordling', 'warned'],\n",
       " ['his', 'voice', 'cracked', 'like', 'boy'],\n",
       " ['he',\n",
       "  'threw',\n",
       "  'the',\n",
       "  'long',\n",
       "  'sable',\n",
       "  'cloak',\n",
       "  'back',\n",
       "  'over',\n",
       "  'his',\n",
       "  'shoulders',\n",
       "  'to',\n",
       "  'free',\n",
       "  'his',\n",
       "  'arms',\n",
       "  'for',\n",
       "  'battle',\n",
       "  'and',\n",
       "  'took',\n",
       "  'his',\n",
       "  'sword',\n",
       "  'in',\n",
       "  'both',\n",
       "  'hands'],\n",
       " ['the', 'wind', 'had', 'stopped'],\n",
       " ['it', 'was', 'very', 'cold'],\n",
       " ['the', 'other', 'slid', 'forward', 'on', 'silent', 'feet'],\n",
       " ['in',\n",
       "  'its',\n",
       "  'hand',\n",
       "  'was',\n",
       "  'longsword',\n",
       "  'like',\n",
       "  'none',\n",
       "  'that',\n",
       "  'will',\n",
       "  'had',\n",
       "  'ever',\n",
       "  'seen'],\n",
       " ['no',\n",
       "  'human',\n",
       "  'metal',\n",
       "  'had',\n",
       "  'gone',\n",
       "  'into',\n",
       "  'the',\n",
       "  'forging',\n",
       "  'of',\n",
       "  'that',\n",
       "  'blade'],\n",
       " ['it',\n",
       "  'was',\n",
       "  'alive',\n",
       "  'with',\n",
       "  'moonlight',\n",
       "  'translucent',\n",
       "  'shard',\n",
       "  'of',\n",
       "  'crystal',\n",
       "  'so',\n",
       "  'thin',\n",
       "  'that',\n",
       "  'it',\n",
       "  'seemed',\n",
       "  'almost',\n",
       "  'to',\n",
       "  'vanish',\n",
       "  'when',\n",
       "  'seen',\n",
       "  'edge',\n",
       "  'on'],\n",
       " ['there',\n",
       "  'was',\n",
       "  'faint',\n",
       "  'blue',\n",
       "  'shimmer',\n",
       "  'to',\n",
       "  'the',\n",
       "  'thing',\n",
       "  'ghost',\n",
       "  'light',\n",
       "  'that',\n",
       "  'played',\n",
       "  'around',\n",
       "  'its',\n",
       "  'edges',\n",
       "  'and',\n",
       "  'somehow',\n",
       "  'will',\n",
       "  'knew',\n",
       "  'it',\n",
       "  'was',\n",
       "  'sharper',\n",
       "  'than',\n",
       "  'any',\n",
       "  'razor'],\n",
       " ['ser', 'waymar', 'met', 'him', 'bravely'],\n",
       " ['dance', 'with', 'me', 'then'],\n",
       " ['he', 'lifted', 'his', 'sword', 'high', 'over', 'his', 'head', 'defiant'],\n",
       " ['his',\n",
       "  'hands',\n",
       "  'trembled',\n",
       "  'from',\n",
       "  'the',\n",
       "  'weight',\n",
       "  'of',\n",
       "  'it',\n",
       "  'or',\n",
       "  'perhaps',\n",
       "  'from',\n",
       "  'the',\n",
       "  'cold'],\n",
       " ['yet',\n",
       "  'in',\n",
       "  'that',\n",
       "  'moment',\n",
       "  'will',\n",
       "  'thought',\n",
       "  'he',\n",
       "  'was',\n",
       "  'boy',\n",
       "  'no',\n",
       "  'longer',\n",
       "  'but',\n",
       "  'man',\n",
       "  'of',\n",
       "  'the',\n",
       "  'night',\n",
       "  'watch'],\n",
       " ['the', 'other', 'halted'],\n",
       " ['will',\n",
       "  'saw',\n",
       "  'its',\n",
       "  'eyes',\n",
       "  'blue',\n",
       "  'deeper',\n",
       "  'and',\n",
       "  'bluer',\n",
       "  'than',\n",
       "  'any',\n",
       "  'human',\n",
       "  'eyes',\n",
       "  'blue',\n",
       "  'that',\n",
       "  'burned',\n",
       "  'like',\n",
       "  'ice'],\n",
       " ['they',\n",
       "  'fixed',\n",
       "  'on',\n",
       "  'the',\n",
       "  'longsword',\n",
       "  'trembling',\n",
       "  'on',\n",
       "  'high',\n",
       "  'watched',\n",
       "  'the',\n",
       "  'moonlight',\n",
       "  'running',\n",
       "  'cold',\n",
       "  'along',\n",
       "  'the',\n",
       "  'metal'],\n",
       " ['for', 'heartbeat', 'he', 'dared', 'to', 'hope'],\n",
       " ['they',\n",
       "  'emerged',\n",
       "  'silently',\n",
       "  'from',\n",
       "  'the',\n",
       "  'shadows',\n",
       "  'twins',\n",
       "  'to',\n",
       "  'the',\n",
       "  'first'],\n",
       " ['three', 'of', 'them'],\n",
       " [],\n",
       " [],\n",
       " ['four'],\n",
       " [],\n",
       " [],\n",
       " ['five'],\n",
       " [],\n",
       " [],\n",
       " ['ser',\n",
       "  'waymar',\n",
       "  'may',\n",
       "  'have',\n",
       "  'felt',\n",
       "  'the',\n",
       "  'cold',\n",
       "  'that',\n",
       "  'came',\n",
       "  'with',\n",
       "  'them',\n",
       "  'but',\n",
       "  'he',\n",
       "  'never',\n",
       "  'saw',\n",
       "  'them',\n",
       "  'never',\n",
       "  'heard',\n",
       "  'them'],\n",
       " ['will', 'had', 'to', 'call', 'out'],\n",
       " ['it', 'was', 'his', 'duty'],\n",
       " ['and', 'his', 'death', 'if', 'he', 'did'],\n",
       " ['he',\n",
       "  'shivered',\n",
       "  'and',\n",
       "  'hugged',\n",
       "  'the',\n",
       "  'tree',\n",
       "  'and',\n",
       "  'kept',\n",
       "  'the',\n",
       "  'silence'],\n",
       " ['the', 'pale', 'sword', 'came', 'shivering', 'through', 'the', 'air'],\n",
       " ['ser', 'waymar', 'met', 'it', 'with', 'steel'],\n",
       " ['when',\n",
       "  'the',\n",
       "  'blades',\n",
       "  'met',\n",
       "  'there',\n",
       "  'was',\n",
       "  'no',\n",
       "  'ring',\n",
       "  'of',\n",
       "  'metal',\n",
       "  'on',\n",
       "  'metal',\n",
       "  'only',\n",
       "  'high',\n",
       "  'thin',\n",
       "  'sound',\n",
       "  'at',\n",
       "  'the',\n",
       "  'edge',\n",
       "  'of',\n",
       "  'hearing',\n",
       "  'like',\n",
       "  'an',\n",
       "  'animal',\n",
       "  'screaming',\n",
       "  'in',\n",
       "  'pain'],\n",
       " ['royce',\n",
       "  'checked',\n",
       "  'second',\n",
       "  'blow',\n",
       "  'and',\n",
       "  'third',\n",
       "  'then',\n",
       "  'fell',\n",
       "  'back',\n",
       "  'step'],\n",
       " ['another', 'flurry', 'of', 'blows', 'and', 'he', 'fell', 'back', 'again'],\n",
       " ['behind',\n",
       "  'him',\n",
       "  'to',\n",
       "  'right',\n",
       "  'to',\n",
       "  'left',\n",
       "  'all',\n",
       "  'around',\n",
       "  'him',\n",
       "  'the',\n",
       "  'watchers',\n",
       "  'stood',\n",
       "  'patient',\n",
       "  'faceless',\n",
       "  'silent',\n",
       "  'the',\n",
       "  'shifting',\n",
       "  'patterns',\n",
       "  'of',\n",
       "  'their',\n",
       "  'delicate',\n",
       "  'armor',\n",
       "  'making',\n",
       "  'them',\n",
       "  'all',\n",
       "  'but',\n",
       "  'invisible',\n",
       "  'in',\n",
       "  'the',\n",
       "  'wood'],\n",
       " ['yet', 'they', 'made', 'no', 'move', 'to', 'interfere'],\n",
       " ['again',\n",
       "  'and',\n",
       "  'again',\n",
       "  'the',\n",
       "  'swords',\n",
       "  'met',\n",
       "  'until',\n",
       "  'will',\n",
       "  'wanted',\n",
       "  'to',\n",
       "  'cover',\n",
       "  'his',\n",
       "  'ears',\n",
       "  'against',\n",
       "  'the',\n",
       "  'strange',\n",
       "  'anguished',\n",
       "  'keening',\n",
       "  'of',\n",
       "  'their',\n",
       "  'clash'],\n",
       " ['ser',\n",
       "  'waymar',\n",
       "  'was',\n",
       "  'panting',\n",
       "  'from',\n",
       "  'the',\n",
       "  'effort',\n",
       "  'now',\n",
       "  'his',\n",
       "  'breath',\n",
       "  'steaming',\n",
       "  'in',\n",
       "  'the',\n",
       "  'moonlight'],\n",
       " ['his',\n",
       "  'blade',\n",
       "  'was',\n",
       "  'white',\n",
       "  'with',\n",
       "  'frost',\n",
       "  'the',\n",
       "  'other',\n",
       "  'danced',\n",
       "  'with',\n",
       "  'pale',\n",
       "  'blue',\n",
       "  'light'],\n",
       " ['then', 'royce', 'parry', 'came', 'beat', 'too', 'late'],\n",
       " ['the',\n",
       "  'pale',\n",
       "  'sword',\n",
       "  'bit',\n",
       "  'through',\n",
       "  'the',\n",
       "  'ringmail',\n",
       "  'beneath',\n",
       "  'his',\n",
       "  'arm'],\n",
       " ['the', 'young', 'lord', 'cried', 'out', 'in', 'pain'],\n",
       " ['blood', 'welled', 'between', 'the', 'rings'],\n",
       " ['it',\n",
       "  'steamed',\n",
       "  'in',\n",
       "  'the',\n",
       "  'cold',\n",
       "  'and',\n",
       "  'the',\n",
       "  'droplets',\n",
       "  'seemed',\n",
       "  'red',\n",
       "  'as',\n",
       "  'fire',\n",
       "  'where',\n",
       "  'they',\n",
       "  'touched',\n",
       "  'the',\n",
       "  'snow'],\n",
       " ['ser', 'page', 'waymar', 'fingers', 'brushed', 'his', 'side'],\n",
       " ['his', 'moleskin', 'glove', 'came', 'away', 'soaked', 'with', 'red'],\n",
       " ['the',\n",
       "  'other',\n",
       "  'said',\n",
       "  'something',\n",
       "  'in',\n",
       "  'language',\n",
       "  'that',\n",
       "  'will',\n",
       "  'did',\n",
       "  'not',\n",
       "  'know',\n",
       "  'his',\n",
       "  'voice',\n",
       "  'was',\n",
       "  'like',\n",
       "  'the',\n",
       "  'cracking',\n",
       "  'of',\n",
       "  'ice',\n",
       "  'on',\n",
       "  'winter',\n",
       "  'lake',\n",
       "  'and',\n",
       "  'the',\n",
       "  'words',\n",
       "  'were',\n",
       "  'mocking'],\n",
       " ['ser', 'waymar', 'royce', 'found', 'his', 'fury'],\n",
       " ['for', 'robert'],\n",
       " ['he',\n",
       "  'shouted',\n",
       "  'and',\n",
       "  'he',\n",
       "  'came',\n",
       "  'up',\n",
       "  'snarling',\n",
       "  'lifting',\n",
       "  'the',\n",
       "  'frost',\n",
       "  'covered',\n",
       "  'longsword',\n",
       "  'with',\n",
       "  'both',\n",
       "  'hands',\n",
       "  'and',\n",
       "  'swinging',\n",
       "  'it',\n",
       "  'around',\n",
       "  'in',\n",
       "  'flat',\n",
       "  'sidearm',\n",
       "  'slash',\n",
       "  'with',\n",
       "  'all',\n",
       "  'his',\n",
       "  'weight',\n",
       "  'behind',\n",
       "  'it'],\n",
       " ['the', 'other', 'parry', 'was', 'almost', 'lazy'],\n",
       " ['when', 'the', 'blades', 'touched', 'the', 'steel', 'shattered'],\n",
       " ['scream',\n",
       "  'echoed',\n",
       "  'through',\n",
       "  'the',\n",
       "  'forest',\n",
       "  'night',\n",
       "  'and',\n",
       "  'the',\n",
       "  'longsword',\n",
       "  'shivered',\n",
       "  'into',\n",
       "  'hundred',\n",
       "  'brittle',\n",
       "  'pieces',\n",
       "  'the',\n",
       "  'shards',\n",
       "  'scattering',\n",
       "  'like',\n",
       "  'rain',\n",
       "  'of',\n",
       "  'needles'],\n",
       " ['royce',\n",
       "  'went',\n",
       "  'to',\n",
       "  'his',\n",
       "  'knees',\n",
       "  'shrieking',\n",
       "  'and',\n",
       "  'covered',\n",
       "  'his',\n",
       "  'eyes'],\n",
       " ['blood', 'welled', 'between', 'his', 'fingers'],\n",
       " ['the',\n",
       "  'watchers',\n",
       "  'moved',\n",
       "  'forward',\n",
       "  'together',\n",
       "  'as',\n",
       "  'if',\n",
       "  'some',\n",
       "  'signal',\n",
       "  'had',\n",
       "  'been',\n",
       "  'given'],\n",
       " ['swords', 'rose', 'and', 'fell', 'all', 'in', 'deathly', 'silence'],\n",
       " ['it', 'was', 'cold', 'butchery'],\n",
       " ['the',\n",
       "  'pale',\n",
       "  'blades',\n",
       "  'sliced',\n",
       "  'through',\n",
       "  'ringmail',\n",
       "  'as',\n",
       "  'if',\n",
       "  'it',\n",
       "  'were',\n",
       "  'silk'],\n",
       " ['will', 'closed', 'his', 'eyes'],\n",
       " ['far',\n",
       "  'beneath',\n",
       "  'him',\n",
       "  'he',\n",
       "  'heard',\n",
       "  'their',\n",
       "  'voices',\n",
       "  'and',\n",
       "  'laughter',\n",
       "  'sharp',\n",
       "  'as',\n",
       "  'icicles'],\n",
       " ['when',\n",
       "  'he',\n",
       "  'found',\n",
       "  'the',\n",
       "  'courage',\n",
       "  'to',\n",
       "  'look',\n",
       "  'again',\n",
       "  'long',\n",
       "  'time',\n",
       "  'had',\n",
       "  'passed',\n",
       "  'and',\n",
       "  'the',\n",
       "  'ridge',\n",
       "  'below',\n",
       "  'was',\n",
       "  'empty'],\n",
       " ['he',\n",
       "  'stayed',\n",
       "  'in',\n",
       "  'the',\n",
       "  'tree',\n",
       "  'scarce',\n",
       "  'daring',\n",
       "  'to',\n",
       "  'breathe',\n",
       "  'while',\n",
       "  'the',\n",
       "  'moon',\n",
       "  'crept',\n",
       "  'slowly',\n",
       "  'across',\n",
       "  'the',\n",
       "  'black',\n",
       "  'sky'],\n",
       " ['finally',\n",
       "  'his',\n",
       "  'muscles',\n",
       "  'cramping',\n",
       "  'and',\n",
       "  'his',\n",
       "  'fingers',\n",
       "  'numb',\n",
       "  'with',\n",
       "  'cold',\n",
       "  'he',\n",
       "  'climbed',\n",
       "  'down'],\n",
       " ['royce',\n",
       "  'body',\n",
       "  'lay',\n",
       "  'facedown',\n",
       "  'in',\n",
       "  'the',\n",
       "  'snow',\n",
       "  'one',\n",
       "  'arm',\n",
       "  'outflung'],\n",
       " ['the',\n",
       "  'thick',\n",
       "  'sable',\n",
       "  'cloak',\n",
       "  'had',\n",
       "  'been',\n",
       "  'slashed',\n",
       "  'in',\n",
       "  'dozen',\n",
       "  'places'],\n",
       " ['lying', 'dead', 'like', 'that', 'you', 'saw', 'how', 'young', 'he', 'was'],\n",
       " ['boy'],\n",
       " ['he',\n",
       "  'found',\n",
       "  'what',\n",
       "  'was',\n",
       "  'left',\n",
       "  'of',\n",
       "  'the',\n",
       "  'sword',\n",
       "  'few',\n",
       "  'feet',\n",
       "  'away',\n",
       "  'the',\n",
       "  'end',\n",
       "  'splintered',\n",
       "  'and',\n",
       "  'twisted',\n",
       "  'like',\n",
       "  'tree',\n",
       "  'struck',\n",
       "  'by',\n",
       "  'lightning'],\n",
       " ['will',\n",
       "  'knelt',\n",
       "  'looked',\n",
       "  'around',\n",
       "  'warily',\n",
       "  'and',\n",
       "  'snatched',\n",
       "  'it',\n",
       "  'up'],\n",
       " ['the', 'broken', 'sword', 'would', 'be', 'his', 'proof'],\n",
       " ['gared',\n",
       "  'would',\n",
       "  'know',\n",
       "  'what',\n",
       "  'to',\n",
       "  'make',\n",
       "  'of',\n",
       "  'it',\n",
       "  'and',\n",
       "  'if',\n",
       "  'not',\n",
       "  'him',\n",
       "  'then',\n",
       "  'surely',\n",
       "  'that',\n",
       "  'old',\n",
       "  'bear',\n",
       "  'mormont',\n",
       "  'or',\n",
       "  'maester',\n",
       "  'aemon'],\n",
       " ['would', 'gared', 'still', 'be', 'waiting', 'with', 'the', 'horses'],\n",
       " ['he', 'had', 'to', 'hurry'],\n",
       " ['will', 'rose'],\n",
       " ['ser', 'waymar', 'royce', 'stood', 'over', 'him'],\n",
       " ['his', 'fine', 'clothes', 'were', 'tatter', 'his', 'face', 'ruin'],\n",
       " ['shard',\n",
       "  'from',\n",
       "  'his',\n",
       "  'sword',\n",
       "  'transfixed',\n",
       "  'the',\n",
       "  'blind',\n",
       "  'white',\n",
       "  'pupil',\n",
       "  'of',\n",
       "  'his',\n",
       "  'left',\n",
       "  'eye'],\n",
       " ['the', 'right', 'eye', 'was', 'open'],\n",
       " ['the', 'pupil', 'burned', 'blue'],\n",
       " ['it', 'saw'],\n",
       " ['the', 'broken', 'sword', 'fell', 'from', 'nerveless', 'fingers'],\n",
       " ['will', 'closed', 'his', 'eyes', 'to', 'pray'],\n",
       " ['long',\n",
       "  'elegant',\n",
       "  'hands',\n",
       "  'brushed',\n",
       "  'his',\n",
       "  'cheek',\n",
       "  'then',\n",
       "  'tightened',\n",
       "  'around',\n",
       "  'his',\n",
       "  'throat'],\n",
       " ['they',\n",
       "  'were',\n",
       "  'gloved',\n",
       "  'in',\n",
       "  'the',\n",
       "  'finest',\n",
       "  'moleskin',\n",
       "  'and',\n",
       "  'sticky',\n",
       "  'with',\n",
       "  'blood',\n",
       "  'yet',\n",
       "  'the',\n",
       "  'touch',\n",
       "  'was',\n",
       "  'icy',\n",
       "  'cold'],\n",
       " ['bran',\n",
       "  'the',\n",
       "  'morning',\n",
       "  'had',\n",
       "  'dawned',\n",
       "  'clear',\n",
       "  'and',\n",
       "  'cold',\n",
       "  'with',\n",
       "  'crispness',\n",
       "  'that',\n",
       "  'hinted',\n",
       "  'at',\n",
       "  'the',\n",
       "  'end',\n",
       "  'of',\n",
       "  'summer'],\n",
       " ['they',\n",
       "  'set',\n",
       "  'forth',\n",
       "  'at',\n",
       "  'daybreak',\n",
       "  'to',\n",
       "  'see',\n",
       "  'man',\n",
       "  'beheaded',\n",
       "  'twenty',\n",
       "  'in',\n",
       "  'all',\n",
       "  'and',\n",
       "  'bran',\n",
       "  'rode',\n",
       "  'among',\n",
       "  'them',\n",
       "  'nervous',\n",
       "  'with',\n",
       "  'excitement'],\n",
       " ['this',\n",
       "  'was',\n",
       "  'the',\n",
       "  'first',\n",
       "  'time',\n",
       "  'he',\n",
       "  'had',\n",
       "  'been',\n",
       "  'deemed',\n",
       "  'old',\n",
       "  'enough',\n",
       "  'to',\n",
       "  'go',\n",
       "  'with',\n",
       "  'his',\n",
       "  'lord',\n",
       "  'father',\n",
       "  'and',\n",
       "  'his',\n",
       "  'page',\n",
       "  'brothers',\n",
       "  'to',\n",
       "  'see',\n",
       "  'the',\n",
       "  'king',\n",
       "  'justice',\n",
       "  'done'],\n",
       " ['it',\n",
       "  'was',\n",
       "  'the',\n",
       "  'ninth',\n",
       "  'year',\n",
       "  'of',\n",
       "  'summer',\n",
       "  'and',\n",
       "  'the',\n",
       "  'seventh',\n",
       "  'of',\n",
       "  'bran',\n",
       "  'life'],\n",
       " ['the',\n",
       "  'man',\n",
       "  'had',\n",
       "  'been',\n",
       "  'taken',\n",
       "  'outside',\n",
       "  'small',\n",
       "  'holdfast',\n",
       "  'in',\n",
       "  'the',\n",
       "  'hills'],\n",
       " ['robb',\n",
       "  'thought',\n",
       "  'he',\n",
       "  'was',\n",
       "  'wildling',\n",
       "  'his',\n",
       "  'sword',\n",
       "  'sworn',\n",
       "  'to',\n",
       "  'mance',\n",
       "  'rayder',\n",
       "  'the',\n",
       "  'kingbeyond',\n",
       "  'the',\n",
       "  'wall'],\n",
       " ['it', 'made', 'bran', 'skin', 'prickle', 'to', 'think', 'of', 'it'],\n",
       " ['he', 'remembered', 'the', 'hearth', 'tales', 'old', 'nan', 'told', 'them'],\n",
       " ['the',\n",
       "  'wildlings',\n",
       "  'were',\n",
       "  'cruel',\n",
       "  'men',\n",
       "  'she',\n",
       "  'said',\n",
       "  'slavers',\n",
       "  'and',\n",
       "  'slayers',\n",
       "  'and',\n",
       "  'thieves'],\n",
       " ['they',\n",
       "  'consorted',\n",
       "  'with',\n",
       "  'giants',\n",
       "  'and',\n",
       "  'ghouls',\n",
       "  'stole',\n",
       "  'girl',\n",
       "  'children',\n",
       "  'in',\n",
       "  'the',\n",
       "  'dead',\n",
       "  'of',\n",
       "  'night',\n",
       "  'and',\n",
       "  'drank',\n",
       "  'blood',\n",
       "  'from',\n",
       "  'polished',\n",
       "  'horns'],\n",
       " ['and',\n",
       "  'their',\n",
       "  'women',\n",
       "  'lay',\n",
       "  'with',\n",
       "  'the',\n",
       "  'others',\n",
       "  'in',\n",
       "  'the',\n",
       "  'long',\n",
       "  'night',\n",
       "  'to',\n",
       "  'sire',\n",
       "  'terrible',\n",
       "  'half',\n",
       "  'human',\n",
       "  'children'],\n",
       " ['but',\n",
       "  'the',\n",
       "  'man',\n",
       "  'they',\n",
       "  'found',\n",
       "  'bound',\n",
       "  'hand',\n",
       "  'and',\n",
       "  'foot',\n",
       "  'to',\n",
       "  'the',\n",
       "  'holdfast',\n",
       "  'wall',\n",
       "  'awaiting',\n",
       "  'the',\n",
       "  'king',\n",
       "  'justice',\n",
       "  'was',\n",
       "  'old',\n",
       "  'and',\n",
       "  'scrawny',\n",
       "  'not',\n",
       "  'much',\n",
       "  'taller',\n",
       "  'than',\n",
       "  'robb'],\n",
       " ['he',\n",
       "  'had',\n",
       "  'lost',\n",
       "  'both',\n",
       "  'ears',\n",
       "  'and',\n",
       "  'finger',\n",
       "  'to',\n",
       "  'frostbite',\n",
       "  'and',\n",
       "  'he',\n",
       "  'dressed',\n",
       "  'all',\n",
       "  'in',\n",
       "  'black',\n",
       "  'the',\n",
       "  'same',\n",
       "  'as',\n",
       "  'brother',\n",
       "  'of',\n",
       "  'the',\n",
       "  'night',\n",
       "  'watch',\n",
       "  'except',\n",
       "  'that',\n",
       "  'his',\n",
       "  'furs',\n",
       "  'were',\n",
       "  'ragged',\n",
       "  'and',\n",
       "  'greasy'],\n",
       " ['the',\n",
       "  'breath',\n",
       "  'of',\n",
       "  'man',\n",
       "  'and',\n",
       "  'horse',\n",
       "  'mingled',\n",
       "  'steaming',\n",
       "  'in',\n",
       "  'the',\n",
       "  'cold',\n",
       "  'morning',\n",
       "  'air',\n",
       "  'as',\n",
       "  'his',\n",
       "  'lord',\n",
       "  'father',\n",
       "  'had',\n",
       "  'the',\n",
       "  'man',\n",
       "  'cut',\n",
       "  'down',\n",
       "  'from',\n",
       "  'the',\n",
       "  'wall',\n",
       "  'and',\n",
       "  'dragged',\n",
       "  'before',\n",
       "  'them'],\n",
       " ['robb',\n",
       "  'and',\n",
       "  'jon',\n",
       "  'sat',\n",
       "  'tall',\n",
       "  'and',\n",
       "  'still',\n",
       "  'on',\n",
       "  'their',\n",
       "  'horses',\n",
       "  'with',\n",
       "  'bran',\n",
       "  'between',\n",
       "  'them',\n",
       "  'on',\n",
       "  'his',\n",
       "  'pony',\n",
       "  'trying',\n",
       "  'to',\n",
       "  'seem',\n",
       "  'older',\n",
       "  'than',\n",
       "  'seven',\n",
       "  'trying',\n",
       "  'to',\n",
       "  'pretend',\n",
       "  'that',\n",
       "  'he',\n",
       "  'seen',\n",
       "  'all',\n",
       "  'this',\n",
       "  'before'],\n",
       " ['faint', 'wind', 'blew', 'through', 'the', 'holdfast', 'gate'],\n",
       " ['over',\n",
       "  'their',\n",
       "  'heads',\n",
       "  'flapped',\n",
       "  'the',\n",
       "  'banner',\n",
       "  'of',\n",
       "  'the',\n",
       "  'starks',\n",
       "  'of',\n",
       "  'winterfell',\n",
       "  'grey',\n",
       "  'direwolf',\n",
       "  'racing',\n",
       "  'across',\n",
       "  'an',\n",
       "  'ice',\n",
       "  'white',\n",
       "  'field'],\n",
       " ['bran',\n",
       "  'father',\n",
       "  'sat',\n",
       "  'solemnly',\n",
       "  'on',\n",
       "  'his',\n",
       "  'horse',\n",
       "  'long',\n",
       "  'brown',\n",
       "  'hair',\n",
       "  'stirring',\n",
       "  'in',\n",
       "  'the',\n",
       "  'wind'],\n",
       " ['his',\n",
       "  'closely',\n",
       "  'trimmed',\n",
       "  'beard',\n",
       "  'was',\n",
       "  'shot',\n",
       "  'with',\n",
       "  'white',\n",
       "  'making',\n",
       "  'him',\n",
       "  'look',\n",
       "  'older',\n",
       "  'than',\n",
       "  'his',\n",
       "  'thirty',\n",
       "  'five',\n",
       "  'years'],\n",
       " ['he',\n",
       "  'had',\n",
       "  'grim',\n",
       "  'cast',\n",
       "  'to',\n",
       "  'his',\n",
       "  'grey',\n",
       "  'eyes',\n",
       "  'this',\n",
       "  'day',\n",
       "  'and',\n",
       "  'he',\n",
       "  'seemed',\n",
       "  'not',\n",
       "  'at',\n",
       "  'all',\n",
       "  'the',\n",
       "  'man',\n",
       "  'who',\n",
       "  'would',\n",
       "  'sit',\n",
       "  'before',\n",
       "  'the',\n",
       "  'fire',\n",
       "  'in',\n",
       "  'the',\n",
       "  'evening',\n",
       "  'and',\n",
       "  'talk',\n",
       "  'softly',\n",
       "  'of',\n",
       "  'the',\n",
       "  'age',\n",
       "  'of',\n",
       "  'heroes',\n",
       "  'and',\n",
       "  'the',\n",
       "  'children',\n",
       "  'of',\n",
       "  'the',\n",
       "  'forest'],\n",
       " ['he',\n",
       "  'had',\n",
       "  'taken',\n",
       "  'off',\n",
       "  'father',\n",
       "  'face',\n",
       "  'bran',\n",
       "  'thought',\n",
       "  'and',\n",
       "  'donned',\n",
       "  'the',\n",
       "  'face',\n",
       "  'of',\n",
       "  'lord',\n",
       "  'stark',\n",
       "  'of',\n",
       "  'winterfell'],\n",
       " ['there',\n",
       "  'were',\n",
       "  'questions',\n",
       "  'asked',\n",
       "  'and',\n",
       "  'answers',\n",
       "  'given',\n",
       "  'there',\n",
       "  'in',\n",
       "  'the',\n",
       "  'chill',\n",
       "  'of',\n",
       "  'morning',\n",
       "  'but',\n",
       "  'afterward',\n",
       "  'bran',\n",
       "  'could',\n",
       "  'not',\n",
       "  'recall',\n",
       "  'much',\n",
       "  'of',\n",
       "  'what',\n",
       "  'had',\n",
       "  'been',\n",
       "  'said'],\n",
       " ['finally',\n",
       "  'his',\n",
       "  'lord',\n",
       "  'father',\n",
       "  'gave',\n",
       "  'command',\n",
       "  'and',\n",
       "  'two',\n",
       "  'of',\n",
       "  'his',\n",
       "  'guardsmen',\n",
       "  'dragged',\n",
       "  'the',\n",
       "  'ragged',\n",
       "  'man',\n",
       "  'to',\n",
       "  'the',\n",
       "  'ironwood',\n",
       "  'stump',\n",
       "  'in',\n",
       "  'the',\n",
       "  'center',\n",
       "  'of',\n",
       "  'the',\n",
       "  'square'],\n",
       " ['they',\n",
       "  'forced',\n",
       "  'his',\n",
       "  'head',\n",
       "  'down',\n",
       "  'onto',\n",
       "  'the',\n",
       "  'hard',\n",
       "  'black',\n",
       "  'wood'],\n",
       " ['lord',\n",
       "  'eddard',\n",
       "  'stark',\n",
       "  'dismounted',\n",
       "  'and',\n",
       "  'his',\n",
       "  'ward',\n",
       "  'theon',\n",
       "  'greyjoy',\n",
       "  'brought',\n",
       "  'forth',\n",
       "  'the',\n",
       "  'sword'],\n",
       " ['ice', 'that', 'sword', 'was', 'called'],\n",
       " ['it',\n",
       "  'was',\n",
       "  'as',\n",
       "  'wide',\n",
       "  'across',\n",
       "  'as',\n",
       "  'man',\n",
       "  'hand',\n",
       "  'and',\n",
       "  'taller',\n",
       "  'even',\n",
       "  'than',\n",
       "  'robb'],\n",
       " ['the',\n",
       "  'blade',\n",
       "  'was',\n",
       "  'valyrian',\n",
       "  'steel',\n",
       "  'spell',\n",
       "  'forged',\n",
       "  'and',\n",
       "  'dark',\n",
       "  'as',\n",
       "  'smoke'],\n",
       " ['nothing', 'held', 'an', 'edge', 'like', 'valyrian', 'steel'],\n",
       " ['his',\n",
       "  'father',\n",
       "  'peeled',\n",
       "  'off',\n",
       "  'his',\n",
       "  'gloves',\n",
       "  'and',\n",
       "  'handed',\n",
       "  'them',\n",
       "  'to',\n",
       "  'jory',\n",
       "  'cassel',\n",
       "  'the',\n",
       "  'captain',\n",
       "  'of',\n",
       "  'his',\n",
       "  'household',\n",
       "  'guard'],\n",
       " ['he',\n",
       "  'took',\n",
       "  'hold',\n",
       "  'of',\n",
       "  'ice',\n",
       "  'with',\n",
       "  'both',\n",
       "  'hands',\n",
       "  'and',\n",
       "  'said',\n",
       "  'in',\n",
       "  'the',\n",
       "  'name',\n",
       "  'of',\n",
       "  'robert',\n",
       "  'of',\n",
       "  'the',\n",
       "  'house',\n",
       "  'baratheon',\n",
       "  'the',\n",
       "  'first',\n",
       "  'of',\n",
       "  'his',\n",
       "  'name',\n",
       "  'king',\n",
       "  'of',\n",
       "  'the',\n",
       "  'andals',\n",
       "  'and',\n",
       "  'the',\n",
       "  'rhoynar',\n",
       "  'and',\n",
       "  'the',\n",
       "  'first',\n",
       "  'men',\n",
       "  'lord',\n",
       "  'of',\n",
       "  'the',\n",
       "  'seven',\n",
       "  'kingdoms',\n",
       "  'and',\n",
       "  'protector',\n",
       "  'of',\n",
       "  'the',\n",
       "  'realm',\n",
       "  'by',\n",
       "  'the',\n",
       "  'word',\n",
       "  'of',\n",
       "  'eddard',\n",
       "  'of',\n",
       "  'the',\n",
       "  'house',\n",
       "  'stark',\n",
       "  'lord',\n",
       "  'of',\n",
       "  'winterfell',\n",
       "  'and',\n",
       "  'warden',\n",
       "  'of',\n",
       "  'the',\n",
       "  'north',\n",
       "  'do',\n",
       "  'sentence',\n",
       "  'you',\n",
       "  'to',\n",
       "  'die'],\n",
       " ['he', 'lifted', 'the', 'greatsword', 'high', 'above', 'his', 'head'],\n",
       " ['bran', 'bastard', 'brother', 'jon', 'snow', 'moved', 'closer'],\n",
       " ['keep', 'the', 'pony', 'well', 'in', 'hand', 'he', 'whispered'],\n",
       " ['and', 'don', 'look', 'away'],\n",
       " ['father', 'will', 'know', 'if', 'you', 'do'],\n",
       " ['bran',\n",
       "  'kept',\n",
       "  'his',\n",
       "  'pony',\n",
       "  'well',\n",
       "  'in',\n",
       "  'hand',\n",
       "  'and',\n",
       "  'did',\n",
       "  'not',\n",
       "  'look',\n",
       "  'away'],\n",
       " ['his',\n",
       "  'father',\n",
       "  'took',\n",
       "  'off',\n",
       "  'the',\n",
       "  'man',\n",
       "  'head',\n",
       "  'with',\n",
       "  'single',\n",
       "  'sure',\n",
       "  'stroke'],\n",
       " ['blood',\n",
       "  'sprayed',\n",
       "  'out',\n",
       "  'across',\n",
       "  'the',\n",
       "  'snow',\n",
       "  'as',\n",
       "  'red',\n",
       "  'as',\n",
       "  'surnmerwine'],\n",
       " ['one',\n",
       "  'of',\n",
       "  'the',\n",
       "  'horses',\n",
       "  'reared',\n",
       "  'and',\n",
       "  'had',\n",
       "  'to',\n",
       "  'be',\n",
       "  'restrained',\n",
       "  'to',\n",
       "  'keep',\n",
       "  'from',\n",
       "  'bolting'],\n",
       " ['bran', 'could', 'not', 'take', 'his', 'eyes', 'off', 'the', 'blood'],\n",
       " ['the',\n",
       "  'snows',\n",
       "  'around',\n",
       "  'the',\n",
       "  'stump',\n",
       "  'drank',\n",
       "  'it',\n",
       "  'eagerly',\n",
       "  'reddening',\n",
       "  'as',\n",
       "  'he',\n",
       "  'watched'],\n",
       " ['the', 'head', 'bounced', 'off', 'thick', 'root', 'and', 'rolled'],\n",
       " ['it', 'came', 'up', 'near', 'greyjoy', 'feet'],\n",
       " ['theon',\n",
       "  'was',\n",
       "  'lean',\n",
       "  'dark',\n",
       "  'page',\n",
       "  'youth',\n",
       "  'of',\n",
       "  'nineteen',\n",
       "  'who',\n",
       "  'found',\n",
       "  'everything',\n",
       "  'amusing'],\n",
       " ['he',\n",
       "  'laughed',\n",
       "  'put',\n",
       "  'his',\n",
       "  'boot',\n",
       "  'on',\n",
       "  'the',\n",
       "  'head',\n",
       "  'and',\n",
       "  'kicked',\n",
       "  'it',\n",
       "  'away'],\n",
       " ['ass',\n",
       "  'jon',\n",
       "  'muttered',\n",
       "  'low',\n",
       "  'enough',\n",
       "  'so',\n",
       "  'greyjoy',\n",
       "  'did',\n",
       "  'not',\n",
       "  'hear'],\n",
       " ['he',\n",
       "  'put',\n",
       "  'hand',\n",
       "  'on',\n",
       "  'bran',\n",
       "  'shoulder',\n",
       "  'and',\n",
       "  'bran',\n",
       "  'looked',\n",
       "  'over',\n",
       "  'at',\n",
       "  'his',\n",
       "  'bastard',\n",
       "  'brother'],\n",
       " ['you', 'did', 'well', 'jon', 'told', 'him', 'solemnly'],\n",
       " ['jon', 'was', 'fourteen', 'an', 'old', 'hand', 'at', 'justice'],\n",
       " ['it',\n",
       "  'seemed',\n",
       "  'colder',\n",
       "  'on',\n",
       "  'the',\n",
       "  'long',\n",
       "  'ride',\n",
       "  'back',\n",
       "  'to',\n",
       "  'winterfell',\n",
       "  'though',\n",
       "  'the',\n",
       "  'wind',\n",
       "  'had',\n",
       "  'died',\n",
       "  'by',\n",
       "  'then',\n",
       "  'and',\n",
       "  'the',\n",
       "  'sun',\n",
       "  'was',\n",
       "  'higher',\n",
       "  'in',\n",
       "  'the',\n",
       "  'sky'],\n",
       " ['bran',\n",
       "  'rode',\n",
       "  'with',\n",
       "  'his',\n",
       "  'brothers',\n",
       "  'well',\n",
       "  'ahead',\n",
       "  'of',\n",
       "  'the',\n",
       "  'main',\n",
       "  'party',\n",
       "  'his',\n",
       "  'pony',\n",
       "  'struggling',\n",
       "  'hard',\n",
       "  'to',\n",
       "  'keep',\n",
       "  'up',\n",
       "  'with',\n",
       "  'their',\n",
       "  'horses'],\n",
       " ['the', 'deserter', 'died', 'bravely', 'robb', 'said'],\n",
       " ['he',\n",
       "  'was',\n",
       "  'big',\n",
       "  'and',\n",
       "  'broad',\n",
       "  'and',\n",
       "  'growing',\n",
       "  'every',\n",
       "  'day',\n",
       "  'with',\n",
       "  'his',\n",
       "  'mother',\n",
       "  'coloring',\n",
       "  'the',\n",
       "  'fair',\n",
       "  'skin',\n",
       "  'red',\n",
       "  'brown',\n",
       "  'hair',\n",
       "  'and',\n",
       "  'blue',\n",
       "  'eyes',\n",
       "  'of',\n",
       "  'the',\n",
       "  'tullys',\n",
       "  'of',\n",
       "  'riverrun'],\n",
       " ['he', 'had', 'courage', 'at', 'the', 'least'],\n",
       " ['no', 'jon', 'snow', 'said', 'quietly'],\n",
       " ['it', 'was', 'not', 'courage'],\n",
       " ['this', 'one', 'was', 'dead', 'of', 'fear'],\n",
       " ['you', 'could', 'see', 'it', 'in', 'his', 'eyes', 'stark'],\n",
       " ['jon',\n",
       "  'eyes',\n",
       "  'were',\n",
       "  'grey',\n",
       "  'so',\n",
       "  'dark',\n",
       "  'they',\n",
       "  'seemed',\n",
       "  'almost',\n",
       "  'black',\n",
       "  'but',\n",
       "  'there',\n",
       "  'was',\n",
       "  'little',\n",
       "  'they',\n",
       "  'did',\n",
       "  'not',\n",
       "  'see'],\n",
       " ['he',\n",
       "  'was',\n",
       "  'of',\n",
       "  'an',\n",
       "  'age',\n",
       "  'with',\n",
       "  'robb',\n",
       "  'but',\n",
       "  'they',\n",
       "  'did',\n",
       "  'not',\n",
       "  'look',\n",
       "  'alike'],\n",
       " ['jon',\n",
       "  'was',\n",
       "  'slender',\n",
       "  'where',\n",
       "  'robb',\n",
       "  'was',\n",
       "  'muscular',\n",
       "  'dark',\n",
       "  'where',\n",
       "  'robb',\n",
       "  'was',\n",
       "  'fair',\n",
       "  'graceful',\n",
       "  'and',\n",
       "  'quick',\n",
       "  'where',\n",
       "  'his',\n",
       "  'half',\n",
       "  'brother',\n",
       "  'was',\n",
       "  'strong',\n",
       "  'and',\n",
       "  'fast'],\n",
       " ['robb', 'was', 'not', 'impressed'],\n",
       " ['the', 'others', 'take', 'his', 'eyes', 'he', 'swore'],\n",
       " ['he', 'died', 'well'],\n",
       " ['race', 'you', 'to', 'the', 'bridge'],\n",
       " ['done', 'jon', 'said', 'kicking', 'his', 'horse', 'forward'],\n",
       " ['robb',\n",
       "  'cursed',\n",
       "  'and',\n",
       "  'followed',\n",
       "  'and',\n",
       "  'they',\n",
       "  'galloped',\n",
       "  'off',\n",
       "  'down',\n",
       "  'the',\n",
       "  'trail',\n",
       "  'robb',\n",
       "  'laughing',\n",
       "  'and',\n",
       "  'hooting',\n",
       "  'jon',\n",
       "  'silent',\n",
       "  'and',\n",
       "  'intent'],\n",
       " ['the',\n",
       "  'hooves',\n",
       "  'of',\n",
       "  'their',\n",
       "  'horses',\n",
       "  'kicked',\n",
       "  'up',\n",
       "  'showers',\n",
       "  'of',\n",
       "  'snow',\n",
       "  'as',\n",
       "  'they',\n",
       "  'went'],\n",
       " ['bran', 'did', 'not', 'try', 'to', 'follow'],\n",
       " ['his', 'pony', 'could', 'not', 'keep', 'up'],\n",
       " ['he',\n",
       "  'had',\n",
       "  'seen',\n",
       "  'the',\n",
       "  'ragged',\n",
       "  'man',\n",
       "  'eyes',\n",
       "  'and',\n",
       "  'he',\n",
       "  'was',\n",
       "  'thinking',\n",
       "  'of',\n",
       "  'them',\n",
       "  'now'],\n",
       " ['after',\n",
       "  'while',\n",
       "  'the',\n",
       "  'sound',\n",
       "  'of',\n",
       "  'robb',\n",
       "  'laughter',\n",
       "  'receded',\n",
       "  'and',\n",
       "  'the',\n",
       "  'woods',\n",
       "  'grew',\n",
       "  'silent',\n",
       "  'again'],\n",
       " ['so',\n",
       "  'deep',\n",
       "  'in',\n",
       "  'thought',\n",
       "  'was',\n",
       "  'he',\n",
       "  'that',\n",
       "  'he',\n",
       "  'never',\n",
       "  'heard',\n",
       "  'the',\n",
       "  'rest',\n",
       "  'of',\n",
       "  'the',\n",
       "  'party',\n",
       "  'until',\n",
       "  'his',\n",
       "  'father',\n",
       "  'moved',\n",
       "  'up',\n",
       "  'to',\n",
       "  'ride',\n",
       "  'beside',\n",
       "  'him'],\n",
       " ['are', 'you', 'well', 'bran'],\n",
       " ['he', 'asked', 'not', 'unkindly'],\n",
       " ['yes', 'father', 'bran', 'told', 'him'],\n",
       " ['he', 'looked', 'up'],\n",
       " ['wrapped',\n",
       "  'in',\n",
       "  'his',\n",
       "  'furs',\n",
       "  'and',\n",
       "  'leathers',\n",
       "  'mounted',\n",
       "  'on',\n",
       "  'his',\n",
       "  'great',\n",
       "  'warhorse',\n",
       "  'his',\n",
       "  'lord',\n",
       "  'father',\n",
       "  'loomed',\n",
       "  'over',\n",
       "  'him',\n",
       "  'like',\n",
       "  'giant'],\n",
       " ['robb',\n",
       "  'says',\n",
       "  'the',\n",
       "  'man',\n",
       "  'died',\n",
       "  'bravely',\n",
       "  'but',\n",
       "  'jon',\n",
       "  'says',\n",
       "  'he',\n",
       "  'was',\n",
       "  'afraid'],\n",
       " ['what', 'do', 'you', 'think'],\n",
       " ['his', 'father', 'asked'],\n",
       " ['bran', 'thought', 'about', 'it'],\n",
       " ['can', 'man', 'still', 'be', 'brave', 'if', 'he', 'afraid'],\n",
       " ['that',\n",
       "  'is',\n",
       "  'the',\n",
       "  'only',\n",
       "  'time',\n",
       "  'man',\n",
       "  'can',\n",
       "  'be',\n",
       "  'brave',\n",
       "  'his',\n",
       "  'father',\n",
       "  'told',\n",
       "  'him'],\n",
       " ['do', 'you', 'understand', 'why', 'did', 'it'],\n",
       " ['he', 'was', 'wildling', 'bran', 'said'],\n",
       " ['they',\n",
       "  'carry',\n",
       "  'off',\n",
       "  'women',\n",
       "  'and',\n",
       "  'sell',\n",
       "  'them',\n",
       "  'to',\n",
       "  'the',\n",
       "  'others'],\n",
       " ['his', 'lord', 'father', 'smiled'],\n",
       " ['old', 'nan', 'has', 'been', 'telling', 'you', 'stories', 'again'],\n",
       " ['in',\n",
       "  'truth',\n",
       "  'the',\n",
       "  'man',\n",
       "  'was',\n",
       "  'an',\n",
       "  'oathbreaker',\n",
       "  'deserter',\n",
       "  'from',\n",
       "  'the',\n",
       "  'night',\n",
       "  'watch'],\n",
       " ['no', 'man', 'is', 'more', 'dangerous'],\n",
       " ['the',\n",
       "  'deserter',\n",
       "  'knows',\n",
       "  'his',\n",
       "  'life',\n",
       "  'is',\n",
       "  'forfeit',\n",
       "  'if',\n",
       "  'he',\n",
       "  'is',\n",
       "  'taken',\n",
       "  'so',\n",
       "  'he',\n",
       "  'will',\n",
       "  'not',\n",
       "  'flinch',\n",
       "  'from',\n",
       "  'any',\n",
       "  'crime',\n",
       "  'no',\n",
       "  'matter',\n",
       "  'how',\n",
       "  'vile'],\n",
       " ['but', 'you', 'mistake', 'me'],\n",
       " ['the',\n",
       "  'question',\n",
       "  'was',\n",
       "  'not',\n",
       "  'why',\n",
       "  'the',\n",
       "  'man',\n",
       "  'had',\n",
       "  'to',\n",
       "  'die',\n",
       "  'but',\n",
       "  'why',\n",
       "  'must',\n",
       "  'do',\n",
       "  'it'],\n",
       " ['page', 'bran', 'had', 'no', 'answer', 'for', 'that'],\n",
       " ['king', 'robert', 'has', 'headsman', 'he', 'said', 'uncertainly'],\n",
       " ['he', 'does', 'his', 'father', 'admitted'],\n",
       " ['as', 'did', 'the', 'targaryen', 'kings', 'before', 'him'],\n",
       " ['yet', 'our', 'way', 'is', 'the', 'older', 'way'],\n",
       " ['the',\n",
       "  'blood',\n",
       "  'of',\n",
       "  'the',\n",
       "  'first',\n",
       "  'men',\n",
       "  'still',\n",
       "  'flows',\n",
       "  'in',\n",
       "  'the',\n",
       "  'veins',\n",
       "  'of',\n",
       "  'the',\n",
       "  'starks',\n",
       "  'and',\n",
       "  'we',\n",
       "  'hold',\n",
       "  'to',\n",
       "  'the',\n",
       "  'belief',\n",
       "  'that',\n",
       "  'the',\n",
       "  'man',\n",
       "  'who',\n",
       "  'passes',\n",
       "  'the',\n",
       "  'sentence',\n",
       "  'should',\n",
       "  'swing',\n",
       "  'the',\n",
       "  'sword'],\n",
       " ['if',\n",
       "  'you',\n",
       "  'would',\n",
       "  'take',\n",
       "  'man',\n",
       "  'life',\n",
       "  'you',\n",
       "  'owe',\n",
       "  'it',\n",
       "  'to',\n",
       "  'him',\n",
       "  'to',\n",
       "  'look',\n",
       "  'into',\n",
       "  'his',\n",
       "  'eyes',\n",
       "  'and',\n",
       "  'hear',\n",
       "  'his',\n",
       "  'final',\n",
       "  'words'],\n",
       " ['and',\n",
       "  'if',\n",
       "  'you',\n",
       "  'cannot',\n",
       "  'bear',\n",
       "  'to',\n",
       "  'do',\n",
       "  'that',\n",
       "  'then',\n",
       "  'perhaps',\n",
       "  'the',\n",
       "  'man',\n",
       "  'does',\n",
       "  'not',\n",
       "  'deserve',\n",
       "  'to',\n",
       "  'die'],\n",
       " ['one',\n",
       "  'day',\n",
       "  'bran',\n",
       "  'you',\n",
       "  'will',\n",
       "  'be',\n",
       "  'robb',\n",
       "  'bannerman',\n",
       "  'holding',\n",
       "  'keep',\n",
       "  'of',\n",
       "  'your',\n",
       "  'own',\n",
       "  'for',\n",
       "  'your',\n",
       "  'brother',\n",
       "  'and',\n",
       "  'your',\n",
       "  'king',\n",
       "  'and',\n",
       "  'justice',\n",
       "  'will',\n",
       "  'fall',\n",
       "  'to',\n",
       "  'you'],\n",
       " ['when',\n",
       "  'that',\n",
       "  'day',\n",
       "  'comes',\n",
       "  'you',\n",
       "  'must',\n",
       "  'take',\n",
       "  'no',\n",
       "  'pleasure',\n",
       "  'in',\n",
       "  'the',\n",
       "  'task',\n",
       "  'but',\n",
       "  'neither',\n",
       "  'must',\n",
       "  'you',\n",
       "  'look',\n",
       "  'away'],\n",
       " ['ruler',\n",
       "  'who',\n",
       "  'hides',\n",
       "  'behind',\n",
       "  'paid',\n",
       "  'executioners',\n",
       "  'soon',\n",
       "  'forgets',\n",
       "  'what',\n",
       "  'death',\n",
       "  'is'],\n",
       " ['that',\n",
       "  'was',\n",
       "  'when',\n",
       "  'jon',\n",
       "  'reappeared',\n",
       "  'on',\n",
       "  'the',\n",
       "  'crest',\n",
       "  'of',\n",
       "  'the',\n",
       "  'hill',\n",
       "  'before',\n",
       "  'them'],\n",
       " ['he', 'waved', 'and', 'shouted', 'down', 'at', 'them'],\n",
       " ['father', 'bran', 'come', 'quickly', 'see', 'what', 'robb', 'has', 'found'],\n",
       " ['then', 'he', 'was', 'gone', 'again'],\n",
       " ['jory', 'rode', 'up', 'beside', 'them'],\n",
       " ['trouble', 'my', 'lord'],\n",
       " ['beyond', 'doubt', 'his', 'lord', 'father', 'said'],\n",
       " ['come',\n",
       "  'let',\n",
       "  'us',\n",
       "  'see',\n",
       "  'what',\n",
       "  'mischief',\n",
       "  'my',\n",
       "  'sons',\n",
       "  'have',\n",
       "  'rooted',\n",
       "  'out',\n",
       "  'now'],\n",
       " ['he', 'sent', 'his', 'horse', 'into', 'trot'],\n",
       " ['jory', 'and', 'bran', 'and', 'the', 'rest', 'came', 'after'],\n",
       " ['they',\n",
       "  'found',\n",
       "  'robb',\n",
       "  'on',\n",
       "  'the',\n",
       "  'riverbank',\n",
       "  'north',\n",
       "  'of',\n",
       "  'the',\n",
       "  'bridge',\n",
       "  'with',\n",
       "  'jon',\n",
       "  'still',\n",
       "  'mounted',\n",
       "  'beside',\n",
       "  'him'],\n",
       " ['the',\n",
       "  'late',\n",
       "  'summer',\n",
       "  'snows',\n",
       "  'had',\n",
       "  'been',\n",
       "  'heavy',\n",
       "  'this',\n",
       "  'moonturn'],\n",
       " ['robb',\n",
       "  'stood',\n",
       "  'knee',\n",
       "  'deep',\n",
       "  'in',\n",
       "  'white',\n",
       "  'his',\n",
       "  'hood',\n",
       "  'pulled',\n",
       "  'back',\n",
       "  'so',\n",
       "  'the',\n",
       "  'sun',\n",
       "  'shone',\n",
       "  'in',\n",
       "  'his',\n",
       "  'hair'],\n",
       " ['he',\n",
       "  'was',\n",
       "  'cradling',\n",
       "  'something',\n",
       "  'in',\n",
       "  'his',\n",
       "  'arm',\n",
       "  'while',\n",
       "  'the',\n",
       "  'boys',\n",
       "  'talked',\n",
       "  'in',\n",
       "  'hushed',\n",
       "  'excited',\n",
       "  'voices'],\n",
       " ['the',\n",
       "  'riders',\n",
       "  'picked',\n",
       "  'their',\n",
       "  'way',\n",
       "  'carefully',\n",
       "  'through',\n",
       "  'the',\n",
       "  'drifts',\n",
       "  'groping',\n",
       "  'for',\n",
       "  'solid',\n",
       "  'footing',\n",
       "  'on',\n",
       "  'the',\n",
       "  'hidden',\n",
       "  'uneven',\n",
       "  'ground'],\n",
       " ['jory',\n",
       "  'cassel',\n",
       "  'and',\n",
       "  'theon',\n",
       "  'greyjoy',\n",
       "  'were',\n",
       "  'the',\n",
       "  'first',\n",
       "  'to',\n",
       "  'reach',\n",
       "  'the',\n",
       "  'boys'],\n",
       " ['greyjoy', 'was', 'laughing', 'and', 'joking', 'as', 'he', 'rode'],\n",
       " ['bran', 'heard', 'the', 'breath', 'go', 'out', 'of', 'him'],\n",
       " ['gods'],\n",
       " ['he',\n",
       "  'exclaimed',\n",
       "  'struggling',\n",
       "  'to',\n",
       "  'keep',\n",
       "  'control',\n",
       "  'of',\n",
       "  'his',\n",
       "  'horse',\n",
       "  'as',\n",
       "  'he',\n",
       "  'reached',\n",
       "  'for',\n",
       "  'his',\n",
       "  'sword'],\n",
       " ['jory', 'sword', 'was', 'already', 'out'],\n",
       " ['robb', 'get', 'away', 'from', 'it'],\n",
       " ['he', 'called', 'as', 'his', 'horse', 'reared', 'under', 'him'],\n",
       " ['robb',\n",
       "  'grinned',\n",
       "  'and',\n",
       "  'looked',\n",
       "  'up',\n",
       "  'from',\n",
       "  'the',\n",
       "  'bundle',\n",
       "  'in',\n",
       "  'his',\n",
       "  'arms'],\n",
       " ['she', 'can', 'hurt', 'you', 'he', 'said'],\n",
       " ['she', 'dead', 'jory'],\n",
       " ['bran', 'was', 'afire', 'with', 'curiosity', 'by', 'then'],\n",
       " ['he',\n",
       "  'would',\n",
       "  'have',\n",
       "  'spurred',\n",
       "  'the',\n",
       "  'pony',\n",
       "  'faster',\n",
       "  'but',\n",
       "  'his',\n",
       "  'father',\n",
       "  'made',\n",
       "  'them',\n",
       "  'dismount',\n",
       "  'beside',\n",
       "  'the',\n",
       "  'bridge',\n",
       "  'and',\n",
       "  'approach',\n",
       "  'on',\n",
       "  'foot'],\n",
       " ['bran', 'jumped', 'off', 'and', 'ran'],\n",
       " ['by',\n",
       "  'then',\n",
       "  'jon',\n",
       "  'jory',\n",
       "  'and',\n",
       "  'theon',\n",
       "  'greyjoy',\n",
       "  'had',\n",
       "  'all',\n",
       "  'dismounted',\n",
       "  'as',\n",
       "  'well'],\n",
       " ['what', 'in', 'the', 'seven', 'hells', 'is', 'it'],\n",
       " ['greyjoy', 'was', 'saying'],\n",
       " ['wolf', 'robb', 'told', 'him'],\n",
       " ['freak', 'greyjoy', 'said'],\n",
       " ['look', 'at', 'the', 'size', 'of', 'it'],\n",
       " ['bran',\n",
       "  'heart',\n",
       "  'was',\n",
       "  'thumping',\n",
       "  'in',\n",
       "  'his',\n",
       "  'chest',\n",
       "  'as',\n",
       "  'he',\n",
       "  'pushed',\n",
       "  'through',\n",
       "  'waist',\n",
       "  'high',\n",
       "  'drift',\n",
       "  'to',\n",
       "  'his',\n",
       "  'brothers',\n",
       "  'side'],\n",
       " ['half',\n",
       "  'buried',\n",
       "  'in',\n",
       "  'bloodstained',\n",
       "  'snow',\n",
       "  'huge',\n",
       "  'dark',\n",
       "  'shape',\n",
       "  'slumped',\n",
       "  'in',\n",
       "  'death'],\n",
       " ['ice',\n",
       "  'had',\n",
       "  'formed',\n",
       "  'in',\n",
       "  'its',\n",
       "  'shaggy',\n",
       "  'grey',\n",
       "  'fur',\n",
       "  'and',\n",
       "  'the',\n",
       "  'faint',\n",
       "  'smell',\n",
       "  'of',\n",
       "  'corruption',\n",
       "  'clung',\n",
       "  'to',\n",
       "  'it',\n",
       "  'like',\n",
       "  'woman',\n",
       "  'perfume'],\n",
       " ['bran',\n",
       "  'glimpsed',\n",
       "  'blind',\n",
       "  'eyes',\n",
       "  'crawling',\n",
       "  'with',\n",
       "  'maggots',\n",
       "  'wide',\n",
       "  'mouth',\n",
       "  'full',\n",
       "  'of',\n",
       "  'yellowed',\n",
       "  'teeth'],\n",
       " ['but',\n",
       "  'it',\n",
       "  'was',\n",
       "  'the',\n",
       "  'size',\n",
       "  'of',\n",
       "  'it',\n",
       "  'that',\n",
       "  'made',\n",
       "  'him',\n",
       "  'gasp'],\n",
       " ['it',\n",
       "  'was',\n",
       "  'bigger',\n",
       "  'than',\n",
       "  'his',\n",
       "  'pony',\n",
       "  'twice',\n",
       "  'the',\n",
       "  'size',\n",
       "  'of',\n",
       "  'the',\n",
       "  'largest',\n",
       "  'hound',\n",
       "  'in',\n",
       "  'his',\n",
       "  'father',\n",
       "  'kennel'],\n",
       " ['page', 'it', 'no', 'freak', 'jon', 'said', 'calmly'],\n",
       " ['that', 'direwolf'],\n",
       " ['they', 'grow', 'larger', 'than', 'the', 'other', 'kind'],\n",
       " ['theon',\n",
       "  'greyjoy',\n",
       "  'said',\n",
       "  'there',\n",
       "  'not',\n",
       "  'been',\n",
       "  'direwolf',\n",
       "  'sighted',\n",
       "  'south',\n",
       "  'of',\n",
       "  'the',\n",
       "  'wall',\n",
       "  'in',\n",
       "  'two',\n",
       "  'hundred',\n",
       "  'years'],\n",
       " ['see', 'one', 'now', 'jon', 'replied'],\n",
       " ['bran', 'tore', 'his', 'eyes', 'away', 'from', 'the', 'monster'],\n",
       " ['that',\n",
       "  'was',\n",
       "  'when',\n",
       "  'he',\n",
       "  'noticed',\n",
       "  'the',\n",
       "  'bundle',\n",
       "  'in',\n",
       "  'robb',\n",
       "  'arms'],\n",
       " ['he', 'gave', 'cry', 'of', 'delight', 'and', 'moved', 'closer'],\n",
       " ['the',\n",
       "  'pup',\n",
       "  'was',\n",
       "  'tiny',\n",
       "  'ball',\n",
       "  'of',\n",
       "  'grey',\n",
       "  'black',\n",
       "  'fur',\n",
       "  'its',\n",
       "  'eyes',\n",
       "  'still',\n",
       "  'closed'],\n",
       " ['it',\n",
       "  'nuzzled',\n",
       "  'blindly',\n",
       "  'against',\n",
       "  'robb',\n",
       "  'chest',\n",
       "  'as',\n",
       "  'he',\n",
       "  'cradled',\n",
       "  'it',\n",
       "  'searching',\n",
       "  'for',\n",
       "  'milk',\n",
       "  'among',\n",
       "  'his',\n",
       "  'leathers',\n",
       "  'making',\n",
       "  'sad',\n",
       "  'little',\n",
       "  'whimpery',\n",
       "  'sound'],\n",
       " ['bran', 'reached', 'out', 'hesitantly'],\n",
       " ['go', 'on', 'robb', 'told', 'him'],\n",
       " ['you', 'can', 'touch', 'him'],\n",
       " ['bran',\n",
       "  'gave',\n",
       "  'the',\n",
       "  'pup',\n",
       "  'quick',\n",
       "  'nervous',\n",
       "  'stroke',\n",
       "  'then',\n",
       "  'turned',\n",
       "  'as',\n",
       "  'jon',\n",
       "  'said',\n",
       "  'here',\n",
       "  'you',\n",
       "  'go'],\n",
       " ['his', 'half', 'brother', 'put', 'second', 'pup', 'into', 'his', 'arms'],\n",
       " ['there', 'are', 'five', 'of', 'them'],\n",
       " ['bran',\n",
       "  'sat',\n",
       "  'down',\n",
       "  'in',\n",
       "  'the',\n",
       "  'snow',\n",
       "  'and',\n",
       "  'hugged',\n",
       "  'the',\n",
       "  'wolf',\n",
       "  'pup',\n",
       "  'to',\n",
       "  'his',\n",
       "  'face'],\n",
       " ['its', 'fur', 'was', 'soft', 'and', 'warm', 'against', 'his', 'cheek'],\n",
       " ['direwolves',\n",
       "  'loose',\n",
       "  'in',\n",
       "  'the',\n",
       "  'realm',\n",
       "  'after',\n",
       "  'so',\n",
       "  'many',\n",
       "  'years',\n",
       "  'muttered',\n",
       "  'hullen',\n",
       "  'the',\n",
       "  'master',\n",
       "  'of',\n",
       "  'horse'],\n",
       " ['like', 'it', 'not'],\n",
       " ['it', 'is', 'sign', 'jory', 'said'],\n",
       " ['father', 'frowned'],\n",
       " ['this', 'is', 'only', 'dead', 'animal', 'jory', 'he', 'said'],\n",
       " ['yet', 'he', 'seemed', 'troubled'],\n",
       " ['snow',\n",
       "  'crunched',\n",
       "  'under',\n",
       "  'his',\n",
       "  'boots',\n",
       "  'as',\n",
       "  'he',\n",
       "  'moved',\n",
       "  'around',\n",
       "  'the',\n",
       "  'body'],\n",
       " ['do', 'we', 'know', 'what', 'killed', 'her'],\n",
       " ['there',\n",
       "  'something',\n",
       "  'in',\n",
       "  'the',\n",
       "  'throat',\n",
       "  'robb',\n",
       "  'told',\n",
       "  'him',\n",
       "  'proud',\n",
       "  'to',\n",
       "  'have',\n",
       "  'found',\n",
       "  'the',\n",
       "  'answer',\n",
       "  'before',\n",
       "  'his',\n",
       "  'father',\n",
       "  'even',\n",
       "  'asked'],\n",
       " ['there',\n",
       "  'just',\n",
       "  'under',\n",
       "  'the',\n",
       "  'jaw',\n",
       "  'his',\n",
       "  'father',\n",
       "  'knelt',\n",
       "  'and',\n",
       "  'groped',\n",
       "  'under',\n",
       "  'the',\n",
       "  'beast',\n",
       "  'head',\n",
       "  'with',\n",
       "  'his',\n",
       "  'hand'],\n",
       " ['he', 'gave', 'yank', 'and', 'held', 'it', 'up', 'for', 'all', 'to', 'see'],\n",
       " ['foot',\n",
       "  'of',\n",
       "  'shattered',\n",
       "  'antler',\n",
       "  'tines',\n",
       "  'snapped',\n",
       "  'off',\n",
       "  'all',\n",
       "  'wet',\n",
       "  'with',\n",
       "  'blood'],\n",
       " ['sudden', 'silence', 'descended', 'over', 'the', 'party'],\n",
       " ['the',\n",
       "  'men',\n",
       "  'looked',\n",
       "  'at',\n",
       "  'the',\n",
       "  'antler',\n",
       "  'uneasily',\n",
       "  'and',\n",
       "  'no',\n",
       "  'one',\n",
       "  'dared',\n",
       "  'to',\n",
       "  'speak'],\n",
       " ['even',\n",
       "  'bran',\n",
       "  'could',\n",
       "  'sense',\n",
       "  'their',\n",
       "  'fear',\n",
       "  'though',\n",
       "  'he',\n",
       "  'did',\n",
       "  'not',\n",
       "  'understand'],\n",
       " ['his',\n",
       "  'father',\n",
       "  'tossed',\n",
       "  'the',\n",
       "  'antler',\n",
       "  'to',\n",
       "  'the',\n",
       "  'side',\n",
       "  'and',\n",
       "  'cleansed',\n",
       "  'his',\n",
       "  'hands',\n",
       "  'in',\n",
       "  'the',\n",
       "  'snow'],\n",
       " ['surprised', 'she', 'lived', 'long', 'enough', 'to', 'whelp', 'he', 'said'],\n",
       " ['his', 'voice', 'broke', 'the', 'spell'],\n",
       " ['maybe', 'she', 'didn', 'jory', 'said'],\n",
       " ['ve', 'heard', 'tales'],\n",
       " [],\n",
       " [],\n",
       " ['maybe',\n",
       "  'the',\n",
       "  'bitch',\n",
       "  'was',\n",
       "  'already',\n",
       "  'dead',\n",
       "  'when',\n",
       "  'the',\n",
       "  'pups',\n",
       "  'came'],\n",
       " ['born', 'with', 'the', 'dead', 'another', 'man', 'put', 'in'],\n",
       " ['worse', 'luck'],\n",
       " ['no', 'matter', 'said', 'hullen'],\n",
       " ['they', 'be', 'dead', 'soon', 'enough', 'too'],\n",
       " ['bran', 'gave', 'wordless', 'cry', 'of', 'dismay'],\n",
       " ['the', 'sooner', 'the', 'better', 'theon', 'greyjoy', 'agreed'],\n",
       " ['he', 'drew', 'his', 'sword'],\n",
       " ['give', 'the', 'beast', 'here', 'bran'],\n",
       " ['the',\n",
       "  'little',\n",
       "  'thing',\n",
       "  'squirmed',\n",
       "  'against',\n",
       "  'him',\n",
       "  'as',\n",
       "  'if',\n",
       "  'it',\n",
       "  'heard',\n",
       "  'and',\n",
       "  'understood'],\n",
       " ['no'],\n",
       " ['bran', 'cried', 'out', 'fiercely'],\n",
       " ['it', 'mine'],\n",
       " ['page', 'put', 'away', 'your', 'sword', 'greyjoy', 'robb', 'said'],\n",
       " ['for',\n",
       "  'moment',\n",
       "  'he',\n",
       "  'sounded',\n",
       "  'as',\n",
       "  'commanding',\n",
       "  'as',\n",
       "  'their',\n",
       "  'father',\n",
       "  'like',\n",
       "  'the',\n",
       "  'lord',\n",
       "  'he',\n",
       "  'would',\n",
       "  'someday',\n",
       "  'be'],\n",
       " ['we', 'will', 'keep', 'these', 'pups'],\n",
       " ['you',\n",
       "  'cannot',\n",
       "  'do',\n",
       "  'that',\n",
       "  'boy',\n",
       "  'said',\n",
       "  'harwin',\n",
       "  'who',\n",
       "  'was',\n",
       "  'hullen',\n",
       "  'son'],\n",
       " ['it', 'be', 'mercy', 'to', 'kill', 'them', 'hullen', 'said'],\n",
       " ['bran',\n",
       "  'looked',\n",
       "  'to',\n",
       "  'his',\n",
       "  'lord',\n",
       "  'father',\n",
       "  'for',\n",
       "  'rescue',\n",
       "  'but',\n",
       "  'got',\n",
       "  'only',\n",
       "  'frown',\n",
       "  'furrowed',\n",
       "  'brow'],\n",
       " ['hullen', 'speaks', 'truly', 'son'],\n",
       " ['better',\n",
       "  'swift',\n",
       "  'death',\n",
       "  'than',\n",
       "  'hard',\n",
       "  'one',\n",
       "  'from',\n",
       "  'cold',\n",
       "  'and',\n",
       "  'starvation'],\n",
       " ['no'],\n",
       " ['he',\n",
       "  'could',\n",
       "  'feel',\n",
       "  'tears',\n",
       "  'welling',\n",
       "  'in',\n",
       "  'his',\n",
       "  'eyes',\n",
       "  'and',\n",
       "  'he',\n",
       "  'looked',\n",
       "  'away'],\n",
       " ['he',\n",
       "  'did',\n",
       "  'not',\n",
       "  'want',\n",
       "  'to',\n",
       "  'cry',\n",
       "  'in',\n",
       "  'front',\n",
       "  'of',\n",
       "  'his',\n",
       "  'father'],\n",
       " ['robb', 'resisted', 'stubbornly'],\n",
       " ['ser',\n",
       "  'rodrik',\n",
       "  'red',\n",
       "  'bitch',\n",
       "  'whelped',\n",
       "  'again',\n",
       "  'last',\n",
       "  'week',\n",
       "  'he',\n",
       "  'said'],\n",
       " ['it', 'was', 'small', 'litter', 'only', 'two', 'live', 'pups'],\n",
       " ['she', 'll', 'have', 'milk', 'enough'],\n",
       " ['she', 'll', 'rip', 'them', 'apart', 'when', 'they', 'try', 'to', 'nurse'],\n",
       " ['lord', 'stark', 'jon', 'said'],\n",
       " ['it',\n",
       "  'was',\n",
       "  'strange',\n",
       "  'to',\n",
       "  'hear',\n",
       "  'him',\n",
       "  'call',\n",
       "  'father',\n",
       "  'that',\n",
       "  'so',\n",
       "  'formal'],\n",
       " ['bran', 'looked', 'at', 'him', 'with', 'desperate', 'hope'],\n",
       " ['there', 'are', 'five', 'pups', 'he', 'told', 'father'],\n",
       " ['three', 'male', 'two', 'female'],\n",
       " ['what', 'of', 'it', 'jon'],\n",
       " ['you', 'have', 'five', 'trueborn', 'children', 'jon', 'said'],\n",
       " ['three', 'sons', 'two', 'daughters'],\n",
       " ['the', 'direwolf', 'is', 'the', 'sigil', 'of', 'your', 'house'],\n",
       " ['your',\n",
       "  'children',\n",
       "  'were',\n",
       "  'meant',\n",
       "  'to',\n",
       "  'have',\n",
       "  'these',\n",
       "  'pups',\n",
       "  'my',\n",
       "  'lord'],\n",
       " ['bran',\n",
       "  'saw',\n",
       "  'his',\n",
       "  'father',\n",
       "  'face',\n",
       "  'change',\n",
       "  'saw',\n",
       "  'the',\n",
       "  'other',\n",
       "  'men',\n",
       "  'exchange',\n",
       "  'glances'],\n",
       " ['he', 'loved', 'jon', 'with', 'all', 'his', 'heart', 'at', 'that', 'moment'],\n",
       " ['even',\n",
       "  'at',\n",
       "  'seven',\n",
       "  'bran',\n",
       "  'understood',\n",
       "  'what',\n",
       "  'his',\n",
       "  'brother',\n",
       "  'had',\n",
       "  'done'],\n",
       " ['the',\n",
       "  'count',\n",
       "  'had',\n",
       "  'come',\n",
       "  'right',\n",
       "  'only',\n",
       "  'because',\n",
       "  'jon',\n",
       "  'had',\n",
       "  'omitted',\n",
       "  'himself'],\n",
       " ['he',\n",
       "  'had',\n",
       "  'included',\n",
       "  'the',\n",
       "  'girls',\n",
       "  'included',\n",
       "  'even',\n",
       "  'rickon',\n",
       "  'the',\n",
       "  'baby',\n",
       "  'but',\n",
       "  'not',\n",
       "  'the',\n",
       "  'bastard',\n",
       "  'who',\n",
       "  'bore',\n",
       "  'the',\n",
       "  'surname',\n",
       "  'snow',\n",
       "  'the',\n",
       "  'name',\n",
       "  'that',\n",
       "  'custom',\n",
       "  'decreed',\n",
       "  'be',\n",
       "  'given',\n",
       "  'to',\n",
       "  'all',\n",
       "  'those',\n",
       "  'in',\n",
       "  'the',\n",
       "  'north',\n",
       "  'unlucky',\n",
       "  'enough',\n",
       "  'to',\n",
       "  'be',\n",
       "  'born',\n",
       "  'with',\n",
       "  'no',\n",
       "  'name',\n",
       "  'of',\n",
       "  'their',\n",
       "  'own'],\n",
       " ['their', 'father', 'understood', 'as', 'well'],\n",
       " ['you', 'want', 'no', 'pup', 'for', 'yourself', 'jon'],\n",
       " ['he', 'asked', 'softly'],\n",
       " ['the',\n",
       "  'direwolf',\n",
       "  'graces',\n",
       "  'the',\n",
       "  'banners',\n",
       "  'of',\n",
       "  'house',\n",
       "  'stark',\n",
       "  'jon',\n",
       "  'pointed',\n",
       "  'out'],\n",
       " ['am', 'no', 'stark', 'father'],\n",
       " ['their', 'lord', 'father', 'regarded', 'jon', 'thoughtfully'],\n",
       " ['robb', 'rushed', 'into', 'the', 'silence', 'he', 'left'],\n",
       " ['will', 'nurse', 'him', 'myself', 'father', 'he', 'promised'],\n",
       " ['will',\n",
       "  'soak',\n",
       "  'towel',\n",
       "  'with',\n",
       "  'warm',\n",
       "  'milk',\n",
       "  'and',\n",
       "  'give',\n",
       "  'him',\n",
       "  'suck',\n",
       "  'from',\n",
       "  'that'],\n",
       " ['me', 'too'],\n",
       " ['bran', 'echoed'],\n",
       " ['the',\n",
       "  'lord',\n",
       "  'weighed',\n",
       "  'his',\n",
       "  'sons',\n",
       "  'long',\n",
       "  'and',\n",
       "  'carefully',\n",
       "  'with',\n",
       "  'his',\n",
       "  'eyes'],\n",
       " ['easy', 'to', 'say', 'and', 'harder', 'to', 'do'],\n",
       " ['will',\n",
       "  'not',\n",
       "  'have',\n",
       "  'you',\n",
       "  'wasting',\n",
       "  'the',\n",
       "  'servants',\n",
       "  'time',\n",
       "  'with',\n",
       "  'this'],\n",
       " ['if',\n",
       "  'you',\n",
       "  'want',\n",
       "  'these',\n",
       "  'pups',\n",
       "  'you',\n",
       "  'will',\n",
       "  'feed',\n",
       "  'them',\n",
       "  'yourselves'],\n",
       " ['is', 'that', 'understood'],\n",
       " ['bran', 'nodded', 'eagerly'],\n",
       " ['the',\n",
       "  'pup',\n",
       "  'squirmed',\n",
       "  'in',\n",
       "  'his',\n",
       "  'grasp',\n",
       "  'licked',\n",
       "  'at',\n",
       "  'his',\n",
       "  'face',\n",
       "  'with',\n",
       "  'warm',\n",
       "  'tongue'],\n",
       " ['you', 'must', 'train', 'them', 'as', 'well', 'their', 'father', 'said'],\n",
       " ['you', 'must', 'train', 'them'],\n",
       " ['the',\n",
       "  'kennelmaster',\n",
       "  'will',\n",
       "  'have',\n",
       "  'nothing',\n",
       "  'to',\n",
       "  'do',\n",
       "  'with',\n",
       "  'these',\n",
       "  'monsters',\n",
       "  'promise',\n",
       "  'you',\n",
       "  'that'],\n",
       " ['and',\n",
       "  'the',\n",
       "  'gods',\n",
       "  'help',\n",
       "  'you',\n",
       "  'if',\n",
       "  'you',\n",
       "  'neglect',\n",
       "  'them',\n",
       "  'or',\n",
       "  'brutalize',\n",
       "  'them',\n",
       "  'or',\n",
       "  'train',\n",
       "  'them',\n",
       "  'badly'],\n",
       " ['these',\n",
       "  'are',\n",
       "  'not',\n",
       "  'dogs',\n",
       "  'to',\n",
       "  'beg',\n",
       "  'for',\n",
       "  'treats',\n",
       "  'and',\n",
       "  'slink',\n",
       "  'off',\n",
       "  'at',\n",
       "  'kick'],\n",
       " ['direwolf',\n",
       "  'will',\n",
       "  'rip',\n",
       "  'page',\n",
       "  'man',\n",
       "  'arm',\n",
       "  'off',\n",
       "  'his',\n",
       "  'shoulder',\n",
       "  'as',\n",
       "  'easily',\n",
       "  'as',\n",
       "  'dog',\n",
       "  'will',\n",
       "  'kill',\n",
       "  'rat'],\n",
       " ['are', 'you', 'sure', 'you', 'want', 'this'],\n",
       " ['yes', 'father', 'bran', 'said'],\n",
       " ['yes', 'robb', 'agreed'],\n",
       " ['the', 'pups', 'may', 'die', 'anyway', 'despite', 'all', 'you', 'do'],\n",
       " ['they', 'won', 'die', 'robb', 'said'],\n",
       " ['we', 'won', 'let', 'them', 'die'],\n",
       " ['keep', 'them', 'then'],\n",
       " ['jory', 'desmond', 'gather', 'up', 'the', 'other', 'pups'],\n",
       " ['it', 'time', 'we', 'were', 'back', 'to', 'winterfell'],\n",
       " ['it',\n",
       "  'was',\n",
       "  'not',\n",
       "  'until',\n",
       "  'they',\n",
       "  'were',\n",
       "  'mounted',\n",
       "  'and',\n",
       "  'on',\n",
       "  'their',\n",
       "  'way',\n",
       "  'that',\n",
       "  'bran',\n",
       "  'allowed',\n",
       "  'himself',\n",
       "  'to',\n",
       "  'taste',\n",
       "  'the',\n",
       "  'sweet',\n",
       "  'air',\n",
       "  'of',\n",
       "  'victory'],\n",
       " ['by',\n",
       "  'then',\n",
       "  'his',\n",
       "  'pup',\n",
       "  'was',\n",
       "  'snuggled',\n",
       "  'inside',\n",
       "  'his',\n",
       "  'leathers',\n",
       "  'warm',\n",
       "  'against',\n",
       "  'him',\n",
       "  'safe',\n",
       "  'for',\n",
       "  'the',\n",
       "  'long',\n",
       "  'ride',\n",
       "  'home'],\n",
       " ['bran', 'was', 'wondering', 'what', 'to', 'name', 'him'],\n",
       " ['halfway', 'across', 'the', 'bridge', 'jon', 'pulled', 'up', 'suddenly'],\n",
       " ['what', 'is', 'it', 'jon'],\n",
       " ['their', 'lord', 'father', 'asked'],\n",
       " ['can', 'you', 'hear', 'it'],\n",
       " ['bran',\n",
       "  'could',\n",
       "  'hear',\n",
       "  'the',\n",
       "  'wind',\n",
       "  'in',\n",
       "  'the',\n",
       "  'trees',\n",
       "  'the',\n",
       "  'clatter',\n",
       "  'of',\n",
       "  'their',\n",
       "  'hooves',\n",
       "  'on',\n",
       "  'the',\n",
       "  'ironwood',\n",
       "  'planks',\n",
       "  'the',\n",
       "  'whimpering',\n",
       "  'of',\n",
       "  'his',\n",
       "  'hungry',\n",
       "  'pup',\n",
       "  'but',\n",
       "  'jon',\n",
       "  'was',\n",
       "  'listening',\n",
       "  'to',\n",
       "  'something',\n",
       "  'else'],\n",
       " ['there', 'jon', 'said'],\n",
       " ['he',\n",
       "  'swung',\n",
       "  'his',\n",
       "  'horse',\n",
       "  'around',\n",
       "  'and',\n",
       "  'galloped',\n",
       "  'back',\n",
       "  'across',\n",
       "  'the',\n",
       "  'bridge'],\n",
       " ['they',\n",
       "  'watched',\n",
       "  'him',\n",
       "  'dismount',\n",
       "  'where',\n",
       "  'the',\n",
       "  'direwolf',\n",
       "  'lay',\n",
       "  'dead',\n",
       "  'in',\n",
       "  'the',\n",
       "  'snow',\n",
       "  'watched',\n",
       "  'him',\n",
       "  'kneel'],\n",
       " ['moment', 'later', 'he', 'was', 'riding', 'back', 'to', 'them', 'smiling'],\n",
       " ['he',\n",
       "  'must',\n",
       "  'have',\n",
       "  'crawled',\n",
       "  'away',\n",
       "  'from',\n",
       "  'the',\n",
       "  'others',\n",
       "  'jon',\n",
       "  'said'],\n",
       " ['or',\n",
       "  'been',\n",
       "  'driven',\n",
       "  'away',\n",
       "  'their',\n",
       "  'father',\n",
       "  'said',\n",
       "  'looking',\n",
       "  'at',\n",
       "  'the',\n",
       "  'sixth',\n",
       "  'pup'],\n",
       " ['his',\n",
       "  'fur',\n",
       "  'was',\n",
       "  'white',\n",
       "  'where',\n",
       "  'the',\n",
       "  'rest',\n",
       "  'of',\n",
       "  'the',\n",
       "  'litter',\n",
       "  'was',\n",
       "  'grey'],\n",
       " ['his',\n",
       "  'eyes',\n",
       "  'were',\n",
       "  'as',\n",
       "  'red',\n",
       "  'as',\n",
       "  'the',\n",
       "  'blood',\n",
       "  'of',\n",
       "  'the',\n",
       "  'ragged',\n",
       "  'man',\n",
       "  'who',\n",
       "  'had',\n",
       "  'died',\n",
       "  'that',\n",
       "  'morning'],\n",
       " ['bran',\n",
       "  'thought',\n",
       "  'it',\n",
       "  'curious',\n",
       "  'that',\n",
       "  'this',\n",
       "  'pup',\n",
       "  'alone',\n",
       "  'would',\n",
       "  'have',\n",
       "  'opened',\n",
       "  'his',\n",
       "  'eyes',\n",
       "  'while',\n",
       "  'the',\n",
       "  'others',\n",
       "  'were',\n",
       "  'still',\n",
       "  'blind'],\n",
       " ['an', 'albino', 'theon', 'greyjoy', 'said', 'with', 'wry', 'amusement'],\n",
       " ['this', 'one', 'will', 'die', 'even', 'faster', 'than', 'the', 'others'],\n",
       " ['jon', 'snow', 'gave', 'his', 'father', 'ward', 'long', 'chilling', 'look'],\n",
       " ['think', 'not', 'greyjoy', 'he', 'said'],\n",
       " ['this', 'one', 'belongs', 'to', 'me'],\n",
       " ['catelyn', 'catelyn', 'had', 'never', 'liked', 'this', 'godswood'],\n",
       " ['she',\n",
       "  'had',\n",
       "  'been',\n",
       "  'born',\n",
       "  'tully',\n",
       "  'at',\n",
       "  'riverrun',\n",
       "  'far',\n",
       "  'to',\n",
       "  'the',\n",
       "  'south',\n",
       "  'on',\n",
       "  'the',\n",
       "  'red',\n",
       "  'fork',\n",
       "  'of',\n",
       "  'the',\n",
       "  'trident'],\n",
       " ['the',\n",
       "  'godswood',\n",
       "  'there',\n",
       "  'was',\n",
       "  'garden',\n",
       "  'bright',\n",
       "  'and',\n",
       "  'airy',\n",
       "  'where',\n",
       "  'tall',\n",
       "  'redwoods',\n",
       "  'spread',\n",
       "  'dappled',\n",
       "  'shadows',\n",
       "  'across',\n",
       "  'tinkling',\n",
       "  'streams',\n",
       "  'birds',\n",
       "  'sang',\n",
       "  'from',\n",
       "  'hidden',\n",
       "  'nests',\n",
       "  'and',\n",
       "  'the',\n",
       "  'air',\n",
       "  'was',\n",
       "  'spicy',\n",
       "  'with',\n",
       "  'the',\n",
       "  'scent',\n",
       "  'of',\n",
       "  'flowers'],\n",
       " ['page',\n",
       "  'the',\n",
       "  'gods',\n",
       "  'of',\n",
       "  'winterfell',\n",
       "  'kept',\n",
       "  'different',\n",
       "  'sort',\n",
       "  'of',\n",
       "  'wood'],\n",
       " ['it',\n",
       "  'was',\n",
       "  'dark',\n",
       "  'primal',\n",
       "  'place',\n",
       "  'three',\n",
       "  'acres',\n",
       "  'of',\n",
       "  'old',\n",
       "  'forest',\n",
       "  'untouched',\n",
       "  'for',\n",
       "  'ten',\n",
       "  'thousand',\n",
       "  'years',\n",
       "  'as',\n",
       "  'the',\n",
       "  'gloomy',\n",
       "  'castle',\n",
       "  'rose',\n",
       "  'around',\n",
       "  'it'],\n",
       " ['it', 'smelled', 'of', 'moist', 'earth', 'and', 'decay'],\n",
       " ['no', 'redwoods', 'grew', 'here'],\n",
       " ['this',\n",
       "  'was',\n",
       "  'wood',\n",
       "  'of',\n",
       "  'stubborn',\n",
       "  'sentinel',\n",
       "  'trees',\n",
       "  'armored',\n",
       "  'in',\n",
       "  'grey',\n",
       "  'green',\n",
       "  'needles',\n",
       "  'of',\n",
       "  'mighty',\n",
       "  'oaks',\n",
       "  'of',\n",
       "  'ironwoods',\n",
       "  'as',\n",
       "  'old',\n",
       "  'as',\n",
       "  'the',\n",
       "  'realm',\n",
       "  'itself'],\n",
       " ['here',\n",
       "  'thick',\n",
       "  'black',\n",
       "  'trunks',\n",
       "  'crowded',\n",
       "  'close',\n",
       "  'together',\n",
       "  'while',\n",
       "  'twisted',\n",
       "  'branches',\n",
       "  'wove',\n",
       "  'dense',\n",
       "  'canopy',\n",
       "  'overhead',\n",
       "  'and',\n",
       "  'misshappen',\n",
       "  'roots',\n",
       "  'wrestled',\n",
       "  'beneath',\n",
       "  'the',\n",
       "  'soil'],\n",
       " ['this',\n",
       "  'was',\n",
       "  'place',\n",
       "  'of',\n",
       "  'deep',\n",
       "  'silence',\n",
       "  'and',\n",
       "  'brooding',\n",
       "  'shadows',\n",
       "  'and',\n",
       "  'the',\n",
       "  'gods',\n",
       "  'who',\n",
       "  'lived',\n",
       "  'here',\n",
       "  'had',\n",
       "  'no',\n",
       "  'names'],\n",
       " ['but',\n",
       "  'she',\n",
       "  'knew',\n",
       "  'she',\n",
       "  'would',\n",
       "  'find',\n",
       "  'her',\n",
       "  'husband',\n",
       "  'here',\n",
       "  'tonight'],\n",
       " ['whenever',\n",
       "  'he',\n",
       "  'took',\n",
       "  'man',\n",
       "  'life',\n",
       "  'afterward',\n",
       "  'he',\n",
       "  'would',\n",
       "  'seek',\n",
       "  'the',\n",
       "  'quiet',\n",
       "  'of',\n",
       "  'the',\n",
       "  'godswood'],\n",
       " ['catelyn',\n",
       "  'had',\n",
       "  'been',\n",
       "  'anointed',\n",
       "  'with',\n",
       "  'the',\n",
       "  'seven',\n",
       "  'oils',\n",
       "  'and',\n",
       "  'named',\n",
       "  'in',\n",
       "  'the',\n",
       "  'rainbow',\n",
       "  'of',\n",
       "  'light',\n",
       "  'that',\n",
       "  'filled',\n",
       "  'the',\n",
       "  'sept',\n",
       "  'of',\n",
       "  'riverrun'],\n",
       " ['she',\n",
       "  'was',\n",
       "  'of',\n",
       "  'the',\n",
       "  'faith',\n",
       "  'like',\n",
       "  'her',\n",
       "  'father',\n",
       "  'and',\n",
       "  'grandfather',\n",
       "  'and',\n",
       "  'his',\n",
       "  'father',\n",
       "  'before',\n",
       "  'him'],\n",
       " ['her',\n",
       "  'gods',\n",
       "  'had',\n",
       "  'names',\n",
       "  'and',\n",
       "  'their',\n",
       "  'faces',\n",
       "  'were',\n",
       "  'as',\n",
       "  'familiar',\n",
       "  'as',\n",
       "  'the',\n",
       "  'faces',\n",
       "  'of',\n",
       "  'her',\n",
       "  'parents'],\n",
       " ['worship',\n",
       "  'was',\n",
       "  'septon',\n",
       "  'with',\n",
       "  'censer',\n",
       "  'the',\n",
       "  'smell',\n",
       "  'of',\n",
       "  'incense',\n",
       "  'seven',\n",
       "  'sided',\n",
       "  'crystal',\n",
       "  'alive',\n",
       "  'with',\n",
       "  'light',\n",
       "  'voices',\n",
       "  'raised',\n",
       "  'in',\n",
       "  'song'],\n",
       " ['the',\n",
       "  'tullys',\n",
       "  'kept',\n",
       "  'godswood',\n",
       "  'as',\n",
       "  'all',\n",
       "  'the',\n",
       "  'great',\n",
       "  'houses',\n",
       "  'did',\n",
       "  'but',\n",
       "  'it',\n",
       "  'was',\n",
       "  'only',\n",
       "  'place',\n",
       "  'to',\n",
       "  'walk',\n",
       "  'or',\n",
       "  'read',\n",
       "  'or',\n",
       "  'lie',\n",
       "  'in',\n",
       "  'the',\n",
       "  'sun'],\n",
       " ['worship',\n",
       "  'was',\n",
       "  'for',\n",
       "  'the',\n",
       "  'sept',\n",
       "  'for',\n",
       "  'her',\n",
       "  'sake',\n",
       "  'ned',\n",
       "  'had',\n",
       "  'built',\n",
       "  'small',\n",
       "  'sept',\n",
       "  'where',\n",
       "  'she',\n",
       "  'might',\n",
       "  'sing',\n",
       "  'to',\n",
       "  'the',\n",
       "  'seven',\n",
       "  'faces',\n",
       "  'of',\n",
       "  'god',\n",
       "  'but',\n",
       "  'the',\n",
       "  'blood',\n",
       "  'of',\n",
       "  'the',\n",
       "  'first',\n",
       "  'men',\n",
       "  'still',\n",
       "  'flowed',\n",
       "  'in',\n",
       "  'the',\n",
       "  'veins',\n",
       "  'of',\n",
       "  'the',\n",
       "  'starks',\n",
       "  'and',\n",
       "  'his',\n",
       "  'own',\n",
       "  'gods',\n",
       "  'were',\n",
       "  'the',\n",
       "  'old',\n",
       "  'ones',\n",
       "  'the',\n",
       "  'nameless',\n",
       "  'faceless',\n",
       "  'gods',\n",
       "  'of',\n",
       "  'the',\n",
       "  'greenwood',\n",
       "  'they',\n",
       "  'shared',\n",
       "  'with',\n",
       "  'the',\n",
       "  'vanished',\n",
       "  'children',\n",
       "  'of',\n",
       "  'the',\n",
       "  'forest'],\n",
       " ['at',\n",
       "  'the',\n",
       "  'center',\n",
       "  'of',\n",
       "  'the',\n",
       "  'grove',\n",
       "  'an',\n",
       "  'ancient',\n",
       "  'weirwood',\n",
       "  'brooded',\n",
       "  'over',\n",
       "  'small',\n",
       "  'pool',\n",
       "  'where',\n",
       "  'the',\n",
       "  'waters',\n",
       "  'were',\n",
       "  'black',\n",
       "  'and',\n",
       "  'cold'],\n",
       " ['the', 'heart', 'tree', 'ned', 'called', 'it'],\n",
       " ['the',\n",
       "  'weirwood',\n",
       "  'bark',\n",
       "  'was',\n",
       "  'white',\n",
       "  'as',\n",
       "  'bone',\n",
       "  'its',\n",
       "  'leaves',\n",
       "  'dark',\n",
       "  'red',\n",
       "  'like',\n",
       "  'thousand',\n",
       "  'bloodstained',\n",
       "  'hands'],\n",
       " ['face',\n",
       "  'had',\n",
       "  'been',\n",
       "  'carved',\n",
       "  'in',\n",
       "  'the',\n",
       "  'trunk',\n",
       "  'of',\n",
       "  'the',\n",
       "  'great',\n",
       "  'tree',\n",
       "  'its',\n",
       "  'features',\n",
       "  'long',\n",
       "  'and',\n",
       "  'melancholy',\n",
       "  'the',\n",
       "  'deep',\n",
       "  'cut',\n",
       "  'eyes',\n",
       "  'red',\n",
       "  'with',\n",
       "  'dried',\n",
       "  'sap',\n",
       "  'and',\n",
       "  'strangely',\n",
       "  'watchful'],\n",
       " ['they',\n",
       "  'were',\n",
       "  'old',\n",
       "  'those',\n",
       "  'eyes',\n",
       "  'older',\n",
       "  'than',\n",
       "  'winterfell',\n",
       "  'itself'],\n",
       " ['they',\n",
       "  'had',\n",
       "  'seen',\n",
       "  'brandon',\n",
       "  'the',\n",
       "  'builder',\n",
       "  'set',\n",
       "  'the',\n",
       "  'first',\n",
       "  'stone',\n",
       "  'if',\n",
       "  'the',\n",
       "  'tales',\n",
       "  'were',\n",
       "  'true',\n",
       "  'they',\n",
       "  'had',\n",
       "  'watched',\n",
       "  'the',\n",
       "  'castle',\n",
       "  'granite',\n",
       "  'walls',\n",
       "  'rise',\n",
       "  'around',\n",
       "  'them'],\n",
       " ['it',\n",
       "  'was',\n",
       "  'said',\n",
       "  'that',\n",
       "  'the',\n",
       "  'children',\n",
       "  'of',\n",
       "  'the',\n",
       "  'forest',\n",
       "  'had',\n",
       "  'carved',\n",
       "  'the',\n",
       "  'faces',\n",
       "  'in',\n",
       "  'the',\n",
       "  'trees',\n",
       "  'during',\n",
       "  'the',\n",
       "  'dawn',\n",
       "  'centuries',\n",
       "  'before',\n",
       "  'the',\n",
       "  'coming',\n",
       "  'of',\n",
       "  'the',\n",
       "  'first',\n",
       "  'men',\n",
       "  'across',\n",
       "  'the',\n",
       "  'narrow',\n",
       "  'sea'],\n",
       " ['in',\n",
       "  'the',\n",
       "  'south',\n",
       "  'the',\n",
       "  'last',\n",
       "  'weirwoods',\n",
       "  'had',\n",
       "  'been',\n",
       "  'cut',\n",
       "  'down',\n",
       "  'or',\n",
       "  'burned',\n",
       "  'out',\n",
       "  'thousand',\n",
       "  'years',\n",
       "  'ago',\n",
       "  'except',\n",
       "  'on',\n",
       "  'the',\n",
       "  'isle',\n",
       "  'of',\n",
       "  'faces',\n",
       "  'where',\n",
       "  'the',\n",
       "  'green',\n",
       "  'men',\n",
       "  'kept',\n",
       "  'their',\n",
       "  'silent',\n",
       "  'watch'],\n",
       " ['up', 'here', 'it', 'was', 'different'],\n",
       " ['here',\n",
       "  'every',\n",
       "  'castle',\n",
       "  'had',\n",
       "  'its',\n",
       "  'godswood',\n",
       "  'and',\n",
       "  'every',\n",
       "  'godswood',\n",
       "  'had',\n",
       "  'its',\n",
       "  'heart',\n",
       "  'tree',\n",
       "  'and',\n",
       "  'every',\n",
       "  'heart',\n",
       "  'tree',\n",
       "  'its',\n",
       "  'face'],\n",
       " ['catelyn',\n",
       "  'found',\n",
       "  'her',\n",
       "  'husband',\n",
       "  'beneath',\n",
       "  'the',\n",
       "  'weirwood',\n",
       "  'seated',\n",
       "  'on',\n",
       "  'moss',\n",
       "  'covered',\n",
       "  'stone'],\n",
       " ['the',\n",
       "  'greatsword',\n",
       "  'ice',\n",
       "  'was',\n",
       "  'across',\n",
       "  'his',\n",
       "  'lap',\n",
       "  'and',\n",
       "  'he',\n",
       "  'was',\n",
       "  'cleaning',\n",
       "  'the',\n",
       "  'blade',\n",
       "  'in',\n",
       "  'those',\n",
       "  'waters',\n",
       "  'black',\n",
       "  'as',\n",
       "  'night'],\n",
       " ['thousand',\n",
       "  'years',\n",
       "  'of',\n",
       "  'humus',\n",
       "  'lay',\n",
       "  'thick',\n",
       "  'upon',\n",
       "  'the',\n",
       "  'godswood',\n",
       "  'floor',\n",
       "  'swallowing',\n",
       "  'the',\n",
       "  'sound',\n",
       "  'of',\n",
       "  'her',\n",
       "  'feet',\n",
       "  'but',\n",
       "  'the',\n",
       "  'red',\n",
       "  'eyes',\n",
       "  'of',\n",
       "  'the',\n",
       "  'weirwood',\n",
       "  'seemed',\n",
       "  'to',\n",
       "  'follow',\n",
       "  'her',\n",
       "  'as',\n",
       "  'she',\n",
       "  'came'],\n",
       " ['ned', 'she', 'called', 'softly'],\n",
       " ['he', 'lifted', 'his', 'head', 'to', 'look', 'at', 'her'],\n",
       " ['catelyn', 'he', 'said'],\n",
       " ['his', 'voice', 'was', 'distant', 'and', 'formal'],\n",
       " ['where', 'are', 'the', 'children'],\n",
       " ['he', 'would', 'always', 'ask', 'her', 'that'],\n",
       " ['in',\n",
       "  'the',\n",
       "  'kitchen',\n",
       "  'arguing',\n",
       "  'about',\n",
       "  'names',\n",
       "  'for',\n",
       "  'the',\n",
       "  'wolf',\n",
       "  'pups'],\n",
       " ['she',\n",
       "  'spread',\n",
       "  'her',\n",
       "  'cloak',\n",
       "  'on',\n",
       "  'the',\n",
       "  'forest',\n",
       "  'floor',\n",
       "  'and',\n",
       "  'sat',\n",
       "  'beside',\n",
       "  'the',\n",
       "  'pool',\n",
       "  'her',\n",
       "  'back',\n",
       "  'to',\n",
       "  'the',\n",
       "  'weirwood'],\n",
       " ['she',\n",
       "  'could',\n",
       "  'feel',\n",
       "  'the',\n",
       "  'eyes',\n",
       "  'watching',\n",
       "  'her',\n",
       "  'but',\n",
       "  'she',\n",
       "  'did',\n",
       "  'her',\n",
       "  'best',\n",
       "  'to',\n",
       "  'ignore',\n",
       "  'them'],\n",
       " ['arya',\n",
       "  'is',\n",
       "  'already',\n",
       "  'in',\n",
       "  'love',\n",
       "  'and',\n",
       "  'sansa',\n",
       "  'is',\n",
       "  'charmed',\n",
       "  'and',\n",
       "  'gracious',\n",
       "  'but',\n",
       "  'rickon',\n",
       "  'is',\n",
       "  'not',\n",
       "  'quite',\n",
       "  'sure'],\n",
       " ['is', 'he', 'afraid'],\n",
       " ['ned', 'asked'],\n",
       " ['page', 'little', 'she', 'admitted'],\n",
       " ['he', 'is', 'only', 'three'],\n",
       " ['ned', 'frowned'],\n",
       " ['he', 'must', 'learn', 'to', 'face', 'his', 'fears'],\n",
       " ['he', 'will', 'not', 'be', 'three', 'forever'],\n",
       " ['and', 'winter', 'is', 'coming'],\n",
       " ['yes', 'catelyn', 'agreed'],\n",
       " ['the', 'words', 'gave', 'her', 'chill', 'as', 'they', 'always', 'did'],\n",
       " ['the', 'stark', 'words'],\n",
       " ['every', 'noble', 'house', 'had', 'its', 'words'],\n",
       " ['family',\n",
       "  'mottoes',\n",
       "  'touchstones',\n",
       "  'prayers',\n",
       "  'of',\n",
       "  'sorts',\n",
       "  'they',\n",
       "  'boasted',\n",
       "  'of',\n",
       "  'honor',\n",
       "  'and',\n",
       "  'glory',\n",
       "  'promised',\n",
       "  'loyalty',\n",
       "  'and',\n",
       "  'truth',\n",
       "  'swore',\n",
       "  'faith',\n",
       "  'and',\n",
       "  'courage'],\n",
       " ['all', 'but', 'the', 'starks'],\n",
       " ['winter', 'is', 'coming', 'said', 'the', 'stark', 'words'],\n",
       " ['not',\n",
       "  'for',\n",
       "  'the',\n",
       "  'first',\n",
       "  'time',\n",
       "  'she',\n",
       "  'reflected',\n",
       "  'on',\n",
       "  'what',\n",
       "  'strange',\n",
       "  'people',\n",
       "  'these',\n",
       "  'northerners',\n",
       "  'were'],\n",
       " ['the', 'man', 'died', 'well', 'll', 'give', 'him', 'that', 'ned', 'said'],\n",
       " ['he', 'had', 'swatch', 'of', 'oiled', 'leather', 'in', 'one', 'hand'],\n",
       " ['he',\n",
       "  'ran',\n",
       "  'it',\n",
       "  'lightly',\n",
       "  'up',\n",
       "  'the',\n",
       "  'greatsword',\n",
       "  'as',\n",
       "  'he',\n",
       "  'spoke',\n",
       "  'polishing',\n",
       "  'the',\n",
       "  'metal',\n",
       "  'to',\n",
       "  'dark',\n",
       "  'glow'],\n",
       " ['was', 'glad', 'for', 'bran', 'sake'],\n",
       " ['you', 'would', 'have', 'been', 'proud', 'of', 'bran'],\n",
       " ['am',\n",
       "  'always',\n",
       "  'proud',\n",
       "  'of',\n",
       "  'bran',\n",
       "  'catelyn',\n",
       "  'replied',\n",
       "  'watching',\n",
       "  'the',\n",
       "  'sword',\n",
       "  'as',\n",
       "  'he',\n",
       "  'stroked',\n",
       "  'it'],\n",
       " ['she',\n",
       "  'could',\n",
       "  'see',\n",
       "  'the',\n",
       "  'rippling',\n",
       "  'deep',\n",
       "  'within',\n",
       "  'the',\n",
       "  'steel',\n",
       "  'where',\n",
       "  'the',\n",
       "  'metal',\n",
       "  'had',\n",
       "  'been',\n",
       "  'folded',\n",
       "  'back',\n",
       "  'on',\n",
       "  'itself',\n",
       "  'hundred',\n",
       "  'times',\n",
       "  'in',\n",
       "  'the',\n",
       "  'forging'],\n",
       " ['catelyn',\n",
       "  'had',\n",
       "  'no',\n",
       "  'love',\n",
       "  'for',\n",
       "  'swords',\n",
       "  'but',\n",
       "  'she',\n",
       "  'could',\n",
       "  'not',\n",
       "  'deny',\n",
       "  'that',\n",
       "  'ice',\n",
       "  'had',\n",
       "  'its',\n",
       "  'own',\n",
       "  'beauty'],\n",
       " ['it',\n",
       "  'had',\n",
       "  'been',\n",
       "  'forged',\n",
       "  'in',\n",
       "  'valyria',\n",
       "  'before',\n",
       "  'the',\n",
       "  'doom',\n",
       "  'had',\n",
       "  'come',\n",
       "  'to',\n",
       "  'the',\n",
       "  'old',\n",
       "  'freehold',\n",
       "  'when',\n",
       "  'the',\n",
       "  'ironsmiths',\n",
       "  'had',\n",
       "  'worked',\n",
       "  'their',\n",
       "  'metal',\n",
       "  'with',\n",
       "  'spells',\n",
       "  'as',\n",
       "  'well',\n",
       "  'as',\n",
       "  'hammers'],\n",
       " ['four',\n",
       "  'hundred',\n",
       "  'years',\n",
       "  'old',\n",
       "  'it',\n",
       "  'was',\n",
       "  'and',\n",
       "  'as',\n",
       "  'sharp',\n",
       "  'as',\n",
       "  'the',\n",
       "  'day',\n",
       "  'it',\n",
       "  'was',\n",
       "  'forged'],\n",
       " ['the',\n",
       "  'name',\n",
       "  'it',\n",
       "  'bore',\n",
       "  'was',\n",
       "  'older',\n",
       "  'still',\n",
       "  'legacy',\n",
       "  'from',\n",
       "  'the',\n",
       "  'age',\n",
       "  'of',\n",
       "  'heroes',\n",
       "  'when',\n",
       "  'the',\n",
       "  'starks',\n",
       "  'were',\n",
       "  'kings',\n",
       "  'in',\n",
       "  'the',\n",
       "  'north'],\n",
       " ['he', 'was', 'the', 'fourth', 'this', 'year', 'ned', 'said', 'grimly'],\n",
       " ['the', 'poor', 'man', 'was', 'half', 'mad'],\n",
       " ['something',\n",
       "  'had',\n",
       "  'put',\n",
       "  'fear',\n",
       "  'in',\n",
       "  'him',\n",
       "  'so',\n",
       "  'deep',\n",
       "  'that',\n",
       "  'my',\n",
       "  'words',\n",
       "  'could',\n",
       "  'not',\n",
       "  'reach',\n",
       "  'him'],\n",
       " ['he', 'sighed'],\n",
       " ['ben',\n",
       "  'writes',\n",
       "  'that',\n",
       "  'the',\n",
       "  'strength',\n",
       "  'of',\n",
       "  'the',\n",
       "  'night',\n",
       "  'watch',\n",
       "  'is',\n",
       "  'down',\n",
       "  'below',\n",
       "  'thousand'],\n",
       " ['it', 'not', 'only', 'desertions'],\n",
       " ['they', 'are', 'losing', 'men', 'on', 'rangings', 'as', 'well'],\n",
       " ['is', 'it', 'the', 'wildlings'],\n",
       " ['she', 'asked'],\n",
       " ['who', 'else'],\n",
       " ['ned',\n",
       "  'lifted',\n",
       "  'ice',\n",
       "  'looked',\n",
       "  'down',\n",
       "  'the',\n",
       "  'cool',\n",
       "  'steel',\n",
       "  'length',\n",
       "  'of',\n",
       "  'it'],\n",
       " ['and', 'it', 'will', 'only', 'grow', 'worse'],\n",
       " ['the',\n",
       "  'day',\n",
       "  'may',\n",
       "  'come',\n",
       "  'when',\n",
       "  'will',\n",
       "  'have',\n",
       "  'no',\n",
       "  'choice',\n",
       "  'but',\n",
       "  'to',\n",
       "  'call',\n",
       "  'the',\n",
       "  'banners',\n",
       "  'and',\n",
       "  'ride',\n",
       "  'north',\n",
       "  'to',\n",
       "  'deal',\n",
       "  'with',\n",
       "  'this',\n",
       "  'kingbeyond',\n",
       "  'the',\n",
       "  'wall',\n",
       "  'for',\n",
       "  'good',\n",
       "  'and',\n",
       "  'all'],\n",
       " ['beyond', 'the', 'wall'],\n",
       " ['the', 'thought', 'made', 'catelyn', 'shudder'],\n",
       " ['ned', 'saw', 'the', 'dread', 'on', 'her', 'face'],\n",
       " ['mance', 'rayder', 'is', 'nothing', 'for', 'us', 'to', 'fear'],\n",
       " ['there', 'are', 'darker', 'things', 'beyond', 'the', 'wall'],\n",
       " ['she',\n",
       "  'glanced',\n",
       "  'behind',\n",
       "  'her',\n",
       "  'at',\n",
       "  'the',\n",
       "  'heart',\n",
       "  'tree',\n",
       "  'the',\n",
       "  'pale',\n",
       "  'bark',\n",
       "  'and',\n",
       "  'red',\n",
       "  'eyes',\n",
       "  'watching',\n",
       "  'listening',\n",
       "  'thinking',\n",
       "  'its',\n",
       "  'long',\n",
       "  'slow',\n",
       "  'thoughts'],\n",
       " ['his', 'smile', 'was', 'gentle'],\n",
       " ['you', 'listen', 'to', 'too', 'many', 'of', 'old', 'nan', 'stories'],\n",
       " ['the',\n",
       "  'others',\n",
       "  'are',\n",
       "  'as',\n",
       "  'dead',\n",
       "  'as',\n",
       "  'the',\n",
       "  'children',\n",
       "  'of',\n",
       "  'the',\n",
       "  'forest',\n",
       "  'gone',\n",
       "  'eight',\n",
       "  'thousand',\n",
       "  'years'],\n",
       " ['maester',\n",
       "  'luwin',\n",
       "  'will',\n",
       "  'tell',\n",
       "  'you',\n",
       "  'they',\n",
       "  'never',\n",
       "  'lived',\n",
       "  'at',\n",
       "  'all'],\n",
       " ['no', 'living', 'man', 'has', 'ever', 'seen', 'one'],\n",
       " ['until',\n",
       "  'this',\n",
       "  'morning',\n",
       "  'no',\n",
       "  'living',\n",
       "  'man',\n",
       "  'had',\n",
       "  'ever',\n",
       "  'seen',\n",
       "  'direwolf',\n",
       "  'either',\n",
       "  'catelyn',\n",
       "  'reminded',\n",
       "  'him'],\n",
       " ['ought',\n",
       "  'to',\n",
       "  'know',\n",
       "  'better',\n",
       "  'than',\n",
       "  'to',\n",
       "  'argue',\n",
       "  'with',\n",
       "  'tully',\n",
       "  'he',\n",
       "  'said',\n",
       "  'with',\n",
       "  'rueful',\n",
       "  'smile'],\n",
       " ['he', 'slid', 'ice', 'back', 'into', 'its', 'sheath'],\n",
       " ['you', 'did', 'not', 'come', 'here', 'to', 'tell', 'me', 'crib', 'tales'],\n",
       " ['know', 'how', 'little', 'you', 'like', 'this', 'place'],\n",
       " ['what', 'is', 'it', 'my', 'lady'],\n",
       " ['catelyn', 'took', 'her', 'husband', 'hand'],\n",
       " ['there', 'was', 'grievous', 'news', 'today', 'my', 'lord'],\n",
       " ['did',\n",
       "  'not',\n",
       "  'wish',\n",
       "  'to',\n",
       "  'trouble',\n",
       "  'you',\n",
       "  'until',\n",
       "  'you',\n",
       "  'had',\n",
       "  'cleansed',\n",
       "  'yourself'],\n",
       " ['there',\n",
       "  'was',\n",
       "  'no',\n",
       "  'way',\n",
       "  'to',\n",
       "  'soften',\n",
       "  'the',\n",
       "  'blow',\n",
       "  'so',\n",
       "  'she',\n",
       "  'told',\n",
       "  'him',\n",
       "  'straight'],\n",
       " ['am', 'page', 'so', 'sorry', 'my', 'love'],\n",
       " ['jon', 'arryn', 'is', 'dead'],\n",
       " ['his',\n",
       "  'eyes',\n",
       "  'found',\n",
       "  'hers',\n",
       "  'and',\n",
       "  'she',\n",
       "  'could',\n",
       "  'see',\n",
       "  'how',\n",
       "  'hard',\n",
       "  'it',\n",
       "  'took',\n",
       "  'him',\n",
       "  'as',\n",
       "  'she',\n",
       "  'had',\n",
       "  'known',\n",
       "  'it',\n",
       "  'would'],\n",
       " ['in',\n",
       "  'his',\n",
       "  'youth',\n",
       "  'ned',\n",
       "  'had',\n",
       "  'fostered',\n",
       "  'at',\n",
       "  'the',\n",
       "  'eyrie',\n",
       "  'and',\n",
       "  'the',\n",
       "  'childless',\n",
       "  'lord',\n",
       "  'arryn',\n",
       "  'had',\n",
       "  'become',\n",
       "  'second',\n",
       "  'father',\n",
       "  'to',\n",
       "  'him',\n",
       "  'and',\n",
       "  'his',\n",
       "  'fellow',\n",
       "  'ward',\n",
       "  'robert',\n",
       "  'baratheon'],\n",
       " ['when',\n",
       "  'the',\n",
       "  'mad',\n",
       "  'king',\n",
       "  'aerys',\n",
       "  'targaryen',\n",
       "  'had',\n",
       "  'demanded',\n",
       "  'their',\n",
       "  'heads',\n",
       "  'the',\n",
       "  'lord',\n",
       "  'of',\n",
       "  'the',\n",
       "  'eyrie',\n",
       "  'had',\n",
       "  'raised',\n",
       "  'his',\n",
       "  'moon',\n",
       "  'and',\n",
       "  'falcon',\n",
       "  'banners',\n",
       "  'in',\n",
       "  'revolt',\n",
       "  'rather',\n",
       "  'than',\n",
       "  'give',\n",
       "  'up',\n",
       "  'those',\n",
       "  'he',\n",
       "  'had',\n",
       "  'pledged',\n",
       "  'to',\n",
       "  'protect'],\n",
       " ['and',\n",
       "  'one',\n",
       "  'day',\n",
       "  'fifteen',\n",
       "  'years',\n",
       "  'ago',\n",
       "  'this',\n",
       "  'second',\n",
       "  'father',\n",
       "  'had',\n",
       "  'become',\n",
       "  'brother',\n",
       "  'as',\n",
       "  'well',\n",
       "  'as',\n",
       "  'he',\n",
       "  'and',\n",
       "  'ned',\n",
       "  'stood',\n",
       "  'together',\n",
       "  'in',\n",
       "  'the',\n",
       "  'sept',\n",
       "  'at',\n",
       "  'riverrun',\n",
       "  'to',\n",
       "  'wed',\n",
       "  'two',\n",
       "  'sisters',\n",
       "  'the',\n",
       "  'daughters',\n",
       "  'of',\n",
       "  'lord',\n",
       "  'hoster',\n",
       "  'tully'],\n",
       " ['jon'],\n",
       " [],\n",
       " [],\n",
       " ['he', 'said'],\n",
       " ['is', 'this', 'news', 'certain'],\n",
       " ['it',\n",
       "  'was',\n",
       "  'the',\n",
       "  'king',\n",
       "  'seal',\n",
       "  'and',\n",
       "  'the',\n",
       "  'letter',\n",
       "  'is',\n",
       "  'in',\n",
       "  'robert',\n",
       "  'own',\n",
       "  'hand'],\n",
       " ['saved', 'it', 'for', 'you'],\n",
       " ['he', 'said', 'lord', 'arryn', 'was', 'taken', 'quickly'],\n",
       " ['even',\n",
       "  'maester',\n",
       "  'pycelle',\n",
       "  'was',\n",
       "  'helpless',\n",
       "  'but',\n",
       "  'he',\n",
       "  'brought',\n",
       "  'the',\n",
       "  'milk',\n",
       "  'of',\n",
       "  'the',\n",
       "  'poppy',\n",
       "  'so',\n",
       "  'jon',\n",
       "  'did',\n",
       "  'not',\n",
       "  'linger',\n",
       "  'long',\n",
       "  'in',\n",
       "  'pain'],\n",
       " ['that', 'is', 'some', 'small', 'mercy', 'suppose', 'he', 'said'],\n",
       " ['she',\n",
       "  'could',\n",
       "  'see',\n",
       "  'the',\n",
       "  'grief',\n",
       "  'on',\n",
       "  'his',\n",
       "  'face',\n",
       "  'but',\n",
       "  'even',\n",
       "  'then',\n",
       "  'he',\n",
       "  'thought',\n",
       "  'first',\n",
       "  'of',\n",
       "  'her'],\n",
       " ['your', 'sister', 'he', 'said'],\n",
       " ['and', 'jon', 'boy'],\n",
       " ['what', 'word', 'of', 'them'],\n",
       " ['the',\n",
       "  'message',\n",
       "  'said',\n",
       "  'only',\n",
       "  'that',\n",
       "  'they',\n",
       "  'were',\n",
       "  'well',\n",
       "  'and',\n",
       "  'had',\n",
       "  'returned',\n",
       "  'to',\n",
       "  'the',\n",
       "  'eyrie',\n",
       "  'catelyn',\n",
       "  'said'],\n",
       " ['wish', 'they', 'had', 'gone', 'to', 'riverrun', 'instead'],\n",
       " ['the',\n",
       "  'eyrie',\n",
       "  'is',\n",
       "  'high',\n",
       "  'and',\n",
       "  'lonely',\n",
       "  'and',\n",
       "  'it',\n",
       "  'was',\n",
       "  'ever',\n",
       "  'her',\n",
       "  'husband',\n",
       "  'place',\n",
       "  'not',\n",
       "  'hers'],\n",
       " ['lord', 'jon', 'memory', 'will', 'haunt', 'each', 'stone'],\n",
       " ['know', 'my', 'sister'],\n",
       " ['she',\n",
       "  'needs',\n",
       "  'the',\n",
       "  'comfort',\n",
       "  'of',\n",
       "  'family',\n",
       "  'and',\n",
       "  'friends',\n",
       "  'around',\n",
       "  'her'],\n",
       " ['your', 'uncle', 'waits', 'in', 'the', 'vale', 'does', 'he', 'not'],\n",
       " ['jon', 'named', 'him', 'knight', 'of', 'the', 'gate', 'heard'],\n",
       " ['catelyn', 'nodded'],\n",
       " ['brynden',\n",
       "  'will',\n",
       "  'do',\n",
       "  'what',\n",
       "  'he',\n",
       "  'can',\n",
       "  'for',\n",
       "  'her',\n",
       "  'and',\n",
       "  'for',\n",
       "  'the',\n",
       "  'boy'],\n",
       " ['that', 'is', 'some', 'comfort', 'but', 'still'],\n",
       " [],\n",
       " [],\n",
       " ['go', 'to', 'her', 'ned', 'urged'],\n",
       " ['take', 'the', 'children'],\n",
       " ['fill', 'her', 'halls', 'with', 'noise', 'and', 'shouts', 'and', 'laughter'],\n",
       " ['that',\n",
       "  'boy',\n",
       "  'of',\n",
       "  'hers',\n",
       "  'needs',\n",
       "  'other',\n",
       "  'children',\n",
       "  'about',\n",
       "  'him',\n",
       "  'and',\n",
       "  'lysa',\n",
       "  'should',\n",
       "  'not',\n",
       "  'be',\n",
       "  'alone',\n",
       "  'in',\n",
       "  'her',\n",
       "  'grief'],\n",
       " ['would', 'that', 'could', 'catelyn', 'said'],\n",
       " ['the', 'letter', 'had', 'other', 'tidings'],\n",
       " ['the',\n",
       "  'king',\n",
       "  'is',\n",
       "  'riding',\n",
       "  'to',\n",
       "  'winterfell',\n",
       "  'to',\n",
       "  'seek',\n",
       "  'you',\n",
       "  'out'],\n",
       " ['it',\n",
       "  'took',\n",
       "  'ned',\n",
       "  'moment',\n",
       "  'to',\n",
       "  'comprehend',\n",
       "  'her',\n",
       "  'words',\n",
       "  'but',\n",
       "  'when',\n",
       "  'the',\n",
       "  'understanding',\n",
       "  'came',\n",
       "  'the',\n",
       "  'darkness',\n",
       "  'left',\n",
       "  'his',\n",
       "  'eyes'],\n",
       " ['robert', 'is', 'coming', 'here'],\n",
       " ['when', 'she', 'nodded', 'smile', 'broke', 'across', 'his', 'face'],\n",
       " ['catelyn', 'wished', 'she', 'could', 'share', 'his', 'joy'],\n",
       " ['but',\n",
       "  'she',\n",
       "  'had',\n",
       "  'heard',\n",
       "  'the',\n",
       "  'talk',\n",
       "  'in',\n",
       "  'the',\n",
       "  'yards',\n",
       "  'direwolf',\n",
       "  'dead',\n",
       "  'in',\n",
       "  'the',\n",
       "  'snow',\n",
       "  'broken',\n",
       "  'antler',\n",
       "  'in',\n",
       "  'its',\n",
       "  'throat'],\n",
       " ['dread',\n",
       "  'coiled',\n",
       "  'within',\n",
       "  'her',\n",
       "  'like',\n",
       "  'snake',\n",
       "  'but',\n",
       "  'she',\n",
       "  'forced',\n",
       "  'herself',\n",
       "  'to',\n",
       "  'smile',\n",
       "  'at',\n",
       "  'this',\n",
       "  'man',\n",
       "  'she',\n",
       "  'loved',\n",
       "  'this',\n",
       "  'man',\n",
       "  'who',\n",
       "  'put',\n",
       "  'no',\n",
       "  'faith',\n",
       "  'in',\n",
       "  'signs'],\n",
       " ['knew', 'that', 'would', 'please', 'you', 'she', 'said'],\n",
       " ['we',\n",
       "  'should',\n",
       "  'send',\n",
       "  'word',\n",
       "  'to',\n",
       "  'your',\n",
       "  'brother',\n",
       "  'on',\n",
       "  'the',\n",
       "  'wall'],\n",
       " ['yes', 'of', 'course', 'he', 'agreed'],\n",
       " ['ben', 'will', 'want', 'to', 'be', 'here'],\n",
       " ['shall',\n",
       "  'tell',\n",
       "  'maester',\n",
       "  'luwin',\n",
       "  'to',\n",
       "  'send',\n",
       "  'his',\n",
       "  'swiftest',\n",
       "  'bird'],\n",
       " ['ned', 'rose', 'and', 'pulled', 'her', 'to', 'her', 'feet'],\n",
       " ['damnation', 'how', 'many', 'years', 'has', 'it', 'been'],\n",
       " ['and', 'he', 'gives', 'us', 'no', 'more', 'notice', 'than', 'this'],\n",
       " ['how', 'many', 'in', 'his', 'party', 'did', 'the', 'message', 'say'],\n",
       " ['should',\n",
       "  'think',\n",
       "  'hundred',\n",
       "  'knights',\n",
       "  'at',\n",
       "  'the',\n",
       "  'least',\n",
       "  'with',\n",
       "  'all',\n",
       "  'their',\n",
       "  'retainers',\n",
       "  'and',\n",
       "  'half',\n",
       "  'again',\n",
       "  'as',\n",
       "  'many',\n",
       "  'freeriders'],\n",
       " ['page', 'cersei', 'and', 'the', 'children', 'travel', 'with', 'them'],\n",
       " ['robert',\n",
       "  'will',\n",
       "  'keep',\n",
       "  'an',\n",
       "  'easy',\n",
       "  'pace',\n",
       "  'for',\n",
       "  'their',\n",
       "  'sakes',\n",
       "  'he',\n",
       "  'said'],\n",
       " ['it', 'is', 'just', 'as', 'well'],\n",
       " ['that', 'will', 'give', 'us', 'more', 'time', 'to', 'prepare'],\n",
       " ['the',\n",
       "  'queen',\n",
       "  'brothers',\n",
       "  'are',\n",
       "  'also',\n",
       "  'in',\n",
       "  'the',\n",
       "  'party',\n",
       "  'she',\n",
       "  'told',\n",
       "  'him'],\n",
       " ['ned', 'grimaced', 'at', 'that'],\n",
       " ['there',\n",
       "  'was',\n",
       "  'small',\n",
       "  'love',\n",
       "  'between',\n",
       "  'him',\n",
       "  'and',\n",
       "  'the',\n",
       "  'queen',\n",
       "  'family',\n",
       "  'catelyn',\n",
       "  'knew'],\n",
       " ['the',\n",
       "  'lannisters',\n",
       "  'of',\n",
       "  'casterly',\n",
       "  'rock',\n",
       "  'had',\n",
       "  'come',\n",
       "  'late',\n",
       "  'to',\n",
       "  'robert',\n",
       "  'cause',\n",
       "  'when',\n",
       "  'victory',\n",
       "  'was',\n",
       "  'all',\n",
       "  'but',\n",
       "  'certain',\n",
       "  'and',\n",
       "  'he',\n",
       "  'had',\n",
       "  'never',\n",
       "  'forgiven',\n",
       "  'them'],\n",
       " ['well',\n",
       "  'if',\n",
       "  'the',\n",
       "  'price',\n",
       "  'for',\n",
       "  'robert',\n",
       "  'company',\n",
       "  'is',\n",
       "  'an',\n",
       "  'infestation',\n",
       "  'of',\n",
       "  'lannisters',\n",
       "  'so',\n",
       "  'be',\n",
       "  'it'],\n",
       " ['it',\n",
       "  'sounds',\n",
       "  'as',\n",
       "  'though',\n",
       "  'robert',\n",
       "  'is',\n",
       "  'bringing',\n",
       "  'half',\n",
       "  'his',\n",
       "  'court'],\n",
       " ['where', 'the', 'king', 'goes', 'the', 'realm', 'follows', 'she', 'said'],\n",
       " ['it', 'will', 'be', 'good', 'to', 'see', 'the', 'children'],\n",
       " ['the',\n",
       "  'youngest',\n",
       "  'was',\n",
       "  'still',\n",
       "  'sucking',\n",
       "  'at',\n",
       "  'the',\n",
       "  'lannister',\n",
       "  'woman',\n",
       "  'teat',\n",
       "  'the',\n",
       "  'last',\n",
       "  'time',\n",
       "  'saw',\n",
       "  'him'],\n",
       " ['he', 'must', 'be', 'what', 'five', 'by', 'now'],\n",
       " ['prince', 'tornmen', 'is', 'seven', 'she', 'told', 'him'],\n",
       " ['the', 'same', 'age', 'as', 'bran'],\n",
       " ['please', 'ned', 'guard', 'your', 'tongue'],\n",
       " ['the',\n",
       "  'lannister',\n",
       "  'woman',\n",
       "  'is',\n",
       "  'our',\n",
       "  'queen',\n",
       "  'and',\n",
       "  'her',\n",
       "  'pride',\n",
       "  'is',\n",
       "  'said',\n",
       "  'to',\n",
       "  'grow',\n",
       "  'with',\n",
       "  'every',\n",
       "  'passing',\n",
       "  'year'],\n",
       " ['ned', 'squeezed', 'her', 'hand'],\n",
       " ['there',\n",
       "  'must',\n",
       "  'be',\n",
       "  'feast',\n",
       "  'of',\n",
       "  'course',\n",
       "  'with',\n",
       "  'singers',\n",
       "  'and',\n",
       "  'robert',\n",
       "  'will',\n",
       "  'want',\n",
       "  'to',\n",
       "  'hunt'],\n",
       " ['shall',\n",
       "  'send',\n",
       "  'jory',\n",
       "  'south',\n",
       "  'with',\n",
       "  'an',\n",
       "  'honor',\n",
       "  'guard',\n",
       "  'to',\n",
       "  'meet',\n",
       "  'them',\n",
       "  'on',\n",
       "  'the',\n",
       "  'kingsroad',\n",
       "  'and',\n",
       "  'escort',\n",
       "  'them',\n",
       "  'back'],\n",
       " ['gods', 'how', 'are', 'we', 'going', 'to', 'feed', 'them', 'all'],\n",
       " ['on', 'his', 'way', 'already', 'you', 'said'],\n",
       " ['damn', 'the', 'man'],\n",
       " ['damn', 'his', 'royal', 'hide'],\n",
       " ['daenerys',\n",
       "  'her',\n",
       "  'brother',\n",
       "  'held',\n",
       "  'the',\n",
       "  'gown',\n",
       "  'up',\n",
       "  'for',\n",
       "  'her',\n",
       "  'inspection'],\n",
       " ['this', 'is', 'beauty'],\n",
       " ['touch', 'it'],\n",
       " ['go', 'on'],\n",
       " ['caress', 'the', 'fabric'],\n",
       " ['dany', 'touched', 'it'],\n",
       " ['the',\n",
       "  'cloth',\n",
       "  'was',\n",
       "  'so',\n",
       "  'smooth',\n",
       "  'that',\n",
       "  'it',\n",
       "  'seemed',\n",
       "  'to',\n",
       "  'run',\n",
       "  'through',\n",
       "  'her',\n",
       "  'fingers',\n",
       "  'like',\n",
       "  'water'],\n",
       " ['she',\n",
       "  'could',\n",
       "  'not',\n",
       "  'remember',\n",
       "  'ever',\n",
       "  'wearing',\n",
       "  'anything',\n",
       "  'so',\n",
       "  'soft'],\n",
       " ['it', 'frightened', 'her'],\n",
       " ['she', 'pulled', 'her', 'hand', 'away'],\n",
       " ['is', 'it', 'really', 'mine'],\n",
       " ['gift', 'from', 'the', 'magister', 'illyrio', 'viserys', 'said', 'smiling'],\n",
       " ['her', 'brother', 'was', 'in', 'high', 'mood', 'tonight'],\n",
       " ['the',\n",
       "  'color',\n",
       "  'will',\n",
       "  'bring',\n",
       "  'out',\n",
       "  'the',\n",
       "  'violet',\n",
       "  'in',\n",
       "  'your',\n",
       "  'eyes'],\n",
       " ['and',\n",
       "  'you',\n",
       "  'shall',\n",
       "  'have',\n",
       "  'gold',\n",
       "  'as',\n",
       "  'well',\n",
       "  'and',\n",
       "  'jewels',\n",
       "  'of',\n",
       "  'all',\n",
       "  'sorts'],\n",
       " ['illyrio', 'has', 'promised'],\n",
       " ['tonight', 'you', 'must', 'look', 'like', 'princess'],\n",
       " ['princess', 'dany', 'thought'],\n",
       " ['she', 'had', 'forgotten', 'what', 'that', 'was', 'like'],\n",
       " ['perhaps', 'she', 'had', 'never', 'really', 'known'],\n",
       " ['why', 'does', 'he', 'give', 'us', 'so', 'much'],\n",
       " ['she', 'asked'],\n",
       " ['what', 'does', 'he', 'want', 'from', 'us'],\n",
       " ['for',\n",
       "  'nigh',\n",
       "  'on',\n",
       "  'half',\n",
       "  'year',\n",
       "  'they',\n",
       "  'had',\n",
       "  'lived',\n",
       "  'in',\n",
       "  'the',\n",
       "  'magister',\n",
       "  'house',\n",
       "  'eating',\n",
       "  'his',\n",
       "  'food',\n",
       "  'pampered',\n",
       "  'by',\n",
       "  'his',\n",
       "  'servants'],\n",
       " ['dany',\n",
       "  'was',\n",
       "  'thirteen',\n",
       "  'old',\n",
       "  'enough',\n",
       "  'to',\n",
       "  'know',\n",
       "  'that',\n",
       "  'such',\n",
       "  'gifts',\n",
       "  'seldom',\n",
       "  'come',\n",
       "  'without',\n",
       "  'their',\n",
       "  'price',\n",
       "  'here',\n",
       "  'in',\n",
       "  'the',\n",
       "  'free',\n",
       "  'city',\n",
       "  'of',\n",
       "  'pentos'],\n",
       " ['illyrio', 'is', 'no', 'fool', 'viserys', 'said'],\n",
       " ['he',\n",
       "  'was',\n",
       "  'gaunt',\n",
       "  'young',\n",
       "  'man',\n",
       "  'with',\n",
       "  'nervous',\n",
       "  'hands',\n",
       "  'and',\n",
       "  'feverish',\n",
       "  'look',\n",
       "  'in',\n",
       "  'his',\n",
       "  'pale',\n",
       "  'lilac',\n",
       "  'eyes'],\n",
       " ['the',\n",
       "  'magister',\n",
       "  'knows',\n",
       "  'that',\n",
       "  'will',\n",
       "  'not',\n",
       "  'forget',\n",
       "  'my',\n",
       "  'friends',\n",
       "  'when',\n",
       "  'come',\n",
       "  'into',\n",
       "  'my',\n",
       "  'throne'],\n",
       " ['dany', 'said', 'nothing'],\n",
       " ['magister',\n",
       "  'illyrio',\n",
       "  'was',\n",
       "  'dealer',\n",
       "  'in',\n",
       "  'spices',\n",
       "  'gemstones',\n",
       "  'dragonbone',\n",
       "  'and',\n",
       "  'other',\n",
       "  'less',\n",
       "  'savory',\n",
       "  'things'],\n",
       " ['he',\n",
       "  'had',\n",
       "  'friends',\n",
       "  'in',\n",
       "  'all',\n",
       "  'of',\n",
       "  'the',\n",
       "  'nine',\n",
       "  'free',\n",
       "  'cities',\n",
       "  'it',\n",
       "  'was',\n",
       "  'said',\n",
       "  'and',\n",
       "  'even',\n",
       "  'beyond',\n",
       "  'in',\n",
       "  'vaes',\n",
       "  'dothrak',\n",
       "  'and',\n",
       "  'the',\n",
       "  'fabled',\n",
       "  'lands',\n",
       "  'beside',\n",
       "  'the',\n",
       "  'jade',\n",
       "  'sea'],\n",
       " ['it',\n",
       "  'was',\n",
       "  'also',\n",
       "  'said',\n",
       "  'that',\n",
       "  'he',\n",
       "  'never',\n",
       "  'had',\n",
       "  'friend',\n",
       "  'he',\n",
       "  'wouldn',\n",
       "  'page',\n",
       "  'cheerfully',\n",
       "  'sell',\n",
       "  'for',\n",
       "  'the',\n",
       "  'right',\n",
       "  'price'],\n",
       " ['dany',\n",
       "  'listened',\n",
       "  'to',\n",
       "  'the',\n",
       "  'talk',\n",
       "  'in',\n",
       "  'the',\n",
       "  'streets',\n",
       "  'and',\n",
       "  'she',\n",
       "  'heard',\n",
       "  'these',\n",
       "  'things',\n",
       "  'but',\n",
       "  'she',\n",
       "  'knew',\n",
       "  'better',\n",
       "  'than',\n",
       "  'to',\n",
       "  'question',\n",
       "  'her',\n",
       "  'brother',\n",
       "  'when',\n",
       "  'he',\n",
       "  'wove',\n",
       "  'his',\n",
       "  'webs',\n",
       "  'of',\n",
       "  'dream'],\n",
       " ['his', 'anger', 'was', 'terrible', 'thing', 'when', 'roused'],\n",
       " ['viserys', 'called', 'it', 'waking', 'the', 'dragon'],\n",
       " ['her', 'brother', 'hung', 'the', 'gown', 'beside', 'the', 'door'],\n",
       " ['illyrio', 'will', 'send', 'the', 'slaves', 'to', 'bathe', 'you'],\n",
       " ['be', 'sure', 'you', 'wash', 'off', 'the', 'stink', 'of', 'the', 'stables'],\n",
       " ['khal',\n",
       "  'drogo',\n",
       "  'has',\n",
       "  'thousand',\n",
       "  'horses',\n",
       "  'tonight',\n",
       "  'he',\n",
       "  'looks',\n",
       "  'for',\n",
       "  'different',\n",
       "  'sort',\n",
       "  'of',\n",
       "  'mount'],\n",
       " ['he', 'studied', 'her', 'critically'],\n",
       " ['you', 'still', 'slouch'],\n",
       " ['straighten',\n",
       "  'yourself',\n",
       "  'he',\n",
       "  'pushed',\n",
       "  'back',\n",
       "  'her',\n",
       "  'shoulders',\n",
       "  'with',\n",
       "  'his',\n",
       "  'hands'],\n",
       " ['let', 'them', 'see', 'that', 'you', 'have', 'woman', 'shape', 'now'],\n",
       " ['his',\n",
       "  'fingers',\n",
       "  'brushed',\n",
       "  'lightly',\n",
       "  'over',\n",
       "  'her',\n",
       "  'budding',\n",
       "  'breasts',\n",
       "  'and',\n",
       "  'tightened',\n",
       "  'on',\n",
       "  'nipple'],\n",
       " ['you', 'will', 'not', 'fail', 'me', 'tonight'],\n",
       " ['if', 'you', 'do', 'it', 'will', 'go', 'hard', 'for', 'you'],\n",
       " ['you', 'don', 'want', 'to', 'wake', 'the', 'dragon', 'do', 'you'],\n",
       " ['his',\n",
       "  'fingers',\n",
       "  'twisted',\n",
       "  'her',\n",
       "  'the',\n",
       "  'pinch',\n",
       "  'cruelly',\n",
       "  'hard',\n",
       "  'through',\n",
       "  'the',\n",
       "  'rough',\n",
       "  'fabric',\n",
       "  'of',\n",
       "  'her',\n",
       "  'tunic'],\n",
       " ['do', 'you'],\n",
       " ['he', 'repeated'],\n",
       " ['no', 'dany', 'said', 'meekly'],\n",
       " ['her', 'brother', 'smiled'],\n",
       " ['good'],\n",
       " ['he', 'touched', 'her', 'hair', 'almost', 'with', 'affection'],\n",
       " ['when',\n",
       "  'they',\n",
       "  'write',\n",
       "  'the',\n",
       "  'history',\n",
       "  'of',\n",
       "  'my',\n",
       "  'reign',\n",
       "  'sweet',\n",
       "  'sister',\n",
       "  'they',\n",
       "  'will',\n",
       "  'say',\n",
       "  'that',\n",
       "  'it',\n",
       "  'began',\n",
       "  'tonight'],\n",
       " ['when',\n",
       "  'he',\n",
       "  'was',\n",
       "  'gone',\n",
       "  'dany',\n",
       "  'went',\n",
       "  'to',\n",
       "  'her',\n",
       "  'window',\n",
       "  'and',\n",
       "  'looked',\n",
       "  'out',\n",
       "  'wistfully',\n",
       "  'on',\n",
       "  'the',\n",
       "  'waters',\n",
       "  'of',\n",
       "  'the',\n",
       "  'bay'],\n",
       " ['the',\n",
       "  'square',\n",
       "  'brick',\n",
       "  'towers',\n",
       "  'of',\n",
       "  'pentos',\n",
       "  'were',\n",
       "  'black',\n",
       "  'silhouettes',\n",
       "  'outlined',\n",
       "  'against',\n",
       "  'the',\n",
       "  'setting',\n",
       "  'sun'],\n",
       " ['dany',\n",
       "  'could',\n",
       "  'hear',\n",
       "  'the',\n",
       "  'singing',\n",
       "  'of',\n",
       "  'the',\n",
       "  'red',\n",
       "  'priests',\n",
       "  'as',\n",
       "  'they',\n",
       "  'lit',\n",
       "  'their',\n",
       "  'night',\n",
       "  'fires',\n",
       "  'and',\n",
       "  'the',\n",
       "  'shouts',\n",
       "  'of',\n",
       "  'ragged',\n",
       "  'children',\n",
       "  'playing',\n",
       "  'games',\n",
       "  'beyond',\n",
       "  'the',\n",
       "  'walls',\n",
       "  'of',\n",
       "  'the',\n",
       "  'estate'],\n",
       " ['for',\n",
       "  'moment',\n",
       "  'she',\n",
       "  'wished',\n",
       "  'she',\n",
       "  'could',\n",
       "  'be',\n",
       "  'out',\n",
       "  'there',\n",
       "  'with',\n",
       "  'them',\n",
       "  'barefoot',\n",
       "  'and',\n",
       "  'breathless',\n",
       "  'and',\n",
       "  'dressed',\n",
       "  'in',\n",
       "  'tatters',\n",
       "  'with',\n",
       "  'no',\n",
       "  'past',\n",
       "  'and',\n",
       "  'no',\n",
       "  'future',\n",
       "  'and',\n",
       "  'no',\n",
       "  'feast',\n",
       "  'to',\n",
       "  'attend',\n",
       "  'at',\n",
       "  'khal',\n",
       "  'drogo',\n",
       "  'manse'],\n",
       " ['somewhere',\n",
       "  'beyond',\n",
       "  'the',\n",
       "  'sunset',\n",
       "  'across',\n",
       "  'the',\n",
       "  'narrow',\n",
       "  'sea',\n",
       "  'lay',\n",
       "  'land',\n",
       "  'of',\n",
       "  'green',\n",
       "  'hills',\n",
       "  'and',\n",
       "  'flowered',\n",
       "  'plains',\n",
       "  'and',\n",
       "  'great',\n",
       "  'rushing',\n",
       "  'rivers',\n",
       "  'where',\n",
       "  'towers',\n",
       "  'of',\n",
       "  'dark',\n",
       "  'stone',\n",
       "  'rose',\n",
       "  'amidst',\n",
       "  'magnificent',\n",
       "  'blue',\n",
       "  'grey',\n",
       "  'mountains',\n",
       "  'and',\n",
       "  'armored',\n",
       "  'knights',\n",
       "  'rode',\n",
       "  'to',\n",
       "  'battle',\n",
       "  'beneath',\n",
       "  'the',\n",
       "  'banners',\n",
       "  'of',\n",
       "  'their',\n",
       "  'lords'],\n",
       " ['the',\n",
       "  'dothraki',\n",
       "  'called',\n",
       "  'that',\n",
       "  'land',\n",
       "  'rhaesh',\n",
       "  'andahli',\n",
       "  'the',\n",
       "  'land',\n",
       "  'of',\n",
       "  'the',\n",
       "  'andals'],\n",
       " ['in',\n",
       "  'the',\n",
       "  'free',\n",
       "  'cities',\n",
       "  'they',\n",
       "  'talked',\n",
       "  'of',\n",
       "  'westeros',\n",
       "  'and',\n",
       "  'the',\n",
       "  'sunset',\n",
       "  'kingdoms'],\n",
       " ['her', 'brother', 'had', 'simpler', 'name'],\n",
       " ['our', 'land', 'he', 'called', 'it'],\n",
       " ['the', 'words', 'were', 'like', 'prayer', 'with', 'him'],\n",
       " ['if',\n",
       "  'he',\n",
       "  'said',\n",
       "  'them',\n",
       "  'enough',\n",
       "  'the',\n",
       "  'gods',\n",
       "  'were',\n",
       "  'sure',\n",
       "  'to',\n",
       "  'hear'],\n",
       " ['ours',\n",
       "  'by',\n",
       "  'blood',\n",
       "  'right',\n",
       "  'taken',\n",
       "  'from',\n",
       "  'us',\n",
       "  'by',\n",
       "  'treachery',\n",
       "  'but',\n",
       "  'ours',\n",
       "  'still',\n",
       "  'ours',\n",
       "  'forever'],\n",
       " ['you', 'do', 'not', 'steal', 'from', 'the', 'dragon', 'oh', 'no'],\n",
       " ['the', 'dragon', 'remembers'],\n",
       " ['and',\n",
       "  'perhaps',\n",
       "  'the',\n",
       "  'dragon',\n",
       "  'did',\n",
       "  'remember',\n",
       "  'but',\n",
       "  'dany',\n",
       "  'could',\n",
       "  'not'],\n",
       " ['she',\n",
       "  'had',\n",
       "  'never',\n",
       "  'seen',\n",
       "  'this',\n",
       "  'land',\n",
       "  'her',\n",
       "  'brother',\n",
       "  'said',\n",
       "  'was',\n",
       "  'theirs',\n",
       "  'this',\n",
       "  'realm',\n",
       "  'beyond',\n",
       "  'the',\n",
       "  'narrow',\n",
       "  'sea'],\n",
       " ['these',\n",
       "  'places',\n",
       "  'he',\n",
       "  'talked',\n",
       "  'of',\n",
       "  'casterly',\n",
       "  'rock',\n",
       "  'and',\n",
       "  'the',\n",
       "  'eyrie',\n",
       "  'highgarden',\n",
       "  'and',\n",
       "  'the',\n",
       "  'vale',\n",
       "  'of',\n",
       "  'arryn',\n",
       "  'dorne',\n",
       "  'and',\n",
       "  'the',\n",
       "  'isle',\n",
       "  'of',\n",
       "  'faces',\n",
       "  'they',\n",
       "  'were',\n",
       "  'just',\n",
       "  'words',\n",
       "  'to',\n",
       "  'her'],\n",
       " ['viserys',\n",
       "  'had',\n",
       "  'been',\n",
       "  'boy',\n",
       "  'of',\n",
       "  'eight',\n",
       "  'when',\n",
       "  'they',\n",
       "  'fled',\n",
       "  'king',\n",
       "  'landing',\n",
       "  'to',\n",
       "  'escape',\n",
       "  'the',\n",
       "  'advancing',\n",
       "  'armies',\n",
       "  'of',\n",
       "  'the',\n",
       "  'usurper',\n",
       "  'but',\n",
       "  'daenerys',\n",
       "  'had',\n",
       "  'been',\n",
       "  'only',\n",
       "  'quickening',\n",
       "  'in',\n",
       "  'their',\n",
       "  'mother',\n",
       "  'womb'],\n",
       " ['yet',\n",
       "  'sometimes',\n",
       "  'dany',\n",
       "  'would',\n",
       "  'picture',\n",
       "  'the',\n",
       "  'way',\n",
       "  'it',\n",
       "  'had',\n",
       "  'been',\n",
       "  'so',\n",
       "  'often',\n",
       "  'had',\n",
       "  'her',\n",
       "  'brother',\n",
       "  'told',\n",
       "  'her',\n",
       "  'the',\n",
       "  'stories'],\n",
       " ['the',\n",
       "  'midnight',\n",
       "  'flight',\n",
       "  'to',\n",
       "  'dragonstone',\n",
       "  'moonlight',\n",
       "  'shimmering',\n",
       "  'on',\n",
       "  'the',\n",
       "  'ship',\n",
       "  'black',\n",
       "  'sails'],\n",
       " ['her',\n",
       "  'brother',\n",
       "  'rhaegar',\n",
       "  'battling',\n",
       "  'the',\n",
       "  'usurper',\n",
       "  'in',\n",
       "  'the',\n",
       "  'bloody',\n",
       "  'waters',\n",
       "  'of',\n",
       "  'the',\n",
       "  'trident',\n",
       "  'and',\n",
       "  'dying',\n",
       "  'for',\n",
       "  'the',\n",
       "  'woman',\n",
       "  'he',\n",
       "  'loved'],\n",
       " ['the',\n",
       "  'sack',\n",
       "  'of',\n",
       "  'king',\n",
       "  'landing',\n",
       "  'by',\n",
       "  'the',\n",
       "  'ones',\n",
       "  'viserys',\n",
       "  'called',\n",
       "  'the',\n",
       "  'usurper',\n",
       "  'dogs',\n",
       "  'the',\n",
       "  'lords',\n",
       "  'lannister',\n",
       "  'and',\n",
       "  'stark'],\n",
       " ['princess',\n",
       "  'elia',\n",
       "  'of',\n",
       "  'dorne',\n",
       "  'pleading',\n",
       "  'for',\n",
       "  'mercy',\n",
       "  'as',\n",
       "  'rhaegar',\n",
       "  'heir',\n",
       "  'was',\n",
       "  'ripped',\n",
       "  'from',\n",
       "  'her',\n",
       "  'breast',\n",
       "  'and',\n",
       "  'murdered',\n",
       "  'before',\n",
       "  'her',\n",
       "  'eyes'],\n",
       " ['the',\n",
       "  'polished',\n",
       "  'skulls',\n",
       "  'of',\n",
       "  'the',\n",
       "  'last',\n",
       "  'dragons',\n",
       "  'staring',\n",
       "  'down',\n",
       "  'sightlessly',\n",
       "  'from',\n",
       "  'the',\n",
       "  'walls',\n",
       "  'of',\n",
       "  'the',\n",
       "  'throne',\n",
       "  'room',\n",
       "  'while',\n",
       "  'the',\n",
       "  'kingslayer',\n",
       "  'opened',\n",
       "  'father',\n",
       "  'throat',\n",
       "  'with',\n",
       "  'golden',\n",
       "  'sword'],\n",
       " ['she',\n",
       "  'had',\n",
       "  'been',\n",
       "  'born',\n",
       "  'on',\n",
       "  'dragonstone',\n",
       "  'nine',\n",
       "  'moons',\n",
       "  'after',\n",
       "  'their',\n",
       "  'flight',\n",
       "  'while',\n",
       "  'raging',\n",
       "  'summer',\n",
       "  'storm',\n",
       "  'threatened',\n",
       "  'to',\n",
       "  'rip',\n",
       "  'the',\n",
       "  'island',\n",
       "  'fastness',\n",
       "  'apart'],\n",
       " ['they', 'said', 'that', 'storm', 'was', 'terrible'],\n",
       " ['the',\n",
       "  'targaryen',\n",
       "  'fleet',\n",
       "  'was',\n",
       "  'smashed',\n",
       "  'while',\n",
       "  'it',\n",
       "  'lay',\n",
       "  'at',\n",
       "  'anchor',\n",
       "  'and',\n",
       "  'huge',\n",
       "  'stone',\n",
       "  'blocks',\n",
       "  'were',\n",
       "  'ripped',\n",
       "  'from',\n",
       "  'the',\n",
       "  'parapets',\n",
       "  'and',\n",
       "  'sent',\n",
       "  'hurtling',\n",
       "  'into',\n",
       "  'the',\n",
       "  'wild',\n",
       "  'waters',\n",
       "  'of',\n",
       "  'the',\n",
       "  'narrow',\n",
       "  'sea'],\n",
       " ['her',\n",
       "  'mother',\n",
       "  'had',\n",
       "  'died',\n",
       "  'birthing',\n",
       "  'her',\n",
       "  'and',\n",
       "  'for',\n",
       "  'that',\n",
       "  'her',\n",
       "  'brother',\n",
       "  'viserys',\n",
       "  'had',\n",
       "  'never',\n",
       "  'page',\n",
       "  'forgiven',\n",
       "  'her'],\n",
       " ['she', 'did', 'not', 'remember', 'dragonstone', 'either'],\n",
       " ['they',\n",
       "  'had',\n",
       "  'run',\n",
       "  'again',\n",
       "  'just',\n",
       "  'before',\n",
       "  'the',\n",
       "  'usurper',\n",
       "  'brother',\n",
       "  'set',\n",
       "  'sail',\n",
       "  'with',\n",
       "  'his',\n",
       "  'new',\n",
       "  'built',\n",
       "  'fleet'],\n",
       " ['by',\n",
       "  'then',\n",
       "  'only',\n",
       "  'dragonstone',\n",
       "  'itself',\n",
       "  'the',\n",
       "  'ancient',\n",
       "  'seat',\n",
       "  'of',\n",
       "  'their',\n",
       "  'house',\n",
       "  'had',\n",
       "  'remained',\n",
       "  'of',\n",
       "  'the',\n",
       "  'seven',\n",
       "  'kingdoms',\n",
       "  'that',\n",
       "  'had',\n",
       "  'once',\n",
       "  'been',\n",
       "  'theirs'],\n",
       " ['it', 'would', 'not', 'remain', 'for', 'long'],\n",
       " ['the',\n",
       "  'garrison',\n",
       "  'had',\n",
       "  'been',\n",
       "  'prepared',\n",
       "  'to',\n",
       "  'sell',\n",
       "  'them',\n",
       "  'to',\n",
       "  'the',\n",
       "  'usurper',\n",
       "  'but',\n",
       "  'one',\n",
       "  'night',\n",
       "  'ser',\n",
       "  'willem',\n",
       "  'darry',\n",
       "  'and',\n",
       "  'four',\n",
       "  'loyal',\n",
       "  'men',\n",
       "  'had',\n",
       "  'broken',\n",
       "  'into',\n",
       "  'the',\n",
       "  'nursery',\n",
       "  'and',\n",
       "  'stolen',\n",
       "  'them',\n",
       "  'both',\n",
       "  'along',\n",
       "  'with',\n",
       "  'her',\n",
       "  'wet',\n",
       "  'nurse',\n",
       "  'and',\n",
       "  'set',\n",
       "  'sail',\n",
       "  'under',\n",
       "  'cover',\n",
       "  'of',\n",
       "  'darkness',\n",
       "  'for',\n",
       "  'the',\n",
       "  'safety',\n",
       "  'of',\n",
       "  'the',\n",
       "  'braavosian',\n",
       "  'coast'],\n",
       " ['she',\n",
       "  'remembered',\n",
       "  'ser',\n",
       "  'willem',\n",
       "  'dimly',\n",
       "  'great',\n",
       "  'grey',\n",
       "  'bear',\n",
       "  'of',\n",
       "  'man',\n",
       "  'halfblind',\n",
       "  'roaring',\n",
       "  'and',\n",
       "  'bellowing',\n",
       "  'orders',\n",
       "  'from',\n",
       "  'his',\n",
       "  'sickbed'],\n",
       " ['the',\n",
       "  'servants',\n",
       "  'had',\n",
       "  'lived',\n",
       "  'in',\n",
       "  'terror',\n",
       "  'of',\n",
       "  'him',\n",
       "  'but',\n",
       "  'he',\n",
       "  'had',\n",
       "  'always',\n",
       "  'been',\n",
       "  'kind',\n",
       "  'to',\n",
       "  'dany'],\n",
       " ['he',\n",
       "  'called',\n",
       "  'her',\n",
       "  'little',\n",
       "  'princess',\n",
       "  'and',\n",
       "  'sometimes',\n",
       "  'my',\n",
       "  'lady',\n",
       "  'and',\n",
       "  'his',\n",
       "  'hands',\n",
       "  'were',\n",
       "  'soft',\n",
       "  'as',\n",
       "  'old',\n",
       "  'leather'],\n",
       " ['he',\n",
       "  'never',\n",
       "  'left',\n",
       "  'his',\n",
       "  'bed',\n",
       "  'though',\n",
       "  'and',\n",
       "  'the',\n",
       "  'smell',\n",
       "  'of',\n",
       "  'sickness',\n",
       "  'clung',\n",
       "  'to',\n",
       "  'him',\n",
       "  'day',\n",
       "  'and',\n",
       "  'night',\n",
       "  'hot',\n",
       "  'moist',\n",
       "  'sickly',\n",
       "  'sweet',\n",
       "  'odor'],\n",
       " ['that',\n",
       "  'was',\n",
       "  'when',\n",
       "  'they',\n",
       "  'lived',\n",
       "  'in',\n",
       "  'braavos',\n",
       "  'in',\n",
       "  'the',\n",
       "  'big',\n",
       "  'house',\n",
       "  'with',\n",
       "  'the',\n",
       "  'red',\n",
       "  'door'],\n",
       " ['dany',\n",
       "  'had',\n",
       "  'her',\n",
       "  'own',\n",
       "  'room',\n",
       "  'there',\n",
       "  'with',\n",
       "  'lemon',\n",
       "  'tree',\n",
       "  'outside',\n",
       "  'her',\n",
       "  'window'],\n",
       " ['after',\n",
       "  'ser',\n",
       "  'willem',\n",
       "  'had',\n",
       "  'died',\n",
       "  'the',\n",
       "  'servants',\n",
       "  'had',\n",
       "  'stolen',\n",
       "  'what',\n",
       "  'little',\n",
       "  'money',\n",
       "  'they',\n",
       "  'had',\n",
       "  'left',\n",
       "  'and',\n",
       "  'soon',\n",
       "  'after',\n",
       "  'they',\n",
       "  'had',\n",
       "  'been',\n",
       "  'put',\n",
       "  'out',\n",
       "  'of',\n",
       "  'the',\n",
       "  'big',\n",
       "  'house'],\n",
       " ['dany',\n",
       "  'had',\n",
       "  'cried',\n",
       "  'when',\n",
       "  'the',\n",
       "  'red',\n",
       "  'door',\n",
       "  'closed',\n",
       "  'behind',\n",
       "  'them',\n",
       "  'forever'],\n",
       " ['they',\n",
       "  'had',\n",
       "  'wandered',\n",
       "  'since',\n",
       "  'then',\n",
       "  'from',\n",
       "  'braavos',\n",
       "  'to',\n",
       "  'myr',\n",
       "  'from',\n",
       "  'myr',\n",
       "  'to',\n",
       "  'tyrosh',\n",
       "  'and',\n",
       "  'on',\n",
       "  'to',\n",
       "  'qohor',\n",
       "  'and',\n",
       "  'volantis',\n",
       "  'and',\n",
       "  'lys',\n",
       "  'never',\n",
       "  'staying',\n",
       "  'long',\n",
       "  'in',\n",
       "  'any',\n",
       "  'one',\n",
       "  'place'],\n",
       " ['her', 'brother', 'would', 'not', 'allow', 'it'],\n",
       " ['the',\n",
       "  'usurper',\n",
       "  'hired',\n",
       "  'knives',\n",
       "  'were',\n",
       "  'close',\n",
       "  'behind',\n",
       "  'them',\n",
       "  'he',\n",
       "  'insisted',\n",
       "  'though',\n",
       "  'dany',\n",
       "  'had',\n",
       "  'never',\n",
       "  'seen',\n",
       "  'one'],\n",
       " ['at',\n",
       "  'first',\n",
       "  'the',\n",
       "  'magisters',\n",
       "  'and',\n",
       "  'archons',\n",
       "  'and',\n",
       "  'merchant',\n",
       "  'princes',\n",
       "  'were',\n",
       "  'pleased',\n",
       "  'to',\n",
       "  'welcome',\n",
       "  'the',\n",
       "  'last',\n",
       "  'targaryens',\n",
       "  'to',\n",
       "  'their',\n",
       "  'homes',\n",
       "  'and',\n",
       "  'tables',\n",
       "  'but',\n",
       "  'as',\n",
       "  'the',\n",
       "  'years',\n",
       "  'passed',\n",
       "  'and',\n",
       "  'the',\n",
       "  'usurper',\n",
       "  'continued',\n",
       "  'to',\n",
       "  'sit',\n",
       "  'upon',\n",
       "  'the',\n",
       "  'iron',\n",
       "  'throne',\n",
       "  'doors',\n",
       "  'closed',\n",
       "  'and',\n",
       "  'their',\n",
       "  'lives',\n",
       "  'grew',\n",
       "  'meaner'],\n",
       " ['years',\n",
       "  'past',\n",
       "  'they',\n",
       "  'had',\n",
       "  'been',\n",
       "  'forced',\n",
       "  'to',\n",
       "  'sell',\n",
       "  'their',\n",
       "  'last',\n",
       "  'few',\n",
       "  'treasures',\n",
       "  'and',\n",
       "  'now',\n",
       "  'even',\n",
       "  'the',\n",
       "  'coin',\n",
       "  'they',\n",
       "  'had',\n",
       "  'gotten',\n",
       "  'from',\n",
       "  'mother',\n",
       "  'crown',\n",
       "  'had',\n",
       "  'gone'],\n",
       " ['in',\n",
       "  'the',\n",
       "  'alleys',\n",
       "  'and',\n",
       "  'wine',\n",
       "  'sinks',\n",
       "  'of',\n",
       "  'pentos',\n",
       "  'they',\n",
       "  'called',\n",
       "  'her',\n",
       "  'brother',\n",
       "  'the',\n",
       "  'beggar',\n",
       "  'king'],\n",
       " ['dany', 'did', 'not', 'want', 'to', 'know', 'what', 'they', 'called', 'her'],\n",
       " ['we',\n",
       "  'will',\n",
       "  'have',\n",
       "  'it',\n",
       "  'all',\n",
       "  'back',\n",
       "  'someday',\n",
       "  'sweet',\n",
       "  'sister',\n",
       "  'he',\n",
       "  'would',\n",
       "  'promise',\n",
       "  'her'],\n",
       " ['sometimes', 'his', 'hands', 'shook', 'when', 'he', 'talked', 'about', 'it'],\n",
       " ['the',\n",
       "  'jewels',\n",
       "  'and',\n",
       "  'the',\n",
       "  'silks',\n",
       "  'dragonstone',\n",
       "  'and',\n",
       "  'king',\n",
       "  'landing',\n",
       "  'the',\n",
       "  'iron',\n",
       "  'throne',\n",
       "  'and',\n",
       "  'the',\n",
       "  'seven',\n",
       "  'kingdoms',\n",
       "  'all',\n",
       "  'they',\n",
       "  'have',\n",
       "  'taken',\n",
       "  'from',\n",
       "  'us',\n",
       "  'we',\n",
       "  'will',\n",
       "  'have',\n",
       "  'it',\n",
       "  'back'],\n",
       " ['viserys', 'lived', 'for', 'that', 'day'],\n",
       " ['all',\n",
       "  'that',\n",
       "  'daenerys',\n",
       "  'wanted',\n",
       "  'back',\n",
       "  'was',\n",
       "  'the',\n",
       "  'big',\n",
       "  'house',\n",
       "  'with',\n",
       "  'the',\n",
       "  'red',\n",
       "  'door',\n",
       "  'the',\n",
       "  'lemon',\n",
       "  'tree',\n",
       "  'outside',\n",
       "  'her',\n",
       "  'window',\n",
       "  'the',\n",
       "  'childhood',\n",
       "  'she',\n",
       "  'had',\n",
       "  'never',\n",
       "  'known'],\n",
       " ['there', 'came', 'soft', 'knock', 'on', 'her', 'door'],\n",
       " ['come', 'dany', 'said', 'turning', 'away', 'from', 'the', 'window'],\n",
       " ['illyrio',\n",
       "  'servants',\n",
       "  'entered',\n",
       "  'bowed',\n",
       "  'and',\n",
       "  'set',\n",
       "  'about',\n",
       "  'their',\n",
       "  'business'],\n",
       " ['they',\n",
       "  'were',\n",
       "  'slaves',\n",
       "  'gift',\n",
       "  'from',\n",
       "  'one',\n",
       "  'of',\n",
       "  'the',\n",
       "  'magister',\n",
       "  'many',\n",
       "  'dothraki',\n",
       "  'friends'],\n",
       " ['there',\n",
       "  'was',\n",
       "  'no',\n",
       "  'slavery',\n",
       "  'in',\n",
       "  'the',\n",
       "  'free',\n",
       "  'city',\n",
       "  'of',\n",
       "  'pentos'],\n",
       " ['nonetheless', 'they', 'were', 'slaves'],\n",
       " ['the',\n",
       "  'old',\n",
       "  'woman',\n",
       "  'small',\n",
       "  'and',\n",
       "  'grey',\n",
       "  'as',\n",
       "  'mouse',\n",
       "  'never',\n",
       "  'said',\n",
       "  'word',\n",
       "  'but',\n",
       "  'the',\n",
       "  'girl',\n",
       "  'made',\n",
       "  'up',\n",
       "  'for',\n",
       "  'it'],\n",
       " ['she',\n",
       "  'was',\n",
       "  'illyrio',\n",
       "  'favorite',\n",
       "  'fair',\n",
       "  'haired',\n",
       "  'blue',\n",
       "  'eyed',\n",
       "  'wench',\n",
       "  'of',\n",
       "  'sixteen',\n",
       "  'who',\n",
       "  'chattered',\n",
       "  'constantly',\n",
       "  'as',\n",
       "  'she',\n",
       "  'worked'],\n",
       " ['they',\n",
       "  'filled',\n",
       "  'her',\n",
       "  'bath',\n",
       "  'with',\n",
       "  'hot',\n",
       "  'water',\n",
       "  'brought',\n",
       "  'up',\n",
       "  'from',\n",
       "  'the',\n",
       "  'kitchen',\n",
       "  'and',\n",
       "  'scented',\n",
       "  'it',\n",
       "  'with',\n",
       "  'fragrant',\n",
       "  'oils'],\n",
       " ['the',\n",
       "  'girl',\n",
       "  'pulled',\n",
       "  'the',\n",
       "  'rough',\n",
       "  'cotton',\n",
       "  'tunic',\n",
       "  'over',\n",
       "  'dany',\n",
       "  'head',\n",
       "  'and',\n",
       "  'helped',\n",
       "  'her',\n",
       "  'into',\n",
       "  'the',\n",
       "  'tub'],\n",
       " ['the',\n",
       "  'water',\n",
       "  'was',\n",
       "  'scalding',\n",
       "  'hot',\n",
       "  'but',\n",
       "  'daenerys',\n",
       "  'did',\n",
       "  'not',\n",
       "  'flinch',\n",
       "  'or',\n",
       "  'cry',\n",
       "  'out'],\n",
       " ['she', 'liked', 'the', 'heat'],\n",
       " ['it', 'made', 'her', 'feel', 'clean'],\n",
       " ['besides',\n",
       "  'her',\n",
       "  'brother',\n",
       "  'had',\n",
       "  'often',\n",
       "  'told',\n",
       "  'her',\n",
       "  'that',\n",
       "  'it',\n",
       "  'was',\n",
       "  'never',\n",
       "  'too',\n",
       "  'hot',\n",
       "  'for',\n",
       "  'targaryen'],\n",
       " ['ours', 'is', 'the', 'house', 'of', 'the', 'dragon', 'he', 'would', 'say'],\n",
       " ['the', 'fire', 'is', 'in', 'our', 'blood'],\n",
       " ['the',\n",
       "  'old',\n",
       "  'woman',\n",
       "  'washed',\n",
       "  'her',\n",
       "  'long',\n",
       "  'silver',\n",
       "  'pale',\n",
       "  'hair',\n",
       "  'and',\n",
       "  'gently',\n",
       "  'combed',\n",
       "  'out',\n",
       "  'the',\n",
       "  'snags',\n",
       "  'all',\n",
       "  'in',\n",
       "  'silence'],\n",
       " ['the',\n",
       "  'girl',\n",
       "  'scrubbed',\n",
       "  'her',\n",
       "  'back',\n",
       "  'and',\n",
       "  'her',\n",
       "  'feet',\n",
       "  'and',\n",
       "  'told',\n",
       "  'her',\n",
       "  'how',\n",
       "  'lucky',\n",
       "  'she',\n",
       "  'was'],\n",
       " ['drogo',\n",
       "  'is',\n",
       "  'so',\n",
       "  'rich',\n",
       "  'that',\n",
       "  'even',\n",
       "  'his',\n",
       "  'slaves',\n",
       "  'page',\n",
       "  'wear',\n",
       "  'golden',\n",
       "  'collars'],\n",
       " ['hundred',\n",
       "  'thousand',\n",
       "  'men',\n",
       "  'ride',\n",
       "  'in',\n",
       "  'his',\n",
       "  'khalasar',\n",
       "  'and',\n",
       "  'his',\n",
       "  'palace',\n",
       "  'in',\n",
       "  'vaes',\n",
       "  'dothrak',\n",
       "  'has',\n",
       "  'two',\n",
       "  'hundred',\n",
       "  'rooms',\n",
       "  'and',\n",
       "  'doors',\n",
       "  'of',\n",
       "  'solid',\n",
       "  'silver'],\n",
       " ['there',\n",
       "  'was',\n",
       "  'more',\n",
       "  'like',\n",
       "  'that',\n",
       "  'so',\n",
       "  'much',\n",
       "  'more',\n",
       "  'what',\n",
       "  'handsome',\n",
       "  'man',\n",
       "  'the',\n",
       "  'khal',\n",
       "  'was',\n",
       "  'so',\n",
       "  'tall',\n",
       "  'and',\n",
       "  'fierce',\n",
       "  'fearless',\n",
       "  'in',\n",
       "  'battle',\n",
       "  'the',\n",
       "  'best',\n",
       "  'rider',\n",
       "  'ever',\n",
       "  'to',\n",
       "  'mount',\n",
       "  'horse',\n",
       "  'demon',\n",
       "  'archer'],\n",
       " ['daenerys', 'said', 'nothing'],\n",
       " ...]"
      ]
     },
     "execution_count": 8,
     "metadata": {},
     "output_type": "execute_result"
    }
   ],
   "source": [
    "books"
   ]
  },
  {
   "cell_type": "code",
   "execution_count": 9,
   "metadata": {},
   "outputs": [],
   "source": [
    "model = gensim.models.Word2Vec(\n",
    "    window=10,\n",
    "    min_count=2,\n",
    "    workers=4\n",
    ")"
   ]
  },
  {
   "cell_type": "code",
   "execution_count": 10,
   "metadata": {},
   "outputs": [],
   "source": [
    "model.build_vocab(books)"
   ]
  },
  {
   "cell_type": "code",
   "execution_count": 11,
   "metadata": {},
   "outputs": [
    {
     "name": "stdout",
     "output_type": "stream",
     "text": [
      "{'the': 0, 'and': 1, 'to': 2, 'of': 3, 'he': 4, 'his': 5, 'was': 6, 'you': 7, 'her': 8, 'in': 9, 'it': 10, 'had': 11, 'that': 12, 'she': 13, 'as': 14, 'with': 15, 'him': 16, 'not': 17, 'but': 18, 'for': 19, 'they': 20, 'is': 21, 'at': 22, 'on': 23, 'said': 24, 'my': 25, 'have': 26, 'be': 27, 'lord': 28, 'them': 29, 'no': 30, 'from': 31, 'would': 32, 'were': 33, 'me': 34, 'your': 35, 'one': 36, 'all': 37, 'when': 38, 'will': 39, 'ser': 40, 'if': 41, 'so': 42, 'their': 43, 'we': 44, 'could': 45, 'are': 46, 'man': 47, 'there': 48, 'this': 49, 'up': 50, 'been': 51, 'what': 52, 'did': 53, 'by': 54, 'king': 55, 'do': 56, 'men': 57, 'back': 58, 'out': 59, 'more': 60, 'or': 61, 'who': 62, 'down': 63, 'well': 64, 'than': 65, 'only': 66, 'like': 67, 'jon': 68, 'some': 69, 'father': 70, 'old': 71, 'hand': 72, 'even': 73, 'too': 74, 'tyrion': 75, 'before': 76, 'never': 77, 'an': 78, 'off': 79, 'see': 80, 'know': 81, 'into': 82, 'made': 83, 'now': 84, 'eyes': 85, 'black': 86, 'told': 87, 'lady': 88, 'thought': 89, 'time': 90, 'then': 91, 'how': 92, 'long': 93, 'has': 94, 'can': 95, 'might': 96, 'us': 97, 'come': 98, 'where': 99, 'here': 100, 'through': 101, 'still': 102, 'face': 103, 'head': 104, 'red': 105, 'll': 106, 'way': 107, 'boy': 108, 'page': 109, 'must': 110, 'once': 111, 'queen': 112, 'good': 113, 'two': 114, 'brother': 115, 'night': 116, 'over': 117, 'little': 118, 'about': 119, 'took': 120, 'other': 121, 'came': 122, 'though': 123, 'again': 124, 'say': 125, 'three': 126, 'should': 127, 'away': 128, 'dead': 129, 'son': 130, 'own': 131, 'blood': 132, 'am': 133, 'take': 134, 'go': 135, 'half': 136, 'make': 137, 'arya': 138, 'saw': 139, 'day': 140, 'white': 141, 'jaime': 142, 'first': 143, 'himself': 144, 'our': 145, 'look': 146, 'want': 147, 'after': 148, 'much': 149, 'enough': 150, 'sword': 151, 'tell': 152, 'girl': 153, 'bran': 154, 'great': 155, 'its': 156, 'looked': 157, 'left': 158, 'knew': 159, 'asked': 160, 'gave': 161, 'maester': 162, 'called': 163, 'wall': 164, 'every': 165, 'heard': 166, 'sansa': 167, 'let': 168, 'yet': 169, 'went': 170, 'turned': 171, 'dany': 172, 'why': 173, 'need': 174, 'behind': 175, 'around': 176, 'just': 177, 'woman': 178, 'another': 179, 'snow': 180, 'beneath': 181, 'across': 182, 'knight': 183, 'keep': 184, 'grace': 185, 'found': 186, 'gold': 187, 'any': 188, 'last': 189, 'cersei': 190, 'castle': 191, 'those': 192, 'stark': 193, 'gods': 194, 'think': 195, 'hair': 196, 'many': 197, 'feet': 198, 'against': 199, 'hands': 200, 'stannis': 201, 'mother': 202, 'catelyn': 203, 'robert': 204, 'seemed': 205, 'prince': 206, 'may': 207, 'ever': 208, 'robb': 209, 'done': 210, 'don': 211, 'find': 212, 'lannister': 213, 're': 214, 'hear': 215, 'grey': 216, 'name': 217, 'horse': 218, 'high': 219, 'put': 220, 'stone': 221, 'wine': 222, 'hard': 223, 'water': 224, 'upon': 225, 'fire': 226, 'iron': 227, 'until': 228, 'these': 229, 'voice': 230, 'gone': 231, 'give': 232, 'sam': 233, 'seen': 234, 'better': 235, 'shall': 236, 'ned': 237, 'always': 238, 'years': 239, 'between': 240, 'dark': 241, 'place': 242, 'small': 243, 'cold': 244, 'winterfell': 245, 'most': 246, 'hundred': 247, 'stood': 248, 'end': 249, 'sister': 250, 'words': 251, 'sea': 252, 'right': 253, 'nothing': 254, 'walls': 255, 'fingers': 256, 'same': 257, 'cloak': 258, 'house': 259, 'young': 260, 'does': 261, 'beside': 262, 'get': 263, 'mouth': 264, 'seven': 265, 'watch': 266, 'door': 267, 'joffrey': 268, 'green': 269, 'big': 270, 'under': 271, 'few': 272, 'sent': 273, 'perhaps': 274, 'almost': 275, 'such': 276, 'wanted': 277, 'daughter': 278, 'true': 279, 'while': 280, 'leave': 281, 'city': 282, 'wind': 283, 'light': 284, 'arms': 285, 'children': 286, 'herself': 287, 'sweet': 288, 'others': 289, 'lost': 290, 'theon': 291, 'each': 292, 'felt': 293, 'side': 294, 'yes': 295, 'brothers': 296, 'best': 297, 'very': 298, 'die': 299, 'brought': 300, 'soon': 301, 'far': 302, 'died': 303, 'north': 304, 'child': 305, 'fear': 306, 'along': 307, 'word': 308, 'brienne': 309, 'both': 310, 'taken': 311, 'battle': 312, 'help': 313, 'new': 314, 'tywin': 315, 'davos': 316, 'lords': 317, 'something': 318, 've': 319, 'wife': 320, 'mean': 321, 'rest': 322, 'hall': 323, 'kill': 324, 'strong': 325, 'steel': 326, 'began': 327, 'sound': 328, 'won': 329, 'dragon': 330, 'past': 331, 'life': 332, 'tower': 333, 'killed': 334, 'arm': 335, 'sons': 336, 'tried': 337, 'free': 338, 'thing': 339, 'days': 340, 'bear': 341, 'bloody': 342, 'heart': 343, 'pale': 344, 'love': 345, 'moment': 346, 'sat': 347, 'bring': 348, 'bed': 349, 'close': 350, 'knights': 351, 'cut': 352, 'wolf': 353, 'horses': 354, 'smile': 355, 'death': 356, 'inside': 357, 'four': 358, 'brown': 359, 'dragons': 360, 'hot': 361, 'silver': 362, 'part': 363, 'bastard': 364, 'open': 365, 'nor': 366, 'thousand': 367, 'landing': 368, 'uncle': 369, 'above': 370, 'going': 371, 'blue': 372, 'air': 373, 'captain': 374, 'please': 375, 'laughed': 376, 'river': 377, 'sun': 378, 'rose': 379, 'fell': 380, 'war': 381, 'golden': 382, 'sleep': 383, 'without': 384, 'swords': 385, 'speak': 386, 'renly': 387, 'full': 388, 'fool': 389, 'certain': 390, 'beyond': 391, 'feel': 392, 'send': 393, 'tongue': 394, 'got': 395, 'fight': 396, 'rode': 397, 'set': 398, 'thick': 399, 'throat': 400, 'world': 401, 'deep': 402, 'legs': 403, 'call': 404, 'honor': 405, 'rock': 406, 'trees': 407, 'tall': 408, 'table': 409, 'pulled': 410, 'broken': 411, 'mormont': 412, 'women': 413, 'steps': 414, 'things': 415, 'next': 416, 'hodor': 417, 'heavy': 418, 'burned': 419, 'oh': 420, 'toward': 421, 'together': 422, 'skin': 423, 'given': 424, 'since': 425, 'smiled': 426, 'dwarf': 427, 'alone': 428, 'moved': 429, 'storm': 430, 'raised': 431, 'ride': 432, 'ask': 433, 'hope': 434, 'eye': 435, 'soft': 436, 'reached': 437, 'frey': 438, 'second': 439, 'remember': 440, 'someone': 441, 'remembered': 442, 'coming': 443, 'meant': 444, 'cannot': 445, 'hold': 446, 'morning': 447, 'ten': 448, 'teeth': 449, 'else': 450, 'throne': 451, 'command': 452, 'which': 453, 'fat': 454, 'truth': 455, 'commander': 456, 'walder': 457, 'doubt': 458, 'ground': 459, 'jorah': 460, 'cup': 461, 'outside': 462, 'known': 463, 'wore': 464, 'ran': 465, 'gate': 466, 'room': 467, 'held': 468, 'closed': 469, 'home': 470, 'matter': 471, 'sky': 472, 'south': 473, 'wood': 474, 'dozen': 475, 'wed': 476, 'people': 477, 'neck': 478, 'riverrun': 479, 'food': 480, 'instead': 481, 'near': 482, 'talk': 483, 'turn': 484, 'none': 485, 'ships': 486, 'tyrell': 487, 'below': 488, 'moon': 489, 'summer': 490, 'bolton': 491, 'shadow': 492, 'lips': 493, 'watched': 494, 'times': 495, 'leather': 496, 'varys': 497, 'shoulder': 498, 'septon': 499, 'warm': 500, 'caught': 501, 'believe': 502, 'least': 503, 'guards': 504, 'answer': 505, 'god': 506, 'blade': 507, 'wondered': 508, 'ice': 509, 'opened': 510, 'shield': 511, 'barristan': 512, 'mine': 513, 'armor': 514, 'safe': 515, 'six': 516, 'kept': 517, 'wish': 518, 'return': 519, 'tommen': 520, 'used': 521, 'smell': 522, 'less': 523, 'being': 524, 'foot': 525, 'floor': 526, 'squire': 527, 'eddard': 528, 'empty': 529, 'run': 530, 'followed': 531, 'friends': 532, 'serve': 533, 'beard': 534, 'boys': 535, 'baratheon': 536, 'cloaks': 537, 'wedding': 538, 'eat': 539, 'wrong': 540, 'daenerys': 541, 'ghost': 542, 'sight': 543, 'flesh': 544, 'five': 545, 'hound': 546, 'ship': 547, 'strength': 548, 'returned': 549, 'bones': 550, 'nose': 551, 'crown': 552, 'yellow': 553, 'chest': 554, 'covered': 555, 'says': 556, 'commanded': 557, 'petyr': 558, 'sometimes': 559, 'filled': 560, 'aemon': 561, 'friend': 562, 'led': 563, 'aye': 564, 'common': 565, 'yours': 566, 'flames': 567, 'spoke': 568, 'show': 569, 'fighting': 570, 'asha': 571, 'huge': 572, 'aside': 573, 'lysa': 574, 'crow': 575, 'belly': 576, 'master': 577, 'breath': 578, 'seem': 579, 'yard': 580, 'gates': 581, 'waiting': 582, 'within': 583, 'looking': 584, 'wet': 585, 'wooden': 586, 'realm': 587, 'thin': 588, 'work': 589, 'bad': 590, 'use': 591, 'promised': 592, 'later': 593, 'tree': 594, 'husband': 595, 'grew': 596, 'onto': 597, 'wildlings': 598, 'loved': 599, 'afraid': 600, 'girls': 601, 'greyjoy': 602, 'shoulders': 603, 'rain': 604, 'shouted': 605, 'walked': 606, 'maid': 607, 'mance': 608, 'remained': 609, 'late': 610, 'guard': 611, 'littlefinger': 612, 'meereen': 613, 'liked': 614, 'fall': 615, 'year': 616, 'margaery': 617, 'dog': 618, 'passed': 619, 'hurt': 620, 'balon': 621, 'taste': 622, 'dothraki': 623, 'lay': 624, 'drew': 625, 'spear': 626, 'song': 627, 'realized': 628, 'pushed': 629, 'sure': 630, 'named': 631, 'reach': 632, 'brave': 633, 'stand': 634, 'different': 635, 'finally': 636, 'whispered': 637, 'wolves': 638, 'suddenly': 639, 'poor': 640, 'kingsguard': 641, 'drogo': 642, 'stay': 643, 'arryn': 644, 'stop': 645, 'kingdoms': 646, 'broke': 647, 'ears': 648, 'edmure': 649, 'princess': 650, 'burning': 651, 'faces': 652, 'lannisters': 653, 'dream': 654, 'axe': 655, 'direwolf': 656, 'west': 657, 'tears': 658, 'heir': 659, 'drink': 660, 'clegane': 661, 'darkness': 662, 'either': 663, 'pointed': 664, 'raven': 665, 'hill': 666, 'try': 667, 'forward': 668, 'sworn': 669, 'pain': 670, 'khal': 671, 'lie': 672, 'dagger': 673, 'truly': 674, 'kings': 675, 'seat': 676, 'grown': 677, 'born': 678, 'road': 679, 'harrenhal': 680, 'care': 681, 'bronn': 682, 'round': 683, 'helm': 684, 'feast': 685, 'understand': 686, 'quick': 687, 'pycelle': 688, 'meat': 689, 'amongst': 690, 'lifted': 691, 'longer': 692, 'reminded': 693, 'whilst': 694, 'maybe': 695, 'mountain': 696, 'short': 697, 'step': 698, 'rodrik': 699, 'pretty': 700, 'melisandre': 701, 'ones': 702, 'third': 703, 'bit': 704, 'worse': 705, 'stopped': 706, 'lands': 707, 'aegon': 708, 'sit': 709, 'victarion': 710, 'save': 711, 'sharp': 712, 'knows': 713, 'live': 714, 'smoke': 715, 'whose': 716, 'pray': 717, 'leg': 718, 'window': 719, 'horn': 720, 'younger': 721, 'westeros': 722, 'didn': 723, 'twenty': 724, 'silk': 725, 'heads': 726, 'slaves': 727, 'ago': 728, 'septa': 729, 'pie': 730, 'peace': 731, 'laugh': 732, 'hizdahr': 733, 'mind': 734, 'low': 735, 'bread': 736, 'wants': 737, 'east': 738, 'blind': 739, 'reek': 740, 'mad': 741, 'sooner': 742, 'towers': 743, 'bright': 744, 'myself': 745, 'coin': 746, 'older': 747, 'slain': 748, 'camp': 749, 'making': 750, 'walk': 751, 'drowned': 752, 'served': 753, 'narrow': 754, 'salt': 755, 'point': 756, 'wait': 757, 'glanced': 758, 'cheeks': 759, 'cousin': 760, 'luwin': 761, 'knife': 762, 'targaryen': 763, 'shook': 764, 'touched': 765, 'quiet': 766, 'stepped': 767, 'sort': 768, 'often': 769, 'riding': 770, 'naked': 771, 'twisted': 772, 'loras': 773, 'choice': 774, 'during': 775, 'lion': 776, 'forgotten': 777, 'silence': 778, 'fish': 779, 'kevan': 780, 'ramsay': 781, 'hung': 782, 'read': 783, 'gift': 784, 'running': 785, 'replied': 786, 'fallen': 787, 'large': 788, 'knees': 789, 'silent': 790, 'fought': 791, 'company': 792, 'cat': 793, 'ahead': 794, 'sept': 795, 'needs': 796, 'beautiful': 797, 'rhaegar': 798, 'dogs': 799, 'dawn': 800, 'knee': 801, 'pass': 802, 'dorne': 803, 'casterly': 804, 'mud': 805, 'themselves': 806, 'tully': 807, 'body': 808, 'singer': 809, 'gregor': 810, 'court': 811, 'stupid': 812, 'age': 813, 'meera': 814, 'trying': 815, 'top': 816, 'swear': 817, 'kind': 818, 'offered': 819, 'gendry': 820, 'leaves': 821, 'whole': 822, 'clothes': 823, 'closer': 824, 'anything': 825, 'kiss': 826, 'whatever': 827, 'threw': 828, 'wonder': 829, 'agreed': 830, 'pay': 831, 'answered': 832, 'climbed': 833, 'saying': 834, 'saddle': 835, 'wide': 836, 'stars': 837, 'comes': 838, 'stones': 839, 'chain': 840, 'trust': 841, 'host': 842, 'fair': 843, 'pleased': 844, 'trident': 845, 'yourself': 846, 'yunkai': 847, 'dry': 848, 'hour': 849, 'insisted': 850, 'eight': 851, 'spears': 852, 'dying': 853, 'ear': 854, 'fast': 855, 'carried': 856, 'service': 857, 'doors': 858, 'ought': 859, 'fist': 860, 'woods': 861, 'mail': 862, 'council': 863, 'wasn': 864, 'fine': 865, 'crossed': 866, 'needed': 867, 'join': 868, 'thank': 869, 'milk': 870, 'wildling': 871, 'quentyn': 872, 'finger': 873, 'gilly': 874, 'shadows': 875, 'doing': 876, 'tent': 877, 'win': 878, 'bird': 879, 'land': 880, 'helped': 881, 'boots': 882, 'imp': 883, 'crows': 884, 'names': 885, 'somehow': 886, 'folk': 887, 'kissed': 888, 'winter': 889, 'letter': 890, 'banners': 891, 'screamed': 892, 'angry': 893, 'pink': 894, 'frightened': 895, 'learn': 896, 'alive': 897, 'torch': 898, 'chair': 899, 'eunuch': 900, 'watching': 901, 'daughters': 902, 'tarly': 903, 'dragonstone': 904, 'harm': 905, 'fires': 906, 'learned': 907, 'standing': 908, 'serving': 909, 'easy': 910, 'neither': 911, 'nine': 912, 'wings': 913, 'question': 914, 'drunk': 915, 'sail': 916, 'priest': 917, 'sisters': 918, 'myrcella': 919, 'nodded': 920, 'harbor': 921, 'bone': 922, 'forth': 923, 'warned': 924, 'giant': 925, 'slow': 926, 'field': 927, 'slipped': 928, 'slid': 929, 'slowly': 930, 'bronze': 931, 'dreams': 932, 'falling': 933, 'atop': 934, 'promise': 935, 'rise': 936, 'slave': 937, 'illyrio': 938, 'whore': 939, 'line': 940, 'move': 941, 'flowers': 942, 'pyke': 943, 'makes': 944, 'laughter': 945, 'loose': 946, 'earth': 947, 'grass': 948, 'faced': 949, 'bay': 950, 'declared': 951, 'twice': 952, 'front': 953, 'lived': 954, 'power': 955, 'viserys': 956, 'cell': 957, 'happened': 958, 'because': 959, 'play': 960, 'chains': 961, 'break': 962, 'dance': 963, 'oldtown': 964, 'surely': 965, 'aerys': 966, 'clean': 967, 'claim': 968, 'unless': 969, 'jeyne': 970, 'eyrie': 971, 'cried': 972, 'fresh': 973, 'pair': 974, 'tormund': 975, 'craster': 976, 'laid': 977, 'quite': 978, 'morrow': 979, 'shouting': 980, 'sad': 981, 'game': 982, 'met': 983, 'already': 984, 'rule': 985, 'touch': 986, 'softly': 987, 'woke': 988, 'steward': 989, 'sense': 990, 'afterward': 991, 'count': 992, 'started': 993, 'mounted': 994, 'waters': 995, 'sudden': 996, 'captive': 997, 'hide': 998, 'jojen': 999, 'highgarden': 1000, 'ravens': 1001, 'cheek': 1002, 'however': 1003, 'purple': 1004, 'course': 1005, 'follow': 1006, 'means': 1007, 'taking': 1008, 'among': 1009, 'anyone': 1010, 'rickon': 1011, 'carved': 1012, 'bare': 1013, 'wench': 1014, 'noble': 1015, 'grenn': 1016, 'waited': 1017, 'rising': 1018, 'murdered': 1019, 'thinking': 1020, 'cruel': 1021, 'weak': 1022, 'vale': 1023, 'roof': 1024, 'roose': 1025, 'hidden': 1026, 'wouldn': 1027, 'eyed': 1028, 'town': 1029, 'forest': 1030, 'arrow': 1031, 'blow': 1032, 'hungry': 1033, 'today': 1034, 'growing': 1035, 'wise': 1036, 'grand': 1037, 'voices': 1038, 'sorry': 1039, 'army': 1040, 'cry': 1041, 'tale': 1042, 'wound': 1043, 'griff': 1044, 'protect': 1045, 'weight': 1046, 'twins': 1047, 'beric': 1048, 'ugly': 1049, 'inn': 1050, 'sick': 1051, 'climb': 1052, 'ygritte': 1053, 'hoped': 1054, 'forget': 1055, 'dressed': 1056, 'knelt': 1057, 'rolled': 1058, 'enemies': 1059, 'chance': 1060, 'marry': 1061, 'fur': 1062, 'daario': 1063, 'lad': 1064, 'seems': 1065, 'courage': 1066, 'grow': 1067, 'freys': 1068, 'whether': 1069, 'laughing': 1070, 'smiling': 1071, 'fleet': 1072, 'bride': 1073, 'square': 1074, 'appeared': 1075, 'meet': 1076, 'unsullied': 1077, 'marriage': 1078, 'corpse': 1079, 'breasts': 1080, 'kingslayer': 1081, 'wool': 1082, 'drank': 1083, 'showed': 1084, 'alayne': 1085, 'mountains': 1086, 'edge': 1087, 'trouble': 1088, 'frozen': 1089, 'march': 1090, 'mercy': 1091, 'arrows': 1092, 'shae': 1093, 'slynt': 1094, 'wear': 1095, 'ragged': 1096, 'sing': 1097, 'bound': 1098, 'recall': 1099, 'swore': 1100, 'allowed': 1101, 'welcome': 1102, 'offer': 1103, 'decided': 1104, 'ill': 1105, 'everything': 1106, 'spread': 1107, 'seated': 1108, 'slept': 1109, 'quickly': 1110, 'mace': 1111, 'sounded': 1112, 'wake': 1113, 'ancient': 1114, 'moving': 1115, 'tales': 1116, 'bowed': 1117, 'dare': 1118, 'flew': 1119, 'talking': 1120, 'yoren': 1121, 'lead': 1122, 'sellsword': 1123, 'living': 1124, 'apart': 1125, 'longsword': 1126, 'paid': 1127, 'till': 1128, 'breast': 1129, 'duty': 1130, 'penny': 1131, 'riders': 1132, 'claimed': 1133, 'grabbed': 1134, 'carry': 1135, 'ate': 1136, 'joff': 1137, 'beat': 1138, 'orange': 1139, 'royal': 1140, 'lives': 1141, 'babe': 1142, 'reznak': 1143, 'sellswords': 1144, 'rivers': 1145, 'village': 1146, 'remain': 1147, 'ale': 1148, 'captains': 1149, 'sighed': 1150, 'beast': 1151, 'shrugged': 1152, 'dreamed': 1153, 'defend': 1154, 'blackwater': 1155, 'tight': 1156, 'ben': 1157, 'leaving': 1158, 'listen': 1159, 'euron': 1160, 'wild': 1161, 'stared': 1162, 'joined': 1163, 'servants': 1164, 'leaned': 1165, 'sand': 1166, 'whores': 1167, 'braavos': 1168, 'handed': 1169, 'cause': 1170, 'redwyne': 1171, 'godswood': 1172, 'lot': 1173, 'bridge': 1174, 'clever': 1175, 'maiden': 1176, 'lancel': 1177, 'banner': 1178, 'strange': 1179, 'supper': 1180, 'cracked': 1181, 'bedchamber': 1182, 'astapor': 1183, 'able': 1184, 'looks': 1185, 'beg': 1186, 'feared': 1187, 'bow': 1188, 'tonight': 1189, 'whenever': 1190, 'shore': 1191, 'parchment': 1192, 'fit': 1193, 'deck': 1194, 'tom': 1195, 'lordship': 1196, 'nights': 1197, 'sandor': 1198, 'grief': 1199, 'hills': 1200, 'entered': 1201, 'swung': 1202, 'smelled': 1203, 'streets': 1204, 'fled': 1205, 'commands': 1206, 'thousands': 1207, 'widow': 1208, 'queer': 1209, 'starks': 1210, 'everywhere': 1211, 'arianne': 1212, 'khaleesi': 1213, 'chambers': 1214, 'announced': 1215, 'everyone': 1216, 'marsh': 1217, 'bannermen': 1218, 'nan': 1219, 'qyburn': 1220, 'scarcely': 1221, 'warrior': 1222, 'leagues': 1223, 'pleasure': 1224, 'terrible': 1225, 'plain': 1226, 'candle': 1227, 'frowned': 1228, 'valyrian': 1229, 'janos': 1230, 'rayder': 1231, 'hers': 1232, 'breeches': 1233, 'color': 1234, 'shoved': 1235, 'soldiers': 1236, 'shout': 1237, 'played': 1238, 'cities': 1239, 'brynden': 1240, 'cloth': 1241, 'songs': 1242, 'faith': 1243, 'taught': 1244, 'couldn': 1245, 'easily': 1246, 'built': 1247, 'share': 1248, 'book': 1249, 'tired': 1250, 'instant': 1251, 'chin': 1252, 'brow': 1253, 'volantis': 1254, 'stronger': 1255, 'murder': 1256, 'baelor': 1257, 'worth': 1258, 'windows': 1259, 'sang': 1260, 'rich': 1261, 'aeron': 1262, 'pull': 1263, 'flame': 1264, 'scream': 1265, 'fly': 1266, 'ready': 1267, 'selmy': 1268, 'fifty': 1269, 'somewhere': 1270, 'pyp': 1271, 'tourney': 1272, 'faint': 1273, 'demanded': 1274, 'feed': 1275, 'lose': 1276, 'bite': 1277, 'snapped': 1278, 'dornish': 1279, 'hundreds': 1280, 'victory': 1281, 'hunt': 1282, 'deal': 1283, 'manderly': 1284, 'pit': 1285, 'washed': 1286, 'become': 1287, 'choose': 1288, 'hardly': 1289, 'chapter': 1290, 'wounded': 1291, 'ilyn': 1292, 'belwas': 1293, 'vanished': 1294, 'forgive': 1295, 'justice': 1296, 'telling': 1297, 'pressed': 1298, 'brandon': 1299, 'secret': 1300, 'oberyn': 1301, 'sounds': 1302, 'companions': 1303, 'hate': 1304, 'heat': 1305, 'irri': 1306, 'kicked': 1307, 'lies': 1308, 'lowered': 1309, 'goat': 1310, 'edd': 1311, 'podrick': 1312, 'prayed': 1313, 'hours': 1314, 'stick': 1315, 'satin': 1316, 'burn': 1317, 'screaming': 1318, 'cheese': 1319, 'birds': 1320, 'turning': 1321, 'mare': 1322, 'sign': 1323, 'rather': 1324, 'oars': 1325, 'proud': 1326, 'thirty': 1327, 'catch': 1328, 'martell': 1329, 'rocks': 1330, 'kingsroad': 1331, 'fierce': 1332, 'qhorin': 1333, 'dared': 1334, 'fools': 1335, 'books': 1336, 'larger': 1337, 'wash': 1338, 'mount': 1339, 'tossed': 1340, 'belt': 1341, 'price': 1342, 'listening': 1343, 'alliser': 1344, 'besides': 1345, 'painted': 1346, 'anger': 1347, 'moat': 1348, 'osmund': 1349, 'cleos': 1350, 'farther': 1351, 'eastwatch': 1352, 'clad': 1353, 'attack': 1354, 'likely': 1355, 'grinned': 1356, 'wrapped': 1357, 'muttered': 1358, 'outlaws': 1359, 'wished': 1360, 'admitted': 1361, 'giving': 1362, 'dangerous': 1363, 'sour': 1364, 'broad': 1365, 'cousins': 1366, 'dress': 1367, 'torn': 1368, 'dropped': 1369, 'hit': 1370, 'gown': 1371, 'plate': 1372, 'false': 1373, 'shame': 1374, 'corpses': 1375, 'bells': 1376, 'stranger': 1377, 'surrounded': 1378, 'distant': 1379, 'doran': 1380, 'lip': 1381, 'meryn': 1382, 'reason': 1383, 'start': 1384, 'holding': 1385, 'rangers': 1386, 'castles': 1387, 'slew': 1388, 'thrust': 1389, 'grant': 1390, 'bold': 1391, 'stream': 1392, 'calling': 1393, 'wondering': 1394, 'royce': 1395, 'single': 1396, 'slaver': 1397, 'expected': 1398, 'bottom': 1399, 'stables': 1400, 'also': 1401, 'spat': 1402, 'shut': 1403, 'buy': 1404, 'sleeping': 1405, 'glover': 1406, 'suggested': 1407, 'boat': 1408, 'likes': 1409, 'houses': 1410, 'torches': 1411, 'blew': 1412, 'drinking': 1413, 'spare': 1414, 'itself': 1415, 'change': 1416, 'crimson': 1417, 'urged': 1418, 'giants': 1419, 'cook': 1420, 'dick': 1421, 'stiff': 1422, 'lem': 1423, 'temple': 1424, 'bent': 1425, 'allow': 1426, 'stories': 1427, 'gentle': 1428, 'karstark': 1429, 'shared': 1430, 'heels': 1431, 'kindly': 1432, 'boros': 1433, 'cross': 1434, 'eldest': 1435, 'pieces': 1436, 'oak': 1437, 'brushed': 1438, 'shields': 1439, 'loyal': 1440, 'sitting': 1441, 'northmen': 1442, 'islands': 1443, 'qarth': 1444, 'harder': 1445, 'changed': 1446, 'column': 1447, 'suppose': 1448, 'spent': 1449, 'weirwood': 1450, 'whip': 1451, 'wives': 1452, 'echoed': 1453, 'counsel': 1454, 'birth': 1455, 'shining': 1456, 'branches': 1457, 'chamber': 1458, 'glass': 1459, 'hunting': 1460, 'stony': 1461, 'armed': 1462, 'gathered': 1463, 'kettleblack': 1464, 'smashed': 1465, 'jhiqui': 1466, 'enemy': 1467, 'honey': 1468, 'spotted': 1469, 'weeping': 1470, 'traitor': 1471, 'lance': 1472, 'picked': 1473, 'archers': 1474, 'dontos': 1475, 'cups': 1476, 'beasts': 1477, 'places': 1478, 'pity': 1479, 'gotten': 1480, 'proved': 1481, 'handsome': 1482, 'fond': 1483, 'whispering': 1484, 'size': 1485, 'litter': 1486, 'treason': 1487, 'squires': 1488, 'raw': 1489, 'pig': 1490, 'citadel': 1491, 'sheep': 1492, 'finished': 1493, 'real': 1494, 'buried': 1495, 'hilt': 1496, 'escape': 1497, 'island': 1498, 'visit': 1499, 'foes': 1500, 'smaller': 1501, 'emerged': 1502, 'shy': 1503, 'vows': 1504, 'siege': 1505, 'twelve': 1506, 'stallion': 1507, 'walking': 1508, 'begun': 1509, 'sending': 1510, 'masters': 1511, 'listened': 1512, 'leapt': 1513, 'refused': 1514, 'alike': 1515, 'seized': 1516, 'marble': 1517, 'pool': 1518, 'glad': 1519, 'ring': 1520, 'swallowed': 1521, 'chosen': 1522, 'lake': 1523, 'craven': 1524, 'hoster': 1525, 'stag': 1526, 'drogon': 1527, 'steal': 1528, 'worst': 1529, 'crept': 1530, 'dreadfort': 1531, 'lions': 1532, 'path': 1533, 'bowen': 1534, 'tunic': 1535, 'guardsmen': 1536, 'gently': 1537, 'escort': 1538, 'arrived': 1539, 'supposed': 1540, 'skull': 1541, 'sweat': 1542, 'ranger': 1543, 'crowd': 1544, 'deny': 1545, 'smooth': 1546, 'pack': 1547, 'payne': 1548, 'drove': 1549, 'especially': 1550, 'believed': 1551, 'solar': 1552, 'loud': 1553, 'galleys': 1554, 'happy': 1555, 'tail': 1556, 'several': 1557, 'tone': 1558, 'zo': 1559, 'saved': 1560, 'music': 1561, 'complained': 1562, 'val': 1563, 'chose': 1564, 'crowned': 1565, 'risk': 1566, 'wyman': 1567, 'fury': 1568, 'glimpsed': 1569, 'throw': 1570, 'rang': 1571, 'ironmen': 1572, 'waved': 1573, 'galley': 1574, 'halfhand': 1575, 'velvet': 1576, 'flagon': 1577, 'smallfolk': 1578, 'takes': 1579, 'drawn': 1580, 'lightly': 1581, 'damp': 1582, 'waist': 1583, 'grandfather': 1584, 'swept': 1585, 'lovely': 1586, 'staring': 1587, 'bench': 1588, 'thoros': 1589, 'boiled': 1590, 'robes': 1591, 'hearth': 1592, 'crowded': 1593, 'cool': 1594, 'feeling': 1595, 'faded': 1596, 'guests': 1597, 'fields': 1598, 'darry': 1599, 'prayer': 1600, 'fed': 1601, 'ward': 1602, 'slammed': 1603, 'shape': 1604, 'prove': 1605, 'duck': 1606, 'understood': 1607, 'trade': 1608, 'flung': 1609, 'creature': 1610, 'whisper': 1611, 'missing': 1612, 'worm': 1613, 'studied': 1614, 'twin': 1615, 'having': 1616, 'xaro': 1617, 'onion': 1618, 'singing': 1619, 'sack': 1620, 'crossing': 1621, 'expect': 1622, 'pentos': 1623, 'burst': 1624, 'story': 1625, 'fill': 1626, 'asleep': 1627, 'ended': 1628, 'pate': 1629, 'seal': 1630, 'bore': 1631, 'bald': 1632, 'candles': 1633, 'killing': 1634, 'rope': 1635, 'clear': 1636, 'knocked': 1637, 'cabin': 1638, 'corn': 1639, 'stayed': 1640, 'copper': 1641, 'jory': 1642, 'beauty': 1643, 'loudly': 1644, 'scared': 1645, 'greatjon': 1646, 'heartbeat': 1647, 'pride': 1648, 'match': 1649, 'bitter': 1650, 'haired': 1651, 'lied': 1652, 'fork': 1653, 'weary': 1654, 'osha': 1655, 'haldon': 1656, 'port': 1657, 'struck': 1658, 'folly': 1659, 'innocent': 1660, 'hated': 1661, 'merryweather': 1662, 'singers': 1663, 'shaking': 1664, 'rubbed': 1665, 'yards': 1666, 'flat': 1667, 'missandei': 1668, 'nephew': 1669, 'myrish': 1670, 'yield': 1671, 'chill': 1672, 'ridden': 1673, 'straight': 1674, 'deepwood': 1675, 'piss': 1676, 'straw': 1677, 'samwell': 1678, 'boar': 1679, 'forced': 1680, 'abandoned': 1681, 'spoken': 1682, 'cock': 1683, 'baby': 1684, 'mummer': 1685, 'forty': 1686, 'crying': 1687, 'evening': 1688, 'arys': 1689, 'business': 1690, 'draw': 1691, 'wisdom': 1692, 'grave': 1693, 'apple': 1694, 'deeper': 1695, 'cursed': 1696, 'ironborn': 1697, 'noye': 1698, 'ruins': 1699, 'baelish': 1700, 'foe': 1701, 'aunt': 1702, 'flying': 1703, 'eggs': 1704, 'lying': 1705, 'spit': 1706, 'sell': 1707, 'harpy': 1708, 'weep': 1709, 'rider': 1710, 'notion': 1711, 'doublet': 1712, 'reflected': 1713, 'danced': 1714, 'fetch': 1715, 'center': 1716, 'playing': 1717, 'blackfish': 1718, 'landed': 1719, 'wounds': 1720, 'murmured': 1721, 'goes': 1722, 'thrice': 1723, 'warmth': 1724, 'imagine': 1725, 'poured': 1726, 'dolorous': 1727, 'scent': 1728, 'bend': 1729, 'hood': 1730, 'dragged': 1731, 'poison': 1732, 'blades': 1733, 'rough': 1734, 'faster': 1735, 'bank': 1736, 'ladies': 1737, 'chett': 1738, 'seek': 1739, 'snorted': 1740, 'florent': 1741, 'memory': 1742, 'monster': 1743, 'spun': 1744, 'dancing': 1745, 'mo': 1746, 'noise': 1747, 'axell': 1748, 'stair': 1749, 'simple': 1750, 'highborn': 1751, 'wearing': 1752, 'eaten': 1753, 'sails': 1754, 'seldom': 1755, 'task': 1756, 'waves': 1757, 'secrets': 1758, 'ways': 1759, 'ripped': 1760, 'needle': 1761, 'obey': 1762, 'swollen': 1763, 'happen': 1764, 'wits': 1765, 'bigger': 1766, 'blame': 1767, 'arbor': 1768, 'lit': 1769, 'remembering': 1770, 'sigil': 1771, 'isn': 1772, 'gyles': 1773, 'youth': 1774, 'fortnight': 1775, 'strike': 1776, 'dirt': 1777, 'wrist': 1778, 'selyse': 1779, 'courtesy': 1780, 'rights': 1781, 'stumbled': 1782, 'forever': 1783, 'hadn': 1784, 'corner': 1785, 'distance': 1786, 'lines': 1787, 'passing': 1788, 'cage': 1789, 'battles': 1790, 'glory': 1791, 'rats': 1792, 'butcher': 1793, 'metal': 1794, 'teach': 1795, 'wiped': 1796, 'jaw': 1797, 'oft': 1798, 'bowl': 1799, 'present': 1800, 'khalasar': 1801, 'onions': 1802, 'worn': 1803, 'taller': 1804, 'connington': 1805, 'cast': 1806, 'pulling': 1807, 'write': 1808, 'clouds': 1809, 'merchant': 1810, 'lightning': 1811, 'sharply': 1812, 'harlaw': 1813, 'household': 1814, 'require': 1815, 'dusk': 1816, 'eating': 1817, 'doesn': 1818, 'collar': 1819, 'clutched': 1820, 'furs': 1821, 'roared': 1822, 'axes': 1823, 'mummers': 1824, 'written': 1825, 'gerris': 1826, 'magnar': 1827, 'sweetling': 1828, 'flint': 1829, 'wagons': 1830, 'howling': 1831, 'proper': 1832, 'stomach': 1833, 'holy': 1834, 'emmon': 1835, 'colors': 1836, 'surprised': 1837, 'swallow': 1838, 'blowing': 1839, 'keeps': 1840, 'pardon': 1841, 'placed': 1842, 'hang': 1843, 'tents': 1844, 'magister': 1845, 'became': 1846, 'pounding': 1847, 'lys': 1848, 'hotah': 1849, 'managed': 1850, 'bought': 1851, 'dirk': 1852, 'randyll': 1853, 'cressen': 1854, 'human': 1855, 'slapped': 1856, 'flies': 1857, 'sunspear': 1858, 'hesitated': 1859, 'wrenched': 1860, 'tasted': 1861, 'thanks': 1862, 'higher': 1863, 'mark': 1864, 'nestor': 1865, 'hyle': 1866, 'damn': 1867, 'sailed': 1868, 'sleeve': 1869, 'slashed': 1870, 'osney': 1871, 'dornishmen': 1872, 'benjen': 1873, 'porridge': 1874, 'badly': 1875, 'force': 1876, 'raise': 1877, 'seeing': 1878, 'rickard': 1879, 'captives': 1880, 'savage': 1881, 'merrett': 1882, 'shivering': 1883, 'plump': 1884, 'thinks': 1885, 'kin': 1886, 'descended': 1887, 'curse': 1888, 'remains': 1889, 'garrison': 1890, 'isle': 1891, 'madness': 1892, 'shattered': 1893, 'elder': 1894, 'nurse': 1895, 'tore': 1896, 'castellan': 1897, 'crossbow': 1898, 'shaggy': 1899, 'thirteen': 1900, 'speaking': 1901, 'robe': 1902, 'lean': 1903, 'mask': 1904, 'massive': 1905, 'tied': 1906, 'oil': 1907, 'gladly': 1908, 'worked': 1909, 'hollow': 1910, 'lift': 1911, 'mallister': 1912, 'sailors': 1913, 'isles': 1914, 'begin': 1915, 'shone': 1916, 'usurper': 1917, 'message': 1918, 'mordane': 1919, 'myr': 1920, 'syrio': 1921, 'icy': 1922, 'glance': 1923, 'youngest': 1924, 'weapons': 1925, 'afternoon': 1926, 'sixteen': 1927, 'magic': 1928, 'lower': 1929, 'order': 1930, 'stretched': 1931, 'hllor': 1932, 'jhogo': 1933, 'meal': 1934, 'donned': 1935, 'case': 1936, 'plumm': 1937, 'hiding': 1938, 'charge': 1939, 'smells': 1940, 'letters': 1941, 'saan': 1942, 'slender': 1943, 'repeated': 1944, 'hero': 1945, 'considered': 1946, 'duskendale': 1947, 'trial': 1948, 'soaked': 1949, 'mistake': 1950, 'armory': 1951, 'trained': 1952, 'moonlight': 1953, 'smith': 1954, 'curled': 1955, 'ryman': 1956, 'begged': 1957, 'dareon': 1958, 'shagga': 1959, 'news': 1960, 'battlements': 1961, 'ash': 1962, 'slip': 1963, 'skahaz': 1964, 'alyn': 1965, 'sold': 1966, 'hoat': 1967, 'spied': 1968, 'armored': 1969, 'stump': 1970, 'snatched': 1971, 'shit': 1972, 'tarth': 1973, 'blanket': 1974, 'wept': 1975, 'rowan': 1976, 'star': 1977, 'pyramid': 1978, 'fifteen': 1979, 'shavepate': 1980, 'bull': 1981, 'clothing': 1982, 'lesson': 1983, 'autumn': 1984, 'marched': 1985, 'healer': 1986, 'frog': 1987, 'note': 1988, 'ghosts': 1989, 'lingered': 1990, 'breastplate': 1991, 'sewn': 1992, 'hole': 1993, 'elbow': 1994, 'pits': 1995, 'careful': 1996, 'champion': 1997, 'presence': 1998, 'horns': 1999, 'rear': 2000, 'thrown': 2001, 'holdfast': 2002, 'valyria': 2003, 'drunken': 2004, 'amidst': 2005, 'matters': 2006, 'crack': 2007, 'settled': 2008, 'joy': 2009, 'kitchens': 2010, 'stew': 2011, 'lommy': 2012, 'toes': 2013, 'bars': 2014, 'prayers': 2015, 'cost': 2016, 'fiery': 2017, 'mya': 2018, 'dust': 2019, 'agree': 2020, 'indeed': 2021, 'pot': 2022, 'knowing': 2023, 'rattleshirt': 2024, 'bodies': 2025, 'crew': 2026, 'bloodriders': 2027, 'confess': 2028, 'vargo': 2029, 'elia': 2030, 'loves': 2031, 'sides': 2032, 'clutching': 2033, 'rush': 2034, 'suffer': 2035, 'braavosi': 2036, 'stout': 2037, 'ruled': 2038, 'bid': 2039, 'roots': 2040, 'twisting': 2041, 'failed': 2042, 'wagon': 2043, 'asking': 2044, 'passage': 2045, 'brazen': 2046, 'shaft': 2047, 'quietly': 2048, 'married': 2049, 'shouldn': 2050, 'salladhor': 2051, 'riverlands': 2052, 'lined': 2053, 'wrote': 2054, 'drown': 2055, 'bleeding': 2056, 'gifts': 2057, 'comfort': 2058, 'piece': 2059, 'smallwood': 2060, 'tear': 2061, 'reply': 2062, 'terms': 2063, 'maesters': 2064, 'ashes': 2065, 'happens': 2066, 'crone': 2067, 'ah': 2068, 'ringing': 2069, 'thorne': 2070, 'bastards': 2071, 'begging': 2072, 'elsewise': 2073, 'gloves': 2074, 'swann': 2075, 'swift': 2076, 'fever': 2077, 'refuse': 2078, 'mirri': 2079, 'sullen': 2080, 'addam': 2081, 'pod': 2082, 'wary': 2083, 'hell': 2084, 'tokar': 2085, 'sniffed': 2086, 'dais': 2087, 'hooves': 2088, 'stained': 2089, 'parts': 2090, 'except': 2091, 'leading': 2092, 'hostage': 2093, 'fruit': 2094, 'flight': 2095, 'shifted': 2096, 'dried': 2097, 'scabbard': 2098, 'street': 2099, 'sunlight': 2100, 'rage': 2101, 'umber': 2102, 'plans': 2103, 'cailin': 2104, 'cleared': 2105, 'map': 2106, 'headed': 2107, 'aggo': 2108, 'snakes': 2109, 'swirling': 2110, 'clung': 2111, 'coins': 2112, 'linen': 2113, 'prefer': 2114, 'haunted': 2115, 'reed': 2116, 'chewed': 2117, 'despite': 2118, 'blackened': 2119, 'loraq': 2120, 'rolling': 2121, 'dondarrion': 2122, 'concern': 2123, 'monstrous': 2124, 'upward': 2125, 'motte': 2126, 'winds': 2127, 'gardens': 2128, 'harys': 2129, 'lannisport': 2130, 'shelter': 2131, 'support': 2132, 'dome': 2133, 'safely': 2134, 'betrayed': 2135, 'easier': 2136, 'crooked': 2137, 'taena': 2138, 'miles': 2139, 'nice': 2140, 'hopes': 2141, 'fourteen': 2142, 'steep': 2143, 'required': 2144, 'garth': 2145, 'bath': 2146, 'ignored': 2147, 'wrinkled': 2148, 'questions': 2149, 'ours': 2150, 'trusted': 2151, 'breathing': 2152, 'warriors': 2153, 'bringing': 2154, 'brush': 2155, 'kingdom': 2156, 'brick': 2157, 'curious': 2158, 'split': 2159, 'splendid': 2160, 'foolish': 2161, 'jade': 2162, 'hammer': 2163, 'drifting': 2164, 'chuckled': 2165, 'troubled': 2166, 'cave': 2167, 'louder': 2168, 'stolen': 2169, 'lances': 2170, 'backward': 2171, 'skins': 2172, 'loomed': 2173, 'missed': 2174, 'danger': 2175, 'harwin': 2176, 'cells': 2177, 'double': 2178, 'liar': 2179, 'otherwise': 2180, 'skinny': 2181, 'clydas': 2182, 'mighty': 2183, 'hid': 2184, 'throwing': 2185, 'noticed': 2186, 'carrying': 2187, 'tunnel': 2188, 'plan': 2189, 'hedge': 2190, 'foul': 2191, 'pools': 2192, 'strode': 2193, 'poisoned': 2194, 'anxious': 2195, 'hunter': 2196, 'burnt': 2197, 'maidenpool': 2198, 'stubborn': 2199, 'getting': 2200, 'asshai': 2201, 'lack': 2202, 'ghis': 2203, 'cover': 2204, 'backed': 2205, 'jerked': 2206, 'remind': 2207, 'tongues': 2208, 'voyage': 2209, 'rorge': 2210, 'journey': 2211, 'handful': 2212, 'surcoat': 2213, 'scattered': 2214, 'added': 2215, 'dim': 2216, 'skulls': 2217, 'search': 2218, 'gloom': 2219, 'jaqen': 2220, 'honest': 2221, 'huddled': 2222, 'precious': 2223, 'protector': 2224, 'yanked': 2225, 'maz': 2226, 'evil': 2227, 'tooth': 2228, 'duur': 2229, 'history': 2230, 'marillion': 2231, 'ghiscari': 2232, 'bitch': 2233, 'removed': 2234, 'stuffed': 2235, 'betrothed': 2236, 'halls': 2237, 'wager': 2238, 'damphair': 2239, 'rebellion': 2240, 'tide': 2241, 'scarred': 2242, 'climbing': 2243, 'dungeons': 2244, 'stroked': 2245, 'heroes': 2246, 'observed': 2247, 'striped': 2248, 'gaunt': 2249, 'confused': 2250, 'score': 2251, 'gallant': 2252, 'footsteps': 2253, 'servant': 2254, 'glow': 2255, 'licked': 2256, 'gilded': 2257, 'holds': 2258, 'tangled': 2259, 'grateful': 2260, 'nymeria': 2261, 'shouts': 2262, 'mounts': 2263, 'seed': 2264, 'ruin': 2265, 'brazier': 2266, 'donal': 2267, 'grip': 2268, 'hoping': 2269, 'lantern': 2270, 'vast': 2271, 'exile': 2272, 'guest': 2273, 'tumbled': 2274, 'amory': 2275, 'varamyr': 2276, 'wherever': 2277, 'enter': 2278, 'devan': 2279, 'hacked': 2280, 'overhead': 2281, 'deliver': 2282, 'rat': 2283, 'fuck': 2284, 'monsters': 2285, 'paper': 2286, 'waste': 2287, 'grasp': 2288, 'frowning': 2289, 'luck': 2290, 'flushed': 2291, 'sire': 2292, 'fourth': 2293, 'pylos': 2294, 'favor': 2295, 'aloud': 2296, 'boot': 2297, 'holes': 2298, 'shaped': 2299, 'terror': 2300, 'crawled': 2301, 'surprise': 2302, 'raped': 2303, 'doom': 2304, 'stirred': 2305, 'following': 2306, 'slit': 2307, 'creeping': 2308, 'hornwood': 2309, 'purpose': 2310, 'rushing': 2311, 'brothel': 2312, 'stole': 2313, 'scarce': 2314, 'miss': 2315, 'scarlet': 2316, 'summoned': 2317, 'sideways': 2318, 'egg': 2319, 'soul': 2320, 'party': 2321, 'sunset': 2322, 'hanging': 2323, 'blackwood': 2324, 'grim': 2325, 'fears': 2326, 'struggled': 2327, 'underneath': 2328, 'really': 2329, 'rightful': 2330, 'chained': 2331, 'shake': 2332, 'descent': 2333, 'cuts': 2334, 'denys': 2335, 'deaf': 2336, 'soup': 2337, 'band': 2338, 'fellow': 2339, 'stands': 2340, 'robin': 2341, 'piper': 2342, 'meribald': 2343, 'favorite': 2344, 'viper': 2345, 'crawling': 2346, 'anyway': 2347, 'notice': 2348, 'warden': 2349, 'whom': 2350, 'arakh': 2351, 'attend': 2352, 'slavers': 2353, 'kitchen': 2354, 'dreaming': 2355, 'weese': 2356, 'training': 2357, 'moss': 2358, 'smuggler': 2359, 'gatehouse': 2360, 'dwarfs': 2361, 'tyrells': 2362, 'slay': 2363, 'explained': 2364, 'clumsy': 2365, 'locked': 2366, 'worship': 2367, 'tables': 2368, 'maegor': 2369, 'nearest': 2370, 'blessed': 2371, 'loyalty': 2372, 'surface': 2373, 'kicking': 2374, 'admit': 2375, 'accept': 2376, 'marked': 2377, 'plucked': 2378, 'bacon': 2379, 'wildfire': 2380, 'trotted': 2381, 'main': 2382, 'lothar': 2383, 'roar': 2384, 'hanged': 2385, 'scars': 2386, 'rosby': 2387, 'torrhen': 2388, 'oath': 2389, 'scar': 2390, 'scales': 2391, 'circle': 2392, 'beating': 2393, 'mole': 2394, 'recalled': 2395, 'flapping': 2396, 'skirts': 2397, 'uncles': 2398, 'blinked': 2399, 'growled': 2400, 'heel': 2401, 'bearded': 2402, 'mules': 2403, 'quill': 2404, 'muddy': 2405, 'fewer': 2406, 'hearing': 2407, 'thoughts': 2408, 'harry': 2409, 'row': 2410, 'mead': 2411, 'carefully': 2412, 'aboard': 2413, 'mouse': 2414, 'dripping': 2415, 'direwolves': 2416, 'dear': 2417, 'rotting': 2418, 'mocked': 2419, 'dies': 2420, 'wyk': 2421, 'confessed': 2422, 'treacherous': 2423, 'building': 2424, 'tells': 2425, 'padded': 2426, 'stripped': 2427, 'thunder': 2428, 'yezzan': 2429, 'naught': 2430, 'colored': 2431, 'soldier': 2432, 'thighs': 2433, 'solid': 2434, 'view': 2435, 'howled': 2436, 'escaped': 2437, 'wax': 2438, 'drop': 2439, 'arstan': 2440, 'vow': 2441, 'centuries': 2442, 'knives': 2443, 'maids': 2444, 'stairs': 2445, 'smiles': 2446, 'judge': 2447, 'familiar': 2448, 'outer': 2449, 'kettle': 2450, 'roast': 2451, 'wars': 2452, 'former': 2453, 'kraken': 2454, 'tiny': 2455, 'ends': 2456, 'cellar': 2457, 'talked': 2458, 'garb': 2459, 'gazed': 2460, 'weasel': 2461, 'bracken': 2462, 'longships': 2463, 'lesser': 2464, 'pines': 2465, 'cotter': 2466, 'rings': 2467, 'dull': 2468, 'arse': 2469, 'shrug': 2470, 'armorer': 2471, 'timett': 2472, 'filling': 2473, 'snake': 2474, 'gestured': 2475, 'fault': 2476, 'laws': 2477, 'ornate': 2478, 'spoon': 2479, 'dreamt': 2480, 'animals': 2481, 'breaking': 2482, 'calls': 2483, 'branch': 2484, 'whispers': 2485, 'garden': 2486, 'pleasant': 2487, 'wretched': 2488, 'spinning': 2489, 'kneel': 2490, 'tightened': 2491, 'bits': 2492, 'yohn': 2493, 'walda': 2494, 'finish': 2495, 'duties': 2496, 'calm': 2497, 'jape': 2498, 'defeat': 2499, 'viserion': 2500, 'turns': 2501, 'strangers': 2502, 'lap': 2503, 'tanda': 2504, 'feathers': 2505, 'anguy': 2506, 'honored': 2507, 'lonely': 2508, 'meaning': 2509, 'hostages': 2510, 'conqueror': 2511, 'halfway': 2512, 'startled': 2513, 'portcullis': 2514, 'hip': 2515, 'whiskers': 2516, 'heavily': 2517, 'reaching': 2518, 'leaning': 2519, 'rape': 2520, 'claws': 2521, 'trant': 2522, 'whitebeard': 2523, 'mandon': 2524, 'snows': 2525, 'wun': 2526, 'summon': 2527, 'privy': 2528, 'forge': 2529, 'silks': 2530, 'fail': 2531, 'slayer': 2532, 'donnel': 2533, 'tattered': 2534, 'struggling': 2535, 'hells': 2536, 'greatsword': 2537, 'wanting': 2538, 'fealty': 2539, 'natural': 2540, 'lollys': 2541, 'pitch': 2542, 'stroke': 2543, 'drifted': 2544, 'steady': 2545, 'tytos': 2546, 'further': 2547, 'teats': 2548, 'southron': 2549, 'nod': 2550, 'keeping': 2551, 'drive': 2552, 'boats': 2553, 'thumb': 2554, 'lucky': 2555, 'marbrand': 2556, 'dismounted': 2557, 'shireen': 2558, 'pick': 2559, 'seneschal': 2560, 'shade': 2561, 'goats': 2562, 'doubtless': 2563, 'goose': 2564, 'archer': 2565, 'beds': 2566, 'middle': 2567, 'final': 2568, 'hint': 2569, 'brings': 2570, 'garron': 2571, 'assured': 2572, 'hearts': 2573, 'mention': 2574, 'treat': 2575, 'shivered': 2576, 'strangely': 2577, 'stink': 2578, 'priests': 2579, 'ribs': 2580, 'seaworth': 2581, 'paul': 2582, 'paused': 2583, 'desmond': 2584, 'parted': 2585, 'swyft': 2586, 'dug': 2587, 'innkeep': 2588, 'tyroshi': 2589, 'blankets': 2590, 'vengeance': 2591, 'flashed': 2592, 'lordling': 2593, 'beggar': 2594, 'hightower': 2595, 'wheeled': 2596, 'jack': 2597, 'build': 2598, 'promises': 2599, 'sixty': 2600, 'staff': 2601, 'dustin': 2602, 'botley': 2603, 'breathe': 2604, 'exchanged': 2605, 'prisoner': 2606, 'pushing': 2607, 'mothers': 2608, 'dancer': 2609, 'limbs': 2610, 'yesterday': 2611, 'searching': 2612, 'raiders': 2613, 'blount': 2614, 'spikes': 2615, 'sorts': 2616, 'counted': 2617, 'choked': 2618, 'consent': 2619, 'lamb': 2620, 'driving': 2621, 'nimble': 2622, 'tangle': 2623, 'press': 2624, 'mouths': 2625, 'obara': 2626, 'fastened': 2627, 'blond': 2628, 'traitors': 2629, 'reading': 2630, 'continued': 2631, 'ruby': 2632, 'trueborn': 2633, 'mile': 2634, 'stare': 2635, 'apples': 2636, 'trail': 2637, 'grows': 2638, 'hurried': 2639, 'pavilion': 2640, 'crushed': 2641, 'rags': 2642, 'inch': 2643, 'edric': 2644, 'pace': 2645, 'damned': 2646, 'backs': 2647, 'trembling': 2648, 'length': 2649, 'vile': 2650, 'stable': 2651, 'yarwyck': 2652, 'ceiling': 2653, 'yunkish': 2654, 'auburn': 2655, 'pile': 2656, 'freed': 2657, 'creatures': 2658, 'debts': 2659, 'appear': 2660, 'peered': 2661, 'haven': 2662, 'pigs': 2663, 'sake': 2664, 'praying': 2665, 'belonged': 2666, 'dread': 2667, 'roses': 2668, 'roads': 2669, 'gathering': 2670, 'market': 2671, 'bricks': 2672, 'eagle': 2673, 'plainly': 2674, 'gaze': 2675, 'outlaw': 2676, 'chief': 2677, 'biter': 2678, 'rakharo': 2679, 'dywen': 2680, 'boom': 2681, 'protection': 2682, 'prey': 2683, 'stench': 2684, 'cart': 2685, 'sheath': 2686, 'bears': 2687, 'train': 2688, 'wendel': 2689, 'dayne': 2690, 'possible': 2691, 'whirled': 2692, 'bowels': 2693, 'melted': 2694, 'wicked': 2695, 'handmaids': 2696, 'villages': 2697, 'mayhaps': 2698, 'benches': 2699, 'hounds': 2700, 'counselor': 2701, 'rooms': 2702, 'suit': 2703, 'sucked': 2704, 'nowhere': 2705, 'hopped': 2706, 'solemn': 2707, 'endless': 2708, 'reeds': 2709, 'base': 2710, 'dragonglass': 2711, 'marching': 2712, 'number': 2713, 'family': 2714, 'silvery': 2715, 'crimes': 2716, 'awake': 2717, 'flapped': 2718, 'frighten': 2719, 'forgot': 2720, 'freedom': 2721, 'purse': 2722, 'ashore': 2723, 'charged': 2724, 'freedmen': 2725, 'sparrows': 2726, 'flowing': 2727, 'rainbow': 2728, 'mock': 2729, 'toad': 2730, 'roslin': 2731, 'spilled': 2732, 'desperate': 2733, 'wights': 2734, 'leaf': 2735, 'plaza': 2736, 'jarl': 2737, 'soiled': 2738, 'jerkin': 2739, 'palace': 2740, 'eastern': 2741, 'mocking': 2742, 'smallclothes': 2743, 'scratched': 2744, 'spring': 2745, 'approach': 2746, 'crakehall': 2747, 'greater': 2748, 'gallery': 2749, 'drums': 2750, 'turncloak': 2751, 'ridge': 2752, 'crashed': 2753, 'stabbed': 2754, 'collapsed': 2755, 'poppy': 2756, 'eunuchs': 2757, 'septons': 2758, 'galbart': 2759, 'important': 2760, 'stormcrows': 2761, 'interest': 2762, 'waif': 2763, 'yronwood': 2764, 'colder': 2765, 'jewels': 2766, 'animal': 2767, 'drawbridge': 2768, 'sufficient': 2769, 'approached': 2770, 'spend': 2771, 'pillow': 2772, 'demon': 2773, 'seas': 2774, 'manhood': 2775, 'floating': 2776, 'longclaw': 2777, 'restless': 2778, 'ruined': 2779, 'speaks': 2780, 'kisses': 2781, 'studded': 2782, 'lurched': 2783, 'fog': 2784, 'bathed': 2785, 'rid': 2786, 'estermont': 2787, 'sniffing': 2788, 'lemon': 2789, 'happening': 2790, 'humble': 2791, 'dungeon': 2792, 'trap': 2793, 'glimpse': 2794, 'trimmed': 2795, 'maegi': 2796, 'content': 2797, 'net': 2798, 'formed': 2799, 'dalla': 2800, 'westerosi': 2801, 'helms': 2802, 'moments': 2803, 'feeble': 2804, 'cask': 2805, 'priestess': 2806, 'evenfall': 2807, 'glove': 2808, 'lace': 2809, 'worthy': 2810, 'butter': 2811, 'quarrel': 2812, 'gives': 2813, 'grin': 2814, 'relief': 2815, 'storms': 2816, 'swinging': 2817, 'cursing': 2818, 'root': 2819, 'spearmen': 2820, 'warning': 2821, 'theirs': 2822, 'spared': 2823, 'oldest': 2824, 'kraznys': 2825, 'wayn': 2826, 'harvest': 2827, 'packed': 2828, 'orders': 2829, 'regent': 2830, 'captured': 2831, 'suffered': 2832, 'sits': 2833, 'waynwood': 2834, 'blurted': 2835, 'ransom': 2836, 'polished': 2837, 'brune': 2838, 'suspiciously': 2839, 'horror': 2840, 'braid': 2841, 'shove': 2842, 'visited': 2843, 'bucket': 2844, 'darker': 2845, 'lyanna': 2846, 'sore': 2847, 'barred': 2848, 'crabs': 2849, 'cleon': 2850, 'merry': 2851, 'form': 2852, 'genna': 2853, 'garlan': 2854, 'comet': 2855, 'abruptly': 2856, 'stubbornly': 2857, 'curses': 2858, 'vaes': 2859, 'hobb': 2860, 'veins': 2861, 'wiser': 2862, 'proof': 2863, 'harp': 2864, 'manner': 2865, 'beginning': 2866, 'tub': 2867, 'andals': 2868, 'elsewhere': 2869, 'liege': 2870, 'thigh': 2871, 'wroth': 2872, 'poole': 2873, 'polliver': 2874, 'bedding': 2875, 'corbray': 2876, 'leathers': 2877, 'cutting': 2878, 'wrists': 2879, 'protected': 2880, 'belong': 2881, 'stern': 2882, 'tickler': 2883, 'titan': 2884, 'filthy': 2885, 'melting': 2886, 'amused': 2887, 'rains': 2888, 'concerned': 2889, 'cats': 2890, 'abed': 2891, 'gasped': 2892, 'woolen': 2893, 'weapon': 2894, 'fearsome': 2895, 'rested': 2896, 'points': 2897, 'crystal': 2898, 'vardis': 2899, 'tyene': 2900, 'chunk': 2901, 'staggered': 2902, 'cerwyn': 2903, 'terrace': 2904, 'crawl': 2905, 'silently': 2906, 'preferred': 2907, 'hideous': 2908, 'opening': 2909, 'trading': 2910, 'deer': 2911, 'innocence': 2912, 'bell': 2913, 'dornishman': 2914, 'flee': 2915, 'justin': 2916, 'tidings': 2917, 'inclined': 2918, 'ripe': 2919, 'reins': 2920, 'wealth': 2921, 'squirrel': 2922, 'chests': 2923, 'sliding': 2924, 'elephants': 2925, 'mule': 2926, 'saltpans': 2927, 'meereenese': 2928, 'sobbing': 2929, 'rank': 2930, 'returning': 2931, 'yielded': 2932, 'smash': 2933, 'shot': 2934, 'mist': 2935, 'spiked': 2936, 'stiffly': 2937, 'ink': 2938, 'edwyn': 2939, 'bowmen': 2940, 'threat': 2941, 'willow': 2942, 'lothor': 2943, 'smoking': 2944, 'floated': 2945, 'combat': 2946, 'suspected': 2947, 'rushes': 2948, 'tearing': 2949, 'scouts': 2950, 'halfmaester': 2951, 'tightly': 2952, 'nature': 2953, 'granted': 2954, 'inner': 2955, 'broth': 2956, 'ropes': 2957, 'garin': 2958, 'rhoyne': 2959, 'poked': 2960, 'uncertain': 2961, 'rotten': 2962, 'elk': 2963, 'tallhart': 2964, 'writing': 2965, 'numbers': 2966, 'hosteen': 2967, 'emmett': 2968, 'kingswood': 2969, 'knowledge': 2970, 'owen': 2971, 'cloud': 2972, 'setting': 2973, 'leo': 2974, 'casks': 2975, 'flickering': 2976, 'mord': 2977, 'pyramids': 2978, 'eager': 2979, 'continue': 2980, 'muttering': 2981, 'consider': 2982, 'fate': 2983, 'beckoned': 2984, 'sailing': 2985, 'crypts': 2986, 'rusted': 2987, 'osfryd': 2988, 'magnificence': 2989, 'betray': 2990, 'crash': 2991, 'certainty': 2992, 'snarling': 2993, 'doubts': 2994, 'naharis': 2995, 'sins': 2996, 'massey': 2997, 'qartheen': 2998, 'stumbling': 2999, 'barrow': 3000, 'chunks': 3001, 'roughspun': 3002, 'guilty': 3003, 'plunder': 3004, 'faithful': 3005, 'barrels': 3006, 'seastone': 3007, 'swirled': 3008, 'slope': 3009, 'cared': 3010, 'drag': 3011, 'comfortable': 3012, 'practice': 3013, 'halt': 3014, 'drum': 3015, 'gets': 3016, 'owe': 3017, 'palm': 3018, 'mortal': 3019, 'coast': 3020, 'willas': 3021, 'sees': 3022, 'roaring': 3023, 'kingsmoot': 3024, 'seagard': 3025, 'jagged': 3026, 'oaf': 3027, 'account': 3028, 'midday': 3029, 'ram': 3030, 'oakheart': 3031, 'prisoners': 3032, 'charred': 3033, 'putting': 3034, 'recognized': 3035, 'sleeves': 3036, 'logs': 3037, 'barefoot': 3038, 'trunk': 3039, 'qarl': 3040, 'pretend': 3041, 'cunt': 3042, 'bugger': 3043, 'shafts': 3044, 'cape': 3045, 'mammoths': 3046, 'reward': 3047, 'guarded': 3048, 'shift': 3049, 'fucking': 3050, 'warn': 3051, 'doreah': 3052, 'lemore': 3053, 'jacelyn': 3054, 'camps': 3055, 'turtle': 3056, 'remove': 3057, 'brotherhood': 3058, 'styr': 3059, 'screams': 3060, 'dirty': 3061, 'marq': 3062, 'sip': 3063, 'tyrosh': 3064, 'holiness': 3065, 'northern': 3066, 'raced': 3067, 'finest': 3068, 'pouring': 3069, 'immense': 3070, 'mists': 3071, 'aenys': 3072, 'stonesnake': 3073, 'vance': 3074, 'useless': 3075, 'helpless': 3076, 'mutton': 3077, 'beaten': 3078, 'cortnay': 3079, 'crashing': 3080, 'comely': 3081, 'shiver': 3082, 'jars': 3083, 'crust': 3084, 'shiny': 3085, 'enjoy': 3086, 'shrieked': 3087, 'curved': 3088, 'ralf': 3089, 'hissed': 3090, 'spider': 3091, 'crabb': 3092, 'finding': 3093, 'ankle': 3094, 'grandsons': 3095, 'edged': 3096, 'alleys': 3097, 'alys': 3098, 'awaits': 3099, 'driven': 3100, 'custom': 3101, 'bum': 3102, 'threatened': 3103, 'attacked': 3104, 'vaulted': 3105, 'stevron': 3106, 'falls': 3107, 'wandering': 3108, 'gust': 3109, 'deserted': 3110, 'shorter': 3111, 'jason': 3112, 'act': 3113, 'lover': 3114, 'accused': 3115, 'woken': 3116, 'curls': 3117, 'womb': 3118, 'symon': 3119, 'largest': 3120, 'rare': 3121, 'cyvasse': 3122, 'crippled': 3123, 'falyse': 3124, 'lads': 3125, 'torchlight': 3126, 'jaws': 3127, 'squeezed': 3128, 'cunning': 3129, 'visor': 3130, 'followers': 3131, 'bag': 3132, 'sly': 3133, 'shutters': 3134, 'losing': 3135, 'envoy': 3136, 'curtain': 3137, 'robett': 3138, 'shaved': 3139, 'roll': 3140, 'afire': 3141, 'rotted': 3142, 'stirring': 3143, 'pardons': 3144, 'shed': 3145, 'pearls': 3146, 'racing': 3147, 'wing': 3148, 'bows': 3149, 'freeriders': 3150, 'legged': 3151, 'blows': 3152, 'lyseni': 3153, 'tend': 3154, 'audience': 3155, 'ordered': 3156, 'fiercely': 3157, 'swaying': 3158, 'windblown': 3159, 'bitterly': 3160, 'beer': 3161, 'trout': 3162, 'worms': 3163, 'marches': 3164, 'pine': 3165, 'bar': 3166, 'bet': 3167, 'squat': 3168, 'barked': 3169, 'prepared': 3170, 'bard': 3171, 'arched': 3172, 'lamp': 3173, 'decide': 3174, 'valor': 3175, 'cripple': 3176, 'mob': 3177, 'bellowed': 3178, 'knock': 3179, 'whent': 3180, 'fighters': 3181, 'fishing': 3182, 'law': 3183, 'wrath': 3184, 'slung': 3185, 'cream': 3186, 'doomed': 3187, 'stakes': 3188, 'skinned': 3189, 'awaited': 3190, 'western': 3191, 'release': 3192, 'kindness': 3193, 'sank': 3194, 'shocked': 3195, 'coarse': 3196, 'plunged': 3197, 'draped': 3198, 'honors': 3199, 'patchface': 3200, 'cooked': 3201, 'uneasy': 3202, 'gaoler': 3203, 'grunted': 3204, 'claims': 3205, 'stableboy': 3206, 'hull': 3207, 'push': 3208, 'perched': 3209, 'spot': 3210, 'arry': 3211, 'seasoned': 3212, 'reined': 3213, 'ringmail': 3214, 'lordlings': 3215, 'looming': 3216, 'lazy': 3217, 'fearful': 3218, 'monkey': 3219, 'patience': 3220, 'slaughter': 3221, 'prize': 3222, 'babes': 3223, 'sailor': 3224, 'twist': 3225, 'alester': 3226, 'spike': 3227, 'escorted': 3228, 'witness': 3229, 'upper': 3230, 'attempt': 3231, 'moqorro': 3232, 'fifth': 3233, 'nervous': 3234, 'rushed': 3235, 'needles': 3236, 'beef': 3237, 'cog': 3238, 'colemon': 3239, 'trick': 3240, 'flaming': 3241, 'stewards': 3242, 'stale': 3243, 'paying': 3244, 'selling': 3245, 'sadly': 3246, 'limb': 3247, 'ladder': 3248, 'rhaegal': 3249, 'streaming': 3250, 'maps': 3251, 'boast': 3252, 'shallow': 3253, 'prospect': 3254, 'treated': 3255, 'daven': 3256, 'survive': 3257, 'helping': 3258, 'commanding': 3259, 'hairy': 3260, 'thrones': 3261, 'scowled': 3262, 'amusing': 3263, 'turnips': 3264, 'fathers': 3265, 'echoing': 3266, 'buildings': 3267, 'steelshanks': 3268, 'splash': 3269, 'crime': 3270, 'drowning': 3271, 'graces': 3272, 'knighthood': 3273, 'darkened': 3274, 'galloped': 3275, 'female': 3276, 'departed': 3277, 'simply': 3278, 'bared': 3279, 'westerling': 3280, 'quicker': 3281, 'nipples': 3282, 'arch': 3283, 'noted': 3284, 'lyn': 3285, 'swim': 3286, 'ellaria': 3287, 'fitting': 3288, 'sacred': 3289, 'armies': 3290, 'wishes': 3291, 'difference': 3292, 'cliff': 3293, 'radiance': 3294, 'dagmer': 3295, 'bark': 3296, 'nails': 3297, 'shapes': 3298, 'grasped': 3299, 'companion': 3300, 'serjeant': 3301, 'clasped': 3302, 'coughing': 3303, 'permit': 3304, 'roasted': 3305, 'signs': 3306, 'weren': 3307, 'dothrak': 3308, 'forged': 3309, 'signed': 3310, 'heed': 3311, 'mikken': 3312, 'defeated': 3313, 'compared': 3314, 'delivered': 3315, 'stuff': 3316, 'slick': 3317, 'cushions': 3318, 'uncomfortable': 3319, 'muffled': 3320, 'slash': 3321, 'travel': 3322, 'agony': 3323, 'squeeze': 3324, 'useful': 3325, 'hooded': 3326, 'harma': 3327, 'scrawny': 3328, 'kick': 3329, 'grease': 3330, 'rides': 3331, 'earned': 3332, 'alley': 3333, 'nostrils': 3334, 'drawing': 3335, 'offering': 3336, 'grinning': 3337, 'sentinels': 3338, 'mood': 3339, 'walton': 3340, 'attended': 3341, 'meris': 3342, 'bleak': 3343, 'chainmail': 3344, 'ford': 3345, 'desperately': 3346, 'wolfswood': 3347, 'spreading': 3348, 'honorable': 3349, 'flap': 3350, 'thieves': 3351, 'cooks': 3352, 'winding': 3353, 'haste': 3354, 'modest': 3355, 'pup': 3356, 'shaggydog': 3357, 'gather': 3358, 'safer': 3359, 'grandmother': 3360, 'tugged': 3361, 'returns': 3362, 'sheathed': 3363, 'othell': 3364, 'niece': 3365, 'cries': 3366, 'faintly': 3367, 'grazdan': 3368, 'rail': 3369, 'rot': 3370, 'realize': 3371, 'current': 3372, 'chased': 3373, 'shock': 3374, 'cow': 3375, 'rip': 3376, 'messages': 3377, 'archmaester': 3378, 'raff': 3379, 'closing': 3380, 'tornmen': 3381, 'ache': 3382, 'excuse': 3383, 'lights': 3384, 'hire': 3385, 'thief': 3386, 'nonetheless': 3387, 'bolt': 3388, 'pirates': 3389, 'nuncle': 3390, 'beloved': 3391, 'snapping': 3392, 'basket': 3393, 'tankard': 3394, 'courtesies': 3395, 'grab': 3396, 'garrons': 3397, 'standard': 3398, 'barracks': 3399, 'funny': 3400, 'stinking': 3401, 'mully': 3402, 'closely': 3403, 'flayed': 3404, 'groleo': 3405, 'underfoot': 3406, 'slim': 3407, 'mustache': 3408, 'crackling': 3409, 'sealed': 3410, 'jonos': 3411, 'steffon': 3412, 'pressing': 3413, 'carrots': 3414, 'brax': 3415, 'eleven': 3416, 'shagwell': 3417, 'height': 3418, 'fists': 3419, 'yandry': 3420, 'nervously': 3421, 'abel': 3422, 'ranging': 3423, 'healthy': 3424, 'longaxe': 3425, 'horizon': 3426, 'person': 3427, 'hal': 3428, 'trembled': 3429, 'pirate': 3430, 'wildly': 3431, 'swordbelt': 3432, 'forgiveness': 3433, 'areo': 3434, 'received': 3435, 'stokeworth': 3436, 'sweeter': 3437, 'sow': 3438, 'stealing': 3439, 'effort': 3440, 'cakes': 3441, 'spurred': 3442, 'howl': 3443, 'desire': 3444, 'cinnamon': 3445, 'hides': 3446, 'seize': 3447, 'wex': 3448, 'rookery': 3449, 'arthur': 3450, 'biggest': 3451, 'wasted': 3452, 'lorren': 3453, 'tris': 3454, 'shirt': 3455, 'shuddered': 3456, 'willem': 3457, 'rattling': 3458, 'meals': 3459, 'features': 3460, 'piled': 3461, 'raising': 3462, 'bailey': 3463, 'starve': 3464, 'grunt': 3465, 'targaryens': 3466, 'astapori': 3467, 'mailed': 3468, 'den': 3469, 'willing': 3470, 'boil': 3471, 'princes': 3472, 'whoever': 3473, 'pleaded': 3474, 'coughed': 3475, 'aurochs': 3476, 'sharpened': 3477, 'carcass': 3478, 'van': 3479, 'solemnly': 3480, 'convinced': 3481, 'streams': 3482, 'fortunate': 3483, 'paxter': 3484, 'peck': 3485, 'alleras': 3486, 'pinched': 3487, 'stalked': 3488, 'pages': 3489, 'suited': 3490, 'digging': 3491, 'fellows': 3492, 'safety': 3493, 'frail': 3494, 'abandon': 3495, 'proclaimed': 3496, 'huntsman': 3497, 'godry': 3498, 'jumped': 3499, 'wishing': 3500, 'mushrooms': 3501, 'lame': 3502, 'struggle': 3503, 'patrek': 3504, 'feeding': 3505, 'office': 3506, 'wheels': 3507, 'giantsbane': 3508, 'smelling': 3509, 'creighton': 3510, 'barking': 3511, 'vowed': 3512, 'restore': 3513, 'brothels': 3514, 'heh': 3515, 'fathered': 3516, 'gloved': 3517, 'butt': 3518, 'weeds': 3519, 'starved': 3520, 'barrel': 3521, 'jest': 3522, 'quarter': 3523, 'glowing': 3524, 'determined': 3525, 'rows': 3526, 'happily': 3527, 'lorch': 3528, 'usual': 3529, 'thorns': 3530, 'harren': 3531, 'actually': 3532, 'tysha': 3533, 'flea': 3534, 'crescent': 3535, 'bleed': 3536, 'peeled': 3537, 'whipped': 3538, 'embroidered': 3539, 'courteous': 3540, 'heal': 3541, 'strip': 3542, 'shimmering': 3543, 'midnight': 3544, 'sprawled': 3545, 'reports': 3546, 'nearby': 3547, 'rubies': 3548, 'clenched': 3549, 'savages': 3550, 'peering': 3551, 'pillars': 3552, 'famous': 3553, 'pyat': 3554, 'tucked': 3555, 'valley': 3556, 'skill': 3557, 'cloaked': 3558, 'rustling': 3559, 'champions': 3560, 'starting': 3561, 'karhold': 3562, 'tutor': 3563, 'powerful': 3564, 'longbow': 3565, 'shamed': 3566, 'officers': 3567, 'herald': 3568, 'links': 3569, 'fashion': 3570, 'sacrifice': 3571, 'washing': 3572, 'suspicious': 3573, 'block': 3574, 'ease': 3575, 'debt': 3576, 'blaze': 3577, 'kneeling': 3578, 'grumbled': 3579, 'stank': 3580, 'breakfast': 3581, 'sausage': 3582, 'pointing': 3583, 'bearing': 3584, 'coiled': 3585, 'delicate': 3586, 'folded': 3587, 'grimaced': 3588, 'shell': 3589, 'lock': 3590, 'gerold': 3591, 'nightfort': 3592, 'claw': 3593, 'wailing': 3594, 'reluctantly': 3595, 'soil': 3596, 'silken': 3597, 'brusco': 3598, 'awkwardly': 3599, 'bury': 3600, 'statue': 3601, 'nym': 3602, 'intent': 3603, 'relieved': 3604, 'maimed': 3605, 'docks': 3606, 'downstream': 3607, 'eighteen': 3608, 'sickly': 3609, 'sodden': 3610, 'bored': 3611, 'certainly': 3612, 'odd': 3613, 'violently': 3614, 'alliance': 3615, 'ninety': 3616, 'fighter': 3617, 'grievous': 3618, 'crumbling': 3619, 'accompanied': 3620, 'motley': 3621, 'towering': 3622, 'guardsman': 3623, 'ox': 3624, 'brorm': 3625, 'squinted': 3626, 'gloomy': 3627, 'valiant': 3628, 'griffin': 3629, 'fixed': 3630, 'permitted': 3631, 'waddled': 3632, 'warily': 3633, 'sobbed': 3634, 'quarters': 3635, 'forehead': 3636, 'gesture': 3637, 'butchered': 3638, 'grove': 3639, 'wisps': 3640, 'reared': 3641, 'motion': 3642, 'flowed': 3643, 'shoving': 3644, 'hammered': 3645, 'contempt': 3646, 'tullys': 3647, 'hunger': 3648, 'balerion': 3649, 'prow': 3650, 'rust': 3651, 'belongs': 3652, 'waking': 3653, 'showing': 3654, 'aware': 3655, 'planted': 3656, 'woodharp': 3657, 'cassel': 3658, 'gut': 3659, 'perfect': 3660, 'barber': 3661, 'difficult': 3662, 'loosed': 3663, 'presume': 3664, 'postern': 3665, 'sought': 3666, 'intend': 3667, 'box': 3668, 'planned': 3669, 'provisions': 3670, 'twitched': 3671, 'ryswell': 3672, 'terrors': 3673, 'baseborn': 3674, 'companies': 3675, 'wrought': 3676, 'special': 3677, 'deeply': 3678, 'sends': 3679, 'cocked': 3680, 'serves': 3681, 'owned': 3682, 'lakes': 3683, 'strickland': 3684, 'gared': 3685, 'lifting': 3686, 'woven': 3687, 'dusty': 3688, 'razor': 3689, 'splashed': 3690, 'witch': 3691, 'linger': 3692, 'leaping': 3693, 'ronnet': 3694, 'pious': 3695, 'working': 3696, 'rabbit': 3697, 'pure': 3698, 'sipped': 3699, 'runs': 3700, 'settle': 3701, 'pour': 3702, 'chase': 3703, 'accustomed': 3704, 'avoid': 3705, 'qotho': 3706, 'muscle': 3707, 'speech': 3708, 'blunt': 3709, 'giggled': 3710, 'vault': 3711, 'melt': 3712, 'greatest': 3713, 'brass': 3714, 'olenna': 3715, 'thoren': 3716, 'posted': 3717, 'pia': 3718, 'coals': 3719, 'threats': 3720, 'dipped': 3721, 'stafford': 3722, 'splintered': 3723, 'due': 3724, 'forel': 3725, 'behold': 3726, 'goods': 3727, 'dish': 3728, 'treachery': 3729, 'respect': 3730, 'embers': 3731, 'valar': 3732, 'sands': 3733, 'driftwood': 3734, 'sucking': 3735, 'hallyne': 3736, 'toe': 3737, 'pays': 3738, 'oaken': 3739, 'sway': 3740, 'seals': 3741, 'divided': 3742, 'ranks': 3743, 'crunch': 3744, 'plant': 3745, 'daggers': 3746, 'chicken': 3747, 'stunted': 3748, 'scrambled': 3749, 'confusion': 3750, 'refuge': 3751, 'afoot': 3752, 'alysanne': 3753, 'trystane': 3754, 'pies': 3755, 'thenns': 3756, 'megga': 3757, 'dismay': 3758, 'probably': 3759, 'favored': 3760, 'warhorns': 3761, 'warg': 3762, 'wizard': 3763, 'reddened': 3764, 'nest': 3765, 'thanked': 3766, 'mollen': 3767, 'rhaenys': 3768, 'outriders': 3769, 'boiling': 3770, 'suspicion': 3771, 'shimmered': 3772, 'kissing': 3773, 'warmer': 3774, 'florian': 3775, 'shown': 3776, 'therms': 3777, 'answers': 3778, 'manse': 3779, 'balance': 3780, 'bedded': 3781, 'thirst': 3782, 'protested': 3783, 'chilly': 3784, 'equal': 3785, 'wandered': 3786, 'attention': 3787, 'firmly': 3788, 'chataya': 3789, 'northman': 3790, 'angrily': 3791, 'elinor': 3792, 'mycah': 3793, 'spilling': 3794, 'bulwer': 3795, 'japes': 3796, 'jaremy': 3797, 'spray': 3798, 'breathless': 3799, 'bywater': 3800, 'aren': 3801, 'suck': 3802, 'eased': 3803, 'sprouted': 3804, 'provided': 3805, 'early': 3806, 'glimmered': 3807, 'temples': 3808, 'male': 3809, 'spirits': 3810, 'uncomfortably': 3811, 'report': 3812, 'daxos': 3813, 'greasy': 3814, 'lucas': 3815, 'shuffled': 3816, 'stalwart': 3817, 'hunched': 3818, 'robar': 3819, 'strand': 3820, 'rattled': 3821, 'barley': 3822, 'allegiance': 3823, 'pledge': 3824, 'holdfasts': 3825, 'paint': 3826, 'objected': 3827, 'deserved': 3828, 'greenbeard': 3829, 'curtains': 3830, 'clapped': 3831, 'harsh': 3832, 'wylis': 3833, 'arnolf': 3834, 'yollo': 3835, 'badge': 3836, 'goodbrother': 3837, 'pox': 3838, 'floors': 3839, 'lest': 3840, 'joust': 3841, 'hugged': 3842, 'shriek': 3843, 'searched': 3844, 'apartments': 3845, 'bodice': 3846, 'fox': 3847, 'pork': 3848, 'deeds': 3849, 'gelding': 3850, 'knocking': 3851, 'layers': 3852, 'nipple': 3853, 'limp': 3854, 'patient': 3855, 'clansmen': 3856, 'hawk': 3857, 'shores': 3858, 'gazing': 3859, 'conquest': 3860, 'banks': 3861, 'crude': 3862, 'boomed': 3863, 'eighty': 3864, 'future': 3865, 'aged': 3866, 'courser': 3867, 'healing': 3868, 'trumpets': 3869, 'winch': 3870, 'gnarled': 3871, 'greeted': 3872, 'warhorn': 3873, 'lark': 3874, 'lists': 3875, 'terrified': 3876, 'bless': 3877, 'chestnut': 3878, 'balls': 3879, 'gasp': 3880, 'magnificent': 3881, 'choking': 3882, 'hips': 3883, 'key': 3884, 'lust': 3885, 'meeting': 3886, 'mathis': 3887, 'informed': 3888, 'hovels': 3889, 'slippers': 3890, 'oarsman': 3891, 'requires': 3892, 'martyn': 3893, 'withered': 3894, 'heavier': 3895, 'unseen': 3896, 'pyre': 3897, 'embrace': 3898, 'orton': 3899, 'watery': 3900, 'enjoyed': 3901, 'peach': 3902, 'skinchanger': 3903, 'chasing': 3904, 'token': 3905, 'feasts': 3906, 'juice': 3907, 'vaults': 3908, 'gash': 3909, 'xhoan': 3910, 'leeches': 3911, 'clinging': 3912, 'mammoth': 3913, 'khrazz': 3914, 'level': 3915, 'raymun': 3916, 'canals': 3917, 'drifts': 3918, 'sheet': 3919, 'coward': 3920, 'briefly': 3921, 'wight': 3922, 'concealed': 3923, 'seventeen': 3924, 'gallop': 3925, 'mors': 3926, 'shouldered': 3927, 'uncertainly': 3928, 'pots': 3929, 'streamed': 3930, 'choosing': 3931, 'perished': 3932, 'hat': 3933, 'mostly': 3934, 'denied': 3935, 'strongboar': 3936, 'seventy': 3937, 'flashing': 3938, 'entrance': 3939, 'pepper': 3940, 'myranda': 3941, 'quiver': 3942, 'lacked': 3943, 'stepstones': 3944, 'unella': 3945, 'barrowton': 3946, 'entirely': 3947, 'speed': 3948, 'gleamed': 3949, 'slipping': 3950, 'flow': 3951, 'formerly': 3952, 'halder': 3953, 'absence': 3954, 'rippling': 3955, 'unawares': 3956, 'ivory': 3957, 'sandals': 3958, 'aurane': 3959, 'swayed': 3960, 'awkward': 3961, 'whistled': 3962, 'hugor': 3963, 'spells': 3964, 'oarsmen': 3965, 'noisily': 3966, 'hears': 3967, 'carpet': 3968, 'lash': 3969, 'deaths': 3970, 'olives': 3971, 'judgment': 3972, 'clans': 3973, 'canvas': 3974, 'survived': 3975, 'brutal': 3976, 'flicked': 3977, 'frostfangs': 3978, 'reported': 3979, 'slate': 3980, 'fucked': 3981, 'assembled': 3982, 'hunted': 3983, 'stab': 3984, 'mistaken': 3985, 'papers': 3986, 'bother': 3987, 'orphan': 3988, 'mantle': 3989, 'fossoway': 3990, 'cellars': 3991, 'bellies': 3992, 'admiral': 3993, 'freely': 3994, 'henceforth': 3995, 'bind': 3996, 'using': 3997, 'sweets': 3998, 'mander': 3999, 'letting': 4000, 'fearless': 4001, 'hired': 4002, 'blink': 4003, 'argued': 4004, 'welcomed': 4005, 'poles': 4006, 'ripping': 4007, 'sentries': 4008, 'squirmed': 4009, 'inches': 4010, 'marks': 4011, 'farewell': 4012, 'temper': 4013, 'gaped': 4014, 'lysene': 4015, 'mere': 4016, 'swam': 4017, 'boasted': 4018, 'oiled': 4019, 'slap': 4020, 'biting': 4021, 'featherbed': 4022, 'throbbing': 4023, 'staggering': 4024, 'canal': 4025, 'anymore': 4026, 'homes': 4027, 'resumed': 4028, 'reign': 4029, 'anywhere': 4030, 'ysilla': 4031, 'dripped': 4032, 'thread': 4033, 'jeweled': 4034, 'generous': 4035, 'replaced': 4036, 'stuck': 4037, 'lashed': 4038, 'baked': 4039, 'starving': 4040, 'chewing': 4041, 'member': 4042, 'steam': 4043, 'waymar': 4044, 'mane': 4045, 'pommel': 4046, 'list': 4047, 'dwindled': 4048, 'complain': 4049, 'milkwater': 4050, 'lyonel': 4051, 'skirling': 4052, 'undying': 4053, 'utterly': 4054, 'prophecy': 4055, 'private': 4056, 'corrected': 4057, 'weakness': 4058, 'wayns': 4059, 'wheel': 4060, 'punched': 4061, 'survivors': 4062, 'silly': 4063, 'splinters': 4064, 'antlers': 4065, 'mockery': 4066, 'oaths': 4067, 'killer': 4068, 'despair': 4069, 'dangling': 4070, 'laced': 4071, 'maidens': 4072, 'ramparts': 4073, 'plague': 4074, 'cupped': 4075, 'rounded': 4076, 'scrape': 4077, 'trader': 4078, 'warlocks': 4079, 'mill': 4080, 'entrails': 4081, 'midst': 4082, 'wit': 4083, 'redfort': 4084, 'string': 4085, 'threaten': 4086, 'somewhat': 4087, 'vain': 4088, 'farce': 4089, 'slight': 4090, 'blisters': 4091, 'roofs': 4092, 'tunnels': 4093, 'homely': 4094, 'counting': 4095, 'dragonknight': 4096, 'treasures': 4097, 'pree': 4098, 'builder': 4099, 'steaming': 4100, 'erik': 4101, 'eagerly': 4102, 'ghar': 4103, 'stool': 4104, 'vision': 4105, 'hardhome': 4106, 'scrubbed': 4107, 'glittered': 4108, 'wordless': 4109, 'crisp': 4110, 'pledged': 4111, 'subject': 4112, 'shrieking': 4113, 'sparrow': 4114, 'wave': 4115, 'bathe': 4116, 'quarrels': 4117, 'kinslayer': 4118, 'loss': 4119, 'shifting': 4120, 'sin': 4121, 'rescue': 4122, 'failing': 4123, 'delight': 4124, 'tollett': 4125, 'thicker': 4126, 'acorn': 4127, 'accepted': 4128, 'xhondo': 4129, 'holly': 4130, 'bobbed': 4131, 'freeze': 4132, 'id': 4133, 'dung': 4134, 'tumbling': 4135, 'clams': 4136, 'strewn': 4137, 'blown': 4138, 'har': 4139, 'headsman': 4140, 'flower': 4141, 'hushed': 4142, 'goblet': 4143, 'hurry': 4144, 'strings': 4145, 'swing': 4146, 'scorched': 4147, 'leader': 4148, 'betha': 4149, 'sevenstrings': 4150, 'visible': 4151, 'strapped': 4152, 'causeway': 4153, 'urswyck': 4154, 'deadly': 4155, 'ashamed': 4156, 'alla': 4157, 'peaceful': 4158, 'slice': 4159, 'merchants': 4160, 'growl': 4161, 'leyton': 4162, 'risen': 4163, 'sensed': 4164, 'discovered': 4165, 'splashing': 4166, 'guess': 4167, 'rattle': 4168, 'lordsport': 4169, 'mast': 4170, 'feels': 4171, 'exchange': 4172, 'trapped': 4173, 'regarded': 4174, 'volantene': 4175, 'molten': 4176, 'trailing': 4177, 'shops': 4178, 'suggest': 4179, 'dragging': 4180, 'kyra': 4181, 'queens': 4182, 'anxiously': 4183, 'chairs': 4184, 'cap': 4185, 'karstarks': 4186, 'beans': 4187, 'keys': 4188, 'harmed': 4189, 'hinges': 4190, 'pail': 4191, 'crag': 4192, 'snowy': 4193, 'watered': 4194, 'gulltown': 4195, 'onyx': 4196, 'visitors': 4197, 'platter': 4198, 'stir': 4199, 'winning': 4200, 'depart': 4201, 'bony': 4202, 'grotesque': 4203, 'pole': 4204, 'dusky': 4205, 'mused': 4206, 'clatter': 4207, 'throats': 4208, 'brooding': 4209, 'circled': 4210, 'defenders': 4211, 'norrey': 4212, 'liddle': 4213, 'hairs': 4214, 'scraped': 4215, 'weirwoods': 4216, 'ignore': 4217, 'reasons': 4218, 'narrowed': 4219, 'suffice': 4220, 'builders': 4221, 'gargoyles': 4222, 'sunk': 4223, 'spices': 4224, 'rules': 4225, 'sorcery': 4226, 'bruises': 4227, 'judged': 4228, 'dismissed': 4229, 'dizzy': 4230, 'emerge': 4231, 'eel': 4232, 'veil': 4233, 'maege': 4234, 'perchance': 4235, 'insist': 4236, 'pigeon': 4237, 'pelt': 4238, 'paced': 4239, 'hook': 4240, 'asks': 4241, 'fumbled': 4242, 'vest': 4243, 'trailed': 4244, 'grandson': 4245, 'log': 4246, 'feasted': 4247, 'intended': 4248, 'falcon': 4249, 'swears': 4250, 'slashing': 4251, 'exhausted': 4252, 'await': 4253, 'ruddy': 4254, 'warships': 4255, 'formidable': 4256, 'lick': 4257, 'politely': 4258, 'granite': 4259, 'beards': 4260, 'tar': 4261, 'nute': 4262, 'horas': 4263, 'jared': 4264, 'crowns': 4265, 'decreed': 4266, 'penrose': 4267, 'caron': 4268, 'glistening': 4269, 'borne': 4270, 'idea': 4271, 'carts': 4272, 'likeness': 4273, 'stretch': 4274, 'towns': 4275, 'procession': 4276, 'furious': 4277, 'skahazadhan': 4278, 'crossroads': 4279, 'jousting': 4280, 'swiftly': 4281, 'touching': 4282, 'garbed': 4283, 'remnants': 4284, 'marwyn': 4285, 'snap': 4286, 'glare': 4287, 'wears': 4288, 'cramped': 4289, 'pet': 4290, 'mismatched': 4291, 'patches': 4292, 'weeper': 4293, 'stores': 4294, 'presented': 4295, 'ached': 4296, 'hospitality': 4297, 'pups': 4298, 'fried': 4299, 'praise': 4300, 'candlelight': 4301, 'mattered': 4302, 'shadowcat': 4303, 'enameled': 4304, 'ham': 4305, 'scrolls': 4306, 'knighted': 4307, 'decks': 4308, 'pinned': 4309, 'acolytes': 4310, 'heirs': 4311, 'unlike': 4312, 'waving': 4313, 'picking': 4314, 'froze': 4315, 'mulled': 4316, 'locke': 4317, 'septas': 4318, 'wriggled': 4319, 'salty': 4320, 'darted': 4321, 'bitterbridge': 4322, 'rhoynar': 4323, 'puzzled': 4324, 'palfrey': 4325, 'kettleblacks': 4326, 'muscles': 4327, 'guilt': 4328, 'marya': 4329, 'martin': 4330, 'choke': 4331, 'farring': 4332, 'damon': 4333, 'peril': 4334, 'busy': 4335, 'salla': 4336, 'olive': 4337, 'travelers': 4338, 'chaos': 4339, 'warhammer': 4340, 'tender': 4341, 'warmed': 4342, 'melara': 4343, 'patted': 4344, 'saddled': 4345, 'trestle': 4346, 'owed': 4347, 'patched': 4348, 'blast': 4349, 'cares': 4350, 'suckling': 4351, 'stubble': 4352, 'khas': 4353, 'siblings': 4354, 'mourning': 4355, 'handmaid': 4356, 'weathered': 4357, 'xho': 4358, 'yelled': 4359, 'dutiful': 4360, 'plenty': 4361, 'symond': 4362, 'openly': 4363, 'tempted': 4364, 'ourselves': 4365, 'fisherfolk': 4366, 'maze': 4367, 'circling': 4368, 'headlong': 4369, 'bowing': 4370, 'doll': 4371, 'fingered': 4372, 'noose': 4373, 'wail': 4374, 'suspect': 4375, 'elephant': 4376, 'treasure': 4377, 'locusts': 4378, 'downriver': 4379, 'sausages': 4380, 'feebly': 4381, 'suitable': 4382, 'trotting': 4383, 'sweeping': 4384, 'scorpions': 4385, 'pinch': 4386, 'defense': 4387, 'assault': 4388, 'games': 4389, 'sickness': 4390, 'plank': 4391, 'suggs': 4392, 'offense': 4393, 'arrangements': 4394, 'inlaid': 4395, 'darkstar': 4396, 'jet': 4397, 'galare': 4398, 'chella': 4399, 'flared': 4400, 'provide': 4401, 'brittle': 4402, 'gorget': 4403, 'cloves': 4404, 'daeron': 4405, 'sweetrobin': 4406, 'displeased': 4407, 'walders': 4408, 'dyed': 4409, 'crest': 4410, 'scalp': 4411, 'nightmare': 4412, 'blazing': 4413, 'amusement': 4414, 'cough': 4415, 'believes': 4416, 'spurs': 4417, 'sigh': 4418, 'palanquin': 4419, 'longhall': 4420, 'gleaming': 4421, 'perilous': 4422, 'sup': 4423, 'tansy': 4424, 'sob': 4425, 'barely': 4426, 'pearl': 4427, 'sniff': 4428, 'drinkwater': 4429, 'moaned': 4430, 'balman': 4431, 'horselords': 4432, 'destroy': 4433, 'hack': 4434, 'dismount': 4435, 'lovers': 4436, 'nineteen': 4437, 'pease': 4438, 'spell': 4439, 'poking': 4440, 'orphans': 4441, 'fumbling': 4442, 'alchemist': 4443, 'tomorrow': 4444, 'sable': 4445, 'consort': 4446, 'bundle': 4447, 'fetched': 4448, 'lightbringer': 4449, 'bravely': 4450, 'haggon': 4451, 'groped': 4452, 'sticky': 4453, 'longswords': 4454, 'scratching': 4455, 'pretended': 4456, 'vanish': 4457, 'spill': 4458, 'crouched': 4459, 'alayaya': 4460, 'leobald': 4461, 'forearm': 4462, 'hurting': 4463, 'unwashed': 4464, 'maidenhead': 4465, 'rumble': 4466, 'greet': 4467, 'yunkishmen': 4468, 'although': 4469, 'norvos': 4470, 'oathkeeper': 4471, 'thumped': 4472, 'drey': 4473, 'explain': 4474, 'gaolers': 4475, 'groaned': 4476, 'avenge': 4477, 'unhorsed': 4478, 'coppers': 4479, 'irons': 4480, 'crane': 4481, 'gap': 4482, 'pouch': 4483, 'belmore': 4484, 'fleeing': 4485, 'restored': 4486, 'chances': 4487, 'commanders': 4488, 'flash': 4489, 'friendship': 4490, 'shows': 4491, 'stormborn': 4492, 'clawed': 4493, 'sticks': 4494, 'depths': 4495, 'courtyard': 4496, 'bursting': 4497, 'powers': 4498, 'treasons': 4499, 'altar': 4500, 'bristling': 4501, 'oswell': 4502, 'vyman': 4503, 'confined': 4504, 'flickered': 4505, 'drenched': 4506, 'earlier': 4507, 'beth': 4508, 'pus': 4509, 'stead': 4510, 'laces': 4511, 'demand': 4512, 'shallows': 4513, 'bloodrider': 4514, 'castamere': 4515, 'urgent': 4516, 'dunsen': 4517, 'seats': 4518, 'blacks': 4519, 'cellador': 4520, 'pails': 4521, 'ko': 4522, 'vulnerable': 4523, 'facing': 4524, 'apt': 4525, 'add': 4526, 'crusted': 4527, 'winged': 4528, 'lasted': 4529, 'guarding': 4530, 'hurts': 4531, 'slaughtered': 4532, 'century': 4533, 'tough': 4534, 'balcony': 4535, 'flush': 4536, 'hobber': 4537, 'blocked': 4538, 'costly': 4539, 'amber': 4540, 'battered': 4541, 'pimple': 4542, 'rocky': 4543, 'pause': 4544, 'agreement': 4545, 'rumbling': 4546, 'pentoshi': 4547, 'ferry': 4548, 'stalls': 4549, 'caleotte': 4550, 'closest': 4551, 'tapped': 4552, 'wield': 4553, 'homage': 4554, 'wipe': 4555, 'convince': 4556, 'bled': 4557, 'inform': 4558, 'musicians': 4559, 'pony': 4560, 'bael': 4561, 'bogs': 4562, 'forlorn': 4563, 'crannogman': 4564, 'highest': 4565, 'caves': 4566, 'squirming': 4567, 'remaining': 4568, 'stronghold': 4569, 'leap': 4570, 'deserve': 4571, 'snug': 4572, 'raymund': 4573, 'sharing': 4574, 'library': 4575, 'polite': 4576, 'piles': 4577, 'impact': 4578, 'slowed': 4579, 'lashing': 4580, 'absurd': 4581, 'displayed': 4582, 'retreated': 4583, 'thankfully': 4584, 'flanked': 4585, 'occupied': 4586, 'discuss': 4587, 'tattooed': 4588, 'spiced': 4589, 'sinking': 4590, 'thirsty': 4591, 'bounded': 4592, 'sweetly': 4593, 'bred': 4594, 'insult': 4595, 'longship': 4596, 'feather': 4597, 'tomb': 4598, 'rafters': 4599, 'farlen': 4600, 'villagers': 4601, 'thralls': 4602, 'fluttering': 4603, 'sacked': 4604, 'scrub': 4605, 'defiance': 4606, 'ignoring': 4607, 'value': 4608, 'merciful': 4609, 'foster': 4610, 'reborn': 4611, 'hardened': 4612, 'oysters': 4613, 'hunters': 4614, 'direction': 4615, 'scratch': 4616, 'braver': 4617, 'folds': 4618, 'sourleaf': 4619, 'flock': 4620, 'dotted': 4621, 'devout': 4622, 'turnip': 4623, 'gain': 4624, 'boltons': 4625, 'flour': 4626, 'someplace': 4627, 'cookfires': 4628, 'calmly': 4629, 'tumblestone': 4630, 'fragrant': 4631, 'dispatched': 4632, 'maggots': 4633, 'mollander': 4634, 'approval': 4635, 'complaining': 4636, 'track': 4637, 'unbroken': 4638, 'raventree': 4639, 'blacktyde': 4640, 'tyrek': 4641, 'pavilions': 4642, 'lute': 4643, 'ball': 4644, 'bargain': 4645, 'matched': 4646, 'pact': 4647, 'liking': 4648, 'cletus': 4649, 'tap': 4650, 'someday': 4651, 'reader': 4652, 'celtigar': 4653, 'knuckles': 4654, 'crunched': 4655, 'bites': 4656, 'smoky': 4657, 'pleasantly': 4658, 'fights': 4659, 'maddy': 4660, 'sheen': 4661, 'shudder': 4662, 'fashioned': 4663, 'unsheathed': 4664, 'cages': 4665, 'sixth': 4666, 'defending': 4667, 'jaehaerys': 4668, 'coat': 4669, 'puddle': 4670, 'descend': 4671, 'propose': 4672, 'adventure': 4673, 'melee': 4674, 'sweep': 4675, 'arrive': 4676, 'rhymes': 4677, 'wonders': 4678, 'traveled': 4679, 'graceful': 4680, 'insolence': 4681, 'scout': 4682, 'weighed': 4683, 'myles': 4684, 'pennies': 4685, 'questioned': 4686, 'stung': 4687, 'glancing': 4688, 'pipes': 4689, 'dagon': 4690, 'helman': 4691, 'scolera': 4692, 'moist': 4693, 'sullenly': 4694, 'afar': 4695, 'tapestries': 4696, 'backwards': 4697, 'unrolled': 4698, 'fostered': 4699, 'owl': 4700, 'object': 4701, 'serpent': 4702, 'glowed': 4703, 'hotho': 4704, 'bluntly': 4705, 'writes': 4706, 'saddles': 4707, 'donkey': 4708, 'fluttered': 4709, 'graves': 4710, 'mottled': 4711, 'spattered': 4712, 'crested': 4713, 'hammers': 4714, 'retreat': 4715, 'glistened': 4716, 'spearwives': 4717, 'curiously': 4718, 'mooton': 4719, 'range': 4720, 'trot': 4721, 'shortly': 4722, 'annoyed': 4723, 'greywater': 4724, 'oathbreaker': 4725, 'league': 4726, 'crones': 4727, 'sphinx': 4728, 'narbert': 4729, 'caution': 4730, 'hosts': 4731, 'roughly': 4732, 'board': 4733, 'bolts': 4734, 'pillows': 4735, 'alas': 4736, 'surviving': 4737, 'swordsman': 4738, 'art': 4739, 'mingled': 4740, 'drained': 4741, 'receive': 4742, 'illifer': 4743, 'chopped': 4744, 'clash': 4745, 'notch': 4746, 'qohor': 4747, 'quellon': 4748, 'volantenes': 4749, 'roost': 4750, 'coldhands': 4751, 'hissing': 4752, 'seventh': 4753, 'crab': 4754, 'arryns': 4755, 'deserves': 4756, 'joining': 4757, 'clambered': 4758, 'oxcross': 4759, 'cod': 4760, 'rum': 4761, 'cavernous': 4762, 'stooped': 4763, 'cheered': 4764, 'resting': 4765, 'squatted': 4766, 'tricks': 4767, 'emptied': 4768, 'restlessly': 4769, 'rams': 4770, 'yawning': 4771, 'lamprey': 4772, 'sapphires': 4773, 'brighter': 4774, 'titles': 4775, 'nasty': 4776, 'horned': 4777, 'changing': 4778, 'mute': 4779, 'grizzled': 4780, 'columns': 4781, 'brightwater': 4782, 'imagined': 4783, 'timeon': 4784, 'healed': 4785, 'grapes': 4786, 'clattered': 4787, 'trebuchets': 4788, 'jalabhar': 4789, 'swarmed': 4790, 'perwyn': 4791, 'imry': 4792, 'toregg': 4793, 'bristled': 4794, 'tremble': 4795, 'bolder': 4796, 'prowled': 4797, 'brook': 4798, 'sealord': 4799, 'dreadful': 4800, 'striding': 4801, 'greaves': 4802, 'spiders': 4803, 'awful': 4804, 'scribe': 4805, 'spine': 4806, 'space': 4807, 'hempen': 4808, 'forbidden': 4809, 'potions': 4810, 'statues': 4811, 'haigh': 4812, 'obsidian': 4813, 'jammed': 4814, 'rubble': 4815, 'peaks': 4816, 'hewett': 4817, 'scale': 4818, 'burns': 4819, 'fringed': 4820, 'forked': 4821, 'allies': 4822, 'smoothed': 4823, 'rained': 4824, 'upstream': 4825, 'coz': 4826, 'breaker': 4827, 'ankles': 4828, 'brooch': 4829, 'bridges': 4830, 'nightfire': 4831, 'stags': 4832, 'rewarded': 4833, 'tastes': 4834, 'wines': 4835, 'battlefield': 4836, 'defenses': 4837, 'destrier': 4838, 'fortune': 4839, 'recruits': 4840, 'breed': 4841, 'slopes': 4842, 'necessary': 4843, 'beheaded': 4844, 'hates': 4845, 'gaping': 4846, 'condemned': 4847, 'scarf': 4848, 'regret': 4849, 'betrayal': 4850, 'hasn': 4851, 'ghostly': 4852, 'ducked': 4853, 'oddly': 4854, 'produced': 4855, 'secure': 4856, 'kinder': 4857, 'fetters': 4858, 'timber': 4859, 'scorn': 4860, 'rebel': 4861, 'capable': 4862, 'elegant': 4863, 'dignity': 4864, 'plead': 4865, 'peasants': 4866, 'ripples': 4867, 'stride': 4868, 'licking': 4869, 'memories': 4870, 'patch': 4871, 'replace': 4872, 'ribbons': 4873, 'tallad': 4874, 'numb': 4875, 'tiger': 4876, 'cheap': 4877, 'streaked': 4878, 'owner': 4879, 'tilt': 4880, 'buckled': 4881, 'supported': 4882, 'hoarse': 4883, 'hacking': 4884, 'rebels': 4885, 'greyscale': 4886, 'clayton': 4887, 'triarch': 4888, 'baggage': 4889, 'pike': 4890, 'sunken': 4891, 'tempered': 4892, 'freezing': 4893, 'dashed': 4894, 'demons': 4895, 'meekly': 4896, 'stake': 4897, 'novice': 4898, 'thereafter': 4899, 'ebben': 4900, 'picture': 4901, 'miserable': 4902, 'friendly': 4903, 'lawful': 4904, 'devotion': 4905, 'lordly': 4906, 'snowflakes': 4907, 'sheets': 4908, 'chuckle': 4909, 'sadness': 4910, 'wealthy': 4911, 'whisperers': 4912, 'lungs': 4913, 'measure': 4914, 'lessons': 4915, 'beardless': 4916, 'tracks': 4917, 'kegs': 4918, 'descending': 4919, 'flakes': 4920, 'morghulis': 4921, 'untouched': 4922, 'calf': 4923, 'toast': 4924, 'mixed': 4925, 'bedside': 4926, 'seeking': 4927, 'scooped': 4928, 'george': 4929, 'incest': 4930, 'carpets': 4931, 'sentry': 4932, 'brief': 4933, 'dice': 4934, 'nagga': 4935, 'trickled': 4936, 'glimmering': 4937, 'tie': 4938, 'blush': 4939, 'horpe': 4940, 'jocelyn': 4941, 'councillors': 4942, 'aback': 4943, 'guide': 4944, 'shoes': 4945, 'confided': 4946, 'dire': 4947, 'mistress': 4948, 'troubles': 4949, 'cheer': 4950, 'wat': 4951, 'dorcas': 4952, 'oaks': 4953, 'velvets': 4954, 'cliffs': 4955, 'exploded': 4956, 'dreamwine': 4957, 'codd': 4958, 'bravos': 4959, 'moan': 4960, 'ebony': 4961, 'amuse': 4962, 'conceal': 4963, 'appetite': 4964, 'sheer': 4965, 'bloodbeard': 4966, 'shades': 4967, 'daylight': 4968, 'contents': 4969, 'provoke': 4970, 'rykker': 4971, 'freckled': 4972, 'frown': 4973, 'fading': 4974, 'ploy': 4975, 'toothless': 4976, 'crossbowmen': 4977, 'released': 4978, 'bundled': 4979, 'greenblood': 4980, 'arrival': 4981, 'shave': 4982, 'ryger': 4983, 'learning': 4984, 'armen': 4985, 'tighter': 4986, 'hullen': 4987, 'walgrave': 4988, 'squint': 4989, 'ascent': 4990, 'catapults': 4991, 'greyguard': 4992, 'dangers': 4993, 'strides': 4994, 'scrambling': 4995, 'passes': 4996, 'comprehend': 4997, 'difficulty': 4998, 'horsemen': 4999, 'fancy': 5000, 'gretchel': 5001, 'overgrown': 5002, 'prepare': 5003, 'smallest': 5004, 'limped': 5005, 'nigh': 5006, 'caked': 5007, 'snoring': 5008, 'cheerfully': 5009, 'snarled': 5010, 'toyne': 5011, 'position': 5012, 'stinging': 5013, 'reveal': 5014, 'garlic': 5015, 'leech': 5016, 'mislike': 5017, 'watches': 5018, 'fertile': 5019, 'sink': 5020, 'destriers': 5021, 'kennels': 5022, 'frost': 5023, 'drumm': 5024, 'allard': 5025, 'bravo': 5026, 'slower': 5027, 'butterbumps': 5028, 'chanced': 5029, 'cleftjaw': 5030, 'potion': 5031, 'trickle': 5032, 'carrion': 5033, 'bush': 5034, 'sliced': 5035, 'title': 5036, 'clan': 5037, 'pricked': 5038, 'gawen': 5039, 'general': 5040, 'giggling': 5041, 'swan': 5042, 'bands': 5043, 'raider': 5044, 'chop': 5045, 'disturb': 5046, 'flux': 5047, 'hauberk': 5048, 'turtles': 5049, 'concerns': 5050, 'oar': 5051, 'lew': 5052, 'skilled': 5053, 'traders': 5054, 'amerei': 5055, 'shuttered': 5056, 'moelle': 5057, 'galazza': 5058, 'wisp': 5059, 'sentinel': 5060, 'summons': 5061, 'span': 5062, 'impaled': 5063, 'knot': 5064, 'succession': 5065, 'circles': 5066, 'miserably': 5067, 'bounced': 5068, 'gout': 5069, 'floppy': 5070, 'blinding': 5071, 'honeyed': 5072, 'squeak': 5073, 'rhaego': 5074, 'gowns': 5075, 'loving': 5076, 'arrange': 5077, 'quaithe': 5078, 'ryam': 5079, 'buckwell': 5080, 'hush': 5081, 'snort': 5082, 'galloping': 5083, 'olyvar': 5084, 'envoys': 5085, 'santagar': 5086, 'consumed': 5087, 'hooted': 5088, 'laden': 5089, 'chalice': 5090, 'fodder': 5091, 'post': 5092, 'herd': 5093, 'brute': 5094, 'yank': 5095, 'gorold': 5096, 'ribbon': 5097, 'widowed': 5098, 'fleshy': 5099, 'hewn': 5100, 'sheepskin': 5101, 'seaweed': 5102, 'hammering': 5103, 'peppers': 5104, 'cider': 5105, 'dickon': 5106, 'teased': 5107, 'miller': 5108, 'dancers': 5109, 'pleases': 5110, 'disturbed': 5111, 'sandsilk': 5112, 'thankful': 5113, 'rises': 5114, 'apprentice': 5115, 'tourneys': 5116, 'gracious': 5117, 'tea': 5118, 'link': 5119, 'newborn': 5120, 'utherydes': 5121, 'resume': 5122, 'insolent': 5123, 'impatiently': 5124, 'prudent': 5125, 'breeze': 5126, 'godric': 5127, 'slamming': 5128, 'widened': 5129, 'ibbenese': 5130, 'traveling': 5131, 'blacksmith': 5132, 'lefford': 5133, 'nightfall': 5134, 'beak': 5135, 'disappointment': 5136, 'declare': 5137, 'thoughtfully': 5138, 'oppose': 5139, 'gems': 5140, 'tis': 5141, 'retainers': 5142, 'stain': 5143, 'softer': 5144, 'solace': 5145, 'hop': 5146, 'milord': 5147, 'jinglebell': 5148, 'urge': 5149, 'watchers': 5150, 'scented': 5151, 'ordinary': 5152, 'yurkhaz': 5153, 'painful': 5154, 'inkpots': 5155, 'richard': 5156, 'skies': 5157, 'tenth': 5158, 'commons': 5159, 'mopatis': 5160, 'expecting': 5161, 'coldly': 5162, 'vinegar': 5163, 'thenn': 5164, 'sourly': 5165, 'teaching': 5166, 'stableboys': 5167, 'bom': 5168, 'lend': 5169, 'shrewd': 5170, 'raiding': 5171, 'tended': 5172, 'decorated': 5173, 'moore': 5174, 'bannerman': 5175, 'gauntlet': 5176, 'corners': 5177, 'self': 5178, 'whoresbane': 5179, 'protectors': 5180, 'anvil': 5181, 'umbers': 5182, 'esgred': 5183, 'trace': 5184, 'clasp': 5185, 'disbelief': 5186, 'wailed': 5187, 'balding': 5188, 'thump': 5189, 'croaked': 5190, 'flinch': 5191, 'figs': 5192, 'rumbled': 5193, 'banded': 5194, 'heights': 5195, 'cracks': 5196, 'flinched': 5197, 'histories': 5198, 'bitten': 5199, 'language': 5200, 'crystals': 5201, 'lackwit': 5202, 'feigned': 5203, 'sober': 5204, 'mutter': 5205, 'bowls': 5206, 'perfume': 5207, 'limping': 5208, 'creak': 5209, 'visenya': 5210, 'cropped': 5211, 'opposite': 5212, 'amiss': 5213, 'haggo': 5214, 'jests': 5215, 'dale': 5216, 'windowless': 5217, 'bushy': 5218, 'groping': 5219, 'alchemists': 5220, 'sisterton': 5221, 'creaking': 5222, 'novices': 5223, 'buying': 5224, 'halfman': 5225, 'stripes': 5226, 'cowards': 5227, 'wearily': 5228, 'quilted': 5229, 'spice': 5230, 'amiable': 5231, 'yawned': 5232, 'strips': 5233, 'velaryon': 5234, 'unhappy': 5235, 'blur': 5236, 'covering': 5237, 'famed': 5238, 'paws': 5239, 'hugh': 5240, 'wedge': 5241, 'cravens': 5242, 'sylva': 5243, 'guild': 5244, 'hollard': 5245, 'daring': 5246, 'ponderous': 5247, 'piggy': 5248, 'undid': 5249, 'disgust': 5250, 'yourselves': 5251, 'ignorant': 5252, 'challenge': 5253, 'rast': 5254, 'settling': 5255, 'planks': 5256, 'spearwife': 5257, 'gruff': 5258, 'hey': 5259, 'thrall': 5260, 'target': 5261, 'weather': 5262, 'bog': 5263, 'ottyn': 5264, 'halted': 5265, 'warhorse': 5266, 'oranges': 5267, 'plates': 5268, 'loath': 5269, 'breathed': 5270, 'swimming': 5271, 'trencher': 5272, 'salted': 5273, 'bolted': 5274, 'noisy': 5275, 'offend': 5276, 'abide': 5277, 'brushing': 5278, 'tossing': 5279, 'spy': 5280, 'levies': 5281, 'offers': 5282, 'impossible': 5283, 'wenches': 5284, 'grieve': 5285, 'skirt': 5286, 'sunrise': 5287, 'inns': 5288, 'firm': 5289, 'jar': 5290, 'disappointed': 5291, 'threatening': 5292, 'lighter': 5293, 'fringe': 5294, 'sweating': 5295, 'perfumed': 5296, 'leal': 5297, 'jonquil': 5298, 'howland': 5299, 'slanting': 5300, 'bouncing': 5301, 'worthless': 5302, 'pahl': 5303, 'ringwall': 5304, 'rub': 5305, 'clearly': 5306, 'kindling': 5307, 'astride': 5308, 'mass': 5309, 'basin': 5310, 'serpentine': 5311, 'realms': 5312, 'finer': 5313, 'halfhelm': 5314, 'cavern': 5315, 'scents': 5316, 'dogshead': 5317, 'aron': 5318, 'earthen': 5319, 'whimpered': 5320, 'severed': 5321, 'dosh': 5322, 'khaleen': 5323, 'wizards': 5324, 'scum': 5325, 'dwell': 5326, 'sores': 5327, 'dig': 5328, 'truths': 5329, 'dock': 5330, 'morningstar': 5331, 'trickling': 5332, 'shrill': 5333, 'petty': 5334, 'waterfront': 5335, 'aching': 5336, 'ulmer': 5337, 'sweaty': 5338, 'sorrows': 5339, 'stall': 5340, 'vegetables': 5341, 'patterned': 5342, 'chew': 5343, 'scraps': 5344, 'staying': 5345, 'serry': 5346, 'slimy': 5347, 'supposedly': 5348, 'tart': 5349, 'wooded': 5350, 'protecting': 5351, 'forgiven': 5352, 'feverish': 5353, 'capture': 5354, 'emblazoned': 5355, 'scare': 5356, 'obedience': 5357, 'ermine': 5358, 'sew': 5359, 'cookfire': 5360, 'longspear': 5361, 'rocked': 5362, 'dealt': 5363, 'despised': 5364, 'plains': 5365, 'unworthy': 5366, 'flexed': 5367, 'urging': 5368, 'anchor': 5369, 'greathelm': 5370, 'slightly': 5371, 'chiswyck': 5372, 'grain': 5373, 'hulls': 5374, 'growling': 5375, 'puff': 5376, 'kills': 5377, 'habit': 5378, 'victories': 5379, 'quivering': 5380, 'crossbows': 5381, 'turret': 5382, 'remembers': 5383, 'loaded': 5384, 'incredulous': 5385, 'reeled': 5386, 'defender': 5387, 'greedy': 5388, 'bags': 5389, 'padding': 5390, 'cohollo': 5391, 'needlework': 5392, 'deed': 5393, 'series': 5394, 'recognize': 5395, 'flowered': 5396, 'mentioned': 5397, 'scornfully': 5398, 'whitetree': 5399, 'puffing': 5400, 'efforts': 5401, 'pallet': 5402, 'mice': 5403, 'sex': 5404, 'smiths': 5405, 'vines': 5406, 'tops': 5407, 'deftly': 5408, 'flicker': 5409, 'tries': 5410, 'ladders': 5411, 'chivalry': 5412, 'joints': 5413, 'knots': 5414, 'whirling': 5415, 'murderers': 5416, 'supple': 5417, 'gratitude': 5418, 'cleaned': 5419, 'notched': 5420, 'noises': 5421, 'sings': 5422, 'nuts': 5423, 'sorrow': 5424, 'dacey': 5425, 'gravely': 5426, 'visions': 5427, 'saving': 5428, 'inspection': 5429, 'milady': 5430, 'bruised': 5431, 'customs': 5432, 'frightening': 5433, 'forbid': 5434, 'sheltered': 5435, 'thus': 5436, 'weaker': 5437, 'persuaded': 5438, 'cheerful': 5439, 'blessing': 5440, 'ants': 5441, 'moves': 5442, 'griffins': 5443, 'wheat': 5444, 'karyl': 5445, 'brusque': 5446, 'matted': 5447, 'spitting': 5448, 'ion': 5449, 'mystery': 5450, 'clumsily': 5451, 'hopeless': 5452, 'cradling': 5453, 'masts': 5454, 'eats': 5455, 'humor': 5456, 'tangles': 5457, 'flement': 5458, 'azor': 5459, 'style': 5460, 'brows': 5461, 'nicely': 5462, 'stains': 5463, 'stacked': 5464, 'dank': 5465, 'hardin': 5466, 'invitation': 5467, 'sagging': 5468, 'sleeps': 5469, 'fruits': 5470, 'passages': 5471, 'ample': 5472, 'groin': 5473, 'tugging': 5474, 'powdered': 5475, 'mouthful': 5476, 'tion': 5477, 'shop': 5478, 'ahai': 5479, 'trunks': 5480, 'pleading': 5481, 'cane': 5482, 'rob': 5483, 'lewyn': 5484, 'rue': 5485, 'study': 5486, 'seawater': 5487, 'curt': 5488, 'cautious': 5489, 'sleepy': 5490, 'whelp': 5491, 'mound': 5492, 'state': 5493, 'stopping': 5494, 'blank': 5495, 'killers': 5496, 'horsemeat': 5497, 'seeds': 5498, 'puffed': 5499, 'discipline': 5500, 'uglier': 5501, 'platform': 5502, 'ringed': 5503, 'interested': 5504, 'ahorse': 5505, 'bawdy': 5506, 'amethysts': 5507, 'pursuit': 5508, 'edges': 5509, 'mistrust': 5510, 'respite': 5511, 'annoyance': 5512, 'aft': 5513, 'defy': 5514, 'plum': 5515, 'snarl': 5516, 'canopy': 5517, 'preston': 5518, 'cockles': 5519, 'rosey': 5520, 'fountains': 5521, 'umma': 5522, 'ballabar': 5523, 'blackbird': 5524, 'abomination': 5525, 'thistle': 5526, 'proprietor': 5527, 'gerion': 5528, 'kenning': 5529, 'declarant': 5530, 'largely': 5531, 'rowed': 5532, 'nakloz': 5533, 'franklyn': 5534, 'tristifer': 5535, 'benfred': 5536, 'sung': 5537, 'insisting': 5538, 'interrupted': 5539, 'raked': 5540, 'eighth': 5541, 'pursed': 5542, 'money': 5543, 'peg': 5544, 'elmar': 5545, 'skinner': 5546, 'unsmiling': 5547, 'resolved': 5548, 'scythes': 5549, 'westerlings': 5550, 'pissed': 5551, 'darting': 5552, 'infant': 5553, 'rainwood': 5554, 'prickly': 5555, 'shine': 5556, 'bonifer': 5557, 'wretch': 5558, 'soothe': 5559, 'cley': 5560, 'wull': 5561, 'nursed': 5562, 'bellowing': 5563, 'brightly': 5564, 'godly': 5565, 'rippled': 5566, 'obedient': 5567, 'runestone': 5568, 'blunted': 5569, 'witnesses': 5570, 'hare': 5571, 'coal': 5572, 'smugglers': 5573, 'bloodstained': 5574, 'jolly': 5575, 'pictured': 5576, 'footing': 5577, 'flowering': 5578, 'anointed': 5579, 'scrabbling': 5580, 'booming': 5581, 'doubtfully': 5582, 'senior': 5583, 'tumble': 5584, 'feathered': 5585, 'slide': 5586, 'collect': 5587, 'instructed': 5588, 'masks': 5589, 'prowling': 5590, 'squab': 5591, 'grounds': 5592, 'barsena': 5593, 'dimly': 5594, 'destroyed': 5595, 'merman': 5596, 'er': 5597, 'plot': 5598, 'butchery': 5599, 'hallis': 5600, 'dangled': 5601, 'arranged': 5602, 'scattering': 5603, 'trusting': 5604, 'recently': 5605, 'strap': 5606, 'cinders': 5607, 'particular': 5608, 'guyard': 5609, 'shortened': 5610, 'jump': 5611, 'nought': 5612, 'horrified': 5613, 'decision': 5614, 'eyebrow': 5615, 'clawing': 5616, 'cogs': 5617, 'spirit': 5618, 'linked': 5619, 'draft': 5620, 'hopping': 5621, 'grooms': 5622, 'ending': 5623, 'orell': 5624, 'reputation': 5625, 'devoured': 5626, 'blazed': 5627, 'beacon': 5628, 'grasping': 5629, 'confirmed': 5630, 'paramour': 5631, 'bethany': 5632, 'uneasily': 5633, 'arts': 5634, 'vanguard': 5635, 'silvered': 5636, 'sacks': 5637, 'forley': 5638, 'scheme': 5639, 'ablaze': 5640, 'follies': 5641, 'em': 5642, 'demanding': 5643, 'lanna': 5644, 'sprawling': 5645, 'pissing': 5646, 'peasant': 5647, 'forecastle': 5648, 'tin': 5649, 'charges': 5650, 'aid': 5651, 'arron': 5652, 'brisk': 5653, 'clay': 5654, 'couple': 5655, 'anyhow': 5656, 'bandaged': 5657, 'shrouded': 5658, 'load': 5659, 'gargoyle': 5660, 'godless': 5661, 'mag': 5662, 'caggo': 5663, 'officer': 5664, 'doubled': 5665, 'pier': 5666, 'mussels': 5667, 'paege': 5668, 'nibbled': 5669, 'snatch': 5670, 'goodbrook': 5671, 'lowborn': 5672, 'echo': 5673, 'anew': 5674, 'upriver': 5675, 'gnawed': 5676, 'plow': 5677, 'skagos': 5678, 'skiff': 5679, 'astonished': 5680, 'payment': 5681, 'hesitate': 5682, 'incomes': 5683, 'ushered': 5684, 'unharmed': 5685, 'fossoways': 5686, 'wiry': 5687, 'crannogmen': 5688, 'arguing': 5689, 'eels': 5690, 'kittens': 5691, 'grieves': 5692, 'anya': 5693, 'cleft': 5694, 'evidence': 5695, 'shatter': 5696, 'supplies': 5697, 'fords': 5698, 'chickens': 5699, 'suggestion': 5700, 'speckled': 5701, 'herds': 5702, 'deem': 5703, 'drapes': 5704, 'filth': 5705, 'garment': 5706, 'wriggling': 5707, 'shuddering': 5708, 'saffron': 5709, 'blushed': 5710, 'joramun': 5711, 'accent': 5712, 'kojja': 5713, 'haunt': 5714, 'poxy': 5715, 'gallows': 5716, 'pounded': 5717, 'squealed': 5718, 'health': 5719, 'flay': 5720, 'entire': 5721, 'denyo': 5722, 'indigo': 5723, 'maron': 5724, 'hiss': 5725, 'shepherd': 5726, 'tallow': 5727, 'imprisoned': 5728, 'unbidden': 5729, 'slavery': 5730, 'hitting': 5731, 'labored': 5732, 'manage': 5733, 'nobleman': 5734, 'lump': 5735, 'obvious': 5736, 'raged': 5737, 'impressed': 5738, 'contract': 5739, 'alerie': 5740, 'crusty': 5741, 'haggard': 5742, 'strained': 5743, 'accomplish': 5744, 'droll': 5745, 'reigned': 5746, 'distress': 5747, 'grigg': 5748, 'boulder': 5749, 'smelly': 5750, 'bearskin': 5751, 'betrothal': 5752, 'mildly': 5753, 'raining': 5754, 'groat': 5755, 'fare': 5756, 'crackled': 5757, 'breach': 5758, 'complete': 5759, 'dishonor': 5760, 'curl': 5761, 'beesbury': 5762, 'mop': 5763, 'punish': 5764, 'excited': 5765, 'roger': 5766, 'creaked': 5767, 'assumed': 5768, 'cows': 5769, 'firepit': 5770, 'benerro': 5771, 'spark': 5772, 'retched': 5773, 'defiant': 5774, 'duel': 5775, 'faceless': 5776, 'harper': 5777, 'glittering': 5778, 'greeting': 5779, 'homeless': 5780, 'loaf': 5781, 'heap': 5782, 'washerwomen': 5783, 'properly': 5784, 'understanding': 5785, 'dumped': 5786, 'smart': 5787, 'mischief': 5788, 'mullendore': 5789, 'bruise': 5790, 'roone': 5791, 'murmur': 5792, 'oats': 5793, 'confession': 5794, 'yearned': 5795, 'frenken': 5796, 'swarming': 5797, 'beams': 5798, 'spittle': 5799, 'follower': 5800, 'traded': 5801, 'accompany': 5802, 'merlyn': 5803, 'windy': 5804, 'selhorys': 5805, 'flows': 5806, 'judging': 5807, 'seeping': 5808, 'swirl': 5809, 'shrieks': 5810, 'rude': 5811, 'whimpering': 5812, 'straps': 5813, 'watchtower': 5814, 'sandstone': 5815, 'icicles': 5816, 'captor': 5817, 'endure': 5818, 'dismissal': 5819, 'greatly': 5820, 'archery': 5821, 'harwood': 5822, 'prowess': 5823, 'throbbed': 5824, 'cushion': 5825, 'slaying': 5826, 'herbs': 5827, 'liars': 5828, 'flanks': 5829, 'tending': 5830, 'perish': 5831, 'undo': 5832, 'practiced': 5833, 'feasting': 5834, 'alebelly': 5835, 'dragonbone': 5836, 'stoney': 5837, 'darkly': 5838, 'sighing': 5839, 'blushing': 5840, 'burden': 5841, 'violet': 5842, 'gingerly': 5843, 'shadowed': 5844, 'resist': 5845, 'gnawing': 5846, 'dour': 5847, 'acolyte': 5848, 'wanton': 5849, 'somber': 5850, 'taut': 5851, 'mattress': 5852, 'appease': 5853, 'supply': 5854, 'farmer': 5855, 'freckles': 5856, 'grimly': 5857, 'begins': 5858, 'soap': 5859, 'strongest': 5860, 'hopeful': 5861, 'glared': 5862, 'perform': 5863, 'monkeys': 5864, 'possibly': 5865, 'handle': 5866, 'heartbeats': 5867, 'wakes': 5868, 'group': 5869, 'bat': 5870, 'version': 5871, 'shortsword': 5872, 'chins': 5873, 'headless': 5874, 'kandaq': 5875, 'triumph': 5876, 'directly': 5877, 'raynald': 5878, 'substance': 5879, 'samite': 5880, 'crushing': 5881, 'sided': 5882, 'robbed': 5883, 'slumped': 5884, 'blocks': 5885, 'rabbits': 5886, 'ff': 5887, 'cupbearer': 5888, 'brood': 5889, 'scowling': 5890, 'dromonds': 5891, 'tallest': 5892, 'baker': 5893, 'deserter': 5894, 'grisly': 5895, 'subjects': 5896, 'pierced': 5897, 'failure': 5898, 'snot': 5899, 'beware': 5900, 'capon': 5901, 'gusting': 5902, 'danwell': 5903, 'control': 5904, 'briskly': 5905, 'shied': 5906, 'insults': 5907, 'stalking': 5908, 'soot': 5909, 'limper': 5910, 'cheesemonger': 5911, 'rag': 5912, 'dinted': 5913, 'daemon': 5914, 'fabled': 5915, 'starts': 5916, 'traced': 5917, 'maggy': 5918, 'comer': 5919, 'vylarr': 5920, 'archibald': 5921, 'bridle': 5922, 'tones': 5923, 'reflection': 5924, 'doubted': 5925, 'greens': 5926, 'stepping': 5927, 'triarchs': 5928, 'noseless': 5929, 'despise': 5930, 'yawn': 5931, 'tumcloak': 5932, 'andrew': 5933, 'smashing': 5934, 'lumbering': 5935, 'feelings': 5936, 'disgrace': 5937, 'rooftops': 5938, 'maidenhood': 5939, 'warlock': 5940, 'ruling': 5941, 'wargs': 5942, 'mourn': 5943, 'funeral': 5944, 'prick': 5945, 'instruct': 5946, 'morrigen': 5947, 'bathhouse': 5948, 'firelight': 5949, 'flinging': 5950, 'keeper': 5951, 'decree': 5952, 'enormous': 5953, 'surrender': 5954, 'spicer': 5955, 'weakly': 5956, 'scant': 5957, 'disappoint': 5958, 'desired': 5959, 'councils': 5960, 'apologies': 5961, 'neared': 5962, 'chimney': 5963, 'helps': 5964, 'unlikely': 5965, 'fortress': 5966, 'rely': 5967, 'giantslayer': 5968, 'defended': 5969, 'comforts': 5970, 'launched': 5971, 'kinds': 5972, 'newly': 5973, 'cobbles': 5974, 'battering': 5975, 'willful': 5976, 'shunned': 5977, 'riddle': 5978, 'wrestled': 5979, 'test': 5980, 'squeezing': 5981, 'crops': 5982, 'jabbed': 5983, 'nailed': 5984, 'prettier': 5985, 'pelts': 5986, 'laying': 5987, 'weigh': 5988, 'unburnt': 5989, 'fade': 5990, 'cleaver': 5991, 'ghael': 5992, 'arrogance': 5993, 'barge': 5994, 'passion': 5995, 'warmly': 5996, 'parchments': 5997, 'septry': 5998, 'loffrey': 5999, 'striking': 6000, 'shaven': 6001, 'vague': 6002, 'cooking': 6003, 'figured': 6004, 'mate': 6005, 'wan': 6006, 'argue': 6007, 'mint': 6008, 'separate': 6009, 'dressing': 6010, 'fact': 6011, 'drunkard': 6012, 'punishment': 6013, 'groom': 6014, 'pickled': 6015, 'tiles': 6016, 'galleas': 6017, 'cobbler': 6018, 'dully': 6019, 'crackclaw': 6020, 'waits': 6021, 'scrap': 6022, 'thundered': 6023, 'fickle': 6024, 'selaesori': 6025, 'dissolved': 6026, 'idle': 6027, 'humfrey': 6028, 'encircled': 6029, 'ghastly': 6030, 'lingering': 6031, 'oxen': 6032, 'runes': 6033, 'grasses': 6034, 'lioness': 6035, 'savory': 6036, 'childbed': 6037, 'awaiting': 6038, 'unruly': 6039, 'heddle': 6040, 'leads': 6041, 'lemoncloak': 6042, 'sybell': 6043, 'straightened': 6044, 'ambrose': 6045, 'wardrobe': 6046, 'decent': 6047, 'signal': 6048, 'toss': 6049, 'devour': 6050, 'qhoran': 6051, 'pyromancers': 6052, 'forests': 6053, 'sixskins': 6054, 'plumes': 6055, 'timid': 6056, 'joint': 6057, 'studying': 6058, 'responded': 6059, 'ragman': 6060, 'raging': 6061, 'blinking': 6062, 'lemons': 6063, 'horseback': 6064, 'sortie': 6065, 'raucous': 6066, 'bushes': 6067, 'tigers': 6068, 'lifetime': 6069, 'unnatural': 6070, 'surrounding': 6071, 'freshly': 6072, 'vigil': 6073, 'curtly': 6074, 'sers': 6075, 'sweetness': 6076, 'pyg': 6077, 'float': 6078, 'pono': 6079, 'reeling': 6080, 'lid': 6081, 'mero': 6082, 'issue': 6083, 'peer': 6084, 'brusquely': 6085, 'basilisk': 6086, 'wylde': 6087, 'shan': 6088, 'figure': 6089, 'conn': 6090, 'hem': 6091, 'sprang': 6092, 'wheelhouse': 6093, 'arrogant': 6094, 'tilted': 6095, 'blindly': 6096, 'oznak': 6097, 'pyromancer': 6098, 'device': 6099, 'exiled': 6100, 'proposed': 6101, 'tune': 6102, 'mott': 6103, 'frogs': 6104, 'painfully': 6105, 'quent': 6106, 'shadrich': 6107, 'angle': 6108, 'arches': 6109, 'hesitantly': 6110, 'interesting': 6111, 'qohorik': 6112, 'unwise': 6113, 'forcing': 6114, 'walled': 6115, 'tavern': 6116, 'wylla': 6117, 'fawn': 6118, 'cheers': 6119, 'rump': 6120, 'scraping': 6121, 'protest': 6122, 'hagen': 6123, 'cripples': 6124, 'views': 6125, 'taper': 6126, 'calves': 6127, 'regard': 6128, 'squatting': 6129, 'rubbing': 6130, 'farewells': 6131, 'writhing': 6132, 'valuable': 6133, 'plays': 6134, 'raynard': 6135, 'brea': 6136, 'sets': 6137, 'clubs': 6138, 'swell': 6139, 'jester': 6140, 'clattering': 6141, 'poisoner': 6142, 'vayon': 6143, 'soaking': 6144, 'savagely': 6145, 'dabbed': 6146, 'vintage': 6147, 'dates': 6148, 'bryce': 6149, 'envy': 6150, 'gained': 6151, 'blasts': 6152, 'squinting': 6153, 'creep': 6154, 'farmers': 6155, 'distaste': 6156, 'forefinger': 6157, 'squares': 6158, 'delena': 6159, 'concluded': 6160, 'scaled': 6161, 'bump': 6162, 'utter': 6163, 'prodded': 6164, 'deft': 6165, 'loping': 6166, 'blackness': 6167, 'jowls': 6168, 'drift': 6169, 'catching': 6170, 'crutch': 6171, 'echoes': 6172, 'harridan': 6173, 'desires': 6174, 'godswife': 6175, 'belts': 6176, 'anticipated': 6177, 'speaker': 6178, 'crowds': 6179, 'brooded': 6180, 'southern': 6181, 'lamps': 6182, 'shrunken': 6183, 'dalbridge': 6184, 'smalljon': 6185, 'scowl': 6186, 'barn': 6187, 'paths': 6188, 'richer': 6189, 'tomard': 6190, 'shirts': 6191, 'torrent': 6192, 'carve': 6193, 'ami': 6194, 'bernarr': 6195, 'engulfed': 6196, 'unfolded': 6197, 'suitors': 6198, 'palaces': 6199, 'boasting': 6200, 'loudest': 6201, 'retching': 6202, 'matching': 6203, 'hail': 6204, 'hairless': 6205, 'notes': 6206, 'moons': 6207, 'rocking': 6208, 'necks': 6209, 'scrubbing': 6210, 'response': 6211, 'tygett': 6212, 'savor': 6213, 'sorcerer': 6214, 'sport': 6215, 'glinting': 6216, 'sisterman': 6217, 'karl': 6218, 'brackens': 6219, 'forebears': 6220, 'ceased': 6221, 'bittersteel': 6222, 'attacks': 6223, 'gemstones': 6224, 'filed': 6225, 'counts': 6226, 'lichen': 6227, 'hardest': 6228, 'retch': 6229, 'bellows': 6230, 'rossart': 6231, 'stroking': 6232, 'studs': 6233, 'clangor': 6234, 'torment': 6235, 'forces': 6236, 'oakenshield': 6237, 'matthos': 6238, 'tasting': 6239, 'emerald': 6240, 'bile': 6241, 'chariots': 6242, 'clang': 6243, 'hasty': 6244, 'diamond': 6245, 'sounding': 6246, 'tipped': 6247, 'screen': 6248, 'chafed': 6249, 'queensguard': 6250, 'fanned': 6251, 'tiller': 6252, 'erected': 6253, 'endlessly': 6254, 'guts': 6255, 'bowstring': 6256, 'whickered': 6257, 'strung': 6258, 'slippery': 6259, 'vomit': 6260, 'soles': 6261, 'including': 6262, 'victor': 6263, 'wider': 6264, 'prendahl': 6265, 'brand': 6266, 'pretending': 6267, 'patiently': 6268, 'quaro': 6269, 'willingly': 6270, 'job': 6271, 'valleys': 6272, 'prester': 6273, 'venison': 6274, 'supped': 6275, 'dribbled': 6276, 'withstand': 6277, 'pudding': 6278, 'upended': 6279, 'islander': 6280, 'venom': 6281, 'willis': 6282, 'husbands': 6283, 'chiefs': 6284, 'chiggen': 6285, 'threadbare': 6286, 'wages': 6287, 'particularly': 6288, 'outrage': 6289, 'season': 6290, 'islanders': 6291, 'haunch': 6292, 'latest': 6293, 'wispy': 6294, 'palms': 6295, 'lighten': 6296, 'torchlit': 6297, 'murders': 6298, 'quay': 6299, 'merling': 6300, 'portion': 6301, 'dropping': 6302, 'disturbing': 6303, 'whalen': 6304, 'movement': 6305, 'cedra': 6306, 'whistle': 6307, 'lynesse': 6308, 'wythers': 6309, 'doorway': 6310, 'stamped': 6311, 'blackmont': 6312, 'stiffened': 6313, 'wander': 6314, 'sigorn': 6315, 'begs': 6316, 'frequent': 6317, 'respond': 6318, 'plea': 6319, 'cradled': 6320, 'messenger': 6321, 'lots': 6322, 'kettles': 6323, 'firstborn': 6324, 'wharves': 6325, 'meadows': 6326, 'yunzak': 6327, 'metals': 6328, 'refusing': 6329, 'figurehead': 6330, 'aghast': 6331, 'hooked': 6332, 'pikes': 6333, 'lusty': 6334, 'liquid': 6335, 'cowl': 6336, 'swelled': 6337, 'bathing': 6338, 'usually': 6339, 'grieving': 6340, 'implacable': 6341, 'souls': 6342, 'sweetest': 6343, 'talks': 6344, 'parapet': 6345, 'downward': 6346, 'overheard': 6347, 'puts': 6348, 'muzzle': 6349, 'persisted': 6350, 'inspect': 6351, 'appears': 6352, 'fistful': 6353, 'abandoning': 6354, 'sandy': 6355, 'unwell': 6356, 'dismal': 6357, 'ord': 6358, 'displeasure': 6359, 'examined': 6360, 'bluff': 6361, 'raid': 6362, 'reduced': 6363, 'clubfoot': 6364, 'towerhouse': 6365, 'masha': 6366, 'abreast': 6367, 'shrank': 6368, 'cayn': 6369, 'promising': 6370, 'bellied': 6371, 'ages': 6372, 'prophecies': 6373, 'acknowledged': 6374, 'desolation': 6375, 'crop': 6376, 'transformed': 6377, 'butts': 6378, 'midwife': 6379, 'misliked': 6380, 'senses': 6381, 'jyck': 6382, 'ii': 6383, 'whistling': 6384, 'hangings': 6385, 'riverbank': 6386, 'rutted': 6387, 'muscular': 6388, 'sewers': 6389, 'customary': 6390, 'shards': 6391, 'barren': 6392, 'bothered': 6393, 'kennelmaster': 6394, 'race': 6395, 'disgusted': 6396, 'hurriedly': 6397, 'poleboat': 6398, 'hens': 6399, 'robust': 6400, 'stumble': 6401, 'ominous': 6402, 'sale': 6403, 'surrendered': 6404, 'goodwife': 6405, 'bier': 6406, 'numerous': 6407, 'looped': 6408, 'appeal': 6409, 'crews': 6410, 'encountered': 6411, 'krakens': 6412, 'fainter': 6413, 'uller': 6414, 'members': 6415, 'persuade': 6416, 'contest': 6417, 'accursed': 6418, 'bids': 6419, 'grandchildren': 6420, 'pebbles': 6421, 'thoughtful': 6422, 'rung': 6423, 'nail': 6424, 'mongrel': 6425, 'dense': 6426, 'trip': 6427, 'appearance': 6428, 'wards': 6429, 'plotting': 6430, 'whale': 6431, 'naming': 6432, 'overwhelmed': 6433, 'arrowheads': 6434, 'stretching': 6435, 'residence': 6436, 'talea': 6437, 'nearly': 6438, 'ty': 6439, 'wineseller': 6440, 'queerly': 6441, 'unhand': 6442, 'hurrying': 6443, 'lofty': 6444, 'nephews': 6445, 'dermot': 6446, 'freerider': 6447, 'poisons': 6448, 'hoarfrost': 6449, 'proclaim': 6450, 'wry': 6451, 'beggars': 6452, 'worshiped': 6453, 'adorned': 6454, 'godsgrace': 6455, 'facedown': 6456, 'mustn': 6457, 'bounding': 6458, 'freak': 6459, 'haider': 6460, 'stem': 6461, 'prettily': 6462, 'wrench': 6463, 'drooping': 6464, 'reproach': 6465, 'boldly': 6466, 'bill': 6467, 'suspicions': 6468, 'necklace': 6469, 'blackwoods': 6470, 'scurrying': 6471, 'pregnant': 6472, 'rival': 6473, 'riverfront': 6474, 'despairing': 6475, 'toll': 6476, 'exquisite': 6477, 'assume': 6478, 'becoming': 6479, 'morn': 6480, 'preferring': 6481, 'relish': 6482, 'learns': 6483, 'plums': 6484, 'suits': 6485, 'unarmed': 6486, 'legend': 6487, 'assuming': 6488, 'cling': 6489, 'encounter': 6490, 'timbered': 6491, 'wicker': 6492, 'manticore': 6493, 'ponderously': 6494, 'copy': 6495, 'domes': 6496, 'driftmark': 6497, 'pretender': 6498, 'chayle': 6499, 'befit': 6500, 'ogo': 6501, 'musty': 6502, 'forming': 6503, 'roofed': 6504, 'misshapen': 6505, 'ranged': 6506, 'withdrew': 6507, 'talons': 6508, 'panic': 6509, 'turnkey': 6510, 'justly': 6511, 'crowfood': 6512, 'tasks': 6513, 'tides': 6514, 'lanterns': 6515, 'terrifying': 6516, 'jutting': 6517, 'washerwoman': 6518, 'wont': 6519, 'parapets': 6520, 'thumbs': 6521, 'bristly': 6522, 'becomes': 6523, 'cheated': 6524, 'daznak': 6525, 'lhazar': 6526, 'melon': 6527, 'uses': 6528, 'volume': 6529, 'archmaesters': 6530, 'revenge': 6531, 'heaved': 6532, 'septs': 6533, 'quest': 6534, 'stripeback': 6535, 'qavo': 6536, 'proving': 6537, 'vhagar': 6538, 'tip': 6539, 'wells': 6540, 'hoods': 6541, 'joseth': 6542, 'thinly': 6543, 'qezza': 6544, 'grell': 6545, 'risks': 6546, 'climbers': 6547, 'watcher': 6548, 'sleepers': 6549, 'conquer': 6550, 'zollo': 6551, 'unnoticed': 6552, 'flagons': 6553, 'upside': 6554, 'hamish': 6555, 'greenfield': 6556, 'grumkins': 6557, 'thrum': 6558, 'tusks': 6559, 'carnage': 6560, 'stumps': 6561, 'stricken': 6562, 'freehold': 6563, 'mournful': 6564, 'flank': 6565, 'drops': 6566, 'gooseprickles': 6567, 'tokars': 6568, 'details': 6569, 'lair': 6570, 'cuy': 6571, 'empire': 6572, 'portly': 6573, 'hornfoot': 6574, 'arguments': 6575, 'legions': 6576, 'informers': 6577, 'prompted': 6578, 'thinner': 6579, 'cleaning': 6580, 'benfrey': 6581, 'swallowing': 6582, 'balked': 6583, 'haze': 6584, 'bearer': 6585, 'lumbered': 6586, 'fountain': 6587, 'fowler': 6588, 'whiff': 6589, 'gentler': 6590, 'lobstered': 6591, 'gunthor': 6592, 'wistfully': 6593, 'sums': 6594, 'stewed': 6595, 'etched': 6596, 'doubtful': 6597, 'fooled': 6598, 'satisfied': 6599, 'fired': 6600, 'bending': 6601, 'virgin': 6602, 'groan': 6603, 'dryly': 6604, 'excellent': 6605, 'meraxes': 6606, 'squealing': 6607, 'smear': 6608, 'signature': 6609, 'pomegranate': 6610, 'recovered': 6611, 'starry': 6612, 'insists': 6613, 'flailing': 6614, 'jarman': 6615, 'malice': 6616, 'proudly': 6617, 'andrik': 6618, 'crush': 6619, 'deserters': 6620, 'tarts': 6621, 'included': 6622, 'attendance': 6623, 'reaches': 6624, 'boils': 6625, 'embraced': 6626, 'stock': 6627, 'ovens': 6628, 'announce': 6629, 'gibbet': 6630, 'glances': 6631, 'therm': 6632, 'grandsire': 6633, 'petitioners': 6634, 'loins': 6635, 'murderer': 6636, 'repay': 6637, 'pleasing': 6638, 'jhaqo': 6639, 'riot': 6640, 'dwelt': 6641, 'grinding': 6642, 'concerning': 6643, 'stinks': 6644, 'likewise': 6645, 'mines': 6646, 'raiment': 6647, 'fig': 6648, 'gutter': 6649, 'dappled': 6650, 'renowned': 6651, 'lizard': 6652, 'pluck': 6653, 'argument': 6654, 'rash': 6655, 'camped': 6656, 'route': 6657, 'ryswells': 6658, 'richly': 6659, 'tedious': 6660, 'buzzing': 6661, 'sometime': 6662, 'caps': 6663, 'wheeling': 6664, 'bandage': 6665, 'demands': 6666, 'shadowskin': 6667, 'traffic': 6668, 'palpable': 6669, 'scheming': 6670, 'merlon': 6671, 'undressed': 6672, 'waded': 6673, 'bandages': 6674, 'twisty': 6675, 'aught': 6676, 'kennos': 6677, 'desolate': 6678, 'captors': 6679, 'encamped': 6680, 'queasy': 6681, 'churning': 6682, 'rebuilt': 6683, 'cottage': 6684, 'clinking': 6685, 'inward': 6686, 'rory': 6687, 'warrant': 6688, 'corliss': 6689, 'forgiving': 6690, 'squalling': 6691, 'loft': 6692, 'mounting': 6693, 'chimneys': 6694, 'tendrils': 6695, 'craned': 6696, 'relied': 6697, 'yorko': 6698, 'unsaid': 6699, 'forgetting': 6700, 'domish': 6701, 'brigands': 6702, 'predawn': 6703, 'collected': 6704, 'styling': 6705, 'impregnable': 6706, 'shipwright': 6707, 'foothills': 6708, 'cregan': 6709, 'sevens': 6710, 'country': 6711, 'gulp': 6712, 'breaks': 6713, 'leavings': 6714, 'idly': 6715, 'fabric': 6716, 'leathern': 6717, 'lunged': 6718, 'tradition': 6719, 'boars': 6720, 'hence': 6721, 'sharpening': 6722, 'pronounced': 6723, 'grandison': 6724, 'kneelers': 6725, 'thumping': 6726, 'illness': 6727, 'warming': 6728, 'emeralds': 6729, 'scene': 6730, 'revealed': 6731, 'oven': 6732, 'tug': 6733, 'lilac': 6734, 'piety': 6735, 'rolph': 6736, 'stoneheart': 6737, 'wizened': 6738, 'sipping': 6739, 'bomm': 6740, 'spearpoint': 6741, 'callused': 6742, 'elbows': 6743, 'hauled': 6744, 'yellowed': 6745, 'tasty': 6746, 'prefers': 6747, 'florents': 6748, 'birthing': 6749, 'dun': 6750, 'troubling': 6751, 'masked': 6752, 'wilderness': 6753, 'scary': 6754, 'cowardice': 6755, 'moth': 6756, 'earn': 6757, 'starboard': 6758, 'northeast': 6759, 'childhood': 6760, 'nightly': 6761, 'entering': 6762, 'stiffen': 6763, 'rapers': 6764, 'ass': 6765, 'spots': 6766, 'parley': 6767, 'lively': 6768, 'raping': 6769, 'curdled': 6770, 'stripping': 6771, 'hom': 6772, 'ridges': 6773, 'twitching': 6774, 'gorge': 6775, 'hobbled': 6776, 'wineskin': 6777, 'scurried': 6778, 'committed': 6779, 'unyielding': 6780, 'curving': 6781, 'oldstones': 6782, 'peeling': 6783, 'courses': 6784, 'loosing': 6785, 'slicing': 6786, 'conspiring': 6787, 'brace': 6788, 'unable': 6789, 'overseer': 6790, 'antler': 6791, 'omen': 6792, 'rustle': 6793, 'puzzle': 6794, 'whipping': 6795, 'soothing': 6796, 'directions': 6797, 'suet': 6798, 'senelle': 6799, 'cedar': 6800, 'urzen': 6801, 'ditch': 6802, 'grudging': 6803, 'overturned': 6804, 'clink': 6805, 'terribly': 6806, 'ninth': 6807, 'juggler': 6808, 'sleepless': 6809, 'arrayed': 6810, 'complaint': 6811, 'nonny': 6812, 'disdain': 6813, 'almond': 6814, 'suitor': 6815, 'cheering': 6816, 'obeyed': 6817, 'corsairs': 6818, 'norcross': 6819, 'dancy': 6820, 'stinky': 6821, 'shoe': 6822, 'garments': 6823, 'acorns': 6824, 'chipped': 6825, 'thickly': 6826, 'goghor': 6827, 'ibben': 6828, 'dicing': 6829, 'moreo': 6830, 'choices': 6831, 'borrowed': 6832, 'erupted': 6833, 'tunics': 6834, 'joanna': 6835, 'braziers': 6836, 'tails': 6837, 'sparr': 6838, 'pear': 6839, 'angered': 6840, 'shells': 6841, 'hay': 6842, 'winced': 6843, 'bryen': 6844, 'gauntlets': 6845, 'spying': 6846, 'othor': 6847, 'tireless': 6848, 'tolos': 6849, 'scroll': 6850, 'cradle': 6851, 'pocket': 6852, 'assure': 6853, 'rolly': 6854, 'stunned': 6855, 'charm': 6856, 'patrols': 6857, 'sybelle': 6858, 'happier': 6859, 'orkmont': 6860, 'undone': 6861, 'incense': 6862, 'flutter': 6863, 'panes': 6864, 'blackfyre': 6865, 'blackberry': 6866, 'swordplay': 6867, 'pureborn': 6868, 'gale': 6869, 'lichyard': 6870, 'guessed': 6871, 'mariya': 6872, 'emerging': 6873, 'chuckling': 6874, 'stonehouse': 6875, 'hag': 6876, 'hake': 6877, 'fringes': 6878, 'ofttimes': 6879, 'peak': 6880, 'farm': 6881, 'orchards': 6882, 'fingertips': 6883, 'alyssa': 6884, 'snorting': 6885, 'gross': 6886, 'crossbowman': 6887, 'stub': 6888, 'caswell': 6889, 'yi': 6890, 'hother': 6891, 'bedclothes': 6892, 'handled': 6893, 'pillar': 6894, 'flints': 6895, 'kedge': 6896, 'wraith': 6897, 'roasting': 6898, 'circuit': 6899, 'ti': 6900, 'rasping': 6901, 'conquered': 6902, 'chilled': 6903, 'crueler': 6904, 'presumed': 6905, 'punch': 6906, 'slobber': 6907, 'figures': 6908, 'koss': 6909, 'changes': 6910, 'vassals': 6911, 'warhorses': 6912, 'marcher': 6913, 'ferocious': 6914, 'granddaughters': 6915, 'pinching': 6916, 'dented': 6917, 'manacles': 6918, 'yanking': 6919, 'desert': 6920, 'evenstar': 6921, 'judges': 6922, 'resigned': 6923, 'sewing': 6924, 'albar': 6925, 'scalding': 6926, 'bleached': 6927, 'lurking': 6928, 'punished': 6929, 'crackle': 6930, 'shelters': 6931, 'widows': 6932, 'stormed': 6933, 'protects': 6934, 'ledge': 6935, 'favors': 6936, 'tread': 6937, 'worried': 6938, 'stoop': 6939, 'baskets': 6940, 'upright': 6941, 'towered': 6942, 'chivalrous': 6943, 'stormy': 6944, 'knightly': 6945, 'ollo': 6946, 'nightmares': 6947, 'popped': 6948, 'subtle': 6949, 'channel': 6950, 'aisle': 6951, 'grotesquely': 6952, 'walks': 6953, 'plots': 6954, 'dares': 6955, 'writhed': 6956, 'diamonds': 6957, 'puffy': 6958, 'coverlet': 6959, 'groaning': 6960, 'tripped': 6961, 'recent': 6962, 'shelves': 6963, 'dip': 6964, 'veined': 6965, 'swordfish': 6966, 'chips': 6967, 'wreathed': 6968, 'standards': 6969, 'tumult': 6970, 'excitement': 6971, 'foretold': 6972, 'submission': 6973, 'finery': 6974, 'dealing': 6975, 'tame': 6976, 'lymond': 6977, 'longwaters': 6978, 'lambs': 6979, 'alannys': 6980, 'sobs': 6981, 'ceremony': 6982, 'meanwhile': 6983, 'profit': 6984, 'distraught': 6985, 'harrion': 6986, 'horseflesh': 6987, 'destination': 6988, 'moonlit': 6989, 'station': 6990, 'stocky': 6991, 'borroq': 6992, 'perriane': 6993, 'hilts': 6994, 'exclaimed': 6995, 'awry': 6996, 'barbs': 6997, 'taxes': 6998, 'sunburst': 6999, 'laughs': 7000, 'raisins': 7001, 'needing': 7002, 'gendel': 7003, 'arwood': 7004, 'morya': 7005, 'upraised': 7006, 'collapse': 7007, 'outlive': 7008, 'nightfires': 7009, 'ornament': 7010, 'pointy': 7011, 'childish': 7012, 'forgets': 7013, 'gossip': 7014, 'chopping': 7015, 'toy': 7016, 'platters': 7017, 'instinct': 7018, 'awash': 7019, 'correct': 7020, 'bowman': 7021, 'gruffly': 7022, 'dolf': 7023, 'haunches': 7024, 'teasing': 7025, 'da': 7026, 'freedman': 7027, 'beets': 7028, 'strokes': 7029, 'spearhead': 7030, 'similar': 7031, 'destruction': 7032, 'woe': 7033, 'drinks': 7034, 'retinue': 7035, 'brains': 7036, 'murmuring': 7037, 'dubbed': 7038, 'proven': 7039, 'fares': 7040, 'tapestry': 7041, 'fuzz': 7042, 'jealous': 7043, 'pecked': 7044, 'knotted': 7045, 'sweetened': 7046, 'enamel': 7047, 'loyally': 7048, 'bane': 7049, 'fangs': 7050, 'source': 7051, 'tycho': 7052, 'greenseers': 7053, 'beads': 7054, 'pinkeye': 7055, 'endured': 7056, 'dishes': 7057, 'bedmaid': 7058, 'birthright': 7059, 'summoning': 7060, 'trenchers': 7061, 'elm': 7062, 'longest': 7063, 'burnished': 7064, 'eroeh': 7065, 'presently': 7066, 'session': 7067, 'posts': 7068, 'serjeants': 7069, 'kasporio': 7070, 'flood': 7071, 'hoisted': 7072, 'filly': 7073, 'questioning': 7074, 'ruler': 7075, 'vivid': 7076, 'charms': 7077, 'quarrelsome': 7078, 'hillside': 7079, 'greybeard': 7080, 'ditches': 7081, 'curling': 7082, 'safest': 7083, 'purses': 7084, 'bladder': 7085, 'wrestling': 7086, 'amiably': 7087, 'visitor': 7088, 'plus': 7089, 'arrest': 7090, 'nearer': 7091, 'denying': 7092, 'jutted': 7093, 'skinning': 7094, 'enmity': 7095, 'errok': 7096, 'jugglers': 7097, 'unwanted': 7098, 'cheaper': 7099, 'follard': 7100, 'forts': 7101, 'poorly': 7102, 'heedless': 7103, 'upstairs': 7104, 'sheared': 7105, 'muscled': 7106, 'spearman': 7107, 'leaded': 7108, 'windswept': 7109, 'greyjoys': 7110, 'lowest': 7111, 'scratches': 7112, 'clacked': 7113, 'shimmer': 7114, 'clearing': 7115, 'suffering': 7116, 'quieted': 7117, 'strain': 7118, 'sap': 7119, 'unfortunate': 7120, 'preserve': 7121, 'wasting': 7122, 'panting': 7123, 'draught': 7124, 'lambswool': 7125, 'realization': 7126, 'courteously': 7127, 'nameless': 7128, 'khals': 7129, 'wrongs': 7130, 'pebbled': 7131, 'woth': 7132, 'luthor': 7133, 'irritated': 7134, 'sneak': 7135, 'thatch': 7136, 'perch': 7137, 'bunch': 7138, 'welled': 7139, 'mallisters': 7140, 'balaq': 7141, 'helmet': 7142, 'ryk': 7143, 'colossal': 7144, 'finds': 7145, 'rymund': 7146, 'myraham': 7147, 'astonishment': 7148, 'airy': 7149, 'hams': 7150, 'fits': 7151, 'darkening': 7152, 'barbrey': 7153, 'jeor': 7154, 'magical': 7155, 'outlined': 7156, 'scratchy': 7157, 'repair': 7158, 'nonce': 7159, 'disapproval': 7160, 'hungerford': 7161, 'cromm': 7162, 'gushed': 7163, 'sconce': 7164, 'loaves': 7165, 'blamed': 7166, 'lighting': 7167, 'wince': 7168, 'billowing': 7169, 'bumped': 7170, 'escorting': 7171, 'hug': 7172, 'thrusting': 7173, 'poised': 7174, 'diligent': 7175, 'befits': 7176, 'overcast': 7177, 'amends': 7178, 'philip': 7179, 'forbade': 7180, 'ashara': 7181, 'saltcliffe': 7182, 'thickened': 7183, 'flecked': 7184, 'furnishings': 7185, 'domishman': 7186, 'sunglass': 7187, 'walkers': 7188, 'richest': 7189, 'pitchfork': 7190, 'wire': 7191, 'leona': 7192, 'thunderfist': 7193, 'quartered': 7194, 'meaty': 7195, 'greenhands': 7196, 'absurdly': 7197, 'gage': 7198, 'cobblestones': 7199, 'buttocks': 7200, 'smiler': 7201, 'russet': 7202, 'dispute': 7203, 'draperies': 7204, 'heaving': 7205, 'plundered': 7206, 'clustered': 7207, 'mychel': 7208, 'owes': 7209, 'clacking': 7210, 'din': 7211, 'chanted': 7212, 'marselen': 7213, 'disease': 7214, 'dispossessed': 7215, 'ravaged': 7216, 'goddess': 7217, 'request': 7218, 'rimmed': 7219, 'brewhouse': 7220, 'conspired': 7221, 'quipped': 7222, 'murky': 7223, 'contemplate': 7224, 'strands': 7225, 'hawking': 7226, 'aflame': 7227, 'squabbling': 7228, 'sorceress': 7229, 'leathery': 7230, 'hotter': 7231, 'feral': 7232, 'persimmon': 7233, 'fleas': 7234, 'tome': 7235, 'avail': 7236, 'penned': 7237, 'prancing': 7238, 'sigrin': 7239, 'ambition': 7240, 'structure': 7241, 'naath': 7242, 'flavored': 7243, 'eon': 7244, 'odds': 7245, 'halfhelms': 7246, 'plucking': 7247, 'hippocras': 7248, 'corruption': 7249, 'garrett': 7250, 'puddles': 7251, 'admire': 7252, 'straits': 7253, 'balk': 7254, 'compliment': 7255, 'lurching': 7256, 'amabel': 7257, 'drab': 7258, 'mates': 7259, 'challenged': 7260, 'braids': 7261, 'pried': 7262, 'flaying': 7263, 'quays': 7264, 'andal': 7265, 'stirrup': 7266, 'paste': 7267, 'yew': 7268, 'sneered': 7269, 'earnest': 7270, 'accounts': 7271, 'barricade': 7272, 'ungainly': 7273, 'comfortably': 7274, 'works': 7275, 'bedrobe': 7276, 'casually': 7277, 'ermesande': 7278, 'walrus': 7279, 'lapping': 7280, 'woes': 7281, 'losses': 7282, 'despoiled': 7283, 'merlons': 7284, 'wrap': 7285, 'differently': 7286, 'drafty': 7287, 'carrot': 7288, 'leaking': 7289, 'sprouting': 7290, 'fancied': 7291, 'prone': 7292, 'wisely': 7293, 'softened': 7294, 'splendor': 7295, 'joien': 7296, 'nests': 7297, 'extinguished': 7298, 'crofter': 7299, 'hesitation': 7300, 'undertunic': 7301, 'tobho': 7302, 'rack': 7303, 'sapphire': 7304, 'affection': 7305, 'deceived': 7306, 'experience': 7307, 'traditional': 7308, 'glovers': 7309, 'desertion': 7310, 'willows': 7311, 'shackles': 7312, 'brella': 7313, 'skills': 7314, 'lithe': 7315, 'gerrick': 7316, 'bondage': 7317, 'hmmm': 7318, 'shoot': 7319, 'rills': 7320, 'penniless': 7321, 'volmark': 7322, 'reddening': 7323, 'windburnt': 7324, 'melancholy': 7325, 'tax': 7326, 'shadowcats': 7327, 'garnets': 7328, 'dimness': 7329, 'authority': 7330, 'locks': 7331, 'donkeys': 7332, 'crumbled': 7333, 'glimmer': 7334, 'kem': 7335, 'uneven': 7336, 'hart': 7337, 'frightens': 7338, 'simpler': 7339, 'ho': 7340, 'peoples': 7341, 'hoofbeats': 7342, 'itching': 7343, 'apron': 7344, 'housed': 7345, 'wynch': 7346, 'quivered': 7347, 'conversation': 7348, 'victim': 7349, 'entrusted': 7350, 'approaching': 7351, 'performed': 7352, 'scatter': 7353, 'enjoying': 7354, 'whites': 7355, 'serpents': 7356, 'utt': 7357, 'condemn': 7358, 'charger': 7359, 'courtesan': 7360, 'bannen': 7361, 'whereas': 7362, 'accusations': 7363, 'fortunately': 7364, 'tremulous': 7365, 'berries': 7366, 'mastiff': 7367, 'fore': 7368, 'wick': 7369, 'paces': 7370, 'sallow': 7371, 'inherit': 7372, 'pat': 7373, 'wove': 7374, 'bundles': 7375, 'weakling': 7376, 'ape': 7377, 'visits': 7378, 'mallador': 7379, 'teat': 7380, 'tankards': 7381, 'crenel': 7382, 'emrick': 7383, 'barmen': 7384, 'timidly': 7385, 'dockside': 7386, 'boulders': 7387, 'mhysa': 7388, 'templeton': 7389, 'clarence': 7390, 'pained': 7391, 'frayed': 7392, 'loathing': 7393, 'checked': 7394, 'worshipers': 7395, 'marrying': 7396, 'tempting': 7397, 'morrec': 7398, 'prison': 7399, 'propped': 7400, 'northerners': 7401, 'pound': 7402, 'approve': 7403, 'lets': 7404, 'dismounting': 7405, 'anguish': 7406, 'troops': 7407, 'catspaw': 7408, 'dregs': 7409, 'peaches': 7410, 'crosslegged': 7411, 'nonsense': 7412, 'cloudy': 7413, 'fastenings': 7414, 'moths': 7415, 'hulks': 7416, 'sagged': 7417, 'expanse': 7418, 'spanned': 7419, 'attackers': 7420, 'littered': 7421, 'chanting': 7422, 'lent': 7423, 'morsel': 7424, 'families': 7425, 'bloodless': 7426, 'hoarsely': 7427, 'belaquo': 7428, 'problem': 7429, 'cheat': 7430, 'packs': 7431, 'rowing': 7432, 'defensively': 7433, 'bandy': 7434, 'rainbows': 7435, 'unseemly': 7436, 'clanking': 7437, 'abashed': 7438, 'jofftey': 7439, 'whetstone': 7440, 'grimtongue': 7441, 'scrollwork': 7442, 'spies': 7443, 'cudgels': 7444, 'oblivious': 7445, 'starfall': 7446, 'sparkled': 7447, 'ronnel': 7448, 'pardoned': 7449, 'hearths': 7450, 'snarks': 7451, 'fling': 7452, 'ginger': 7453, 'repute': 7454, 'stiv': 7455, 'witted': 7456, 'reckless': 7457, 'murdering': 7458, 'rasped': 7459, 'poachers': 7460, 'accusation': 7461, 'dragonlords': 7462, 'squeal': 7463, 'shama': 7464, 'glitter': 7465, 'bidding': 7466, 'mirror': 7467, 'moaning': 7468, 'nut': 7469, 'lyle': 7470, 'rounds': 7471, 'sorely': 7472, 'oily': 7473, 'pretext': 7474, 'wholly': 7475, 'quills': 7476, 'pynto': 7477, 'summit': 7478, 'biscuits': 7479, 'smoothly': 7480, 'shattering': 7481, 'peasebury': 7482, 'rumors': 7483, 'pose': 7484, 'wallwalk': 7485, 'camel': 7486, 'swelling': 7487, 'kurz': 7488, 'acted': 7489, 'firewood': 7490, 'hayford': 7491, 'collars': 7492, 'favorites': 7493, 'oils': 7494, 'orkwood': 7495, 'disputed': 7496, 'jammos': 7497, 'squirm': 7498, 'stallions': 7499, 'approved': 7500, 'notions': 7501, 'cruelly': 7502, 'mild': 7503, 'loped': 7504, 'stillborn': 7505, 'preach': 7506, 'emptiness': 7507, 'intrude': 7508, 'westermen': 7509, 'encampment': 7510, 'obscene': 7511, 'screeching': 7512, 'delay': 7513, 'caravan': 7514, 'retake': 7515, 'egen': 7516, 'personal': 7517, 'greybeards': 7518, 'puh': 7519, 'lain': 7520, 'brigand': 7521, 'heralds': 7522, 'spasm': 7523, 'central': 7524, 'slices': 7525, 'stackspear': 7526, 'forester': 7527, 'plaster': 7528, 'fray': 7529, 'eh': 7530, 'slapping': 7531, 'shieldhall': 7532, 'outnumbered': 7533, 'merrily': 7534, 'merely': 7535, 'roamed': 7536, 'unicorn': 7537, 'shitmouth': 7538, 'slits': 7539, 'bedpost': 7540, 'vote': 7541, 'cumbersome': 7542, 'archway': 7543, 'kingspyre': 7544, 'melons': 7545, 'ironmaker': 7546, 'beats': 7547, 'gleam': 7548, 'success': 7549, 'layer': 7550, 'alfyn': 7551, 'shames': 7552, 'local': 7553, 'quenton': 7554, 'answering': 7555, 'fingering': 7556, 'ricasso': 7557, 'sinner': 7558, 'alarm': 7559, 'flown': 7560, 'guttered': 7561, 'lydden': 7562, 'liver': 7563, 'million': 7564, 'jast': 7565, 'urri': 7566, 'lambert': 7567, 'marei': 7568, 'massing': 7569, 'kinslaying': 7570, 'dew': 7571, 'unborn': 7572, 'advanced': 7573, 'bonds': 7574, 'roaches': 7575, 'undergaoler': 7576, 'fix': 7577, 'pains': 7578, 'traveler': 7579, 'loosened': 7580, 'sighted': 7581, 'kitten': 7582, 'redwynes': 7583, 'longtable': 7584, 'shuffling': 7585, 'delayed': 7586, 'stringy': 7587, 'theomore': 7588, 'chant': 7589, 'bulled': 7590, 'sealing': 7591, 'topped': 7592, 'steeper': 7593, 'inflamed': 7594, 'futile': 7595, 'exiles': 7596, 'rugen': 7597, 'trebuchet': 7598, 'longbough': 7599, 'poisonous': 7600, 'markets': 7601, 'mossy': 7602, 'alongside': 7603, 'lagoon': 7604, 'scarecrow': 7605, 'bazaar': 7606, 'wins': 7607, 'votes': 7608, 'reds': 7609, 'hatch': 7610, 'smeared': 7611, 'barleycorn': 7612, 'ashemark': 7613, 'obscured': 7614, 'execution': 7615, 'neat': 7616, 'stripling': 7617, 'tips': 7618, 'girth': 7619, 'weaver': 7620, 'exposed': 7621, 'muck': 7622, 'edging': 7623, 'rod': 7624, 'bearers': 7625, 'unspoken': 7626, 'nodding': 7627, 'seashells': 7628, 'various': 7629, 'waterskin': 7630, 'discover': 7631, 'noses': 7632, 'reassuring': 7633, 'apology': 7634, 'spin': 7635, 'wending': 7636, 'eldon': 7637, 'clap': 7638, 'paymaster': 7639, 'lamplight': 7640, 'whinny': 7641, 'ruffled': 7642, 'unhappily': 7643, 'file': 7644, 'wondrous': 7645, 'kayce': 7646, 'farms': 7647, 'noon': 7648, 'ransomed': 7649, 'cracking': 7650, 'courtyards': 7651, 'rusty': 7652, 'examine': 7653, 'wanderer': 7654, 'ascended': 7655, 'accuse': 7656, 'drip': 7657, 'celebrate': 7658, 'smoked': 7659, 'colin': 7660, 'demonstrate': 7661, 'burdens': 7662, 'denzo': 7663, 'faithfully': 7664, 'hardwood': 7665, 'palla': 7666, 'nightsong': 7667, 'seasons': 7668, 'honing': 7669, 'surcoats': 7670, 'bartimus': 7671, 'pants': 7672, 'graciously': 7673, 'daresay': 7674, 'patrons': 7675, 'mutes': 7676, 'carracks': 7677, 'assigned': 7678, 'unlaced': 7679, 'thicket': 7680, 'waddling': 7681, 'fancies': 7682, 'sloshed': 7683, 'bubbling': 7684, 'threaded': 7685, 'styled': 7686, 'gasping': 7687, 'supplied': 7688, 'giggle': 7689, 'shelf': 7690, 'loyalties': 7691, 'gag': 7692, 'tow': 7693, 'poorer': 7694, 'aerion': 7695, 'felled': 7696, 'strapping': 7697, 'numbered': 7698, 'daybreak': 7699, 'onward': 7700, 'mounds': 7701, 'galyeon': 7702, 'awhile': 7703, 'spoil': 7704, 'complaints': 7705, 'fun': 7706, 'stalks': 7707, 'notorious': 7708, 'excused': 7709, 'damage': 7710, 'princeling': 7711, 'tube': 7712, 'sting': 7713, 'cramping': 7714, 'freakish': 7715, 'meek': 7716, 'dutifully': 7717, 'receding': 7718, 'nocked': 7719, 'fold': 7720, 'dwindling': 7721, 'snowballs': 7722, 'swaddling': 7723, 'fan': 7724, 'week': 7725, 'unto': 7726, 'events': 7727, 'rescued': 7728, 'smithy': 7729, 'sauntered': 7730, 'commented': 7731, 'sparks': 7732, 'maegelle': 7733, 'tourmaline': 7734, 'gravel': 7735, 'click': 7736, 'scolded': 7737, 'dominion': 7738, 'team': 7739, 'jug': 7740, 'hastily': 7741, 'manticores': 7742, 'seamen': 7743, 'redbeard': 7744, 'spraying': 7745, 'casso': 7746, 'behest': 7747, 'framed': 7748, 'clank': 7749, 'slanted': 7750, 'malaquo': 7751, 'slitted': 7752, 'scaring': 7753, 'longbows': 7754, 'slut': 7755, 'rearing': 7756, 'catapult': 7757, 'overrun': 7758, 'silenced': 7759, 'offended': 7760, 'toys': 7761, 'banker': 7762, 'smuggling': 7763, 'stirrups': 7764, 'dreaded': 7765, 'fart': 7766, 'han': 7767, 'nestled': 7768, 'crinkled': 7769, 'depending': 7770, 'weg': 7771, 'fitted': 7772, 'hooting': 7773, 'impatient': 7774, 'halleck': 7775, 'comforting': 7776, 'unexpected': 7777, 'vole': 7778, 'ebon': 7779, 'loops': 7780, 'pitmaster': 7781, 'stays': 7782, 'grassy': 7783, 'banging': 7784, 'undoing': 7785, 'ruse': 7786, 'dismiss': 7787, 'charming': 7788, 'ringlets': 7789, 'lacking': 7790, 'withdraw': 7791, 'film': 7792, 'stack': 7793, 'throng': 7794, 'dishonored': 7795, 'impatience': 7796, 'colen': 7797, 'grunting': 7798, 'doe': 7799, 'helplessly': 7800, 'lumpyhead': 7801, 'throughout': 7802, 'harpercollins': 7803, 'fetching': 7804, 'wedded': 7805, 'ilk': 7806, 'curly': 7807, 'lumpy': 7808, 'harmen': 7809, 'bitches': 7810, 'puppy': 7811, 'reserve': 7812, 'boneway': 7813, 'patterns': 7814, 'paw': 7815, 'ornamented': 7816, 'horsehair': 7817, 'medallion': 7818, 'barth': 7819, 'hatched': 7820, 'horde': 7821, 'prodigious': 7822, 'undyed': 7823, 'nursing': 7824, 'qaggaz': 7825, 'manned': 7826, 'albett': 7827, 'glowering': 7828, 'itched': 7829, 'dismayed': 7830, 'poultice': 7831, 'cleaner': 7832, 'dubious': 7833, 'attacking': 7834, 'meager': 7835, 'tummy': 7836, 'spending': 7837, 'praised': 7838, 'console': 7839, 'screeched': 7840, 'festered': 7841, 'mournfully': 7842, 'preparations': 7843, 'harshly': 7844, 'fiercest': 7845, 'smack': 7846, 'unslung': 7847, 'selwyn': 7848, 'furiously': 7849, 'thimble': 7850, 'hayhead': 7851, 'include': 7852, 'condition': 7853, 'dohaeris': 7854, 'plotted': 7855, 'undergrowth': 7856, 'hardbread': 7857, 'holdings': 7858, 'geremy': 7859, 'tittered': 7860, 'mage': 7861, 'careless': 7862, 'betrayer': 7863, 'th': 7864, 'grumbling': 7865, 'visiting': 7866, 'arrives': 7867, 'zhak': 7868, 'tarber': 7869, 'carving': 7870, 'dagos': 7871, 'unpleasant': 7872, 'starlight': 7873, 'splintery': 7874, 'niggardly': 7875, 'willam': 7876, 'beeswax': 7877, 'blane': 7878, 'suns': 7879, 'baying': 7880, 'maric': 7881, 'teams': 7882, 'players': 7883, 'sniggered': 7884, 'perfectly': 7885, 'eagles': 7886, 'rightly': 7887, 'flurry': 7888, 'rowers': 7889, 'spires': 7890, 'allyrion': 7891, 'lewys': 7892, 'fisherman': 7893, 'peat': 7894, 'gunwale': 7895, 'storehouses': 7896, 'flipped': 7897, 'pointless': 7898, 'dobber': 7899, 'gracefully': 7900, 'satisfaction': 7901, 'repaid': 7902, 'marshal': 7903, 'lomas': 7904, 'baths': 7905, 'dye': 7906, 'mysteries': 7907, 'balanced': 7908, 'phantom': 7909, 'bake': 7910, 'toasts': 7911, 'counseled': 7912, 'humming': 7913, 'arwyn': 7914, 'underground': 7915, 'butchers': 7916, 'strongwine': 7917, 'axehead': 7918, 'grazed': 7919, 'saddlebag': 7920, 'tens': 7921, 'harmune': 7922, 'blooded': 7923, 'strongholds': 7924, 'pens': 7925, 'moose': 7926, 'extra': 7927, 'mouthed': 7928, 'regrets': 7929, 'fingerbones': 7930, 'cloudless': 7931, 'captivity': 7932, 'footfalls': 7933, 'disks': 7934, 'fort': 7935, 'chorus': 7936, 'quail': 7937, 'marlon': 7938, 'gagged': 7939, 'peckledon': 7940, 'snowdrifts': 7941, 'eyebrows': 7942, 'innkeeper': 7943, 'watchful': 7944, 'sergeant': 7945, 'manwoody': 7946, 'maul': 7947, 'stray': 7948, 'shambling': 7949, 'dalt': 7950, 'merriment': 7951, 'meets': 7952, 'glumly': 7953, 'ivy': 7954, 'suggesting': 7955, 'advantage': 7956, 'stygg': 7957, 'appointment': 7958, 'roseroad': 7959, 'display': 7960, 'riddles': 7961, 'dozens': 7962, 'orderly': 7963, 'magisters': 7964, 'sumner': 7965, 'brus': 7966, 'unease': 7967, 'hatred': 7968, 'tension': 7969, 'odor': 7970, 'coffers': 7971, 'shares': 7972, 'upjumped': 7973, 'progress': 7974, 'auctioneer': 7975, 'vex': 7976, 'yielding': 7977, 'gormond': 7978, 'leaked': 7979, 'flag': 7980, 'coverlets': 7981, 'gallantry': 7982, 'chestnuts': 7983, 'defeating': 7984, 'intentions': 7985, 'backhand': 7986, 'sinister': 7987, 'greenseer': 7988, 'afflicted': 7989, 'howls': 7990, 'watchtowers': 7991, 'marriages': 7992, 'boards': 7993, 'sconces': 7994, 'confines': 7995, 'cure': 7996, 'principal': 7997, 'swordpoint': 7998, 'wanly': 7999, 'pointedly': 8000, 'curve': 8001, 'burly': 8002, 'afford': 8003, 'salute': 8004, 'nutmeg': 8005, 'swaggering': 8006, 'movements': 8007, 'prentice': 8008, 'joss': 8009, 'fletching': 8010, 'seething': 8011, 'vair': 8012, 'leeks': 8013, 'salmon': 8014, 'chooses': 8015, 'rasp': 8016, 'sparse': 8017, 'tarbeck': 8018, 'shadd': 8019, 'shyly': 8020, 'advise': 8021, 'harle': 8022, 'sot': 8023, 'swordbelts': 8024, 'tracing': 8025, 'undress': 8026, 'spoiled': 8027, 'spurned': 8028, 'marghaz': 8029, 'pry': 8030, 'notably': 8031, 'frenya': 8032, 'blackberries': 8033, 'assemble': 8034, 'lapis': 8035, 'rollam': 8036, 'prevail': 8037, 'intoned': 8038, 'vaguely': 8039, 'mongrels': 8040, 'scabs': 8041, 'bloodshed': 8042, 'alcove': 8043, 'impressive': 8044, 'gullet': 8045, 'mold': 8046, 'loading': 8047, 'drumming': 8048, 'hazzea': 8049, 'performing': 8050, 'glorious': 8051, 'raids': 8052, 'contemptuous': 8053, 'splintering': 8054, 'hoof': 8055, 'planky': 8056, 'nets': 8057, 'gigantic': 8058, 'flatter': 8059, 'qybum': 8060, 'sty': 8061, 'foam': 8062, 'sorrowful': 8063, 'retreating': 8064, 'rabble': 8065, 'hereabouts': 8066, 'bosom': 8067, 'jowly': 8068, 'tenderly': 8069, 'avoided': 8070, 'lure': 8071, 'clanging': 8072, 'spicers': 8073, 'easiest': 8074, 'treasurer': 8075, 'crammed': 8076, 'disappeared': 8077, 'harmless': 8078, 'bends': 8079, 'bugs': 8080, 'iord': 8081, 'lustily': 8082, 'wyl': 8083, 'trousers': 8084, 'peake': 8085, 'broom': 8086, 'relentless': 8087, 'benefit': 8088, 'awoke': 8089, 'disquieted': 8090, 'twilight': 8091, 'posed': 8092, 'sedan': 8093, 'snout': 8094, 'un': 8095, 'tumbledown': 8096, 'deceit': 8097, 'scrawled': 8098, 'buckets': 8099, 'earless': 8100, 'bloom': 8101, 'combed': 8102, 'discarded': 8103, 'qorgyle': 8104, 'witless': 8105, 'devoted': 8106, 'nightingale': 8107, 'halfwit': 8108, 'horrors': 8109, 'leonette': 8110, 'reluctant': 8111, 'drape': 8112, 'trampled': 8113, 'prune': 8114, 'baking': 8115, 'image': 8116, 'cedars': 8117, 'behave': 8118, 'clammy': 8119, 'cleanse': 8120, 'virtue': 8121, 'pecking': 8122, 'lastly': 8123, 'invited': 8124, 'trials': 8125, 'medallions': 8126, 'sinned': 8127, 'harras': 8128, 'spire': 8129, 'jumble': 8130, 'earthy': 8131, 'forcefully': 8132, 'precipice': 8133, 'wode': 8134, 'plush': 8135, 'skinchangers': 8136, 'gull': 8137, 'frame': 8138, 'countless': 8139, 'flailed': 8140, 'disquiet': 8141, 'fishwives': 8142, 'kof': 8143, 'ugliest': 8144, 'straining': 8145, 'feeds': 8146, 'hale': 8147, 'rouse': 8148, 'combined': 8149, 'sallor': 8150, 'beautifully': 8151, 'bobbing': 8152, 'tray': 8153, 'pomegranates': 8154, 'staves': 8155, 'iced': 8156, 'buckling': 8157, 'levels': 8158, 'badges': 8159, 'whoring': 8160, 'endrew': 8161, 'ascend': 8162, 'teacher': 8163, 'kedry': 8164, 'cowled': 8165, 'sally': 8166, 'begone': 8167, 'serious': 8168, 'thong': 8169, 'chiseled': 8170, 'lacks': 8171, 'robber': 8172, 'toothed': 8173, 'supreme': 8174, 'mermaid': 8175, 'parties': 8176, 'armpits': 8177, 'clouded': 8178, 'hollows': 8179, 'sentence': 8180, 'madman': 8181, 'blazoned': 8182, 'alliances': 8183, 'darling': 8184, 'wynton': 8185, 'murderous': 8186, 'dearly': 8187, 'informer': 8188, 'comment': 8189, 'grape': 8190, 'towel': 8191, 'fleets': 8192, 'jacks': 8193, 'byrnie': 8194, 'barges': 8195, 'moonless': 8196, 'babies': 8197, 'driver': 8198, 'piney': 8199, 'cautioned': 8200, 'ally': 8201, 'bums': 8202, 'grabbing': 8203, 'juicy': 8204, 'gulped': 8205, 'skewer': 8206, 'seared': 8207, 'outrun': 8208, 'defied': 8209, 'unkind': 8210, 'sired': 8211, 'wiping': 8212, 'overland': 8213, 'engaged': 8214, 'deemed': 8215, 'undefended': 8216, 'ordeal': 8217, 'wearisome': 8218, 'sealskin': 8219, 'spade': 8220, 'cackled': 8221, 'nipped': 8222, 'burgundy': 8223, 'twigs': 8224, 'quhuru': 8225, 'pacing': 8226, 'unsteady': 8227, 'recoiled': 8228, 'slam': 8229, 'gelded': 8230, 'triston': 8231, 'pets': 8232, 'verses': 8233, 'inquire': 8234, 'signaled': 8235, 'spiral': 8236, 'triple': 8237, 'welling': 8238, 'eternal': 8239, 'brindled': 8240, 'fared': 8241, 'hulk': 8242, 'tombs': 8243, 'kyle': 8244, 'seeped': 8245, 'waddle': 8246, 'atone': 8247, 'blurred': 8248, 'myriad': 8249, 'curiosity': 8250, 'plodded': 8251, 'thronls': 8252, 'plunge': 8253, 'wulfe': 8254, 'rim': 8255, 'arrowhead': 8256, 'neatly': 8257, 'gylbert': 8258, 'costs': 8259, 'tongs': 8260, 'slaving': 8261, 'direct': 8262, 'boned': 8263, 'intends': 8264, 'occurred': 8265, 'craftsmen': 8266, 'aggar': 8267, 'sharper': 8268, 'misgivings': 8269, 'awakened': 8270, 'lathered': 8271, 'huny': 8272, 'relieve': 8273, 'chested': 8274, 'frosting': 8275, 'ulf': 8276, 'crunching': 8277, 'stilts': 8278, 'parting': 8279, 'improve': 8280, 'lens': 8281, 'thinning': 8282, 'mushroom': 8283, 'assist': 8284, 'patter': 8285, 'lucan': 8286, 'oatcakes': 8287, 'ambitious': 8288, 'react': 8289, 'runny': 8290, 'stillness': 8291, 'blacker': 8292, 'injured': 8293, 'sherrer': 8294, 'bestowed': 8295, 'appeased': 8296, 'mats': 8297, 'mistook': 8298, 'tensed': 8299, 'alien': 8300, 'bang': 8301, 'ironwood': 8302, 'wolfskins': 8303, 'oblige': 8304, 'devils': 8305, 'penalty': 8306, 'arakhs': 8307, 'unmoved': 8308, 'reddish': 8309, 'nuzzled': 8310, 'matthar': 8311, 'tempt': 8312, 'stupidly': 8313, 'prophet': 8314, 'maidenvault': 8315, 'wincing': 8316, 'scorpion': 8317, 'huddle': 8318, 'writ': 8319, 'hali': 8320, 'concubine': 8321, 'kingsblood': 8322, 'dispose': 8323, 'bait': 8324, 'grazhar': 8325, 'roused': 8326, 'excuses': 8327, 'weighing': 8328, 'acting': 8329, 'union': 8330, 'mashed': 8331, 'sheepskins': 8332, 'measured': 8333, 'smacked': 8334, 'blackheart': 8335, 'factors': 8336, 'gorged': 8337, 'brawny': 8338, 'chatter': 8339, 'gesturing': 8340, 'silvers': 8341, 'rafts': 8342, 'horton': 8343, 'gangplank': 8344, 'compound': 8345, 'constant': 8346, 'leaders': 8347, 'custody': 8348, 'barbed': 8349, 'hibald': 8350, 'sod': 8351, 'traces': 8352, 'swarms': 8353, 'quieter': 8354, 'wonderful': 8355, 'mustard': 8356, 'address': 8357, 'giddy': 8358, 'waterfall': 8359, 'succeeded': 8360, 'usurpers': 8361, 'faithless': 8362, 'appetites': 8363, 'girlish': 8364, 'terrence': 8365, 'puppies': 8366, 'swordsmen': 8367, 'tatters': 8368, 'puppet': 8369, 'regal': 8370, 'cocks': 8371, 'gathers': 8372, 'advance': 8373, 'invite': 8374, 'wrinkles': 8375, 'smothered': 8376, 'torwold': 8377, 'process': 8378, 'bulged': 8379, 'parried': 8380, 'cinched': 8381, 'pimples': 8382, 'unlocked': 8383, 'cub': 8384, 'gusted': 8385, 'planning': 8386, 'pipers': 8387, 'languid': 8388, 'fourteenth': 8389, 'chunky': 8390, 'yields': 8391, 'herring': 8392, 'believing': 8393, 'dumb': 8394, 'longing': 8395, 'weddings': 8396, 'shapeless': 8397, 'gratefully': 8398, 'trod': 8399, 'aunts': 8400, 'terro': 8401, 'steals': 8402, 'caravans': 8403, 'navel': 8404, 'butchering': 8405, 'fragile': 8406, 'sigils': 8407, 'blazes': 8408, 'saddened': 8409, 'taint': 8410, 'frankly': 8411, 'resolve': 8412, 'falsehood': 8413, 'welcoming': 8414, 'paled': 8415, 'unfastened': 8416, 'asunder': 8417, 'hazy': 8418, 'swamps': 8419, 'veiled': 8420, 'gouty': 8421, 'represented': 8422, 'footprints': 8423, 'doves': 8424, 'entertaining': 8425, 'cringing': 8426, 'mire': 8427, 'scares': 8428, 'stormlands': 8429, 'effect': 8430, 'unwed': 8431, 'heaped': 8432, 'alcoves': 8433, 'joking': 8434, 'widower': 8435, 'troupe': 8436, 'wilder': 8437, 'nosed': 8438, 'alehouse': 8439, 'beheld': 8440, 'earshot': 8441, 'yunkishman': 8442, 'whorehouse': 8443, 'pumping': 8444, 'betraying': 8445, 'admiring': 8446, 'tightness': 8447, 'kingly': 8448, 'moonrise': 8449, 'watering': 8450, 'confident': 8451, 'banefort': 8452, 'weds': 8453, 'contracts': 8454, 'piebald': 8455, 'itch': 8456, 'unmoving': 8457, 'inlay': 8458, 'cherished': 8459, 'pitied': 8460, 'herded': 8461, 'throb': 8462, 'whips': 8463, 'fearsomely': 8464, 'malegorn': 8465, 'scab': 8466, 'roland': 8467, 'envied': 8468, 'slightest': 8469, 'sweetsleep': 8470, 'broomstick': 8471, 'greyshield': 8472, 'manderlys': 8473, 'kerwin': 8474, 'regicide': 8475, 'tightening': 8476, 'honeywine': 8477, 'decides': 8478, 'guffawed': 8479, 'upset': 8480, 'sewed': 8481, 'duly': 8482, 'petals': 8483, 'ventured': 8484, 'kennel': 8485, 'furtive': 8486, 'mumbled': 8487, 'loop': 8488, 'loot': 8489, 'puckered': 8490, 'valonqar': 8491, 'coiling': 8492, 'fondness': 8493, 'callus': 8494, 'swat': 8495, 'hulking': 8496, 'ironhand': 8497, 'codfish': 8498, 'hares': 8499, 'surged': 8500, 'thatched': 8501, 'graven': 8502, 'keepers': 8503, 'sigfryd': 8504, 'tottered': 8505, 'consult': 8506, 'gerrold': 8507, 'gaml': 8508, 'unkempt': 8509, 'nibbling': 8510, 'tubs': 8511, 'scourged': 8512, 'plowed': 8513, 'woolens': 8514, 'courtesans': 8515, 'kicks': 8516, 'cake': 8517, 'boon': 8518, 'unleashed': 8519, 'garrisoned': 8520, 'provisioned': 8521, 'potboy': 8522, 'lice': 8523, 'unknown': 8524, 'miklaz': 8525, 'declined': 8526, 'pond': 8527, 'doeskin': 8528, 'croaking': 8529, 'twitch': 8530, 'flights': 8531, 'rebuke': 8532, 'soren': 8533, 'mistaking': 8534, 'cherish': 8535, 'fished': 8536, 'cushioned': 8537, 'shrunk': 8538, 'fingernails': 8539, 'constantly': 8540, 'sockets': 8541, 'dracarys': 8542, 'moods': 8543, 'respectfully': 8544, 'weaving': 8545, 'discolored': 8546, 'tally': 8547, 'hovel': 8548, 'cobbled': 8549, 'gales': 8550, 'ancestors': 8551, 'stares': 8552, 'discussion': 8553, 'palisade': 8554, 'anchored': 8555, 'recited': 8556, 'gutted': 8557, 'successor': 8558, 'winked': 8559, 'dispatch': 8560, 'thirds': 8561, 'steamed': 8562, 'flick': 8563, 'storerooms': 8564, 'sash': 8565, 'dwindle': 8566, 'greensick': 8567, 'firing': 8568, 'jeren': 8569, 'mummery': 8570, 'lout': 8571, 'lodged': 8572, 'fraying': 8573, 'inspected': 8574, 'disagreed': 8575, 'foraging': 8576, 'stacks': 8577, 'lum': 8578, 'infancy': 8579, 'twining': 8580, 'timoth': 8581, 'completed': 8582, 'plunging': 8583, 'cerwyns': 8584, 'ghezn': 8585, 'alyx': 8586, 'clamor': 8587, 'drilling': 8588, 'deepened': 8589, 'recover': 8590, 'belted': 8591, 'hind': 8592, 'fevered': 8593, 'surefooted': 8594, 'spooned': 8595, 'granaries': 8596, 'allar': 8597, 'rigging': 8598, 'spectators': 8599, 'clifton': 8600, 'veils': 8601, 'dragonpit': 8602, 'garse': 8603, 'cheekbones': 8604, 'crypt': 8605, 'horseface': 8606, 'abyss': 8607, 'ferocity': 8608, 'according': 8609, 'luceon': 8610, 'revulsion': 8611, 'na': 8612, 'actual': 8613, 'thrashed': 8614, 'shortest': 8615, 'lythene': 8616, 'vypren': 8617, 'interfere': 8618, 'daily': 8619, 'derision': 8620, 'core': 8621, 'morros': 8622, 'fishermen': 8623, 'mauls': 8624, 'hellholt': 8625, 'enormity': 8626, 'shabby': 8627, 'timbers': 8628, 'lemonwood': 8629, 'husky': 8630, 'confidence': 8631, 'prizes': 8632, 'khalasars': 8633, 'headland': 8634, 'prunes': 8635, 'averted': 8636, 'error': 8637, 'splitting': 8638, 'haft': 8639, 'powder': 8640, 'forging': 8641, 'bestir': 8642, 'flattened': 8643, 'crenellations': 8644, 'staunch': 8645, 'assassin': 8646, 'fervor': 8647, 'fowl': 8648, 'sphinxes': 8649, 'crowkiller': 8650, 'furnished': 8651, 'cheeked': 8652, 'strongly': 8653, 'vulture': 8654, 'infamous': 8655, 'promptly': 8656, 'quality': 8657, 'scoured': 8658, 'attached': 8659, 'unmolested': 8660, 'teeming': 8661, 'torbert': 8662, 'darken': 8663, 'nightsoil': 8664, 'soak': 8665, 'conquerors': 8666, 'muss': 8667, 'ragwyle': 8668, 'pockets': 8669, 'squirrels': 8670, 'accents': 8671, 'speck': 8672, 'folks': 8673, 'barrowlands': 8674, 'slays': 8675, 'role': 8676, 'antlered': 8677, 'horseman': 8678, 'nakedness': 8679, 'hazard': 8680, 'delighted': 8681, 'acquired': 8682, 'merrit': 8683, 'grievance': 8684, 'icemark': 8685, 'dazed': 8686, 'fornications': 8687, 'savoring': 8688, 'carvings': 8689, 'theodan': 8690, 'pin': 8691, 'ninepenny': 8692, 'wattle': 8693, 'unmortared': 8694, 'greyfeather': 8695, 'oarmaster': 8696, 'resisted': 8697, 'tim': 8698, 'lone': 8699, 'clicked': 8700, 'cupbearers': 8701, 'hysterical': 8702, 'thrummed': 8703, 'overlooking': 8704, 'border': 8705, 'conferred': 8706, 'kingship': 8707, 'bale': 8708, 'gormon': 8709, 'moryn': 8710, 'ransoms': 8711, 'dominated': 8712, 'hearted': 8713, 'janna': 8714, 'oilcloth': 8715, 'previous': 8716, 'squished': 8717, 'mêlée': 8718, 'moans': 8719, 'irritation': 8720, 'goodly': 8721, 'departing': 8722, 'burrow': 8723, 'gardener': 8724, 'rogue': 8725, 'belched': 8726, 'horrible': 8727, 'winters': 8728, 'vigorously': 8729, 'peek': 8730, 'lophand': 8731, 'spectacle': 8732, 'urine': 8733, 'slab': 8734, 'elms': 8735, 'snowing': 8736, 'disciplined': 8737, 'savaged': 8738, 'slithered': 8739, 'fraud': 8740, 'charcoal': 8741, 'trails': 8742, 'shipped': 8743, 'mirth': 8744, 'unsurprised': 8745, 'blistered': 8746, 'sincere': 8747, 'adventures': 8748, 'scourge': 8749, 'groups': 8750, 'encouragement': 8751, 'frosted': 8752, 'snails': 8753, 'beastling': 8754, 'elwood': 8755, 'translated': 8756, 'exciting': 8757, 'heartsbane': 8758, 'bestow': 8759, 'expose': 8760, 'tomcat': 8761, 'anders': 8762, 'jasper': 8763, 'watty': 8764, 'humblest': 8765, 'paraded': 8766, 'manfrey': 8767, 'locals': 8768, 'indisposed': 8769, 'glendon': 8770, 'recognition': 8771, 'declaration': 8772, 'cache': 8773, 'revealing': 8774, 'tournament': 8775, 'forsake': 8776, 'lavish': 8777, 'violent': 8778, 'shivers': 8779, 'goldengrove': 8780, 'visibly': 8781, 'sum': 8782, 'clasps': 8783, 'sickroom': 8784, 'kurleket': 8785, 'hemp': 8786, 'hovered': 8787, 'farman': 8788, 'lhazarene': 8789, 'emptying': 8790, 'hugo': 8791, 'jerkins': 8792, 'damnable': 8793, 'gripped': 8794, 'conceded': 8795, 'bowled': 8796, 'refilled': 8797, 'porther': 8798, 'miniature': 8799, 'prevent': 8800, 'munda': 8801, 'pulse': 8802, 'ronald': 8803, 'honeycomb': 8804, 'translator': 8805, 'overlooked': 8806, 'vexing': 8807, 'wracked': 8808, 'moonstones': 8809, 'ryon': 8810, 'heaps': 8811, 'secured': 8812, 'lann': 8813, 'clothed': 8814, 'peas': 8815, 'reynes': 8816, 'pocked': 8817, 'gargalen': 8818, 'winesink': 8819, 'hardstone': 8820, 'carpenters': 8821, 'charging': 8822, 'slattern': 8823, 'dashing': 8824, 'explored': 8825, 'domishmen': 8826, 'treasury': 8827, 'unsavory': 8828, 'stews': 8829, 'cruelty': 8830, 'acceptance': 8831, 'whimper': 8832, 'josmyn': 8833, 'gelmarr': 8834, 'toying': 8835, 'grerm': 8836, 'assent': 8837, 'foote': 8838, 'portions': 8839, 'uproar': 8840, 'imagining': 8841, 'bleating': 8842, 'crookedly': 8843, 'sundry': 8844, 'pinecones': 8845, 'thundering': 8846, 'buyers': 8847, 'rainy': 8848, 'rednose': 8849, 'hotly': 8850, 'sarella': 8851, 'punching': 8852, 'perimeter': 8853, 'wrenching': 8854, 'gore': 8855, 'snores': 8856, 'triangular': 8857, 'produce': 8858, 'trumpet': 8859, 'honed': 8860, 'defiantly': 8861, 'matches': 8862, 'gifted': 8863, 'restive': 8864, 'townsfolk': 8865, 'jolt': 8866, 'handles': 8867, 'pop': 8868, 'rooting': 8869, 'bedmaids': 8870, 'gutters': 8871, 'disentangled': 8872, 'coils': 8873, 'tickle': 8874, 'mix': 8875, 'ballroom': 8876, 'delicacy': 8877, 'hoist': 8878, 'rejoin': 8879, 'misery': 8880, 'fairer': 8881, 'spits': 8882, 'axeman': 8883, 'congratulations': 8884, 'convincing': 8885, 'lazily': 8886, 'translation': 8887, 'reflections': 8888, 'swifter': 8889, 'gouges': 8890, 'cheaply': 8891, 'untied': 8892, 'afloat': 8893, 'frank': 8894, 'bee': 8895, 'distinguished': 8896, 'gulls': 8897, 'bookish': 8898, 'mortar': 8899, 'sickening': 8900, 'furled': 8901, 'whaler': 8902, 'vaellyn': 8903, 'runners': 8904, 'surer': 8905, 'hardyng': 8906, 'jested': 8907, 'gravy': 8908, 'enjoys': 8909, 'lothston': 8910, 'smuggle': 8911, 'unwelcome': 8912, 'swapped': 8913, 'eluded': 8914, 'smirking': 8915, 'behalf': 8916, 'scholar': 8917, 'whence': 8918, 'sweltering': 8919, 'drunkards': 8920, 'kernels': 8921, 'mockingbird': 8922, 'stubby': 8923, 'duncan': 8924, 'slowing': 8925, 'jordayne': 8926, 'mellario': 8927, 'randa': 8928, 'tyta': 8929, 'attainted': 8930, 'maelys': 8931, 'unburied': 8932, 'agrees': 8933, 'conduct': 8934, 'marrow': 8935, 'cluster': 8936, 'mermaids': 8937, 'minds': 8938, 'serra': 8939, 'keg': 8940, 'proves': 8941, 'niche': 8942, 'shaken': 8943, 'mopped': 8944, 'beginnings': 8945, 'generations': 8946, 'bravest': 8947, 'blower': 8948, 'pallid': 8949, 'squashed': 8950, 'stoutly': 8951, 'cawed': 8952, 'apiece': 8953, 'fascination': 8954, 'apologize': 8955, 'misty': 8956, 'alesander': 8957, 'dragonfire': 8958, 'strangled': 8959, 'ebrose': 8960, 'dorna': 8961, 'tranquil': 8962, 'property': 8963, 'comb': 8964, 'rolland': 8965, 'wetness': 8966, 'buckle': 8967, 'pewter': 8968, 'bales': 8969, 'artos': 8970, 'horselord': 8971, 'jenny': 8972, 'outstretched': 8973, 'remark': 8974, 'awe': 8975, 'regain': 8976, 'namesake': 8977, 'breeding': 8978, 'whinnied': 8979, 'glyphs': 8980, 'modestly': 8981, 'dove': 8982, 'milky': 8983, 'mornings': 8984, 'sickbed': 8985, 'characters': 8986, 'stabbing': 8987, 'leviathan': 8988, 'rungs': 8989, 'speechless': 8990, 'adjust': 8991, 'groggy': 8992, 'glowered': 8993, 'joke': 8994, 'pasty': 8995, 'merciless': 8996, 'firepits': 8997, 'tortured': 8998, 'gilbert': 8999, 'foremost': 9000, 'dwellers': 9001, 'expression': 9002, 'trek': 9003, 'fervently': 9004, 'thrilled': 9005, 'covers': 9006, 'whisperings': 9007, 'bracelets': 9008, 'minutes': 9009, 'hefted': 9010, 'bitterness': 9011, 'avenged': 9012, 'crook': 9013, 'sated': 9014, 'herons': 9015, 'greenaway': 9016, 'engines': 9017, 'queenscrown': 9018, 'leek': 9019, 'accord': 9020, 'trumpeting': 9021, 'greed': 9022, 'nobler': 9023, 'grievously': 9024, 'wolfskin': 9025, 'grudgingly': 9026, 'looted': 9027, 'flamboyant': 9028, 'fairest': 9029, 'braided': 9030, 'partner': 9031, 'celebration': 9032, 'footed': 9033, 'madder': 9034, 'anytime': 9035, 'withdrawn': 9036, 'whiteye': 9037, 'elderly': 9038, 'lester': 9039, 'alyce': 9040, 'coolly': 9041, 'sported': 9042, 'frequently': 9043, 'sceptre': 9044, 'scorned': 9045, 'collecting': 9046, 'bodily': 9047, 'auction': 9048, 'loom': 9049, 'roofless': 9050, 'paramount': 9051, 'regardless': 9052, 'cutjack': 9053, 'strangle': 9054, 'merreq': 9055, 'furrowed': 9056, 'hazkar': 9057, 'goodwin': 9058, 'cautiously': 9059, 'besiegers': 9060, 'valuables': 9061, 'maroon': 9062, 'lop': 9063, 'petition': 9064, 'mourned': 9065, 'grafton': 9066, 'nobly': 9067, 'daub': 9068, 'crewed': 9069, 'mightiest': 9070, 'ripening': 9071, 'streamers': 9072, 'cantered': 9073, 'recede': 9074, 'unwary': 9075, 'considering': 9076, 'dreamless': 9077, 'sharpness': 9078, 'mantarys': 9079, 'morgan': 9080, 'meagre': 9081, 'deign': 9082, 'hauberks': 9083, 'confirm': 9084, 'preceded': 9085, 'famously': 9086, 'hut': 9087, 'gorne': 9088, 'banged': 9089, 'drummed': 9090, 'boldest': 9091, 'domeric': 9092, 'bakers': 9093, 'gloomily': 9094, 'jabbing': 9095, 'soured': 9096, 'scuttling': 9097, 'morsels': 9098, 'limited': 9099, 'hawks': 9100, 'crowding': 9101, 'plodding': 9102, 'grieved': 9103, 'loosely': 9104, 'fleshless': 9105, 'renown': 9106, 'bole': 9107, 'heraldry': 9108, 'access': 9109, 'barded': 9110, 'harra': 9111, 'translucent': 9112, 'taunts': 9113, 'betrayals': 9114, 'bodied': 9115, 'rally': 9116, 'disgusting': 9117, 'hobble': 9118, 'hues': 9119, 'urgently': 9120, 'amount': 9121, 'pairs': 9122, 'harrold': 9123, 'delicious': 9124, 'follows': 9125, 'scaling': 9126, 'nestoris': 9127, 'ronel': 9128, 'delivering': 9129, 'consented': 9130, 'squawked': 9131, 'beaded': 9132, 'chalk': 9133, 'socket': 9134, 'whittlestick': 9135, 'quintain': 9136, 'resentfully': 9137, 'contend': 9138, 'wielded': 9139, 'plentiful': 9140, 'strikes': 9141, 'hetherspoon': 9142, 'regards': 9143, 'handing': 9144, 'sinewy': 9145, 'handholds': 9146, 'crates': 9147, 'stomped': 9148, 'paler': 9149, 'lapped': 9150, 'understands': 9151, 'granddaughter': 9152, 'fishfoot': 9153, 'larmister': 9154, 'reaving': 9155, 'diminished': 9156, 'adjusted': 9157, 'bedroll': 9158, 'scuttled': 9159, 'shoreline': 9160, 'nyessos': 9161, 'presenting': 9162, 'sawane': 9163, 'respectful': 9164, 'parents': 9165, 'lintel': 9166, 'bunk': 9167, 'distracted': 9168, 'greenguts': 9169, 'ocean': 9170, 'lurked': 9171, 'reminds': 9172, 'sheepfold': 9173, 'enchanted': 9174, 'squeaked': 9175, 'lysono': 9176, 'southeast': 9177, 'southwest': 9178, 'mandrake': 9179, 'bedwyck': 9180, 'separated': 9181, 'pleas': 9182, 'depended': 9183, 'vastly': 9184, 'besieged': 9185, 'throaty': 9186, 'joins': 9187, 'sneaking': 9188, 'brimstone': 9189, 'streaks': 9190, 'cabbages': 9191, 'squired': 9192, 'reaper': 9193, 'whitewashed': 9194, 'cheyk': 9195, 'vessels': 9196, 'mess': 9197, 'cherry': 9198, 'hailed': 9199, 'captained': 9200, 'splotchy': 9201, 'altars': 9202, 'caring': 9203, 'oppo': 9204, 'germund': 9205, 'caged': 9206, 'intently': 9207, 'playful': 9208, 'revolt': 9209, 'loads': 9210, 'ruts': 9211, 'hundredth': 9212, 'fieldhands': 9213, 'minded': 9214, 'innkeeps': 9215, 'import': 9216, 'powerless': 9217, 'ruefully': 9218, 'peacock': 9219, 'interior': 9220, 'courtiers': 9221, 'shaded': 9222, 'sights': 9223, 'locust': 9224, 'seabirds': 9225, 'torgon': 9226, 'soar': 9227, 'inspire': 9228, 'accomplished': 9229, 'scabbards': 9230, 'alehouses': 9231, 'rueful': 9232, 'faime': 9233, 'gaggle': 9234, 'acres': 9235, 'soften': 9236, 'colorful': 9237, 'cherries': 9238, 'wills': 9239, 'nissa': 9240, 'spitfires': 9241, 'warship': 9242, 'rooted': 9243, 'declaring': 9244, 'truer': 9245, 'piped': 9246, 'mat': 9247, 'lashes': 9248, 'steelskin': 9249, 'aimed': 9250, 'greenshield': 9251, 'amethyst': 9252, 'tagganaro': 9253, 'vermin': 9254, 'sleepily': 9255, 'cunts': 9256, 'bountiful': 9257, 'rustled': 9258, 'prominent': 9259, 'sheathe': 9260, 'parry': 9261, 'harlaws': 9262, 'aly': 9263, 'trampling': 9264, 'turnpike': 9265, 'slithering': 9266, 'quench': 9267, 'unkindly': 9268, 'consulting': 9269, 'oaten': 9270, 'saddlebags': 9271, 'pears': 9272, 'cowbells': 9273, 'hindquarters': 9274, 'fiddle': 9275, 'crumbs': 9276, 'ha': 9277, 'buttered': 9278, 'hammock': 9279, 'narbo': 9280, 'blundered': 9281, 'cord': 9282, 'forsaken': 9283, 'winesinks': 9284, 'valyrians': 9285, 'brewer': 9286, 'purred': 9287, 'clop': 9288, 'sole': 9289, 'emm': 9290, 'bean': 9291, 'grasslands': 9292, 'raided': 9293, 'nibble': 9294, 'gulian': 9295, 'rolfe': 9296, 'storehouse': 9297, 'pampered': 9298, 'cramp': 9299, 'burying': 9300, 'sauce': 9301, 'piers': 9302, 'guttering': 9303, 'choicest': 9304, 'onetime': 9305, 'wallwalks': 9306, 'dismissing': 9307, 'southshield': 9308, 'wrung': 9309, 'shadowbinder': 9310, 'albeit': 9311, 'arryk': 9312, 'hathay': 9313, 'shorn': 9314, 'harwyn': 9315, 'erryk': 9316, 'available': 9317, 'hinted': 9318, 'muffle': 9319, 'backing': 9320, 'serwyn': 9321, 'pounce': 9322, 'turncloaks': 9323, 'rearguard': 9324, 'apex': 9325, 'fletched': 9326, 'fattest': 9327, 'addarn': 9328, 'steadied': 9329, 'sustain': 9330, 'hiring': 9331, 'drowsy': 9332, 'hungrily': 9333, 'crewmen': 9334, 'stuffing': 9335, 'dunstan': 9336, 'glib': 9337, 'casting': 9338, 'battleground': 9339, 'daryn': 9340, 'coloring': 9341, 'mortified': 9342, 'hats': 9343, 'clack': 9344, 'buzzed': 9345, 'collio': 9346, 'beseeching': 9347, 'sterner': 9348, 'dragonflies': 9349, 'abominations': 9350, 'harmony': 9351, 'reavers': 9352, 'dreading': 9353, 'neglected': 9354, 'faintest': 9355, 'marshes': 9356, 'sufficiently': 9357, 'droppings': 9358, 'livery': 9359, 'wasteland': 9360, 'bounce': 9361, 'vicious': 9362, 'criminals': 9363, 'rib': 9364, 'bellyful': 9365, 'cawing': 9366, 'withering': 9367, 'darkest': 9368, 'puffs': 9369, 'spoonful': 9370, 'necked': 9371, 'murch': 9372, 'sloping': 9373, 'blessedly': 9374, 'plume': 9375, 'teemed': 9376, 'raises': 9377, 'situation': 9378, 'stockade': 9379, 'trudged': 9380, 'swarm': 9381, 'thrashing': 9382, 'boring': 9383, 'tying': 9384, 'drain': 9385, 'unbent': 9386, 'uncouth': 9387, 'friendless': 9388, 'occasion': 9389, 'thunk': 9390, 'norvoshi': 9391, 'kingslander': 9392, 'intention': 9393, 'flaps': 9394, 'sprayed': 9395, 'pooled': 9396, 'connected': 9397, 'pulp': 9398, 'lorath': 9399, 'seaswift': 9400, 'fright': 9401, 'screamers': 9402, 'rheumy': 9403, 'neeps': 9404, 'cutpurses': 9405, 'lacquer': 9406, 'overflowing': 9407, 'altogether': 9408, 'storeroom': 9409, 'squall': 9410, 'deliberate': 9411, 'bladed': 9412, 'sprawl': 9413, 'therys': 9414, 'volon': 9415, 'provoked': 9416, 'fussing': 9417, 'haul': 9418, 'spattering': 9419, 'skulking': 9420, 'flatbread': 9421, 'forage': 9422, 'serene': 9423, 'sterncastle': 9424, 'worldly': 9425, 'cases': 9426, 'campfires': 9427, 'starless': 9428, 'flowstone': 9429, 'baring': 9430, 'treating': 9431, 'dinner': 9432, 'graceford': 9433, 'treasonous': 9434, 'soothed': 9435, 'tawney': 9436, 'carpeted': 9437, 'verse': 9438, 'jafer': 9439, 'hysterically': 9440, 'hounded': 9441, 'happiness': 9442, 'myre': 9443, 'tolorro': 9444, 'farwynd': 9445, 'perils': 9446, 'groves': 9447, 'perfumes': 9448, 'chastise': 9449, 'randy': 9450, 'adjoining': 9451, 'tinkled': 9452, 'toyed': 9453, 'intruder': 9454, 'flinty': 9455, 'sandbars': 9456, 'pothelm': 9457, 'equally': 9458, 'famine': 9459, 'reclaim': 9460, 'piglets': 9461, 'aspect': 9462, 'pug': 9463, 'plows': 9464, 'councillor': 9465, 'inquiries': 9466, 'ducking': 9467, 'drooped': 9468, 'subdued': 9469, 'courtly': 9470, 'clout': 9471, 'smarter': 9472, 'sewer': 9473, 'coil': 9474, 'theft': 9475, 'wonderfully': 9476, 'fatter': 9477, 'blinded': 9478, 'ironman': 9479, 'soundlessly': 9480, 'naerys': 9481, 'hrakkar': 9482, 'screwed': 9483, 'notable': 9484, 'dangerously': 9485, 'brotherfucker': 9486, 'jostling': 9487, 'mistrusted': 9488, 'mildew': 9489, 'assassins': 9490, 'rogues': 9491, 'knuckled': 9492, 'pelting': 9493, 'web': 9494, 'bloomed': 9495, 'sprinkled': 9496, 'lancers': 9497, 'reads': 9498, 'restrain': 9499, 'malleon': 9500, 'wormways': 9501, 'devouring': 9502, 'scuffed': 9503, 'slaughtering': 9504, 'ghouls': 9505, 'sixteenth': 9506, 'sleek': 9507, 'pisspot': 9508, 'gillam': 9509, 'bettley': 9510, 'mountainside': 9511, 'sawing': 9512, 'ponies': 9513, 'stonemason': 9514, 'dough': 9515, 'belief': 9516, 'lusts': 9517, 'ribald': 9518, 'prowl': 9519, 'balconies': 9520, 'naathi': 9521, 'forthcoming': 9522, 'insignificant': 9523, 'del': 9524, 'engraved': 9525, 'avalanche': 9526, 'hoot': 9527, 'chiefly': 9528, 'minor': 9529, 'gliding': 9530, 'goodbrothers': 9531, 'heavens': 9532, 'strutting': 9533, 'sows': 9534, 'outline': 9535, 'droplets': 9536, 'harpies': 9537, 'alysane': 9538, 'greenstone': 9539, 'finishing': 9540, 'fishwife': 9541, 'intact': 9542, 'willamen': 9543, 'entertained': 9544, 'pleasures': 9545, 'section': 9546, 'cleansed': 9547, 'dissolving': 9548, 'yearning': 9549, 'wasps': 9550, 'tines': 9551, 'aches': 9552, 'moles': 9553, 'belandra': 9554, 'approaches': 9555, 'fastening': 9556, 'fiddles': 9557, 'parade': 9558, 'winkle': 9559, 'weasels': 9560, 'henly': 9561, 'streak': 9562, 'ne': 9563, 'oddments': 9564, 'junior': 9565, 'brilliantly': 9566, 'sped': 9567, 'whimpery': 9568, 'squid': 9569, 'plagued': 9570, 'bloodied': 9571, 'swans': 9572, 'arrested': 9573, 'ugliness': 9574, 'scour': 9575, 'shepherds': 9576, 'roiling': 9577, 'jesting': 9578, 'flute': 9579, 'claiming': 9580, 'fishmonger': 9581, 'strangler': 9582, 'sinners': 9583, 'hoardings': 9584, 'dunes': 9585, 'deliverance': 9586, 'mago': 9587, 'rewards': 9588, 'joso': 9589, 'cruelest': 9590, 'reserved': 9591, 'fretful': 9592, 'succeed': 9593, 'fornication': 9594, 'rein': 9595, 'gruel': 9596, 'stiffness': 9597, 'domain': 9598, 'seeming': 9599, 'admittedly': 9600, 'tokens': 9601, 'convene': 9602, 'reappeared': 9603, 'redly': 9604, 'sternly': 9605, 'conclave': 9606, 'comparison': 9607, 'arses': 9608, 'broader': 9609, 'appropriate': 9610, 'weave': 9611, 'sage': 9612, 'scrabbled': 9613, 'callow': 9614, 'fabulous': 9615, 'shipbreaker': 9616, 'smoldering': 9617, 'sweetsister': 9618, 'borrell': 9619, 'obliged': 9620, 'yna': 9621, 'terrance': 9622, 'bridled': 9623, 'tire': 9624, 'moisture': 9625, 'coy': 9626, 'invisible': 9627, 'forges': 9628, 'squids': 9629, 'khyzai': 9630, 'reopen': 9631, 'player': 9632, 'yelling': 9633, 'warms': 9634, 'avoiding': 9635, 'sideboard': 9636, 'sill': 9637, 'oval': 9638, 'riches': 9639, 'vowing': 9640, 'swearing': 9641, 'barbican': 9642, 'foragers': 9643, 'steadily': 9644, 'leslyn': 9645, 'nameday': 9646, 'thickest': 9647, 'pronged': 9648, 'placing': 9649, 'horseshoes': 9650, 'pypar': 9651, 'circlet': 9652, 'advice': 9653, 'perra': 9654, 'fervent': 9655, 'unshaven': 9656, 'estates': 9657, 'omer': 9658, 'prints': 9659, 'eraz': 9660, 'unlucky': 9661, 'sag': 9662, 'hermit': 9663, 'progeny': 9664, 'headwaters': 9665, 'salvation': 9666, 'dribbling': 9667, 'athwart': 9668, 'manly': 9669, 'opposed': 9670, 'coppery': 9671, 'blackhaven': 9672, 'appalling': 9673, 'bug': 9674, 'goldsmiths': 9675, 'tabletop': 9676, 'gerald': 9677, 'valued': 9678, 'fully': 9679, 'arming': 9680, 'bumping': 9681, 'cords': 9682, 'willed': 9683, 'taverns': 9684, 'nobles': 9685, 'burton': 9686, 'revels': 9687, 'jut': 9688, 'stammered': 9689, 'dwarfed': 9690, 'twas': 9691, 'labors': 9692, 'jewelry': 9693, 'shitting': 9694, 'forfeit': 9695, 'steer': 9696, 'soaring': 9697, 'arise': 9698, 'sighs': 9699, 'ointments': 9700, 'amidships': 9701, 'mended': 9702, 'stragglers': 9703, 'snuffed': 9704, 'newest': 9705, 'receded': 9706, 'awaken': 9707, 'waycastle': 9708, 'softfoot': 9709, 'flustered': 9710, 'drennan': 9711, 'depend': 9712, 'hearthfire': 9713, 'brutes': 9714, 'tyr': 9715, 'binding': 9716, 'stitches': 9717, 'martells': 9718, 'whim': 9719, 'shuffle': 9720, 'huntsmen': 9721, 'snatching': 9722, 'refresh': 9723, 'lopped': 9724, 'founded': 9725, 'probe': 9726, 'rhaella': 9727, 'maddened': 9728, 'conwy': 9729, 'butterflies': 9730, 'salve': 9731, 'bereft': 9732, 'unicorns': 9733, 'esteem': 9734, 'snaked': 9735, 'torture': 9736, 'formal': 9737, 'cafferen': 9738, 'governance': 9739, 'angrier': 9740, 'lately': 9741, 'infirm': 9742, 'reconsider': 9743, 'trifle': 9744, 'tristan': 9745, 'dearest': 9746, 'confront': 9747, 'leafy': 9748, 'cringed': 9749, 'frantic': 9750, 'moleskin': 9751, 'shred': 9752, 'preferable': 9753, 'rhythm': 9754, 'enclosed': 9755, 'townfolk': 9756, 'wobbling': 9757, 'fairly': 9758, 'warmest': 9759, 'worrying': 9760, 'unsettling': 9761, 'seeks': 9762, 'calmed': 9763, 'quailed': 9764, 'permission': 9765, 'volumes': 9766, 'parmen': 9767, 'erotic': 9768, 'packing': 9769, 'numbly': 9770, 'girded': 9771, 'desperation': 9772, 'dryn': 9773, 'leggings': 9774, 'cargo': 9775, 'commotion': 9776, 'boremund': 9777, 'departure': 9778, 'moored': 9779, 'befallen': 9780, 'mend': 9781, 'innocently': 9782, 'lorent': 9783, 'tym': 9784, 'trappings': 9785, 'trench': 9786, 'khorane': 9787, 'stubbly': 9788, 'sensible': 9789, 'clambering': 9790, 'inkpot': 9791, 'vogarro': 9792, 'overlook': 9793, 'clement': 9794, 'headfirst': 9795, 'dizzily': 9796, 'mullin': 9797, 'relent': 9798, 'dorea': 9799, 'ignorance': 9800, 'hellhorn': 9801, 'adultery': 9802, 'stance': 9803, 'shod': 9804, 'codds': 9805, 'racks': 9806, 'buttery': 9807, 'vexed': 9808, 'blocking': 9809, 'crests': 9810, 'talker': 9811, 'blessings': 9812, 'wayfarer': 9813, 'apologetic': 9814, 'grotesquerie': 9815, 'rejoined': 9816, 'donning': 9817, 'consulted': 9818, 'hedges': 9819, 'ducks': 9820, 'thorny': 9821, 'delp': 9822, 'lurch': 9823, 'entry': 9824, 'united': 9825, 'weakest': 9826, 'uselessly': 9827, 'righteous': 9828, 'immaculate': 9829, 'foreign': 9830, 'established': 9831, 'refill': 9832, 'club': 9833, 'skeletal': 9834, 'fitfully': 9835, 'huntress': 9836, 'deepening': 9837, 'adequate': 9838, 'twoscore': 9839, 'fester': 9840, 'fronted': 9841, 'lightest': 9842, 'affair': 9843, 'elevated': 9844, 'sliver': 9845, 'parched': 9846, 'saddling': 9847, 'brine': 9848, 'arc': 9849, 'combatant': 9850, 'rendered': 9851, 'growth': 9852, 'tingled': 9853, 'wickedness': 9854, 'sevenstreams': 9855, 'scythe': 9856, 'cobalt': 9857, 'longwater': 9858, 'thunderous': 9859, 'ladyship': 9860, 'decisions': 9861, 'behead': 9862, 'flecks': 9863, 'distract': 9864, 'shieldbreaker': 9865, 'impoverished': 9866, 'objection': 9867, 'fearing': 9868, 'warren': 9869, 'flask': 9870, 'kneeler': 9871, 'willowy': 9872, 'mar': 9873, 'storming': 9874, 'hurtling': 9875, 'turnberry': 9876, 'tradesman': 9877, 'quickest': 9878, 'chaste': 9879, 'sentiment': 9880, 'mastered': 9881, 'forbidding': 9882, 'lakeshore': 9883, 'kingthlayer': 9884, 'inconvenient': 9885, 'mischance': 9886, 'brain': 9887, 'infested': 9888, 'webs': 9889, 'courageous': 9890, 'snowmen': 9891, 'rounsey': 9892, 'surf': 9893, 'dar': 9894, 'northwest': 9895, 'dispositions': 9896, 'highbom': 9897, 'hinterlands': 9898, 'drunkenly': 9899, 'unblooded': 9900, 'unlace': 9901, 'imprisonment': 9902, 'venture': 9903, 'enslaved': 9904, 'craggy': 9905, 'grappling': 9906, 'feign': 9907, 'inquired': 9908, 'warred': 9909, 'darklyns': 9910, 'protectively': 9911, 'infants': 9912, 'staffs': 9913, 'wheezed': 9914, 'reconcile': 9915, 'clutches': 9916, 'peculiar': 9917, 'flamed': 9918, 'palfreys': 9919, 'unspeakable': 9920, 'veteran': 9921, 'legacy': 9922, 'pillowed': 9923, 'hollowly': 9924, 'popping': 9925, 'involve': 9926, 'gusts': 9927, 'hue': 9928, 'heward': 9929, 'buxom': 9930, 'fiddlers': 9931, 'lucamore': 9932, 'involved': 9933, 'blankly': 9934, 'maar': 9935, 'pinkmaiden': 9936, 'poke': 9937, 'accusing': 9938, 'quorked': 9939, 'baggy': 9940, 'harness': 9941, 'disarray': 9942, 'antario': 9943, 'flowery': 9944, 'posing': 9945, 'pinky': 9946, 'vacant': 9947, 'showered': 9948, 'pilings': 9949, 'indifferent': 9950, 'appointments': 9951, 'buys': 9952, 'sorcerous': 9953, 'incised': 9954, 'stork': 9955, 'phlegm': 9956, 'contained': 9957, 'zei': 9958, 'tor': 9959, 'seamed': 9960, 'attacker': 9961, 'dreary': 9962, 'bushel': 9963, 'wordlessly': 9964, 'stairwell': 9965, 'tolosi': 9966, 'reeked': 9967, 'listing': 9968, 'chainless': 9969, 'dugs': 9970, 'attending': 9971, 'timed': 9972, 'hooks': 9973, 'dine': 9974, 'potent': 9975, 'elys': 9976, 'nobility': 9977, 'presents': 9978, 'tarle': 9979, 'unimpressed': 9980, 'scribes': 9981, 'lynderly': 9982, 'fragrance': 9983, 'unmistakable': 9984, 'breakwater': 9985, 'rumpled': 9986, 'weighs': 9987, 'obstacle': 9988, 'squeaking': 9989, 'burrowed': 9990, 'caltrops': 9991, 'lenyl': 9992, 'ancestral': 9993, 'slippered': 9994, 'geld': 9995, 'troop': 9996, 'disgraced': 9997, 'swaddled': 9998, 'author': 9999, 'darklyn': 10000, 'gower': 10001, 'pawed': 10002, 'recompense': 10003, 'damion': 10004, 'confessing': 10005, 'uncertainty': 10006, 'founder': 10007, 'shroud': 10008, 'admired': 10009, 'andar': 10010, 'foundations': 10011, 'slobbery': 10012, 'heroic': 10013, 'mormonts': 10014, 'prices': 10015, 'ith': 10016, 'hedgehog': 10017, 'sling': 10018, 'information': 10019, 'copies': 10020, 'foffrey': 10021, 'gums': 10022, 'barrows': 10023, 'inkling': 10024, 'afore': 10025, 'birch': 10026, 'lucos': 10027, 'latter': 10028, 'dowager': 10029, 'querulous': 10030, 'strengthened': 10031, 'arsenal': 10032, 'nourishment': 10033, 'longaxes': 10034, 'jokes': 10035, 'puzzlement': 10036, 'headaches': 10037, 'contrast': 10038, 'com': 10039, 'sickened': 10040, 'puckens': 10041, 'genuine': 10042, 'aglow': 10043, 'exhaustion': 10044, 'opponent': 10045, 'shriveled': 10046, 'elaborate': 10047, 'quickened': 10048, 'bubbled': 10049, 'overripe': 10050, 'headstrong': 10051, 'wriggle': 10052, 'herding': 10053, 'climber': 10054, 'casts': 10055, 'quit': 10056, 'sanctum': 10057, 'ceilings': 10058, 'handfuls': 10059, 'piling': 10060, 'blustery': 10061, 'shrink': 10062, 'foamdrinker': 10063, 'hating': 10064, 'fermented': 10065, 'prance': 10066, 'groomed': 10067, 'fours': 10068, 'nightingales': 10069, 'teak': 10070, 'dolls': 10071, 'fussed': 10072, 'underbrush': 10073, 'tested': 10074, 'happenstance': 10075, 'courts': 10076, 'exterior': 10077, 'surnmerhall': 10078, 'roadside': 10079, 'stops': 10080, 'trussed': 10081, 'powders': 10082, 'greetings': 10083, 'squabbles': 10084, 'caverns': 10085, 'oldcastle': 10086, 'luton': 10087, 'whoop': 10088, 'uncoiled': 10089, 'everybody': 10090, 'precise': 10091, 'leaden': 10092, 'shambled': 10093, 'warring': 10094, 'flinching': 10095, 'worships': 10096, 'jewel': 10097, 'cooled': 10098, 'snowmelt': 10099, 'elza': 10100, 'cove': 10101, 'riverside': 10102, 'quarreled': 10103, 'ledgers': 10104, 'rougher': 10105, 'beren': 10106, 'tighten': 10107, 'arriving': 10108, 'sugar': 10109, 'bide': 10110, 'exulting': 10111, 'lanky': 10112, 'shun': 10113, 'flaky': 10114, 'granary': 10115, 'snail': 10116, 'astray': 10117, 'petulant': 10118, 'signing': 10119, 'looters': 10120, 'sparkling': 10121, 'wildflowers': 10122, 'antics': 10123, 'grimace': 10124, 'metallic': 10125, 'cacophony': 10126, 'schemes': 10127, 'bedecked': 10128, 'ponder': 10129, 'todric': 10130, 'keen': 10131, 'oo': 10132, 'lax': 10133, 'crosses': 10134, 'handhold': 10135, 'immensity': 10136, 'battleaxe': 10137, 'estate': 10138, 'baffled': 10139, 'nitre': 10140, 'harroway': 10141, 'humiliation': 10142, 'explode': 10143, 'vantage': 10144, 'wring': 10145, 'advancing': 10146, 'directed': 10147, 'miscarriages': 10148, 'seduced': 10149, 'digestion': 10150, 'conspicuous': 10151, 'praed': 10152, 'shavepates': 10153, 'recite': 10154, 'seekers': 10155, 'admiration': 10156, 'knobby': 10157, 'glamor': 10158, 'crabapple': 10159, 'stalker': 10160, 'mating': 10161, 'crossguard': 10162, 'lotus': 10163, 'heigh': 10164, 'dresses': 10165, 'scowls': 10166, 'tanton': 10167, 'overwhelming': 10168, 'drinkers': 10169, 'honestly': 10170, 'basking': 10171, 'bottles': 10172, 'strolled': 10173, 'giggles': 10174, 'goblets': 10175, 'venomous': 10176, 'meandering': 10177, 'morra': 10178, 'crisscrossed': 10179, 'consummation': 10180, 'jerk': 10181, 'bowlegged': 10182, 'thudded': 10183, 'balled': 10184, 'strengthen': 10185, 'scramble': 10186, 'patchwork': 10187, 'ungrateful': 10188, 'twists': 10189, 'hordes': 10190, 'weaken': 10191, 'ointment': 10192, 'mutters': 10193, 'spirited': 10194, 'fee': 10195, 'sympathetic': 10196, 'briar': 10197, 'morrows': 10198, 'corrupt': 10199, 'craft': 10200, 'niches': 10201, 'greenish': 10202, 'latrines': 10203, 'attendants': 10204, 'mages': 10205, 'shutting': 10206, 'fondling': 10207, 'outcome': 10208, 'tools': 10209, 'ambitions': 10210, 'saduleon': 10211, 'silverhair': 10212, 'guides': 10213, 'semblance': 10214, 'armorers': 10215, 'laps': 10216, 'sulfur': 10217, 'oozed': 10218, 'oxcart': 10219, 'existed': 10220, 'store': 10221, 'mourners': 10222, 'queerer': 10223, 'perplexed': 10224, 'wrestle': 10225, 'quort': 10226, 'kid': 10227, 'morton': 10228, 'swimmer': 10229, 'surprisingly': 10230, 'irritating': 10231, 'grotesques': 10232, 'blare': 10233, 'litters': 10234, 'meredyth': 10235, 'composed': 10236, 'heralded': 10237, 'sketched': 10238, 'banish': 10239, 'queensgate': 10240, 'absent': 10241, 'hauling': 10242, 'coursers': 10243, 'flaking': 10244, 'watchman': 10245, 'ling': 10246, 'fastness': 10247, 'turrets': 10248, 'fretting': 10249, 'regretted': 10250, 'warehouses': 10251, 'milked': 10252, 'watchmen': 10253, 'sharpen': 10254, 'vipers': 10255, 'rapes': 10256, 'flutes': 10257, 'gaily': 10258, 'gladden': 10259, 'mudflats': 10260, 'nysterica': 10261, 'whoreson': 10262, 'anguished': 10263, 'keening': 10264, 'mellei': 10265, 'rafford': 10266, 'oho': 10267, 'decency': 10268, 'eater': 10269, 'slabs': 10270, 'mission': 10271, 'fruitless': 10272, 'nerves': 10273, 'guttural': 10274, 'unaccountably': 10275, 'smitten': 10276, 'gulf': 10277, 'clashed': 10278, 'mingling': 10279, 'tongued': 10280, 'quorking': 10281, 'rosy': 10282, 'staged': 10283, 'knuckle': 10284, 'precisely': 10285, 'victors': 10286, 'enters': 10287, 'poisoning': 10288, 'plainer': 10289, 'barba': 10290, 'outlived': 10291, 'brocade': 10292, 'sidled': 10293, 'whelps': 10294, 'bordered': 10295, 'belowdecks': 10296, 'deziel': 10297, 'snare': 10298, 'pigeons': 10299, 'rankled': 10300, 'battling': 10301, 'rivermen': 10302, 'presentable': 10303, 'plastered': 10304, 'unwilling': 10305, 'pyres': 10306, 'deathbed': 10307, 'appalled': 10308, 'bah': 10309, 'freshwater': 10310, 'stonehelm': 10311, 'juggle': 10312, 'feats': 10313, 'thickset': 10314, 'hisself': 10315, 'acid': 10316, 'furniture': 10317, 'swipe': 10318, 'croak': 10319, 'deserts': 10320, 'result': 10321, 'crisply': 10322, 'hammerhorn': 10323, 'hildy': 10324, 'foeman': 10325, 'jousters': 10326, 'convenient': 10327, 'coldness': 10328, 'bulls': 10329, 'queue': 10330, 'stuffy': 10331, 'leeched': 10332, 'expects': 10333, 'canter': 10334, 'lhazareen': 10335, 'stature': 10336, 'unhurt': 10337, 'foretelling': 10338, 'belch': 10339, 'servingwomen': 10340, 'eventually': 10341, 'insistent': 10342, 'stot': 10343, 'atonement': 10344, 'crisped': 10345, 'skipped': 10346, 'salad': 10347, 'lf': 10348, 'halberds': 10349, 'humors': 10350, 'limes': 10351, 'attempts': 10352, 'buckler': 10353, 'ember': 10354, 'bulbous': 10355, 'lining': 10356, 'carnal': 10357, 'poker': 10358, 'gentlest': 10359, 'shielded': 10360, 'caress': 10361, 'jelly': 10362, 'discussed': 10363, 'merchantmen': 10364, 'paving': 10365, 'scornful': 10366, 'possessions': 10367, 'quarreling': 10368, 'conquerer': 10369, 'tiring': 10370, 'crumble': 10371, 'spoons': 10372, 'hemmed': 10373, 'pitched': 10374, 'bubbles': 10375, 'fumble': 10376, 'turnkeys': 10377, 'jaqqa': 10378, 'uncut': 10379, 'staked': 10380, 'rhan': 10381, 'steed': 10382, 'cobblecat': 10383, 'removing': 10384, 'partly': 10385, 'unfit': 10386, 'spite': 10387, 'furnace': 10388, 'sized': 10389, 'cassana': 10390, 'decay': 10391, 'menagerie': 10392, 'wastes': 10393, 'weir': 10394, 'lings': 10395, 'glint': 10396, 'lickspittle': 10397, 'beet': 10398, 'meetings': 10399, 'frolics': 10400, 'caused': 10401, 'unconcerned': 10402, 'addition': 10403, 'omens': 10404, 'hostile': 10405, 'flaxen': 10406, 'satins': 10407, 'snagged': 10408, 'rebuild': 10409, 'forah': 10410, 'vickon': 10411, 'crowning': 10412, 'sprout': 10413, 'cairns': 10414, 'vilest': 10415, 'normal': 10416, 'wedged': 10417, 'ringfort': 10418, 'heady': 10419, 'bryan': 10420, 'habitation': 10421, 'lavender': 10422, 'conciliator': 10423, 'fend': 10424, 'expensive': 10425, 'goldwork': 10426, 'wolfed': 10427, 'exquisitely': 10428, 'pisswater': 10429, 'infamy': 10430, 'shady': 10431, 'maslyn': 10432, 'spoiling': 10433, 'expenses': 10434, 'nuptials': 10435, 'owls': 10436, 'silences': 10437, 'objections': 10438, 'clasping': 10439, 'swom': 10440, 'prophesied': 10441, 'fasten': 10442, 'hornwoods': 10443, 'rhyme': 10444, 'churned': 10445, 'executed': 10446, 'retired': 10447, 'shits': 10448, 'fingerless': 10449, 'spiraling': 10450, 'pattern': 10451, 'slights': 10452, 'tanner': 10453, 'festooned': 10454, 'summerhall': 10455, 'defile': 10456, 'tinkling': 10457, 'admission': 10458, 'rhymer': 10459, 'lionstar': 10460, 'properties': 10461, 'resemblance': 10462, 'completely': 10463, 'stolid': 10464, 'resplendent': 10465, 'contemplating': 10466, 'carcasses': 10467, 'larraq': 10468, 'confide': 10469, 'vegetable': 10470, 'hose': 10471, 'chinless': 10472, 'seller': 10473, 'unblinking': 10474, 'currents': 10475, 'flagship': 10476, 'graze': 10477, 'knifed': 10478, 'browntooth': 10479, 'yelped': 10480, 'bout': 10481, 'latrine': 10482, 'longstrider': 10483, 'shrilly': 10484, 'khalakka': 10485, 'irritably': 10486, 'comings': 10487, 'stockings': 10488, 'alan': 10489, 'sticking': 10490, 'tufts': 10491, 'weariness': 10492, 'goings': 10493, 'sacking': 10494, 'valiantly': 10495, 'azure': 10496, 'becalmed': 10497, 'cooler': 10498, 'tregar': 10499, 'prologue': 10500, 'lather': 10501, 'greenery': 10502, 'pockmarked': 10503, 'bridegroom': 10504, 'blister': 10505, 'deceive': 10506, 'labyrinth': 10507, 'thumbnail': 10508, 'consuming': 10509, 'marshaling': 10510, 'inflame': 10511, 'tapping': 10512, 'defensive': 10513, 'jerking': 10514, 'compensate': 10515, 'mustachios': 10516, 'mislikes': 10517, 'orson': 10518, 'scouring': 10519, 'foundation': 10520, 'mobs': 10521, 'huts': 10522, 'dispersed': 10523, 'shower': 10524, 'cork': 10525, 'defends': 10526, 'simpleminded': 10527, 'boyhood': 10528, 'chattering': 10529, 'frustration': 10530, 'helya': 10531, 'swineherds': 10532, 'frailty': 10533, 'peel': 10534, 'horsey': 10535, 'contain': 10536, 'rivulets': 10537, 'cabbage': 10538, 'tiers': 10539, 'glacier': 10540, 'hollowed': 10541, 'dogging': 10542, 'almonds': 10543, 'opal': 10544, 'wreckage': 10545, 'glinted': 10546, 'eaves': 10547, 'leveled': 10548, 'swamp': 10549, 'privily': 10550, 'disposed': 10551, 'commit': 10552, 'wares': 10553, 'unanswered': 10554, 'doused': 10555, 'hugely': 10556, 'rudder': 10557, 'galladon': 10558, 'tattersalt': 10559, 'blackest': 10560, 'hallway': 10561, 'bonebreaker': 10562, 'tallharts': 10563, 'ninestars': 10564, 'vintages': 10565, 'blistering': 10566, 'tumblers': 10567, 'blithely': 10568, 'affront': 10569, 'scruffy': 10570, 'merchanter': 10571, 'surprising': 10572, 'halves': 10573, 'blackhair': 10574, 'scouting': 10575, 'thickness': 10576, 'thence': 10577, 'scenes': 10578, 'brightened': 10579, 'lorathi': 10580, 'brandished': 10581, 'steepled': 10582, 'snowed': 10583, 'tiresome': 10584, 'obella': 10585, 'honorably': 10586, 'cubs': 10587, 'garrisons': 10588, 'www': 10589, 'reopened': 10590, 'bluffs': 10591, 'godsway': 10592, 'justiciar': 10593, 'rolls': 10594, 'killings': 10595, 'tractable': 10596, 'wetly': 10597, 'straightaway': 10598, 'vanity': 10599, 'sorceries': 10600, 'childbirth': 10601, 'loreza': 10602, 'barra': 10603, 'featured': 10604, 'dapple': 10605, 'switchback': 10606, 'feint': 10607, 'clumps': 10608, 'submitted': 10609, 'guided': 10610, 'manses': 10611, 'bleeds': 10612, 'ormond': 10613, 'manfryd': 10614, 'stopper': 10615, 'misfortune': 10616, 'fluid': 10617, 'neighbors': 10618, 'rout': 10619, 'whine': 10620, 'shat': 10621, 'extended': 10622, 'unflinching': 10623, 'confronted': 10624, 'appointed': 10625, 'agile': 10626, 'pronouncement': 10627, 'elyana': 10628, 'tidal': 10629, 'glows': 10630, 'persist': 10631, 'conscious': 10632, 'hirelings': 10633, 'amid': 10634, 'della': 10635, 'marissa': 10636, 'troublesome': 10637, 'olymer': 10638, 'pikemen': 10639, 'purposes': 10640, 'overboard': 10641, 'bessa': 10642, 'puissant': 10643, 'combatants': 10644, 'public': 10645, 'horsehead': 10646, 'whitesmile': 10647, 'acts': 10648, 'greensight': 10649, 'squishers': 10650, 'atarms': 10651, 'mudge': 10652, 'dawned': 10653, 'fearlessly': 10654, 'afield': 10655, 'example': 10656, 'wagged': 10657, 'ports': 10658, 'peevish': 10659, 'frigid': 10660, 'devilgrass': 10661, 'vests': 10662, 'pinewood': 10663, 'gwynesse': 10664, 'refreshment': 10665, 'tepid': 10666, 'symeon': 10667, 'sputtered': 10668, 'annals': 10669, 'befell': 10670, 'coats': 10671, 'kella': 10672, 'snags': 10673, 'crevices': 10674, 'tousled': 10675, 'mishap': 10676, 'ashford': 10677, 'japing': 10678, 'suffocating': 10679, 'injustice': 10680, 'grains': 10681, 'newcomers': 10682, 'solitary': 10683, 'contrite': 10684, 'wading': 10685, 'riderless': 10686, 'unfamiliar': 10687, 'grisel': 10688, 'spades': 10689, 'widening': 10690, 'grudge': 10691, 'ferrymen': 10692, 'ryella': 10693, 'action': 10694, 'blooms': 10695, 'paddled': 10696, 'cole': 10697, 'proposal': 10698, 'crouching': 10699, 'refuses': 10700, 'hungered': 10701, 'acquaint': 10702, 'counselors': 10703, 'consideration': 10704, 'freeborn': 10705, 'braced': 10706, 'regency': 10707, 'askew': 10708, 'riots': 10709, 'deception': 10710, 'aim': 10711, 'chimed': 10712, 'punishing': 10713, 'date': 10714, 'buckles': 10715, 'hopefully': 10716, 'previously': 10717, 'soared': 10718, 'wisest': 10719, 'placid': 10720, 'meadowlark': 10721, 'beam': 10722, 'blacken': 10723, 'talon': 10724, 'improved': 10725, 'hazardous': 10726, 'reassured': 10727, 'recruit': 10728, 'err': 10729, 'secretly': 10730, 'lolling': 10731, 'drohe': 10732, 'holt': 10733, 'truce': 10734, 'cerenna': 10735, 'boarded': 10736, 'ghoyan': 10737, 'dash': 10738, 'supporters': 10739, 'downwind': 10740, 'bottoms': 10741, 'treats': 10742, 'toland': 10743, 'lacing': 10744, 'shirei': 10745, 'pimply': 10746, 'snore': 10747, 'cudgel': 10748, 'cascade': 10749, 'masted': 10750, 'kite': 10751, 'humbler': 10752, 'lu': 10753, 'manure': 10754, 'fastnesses': 10755, 'crofters': 10756, 'therry': 10757, 'upthrust': 10758, 'cadaverous': 10759, 'poleaxe': 10760, 'bounty': 10761, 'peaked': 10762, 'hopelessly': 10763, 'theodore': 10764, 'servers': 10765, 'crannogs': 10766, 'maynard': 10767, 'kromm': 10768, 'eternity': 10769, 'heave': 10770, 'publishers': 10771, 'disguised': 10772, 'lampreys': 10773, 'sloughed': 10774, 'windmill': 10775, 'dusted': 10776, 'squander': 10777, 'pierce': 10778, 'messy': 10779, 'sniffling': 10780, 'grimacing': 10781, 'sepulcher': 10782, 'prying': 10783, 'mont': 10784, 'wretches': 10785, 'stiletto': 10786, 'astern': 10787, 'greased': 10788, 'lychester': 10789, 'survives': 10790, 'draqaz': 10791, 'lowering': 10792, 'protective': 10793, 'verge': 10794, 'sweeps': 10795, 'essence': 10796, 'whined': 10797, 'aftertaste': 10798, 'flaring': 10799, 'elbert': 10800, 'rightfully': 10801, 'nage': 10802, 'tricked': 10803, 'warty': 10804, 'frostbite': 10805, 'protesting': 10806, 'sleeveless': 10807, 'mudd': 10808, 'failures': 10809, 'balancing': 10810, 'craved': 10811, 'seamstress': 10812, 'denials': 10813, 'fishmarket': 10814, 'eyelids': 10815, 'cattle': 10816, 'provocation': 10817, 'perverse': 10818, 'raft': 10819, 'privacy': 10820, 'trusts': 10821, 'molest': 10822, 'gristle': 10823, 'pitiful': 10824, 'breached': 10825, 'dialect': 10826, 'prevailed': 10827, 'braying': 10828, 'finely': 10829, 'impossibly': 10830, 'sear': 10831, 'yaros': 10832, 'tarbecks': 10833, 'reaver': 10834, 'knaves': 10835, 'reminding': 10836, 'seethed': 10837, 'sweetgrass': 10838, 'tos': 10839, 'summerwine': 10840, 'sluiced': 10841, 'clutch': 10842, 'roggo': 10843, 'gouts': 10844, 'thereby': 10845, 'repairs': 10846, 'dissolve': 10847, 'conjured': 10848, 'hoary': 10849, 'hen': 10850, 'winner': 10851, 'reproaches': 10852, 'refusal': 10853, 'prongs': 10854, 'wantons': 10855, 'tease': 10856, 'organized': 10857, 'planting': 10858, 'eerie': 10859, 'firth': 10860, 'comforted': 10861, 'wagering': 10862, 'prickle': 10863, 'slunk': 10864, 'palisades': 10865, 'fumed': 10866, 'intruders': 10867, 'listlessly': 10868, 'babble': 10869, 'rampart': 10870, 'weedy': 10871, 'importance': 10872, 'cowed': 10873, 'piping': 10874, 'sorted': 10875, 'event': 10876, 'fairmarket': 10877, 'beauties': 10878, 'dothare': 10879, 'regaling': 10880, 'observe': 10881, 'baleful': 10882, 'pretends': 10883, 'lengthy': 10884, 'measuring': 10885, 'springs': 10886, 'eustace': 10887, 'herb': 10888, 'unafraid': 10889, 'skiffs': 10890, 'deathly': 10891, 'blooming': 10892, 'ketch': 10893, 'bloated': 10894, 'rammed': 10895, 'deflowered': 10896, 'carries': 10897, 'trestles': 10898, 'ghaston': 10899, 'afterdeck': 10900, 'basilisks': 10901, 'hottest': 10902, 'infantry': 10903, 'nubile': 10904, 'magics': 10905, 'wearer': 10906, 'dormund': 10907, 'muttonhead': 10908, 'stifled': 10909, 'byam': 10910, 'guffaw': 10911, 'hatchlings': 10912, 'salloreon': 10913, 'swatting': 10914, 'bottomed': 10915, 'drizzle': 10916, 'similarly': 10917, 'harclay': 10918, 'brogg': 10919, 'regained': 10920, 'stored': 10921, 'chapters': 10922, 'schemer': 10923, 'simon': 10924, 'duckfield': 10925, 'guncer': 10926, 'hubard': 10927, 'interests': 10928, 'ironbelly': 10929, 'bristle': 10930, 'grants': 10931, 'swaggered': 10932, 'disguise': 10933, 'moonmaid': 10934, 'dined': 10935, 'japed': 10936, 'eysen': 10937, 'mistrustful': 10938, 'bastardy': 10939, 'harl': 10940, 'incredulously': 10941, 'goodness': 10942, 'roggon': 10943, 'curdle': 10944, 'consigned': 10945, 'shooed': 10946, 'attempted': 10947, 'writings': 10948, 'conducted': 10949, 'awed': 10950, 'unbelievers': 10951, 'practicing': 10952, 'oss': 10953, 'knowingly': 10954, 'fellowship': 10955, 'supporting': 10956, 'plowman': 10957, 'kezmya': 10958, 'sarra': 10959, 'ezzara': 10960, 'stillbirths': 10961, 'meats': 10962, 'lusted': 10963, 'greendreams': 10964, 'grunts': 10965, 'veered': 10966, 'crawls': 10967, 'ducklings': 10968, 'drearnwine': 10969, 'collapsing': 10970, 'lucias': 10971, 'niello': 10972, 'shayala': 10973, 'aspire': 10974, 'reassure': 10975, 'lickspittles': 10976, 'wormy': 10977, 'sinks': 10978, 'desmera': 10979, 'lard': 10980, 'sloppy': 10981, 'faltered': 10982, 'nymeros': 10983, 'unbowed': 10984, 'reappear': 10985, 'myrielle': 10986, 'fastest': 10987, 'victorious': 10988, 'sunderly': 10989, 'leatherbound': 10990, 'messed': 10991, 'derives': 10992, 'unexpectedly': 10993, 'erenford': 10994, 'submit': 10995, 'befouled': 10996, 'depends': 10997, 'alaric': 10998, 'urron': 10999, 'rents': 11000, 'brimmed': 11001, 'gerren': 11002, 'humility': 11003, 'sparring': 11004, 'unchain': 11005, 'crucial': 11006, 'burdened': 11007, 'hangs': 11008, 'tingling': 11009, 'condolences': 11010, 'ravening': 11011, 'dob': 11012, 'whitecaps': 11013, 'closeness': 11014, 'check': 11015, 'humiliated': 11016, 'moldy': 11017, 'narrower': 11018, 'accommodations': 11019, 'ceaseless': 11020, 'mindful': 11021, 'slime': 11022, 'resented': 11023, 'trophies': 11024, 'varner': 11025, 'eddison': 11026, 'gorys': 11027, 'edoryen': 11028, 'humped': 11029, 'plants': 11030, 'therein': 11031, 'displease': 11032, 'dimples': 11033, 'immortal': 11034, 'partners': 11035, 'downcast': 11036, 'hawthorn': 11037, 'overlord': 11038, 'rasher': 11039, 'chills': 11040, 'unchanged': 11041, 'fret': 11042, 'circumstances': 11043, 'yos': 11044, 'tissue': 11045, 'catchers': 11046, 'bees': 11047, 'intricate': 11048, 'brilliant': 11049, 'patrol': 11050, 'deployed': 11051, 'stamp': 11052, 'dike': 11053, 'doniphos': 11054, 'outfight': 11055, 'jarmen': 11056, 'hosting': 11057, 'midden': 11058, 'beached': 11059, 'signatures': 11060, 'overmuch': 11061, 'jackanapes': 11062, 'colorless': 11063, 'ritual': 11064, 'pincers': 11065, 'entertain': 11066, 'corpsekiller': 11067, 'glaring': 11068, 'shaving': 11069, 'frustrated': 11070, 'mainland': 11071, 'suite': 11072, 'mollono': 11073, 'blonde': 11074, 'flne': 11075, 'wendamyr': 11076, 'rommo': 11077, 'bella': 11078, 'confuse': 11079, 'stagnant': 11080, 'mezzara': 11081, 'submerged': 11082, 'tons': 11083, 'problems': 11084, 'wobblecheeks': 11085, 'mewling': 11086, 'trays': 11087, 'scullion': 11088, 'cuffed': 11089, 'mercifully': 11090, 'insistence': 11091, 'wolfling': 11092, 'consume': 11093, 'lazuli': 11094, 'lumps': 11095, 'drays': 11096, 'lapsed': 11097, 'seahorse': 11098, 'alarmed': 11099, 'larra': 11100, 'bask': 11101, 'thunderbolt': 11102, 'forbearance': 11103, 'accepting': 11104, 'glimpses': 11105, 'dagged': 11106, 'helicent': 11107, 'nap': 11108, 'dangle': 11109, 'screech': 11110, 'tournaments': 11111, 'ridged': 11112, 'ygon': 11113, 'fettered': 11114, 'theobald': 11115, 'robbing': 11116, 'flopped': 11117, 'weakened': 11118, 'brigantine': 11119, 'hutch': 11120, 'curtsy': 11121, 'engulf': 11122, 'predecessor': 11123, 'requested': 11124, 'middling': 11125, 'proudest': 11126, 'straggling': 11127, 'quickness': 11128, 'savior': 11129, 'garnet': 11130, 'dragonslayer': 11131, 'fust': 11132, 'dueling': 11133, 'tremond': 11134, 'sunderland': 11135, 'brightness': 11136, 'corridor': 11137, 'resembled': 11138, 'anchorage': 11139, 'spoils': 11140, 'gape': 11141, 'roundtower': 11142, 'tripping': 11143, 'reclaimed': 11144, 'gawky': 11145, 'palanquins': 11146, 'confection': 11147, 'brooked': 11148, 'annoying': 11149, 'nieces': 11150, 'bodger': 11151, 'hinting': 11152, 'throttled': 11153, 'adamant': 11154, 'causes': 11155, 'embarrassed': 11156, 'wetter': 11157, 'howd': 11158, 'fulk': 11159, 'freckly': 11160, 'sopping': 11161, 'roars': 11162, 'astonishing': 11163, 'sloshing': 11164, 'bloodthirsty': 11165, 'morgo': 11166, 'ramshackle': 11167, 'dragonflame': 11168, 'instrument': 11169, 'fouler': 11170, 'dissuade': 11171, 'silky': 11172, 'trim': 11173, 'luke': 11174, 'fortify': 11175, 'sloe': 11176, 'masonry': 11177, 'tun': 11178, 'offerings': 11179, 'kindled': 11180, 'scuff': 11181, 'forgave': 11182, 'kingsgrave': 11183, 'pranced': 11184, 'consisted': 11185, 'eve': 11186, 'hareth': 11187, 'lime': 11188, 'claimants': 11189, 'castellans': 11190, 'sips': 11191, 'resentment': 11192, 'nicked': 11193, 'blah': 11194, 'sheepish': 11195, 'hugging': 11196, 'terraces': 11197, 'carpenter': 11198, 'downcut': 11199, 'naturally': 11200, 'reysen': 11201, 'myrtle': 11202, 'hghar': 11203, 'ashen': 11204, 'instructions': 11205, 'attract': 11206, 'womanly': 11207, 'majesty': 11208, 'proceed': 11209, 'cease': 11210, 'norreys': 11211, 'vassal': 11212, 'renounce': 11213, 'capons': 11214, 'disdainful': 11215, 'rugged': 11216, 'liddles': 11217, 'wulls': 11218, 'snowdrift': 11219, 'guidance': 11220, 'donella': 11221, 'chapped': 11222, 'pen': 11223, 'grind': 11224, 'bathes': 11225, 'outbreak': 11226, 'dynasty': 11227, 'chided': 11228, 'pleated': 11229, 'rutting': 11230, 'jarring': 11231, 'forswear': 11232, 'unrecognizable': 11233, 'rebellions': 11234, 'vanishing': 11235, 'mermen': 11236, 'suggests': 11237, 'repeating': 11238, 'topple': 11239, 'landless': 11240, 'improvement': 11241, 'scoop': 11242, 'immediately': 11243, 'downfall': 11244, 'titter': 11245, 'generosity': 11246, 'represent': 11247, 'bluetooth': 11248, 'rhoynish': 11249, 'possessed': 11250, 'peddler': 11251, 'miners': 11252, 'beron': 11253, 'painting': 11254, 'dirks': 11255, 'snarls': 11256, 'genial': 11257, 'blanketed': 11258, 'coughs': 11259, 'splashes': 11260, 'eyeholes': 11261, 'waltyr': 11262, 'lanced': 11263, 'unduly': 11264, 'bested': 11265, 'express': 11266, 'retribution': 11267, 'corsair': 11268, 'chelsted': 11269, 'districts': 11270, 'innocents': 11271, 'bedwarmer': 11272, 'blot': 11273, 'abrupt': 11274, 'sawed': 11275, 'pattering': 11276, 'wallace': 11277, 'canopied': 11278, 'whorehouses': 11279, 'fon': 11280, 'definitely': 11281, 'contemptuously': 11282, 'suspended': 11283, 'noblest': 11284, 'horsed': 11285, 'markedly': 11286, 'entreated': 11287, 'languages': 11288, 'shedding': 11289, 'excitedly': 11290, 'buttons': 11291, 'throngs': 11292, 'hazel': 11293, 'inflicted': 11294, 'fretted': 11295, 'unsteadily': 11296, 'reload': 11297, 'toed': 11298, 'crabbed': 11299, 'pang': 11300, 'ni': 11301, 'conceived': 11302, 'softness': 11303, 'waxley': 11304, 'starvation': 11305, 'chiming': 11306, 'leopard': 11307, 'scolding': 11308, 'stepfather': 11309, 'splendidly': 11310, 'foresters': 11311, 'foamed': 11312, 'oafs': 11313, 'nasal': 11314, 'baratheons': 11315, 'weaned': 11316, 'applecakes': 11317, 'grips': 11318, 'accommodate': 11319, 'weed': 11320, 'haggle': 11321, 'fireflies': 11322, 'vividly': 11323, 'cramps': 11324, 'gallantly': 11325, 'squinter': 11326, 'thrusts': 11327, 'hastened': 11328, 'tiara': 11329, 'couch': 11330, 'overwhelm': 11331, 'dubiously': 11332, 'vother': 11333, 'molested': 11334, 'thirteenth': 11335, 'thunderclap': 11336, 'queensmoot': 11337, 'tang': 11338, 'haggling': 11339, 'founding': 11340, 'compelled': 11341, 'hiked': 11342, 'shocking': 11343, 'humpback': 11344, 'mingle': 11345, 'fanciful': 11346, 'wringing': 11347, 'goldenheart': 11348, 'whicker': 11349, 'odors': 11350, 'irony': 11351, 'nhai': 11352, 'flail': 11353, 'inheritance': 11354, 'russell': 11355, 'phrase': 11356, 'evenly': 11357, 'jogos': 11358, 'meaner': 11359, 'throated': 11360, 'steaks': 11361, 'hawked': 11362, 'sacrificed': 11363, 'thoroughly': 11364, 'jommo': 11365, 'stately': 11366, 'worry': 11367, 'harmlessly': 11368, 'lye': 11369, 'speeches': 11370, 'rus': 11371, 'fulfilled': 11372, 'werlag': 11373, 'untidy': 11374, 'tattoos': 11375, 'crenels': 11376, 'described': 11377, 'beach': 11378, 'errol': 11379, 'gran': 11380, 'unguarded': 11381, 'mistakes': 11382, 'greydon': 11383, 'shrouds': 11384, 'knead': 11385, 'dan': 11386, 'unite': 11387, 'archon': 11388, 'rescuer': 11389, 'chafing': 11390, 'retire': 11391, 'mustachio': 11392, 'sane': 11393, 'cowls': 11394, 'austere': 11395, 'gorse': 11396, 'responsibility': 11397, 'droop': 11398, 'rap': 11399, 'rarer': 11400, 'conjurer': 11401, 'whelped': 11402, 'abroad': 11403, 'triumphant': 11404, 'stilled': 11405, 'raking': 11406, 'notches': 11407, 'haughty': 11408, 'vaith': 11409, 'roro': 11410, 'bellow': 11411, 'seemingly': 11412, 'normally': 11413, 'gariss': 11414, 'jingling': 11415, 'heraldic': 11416, 'attractive': 11417, 'targets': 11418, 'salting': 11419, 'madmen': 11420, 'sunbursts': 11421, 'drunker': 11422, 'dwelling': 11423, 'tilting': 11424, 'fails': 11425, 'uncontrollably': 11426, 'foemen': 11427, 'skewers': 11428, 'squandered': 11429, 'reeking': 11430, 'onset': 11431, 'scruff': 11432, 'blackthumb': 11433, 'rallied': 11434, 'leering': 11435, 'jellied': 11436, 'yell': 11437, 'shoals': 11438, 'inviting': 11439, 'noooo': 11440, 'latch': 11441, 'jousts': 11442, 'darrys': 11443, 'sicken': 11444, 'benedict': 11445, 'abhor': 11446, 'passengers': 11447, 'peeked': 11448, 'victims': 11449, 'shivery': 11450, 'deadfall': 11451, 'shiera': 11452, 'flooded': 11453, 'cascaded': 11454, 'breasted': 11455, 'chancy': 11456, 'unbound': 11457, 'checkered': 11458, 'apprehension': 11459, 'voiced': 11460, 'mosaic': 11461, 'aground': 11462, 'jouster': 11463, 'spruce': 11464, 'banter': 11465, 'belike': 11466, 'blanched': 11467, 'unconvinced': 11468, 'byrch': 11469, 'noho': 11470, 'slats': 11471, 'earnestly': 11472, 'warded': 11473, 'whichever': 11474, 'brokered': 11475, 'companionship': 11476, 'lipped': 11477, 'cutpurse': 11478, 'aplenty': 11479, 'unhorsing': 11480, 'ludicrous': 11481, 'airily': 11482, 'famished': 11483, 'overtopped': 11484, 'womanhood': 11485, 'prosperous': 11486, 'befriend': 11487, 'ton': 11488, 'redolent': 11489, 'shella': 11490, 'bass': 11491, 'fantastic': 11492, 'revered': 11493, 'roped': 11494, 'edmund': 11495, 'cannibals': 11496, 'peeking': 11497, 'lawless': 11498, 'whoosh': 11499, 'draws': 11500, 'searing': 11501, 'vastness': 11502, 'healers': 11503, 'ootho': 11504, 'snowball': 11505, 'frenzy': 11506, 'murk': 11507, 'elenei': 11508, 'discussing': 11509, 'durran': 11510, 'greys': 11511, 'beckoning': 11512, 'loans': 11513, 'weeps': 11514, 'reemerged': 11515, 'bedraggled': 11516, 'beetles': 11517, 'preferably': 11518, 'cunningly': 11519, 'pinchface': 11520, 'devastation': 11521, 'embraces': 11522, 'theomar': 11523, 'ironoaks': 11524, 'traditions': 11525, 'doublets': 11526, 'feuds': 11527, 'domed': 11528, 'norbert': 11529, 'churn': 11530, 'outburst': 11531, 'eastward': 11532, 'record': 11533, 'budge': 11534, 'occupy': 11535, 'headache': 11536, 'nary': 11537, 'outrider': 11538, 'distinction': 11539, 'illuminated': 11540, 'sulky': 11541, 'agents': 11542, 'exact': 11543, 'bats': 11544, 'discourteous': 11545, 'swatted': 11546, 'fasting': 11547, 'criston': 11548, 'greedily': 11549, 'entrust': 11550, 'cursory': 11551, 'botch': 11552, 'snuffling': 11553, 'heatedly': 11554, 'indicated': 11555, 'dens': 11556, 'feasters': 11557, 'confer': 11558, 'detain': 11559, 'mutterings': 11560, 'gritting': 11561, 'bloodstains': 11562, 'fluted': 11563, 'taverners': 11564, 'helmetless': 11565, 'bribe': 11566, 'chisel': 11567, 'purchased': 11568, 'devil': 11569, 'bullocks': 11570, 'persuasive': 11571, 'nods': 11572, 'plundering': 11573, 'aspects': 11574, 'minute': 11575, 'notoriously': 11576, 'distinguish': 11577, 'whinnying': 11578, 'hesitant': 11579, 'exploits': 11580, 'quarry': 11581, 'masons': 11582, 'offspring': 11583, 'sinew': 11584, 'motes': 11585, 'grapnels': 11586, 'mohor': 11587, 'tickled': 11588, 'spearheads': 11589, 'halffielms': 11590, 'thieving': 11591, 'muster': 11592, 'terys': 11593, 'displaying': 11594, 'tiled': 11595, 'surround': 11596, 'wistful': 11597, 'osmynd': 11598, 'encourage': 11599, 'clapping': 11600, 'destined': 11601, 'crotch': 11602, 'critically': 11603, 'ferries': 11604, 'violence': 11605, 'joked': 11606, 'kos': 11607, 'rivals': 11608, 'skeleton': 11609, 'dishonorable': 11610, 'wobbly': 11611, 'vanquished': 11612, 'wrinkle': 11613, 'somebody': 11614, 'simpering': 11615, 'unprotected': 11616, 'cackling': 11617, 'subdue': 11618, 'wendish': 11619, 'exercise': 11620, 'spiraled': 11621, 'rummaged': 11622, 'ottomore': 11623, 'sledges': 11624, 'golds': 11625, 'riper': 11626, 'rests': 11627, 'pledging': 11628, 'pander': 11629, 'mantlets': 11630, 'torso': 11631, 'sailcloth': 11632, 'fidgeting': 11633, 'devices': 11634, 'quincy': 11635, 'radiant': 11636, 'plaintively': 11637, 'plinth': 11638, 'treatment': 11639, 'panted': 11640, 'drying': 11641, 'boasts': 11642, 'fiercer': 11643, 'boggy': 11644, 'cloying': 11645, 'sweetwater': 11646, 'lharys': 11647, 'pouty': 11648, 'daena': 11649, 'borders': 11650, 'sheds': 11651, 'waterway': 11652, 'shortear': 11653, 'misstep': 11654, 'robbers': 11655, 'piteous': 11656, 'hone': 11657, 'redder': 11658, 'bewildered': 11659, 'escaping': 11660, 'chequy': 11661, 'ers': 11662, 'gall': 11663, 'sneaks': 11664, 'speared': 11665, 'stonedoor': 11666, 'arose': 11667, 'wynds': 11668, 'drummers': 11669, 'ain': 11670, 'shapely': 11671, 'sinful': 11672, 'boisterous': 11673, 'rondels': 11674, 'juncture': 11675, 'swine': 11676, 'ferryman': 11677, 'glob': 11678, 'addressed': 11679, 'heading': 11680, 'bantam': 11681, 'rooster': 11682, 'wen': 11683, 'trips': 11684, 'stiffening': 11685, 'splinter': 11686, 'growls': 11687, 'respects': 11688, 'sorcerers': 11689, 'afternoons': 11690, 'hinder': 11691, 'throws': 11692, 'pebbleton': 11693, 'snowstorms': 11694, 'gurn': 11695, 'dragonslayers': 11696, 'bolting': 11697, 'rennifer': 11698, 'dispatching': 11699, 'wields': 11700, 'dining': 11701, 'trumpeted': 11702, 'gusty': 11703, 'devotions': 11704, 'omened': 11705, 'runty': 11706, 'calumnies': 11707, 'wayward': 11708, 'toiled': 11709, 'hobbling': 11710, 'shredded': 11711, 'ragnor': 11712, 'caromed': 11713, 'lineage': 11714, 'junction': 11715, 'unwound': 11716, 'crazed': 11717, 'bracing': 11718, 'stonetrees': 11719, 'blunder': 11720, 'ballad': 11721, 'swineherd': 11722, 'streambed': 11723, 'harlon': 11724, 'mucked': 11725, 'talbert': 11726, 'rudely': 11727, 'raper': 11728, 'sadder': 11729, 'month': 11730, 'risked': 11731, 'grit': 11732, 'hinge': 11733, 'nursery': 11734, 'hosted': 11735, 'gaps': 11736, 'untaken': 11737, 'purchase': 11738, 'disfigured': 11739, 'occasional': 11740, 'credit': 11741, 'fills': 11742, 'surveyed': 11743, 'lucifer': 11744, 'surnmerwine': 11745, 'succor': 11746, 'gushing': 11747, 'scanning': 11748, 'breastplates': 11749, 'neglect': 11750, 'trenches': 11751, 'subsided': 11752, 'grimm': 11753, 'looting': 11754, 'punctuated': 11755, 'roach': 11756, 'pellets': 11757, 'maekar': 11758, 'juggled': 11759, 'temptation': 11760, 'quilt': 11761, 'persistent': 11762, 'lopsided': 11763, 'unsheathe': 11764, 'elron': 11765, 'nay': 11766, 'disobedience': 11767, 'barbarians': 11768, 'chops': 11769, 'breechclout': 11770, 'manfully': 11771, 'coasts': 11772, 'steeply': 11773, 'froth': 11774, 'exposure': 11775, 'sunlit': 11776, 'tooled': 11777, 'lionskin': 11778, 'hightowers': 11779, 'hoisting': 11780, 'janei': 11781, 'seashell': 11782, 'scion': 11783, 'shrinking': 11784, 'whack': 11785, 'chortled': 11786, 'princesses': 11787, 'insides': 11788, 'chilling': 11789, 'leafless': 11790, 'fishmongers': 11791, 'traditionally': 11792, 'hits': 11793, 'niggard': 11794, 'snowcapped': 11795, 'larboard': 11796, 'purely': 11797, 'nella': 11798, 'overcrowded': 11799, 'squabble': 11800, 'overhang': 11801, 'flitting': 11802, 'polish': 11803, 'bonelessly': 11804, 'stonehand': 11805, 'starfish': 11806, 'heritage': 11807, 'unskilled': 11808, 'dozed': 11809, 'townsman': 11810, 'smothering': 11811, 'gorgeously': 11812, 'mina': 11813, 'nested': 11814, 'ability': 11815, 'hoard': 11816, 'shaky': 11817, 'gem': 11818, 'fraught': 11819, 'contests': 11820, 'primacy': 11821, 'overtaken': 11822, 'limbed': 11823, 'sealskins': 11824, 'vortimer': 11825, 'oldfather': 11826, 'puddled': 11827, 'cozened': 11828, 'crevasse': 11829, 'vyrwel': 11830, 'staining': 11831, 'outlanders': 11832, 'helpful': 11833, 'grazing': 11834, 'creylen': 11835, 'charts': 11836, 'lomys': 11837, 'curry': 11838, 'handsomely': 11839, 'treecat': 11840, 'waynwoods': 11841, 'sweetcorn': 11842, 'blindness': 11843, 'cocksure': 11844, 'mirrors': 11845, 'reflect': 11846, 'helmets': 11847, 'attaching': 11848, 'savagery': 11849, 'acrid': 11850, 'panther': 11851, 'hatching': 11852, 'lung': 11853, 'weepy': 11854, 'joys': 11855, 'penance': 11856, 'undisturbed': 11857, 'intending': 11858, 'labor': 11859, 'championing': 11860, 'torwynd': 11861, 'bliss': 11862, 'stroll': 11863, 'refrain': 11864, 'sniggering': 11865, 'menace': 11866, 'bidder': 11867, 'disappear': 11868, 'bottomless': 11869, 'slopping': 11870, 'quizzical': 11871, 'tool': 11872, 'juggling': 11873, 'script': 11874, 'supping': 11875, 'mushy': 11876, 'botleys': 11877, 'quell': 11878, 'beset': 11879, 'deerhide': 11880, 'pretenders': 11881, 'shoves': 11882, 'pursuers': 11883, 'aisles': 11884, 'beech': 11885, 'wiggled': 11886, 'snowbank': 11887, 'outbuildings': 11888, 'bulk': 11889, 'eared': 11890, 'dart': 11891, 'mon': 11892, 'breaths': 11893, 'loses': 11894, 'tumbles': 11895, 'chattel': 11896, 'rhee': 11897, 'rylona': 11898, 'mazdhan': 11899, 'geese': 11900, 'unmarked': 11901, 'dozing': 11902, 'widen': 11903, 'fable': 11904, 'camarron': 11905, 'coves': 11906, 'aegons': 11907, 'costayne': 11908, 'wolverine': 11909, 'thaw': 11910, 'droopy': 11911, 'stomping': 11912, 'detail': 11913, 'devours': 11914, 'thewall': 11915, 'flaw': 11916, 'trifling': 11917, 'ululating': 11918, 'comic': 11919, 'overcome': 11920, 'passersby': 11921, 'weeks': 11922, 'wenda': 11923, 'twelfth': 11924, 'accorded': 11925, 'infinitely': 11926, 'misting': 11927, 'prattled': 11928, 'dimmed': 11929, 'dam': 11930, 'urho': 11931, 'dwells': 11932, 'foothold': 11933, 'babbling': 11934, 'recapture': 11935, 'tedium': 11936, 'grubbs': 11937, 'buggered': 11938, 'fugitive': 11939, 'reasonable': 11940, 'outcrop': 11941, 'fluent': 11942, 'pelted': 11943, 'cugen': 11944, 'quicksands': 11945, 'tricky': 11946, 'lenwood': 11947, 'rambton': 11948, 'footpad': 11949, 'choppy': 11950, 'myrmen': 11951, 'endings': 11952, 'soundly': 11953, 'corbrays': 11954, 'brides': 11955, 'welts': 11956, 'basalt': 11957, 'dustins': 11958, 'tridents': 11959, 'futures': 11960, 'degree': 11961, 'depicted': 11962, 'sothoros': 11963, 'capers': 11964, 'warnings': 11965, 'sprinting': 11966, 'accordingly': 11967, 'remarked': 11968, 'beamed': 11969, 'ecstasy': 11970, 'cutoff': 11971, 'advised': 11972, 'vigorous': 11973, 'tarred': 11974, 'blundering': 11975, 'clansman': 11976, 'leviathans': 11977, 'site': 11978, 'lasting': 11979, 'thee': 11980, 'unctuous': 11981, 'drumms': 11982, 'weavers': 11983, 'roust': 11984, 'jetty': 11985, 'horseradish': 11986, 'bowstrings': 11987, 'mislaid': 11988, 'lieutenant': 11989, 'goady': 11990, 'hearty': 11991, 'thud': 11992, 'tense': 11993, 'ties': 11994, 'unadorned': 11995, 'ollidor': 11996, 'inks': 11997, 'slings': 11998, 'balustrade': 11999, 'assembling': 12000, 'jangling': 12001, 'unknowing': 12002, 'tumbler': 12003, 'sweeten': 12004, 'royces': 12005, 'gait': 12006, 'glum': 12007, 'squiring': 12008, 'loathed': 12009, 'loathe': 12010, 'sufferings': 12011, 'colonnade': 12012, 'accusers': 12013, 'awning': 12014, 'perilously': 12015, 'retain': 12016, 'balking': 12017, 'befall': 12018, 'contrived': 12019, 'mourns': 12020, 'beetle': 12021, 'bribes': 12022, 'cannibal': 12023, 'splayed': 12024, 'lengths': 12025, 'knoll': 12026, 'patting': 12027, 'term': 12028, 'awfully': 12029, 'swirls': 12030, 'strawberry': 12031, 'guildhall': 12032, 'appearing': 12033, 'splat': 12034, 'doh': 12035, 'squish': 12036, 'plopped': 12037, 'blotchy': 12038, 'shrubs': 12039, 'ratty': 12040, 'vikary': 12041, 'festival': 12042, 'ghazdor': 12043, 'hoare': 12044, 'meldred': 12045, 'document': 12046, 'results': 12047, 'singularly': 12048, 'lengthen': 12049, 'steffarion': 12050, 'emmond': 12051, 'services': 12052, 'clotted': 12053, 'requests': 12054, 'rumor': 12055, 'grumble': 12056, 'whatsoever': 12057, 'sauced': 12058, 'disk': 12059, 'rufus': 12060, 'gowned': 12061, 'dragonspawn': 12062, 'ahhhh': 12063, 'louts': 12064, 'overpowering': 12065, 'fishwhiskers': 12066, 'benethon': 12067, 'correctly': 12068, 'foxglove': 12069, 'bottle': 12070, 'dannel': 12071, 'stagger': 12072, 'hummocks': 12073, 'binder': 12074, 'maiming': 12075, 'mills': 12076, 'counter': 12077, 'archons': 12078, 'considerably': 12079, 'interposed': 12080, 'strive': 12081, 'zahrina': 12082, 'chattels': 12083, 'surprises': 12084, 'tideline': 12085, 'recorded': 12086, 'sellsail': 12087, 'bidders': 12088, 'goodheart': 12089, 'seriously': 12090, 'unnamed': 12091, 'defeats': 12092, 'disarmed': 12093, 'leisurely': 12094, 'sightlessly': 12095, 'seep': 12096, 'falcons': 12097, 'blues': 12098, 'waning': 12099, 'birthmark': 12100, 'epic': 12101, 'tumco': 12102, 'yherizan': 12103, 'slips': 12104, 'swarthy': 12105, 'woo': 12106, 'strangling': 12107, 'ternesio': 12108, 'ramp': 12109, 'bhakaz': 12110, 'styles': 12111, 'fabrics': 12112, 'azzak': 12113, 'fanning': 12114, 'traps': 12115, 'heated': 12116, 'eternally': 12117, 'loon': 12118, 'crawn': 12119, 'poached': 12120, 'browns': 12121, 'complimented': 12122, 'disobey': 12123, 'minisa': 12124, 'http': 12125, 'states': 12126, 'smolder': 12127, 'votar': 12128, 'monstrously': 12129, 'drawstring': 12130, 'compendium': 12131, 'stressed': 12132, 'pronounce': 12133, 'sires': 12134, 'mudmen': 12135, 'glen': 12136, 'dragonsteel': 12137, 'broach': 12138, 'owns': 12139, 'frogeaters': 12140, 'listens': 12141, 'candidate': 12142, 'diversion': 12143, 'confidently': 12144, 'gueren': 12145, 'oxcarts': 12146, 'heaven': 12147, 'mawney': 12148, 'malo': 12149, 'aroma': 12150, 'coif': 12151, 'heron': 12152, 'outraged': 12153, 'haughtily': 12154, 'carellen': 12155, 'talents': 12156, 'confine': 12157, 'imposing': 12158, 'tolled': 12159, 'outcast': 12160, 'sawdust': 12161, 'possibilities': 12162, 'harghaz': 12163, 'morna': 12164, 'ceilinged': 12165, 'denies': 12166, 'delicately': 12167, 'threefold': 12168, 'oozing': 12169, 'mallery': 12170, 'bye': 12171, 'guise': 12172, 'ormund': 12173, 'plop': 12174, 'gashes': 12175, 'ahooo': 12176, 'aiming': 12177, 'whalers': 12178, 'thall': 12179, 'cisterns': 12180, 'galleries': 12181, 'harlot': 12182, 'socks': 12183, 'campfire': 12184, 'swiveled': 12185, 'coupling': 12186, 'abominably': 12187, 'polemen': 12188, 'crafted': 12189, 'cobwebs': 12190, 'jackals': 12191, 'brendel': 12192, 'button': 12193, 'harlan': 12194, 'quenched': 12195, 'illusions': 12196, 'lizards': 12197, 'sooty': 12198, 'rips': 12199, 'dragonkings': 12200, 'helmed': 12201, 'legion': 12202, 'besotted': 12203, 'pallets': 12204, 'bothering': 12205, 'meself': 12206, 'quaffed': 12207, 'sarsfield': 12208, 'clanker': 12209, 'saplings': 12210, 'hermaphrodite': 12211, 'assistance': 12212, 'hardness': 12213, 'grumkin': 12214, 'prattle': 12215, 'pooling': 12216, 'tybolt': 12217, 'foods': 12218, 'mincing': 12219, 'roadway': 12220, 'rangings': 12221, 'framing': 12222, 'goodman': 12223, 'inland': 12224, 'gooseflesh': 12225, 'unchanging': 12226, 'paved': 12227, 'privilege': 12228, 'remote': 12229, 'accuser': 12230, 'affairs': 12231, 'wools': 12232, 'vein': 12233, 'throttle': 12234, 'meantime': 12235, 'regarding': 12236, 'quavery': 12237, 'remarkably': 12238, 'chaotic': 12239, 'layered': 12240, 'sayings': 12241, 'monuments': 12242, 'strengths': 12243, 'titus': 12244, 'laswell': 12245, 'margot': 12246, 'cornered': 12247, 'encampments': 12248, 'lacquered': 12249, 'elaborately': 12250, 'deceased': 12251, 'merest': 12252, 'windpipe': 12253, 'stonetree': 12254, 'leashes': 12255, 'whacking': 12256, 'ascending': 12257, 'flourish': 12258, 'swordswench': 12259, 'entourage': 12260, 'deigned': 12261, 'bridal': 12262, 'winches': 12263, 'cutthroat': 12264, 'goldsmith': 12265, 'replacement': 12266, 'ruinous': 12267, 'farrow': 12268, 'rosewater': 12269, 'foodstuffs': 12270, 'tut': 12271, 'ramps': 12272, 'huddling': 12273, 'establish': 12274, 'lucion': 12275, 'fiddled': 12276, 'immediate': 12277, 'faring': 12278, 'whit': 12279, 'bead': 12280, 'mending': 12281, 'offices': 12282, 'cedric': 12283, 'scuffling': 12284, 'contended': 12285, 'necessity': 12286, 'glutton': 12287, 'dirge': 12288, 'unsettled': 12289, 'greenhand': 12290, 'squirting': 12291, 'fortified': 12292, 'striving': 12293, 'horseshoe': 12294, 'guardians': 12295, 'runnymudd': 12296, 'reining': 12297, 'populous': 12298, 'shorten': 12299, 'vanquish': 12300, 'tormented': 12301, 'doffed': 12302, 'chyttering': 12303, 'jate': 12304, 'drier': 12305, 'racked': 12306, 'sited': 12307, 'trios': 12308, 'clump': 12309, 'halting': 12310, 'cringe': 12311, 'saddest': 12312, 'sleet': 12313, 'thanking': 12314, 'dreadfully': 12315, 'husked': 12316, 'witnessed': 12317, 'decade': 12318, 'truculent': 12319, 'larence': 12320, 'mortals': 12321, 'arrangement': 12322, 'cleansing': 12323, 'sluggish': 12324, 'delights': 12325, 'horsehide': 12326, 'haunts': 12327, 'consoled': 12328, 'roelle': 12329, 'perestan': 12330, 'bodyguard': 12331, 'walys': 12332, 'jingled': 12333, 'manhoods': 12334, 'differ': 12335, 'skipping': 12336, 'chattered': 12337, 'dents': 12338, 'swiftest': 12339, 'sloped': 12340, 'opals': 12341, 'truest': 12342, 'leaner': 12343, 'mastiffs': 12344, 'alf': 12345, 'existence': 12346, 'william': 12347, 'scarcer': 12348, 'rd': 12349, 'ridgeline': 12350, 'celladar': 12351, 'crevice': 12352, 'arranging': 12353, 'ravella': 12354, 'instruments': 12355, 'temmo': 12356, 'belicho': 12357, 'broadly': 12358, 'clothe': 12359, 'exotic': 12360, 'necklaces': 12361, 'childless': 12362, 'ire': 12363, 'lane': 12364, 'alios': 12365, 'leisure': 12366, 'pinecone': 12367, 'winched': 12368, 'decline': 12369, 'guiding': 12370, 'checks': 12371, 'painless': 12372, 'testified': 12373, 'outweighed': 12374, 'haereg': 12375, 'swims': 12376, 'sheaf': 12377, 'tailed': 12378, 'consumes': 12379, 'schemed': 12380, 'enveloped': 12381, 'barbarian': 12382, 'porcupine': 12383, 'boughs': 12384, 'sympathy': 12385, 'proclaims': 12386, 'woodsmoke': 12387, 'quentin': 12388, 'stableman': 12389, 'cricket': 12390, 'maintain': 12391, 'igon': 12392, 'atranta': 12393, 'preening': 12394, 'singed': 12395, 'dimittis': 12396, 'boyish': 12397, 'mining': 12398, 'dub': 12399, 'oathbreaking': 12400, 'rumored': 12401, 'surpassing': 12402, 'bloodflies': 12403, 'cottages': 12404, 'tingle': 12405, 'trio': 12406, 'seafarer': 12407, 'hunk': 12408, 'drear': 12409, 'spacious': 12410, 'renhal': 12411, 'opinion': 12412, 'bulging': 12413, 'backplate': 12414, 'cur': 12415, 'guilds': 12416, 'snaking': 12417, 'theo': 12418, 'digest': 12419, 'eyeslit': 12420, 'leered': 12421, 'shutter': 12422, 'latticework': 12423, 'waider': 12424, 'augment': 12425, 'paleness': 12426, 'lifeless': 12427, 'conversations': 12428, 'stonemasons': 12429, 'roam': 12430, 'inhospitable': 12431, 'lockstep': 12432, 'campaign': 12433, 'plaintive': 12434, 'girlhood': 12435, 'behavior': 12436, 'staunchest': 12437, 'escutcheon': 12438, 'pipe': 12439, 'littlesister': 12440, 'eerily': 12441, 'plumage': 12442, 'dumping': 12443, 'denizens': 12444, 'lightening': 12445, 'gush': 12446, 'width': 12447, 'sweetmeats': 12448, 'drills': 12449, 'lumpyface': 12450, 'demure': 12451, 'raindrops': 12452, 'discourtesy': 12453, 'sentences': 12454, 'camels': 12455, 'moonstone': 12456, 'rhythmic': 12457, 'congealing': 12458, 'wynafryd': 12459, 'zorses': 12460, 'hoes': 12461, 'sloughing': 12462, 'dipping': 12463, 'estren': 12464, 'freeing': 12465, 'brandishing': 12466, 'consummated': 12467, 'nobody': 12468, 'exploring': 12469, 'huffed': 12470, 'contented': 12471, 'fireplace': 12472, 'struggles': 12473, 'smother': 12474, 'peacocks': 12475, 'guiltily': 12476, 'buggering': 12477, 'wrested': 12478, 'swordfight': 12479, 'apprenticed': 12480, 'interred': 12481, 'scampering': 12482, 'solution': 12483, 'sorting': 12484, 'relished': 12485, 'fuming': 12486, 'genitals': 12487, 'youths': 12488, 'buggers': 12489, 'riven': 12490, 'replacing': 12491, 'nude': 12492, 'garigus': 12493, 'overlapping': 12494, 'mulling': 12495, 'fence': 12496, 'bathwater': 12497, 'quavering': 12498, 'bully': 12499, 'raggedly': 12500, 'explaining': 12501, 'furrows': 12502, 'managing': 12503, 'mommy': 12504, 'compliments': 12505, 'partway': 12506, 'tsked': 12507, 'smoothing': 12508, 'slither': 12509, 'steamy': 12510, 'snigger': 12511, 'tenuous': 12512, 'devious': 12513, 'referring': 12514, 'simpleton': 12515, 'demurred': 12516, 'overcooked': 12517, 'flopping': 12518, 'fiction': 12519, 'virgins': 12520, 'leaks': 12521, 'likenesses': 12522, 'exploding': 12523, 'unison': 12524, 'truces': 12525, 'parris': 12526, 'papery': 12527, 'dowry': 12528, 'dragonsbane': 12529, 'skeletons': 12530, 'petitioner': 12531, 'disappointing': 12532, 'harrag': 12533, 'sandal': 12534, 'humbly': 12535, 'blames': 12536, 'vengeful': 12537, 'uncoiling': 12538, 'overthrew': 12539, 'explore': 12540, 'trapdoor': 12541, 'slimmer': 12542, 'inevitably': 12543, 'outdistanced': 12544, 'haunting': 12545, 'princely': 12546, 'taunted': 12547, 'milkglass': 12548, 'assaulted': 12549, 'shoveled': 12550, 'invest': 12551, 'disagree': 12552, 'clamber': 12553, 'transfixed': 12554, 'buck': 12555, 'crystalline': 12556, 'bloodmagic': 12557, 'subterranean': 12558, 'cinch': 12559, 'swish': 12560, 'loff': 12561, 'constricted': 12562, 'sweepings': 12563, 'ensure': 12564, 'limned': 12565, 'veterans': 12566, 'tragic': 12567, 'potter': 12568, 'discourage': 12569, 'reluctance': 12570, 'unthinking': 12571, 'grates': 12572, 'medicine': 12573, 'grate': 12574, 'hillsides': 12575, 'absently': 12576, 'byron': 12577, 'bors': 12578, 'bedchambers': 12579, 'structures': 12580, 'jowl': 12581, 'determine': 12582, 'robed': 12583, 'positioned': 12584, 'unfurled': 12585, 'capering': 12586, 'detached': 12587, 'fondly': 12588, 'jingle': 12589, 'journeymen': 12590, 'easing': 12591, 'bayard': 12592, 'lambskin': 12593, 'peopled': 12594, 'anticipate': 12595, 'oathbreakers': 12596, 'soaped': 12597, 'disrobe': 12598, 'greener': 12599, 'warrants': 12600, 'admirers': 12601, 'tuck': 12602, 'mocks': 12603, 'builds': 12604, 'fishes': 12605, 'legendary': 12606, 'mysterious': 12607, 'anybody': 12608, 'insects': 12609, 'herrock': 12610, 'rosewood': 12611, 'guileless': 12612, 'hogg': 12613, 'harvests': 12614, 'horribly': 12615, 'resistance': 12616, 'quivers': 12617, 'conspire': 12618, 'shaping': 12619, 'wreck': 12620, 'flatterers': 12621, 'ruffling': 12622, 'adopted': 12623, 'motionless': 12624, 'trickster': 12625, 'spindly': 12626, 'coaxed': 12627, 'hafted': 12628, 'reclined': 12629, 'pulls': 12630, 'greatcloak': 12631, 'squalor': 12632, 'slops': 12633, 'provoking': 12634, 'rion': 12635, 'consolation': 12636, 'madly': 12637, 'switched': 12638, 'unfair': 12639, 'dong': 12640, 'positions': 12641, 'sweetmilk': 12642, 'overnight': 12643, 'chip': 12644, 'steeped': 12645, 'inflict': 12646, 'fondle': 12647, 'sock': 12648, 'flooding': 12649, 'bower': 12650, 'fostering': 12651, 'blustering': 12652, 'misjudged': 12653, 'kneels': 12654, 'slingers': 12655, 'comical': 12656, 'maw': 12657, 'mid': 12658, 'eaters': 12659, 'wagered': 12660, 'foolishness': 12661, 'borrow': 12662, 'challengers': 12663, 'accommodating': 12664, 'drippings': 12665, 'snowfall': 12666, 'repent': 12667, 'expressionless': 12668, 'informs': 12669, 'pondered': 12670, 'clinked': 12671, 'beaks': 12672, 'fullness': 12673, 'palely': 12674, 'sown': 12675, 'suggestions': 12676, 'disregard': 12677, 'knitting': 12678, 'sniffled': 12679, 'clanged': 12680, 'ding': 12681, 'whilor': 12682, 'kaeth': 12683, 'persons': 12684, 'admirably': 12685, 'scurry': 12686, 'responsible': 12687, 'quarterstaff': 12688, 'voyaging': 12689, 'betroth': 12690, 'vixen': 12691, 'perimeters': 12692, 'darkling': 12693, 'tactics': 12694, 'fifteenth': 12695, 'falsely': 12696, 'showers': 12697, 'uncomprehending': 12698, 'deceptive': 12699, 'gynir': 12700, 'satisfy': 12701, 'print': 12702, 'westerman': 12703, 'images': 12704, 'wobbled': 12705, 'paltry': 12706, 'lingers': 12707, 'radishes': 12708, 'ascertain': 12709, 'duels': 12710, 'inseparable': 12711, 'poisoners': 12712, 'repaired': 12713, 'servitude': 12714, 'sickle': 12715, 'entertainment': 12716, 'destiny': 12717, 'prime': 12718, 'fresher': 12719, 'precedence': 12720, 'erect': 12721, 'decades': 12722, 'describe': 12723, 'sells': 12724, 'sarcasm': 12725, 'herbwomen': 12726, 'intrigues': 12727, 'oversized': 12728, 'hovering': 12729, 'slashes': 12730, 'formation': 12731, 'ominously': 12732, 'freedwoman': 12733, 'banquet': 12734, 'skittered': 12735, 'engrossed': 12736, 'presumption': 12737, 'bedslave': 12738, 'andrey': 12739, 'couched': 12740, 'burner': 12741, 'quickens': 12742, 'threads': 12743, 'cuff': 12744, 'rosamund': 12745, 'flatlands': 12746, 'native': 12747, 'tangletongue': 12748, 'sorties': 12749, 'regrouped': 12750, 'beetled': 12751, 'shears': 12752, 'brotherly': 12753, 'smears': 12754, 'disheveled': 12755, 'spur': 12756, 'shipmates': 12757, 'lidded': 12758, 'spatter': 12759, 'badger': 12760, 'slug': 12761, 'pock': 12762, 'ondrew': 12763, 'picks': 12764, 'dodged': 12765, 'simplicity': 12766, 'twentieth': 12767, 'dulled': 12768, 'spaced': 12769, 'melees': 12770, 'hungers': 12771, 'sarya': 12772, 'rousing': 12773, 'aright': 12774, 'rhaenyra': 12775, 'nonplussed': 12776, 'paddling': 12777, 'consents': 12778, 'spiderweb': 12779, 'inexorably': 12780, 'halmon': 12781, 'appeals': 12782, 'walker': 12783, 'grooming': 12784, 'besmirch': 12785, 'snick': 12786, 'berena': 12787, 'eddara': 12788, 'draughts': 12789, 'packhorses': 12790, 'pitted': 12791, 'lyessa': 12792, 'pulpit': 12793, 'rhea': 12794, 'rejoice': 12795, 'erren': 12796, 'bustling': 12797, 'brim': 12798, 'maces': 12799, 'dusting': 12800, 'squash': 12801, 'gasps': 12802, 'ripple': 12803, 'truthfully': 12804, 'bloodborn': 12805, 'coratt': 12806, 'mares': 12807, 'vrone': 12808, 'perspiration': 12809, 'tunelessly': 12810, 'nightshade': 12811, 'dignified': 12812, 'spottswood': 12813, 'whorls': 12814, 'hives': 12815, 'lull': 12816, 'lank': 12817, 'pivoted': 12818, 'reversed': 12819, 'cyrenna': 12820, 'nourish': 12821, 'befitting': 12822, 'scandal': 12823, 'larder': 12824, 'presumes': 12825, 'sovereign': 12826, 'saluted': 12827, 'unlock': 12828, 'copyright': 12829, 'assembly': 12830, 'tolling': 12831, 'scampered': 12832, 'milling': 12833, 'nourished': 12834, 'roote': 12835, 'seating': 12836, 'quaff': 12837, 'senseless': 12838, 'merrell': 12839, 'apparent': 12840, 'straddled': 12841, 'accident': 12842, 'amarei': 12843, 'absolve': 12844, 'lacy': 12845, 'packmates': 12846, 'doorstep': 12847, 'exit': 12848, 'clumsier': 12849, 'curtsied': 12850, 'transform': 12851, 'dolt': 12852, 'untie': 12853, 'poetry': 12854, 'terraced': 12855, 'demise': 12856, 'marianne': 12857, 'unmasked': 12858, 'drawings': 12859, 'bellegere': 12860, 'ordering': 12861, 'doggedly': 12862, 'pops': 12863, 'hunts': 12864, 'laboring': 12865, 'sedgekins': 12866, 'skimming': 12867, 'unload': 12868, 'corrupted': 12869, 'suckle': 12870, 'methodically': 12871, 'casual': 12872, 'brutally': 12873, 'dose': 12874, 'upsetting': 12875, 'cutthroats': 12876, 'boatmen': 12877, 'donnor': 12878, 'fissured': 12879, 'edrick': 12880, 'wyrms': 12881, 'trudging': 12882, 'fissures': 12883, 'emulate': 12884, 'fogs': 12885, 'nuisance': 12886, 'nettles': 12887, 'foggy': 12888, 'hilarious': 12889, 'reclining': 12890, 'worries': 12891, 'reigns': 12892, 'shags': 12893, 'gilwood': 12894, 'smattering': 12895, 'sputtering': 12896, 'abbatoir': 12897, 'pinning': 12898, 'lagging': 12899, 'crookback': 12900, 'todder': 12901, 'beatings': 12902, 'forded': 12903, 'piglet': 12904, 'elements': 12905, 'honesty': 12906, 'shyra': 12907, 'anthill': 12908, 'misses': 12909, 'uttered': 12910, 'solitude': 12911, 'tricksy': 12912, 'effortlessly': 12913, 'harden': 12914, 'taciturn': 12915, 'buffeted': 12916, 'chalky': 12917, 'gambling': 12918, 'modesty': 12919, 'intoxicating': 12920, 'hopfrog': 12921, 'boldness': 12922, 'instincts': 12923, 'poled': 12924, 'harpist': 12925, 'stamping': 12926, 'spank': 12927, 'ebb': 12928, 'prestayn': 12929, 'accusingly': 12930, 'sellsails': 12931, 'kingbeyond': 12932, 'reflecting': 12933, 'scamper': 12934, 'makings': 12935, 'turmoil': 12936, 'watt': 12937, 'massed': 12938, 'thirdborn': 12939, 'font': 12940, 'forestall': 12941, 'annara': 12942, 'filtered': 12943, 'alert': 12944, 'precedent': 12945, 'tablecloth': 12946, 'clutter': 12947, 'taster': 12948, 'gear': 12949, 'quence': 12950, 'fantasy': 12951, 'bounds': 12952, 'chester': 12953, 'hasten': 12954, 'aimlessly': 12955, 'loosen': 12956, 'akin': 12957, 'races': 12958, 'distraction': 12959, 'engage': 12960, 'waggled': 12961, 'distressed': 12962, 'mellara': 12963, 'neighbor': 12964, 'stablehand': 12965, 'mussed': 12966, 'murmurs': 12967, 'melwys': 12968, 'profusion': 12969, 'crewman': 12970, 'strains': 12971, 'proposes': 12972, 'prawns': 12973, 'ghazeen': 12974, 'deformed': 12975, 'warped': 12976, 'ruttiger': 12977, 'mistreat': 12978, 'rites': 12979, 'joyeuse': 12980, 'threatens': 12981, 'dorden': 12982, 'ornamental': 12983, 'budding': 12984, 'doss': 12985, 'pricking': 12986, 'shrines': 12987, 'pea': 12988, 'kinship': 12989, 'hideously': 12990, 'porters': 12991, 'freezes': 12992, 'culled': 12993, 'impassable': 12994, 'feints': 12995, 'simplest': 12996, 'australia': 12997, 'beqqo': 12998, 'presided': 12999, 'orbert': 13000, 'prospective': 13001, 'snowflake': 13002, 'canada': 13003, 'conserve': 13004, 'leyne': 13005, 'gibe': 13006, 'forewarned': 13007, 'excruciating': 13008, 'horseheads': 13009, 'drawl': 13010, 'bareheaded': 13011, 'alarmingly': 13012, 'landings': 13013, 'appealing': 13014, 'bloodroyal': 13015, 'dispense': 13016, 'zealand': 13017, 'skyreach': 13018, 'ullers': 13019, 'countenance': 13020, 'languishing': 13021, 'proposing': 13022, 'spreads': 13023, 'suffused': 13024, 'tal': 13025, 'wap': 13026, 'withheld': 13027, 'ralph': 13028, 'rhaezn': 13029, 'hollards': 13030, 'disapproving': 13031, 'unsound': 13032, 'sardonic': 13033, 'steeple': 13034, 'swagger': 13035, 'repentance': 13036, 'flattered': 13037, 'pristine': 13038, 'redden': 13039, 'sidearm': 13040, 'plowing': 13041, 'scarecrows': 13042, 'ply': 13043, 'curs': 13044, 'discomfited': 13045, 'colloquo': 13046, 'meralyn': 13047, 'gyloro': 13048, 'cinder': 13049, 'preaching': 13050, 'cragorn': 13051, 'burbled': 13052, 'hazards': 13053, 'myrmello': 13054, 'choker': 13055, 'spar': 13056, 'mixture': 13057, 'eleyna': 13058, 'sustained': 13059, 'falia': 13060, 'manacle': 13061, 'frolic': 13062, 'legitimized': 13063, 'swiped': 13064, 'oth': 13065, 'releasing': 13066, 'pockmarks': 13067, 'byrne': 13068, 'hardy': 13069, 'otherys': 13070, 'proctor': 13071, 'sallydance': 13072, 'capturing': 13073, 'transepts': 13074, 'sothoryos': 13075, 'porch': 13076, 'lamentation': 13077, 'spiky': 13078, 'freedoms': 13079, 'refrained': 13080, 'gavin': 13081, 'whiter': 13082, 'chortling': 13083, 'muggy': 13084, 'devyn': 13085, 'lemonwater': 13086, 'skirled': 13087, 'sealskinner': 13088, 'portraits': 13089, 'pinches': 13090, 'milkmaid': 13091, 'alight': 13092, 'riddler': 13093, 'sealords': 13094, 'scavengers': 13095, 'hornets': 13096, 'owners': 13097, 'resemble': 13098, 'vapid': 13099, 'branded': 13100, 'quicksand': 13101, 'overflow': 13102, 'briny': 13103, 'lush': 13104, 'harzoo': 13105, 'carelessly': 13106, 'pupil': 13107, 'chortle': 13108, 'footsore': 13109, 'versions': 13110, 'tickling': 13111, 'underlings': 13112, 'poetess': 13113, 'rainwater': 13114, 'maggot': 13115, 'accented': 13116, 'scaffold': 13117, 'stranded': 13118, 'cossomo': 13119, 'strife': 13120, 'slav': 13121, 'battlefields': 13122, 'sucks': 13123, 'bended': 13124, 'penis': 13125, 'derisive': 13126, 'absolution': 13127, 'foreboding': 13128, 'lullaby': 13129, 'goosefleshed': 13130, 'constipated': 13131, 'gyleno': 13132, 'disemboweled': 13133, 'uhlez': 13134, 'plotters': 13135, 'uninvited': 13136, 'cheerless': 13137, 'misled': 13138, 'bankers': 13139, 'autumnal': 13140, 'woefully': 13141, 'cleaved': 13142, 'protests': 13143, 'prevented': 13144, 'gravedigger': 13145, 'tybero': 13146, 'nearsighted': 13147, 'pennytree': 13148, 'frames': 13149, 'cronies': 13150, 'untried': 13151, 'arthor': 13152, 'tidewood': 13153, 'divide': 13154, 'rhegan': 13155, 'tile': 13156, 'gylo': 13157, 'urrigon': 13158, 'renamed': 13159, 'anon': 13160, 'blizzard': 13161, 'honeytree': 13162, 'darlings': 13163, 'missy': 13164, 'donel': 13165, 'unmanned': 13166, 'ornaments': 13167, 'messengers': 13168, 'artifice': 13169, 'jeering': 13170, 'congratulate': 13171, 'pommels': 13172, 'bestial': 13173, 'imply': 13174, 'undergaolers': 13175, 'sham': 13176, 'toefinger': 13177, 'butterfly': 13178, 'medrick': 13179, 'filing': 13180, 'potbellied': 13181, 'voters': 13182, 'elyria': 13183, 'clod': 13184, 'vellum': 13185, 'harbored': 13186, 'censer': 13187, 'deciding': 13188, 'sojourn': 13189, 'shellfish': 13190, 'nettle': 13191, 'teems': 13192, 'text': 13193, 'angel': 13194, 'flees': 13195, 'chatting': 13196, 'successful': 13197, 'betwixt': 13198, 'pillared': 13199, 'agonizing': 13200, 'clearer': 13201, 'zorse': 13202, 'hath': 13203, 'passably': 13204, 'influence': 13205, 'voting': 13206, 'gwayne': 13207, 'quaynis': 13208, 'betrothals': 13209, 'sculptor': 13210, 'inferior': 13211, 'polly': 13212, 'omit': 13213, 'oswald': 13214, 'forceful': 13215, 'ithoke': 13216, 'st': 13217, 'poleboats': 13218, 'combats': 13219, 'bonesnappers': 13220, 'unbuckled': 13221, 'marking': 13222, 'stringed': 13223, 'devising': 13224, 'ideal': 13225, 'profits': 13226, 'eloquent': 13227, 'indifference': 13228, 'reopening': 13229, 'blackheads': 13230, 'informing': 13231, 'reckoned': 13232, 'gobbet': 13233, 'adding': 13234, 'extend': 13235, 'shakes': 13236, 'lowbom': 13237, 'unfailingly': 13238, 'mela': 13239, 'aspires': 13240, 'helly': 13241, 'jyzene': 13242, 'incursions': 13243, 'skane': 13244, 'hazzat': 13245, 'epilogue': 13246, 'damnably': 13247, 'bloodraven': 13248, 'cass': 13249, 'belis': 13250, 'strongs': 13251, 'ridiculous': 13252, 'explanations': 13253, 'science': 13254, 'john': 13255, 'townsmen': 13256, 'kith': 13257, 'ny': 13258, 'craw': 13259, 'chastisement': 13260, 'leeching': 13261, 'onstone': 13262, 'impress': 13263, 'benedar': 13264, 'achieved': 13265, 'strongsong': 13266, 'practically': 13267, 'seduction': 13268, 'gossiping': 13269, 'accounted': 13270, 'mountainous': 13271, 'changers': 13272, 'nanny': 13273, 'nooks': 13274, 'sessions': 13275, 'moreland': 13276, 'parti': 13277, 'riverman': 13278, 'gains': 13279, 'raspy': 13280, 'vertical': 13281, 'forms': 13282, 'fans': 13283, 'uncorked': 13284, 'mossador': 13285, 'fused': 13286, 'veritable': 13287, 'zekko': 13288, 'rolley': 13289, 'selhoru': 13290, 'laggards': 13291, 'maddest': 13292, 'huffing': 13293, 'worshiper': 13294, 'lapses': 13295, 'hump': 13296, 'blackthorn': 13297, 'entangled': 13298, 'fletcher': 13299, 'lulls': 13300, 'eyeless': 13301, 'steepest': 13302, 'westward': 13303, 'horselines': 13304, 'prosperity': 13305, 'exhaled': 13306, 'straggled': 13307, 'nip': 13308, 'joth': 13309, 'fishy': 13310, 'jiggling': 13311, 'fishermonger': 13312, 'harmund': 13313, 'ynys': 13314, 'ullhor': 13315, 'ferny': 13316, 'dyah': 13317, 'gwyneth': 13318, 'farwynds': 13319, 'groats': 13320, 'slink': 13321, 'vambraces': 13322, 'crackbones': 13323, 'andalos': 13324, 'divulge': 13325, 'norne': 13326, 'crabbs': 13327, 'betoken': 13328, 'banished': 13329, 'namedays': 13330, 'motho': 13331, 'eldred': 13332, 'albino': 13333, 'surmised': 13334, 'alvyn': 13335, 'munkun': 13336, 'securing': 13337, 'swig': 13338, 'actions': 13339, 'forthwith': 13340, 'abovedecks': 13341, 'limber': 13342, 'squeamish': 13343, 'churls': 13344, 'introduced': 13345, 'outspoken': 13346, 'delivers': 13347, 'serenely': 13348, 'repayment': 13349, 'parries': 13350, 'ironwoods': 13351, 'nurtured': 13352, 'broached': 13353, 'securely': 13354, 'steely': 13355, 'essential': 13356, 'atangle': 13357, 'type': 13358, 'espoused': 13359, 'bluntness': 13360, 'dialects': 13361, 'parsnips': 13362, 'fralegg': 13363, 'drains': 13364, 'aspired': 13365, 'dragonlord': 13366, 'korra': 13367, 'shandystone': 13368, 'unaware': 13369, 'shark': 13370, 'legitimacy': 13371, 'absorbed': 13372, 'redwoods': 13373, 'wrest': 13374, 'warhelm': 13375, 'decked': 13376, 'greyish': 13377, 'advisors': 13378, 'goosebumps': 13379, 'mated': 13380, 'quilting': 13381, 'rapped': 13382, 'nightflyer': 13383, 'bedslaves': 13384, 'surname': 13385, 'overreached': 13386, 'walnuts': 13387, 'chuck': 13388, 'henk': 13389, 'hostility': 13390, 'landlord': 13391, 'waged': 13392, 'oubliettes': 13393, 'kemmett': 13394, 'moontown': 13395, 'beehives': 13396, 'wardens': 13397, 'caved': 13398, 'fades': 13399, 'testify': 13400, 'jace': 13401, 'ewer': 13402, 'affliction': 13403, 'mash': 13404, 'jeers': 13405, 'scarb': 13406, 'dingy': 13407, 'harlen': 13408, 'aglantine': 13409, 'saggy': 13410, 'spiceflower': 13411, 'cattery': 13412, 'spooning': 13413, 'gaudy': 13414, 'adventurers': 13415, 'riverlords': 13416, 'pisses': 13417, 'sizzling': 13418, 'delonne': 13419, 'rulers': 13420, 'homvale': 13421, 'readers': 13422, 'otters': 13423, 'noisier': 13424, 'nymella': 13425, 'edmyn': 13426, 'shovel': 13427, 'lorcas': 13428, 'falsehoods': 13429, 'pimpled': 13430, 'collossal': 13431, 'offending': 13432, 'chucked': 13433, 'moonshadow': 13434, 'shipping': 13435, 'brew': 13436, 'axemen': 13437, 'poultices': 13438, 'blob': 13439, 'toweled': 13440, 'silverwing': 13441, 'excrement': 13442, 'confessor': 13443, 'counterchanged': 13444, 'worlds': 13445, 'championed': 13446, 'caresses': 13447, 'myres': 13448, 'marywn': 13449, 'leniency': 13450, 'longbowmen': 13451, 'waggle': 13452, 'bloodlust': 13453, 'goldenhand': 13454, 'bluster': 13455, 'mannish': 13456, 'quicken': 13457, 'cotton': 13458, 'makeshift': 13459, 'flagstone': 13460, 'warhom': 13461, 'midmorning': 13462, 'shoveling': 13463, 'urgency': 13464, 'buns': 13465, 'emma': 13466, 'glamors': 13467, 'tucking': 13468, 'newer': 13469, 'clam': 13470, 'hangwoman': 13471, 'straightening': 13472, 'whelping': 13473, 'blackcrown': 13474, 'remainder': 13475, 'commence': 13476, 'brickmaker': 13477, 'controlled': 13478, 'feature': 13479, 'greyiron': 13480, 'changeable': 13481, 'shrugging': 13482, 'lanny': 13483, 'grating': 13484, 'apprehensive': 13485, 'merrel': 13486, 'massaged': 13487, 'supplicant': 13488, 'danny': 13489, 'orbelo': 13490, 'torwyrd': 13491, 'wagers': 13492, 'eric': 13493, 'fe': 13494, 'riffling': 13495, 'leer': 13496, 'responses': 13497, 'fined': 13498, 'acknowledgments': 13499, 'aegor': 13500, 'kingslaying': 13501, 'betrayers': 13502, 'charmed': 13503, 'grasps': 13504, 'portifer': 13505, 'rectify': 13506, 'hurtful': 13507, 'homed': 13508, 'loveliness': 13509, 'lyra': 13510, 'exceeded': 13511, 'embattled': 13512, 'gangling': 13513, 'coles': 13514, 'lorimer': 13515, 'supervise': 13516, 'clarity': 13517, 'readiness': 13518, 'smite': 13519, 'kinsman': 13520, 'major': 13521, 'maternal': 13522, 'brimming': 13523, 'breezes': 13524, 'kingfisher': 13525, 'extensive': 13526, 'duller': 13527, 'shouldering': 13528, 'santa': 13529, 'harsher': 13530, 'whirlpools': 13531, 'campsite': 13532, 'reckoning': 13533, 'stools': 13534, 'girdle': 13535, 'scrapes': 13536, 'ledger': 13537, 'vaulting': 13538, 'minions': 13539, 'necromancer': 13540, 'swallows': 13541, 'starmis': 13542, 'prendos': 13543, 'jonelle': 13544, 'wavy': 13545, 'entertainments': 13546, 'sprung': 13547, 'sinkhole': 13548, 'deprived': 13549, 'severe': 13550, 'illuminations': 13551, 'regenard': 13552, 'wyndhall': 13553, 'quenten': 13554, 'caressing': 13555, 'excites': 13556, 'myria': 13557, 'lanster': 13558, 'selmond': 13559, 'plied': 13560, 'balm': 13561, 'jynessa': 13562, 'gascoyne': 13563, 'eglantine': 13564, 'delude': 13565, 'selfsame': 13566, 'perros': 13567, 'jiggled': 13568, 'voyager': 13569, 'looping': 13570, 'arson': 13571, 'floral': 13572, 'spymaster': 13573, 'errands': 13574, 'yearns': 13575, 'seventeenth': 13576, 'ar': 13577, 'enslave': 13578, 'wealthiest': 13579, 'saturnine': 13580, 'taunt': 13581, 'polishing': 13582, 'ladybright': 13583, 'vermilion': 13584, 'govern': 13585, 'grotto': 13586, 'alyse': 13587, 'watkyn': 13588, 'profoundly': 13589, 'longsister': 13590, 'longthorpe': 13591, 'motives': 13592, 'poacher': 13593, 'kingmaker': 13594, 'designed': 13595, 'hammocks': 13596, 'concealment': 13597, 'swooping': 13598, 'espied': 13599, 'artfully': 13600, 'scepter': 13601, 'distantly': 13602, 'chord': 13603, 'bland': 13604, 'pausing': 13605, 'skittering': 13606, 'skinnier': 13607, 'brayed': 13608, 'ly': 13609, 'sunburnt': 13610, 'whacked': 13611, 'aftermath': 13612, 'manacled': 13613, 'compete': 13614, 'skyte': 13615, 'thriving': 13616, 'gnats': 13617, 'unsay': 13618, 'runaway': 13619, 'bedridden': 13620, 'tracking': 13621, 'reasonably': 13622, 'footfall': 13623, 'marred': 13624, 'piously': 13625, 'instantly': 13626, 'tilts': 13627, 'composure': 13628, 'renew': 13629, 'allows': 13630, 'humbles': 13631, 'acquitted': 13632, 'ardor': 13633, 'cleverer': 13634, 'scullions': 13635, 'gateway': 13636, 'hog': 13637, 'surefoot': 13638, 'unsung': 13639, 'thith': 13640, 'guested': 13641, 'medicines': 13642, 'caparisoned': 13643, 'behaved': 13644, 'flery': 13645, 'fuller': 13646, 'greyer': 13647, 'occur': 13648, 'smoldered': 13649, 'fascinating': 13650, 'unfortunately': 13651, 'enraged': 13652, 'investiture': 13653, 'betrays': 13654, 'unforgiving': 13655, 'suspects': 13656, 'unique': 13657, 'scanned': 13658, 'feat': 13659, 'apply': 13660, 'casterlys': 13661, 'winkled': 13662, 'births': 13663, 'irksome': 13664, 'blatant': 13665, 'nerve': 13666, 'shallower': 13667, 'conspicuously': 13668, 'occupation': 13669, 'bemused': 13670, 'horseshit': 13671, 'challenger': 13672, 'passageway': 13673, 'inky': 13674, 'sagely': 13675, 'harps': 13676, 'readied': 13677, 'sorrier': 13678, 'pulsed': 13679, 'dullard': 13680, 'bullheaded': 13681, 'whisker': 13682, 'knighthoods': 13683, 'varly': 13684, 'journeyman': 13685, 'crutches': 13686, 'smug': 13687, 'strolling': 13688, 'compare': 13689, 'razors': 13690, 'ironmongers': 13691, 'barnacles': 13692, 'commonly': 13693, 'frogeater': 13694, 'flerce': 13695, 'varnish': 13696, 'chiding': 13697, 'jen': 13698, 'ex': 13699, 'prospered': 13700, 'oat': 13701, 'twinkling': 13702, 'pondering': 13703, 'apologetically': 13704, 'invincible': 13705, 'musings': 13706, 'claimant': 13707, 'biscuit': 13708, 'doted': 13709, 'accost': 13710, 'sheaves': 13711, 'shavings': 13712, 'zenith': 13713, 'coppersmith': 13714, 'wynd': 13715, 'ensconced': 13716, 'wafting': 13717, 'yoke': 13718, 'chidings': 13719, 'conflagration': 13720, 'conical': 13721, 'dueled': 13722, 'wrongly': 13723, 'catastrophe': 13724, 'squarely': 13725, 'tad': 13726, 'hew': 13727, 'trilling': 13728, 'exist': 13729, 'contemplated': 13730, 'penetrated': 13731, 'outsider': 13732, 'opposition': 13733, 'tragedy': 13734, 'brightest': 13735, 'cozy': 13736, 'acquaintance': 13737, 'galling': 13738, 'fluffed': 13739, 'attest': 13740, 'frying': 13741, 'collarbone': 13742, 'chirping': 13743, 'bouquet': 13744, 'sweetbreads': 13745, 'rill': 13746, 'tainted': 13747, 'guardian': 13748, 'ineffectual': 13749, 'craters': 13750, 'arcing': 13751, 'snored': 13752, 'shorthand': 13753, 'befalls': 13754, 'revelry': 13755, 'spicing': 13756, 'locking': 13757, 'cordon': 13758, 'hateful': 13759, 'clanked': 13760, 'basted': 13761, 'effortless': 13762, 'inhaled': 13763, 'narrowest': 13764, 'lojen': 13765, 'needless': 13766, 'meadow': 13767, 'unfolding': 13768, 'chuckles': 13769, 'hellhound': 13770, 'equipped': 13771, 'twohanded': 13772, 'hastening': 13773, 'bong': 13774, 'clong': 13775, 'pawing': 13776, 'pouted': 13777, 'wynches': 13778, 'stifle': 13779, 'praises': 13780, 'twitches': 13781, 'clucking': 13782, 'blazon': 13783, 'fondled': 13784, 'maidservant': 13785, 'witty': 13786, 'attends': 13787, 'knob': 13788, 'disowned': 13789, 'appetizing': 13790, 'tripled': 13791, 'martial': 13792, 'gashed': 13793, 'ramming': 13794, 'drumbeats': 13795, 'collision': 13796, 'foretell': 13797, 'inferno': 13798, 'recruited': 13799, 'tangling': 13800, 'debris': 13801, 'pumpkins': 13802, 'pennons': 13803, 'cheating': 13804, 'thorn': 13805, 'boost': 13806, 'greygreen': 13807, 'swath': 13808, 'create': 13809, 'fences': 13810, 'orchard': 13811, 'drill': 13812, 'warhammers': 13813, 'examining': 13814, 'boarders': 13815, 'barre': 13816, 'jenna': 13817, 'unspoiled': 13818, 'capacity': 13819, 'ballast': 13820, 'foundered': 13821, 'calmer': 13822, 'considerable': 13823, 'centaurs': 13824, 'clothof': 13825, 'fennel': 13826, 'distinctive': 13827, 'bribed': 13828, 'resourceful': 13829, 'swoosh': 13830, 'opined': 13831, 'seaflower': 13832, 'carrack': 13833, 'adorn': 13834, 'sprays': 13835, 'thrumming': 13836, 'birthed': 13837, 'racking': 13838, 'inspired': 13839, 'drilled': 13840, 'treetops': 13841, 'admirable': 13842, 'trains': 13843, 'colleagues': 13844, 'encrusted': 13845, 'ya': 13846, 'pah': 13847, 'wiles': 13848, 'braved': 13849, 'gaming': 13850, 'grudged': 13851, 'ravages': 13852, 'trundled': 13853, 'archways': 13854, 'angled': 13855, 'immensely': 13856, 'wallowing': 13857, 'amusements': 13858, 'isolated': 13859, 'malign': 13860, 'skulked': 13861, 'ably': 13862, 'doorways': 13863, 'pathway': 13864, 'garish': 13865, 'gossips': 13866, 'envious': 13867, 'deadfalls': 13868, 'fuel': 13869, 'surging': 13870, 'handlers': 13871, 'armpit': 13872, 'cargoes': 13873, 'overhear': 13874, 'concubines': 13875, 'joyful': 13876, 'natured': 13877, 'summers': 13878, 'forswore': 13879, 'beady': 13880, 'deserting': 13881, 'fainted': 13882, 'cartwheel': 13883, 'knell': 13884, 'lurk': 13885, 'stirs': 13886, 'cruise': 13887, 'passions': 13888, 'broadened': 13889, 'inept': 13890, 'detach': 13891, 'wolfhounds': 13892, 'maidservants': 13893, 'eddied': 13894, 'bins': 13895, 'indicating': 13896, 'reverently': 13897, 'paragon': 13898, 'doings': 13899, 'shrilled': 13900, 'oilstone': 13901, 'mentions': 13902, 'thickening': 13903, 'bin': 13904, 'someones': 13905, 'plugged': 13906, 'livelier': 13907, 'plummeted': 13908, 'smokeberry': 13909, 'pudgy': 13910, 'peeping': 13911, 'harbinger': 13912, 'stalk': 13913, 'storied': 13914, 'likelihood': 13915, 'grated': 13916, 'funniest': 13917, 'baiting': 13918, 'derived': 13919, 'brats': 13920, 'crusts': 13921, 'waterfalls': 13922, 'expel': 13923, 'madwoman': 13924, 'footpaths': 13925, 'sleeper': 13926, 'preyed': 13927, 'deceiver': 13928, 'chittering': 13929, 'pounds': 13930, 'unbalanced': 13931, 'wheelbarrow': 13932, 'bladders': 13933, 'alder': 13934, 'shading': 13935, 'folding': 13936, 'unmake': 13937, 'generation': 13938, 'japery': 13939, 'forlornly': 13940, 'pestilence': 13941, 'domains': 13942, 'felted': 13943, 'reminder': 13944, 'fry': 13945, 'retrieve': 13946, 'belatedly': 13947, 'stairway': 13948, 'redwood': 13949, 'specter': 13950, 'startling': 13951, 'mutilated': 13952, 'washer': 13953, 'lumber': 13954, 'incoherently': 13955, 'topside': 13956, 'workers': 13957, 'despaired': 13958, 'hummed': 13959, 'bowshot': 13960, 'wanderings': 13961, 'lineages': 13962, 'creamy': 13963, 'conspiracy': 13964, 'uncovered': 13965, 'eyeing': 13966, 'injury': 13967, 'toehold': 13968, 'slitting': 13969, 'consequences': 13970, 'chinked': 13971, 'transport': 13972, 'cozen': 13973, 'celebrating': 13974, 'honeycombs': 13975, 'usurp': 13976, 'belonging': 13977, 'discomfort': 13978, 'sop': 13979, 'unannounced': 13980, 'feces': 13981, 'riverbanks': 13982, 'scold': 13983, 'queenly': 13984, 'shameless': 13985, 'rigid': 13986, 'protestations': 13987, 'quip': 13988, 'profaned': 13989, 'stocked': 13990, 'stirrings': 13991, 'lugged': 13992, 'lops': 13993, 'opens': 13994, 'rupture': 13995, 'emboldened': 13996, 'fatted': 13997, 'stoppered': 13998, 'damask': 13999, 'berserk': 14000, 'flavor': 14001, 'groggily': 14002, 'cheekbone': 14003, 'unarmored': 14004, 'obsequious': 14005, 'luxury': 14006, 'energetic': 14007, 'prickling': 14008, 'flitted': 14009, 'onlookers': 14010, 'congenial': 14011, 'bazaars': 14012, 'encircle': 14013, 'esteemed': 14014, 'rugs': 14015, 'umar': 14016, 'hailing': 14017, 'squishing': 14018, 'fogo': 14019, 'situated': 14020, 'andgold': 14021, 'commoners': 14022, 'milled': 14023, 'chorused': 14024, 'rakh': 14025, 'amply': 14026, 'roiled': 14027, 'disloyal': 14028, 'whomever': 14029, 'moreover': 14030, 'sputter': 14031, 'goad': 14032, 'heeded': 14033, 'quarried': 14034, 'fullers': 14035, 'crags': 14036, 'deadwood': 14037, 'warcraft': 14038, 'original': 14039, 'tethered': 14040, 'ditched': 14041, 'stonecarver': 14042, 'restlessness': 14043, 'blueberries': 14044, 'fruitlessly': 14045, 'ke': 14046, 'nimbus': 14047, 'broadleafs': 14048, 'demonic': 14049, 'yestermorn': 14050, 'twixt': 14051, 'checking': 14052, 'itches': 14053, 'stated': 14054, 'unquiet': 14055, 'undeniably': 14056, 'clench': 14057, 'monstrosity': 14058, 'reporting': 14059, 'petitions': 14060, 'encouraged': 14061, 'beseeched': 14062, 'willum': 14063, 'transforming': 14064, 'moats': 14065, 'vouchsafe': 14066, 'stanch': 14067, 'granting': 14068, 'instants': 14069, 'winking': 14070, 'boyman': 14071, 'unchivalrous': 14072, 'lowland': 14073, 'bade': 14074, 'reproachfully': 14075, 'orphaned': 14076, 'flatly': 14077, 'tenths': 14078, 'stammering': 14079, 'touches': 14080, 'delusions': 14081, 'yowling': 14082, 'stammer': 14083, 'copiously': 14084, 'plug': 14085, 'fatherly': 14086, 'lordships': 14087, 'leash': 14088, 'jeered': 14089, 'nuzzle': 14090, 'smudge': 14091, 'halffielm': 14092, 'agitated': 14093, 'tiniest': 14094, 'bumps': 14095, 'mustaches': 14096, 'teardrops': 14097, 'unscathed': 14098, 'sonorous': 14099, 'ropy': 14100, 'saucers': 14101, 'befuddled': 14102, 'firewine': 14103, 'booth': 14104, 'cupping': 14105, 'countryside': 14106, 'smiley': 14107, 'yaya': 14108, 'unloading': 14109, 'marries': 14110, 'profane': 14111, 'vigor': 14112, 'strictly': 14113, 'brooches': 14114, 'undercroft': 14115, 'grilling': 14116, 'queerest': 14117, 'retainer': 14118, 'discovery': 14119, 'topmost': 14120, 'outdo': 14121, 'pounced': 14122, 'flasks': 14123, 'probing': 14124, 'tothmure': 14125, 'fertility': 14126, 'exposing': 14127, 'bunghole': 14128, 'tsking': 14129, 'elected': 14130, 'sunny': 14131, 'ravenry': 14132, 'negligently': 14133, 'foliage': 14134, 'blotted': 14135, 'writhe': 14136, 'lifts': 14137, 'slinking': 14138, 'disinherited': 14139, 'proposals': 14140, 'mayhap': 14141, 'unmade': 14142, 'blackbar': 14143, 'estimate': 14144, 'squawking': 14145, 'fierceness': 14146, 'applied': 14147, 'flaws': 14148, 'measures': 14149, 'globs': 14150, 'seaward': 14151, 'mopping': 14152, 'concealing': 14153, 'derik': 14154, 'bracelet': 14155, 'obliging': 14156, 'yap': 14157, 'potboys': 14158, 'shearing': 14159, 'heiman': 14160, 'crumpled': 14161, 'wiggling': 14162, 'blindingly': 14163, 'piercing': 14164, 'wounding': 14165, 'coronation': 14166, 'encircling': 14167, 'tanners': 14168, 'batter': 14169, 'bloodred': 14170, 'unheard': 14171, 'frightful': 14172, 'jawed': 14173, 'matt': 14174, 'jarred': 14175, 'shyer': 14176, 'needful': 14177, 'leak': 14178, 'camping': 14179, 'stifling': 14180, 'stablehands': 14181, 'ironbound': 14182, 'softest': 14183, 'fearfully': 14184, 'flattery': 14185, 'afoul': 14186, 'bleat': 14187, 'pumpkin': 14188, 'placidly': 14189, 'beading': 14190, 'pushcart': 14191, 'waycastles': 14192, 'firemage': 14193, 'feigning': 14194, 'district': 14195, 'unsupported': 14196, 'triumphs': 14197, 'spawn': 14198, 'olden': 14199, 'impassive': 14200, 'assures': 14201, 'phantoms': 14202, 'diligently': 14203, 'boredom': 14204, 'civilized': 14205, 'thunderbolts': 14206, 'apologizing': 14207, 'rhaggat': 14208, 'clamored': 14209, 'consciousness': 14210, 'enthroned': 14211, 'whisking': 14212, 'sizes': 14213, 'densely': 14214, 'mathos': 14215, 'winded': 14216, 'downhill': 14217, 'mallarawan': 14218, 'crease': 14219, 'lacings': 14220, 'anyn': 14221, 'bunched': 14222, 'trifles': 14223, 'sheltering': 14224, 'andstars': 14225, 'dimmer': 14226, 'horrorstruck': 14227, 'flre': 14228, 'aggrieved': 14229, 'complacent': 14230, 'troupes': 14231, 'foulsmelling': 14232, 'guildhalls': 14233, 'resounding': 14234, 'channels': 14235, 'dampened': 14236, 'exists': 14237, 'dizziness': 14238, 'ere': 14239, 'gemstone': 14240, 'hunkered': 14241, 'nations': 14242, 'mightily': 14243, 'grandeur': 14244, 'yowled': 14245, 'elude': 14246, 'northerner': 14247, 'unceremoniously': 14248, 'tends': 14249, 'shins': 14250, 'mordant': 14251, 'gang': 14252, 'routes': 14253, 'ingratitude': 14254, 'advances': 14255, 'rut': 14256, 'unshipped': 14257, 'spoor': 14258, 'unpunished': 14259, 'noting': 14260, 'pads': 14261, 'oppressive': 14262, 'disaster': 14263, 'cluttered': 14264, 'stubs': 14265, 'quorks': 14266, 'craves': 14267, 'luxuriant': 14268, 'purpled': 14269, 'untroubled': 14270, 'ferret': 14271, 'urchin': 14272, 'gutting': 14273, 'wraiths': 14274, 'gamble': 14275, 'blameless': 14276, 'withhold': 14277, 'repeat': 14278, 'smokily': 14279, 'prays': 14280, 'busied': 14281, 'splinted': 14282, 'lya': 14283, 'suitably': 14284, 'knuckly': 14285, 'shameful': 14286, 'husks': 14287, 'loveliest': 14288, 'surest': 14289, 'gay': 14290, 'permons': 14291, 'landscape': 14292, 'rabbitskin': 14293, 'outright': 14294, 'berry': 14295, 'embroidery': 14296, 'reproachful': 14297, 'sisterly': 14298, 'openmouthed': 14299, 'misunderstood': 14300, 'possibility': 14301, 'singsong': 14302, 'fatherless': 14303, 'receives': 14304, 'tempers': 14305, 'doughty': 14306, 'offends': 14307, 'intimate': 14308, 'trample': 14309, 'humpbacked': 14310, 'elevate': 14311, 'highly': 14312, 'ventures': 14313, 'dreamy': 14314, 'hourly': 14315, 'recovering': 14316, 'haltingly': 14317, 'thornbush': 14318, 'equip': 14319, 'thinned': 14320, 'strangeness': 14321, 'crinet': 14322, 'stubbled': 14323, 'travesty': 14324, 'midthigh': 14325, 'deepest': 14326, 'snatches': 14327, 'flanking': 14328, 'shear': 14329, 'pump': 14330, 'cunny': 14331, 'backslash': 14332, 'unfold': 14333, 'charnfron': 14334, 'pulsing': 14335, 'specially': 14336, 'misspoke': 14337, 'wrapping': 14338, 'riddled': 14339, 'nooses': 14340, 'chink': 14341, 'escapes': 14342, 'undisciplined': 14343, 'cavalry': 14344, 'headsmen': 14345, 'girding': 14346, 'kindnesses': 14347, 'reverence': 14348, 'coax': 14349, 'prisoned': 14350, 'opportunity': 14351, 'crave': 14352, 'elated': 14353, 'overproud': 14354, 'array': 14355, 'sunshine': 14356, 'savaging': 14357, 'rays': 14358, 'splotch': 14359, 'stringing': 14360, 'stupidity': 14361, 'overly': 14362, 'seagull': 14363, 'shots': 14364, 'deliberately': 14365, 'harrying': 14366, 'establishment': 14367, 'steers': 14368, 'mountaintop': 14369, 'scraggly': 14370, 'fairs': 14371, 'slouching': 14372, 'unsightly': 14373, 'oftimes': 14374, 'pleasantries': 14375, 'yearn': 14376, 'lunge': 14377, 'erena': 14378, 'dodging': 14379, 'continues': 14380, 'brambles': 14381, 'snack': 14382, 'roasts': 14383, 'compel': 14384, 'slyly': 14385, 'tracked': 14386, 'dogged': 14387, 'cretin': 14388, 'spurting': 14389, 'disappearing': 14390, 'jurne': 14391, 'exaggerated': 14392, 'testing': 14393, 'whet': 14394, 'icily': 14395, 'wolfish': 14396, 'duram': 14397, 'lightfoot': 14398, 'marsella': 14399, 'dafyn': 14400, 'hurled': 14401, 'kingslayers': 14402, 'pictures': 14403, 'mylenda': 14404, 'judgments': 14405, 'janyce': 14406, 'corenna': 14407, 'hilltop': 14408, 'blossomed': 14409, 'rycherd': 14410, 'alekyne': 14411, 'rylene': 14412, 'restoring': 14413, 'ady': 14414, 'restoration': 14415, 'mistreated': 14416, 'hosman': 14417, 'melessa': 14418, 'jumping': 14419, 'courtier': 14420, 'inexhaustible': 14421, 'rug': 14422, 'patchy': 14423, 'liable': 14424, 'substitute': 14425, 'rescues': 14426, 'allowing': 14427, 'rabbitskins': 14428, 'catches': 14429, 'oakhearts': 14430, 'mauled': 14431, 'pressure': 14432, 'entwined': 14433, 'musky': 14434, 'praising': 14435, 'religious': 14436, 'sultry': 14437, 'decrees': 14438, 'slant': 14439, 'flax': 14440, 'horny': 14441, 'malignant': 14442, 'panel': 14443, 'earns': 14444, 'concede': 14445, 'spatters': 14446, 'gaining': 14447, 'tenacious': 14448, 'halfdozen': 14449, 'ridding': 14450, 'snowbeard': 14451, 'compact': 14452, 'relations': 14453, 'hamstrung': 14454, 'baser': 14455, 'distracting': 14456, 'brightfire': 14457, 'hmmmm': 14458, 'includes': 14459, 'thornbushes': 14460, 'elders': 14461, 'overhand': 14462, 'calor': 14463, 'appendix': 14464, 'emotion': 14465, 'shadowblack': 14466, 'slighted': 14467, 'lasts': 14468, 'formally': 14469, 'breads': 14470, 'plumpness': 14471, 'smouldering': 14472, 'crock': 14473, 'downpour': 14474, 'graced': 14475, 'tenderness': 14476, 'frosty': 14477, 'threading': 14478, 'handship': 14479, 'pleasuring': 14480, 'dower': 14481, 'spurted': 14482, 'hallooing': 14483, 'simultaneously': 14484, 'predecessors': 14485, 'plaything': 14486, 'mern': 14487, 'whining': 14488, 'diminish': 14489, 'profound': 14490, 'trafficked': 14491, 'sathmantes': 14492, 'dragonfly': 14493, 'colmar': 14494, 'affirmed': 14495, 'jyanna': 14496, 'merianne': 14497, 'tumberjon': 14498, 'sylwa': 14499, 'sallei': 14500, 'emberlei': 14501, 'tysane': 14502, 'expelled': 14503, 'leonella': 14504, 'mom': 14505, 'smartly': 14506, 'avarice': 14507, 'stilt': 14508, 'dissimilar': 14509, 'rowboat': 14510, 'tearful': 14511, 'chronology': 14512, 'outrange': 14513, 'aladale': 14514, 'otter': 14515, 'singe': 14516, 'hefting': 14517, 'begrudge': 14518, 'eighteenth': 14519, 'impulse': 14520, 'excess': 14521, 'pinions': 14522, 'hoooodor': 14523, 'collectors': 14524, 'invaluable': 14525, 'unnerved': 14526, 'gobbled': 14527, 'oarmen': 14528, 'darlessa': 14529, 'vhaghar': 14530, 'niter': 14531, 'venal': 14532, 'arisen': 14533, 'stonn': 14534, 'raze': 14535, 'beony': 14536, 'panicked': 14537, 'uncommon': 14538, 'hawick': 14539, 'bellena': 14540, 'discord': 14541, 'sparingly': 14542, 'clipped': 14543, 'glazed': 14544, 'zachery': 14545, 'filtering': 14546, 'searches': 14547, 'zia': 14548, 'blanetree': 14549, 'comers': 14550, 'cynthea': 14551, 'zhoe': 14552, 'unsatisfactory': 14553, 'tyana': 14554, 'nuggets': 14555, 'nuzzling': 14556, 'squinty': 14557, 'healthiest': 14558, 'straighter': 14559, 'melesa': 14560, 'considerate': 14561, 'deana': 14562, 'debtors': 14563, 'looms': 14564, 'unintelligible': 14565, 'heartsick': 14566, 'heartily': 14567, 'carolei': 14568, 'shoo': 14569, 'disarm': 14570, 'hatches': 14571, 'mousy': 14572, 'wynafrei': 14573, 'arbors': 14574, 'tendyris': 14575, 'oro': 14576, 'vessel': 14577, 'hank': 14578, 'bradamar': 14579, 'loan': 14580, 'weaknesses': 14581, 'betharios': 14582, 'aloof': 14583, 'documents': 14584, 'flocked': 14585, 'loyalists': 14586, 'androw': 14587, 'pathetic': 14588, 'smuggled': 14589, 'slump': 14590, 'recruiters': 14591, 'slack': 14592, 'bome': 14593, 'obeys': 14594, 'treasured': 14595, 'avert': 14596, 'battlement': 14597, 'pennylover': 14598, 'staedmon': 14599, 'developed': 14600, 'reassurance': 14601, 'incapable': 14602, 'gradually': 14603, 'bovine': 14604, 'respectively': 14605, 'splotches': 14606, 'vouch': 14607, 'warharnmer': 14608, 'unremarked': 14609, 'deeps': 14610, 'expense': 14611, 'flagging': 14612, 'inquiry': 14613, 'lovelier': 14614, 'necromancy': 14615, 'doddering': 14616, 'chick': 14617, 'wronged': 14618, 'foaming': 14619, 'mangonels': 14620, 'outlines': 14621, 'tenfold': 14622, 'deepset': 14623, 'cranes': 14624, 'meanest': 14625, 'landward': 14626, 'sylas': 14627, 'bentback': 14628, 'perforce': 14629, 'monts': 14630, 'proceedings': 14631, 'homecoming': 14632, 'stage': 14633, 'flare': 14634, 'rainfall': 14635, 'pursued': 14636, 'affronted': 14637, 'especial': 14638, 'platinum': 14639, 'lifelike': 14640, 'paints': 14641, 'glorgl': 14642, 'littleflnger': 14643, 'turquoise': 14644, 'beforehand': 14645, 'squad': 14646, 'beaming': 14647, 'littler': 14648, 'stonehouses': 14649, 'division': 14650, 'dressings': 14651, 'detailed': 14652, 'shin': 14653, 'fanfare': 14654, 'greenpools': 14655, 'limit': 14656, 'gorgeous': 14657, 'unmercifully': 14658, 'months': 14659, 'prospects': 14660, 'willit': 14661, 'indistinct': 14662, 'lobster': 14663, 'cautions': 14664, 'flirting': 14665, 'priestly': 14666, 'whispery': 14667, 'adults': 14668, 'enigmatically': 14669, 'honeycakes': 14670, 'beseech': 14671, 'tormentors': 14672, 'rivulet': 14673, 'achieve': 14674, 'challenging': 14675, 'loser': 14676, 'prank': 14677, 'trackless': 14678, 'drives': 14679, 'alabaster': 14680, 'dandled': 14681, 'embarrassing': 14682, 'shipwrights': 14683, 'titters': 14684, 'ruining': 14685, 'fathering': 14686, 'marts': 14687, 'tack': 14688, 'presumably': 14689, 'consummate': 14690, 'thickets': 14691, 'rancor': 14692, 'nurses': 14693, 'barbaric': 14694, 'rantings': 14695, 'obscure': 14696, 'porcelain': 14697, 'char': 14698, 'testimony': 14699, 'icing': 14700, 'peacefully': 14701, 'tongueless': 14702, 'mng': 14703, 'discomfit': 14704, 'pattered': 14705, 'clamped': 14706, 'eons': 14707, 'belled': 14708, 'stripe': 14709, 'resent': 14710, 'bridles': 14711, 'biding': 14712, 'smirk': 14713, 'aswarm': 14714, 'quork': 14715, 'dyes': 14716, 'mantles': 14717, 'seamstresses': 14718, 'exertion': 14719, 'fungus': 14720, 'foundering': 14721, 'crossbar': 14722, 'calfskin': 14723, 'funnel': 14724, 'blasphemies': 14725, 'fleld': 14726, 'unjust': 14727, 'selected': 14728, 'snag': 14729, 'quintains': 14730, 'limply': 14731, 'cuffs': 14732, 'collection': 14733, 'cox': 14734, 'sickeningly': 14735, 'pursuer': 14736, 'perkin': 14737, 'ushanora': 14738, 'stoatish': 14739, 'solve': 14740, 'wheezing': 14741, 'emissary': 14742, 'bumpy': 14743, 'suckled': 14744, 'codpiece': 14745, 'stomachs': 14746, 'snuff': 14747, 'proctors': 14748, 'reliable': 14749, 'foghouse': 14750, 'tormo': 14751, 'explains': 14752, 'storks': 14753, 'boxes': 14754, 'straws': 14755, 'widdle': 14756, 'evilly': 14757, 'hellbent': 14758, 'uncomplaining': 14759, 'serrett': 14760, 'backswing': 14761, 'moneylender': 14762, 'moroggo': 14763, 'contemplation': 14764, 'hoops': 14765, 'smearing': 14766, 'entice': 14767, 'cloisters': 14768, 'stoats': 14769, 'retiring': 14770, 'haranguing': 14771, 'skewered': 14772, 'offshore': 14773, 'samites': 14774, 'deliverer': 14775, 'barbers': 14776, 'inexorable': 14777, 'windfall': 14778, 'ragtag': 14779, 'depose': 14780, 'frailer': 14781, 'longshoreman': 14782, 'halftnan': 14783, 'twill': 14784, 'jez': 14785, 'draining': 14786, 'contending': 14787, 'banked': 14788, 'rawney': 14789, 'markings': 14790, 'matron': 14791, 'unman': 14792, 'fregar': 14793, 'whisked': 14794, 'tressure': 14795, 'dowered': 14796, 'aided': 14797, 'legless': 14798, 'riffled': 14799, 'wharfs': 14800, 'lioncrested': 14801, 'flaunt': 14802, 'nickered': 14803, 'endearments': 14804, 'errant': 14805, 'readings': 14806, 'teamster': 14807, 'cobb': 14808, 'supplicants': 14809, 'inconvenience': 14810, 'sere': 14811, 'reverse': 14812, 'ron': 14813, 'gluttony': 14814, 'lessened': 14815, 'restrained': 14816, 'halys': 14817, 'cement': 14818, 'windless': 14819, 'waned': 14820, 'hallowed': 14821, 'stacking': 14822, 'perpetual': 14823, 'prohibit': 14824, 'waxed': 14825, 'impractical': 14826, 'snowman': 14827, 'bronzed': 14828, 'sweetening': 14829, 'loosening': 14830, 'voyages': 14831, 'rangy': 14832, 'befoul': 14833, 'woolly': 14834, 'penitent': 14835, 'atrocities': 14836, 'fogging': 14837, 'forebear': 14838, 'besiege': 14839, 'blighted': 14840, 'funnier': 14841, 'prevaricate': 14842, 'unpredictable': 14843, 'brigandine': 14844, 'recrossed': 14845, 'converged': 14846, 'boarding': 14847, 'stating': 14848, 'purplish': 14849, 'thrilling': 14850, 'forestalled': 14851, 'seagoing': 14852, 'trill': 14853, 'gullible': 14854, 'bloodfly': 14855, 'pedestal': 14856, 'tradesmen': 14857, 'disrobing': 14858, 'playfully': 14859, 'portents': 14860, 'hackles': 14861, 'shingles': 14862, 'alms': 14863, 'rhodry': 14864, 'tillers': 14865, 'evoked': 14866, 'nightmarish': 14867, 'avid': 14868, 'greycap': 14869, 'surgeons': 14870, 'bloodmage': 14871, 'temerity': 14872, 'squabbled': 14873, 'causing': 14874, 'throes': 14875, 'daaa': 14876, 'reprieve': 14877, 'burnings': 14878, 'bulky': 14879, 'snowbound': 14880, 'eros': 14881, 'revenants': 14882, 'geldings': 14883, 'expanded': 14884, 'flaunting': 14885, 'liberties': 14886, 'untrustworthy': 14887, 'indignantly': 14888, 'devoutly': 14889, 'grub': 14890, 'recognizably': 14891, 'dodge': 14892, 'betters': 14893, 'triangles': 14894, 'respectable': 14895, 'flurries': 14896, 'whooping': 14897, 'timeless': 14898, 'snowylocks': 14899, 'arousal': 14900, 'sharpest': 14901, 'crudely': 14902, 'preparation': 14903, 'reacted': 14904, 'humanity': 14905, 'debating': 14906, 'wolfsbane': 14907, 'continuation': 14908, 'plight': 14909, 'whirl': 14910, 'rituals': 14911, 'reinforced': 14912, 'viscera': 14913, 'blindeye': 14914, 'hunnerd': 14915, 'askance': 14916, 'greenhill': 14917, 'jax': 14918, 'thrower': 14919, 'woody': 14920, 'kinsmen': 14921, 'lucantine': 14922, 'crownlands': 14923, 'cleaving': 14924, 'woodwright': 14925, 'longtown': 14926, 'frees': 14927, 'landmarks': 14928, 'benjicot': 14929, 'disrobed': 14930, 'doth': 14931, 'gamesman': 14932, 'outcrops': 14933, 'celtigars': 14934, 'honeycombed': 14935, 'whoremonger': 14936, 'hags': 14937, 'travails': 14938, 'shipowner': 14939, 'maim': 14940, 'teamsters': 14941, 'nayland': 14942, 'subcellar': 14943, 'fuzzy': 14944, 'gleefully': 14945, 'stammerer': 14946, 'brunes': 14947, 'pods': 14948, 'steffar': 14949, 'benevolence': 14950, 'impose': 14951, 'bokkoko': 14952, 'righteousness': 14953, 'thormor': 14954, 'unlimbered': 14955, 'snuggled': 14956, 'grazdar': 14957, 'grimmer': 14958, 'mightier': 14959, 'greave': 14960, 'curds': 14961, 'istarion': 14962, 'indecisive': 14963, 'virtues': 14964, 'halfpennies': 14965, 'puzzling': 14966, 'signifies': 14967, 'hoots': 14968, 'raymond': 14969, 'sawyer': 14970, 'unholy': 14971, 'lemonsweet': 14972, 'hermitage': 14973, 'daynes': 14974, 'potential': 14975, 'battleaxes': 14976, 'alynne': 14977, 'gorgets': 14978, 'unperturbed': 14979, 'redspots': 14980, 'intruded': 14981, 'reduce': 14982, 'penchant': 14983, 'thronged': 14984, 'conningtons': 14985, 'vats': 14986, 'prohibited': 14987, 'boastful': 14988, 'jayn': 14989, 'conditions': 14990, 'eleventh': 14991, 'monarch': 14992, 'counters': 14993, 'seizing': 14994, 'sparrowhawk': 14995, 'webbed': 14996, 'rook': 14997, 'squisher': 14998, 'dyre': 14999, 'plumped': 15000, 'acutely': 15001, 'baldness': 15002, 'deformities': 15003, 'regroup': 15004, 'toughen': 15005, 'unopposed': 15006, 'rots': 15007, 'lore': 15008, 'visage': 15009, 'vainly': 15010, 'parrot': 15011, 'marvel': 15012, 'skirl': 15013, 'isbn': 15014, 'typeface': 15015, 'complicit': 15016, 'electra': 15017, 'belching': 15018, 'invested': 15019, 'hardhand': 15020, 'gallons': 15021, 'virtual': 15022, 'magician': 15023, 'computer': 15024, 'admirer': 15025, 'stephen': 15026, 'fishers': 15027, 'honeyfingers': 15028, 'belting': 15029, 'ltd': 15030, 'torcs': 15031, 'elegance': 15032, 'glided': 15033, 'sapped': 15034, 'byan': 15035, 'votyris': 15036, 'awnings': 15037, 'discount': 15038, 'quibbling': 15039, 'whosoever': 15040, 'gob': 15041, 'melts': 15042, 'affixed': 15043, 'forcibly': 15044, 'brewed': 15045, 'witticisms': 15046, 'noblemen': 15047, 'rotund': 15048, 'bardings': 15049, 'lho': 15050, 'ghostskin': 15051, 'impenetrable': 15052, 'romny': 15053, 'suckholes': 15054, 'wade': 15055, 'redpool': 15056, 'consternation': 15057, 'ib': 15058, 'spicy': 15059, 'winkles': 15060, 'trinkets': 15061, 'dhazzar': 15062, 'kettledrums': 15063, 'sample': 15064, 'tilled': 15065, 'whitefish': 15066, 'poring': 15067, 'spew': 15068, 'toraq': 15069, 'ostentatious': 15070, 'argilac': 15071, 'orys': 15072, 'thunderer': 15073, 'linmed': 15074, 'rebuffed': 15075, 'smokehole': 15076, 'issued': 15077, 'skittrick': 15078, 'education': 15079, 'sneer': 15080, 'raptly': 15081, 'midges': 15082, 'undeserved': 15083, 'jokin': 15084, 'wakened': 15085, 'sandbeggars': 15086, 'rails': 15087, 'potted': 15088, 'indignant': 15089, 'befriended': 15090, 'unhorse': 15091, 'prate': 15092, 'pining': 15093, 'auspicious': 15094, 'saathos': 15095, 'insensible': 15096, 'employ': 15097, 'ditchfire': 15098, 'slaveowners': 15099, 'breeds': 15100, 'castrati': 15101, 'slimiest': 15102, 'rabid': 15103, 'profitable': 15104, 'crocodile': 15105, 'poem': 15106, 'puppeteers': 15107, 'healthful': 15108, 'cretins': 15109, 'torghen': 15110, 'grumpy': 15111, 'torque': 15112, 'sensation': 15113, 'innermost': 15114, 'swathed': 15115, 'pestilential': 15116, 'armbands': 15117, 'raki': 15118, 'wonderingly': 15119, 'tottering': 15120, 'twilit': 15121, 'greenshit': 15122, 'cinching': 15123, 'wherein': 15124, 'contradict': 15125, 'camelry': 15126, 'torques': 15127, 'infusions': 15128, 'lanes': 15129, 'skirmishes': 15130, 'mints': 15131, 'beleaguered': 15132, 'gloaming': 15133, 'gargantuan': 15134, 'wheeze': 15135, 'unaided': 15136, 'strutted': 15137, 'sinecure': 15138, 'coated': 15139, 'kernel': 15140, 'flocks': 15141, 'unhealthy': 15142, 'bargeman': 15143, 'sweetlings': 15144, 'sergeants': 15145, 'ai': 15146, 'deserving': 15147, 'foreigners': 15148, 'grandfathers': 15149, 'cooling': 15150, 'amounts': 15151, 'hos': 15152, 'snared': 15153, 'woodhedge': 15154, 'clucked': 15155, 'unabashed': 15156, 'consequence': 15157, 'acclaim': 15158, 'terns': 15159, 'coracles': 15160, 'prowls': 15161, 'despising': 15162, 'grindcorn': 15163, 'masses': 15164, 'demonstrated': 15165, 'dragonmother': 15166, 'cryptic': 15167, 'maris': 15168, 'repented': 15169, 'decayed': 15170, 'slop': 15171, 'underhand': 15172, 'absolute': 15173, 'tinkle': 15174, 'earthworms': 15175, 'pretense': 15176, 'firewyrms': 15177, 'laurel': 15178, 'gooder': 15179, 'stouter': 15180, 'legionaries': 15181, 'inscribed': 15182, 'scruple': 15183, 'noxious': 15184, 'blonds': 15185, 'roughened': 15186, 'nightlands': 15187, 'feathering': 15188, 'octarch': 15189, 'attendant': 15190, 'brethren': 15191, 'kyleg': 15192, 'shrine': 15193, 'prickles': 15194, 'passageways': 15195, 'mishaps': 15196, 'concur': 15197, 'expand': 15198, 'generously': 15199, 'rainbowstriped': 15200, 'peevishly': 15201, 'peppercorns': 15202, 'cowardly': 15203, 'misrule': 15204, 'professed': 15205, 'milking': 15206, 'tit': 15207, 'weaklings': 15208, 'unassisted': 15209, 'stepson': 15210, 'deicide': 15211, 'remedied': 15212, 'wanes': 15213, 'spitted': 15214, 'wineskins': 15215, 'jealousy': 15216, 'designs': 15217, 'atoned': 15218, 'daisy': 15219, 'sluts': 15220, 'shadowy': 15221, 'arcade': 15222, 'lapdogs': 15223, 'helliweg': 15224, 'remarkable': 15225, 'undercrofts': 15226, 'jounced': 15227, 'offing': 15228, 'ghozai': 15229, 'friendlier': 15230, 'velos': 15231, 'wean': 15232, 'hogs': 15233, 'scrying': 15234, 'relieving': 15235, 'deploy': 15236, 'heartbroken': 15237, 'usurping': 15238, 'identical': 15239, 'confectioner': 15240, 'girt': 15241, 'abolished': 15242, 'accompanying': 15243, 'uncomely': 15244, 'slake': 15245, 'copying': 15246, 'thirsts': 15247, 'resin': 15248, 'wormwalks': 15249, 'weavings': 15250, 'earnings': 15251, 'ambrode': 15252, 'bloc': 15253, 'supports': 15254, 'instruction': 15255, 'ella': 15256, 'dragonback': 15257, 'overhanging': 15258, 'alternated': 15259, 'redress': 15260, 'orgy': 15261, 'raggy': 15262, 'copied': 15263, 'creeks': 15264, 'lodey': 15265, 'acclaimed': 15266, 'loitered': 15267, 'mumble': 15268, 'floorboards': 15269, 'slipper': 15270, 'miscarried': 15271, 'elections': 15272, 'bob': 15273, 'flawless': 15274, 'wearied': 15275, 'mapmaker': 15276, 'sites': 15277, 'redwyn': 15278, 'fabulously': 15279, 'motioned': 15280, 'dated': 15281, 'passionate': 15282, 'encouraging': 15283, 'coolness': 15284, 'occupants': 15285, 'lording': 15286, 'regions': 15287, 'miasma': 15288, 'outdistance': 15289, 'gruesome': 15290, 'males': 15291, 'brightflame': 15292, 'surmounted': 15293, 'alacrity': 15294, 'hanks': 15295, 'tinder': 15296, 'wedlock': 15297, 'bards': 15298, 'disruption': 15299, 'grisella': 15300, 'heartened': 15301, 'greyskin': 15302, 'meha': 15303, 'wheresoever': 15304, 'scored': 15305, 'appraising': 15306, 'essos': 15307, 'rascals': 15308, 'spearpoints': 15309, 'lighted': 15310, 'effrontery': 15311, 'purification': 15312, 'unprecedented': 15313, 'extravagantly': 15314, 'fulsome': 15315, 'andtwenty': 15316, 'dragontamer': 15317, 'shabbily': 15318, 'adrack': 15319, 'dedication': 15320, 'quaking': 15321, 'cavil': 15322, 'searchers': 15323, 'kingbreaker': 15324, 'travelstained': 15325, 'volunteered': 15326, 'corkscrew': 15327, 'lisa': 15328, 'hollywood': 15329, 'writer': 15330, 'intriguing': 15331, 'producer': 15332, 'signified': 15333, 'zone': 15334, 'films': 15335, 'television': 15336, 'pilots': 15337, 'prose': 15338, 'insolently': 15339, 'hardiest': 15340, 'successors': 15341, 'fletchers': 15342, 'slatterns': 15343, 'mexico': 15344, 'gimpknee': 15345, 'swilling': 15346, 'professionally': 15347, 'elyas': 15348, 'interfered': 15349, 'elio': 15350, 'linda': 15351, 'website': 15352, 'bucks': 15353, 'brat': 15354, 'streambeds': 15355, 'pati': 15356, 'nagle': 15357, 'retaining': 15358, 'melinda': 15359, 'snodgrass': 15360, 'daniel': 15361, 'truthful': 15362, 'abraham': 15363, 'josua': 15364, 'competent': 15365, 'windhaven': 15366, 'tuttle': 15367, 'hod': 15368, 'fevre': 15369, 'ban': 15370, 'aah': 15371, 'resentful': 15372, 'outlander': 15373, 'succinctly': 15374, 'slinger': 15375, 'maybaps': 15376, 'tassels': 15377, 'calon': 15378, 'mileposts': 15379, 'instructing': 15380, 'happiest': 15381, 'wickedest': 15382, 'odious': 15383, 'parceled': 15384, 'filching': 15385, 'nogarys': 15386, 'ooo': 15387, 'oooooooooooo': 15388, 'weatherworn': 15389, 'catering': 15390, 'armageddon': 15391, 'beholden': 15392, 'sandkings': 15393, 'nightflyers': 15394, 'tuf': 15395, 'avenues': 15396, 'ormollen': 15397, 'sashes': 15398, 'saunter': 15399, 'conceivable': 15400, 'cubes': 15401, 'herdsmen': 15402, 'goatherd': 15403, 'teaches': 15404, 'unravel': 15405, 'jewelers': 15406, 'loptail': 15407, 'growler': 15408, 'undertone': 15409, 'random': 15410, 'midafternoon': 15411, 'towing': 15412, 'wormholes': 15413, 'waxes': 15414, 'hurries': 15415, 'piracy': 15416, 'chroyane': 15417, 'gella': 15418, 'conjure': 15419, 'sistermen': 15420, 'beacons': 15421, 'humbled': 15422, 'morose': 15423, 'obediently': 15424, 'untrimmed': 15425, 'toot': 15426, 'sar': 15427, 'jaunty': 15428, 'harbors': 15429, 'obliterated': 15430, 'mogat': 15431, 'wharf': 15432, 'husk': 15433, 'ladling': 15434, 'patrolled': 15435, 'gillyflower': 15436, 'hirsute': 15437, 'frosts': 15438, 'waterside': 15439, 'berths': 15440, 'shoots': 15441, 'repainted': 15442, 'urrax': 15443, 'syrax': 15444, 'conceals': 15445, 'upwind': 15446, 'meddle': 15447, 'forking': 15448, 'furrow': 15449, 'preparing': 15450, 'nosing': 15451, 'oilskin': 15452, 'ore': 15453, 'oldtowner': 15454, 'redhand': 15455, 'losers': 15456, 'tacking': 15457, 'docile': 15458, 'undrowned': 15459, 'squalid': 15460, 'paddle': 15461, 'torturers': 15462, 'snapper': 15463, 'pan': 15464, 'uphill': 15465, 'diverting': 15466, 'ridgeback': 15467, 'peppercrab': 15468, 'caper': 15469, 'lays': 15470, 'watchfire': 15471, 'queries': 15472, 'lethal': 15473, 'unstoppered': 15474, 'noy': 15475, 'sourmouth': 15476, 'depopulated': 15477, 'squeals': 15478, 'desk': 15479, 'wineshop': 15480, 'shoal': 15481, 'noyne': 15482, 'proudwing': 15483, 'wyverns': 15484, 'clifftop': 15485, 'riddling': 15486, 'bricklayers': 15487, 'uphold': 15488, 'binders': 15489, 'corked': 15490, 'overcame': 15491, 'shierak': 15492, 'effects': 15493, 'rigors': 15494, 'bond': 15495, 'weaponry': 15496, 'accepts': 15497, 'scions': 15498, 'hodors': 15499, 'crony': 15500, 'spate': 15501, 'dray': 15502, 'areas': 15503, 'fingernail': 15504, 'quandary': 15505, 'unwarlike': 15506, 'storage': 15507, 'qiya': 15508, 'extremities': 15509, 'stockades': 15510, 'icicle': 15511, 'invaded': 15512, 'larmisters': 15513, 'lending': 15514, 'pledges': 15515, 'fronds': 15516, 'trudge': 15517, 'diddle': 15518, 'mallet': 15519, 'impale': 15520, 'buttresses': 15521, 'rounding': 15522, 'wafted': 15523, 'mischievous': 15524, 'candied': 15525, 'digested': 15526, 'attentively': 15527, 'thirsted': 15528, 'calcified': 15529, 'seer': 15530, 'larks': 15531, 'peppery': 15532, 'wage': 15533, 'crescendo': 15534, 'livelihood': 15535, 'arousing': 15536, 'disarming': 15537, 'rant': 15538, 'yron': 15539, 'shimmers': 15540, 'unmarred': 15541, 'raindrop': 15542, 'tawny': 15543, 'interspersed': 15544, 'hitched': 15545, 'behemoth': 15546, 'amorous': 15547, 'sardines': 15548, 'confounded': 15549, 'vanities': 15550, 'prophets': 15551, 'vineyards': 15552, 'roles': 15553, 'lor': 15554, 'treacheries': 15555, 'pecans': 15556, 'heeds': 15557, 'walkway': 15558, 'quails': 15559, 'qalen': 15560, 'morass': 15561, 'winey': 15562, 'moonrunner': 15563, 'resignation': 15564, 'wh': 15565, 'locket': 15566, 'apricot': 15567, 'dotes': 15568, 'resides': 15569, 'scrawl': 15570, 'trebla': 15571, 'skyward': 15572, 'discreet': 15573, 'smacking': 15574, 'fulfill': 15575, 'obdurate': 15576, 'miser': 15577, 'waterwheel': 15578, 'pint': 15579, 'inutterably': 15580, 'schooled': 15581, 'divert': 15582, 'humiliating': 15583, 'selfish': 15584, 'daintily': 15585, 'uncombed': 15586, 'parquello': 15587, 'connivance': 15588, 'vulpine': 15589, 'debate': 15590, 'shipowners': 15591, 'filched': 15592, 'runoff': 15593, 'supportive': 15594, 'nutten': 15595, 'pillage': 15596, 'cockless': 15597, 'wardrobes': 15598, 'garret': 15599, 'delegation': 15600, 'greathelms': 15601, 'cruder': 15602, 'mooncalf': 15603, 'wrappings': 15604, 'chastity': 15605, 'braving': 15606, 'wattled': 15607, 'farming': 15608, 'motherless': 15609, 'outlandish': 15610, 'unbeknownst': 15611, 'increasing': 15612, 'enlightened': 15613, 'straightest': 15614, 'fables': 15615, 'sandalwood': 15616, 'haggled': 15617, 'obese': 15618, 'priestesses': 15619, 'westernmost': 15620, 'outpost': 15621, 'mastery': 15622, 'stanchions': 15623, 'sparrs': 15624, 'blacktydes': 15625, 'pavement': 15626, 'creeps': 15627, 'wyls': 15628, 'begot': 15629, 'spurn': 15630, 'jennelyn': 15631, 'windproud': 15632, 'wineshops': 15633, 'evoke': 15634, 'conspirators': 15635, 'guile': 15636, 'shippers': 15637, 'roe': 15638, 'savored': 15639, 'dacnerys': 15640, 'soreness': 15641, 'seduce': 15642, 'solicitous': 15643, 'foxfur': 15644, 'foxes': 15645, 'naive': 15646, 'purify': 15647, 'venting': 15648, 'anvils': 15649, 'wyvern': 15650, 'dragonmont': 15651, 'candlemakers': 15652, 'drivers': 15653, 'nerveless': 15654, 'flats': 15655, 'liberty': 15656, 'genially': 15657, 'gestures': 15658, 'decently': 15659, 'oatbread': 15660, 'recognizable': 15661, 'detailing': 15662, 'transpired': 15663, 'godsworn': 15664, 'smouldered': 15665, 'substantial': 15666, 'rapping': 15667, 'docked': 15668, 'melony': 15669, 'unsul': 15670, 'canker': 15671, 'graveworms': 15672, 'assadora': 15673, 'taunting': 15674, 'dirtier': 15675, 'moredo': 15676, 'languish': 15677, 'daunt': 15678, 'larders': 15679, 'kids': 15680, 'pinkish': 15681, 'machines': 15682, 'terse': 15683, 'ellyn': 15684, 'tyg': 15685, 'ooh': 15686, 'lornel': 15687, 'pigshit': 15688, 'sellers': 15689, 'falchion': 15690, 'sprinkle': 15691, 'mankind': 15692, 'snares': 15693, 'lotho': 15694, 'bedrolls': 15695, 'dribble': 15696, 'whisperer': 15697, 'bricklayer': 15698, 'exaggeration': 15699, 'alaquo': 15700, 'visorless': 15701, 'acidly': 15702, 'disdainfully': 15703, 'imposter': 15704, 'speechlessness': 15705, 'liquor': 15706, 'confinement': 15707, 'slates': 15708, 'dreamer': 15709, 'unleash': 15710, 'blackbelly': 15711, 'saltspear': 15712, 'helpfully': 15713, 'stint': 15714, 'nook': 15715, 'dappling': 15716, 'tabard': 15717, 'departs': 15718, 'allaquo': 15719, 'courier': 15720, 'hardships': 15721, 'repairing': 15722, 'grueling': 15723, 'paeges': 15724, 'quarterings': 15725, 'accomplishment': 15726, 'triangle': 15727, 'jackal': 15728, 'sloey': 15729, 'drunkenness': 15730, 'elevation': 15731, 'ezzelyno': 15732, 'rhazdar': 15733, 'quazzar': 15734, 'pupils': 15735, 'ailing': 15736, 'scrubs': 15737, 'jornmy': 15738, 'plumed': 15739, 'uthor': 15740, 'outset': 15741, 'lyenthe': 15742, 'ramsey': 15743, 'nineteenth': 15744, 'lastborn': 15745, 'sebaston': 15746, 'hornvale': 15747, 'myrakis': 15748, 'geography': 15749, 'trebor': 15750, 'foreswore': 15751, 'jyana': 15752, 'myrio': 15753, 'woolfield': 15754, 'replacements': 15755, 'introduce': 15756, 'predicted': 15757, 'coldwater': 15758, 'whapped': 15759, 'sargon': 15760, 'unblemished': 15761, 'salladhar': 15762, 'elongated': 15763, 'supporter': 15764, 'revive': 15765, 'hellhorse': 15766, 'trickles': 15767, 'waldon': 15768, 'alesandor': 15769, 'shatterstone': 15770, 'snakewood': 15771, 'sward': 15772, 'wickenden': 15773, 'dyer': 15774, 'interrupt': 15775, 'gimme': 15776, 'rages': 15777, 'jorelle': 15778, 'shard': 15779, 'obscenely': 15780, 'qarro': 15781, 'volentin': 15782, 'scribbler': 15783, 'excepting': 15784, 'editors': 15785, 'nita': 15786, 'blockade': 15787, 'sloth': 15788, 'taublib': 15789, 'rioting': 15790, 'chamberlain': 15791, 'announcement': 15792, 'jane': 15793, 'johnson': 15794, 'anne': 15795, 'groell': 15796, 'school': 15797, 'attentions': 15798, 'antaryon': 15799, 'ferrego': 15800, 'eleanor': 15801, 'torren': 15802, 'osbert': 15803, 'guthor': 15804, 'prudence': 15805, 'moribald': 15806, 'shadrick': 15807, 'renfred': 15808, 'gnat': 15809, 'representing': 15810, 'swampy': 15811, 'frolicked': 15812, 'deposited': 15813, 'reflex': 15814, 'foff': 15815, 'disturbance': 15816, 'imagines': 15817, 'crisps': 15818, 'brackets': 15819, 'burial': 15820, 'disprove': 15821, 'ossy': 15822, 'trivial': 15823, 'loutish': 15824, 'elusive': 15825, 'yapping': 15826, 'morgarth': 15827, 'wagging': 15828, 'gnaw': 15829, 'justify': 15830, 'wilted': 15831, 'convey': 15832, 'skinners': 15833, 'widest': 15834, 'villains': 15835, 'conquests': 15836, 'villainy': 15837, 'explosion': 15838, 'colonies': 15839, 'brownhollow': 15840, 'unheated': 15841, 'slaps': 15842, 'lemony': 15843, 'tattoo': 15844, 'rustbeard': 15845, 'customarily': 15846, 'roan': 15847, 'crusting': 15848, 'harbert': 15849, 'halffrozen': 15850, 'peppered': 15851, 'fasts': 15852, 'badbrother': 15853, 'latecomer': 15854, 'intercession': 15855, 'undercellar': 15856, 'bizarre': 15857, 'unlawful': 15858, 'appended': 15859, 'webber': 15860, 'malevolent': 15861, 'frowns': 15862, 'bullock': 15863, 'unthinkable': 15864, 'statement': 15865, 'charioteer': 15866, 'sanctity': 15867, 'beastmaster': 15868, 'norren': 15869, 'stratagem': 15870, 'salves': 15871, 'vial': 15872, 'catwalk': 15873, 'fulfillment': 15874, 'gorghan': 15875, 'acquire': 15876, 'focused': 15877, 'june': 15878, 'drowsily': 15879, 'drowsed': 15880, 'regularly': 15881, 'highlights': 15882, 'enly': 15883, 'dissemble': 15884, 'nape': 15885, 'woodpile': 15886, 'confessions': 15887, 'hidey': 15888, 'wasp': 15889, 'malachite': 15890, 'afterlife': 15891, 'merchantman': 15892, 'dons': 15893, 'qyle': 15894, 'lewis': 15895, 'bluer': 15896, 'morosh': 15897, 'myrman': 15898, 'boneless': 15899, 'imposed': 15900, 'shockingly': 15901, 'salts': 15902, 'conclusion': 15903, 'aieeee': 15904, 'harte': 15905, 'whoresons': 15906, 'scarab': 15907, 'cloven': 15908, 'napped': 15909, 'observatory': 15910, 'foraged': 15911, 'jayde': 15912, 'chalcedony': 15913, 'sentimental': 15914, 'bellyband': 15915, 'sustenance': 15916, 'shines': 15917, 'seaworthy': 15918, 'quicksilver': 15919, 'ardent': 15920, 'masquerade': 15921, 'sunblaze': 15922, 'undervault': 15923, 'apes': 15924, 'indulgence': 15925, 'upsets': 15926, 'vineyard': 15927, 'regular': 15928, 'cleverly': 15929, 'ensued': 15930, 'begotten': 15931, 'extravagance': 15932, 'distended': 15933, 'equals': 15934, 'privates': 15935, 'udders': 15936, 'washbasin': 15937, 'stocks': 15938, 'wonderment': 15939, 'lazing': 15940, 'flipping': 15941, 'longthom': 15942, 'stealth': 15943, 'globe': 15944, 'lecherous': 15945, 'windowsill': 15946, 'shifts': 15947, 'dismantled': 15948, 'threes': 15949, 'emptier': 15950, 'brightening': 15951, 'walkways': 15952, 'fastidious': 15953, 'gulping': 15954, 'handling': 15955, 'gossiped': 15956, 'reentered': 15957, 'beguile': 15958, 'scarves': 15959, 'shack': 15960, 'denial': 15961, 'embedded': 15962, 'abolish': 15963, 'uncover': 15964, 'disperse': 15965, 'raspberries': 15966, 'impassively': 15967, 'tactful': 15968, 'stormcrow': 15969, 'runner': 15970, 'degrees': 15971, 'harvested': 15972, 'footsoldiers': 15973, 'unrelenting': 15974, 'hodoring': 15975, 'niggled': 15976, 'mucking': 15977, 'shortage': 15978, 'inhabited': 15979, 'roundtowers': 15980, 'unwatched': 15981, 'aswirl': 15982, 'afresh': 15983, 'jolting': 15984, 'misremember': 15985, 'merlings': 15986, 'lopping': 15987, 'snowgate': 15988, 'drenching': 15989, 'stumbles': 15990, 'gunwales': 15991, 'fainting': 15992, 'wrecks': 15993, 'gauge': 15994, 'smudged': 15995, 'roughhewn': 15996, 'washcloth': 15997, 'competition': 15998, 'parallel': 15999, 'linens': 16000, 'recitation': 16001, 'swoop': 16002, 'edible': 16003, 'salvage': 16004, 'amend': 16005, 'tan': 16006, 'furtively': 16007, 'angers': 16008, 'hardskin': 16009, 'loneliness': 16010, 'trophy': 16011, 'updraft': 16012, 'unsaddled': 16013, 'instep': 16014, 'defiled': 16015, 'retrieved': 16016, 'blended': 16017, 'companionable': 16018, 'hatchet': 16019, 'sprain': 16020, 'catgut': 16021, 'stinted': 16022, 'reputedly': 16023, 'defection': 16024, 'lilacs': 16025, 'surly': 16026, 'model': 16027, 'adjourn': 16028, 'wheedling': 16029, 'cellmate': 16030, 'implied': 16031, 'familiarity': 16032, 'sensitive': 16033, 'surrendering': 16034, 'lipless': 16035, 'ardrian': 16036, 'marvelous': 16037, 'medger': 16038, 'stitched': 16039, 'inspiring': 16040, 'haystack': 16041, 'devised': 16042, 'monford': 16043, 'dreamily': 16044, 'pendant': 16045, 'secrecy': 16046, 'mortification': 16047, 'knit': 16048, 'simpered': 16049, 'edwyd': 16050, 'travels': 16051, 'whooped': 16052, 'falseness': 16053, 'browning': 16054, 'convened': 16055, 'steeds': 16056, 'ceremonies': 16057, 'lustrous': 16058, 'disconcerting': 16059, 'awarded': 16060, 'grope': 16061, 'jibe': 16062, 'tarnished': 16063, 'whas': 16064, 'cleanest': 16065, 'ulwyck': 16066, 'oakcakes': 16067, 'boning': 16068, 'dots': 16069, 'significant': 16070, 'diners': 16071, 'flashes': 16072, 'diced': 16073, 'leached': 16074, 'smithed': 16075, 'wenched': 16076, 'reasoned': 16077, 'monotonous': 16078, 'lamed': 16079, 'greatswords': 16080, 'swordhilt': 16081, 'deceits': 16082, 'deadliest': 16083, 'sensing': 16084, 'clumsiness': 16085, 'kenned': 16086, 'created': 16087, 'bleakly': 16088, 'pitifully': 16089, 'bothers': 16090, 'mien': 16091, 'scrapesword': 16092, 'timon': 16093, 'fortresses': 16094, 'centipedes': 16095, 'rambling': 16096, 'deflect': 16097, 'provision': 16098, 'gloating': 16099, 'brenett': 16100, 'ticked': 16101, 'vee': 16102, 'condon': 16103, 'slogging': 16104, 'barding': 16105, 'discharged': 16106, 'paired': 16107, 'sapling': 16108, 'insipid': 16109, 'delightful': 16110, 'fretty': 16111, 'distrusting': 16112, 'sidestroke': 16113, 'sweated': 16114, 'pivot': 16115, 'preference': 16116, 'bragged': 16117, 'gurgled': 16118, 'exasperated': 16119, 'endearing': 16120, 'forktop': 16121, 'weatherback': 16122, 'prodding': 16123, 'twined': 16124, 'refreshing': 16125, 'swimmers': 16126, 'airless': 16127, 'warrens': 16128, 'sweltered': 16129, 'exhaust': 16130, 'lief': 16131, 'abilities': 16132, 'ray': 16133, 'purging': 16134, 'obeisance': 16135, 'partake': 16136, 'slurred': 16137, 'bedfellows': 16138, 'stillbirth': 16139, 'stretches': 16140, 'afterthought': 16141, 'proverb': 16142, 'peerless': 16143, 'leche': 16144, 'refit': 16145, 'quorin': 16146, 'palsied': 16147, 'handiwork': 16148, 'spouting': 16149, 'fruity': 16150, 'scummy': 16151, 'skulk': 16152, 'retraced': 16153, 'untangling': 16154, 'greatness': 16155, 'hellhounds': 16156, 'provokes': 16157, 'flt': 16158, 'tarlys': 16159, 'increased': 16160, 'climbs': 16161, 'navigate': 16162, 'assurances': 16163, 'miracles': 16164, 'groundless': 16165, 'caned': 16166, 'accurate': 16167, 'fruitful': 16168, 'pegs': 16169, 'lutes': 16170, 'panels': 16171, 'strumpet': 16172, 'stickiness': 16173, 'achy': 16174, 'giggly': 16175, 'fiddling': 16176, 'tentative': 16177, 'cassell': 16178, 'exchanging': 16179, 'mll': 16180, 'enlighten': 16181, 'kinslayers': 16182, 'unasked': 16183, 'sygerrik': 16184, 'galled': 16185, 'province': 16186, 'sheathing': 16187, 'excessive': 16188, 'windbreak': 16189, 'reciting': 16190, 'unpleasantly': 16191, 'craaaack': 16192, 'timely': 16193, 'chore': 16194, 'jawbone': 16195, 'reloading': 16196, 'wildwind': 16197, 'roundly': 16198, 'contingent': 16199, 'brilliance': 16200, 'oceans': 16201, 'vances': 16202, 'sharpens': 16203, 'differed': 16204, 'relentlessly': 16205, 'turbulent': 16206, 'toughened': 16207, 'verdant': 16208, 'skirted': 16209, 'irnry': 16210, 'onslaught': 16211, 'dearth': 16212, 'hymn': 16213, 'remounted': 16214, 'legitimate': 16215, 'pins': 16216, 'missiles': 16217, 'floored': 16218, 'basebom': 16219, 'bawdier': 16220, 'unsure': 16221, 'lightness': 16222, 'spearing': 16223, 'descends': 16224, 'forks': 16225, 'onrushing': 16226, 'falter': 16227, 'startle': 16228, 'invented': 16229, 'onehanded': 16230, 'ow': 16231, 'marchers': 16232, 'planking': 16233, 'lothstons': 16234, 'unwisely': 16235, 'maker': 16236, 'spars': 16237, 'redoubtable': 16238, 'firepots': 16239, 'daeren': 16240, 'unraveled': 16241, 'pitcher': 16242, 'chords': 16243, 'ryles': 16244, 'assailed': 16245, 'shrivel': 16246, 'improving': 16247, 'ooze': 16248, 'challenges': 16249, 'vambrace': 16250, 'disuse': 16251, 'girdled': 16252, 'andahar': 16253, 'unfaithful': 16254, 'oarlocks': 16255, 'branching': 16256, 'unbend': 16257, 'unimportant': 16258, 'windier': 16259, 'confrontation': 16260, 'uprooted': 16261, 'intolerable': 16262, 'frantically': 16263, 'jeffory': 16264, 'sniveling': 16265, 'avenging': 16266, 'opposing': 16267, 'unrewarded': 16268, 'oust': 16269, 'appreciate': 16270, 'silty': 16271, 'slag': 16272, 'creepers': 16273, 'jungles': 16274, 'spellsingers': 16275, 'reemerge': 16276, 'frostbitten': 16277, 'closeted': 16278, 'shadowbinders': 16279, 'sever': 16280, 'noisiest': 16281, 'knotting': 16282, 'observing': 16283, 'fates': 16284, 'festive': 16285, 'dances': 16286, 'southrons': 16287, 'sprig': 16288, 'neigh': 16289, 'trickery': 16290, 'succumb': 16291, 'perishingly': 16292, 'broods': 16293, 'sweats': 16294, 'calumny': 16295, 'compress': 16296, 'lancing': 16297, 'lavishly': 16298, 'mahr': 16299, 'meizo': 16300, 'curb': 16301, 'wildness': 16302, 'tablet': 16303, 'flurried': 16304, 'harclays': 16305, 'knotts': 16306, 'tolerate': 16307, 'celebrated': 16308, 'summits': 16309, 'flattening': 16310, 'aethelmure': 16311, 'mountainsides': 16312, 'ting': 16313, 'shingle': 16314, 'succeeding': 16315, 'pieties': 16316, 'selves': 16317, 'undoubted': 16318, 'conveyed': 16319, 'fitter': 16320, 'deliberations': 16321, 'disposition': 16322, 'glorge': 16323, 'braggart': 16324, 'dragonking': 16325, 'quieting': 16326, 'preying': 16327, 'memorable': 16328, 'gracelessly': 16329, 'affected': 16330, 'mouming': 16331, 'sulfurous': 16332, 'refreshed': 16333, 'originally': 16334, 'stabled': 16335, 'alleged': 16336, 'lulled': 16337, 'farmland': 16338, 'contrary': 16339, 'orland': 16340, 'firs': 16341, 'beget': 16342, 'wanderers': 16343, 'coastline': 16344, 'preached': 16345, 'design': 16346, 'propitious': 16347, 'wisewoman': 16348, 'jostled': 16349, 'slowest': 16350, 'scaly': 16351, 'outdrink': 16352, 'seasoning': 16353, 'halffiand': 16354, 'iceaxe': 16355, 'vary': 16356, 'sidelong': 16357, 'elks': 16358, 'noth': 16359, 'ohhh': 16360, 'spinal': 16361, 'swooped': 16362, 'evergreen': 16363, 'morbid': 16364, 'burped': 16365, 'uneaten': 16366, 'pageantry': 16367, 'discourse': 16368, 'underbelly': 16369, 'wilds': 16370, 'chastised': 16371, 'myrrh': 16372, 'prized': 16373, 'sheepishly': 16374, 'chroniclers': 16375, 'vice': 16376, 'porthole': 16377, 'recalls': 16378, 'cobra': 16379, 'childlike': 16380, 'coveted': 16381, 'loren': 16382, 'vertigo': 16383, 'yore': 16384, 'connect': 16385, 'proceeded': 16386, 'patrolling': 16387, 'becca': 16388, 'chastising': 16389, 'surpass': 16390, 'unconscionable': 16391, 'slobbering': 16392, 'stalwarts': 16393, 'incurious': 16394, 'lag': 16395, 'disinterested': 16396, 'pastries': 16397, 'snowstorm': 16398, 'roil': 16399, 'thend': 16400, 'replies': 16401, 'attach': 16402, 'peers': 16403, 'leaky': 16404, 'confusing': 16405, 'mistresses': 16406, 'unfailing': 16407, 'dwelled': 16408, 'almondshaped': 16409, 'cleganes': 16410, 'sparked': 16411, 'option': 16412, 'slumping': 16413, 'uncounted': 16414, 'disloyalty': 16415, 'cures': 16416, 'suppress': 16417, 'deals': 16418, 'kbal': 16419, 'slander': 16420, 'musing': 16421, 'appealed': 16422, 'yen': 16423, 'parrying': 16424, 'endangered': 16425, 'vent': 16426, 'items': 16427, 'benevolent': 16428, 'reaped': 16429, 'havoc': 16430, 'tracts': 16431, 'wheatfield': 16432, 'chaff': 16433, 'bordering': 16434, 'kirtles': 16435, 'apologized': 16436, 'brooks': 16437, 'unappeased': 16438, 'elbowed': 16439, 'approving': 16440, 'rigorous': 16441, 'delirious': 16442, 'erupt': 16443, 'shifty': 16444, 'origins': 16445, 'kneaded': 16446, 'absolutely': 16447, 'discussions': 16448, 'fem': 16449, 'anyways': 16450, 'strum': 16451, 'mug': 16452, 'freckle': 16453, 'counterweight': 16454, 'pushes': 16455, 'purest': 16456, 'wickedly': 16457, 'rollarn': 16458, 'torsos': 16459, 'smirked': 16460, 'grouped': 16461, 'misted': 16462, 'sludgy': 16463, 'lernoncloak': 16464, 'accentuated': 16465, 'lass': 16466, 'malevolence': 16467, 'milkmaids': 16468, 'damasks': 16469, 'hellcrow': 16470, 'mercies': 16471, 'expectant': 16472, 'hornfoots': 16473, 'northernmost': 16474, 'giantsbabe': 16475, 'fleece': 16476, 'refusals': 16477, 'whales': 16478, 'tusk': 16479, 'foramun': 16480, 'snuffled': 16481, 'doubting': 16482, 'cookflre': 16483, 'consolations': 16484, 'rebuilding': 16485, 'obscenities': 16486, 'hounding': 16487, 'rebuff': 16488, 'lengthened': 16489, 'mangled': 16490, 'wad': 16491, 'horsefaced': 16492, 'painstakingly': 16493, 'wattles': 16494, 'bawling': 16495, 'concentration': 16496, 'tensions': 16497, 'sevenstrearns': 16498, 'leechman': 16499, 'grubbing': 16500, 'fornio': 16501, 'girly': 16502, 'sundown': 16503, 'nourishing': 16504, 'tearfully': 16505, 'sweetmeat': 16506, 'barks': 16507, 'sawwood': 16508, 'pornmels': 16509, 'tour': 16510, 'cud': 16511, 'splatter': 16512, 'pleasured': 16513, 'unchivalrously': 16514, 'talkative': 16515, 'condone': 16516, 'eloquently': 16517, 'unquestioned': 16518, 'slanders': 16519, 'knifing': 16520, 'gery': 16521, 'berated': 16522, 'distinct': 16523, 'picturing': 16524, 'cherrywood': 16525, 'caches': 16526, 'ast': 16527, 'jabber': 16528, 'extraordinary': 16529, 'bud': 16530, 'pummeling': 16531, 'derisively': 16532, 'godsforsaken': 16533, 'unloaded': 16534, 'charlton': 16535, 'nonexistent': 16536, 'activity': 16537, 'redoubt': 16538, 'graveyards': 16539, 'thuds': 16540, 'maerie': 16541, 'vvylde': 16542, 'harsley': 16543, 'sp': 16544, 'chinned': 16545, 'languidly': 16546, 'cribs': 16547, 'countercut': 16548, 'counterattack': 16549, 'toppled': 16550, 'funereal': 16551, 'prideful': 16552, 'walling': 16553, 'guardroom': 16554, 'lister': 16555, 'exhausting': 16556, 'aethan': 16557, 'fm': 16558, 'theshadowtower': 16559, 'wails': 16560, 'prettiest': 16561, 'sequential': 16562, 'dikes': 16563, 'harvesting': 16564, 'slush': 16565, 'narrative': 16566, 'garths': 16567, 'applesauce': 16568, 'roughness': 16569, 'arced': 16570, 'heft': 16571, 'dreamers': 16572, 'crumb': 16573, 'gorging': 16574, 'enfolded': 16575, 'prickled': 16576, 'georgl': 16577, 'facial': 16578, 'occurs': 16579, 'extreme': 16580, 'sucklings': 16581, 'unsympathetic': 16582, 'stubbornness': 16583, 'thoms': 16584, 'footers': 16585, 'resolute': 16586, 'partnered': 16587, 'shinny': 16588, 'bumt': 16589, 'guiltless': 16590, 'wom': 16591, 'ratters': 16592, 'preserves': 16593, 'villain': 16594, 'disobedient': 16595, 'malformed': 16596, 'brutish': 16597, 'luminous': 16598, 'imps': 16599, 'item': 16600, 'battled': 16601, 'desirous': 16602, 'wilbert': 16603, 'magnificently': 16604, 'introductions': 16605, 'dainty': 16606, 'indrawn': 16607, 'buyer': 16608, 'warlike': 16609, 'tutors': 16610, 'allied': 16611, 'stewpot': 16612, 'fooling': 16613, 'maintained': 16614, 'shush': 16615, 'tremulously': 16616, 'exulted': 16617, 'prosper': 16618, 'chicks': 16619, 'chime': 16620, 'indigestion': 16621, 'fronting': 16622, 'rebellious': 16623, 'cartwheeling': 16624, 'obviously': 16625, 'shortswords': 16626, 'imagination': 16627, 'assail': 16628, 'era': 16629, 'dampness': 16630, 'fragment': 16631, 'formless': 16632, 'nimbly': 16633, 'chasings': 16634, 'handsomest': 16635, 'amuthing': 16636, 'mush': 16637, 'gilding': 16638, 'distasteful': 16639, 'dive': 16640, 'thapphireth': 16641, 'hive': 16642, 'parading': 16643, 'rower': 16644, 'comments': 16645, 'lightheaded': 16646, 'goggled': 16647, 'unamused': 16648, 'hith': 16649, 'pieth': 16650, 'primly': 16651, 'jerks': 16652, 'cascading': 16653, 'pottery': 16654, 'ahooooooooo': 16655, 'tweaking': 16656, 'pitching': 16657, 'eclipsed': 16658, 'carelessness': 16659, 'kingslanders': 16660, 'stubbed': 16661, 'rusting': 16662, 'iggo': 16663, 'ma': 16664, 'sheepdogs': 16665, 'ledges': 16666, 'spurring': 16667, 'russets': 16668, 'lightened': 16669, 'briars': 16670, 'pinnace': 16671, 'muffling': 16672, 'nicer': 16673, 'icemelt': 16674, 'horizontal': 16675, 'silveraxe': 16676, 'chokes': 16677, 'organs': 16678, 'waken': 16679, 'bode': 16680, 'halfblind': 16681, 'chasten': 16682, 'poltices': 16683, 'admits': 16684, 'vales': 16685, 'dishonors': 16686, 'bedposts': 16687, 'gaery': 16688, 'fisher': 16689, 'ticklish': 16690, 'buzz': 16691, 'inconstant': 16692, 'unsuitable': 16693, 'uninterested': 16694, 'idiot': 16695, 'valid': 16696, 'dune': 16697, 'blossom': 16698, 'flutters': 16699, 'dromond': 16700, 'murenmure': 16701, 'gwin': 16702, 'gysella': 16703, 'lounged': 16704, 'gevin': 16705, 'pealing': 16706, 'wharfside': 16707, 'superstitious': 16708, 'relented': 16709, 'strongbox': 16710, 'thrash': 16711, 'tymor': 16712, 'expert': 16713, 'malicious': 16714, 'entrances': 16715, 'norjen': 16716, 'uncaring': 16717, 'verdict': 16718, 'pillion': 16719, 'brewing': 16720, 'clamoring': 16721, 'peeved': 16722, 'ethan': 16723, 'greyness': 16724, 'easternmost': 16725, 'willfully': 16726, 'drawled': 16727, 'unsheathing': 16728, 'solidly': 16729, 'hamper': 16730, 'rending': 16731, 'armful': 16732, 'morne': 16733, 'whittled': 16734, 'bluewhite': 16735, 'downswing': 16736, 'jorquen': 16737, 'indignation': 16738, 'skittish': 16739, 'emphasis': 16740, 'relic': 16741, 'tougher': 16742, 'cheesecloth': 16743, 'undamaged': 16744, 'thomax': 16745, 'implication': 16746, 'hungrier': 16747, 'aids': 16748, 'quarterstaffs': 16749, 'threescore': 16750, 'encased': 16751, 'sidestepped': 16752, 'capered': 16753, 'jogged': 16754, 'gauntleted': 16755, 'tracery': 16756, 'viewed': 16757, 'waggling': 16758, 'bedmate': 16759, 'hoke': 16760, 'horseleg': 16761, 'thongs': 16762, 'bittersweet': 16763, 'rondel': 16764, 'ingredients': 16765, 'uncloaked': 16766, 'shovels': 16767, 'creigh': 16768, 'bendwise': 16769, 'squirted': 16770, 'sprigs': 16771, 'regaled': 16772, 'byways': 16773, 'consorting': 16774, 'sobered': 16775, 'scalded': 16776, 'wendello': 16777, 'testily': 16778, 'dennis': 16779, 'peter': 16780, 'shamelessly': 16781, 'sadden': 16782, 'shierle': 16783, 'melwyn': 16784, 'readily': 16785, 'listless': 16786, 'blurt': 16787, 'intervene': 16788, 'tactic': 16789, 'candlelit': 16790, 'sorefoot': 16791, 'strategies': 16792, 'pursue': 16793, 'marshaled': 16794, 'shieldwall': 16795, 'toddler': 16796, 'siegecraft': 16797, 'rupert': 16798, 'powdering': 16799, 'guilts': 16800, 'sparser': 16801, 'chagrined': 16802, 'undoubtedly': 16803, 'brands': 16804, 'cocky': 16805, 'surge': 16806, 'blending': 16807, 'redforts': 16808, 'silversmiths': 16809, 'doze': 16810, 'superior': 16811, 'tendered': 16812, 'whitey': 16813, 'precipitous': 16814, 'malwyn': 16815, 'topless': 16816, 'factions': 16817, 'unanticipated': 16818, 'faros': 16819, 'emeros': 16820, 'egon': 16821, 'rickety': 16822, 'ellery': 16823, 'kirth': 16824, 'harpers': 16825, 'adjoined': 16826, 'sharna': 16827, 'caretaker': 16828, 'besieging': 16829, 'lenn': 16830, 'undercut': 16831, 'accumulation': 16832, 'differences': 16833, 'midstream': 16834, 'gnash': 16835, 'eggen': 16836, 'surfeit': 16837, 'predictable': 16838, 'unstrung': 16839, 'seam': 16840, 'olds': 16841, 'contested': 16842, 'mollos': 16843, 'figuring': 16844, 'forehand': 16845, 'troughs': 16846, 'victaria': 16847, 'retaken': 16848, 'lia': 16849, 'commonplace': 16850, 'marun': 16851, 'wellborn': 16852, 'pregnancy': 16853, 'shaming': 16854, 'pageant': 16855, 'elyn': 16856, 'norridge': 16857, 'oversize': 16858, 'medwick': 16859, 'musk': 16860, 'dab': 16861, 'broadheads': 16862, 'olene': 16863, 'slugabeds': 16864, 'anxiety': 16865, 'normund': 16866, 'blushes': 16867, 'tuffleberry': 16868, 'hints': 16869, 'aiding': 16870, 'unfriendly': 16871, 'maggo': 16872, 'hasps': 16873, 'candlemaker': 16874, 'glories': 16875, 'boundless': 16876, 'longingly': 16877, 'incident': 16878, 'draper': 16879, 'failings': 16880, 'whickering': 16881, 'jumbled': 16882, 'unlatching': 16883, 'scariest': 16884, 'fomenting': 16885, 'snuffing': 16886, 'bailiffs': 16887, 'scarier': 16888, 'stilwood': 16889, 'buttoned': 16890, 'justiciars': 16891, 'requiring': 16892, 'swatch': 16893, 'collared': 16894, 'deflected': 16895, 'maddening': 16896, 'blackening': 16897, 'masterat': 16898, 'thrive': 16899, 'forgetful': 16900, 'kingsmoots': 16901, 'volmarks': 16902, 'mockingbirds': 16903, 'decaying': 16904, 'quirked': 16905, 'sparkle': 16906, 'bearclaw': 16907, 'placate': 16908, 'eyelid': 16909, 'freaks': 16910, 'notfair': 16911, 'ossifer': 16912, 'audiences': 16913, 'unlamented': 16914, 'crib': 16915, 'disconsolate': 16916, 'flelds': 16917, 'breastbone': 16918, 'needlessly': 16919, 'offshoot': 16920, 'chandler': 16921, 'jovial': 16922, 'skaggs': 16923, 'livers': 16924, 'lullabies': 16925, 'portcullises': 16926, 'thudding': 16927, 'badgers': 16928, 'treed': 16929, 'burp': 16930, 'sandbag': 16931, 'curves': 16932, 'provender': 16933, 'loitering': 16934, 'taleteller': 16935, 'remarks': 16936, 'gauzy': 16937, 'orivel': 16938, 'remedy': 16939, 'mertyns': 16940, 'pebbly': 16941, 'herblore': 16942, 'skagosi': 16943, 'whitecap': 16944, 'parent': 16945, 'humus': 16946, 'unnaturally': 16947, 'ud': 16948, 'tendon': 16949, 'yolk': 16950, 'gelds': 16951, 'slobbered': 16952, 'pansy': 16953, 'ern': 16954, 'footmen': 16955, 'humid': 16956, 'spewed': 16957, 'courted': 16958, 'inchfield': 16959, 'mighten': 16960, 'redeem': 16961, 'myfather': 16962, 'inhuman': 16963, 'farces': 16964, 'excite': 16965, 'crannies': 16966, 'unmanly': 16967, 'octagonal': 16968, 'jaggot': 16969, 'festering': 16970, 'outgrow': 16971, 'construe': 16972, 'prophetic': 16973, 'meekness': 16974, 'worthier': 16975, 'biddable': 16976, 'disquieting': 16977, 'handsomer': 16978, 'hungriest': 16979, 'wrinkling': 16980, 'remorse': 16981, 'pigsties': 16982, 'wart': 16983, 'mouthing': 16984, 'hectoring': 16985, 'adore': 16986, 'disappointments': 16987, 'counsels': 16988, 'harrumphed': 16989, 'instance': 16990, 'respected': 16991, 'denounce': 16992, 'dealer': 16993, 'unknowable': 16994, 'discerned': 16995, 'straighten': 16996, 'adventurer': 16997, 'hellishly': 16998, 'moonsingers': 16999, 'speckles': 17000, 'winestain': 17001, 'twos': 17002, 'prows': 17003, 'innumerable': 17004, 'belongings': 17005, 'scratchings': 17006, 'woodland': 17007, 'hunnerds': 17008, 'placement': 17009, 'boundary': 17010, 'sterns': 17011, 'practices': 17012, 'outrages': 17013, 'figureheads': 17014, 'defer': 17015, 'warts': 17016, 'vapors': 17017, 'irked': 17018, 'mittens': 17019, 'damnation': 17020, 'underestimate': 17021, 'clots': 17022, 'bargained': 17023, 'quests': 17024, 'values': 17025, 'ravings': 17026, 'lament': 17027, 'misspeak': 17028, 'nostril': 17029, 'limestone': 17030, 'cultivated': 17031, 'garland': 17032, 'cuddled': 17033, 'co': 17034, 'shermer': 17035, 'scribbling': 17036, 'drunks': 17037, 'jangled': 17038, 'rethink': 17039, 'wagstaff': 17040, 'sakes': 17041, 'oakenfist': 17042, 'favorable': 17043, 'sniggers': 17044, 'suredly': 17045, 'crickets': 17046, 'handmaidens': 17047, 'butternut': 17048, 'deity': 17049, 'reigning': 17050, 'tinge': 17051, 'clenching': 17052, 'piteously': 17053, 'marker': 17054, 'dothrae': 17055, 'tiding': 17056, 'advantages': 17057, 'pitilessly': 17058, 'darke': 17059, 'lukewarm': 17060, 'saltire': 17061, 'stormlanders': 17062, 'cairn': 17063, 'glittery': 17064, 'levvys': 17065, 'gouge': 17066, 'whents': 17067, 'brindlewood': 17068, 'skittery': 17069, 'satisfying': 17070, 'homemade': 17071, 'chargers': 17072, 'tawdry': 17073, 'remiss': 17074, 'bloodbath': 17075, 'misunderstand': 17076, 'shead': 17077, 'ther': 17078, 'unsealed': 17079, 'habits': 17080, 'torchbearers': 17081, 'outdid': 17082, 'filigreed': 17083, 'execute': 17084, 'partial': 17085, 'kneading': 17086, 'intrusion': 17087, 'hereafter': 17088, 'ingratiating': 17089, 'pighead': 17090, 'mooning': 17091, 'applauding': 17092, 'mollify': 17093, 'providing': 17094, 'ironsmith': 17095, 'brawn': 17096, 'goodfolk': 17097, 'nether': 17098, 'untangled': 17099, 'gleeful': 17100, 'browned': 17101, 'squeaks': 17102, 'motive': 17103, 'swings': 17104, 'trough': 17105, 'sturdy': 17106, 'groused': 17107, 'quenching': 17108, 'stabling': 17109, 'disappearance': 17110, 'mews': 17111, 'shrouding': 17112, 'dawdle': 17113, 'welter': 17114, 'swum': 17115, 'clue': 17116, 'poorest': 17117, 'unresisting': 17118, 'arouse': 17119, 'regrow': 17120, 'fingertip': 17121, 'drowns': 17122, 'pegged': 17123, 'hillocks': 17124, 'teachers': 17125, 'jothos': 17126, 'stonier': 17127, 'untrained': 17128, 'rapists': 17129, 'drugged': 17130, 'benefits': 17131, 'excluded': 17132, 'grandest': 17133, 'cowhide': 17134, 'stretcher': 17135, 'harrowing': 17136, 'sculpted': 17137, 'sparing': 17138, 'uncrossed': 17139, 'audible': 17140, 'steadier': 17141, 'overreach': 17142, 'pungent': 17143, 'vacated': 17144, 'flimsy': 17145, 'pulses': 17146, 'inconsolably': 17147, 'cranky': 17148, 'sepulchres': 17149, 'misheard': 17150, 'demean': 17151, 'reel': 17152, 'partially': 17153, 'strawberries': 17154, 'showering': 17155, 'salads': 17156, 'spinach': 17157, 'floods': 17158, 'clogged': 17159, 'goodfather': 17160, 'dyers': 17161, 'slivers': 17162, 'juices': 17163, 'stove': 17164, 'worker': 17165, 'downstairs': 17166, 'helpers': 17167, 'advancement': 17168, 'crowed': 17169, 'anointing': 17170, 'rite': 17171, 'arcs': 17172, 'compensation': 17173, 'sponge': 17174, 'admitting': 17175, 'insect': 17176, 'shacks': 17177, 'wayfor': 17178, 'nub': 17179, 'records': 17180, 'extending': 17181, 'drowsing': 17182, 'trodding': 17183, 'patronage': 17184, 'twinge': 17185, 'towheaded': 17186, 'nagged': 17187, 'cordial': 17188, 'passable': 17189, 'fugitives': 17190, 'gullies': 17191, 'ravine': 17192, 'rapid': 17193, 'turf': 17194, 'uhoris': 17195, 'acknowledge': 17196, 'pawprints': 17197, 'greying': 17198, 'nattered': 17199, 'commission': 17200, 'defensible': 17201, 'lowly': 17202, 'firehardened': 17203, 'determination': 17204, 'taletellers': 17205, 'dilly': 17206, 'brighten': 17207, 'spry': 17208, 'cordwainer': 17209, 'ambush': 17210, 'corded': 17211, 'squirt': 17212, 'woodlands': 17213, 'shamefully': 17214, 'crocks': 17215, 'iiand': 17216, 'slides': 17217, 'area': 17218, 'fitful': 17219, 'invoked': 17220, 'marketplace': 17221, 'anticipation': 17222, 'teetering': 17223, 'dornishwoman': 17224, 'radish': 17225, 'irascible': 17226, 'sampled': 17227, 'meandered': 17228, 'grandbastards': 17229, 'rygers': 17230, 'mootons': 17231, 'drummer': 17232, 'faqen': 17233, 'mitts': 17234, 'pane': 17235, 'reforming': 17236, 'anise': 17237, 'expertly': 17238, 'blinds': 17239, 'resupplied': 17240, 'unseeing': 17241, 'nappy': 17242, 'breechclouts': 17243, 'dragonkind': 17244, 'fording': 17245, 'servitor': 17246, 'caul': 17247, 'deafening': 17248, 'feinted': 17249, 'threshold': 17250, 'hops': 17251, 'flutists': 17252, 'lounging': 17253, 'purge': 17254, 'torments': 17255, 'fluting': 17256, 'farting': 17257, 'sulking': 17258, 'seemly': 17259, 'clings': 17260, 'misplaced': 17261, 'dismally': 17262, 'meddling': 17263, 'sots': 17264, 'ideas': 17265, 'peal': 17266, 'gauntness': 17267, 'rescuing': 17268, 'dosed': 17269, 'breathes': 17270, 'trash': 17271, 'cobblestone': 17272, 'singleminded': 17273, 'conquering': 17274, 'pubic': 17275, 'howevermuch': 17276, 'fawning': 17277, 'enrage': 17278, 'fatten': 17279, 'purpling': 17280, 'perpetuity': 17281, 'anathema': 17282, 'sorrel': 17283, 'grossly': 17284, 'glide': 17285, 'michael': 17286, 'urges': 17287, 'homeland': 17288, 'journeyed': 17289, 'bestirred': 17290, 'scabbed': 17291, 'cored': 17292, 'methodical': 17293, 'blubber': 17294, 'wadded': 17295, 'scabby': 17296, 'fervid': 17297, 'godwyn': 17298, 'oof': 17299, 'careening': 17300, 'scrubwoman': 17301, 'circular': 17302, 'rhogoro': 17303, 'moro': 17304, 'unfinished': 17305, 'impious': 17306, 'withdraws': 17307, 'experienced': 17308, 'reassuringly': 17309, 'gluttons': 17310, 'feud': 17311, 'discreetly': 17312, 'upturned': 17313, 'festivities': 17314, 'ineffectually': 17315, 'threequarters': 17316, 'despises': 17317, 'harried': 17318, 'hapless': 17319, 'shadowing': 17320, 'droning': 17321, 'paternal': 17322, 'keenly': 17323, 'westerlands': 17324, 'togg': 17325, 'flatten': 17326, 'cantering': 17327, 'greenwoods': 17328, 'monterys': 17329, 'poets': 17330, 'pompous': 17331, 'bloodletting': 17332, 'annoy': 17333, 'recalling': 17334, 'endurance': 17335, 'swordsmanship': 17336, 'quibble': 17337, 'mercilessly': 17338, 'oakwood': 17339, 'survey': 17340, 'stationed': 17341, 'regretful': 17342, 'begrudged': 17343, 'unchecked': 17344, 'longed': 17345, 'breasting': 17346, 'stonework': 17347, 'crisscrossing': 17348, 'scorching': 17349, 'tromp': 17350, 'ordinarily': 17351, 'rell': 17352, 'cabins': 17353, 'bewitched': 17354, 'mylord': 17355, 'sickens': 17356, 'conveniently': 17357, 'thome': 17358, 'behaving': 17359, 'interwoven': 17360, 'ballads': 17361, 'spins': 17362, 'tresses': 17363, 'poo': 17364, 'au': 17365, 'joyous': 17366, 'rudiments': 17367, 'saws': 17368, 'cartwheels': 17369, 'pretensions': 17370, 'lenses': 17371, 'trumpetings': 17372, 'impudent': 17373, 'planes': 17374, 'untimely': 17375, 'chalked': 17376, 'examination': 17377, 'triumphed': 17378, 'twine': 17379, 'distances': 17380, 'dicker': 17381, 'commoner': 17382, 'seasick': 17383, 'bronzegate': 17384, 'uplands': 17385, 'floured': 17386, 'concession': 17387, 'incite': 17388, 'aging': 17389, 'pouches': 17390, 'sha': 17391, 'treeless': 17392, 'breakers': 17393, 'quote': 17394, 'inherited': 17395, 'nots': 17396, 'bedwarmers': 17397, 'applause': 17398, 'whistles': 17399, 'titties': 17400, 'aroused': 17401, 'flavors': 17402, 'homey': 17403, 'hoarding': 17404, 'mutual': 17405, 'squawks': 17406, 'bareback': 17407, 'tolerated': 17408, 'creased': 17409, 'oyster': 17410, 'enmities': 17411, 'attainder': 17412, 'springing': 17413, 'thwart': 17414, 'twang': 17415, 'military': 17416, 'angling': 17417, 'caressed': 17418, 'irk': 17419, 'hairnet': 17420, 'responding': 17421, 'snugly': 17422, 'glower': 17423, 'reforged': 17424, 'magicked': 17425, 'inanely': 17426, 'unjustly': 17427, 'steered': 17428, 'sunand': 17429, 'swishing': 17430, 'gawkers': 17431, 'squishlips': 17432, 'brightsmile': 17433, 'espouse': 17434, 'puppets': 17435, 'brink': 17436, 'mouthfuls': 17437, 'feinting': 17438, 'severely': 17439, 'spirals': 17440, 'quaver': 17441, 'oiling': 17442, 'ebbed': 17443, 'tinged': 17444, 'contemptible': 17445, 'somewheres': 17446, 'hardship': 17447, 'prided': 17448, 'collections': 17449, 'unlettered': 17450, 'clefts': 17451, 'uk': 17452}\n"
     ]
    }
   ],
   "source": [
    "print(model.wv.key_to_index) # vocabulary"
   ]
  },
  {
   "cell_type": "code",
   "execution_count": 12,
   "metadata": {},
   "outputs": [
    {
     "data": {
      "text/plain": [
       "(6570455, 8628190)"
      ]
     },
     "execution_count": 12,
     "metadata": {},
     "output_type": "execute_result"
    }
   ],
   "source": [
    "model.train(books, total_examples=model.corpus_count, epochs = model.epochs)"
   ]
  },
  {
   "cell_type": "code",
   "execution_count": 13,
   "metadata": {},
   "outputs": [
    {
     "data": {
      "text/plain": [
       "[('roads', 0.7324135899543762),\n",
       " ('maesters', 0.7006590962409973),\n",
       " ('enemy', 0.6913532614707947),\n",
       " ('slavers', 0.6800565719604492),\n",
       " ('whores', 0.6764947175979614),\n",
       " ('reason', 0.675395667552948),\n",
       " ('country', 0.6752565503120422),\n",
       " ('ways', 0.6732255816459656),\n",
       " ('immortal', 0.6721555590629578),\n",
       " ('trouble', 0.657966673374176)]"
      ]
     },
     "execution_count": 13,
     "metadata": {},
     "output_type": "execute_result"
    }
   ],
   "source": [
    "model.wv.most_similar('game')"
   ]
  },
  {
   "cell_type": "code",
   "execution_count": 14,
   "metadata": {},
   "outputs": [
    {
     "data": {
      "text/plain": [
       "'game'"
      ]
     },
     "execution_count": 14,
     "metadata": {},
     "output_type": "execute_result"
    }
   ],
   "source": [
    "model.wv.doesnt_match(['game','throne','king','queen'])"
   ]
  },
  {
   "cell_type": "code",
   "execution_count": 15,
   "metadata": {},
   "outputs": [
    {
     "ename": "KeyError",
     "evalue": "\"Key 'ankit' not present in vocabulary\"",
     "output_type": "error",
     "traceback": [
      "\u001b[1;31m---------------------------------------------------------------------------\u001b[0m",
      "\u001b[1;31mKeyError\u001b[0m                                  Traceback (most recent call last)",
      "Cell \u001b[1;32mIn[15], line 1\u001b[0m\n\u001b[1;32m----> 1\u001b[0m model\u001b[38;5;241m.\u001b[39mwv\u001b[38;5;241m.\u001b[39mmost_similar(\u001b[38;5;124m'\u001b[39m\u001b[38;5;124mankit\u001b[39m\u001b[38;5;124m'\u001b[39m)\n",
      "File \u001b[1;32mc:\\Users\\akkan\\anaconda3\\Lib\\site-packages\\gensim\\models\\keyedvectors.py:841\u001b[0m, in \u001b[0;36mKeyedVectors.most_similar\u001b[1;34m(self, positive, negative, topn, clip_start, clip_end, restrict_vocab, indexer)\u001b[0m\n\u001b[0;32m    838\u001b[0m         weight[idx] \u001b[38;5;241m=\u001b[39m item[\u001b[38;5;241m1\u001b[39m]\n\u001b[0;32m    840\u001b[0m \u001b[38;5;66;03m# compute the weighted average of all keys\u001b[39;00m\n\u001b[1;32m--> 841\u001b[0m mean \u001b[38;5;241m=\u001b[39m \u001b[38;5;28mself\u001b[39m\u001b[38;5;241m.\u001b[39mget_mean_vector(keys, weight, pre_normalize\u001b[38;5;241m=\u001b[39m\u001b[38;5;28;01mTrue\u001b[39;00m, post_normalize\u001b[38;5;241m=\u001b[39m\u001b[38;5;28;01mTrue\u001b[39;00m, ignore_missing\u001b[38;5;241m=\u001b[39m\u001b[38;5;28;01mFalse\u001b[39;00m)\n\u001b[0;32m    842\u001b[0m all_keys \u001b[38;5;241m=\u001b[39m [\n\u001b[0;32m    843\u001b[0m     \u001b[38;5;28mself\u001b[39m\u001b[38;5;241m.\u001b[39mget_index(key) \u001b[38;5;28;01mfor\u001b[39;00m key \u001b[38;5;129;01min\u001b[39;00m keys \u001b[38;5;28;01mif\u001b[39;00m \u001b[38;5;28misinstance\u001b[39m(key, _KEY_TYPES) \u001b[38;5;129;01mand\u001b[39;00m \u001b[38;5;28mself\u001b[39m\u001b[38;5;241m.\u001b[39mhas_index_for(key)\n\u001b[0;32m    844\u001b[0m ]\n\u001b[0;32m    846\u001b[0m \u001b[38;5;28;01mif\u001b[39;00m indexer \u001b[38;5;129;01mis\u001b[39;00m \u001b[38;5;129;01mnot\u001b[39;00m \u001b[38;5;28;01mNone\u001b[39;00m \u001b[38;5;129;01mand\u001b[39;00m \u001b[38;5;28misinstance\u001b[39m(topn, \u001b[38;5;28mint\u001b[39m):\n",
      "File \u001b[1;32mc:\\Users\\akkan\\anaconda3\\Lib\\site-packages\\gensim\\models\\keyedvectors.py:518\u001b[0m, in \u001b[0;36mKeyedVectors.get_mean_vector\u001b[1;34m(self, keys, weights, pre_normalize, post_normalize, ignore_missing)\u001b[0m\n\u001b[0;32m    516\u001b[0m         total_weight \u001b[38;5;241m+\u001b[39m\u001b[38;5;241m=\u001b[39m \u001b[38;5;28mabs\u001b[39m(weights[idx])\n\u001b[0;32m    517\u001b[0m     \u001b[38;5;28;01melif\u001b[39;00m \u001b[38;5;129;01mnot\u001b[39;00m ignore_missing:\n\u001b[1;32m--> 518\u001b[0m         \u001b[38;5;28;01mraise\u001b[39;00m \u001b[38;5;167;01mKeyError\u001b[39;00m(\u001b[38;5;124mf\u001b[39m\u001b[38;5;124m\"\u001b[39m\u001b[38;5;124mKey \u001b[39m\u001b[38;5;124m'\u001b[39m\u001b[38;5;132;01m{\u001b[39;00mkey\u001b[38;5;132;01m}\u001b[39;00m\u001b[38;5;124m'\u001b[39m\u001b[38;5;124m not present in vocabulary\u001b[39m\u001b[38;5;124m\"\u001b[39m)\n\u001b[0;32m    520\u001b[0m \u001b[38;5;28;01mif\u001b[39;00m total_weight \u001b[38;5;241m>\u001b[39m \u001b[38;5;241m0\u001b[39m:\n\u001b[0;32m    521\u001b[0m     mean \u001b[38;5;241m=\u001b[39m mean \u001b[38;5;241m/\u001b[39m total_weight\n",
      "\u001b[1;31mKeyError\u001b[0m: \"Key 'ankit' not present in vocabulary\""
     ]
    }
   ],
   "source": [
    "model.wv.most_similar('ankit') # out of vocabulary"
   ]
  },
  {
   "cell_type": "code",
   "execution_count": 16,
   "metadata": {},
   "outputs": [
    {
     "data": {
      "text/plain": [
       "array([ 0.25428724, -0.5093093 , -0.30320838,  0.33222923, -1.769225  ,\n",
       "        0.60981894, -0.02096075, -0.03360816, -0.07489543, -0.95036066,\n",
       "       -1.0639912 ,  0.41214657,  0.39980862,  0.5056025 , -1.1743628 ,\n",
       "       -0.06912631,  0.9914513 , -0.6590471 , -0.4357261 , -0.98325545,\n",
       "       -0.05003123,  0.16053139,  0.01802812,  0.47534704, -1.3193599 ,\n",
       "       -0.6084382 , -0.8308183 ,  0.22717033,  0.2663196 , -0.12810737,\n",
       "       -1.4204059 ,  1.0651202 , -0.24102741, -0.33515826,  0.12611185,\n",
       "        0.27207384, -1.0422441 , -0.5140524 , -0.76909405, -0.11877871,\n",
       "       -0.95558935,  0.42009878, -0.58435774,  0.3200048 ,  0.8461805 ,\n",
       "       -0.25737587,  0.52077454, -0.7414074 ,  0.93505317,  0.4550598 ,\n",
       "       -0.19526315, -0.5989469 , -0.684046  , -1.774291  ,  0.5590645 ,\n",
       "        1.0416232 ,  0.1179958 ,  0.18607472, -1.0305817 ,  0.8739114 ,\n",
       "        0.637415  , -0.26194477, -0.10639223,  1.0980976 ,  0.2742103 ,\n",
       "        0.27901486, -1.1819855 ,  0.07736759,  0.30095547, -0.25413257,\n",
       "        0.11968437, -0.45927903,  1.1104047 ,  0.08661979,  0.5556328 ,\n",
       "       -0.04368903,  0.86624086, -0.58110833,  0.6769526 , -0.5915909 ,\n",
       "       -0.21110693,  0.20351194, -0.56658   ,  0.3822354 , -0.6385868 ,\n",
       "       -0.40617082,  0.8661295 ,  1.2339617 ,  0.21703632,  0.5770509 ,\n",
       "        0.2468692 ,  0.29707566, -0.1822471 ,  1.1508688 ,  0.9334523 ,\n",
       "        0.32592058, -1.999526  , -0.69409186, -0.0035168 ,  0.6401949 ],\n",
       "      dtype=float32)"
      ]
     },
     "execution_count": 16,
     "metadata": {},
     "output_type": "execute_result"
    }
   ],
   "source": [
    "model.wv['kings']"
   ]
  },
  {
   "cell_type": "code",
   "execution_count": 17,
   "metadata": {},
   "outputs": [
    {
     "data": {
      "text/plain": [
       "0.50075763"
      ]
     },
     "execution_count": 17,
     "metadata": {},
     "output_type": "execute_result"
    }
   ],
   "source": [
    "model.wv.similarity('king','queen')"
   ]
  },
  {
   "cell_type": "code",
   "execution_count": 18,
   "metadata": {},
   "outputs": [
    {
     "data": {
      "text/plain": [
       "0.8284079"
      ]
     },
     "execution_count": 18,
     "metadata": {},
     "output_type": "execute_result"
    }
   ],
   "source": [
    "model.wv.similarity('arya','sansa')"
   ]
  },
  {
   "cell_type": "code",
   "execution_count": 19,
   "metadata": {},
   "outputs": [
    {
     "data": {
      "text/plain": [
       "array([[-0.12663051, -0.06727301,  0.01881121, ..., -0.15728587,\n",
       "         0.12267602,  0.1458247 ],\n",
       "       [-0.11530391, -0.05488504,  0.12392443, ..., -0.08606807,\n",
       "        -0.01076798,  0.0686364 ],\n",
       "       [ 0.15016893, -0.09991801, -0.14354555, ..., -0.13042691,\n",
       "         0.09734825, -0.06656829],\n",
       "       ...,\n",
       "       [ 0.03985105,  0.02423153, -0.05235585, ..., -0.09385668,\n",
       "         0.08155461, -0.15068415],\n",
       "       [-0.00107922, -0.00378898,  0.14944062, ..., -0.04264737,\n",
       "         0.14138491, -0.07311466],\n",
       "       [-0.0916058 ,  0.11560037,  0.12976128, ..., -0.07429948,\n",
       "         0.11209701, -0.01485299]], dtype=float32)"
      ]
     },
     "execution_count": 19,
     "metadata": {},
     "output_type": "execute_result"
    }
   ],
   "source": [
    "model.wv.get_normed_vectors() # to see all vector together "
   ]
  },
  {
   "cell_type": "code",
   "execution_count": 20,
   "metadata": {},
   "outputs": [
    {
     "data": {
      "text/plain": [
       "(17453, 100)"
      ]
     },
     "execution_count": 20,
     "metadata": {},
     "output_type": "execute_result"
    }
   ],
   "source": [
    "model.wv.get_normed_vectors().shape"
   ]
  },
  {
   "cell_type": "code",
   "execution_count": 21,
   "metadata": {},
   "outputs": [],
   "source": [
    "# to see which vector belongs to wchich word\n",
    "y = model.wv.index_to_key"
   ]
  },
  {
   "cell_type": "code",
   "execution_count": 22,
   "metadata": {},
   "outputs": [
    {
     "data": {
      "text/plain": [
       "['the',\n",
       " 'and',\n",
       " 'to',\n",
       " 'of',\n",
       " 'he',\n",
       " 'his',\n",
       " 'was',\n",
       " 'you',\n",
       " 'her',\n",
       " 'in',\n",
       " 'it',\n",
       " 'had',\n",
       " 'that',\n",
       " 'she',\n",
       " 'as',\n",
       " 'with',\n",
       " 'him',\n",
       " 'not',\n",
       " 'but',\n",
       " 'for',\n",
       " 'they',\n",
       " 'is',\n",
       " 'at',\n",
       " 'on',\n",
       " 'said',\n",
       " 'my',\n",
       " 'have',\n",
       " 'be',\n",
       " 'lord',\n",
       " 'them',\n",
       " 'no',\n",
       " 'from',\n",
       " 'would',\n",
       " 'were',\n",
       " 'me',\n",
       " 'your',\n",
       " 'one',\n",
       " 'all',\n",
       " 'when',\n",
       " 'will',\n",
       " 'ser',\n",
       " 'if',\n",
       " 'so',\n",
       " 'their',\n",
       " 'we',\n",
       " 'could',\n",
       " 'are',\n",
       " 'man',\n",
       " 'there',\n",
       " 'this',\n",
       " 'up',\n",
       " 'been',\n",
       " 'what',\n",
       " 'did',\n",
       " 'by',\n",
       " 'king',\n",
       " 'do',\n",
       " 'men',\n",
       " 'back',\n",
       " 'out',\n",
       " 'more',\n",
       " 'or',\n",
       " 'who',\n",
       " 'down',\n",
       " 'well',\n",
       " 'than',\n",
       " 'only',\n",
       " 'like',\n",
       " 'jon',\n",
       " 'some',\n",
       " 'father',\n",
       " 'old',\n",
       " 'hand',\n",
       " 'even',\n",
       " 'too',\n",
       " 'tyrion',\n",
       " 'before',\n",
       " 'never',\n",
       " 'an',\n",
       " 'off',\n",
       " 'see',\n",
       " 'know',\n",
       " 'into',\n",
       " 'made',\n",
       " 'now',\n",
       " 'eyes',\n",
       " 'black',\n",
       " 'told',\n",
       " 'lady',\n",
       " 'thought',\n",
       " 'time',\n",
       " 'then',\n",
       " 'how',\n",
       " 'long',\n",
       " 'has',\n",
       " 'can',\n",
       " 'might',\n",
       " 'us',\n",
       " 'come',\n",
       " 'where',\n",
       " 'here',\n",
       " 'through',\n",
       " 'still',\n",
       " 'face',\n",
       " 'head',\n",
       " 'red',\n",
       " 'll',\n",
       " 'way',\n",
       " 'boy',\n",
       " 'page',\n",
       " 'must',\n",
       " 'once',\n",
       " 'queen',\n",
       " 'good',\n",
       " 'two',\n",
       " 'brother',\n",
       " 'night',\n",
       " 'over',\n",
       " 'little',\n",
       " 'about',\n",
       " 'took',\n",
       " 'other',\n",
       " 'came',\n",
       " 'though',\n",
       " 'again',\n",
       " 'say',\n",
       " 'three',\n",
       " 'should',\n",
       " 'away',\n",
       " 'dead',\n",
       " 'son',\n",
       " 'own',\n",
       " 'blood',\n",
       " 'am',\n",
       " 'take',\n",
       " 'go',\n",
       " 'half',\n",
       " 'make',\n",
       " 'arya',\n",
       " 'saw',\n",
       " 'day',\n",
       " 'white',\n",
       " 'jaime',\n",
       " 'first',\n",
       " 'himself',\n",
       " 'our',\n",
       " 'look',\n",
       " 'want',\n",
       " 'after',\n",
       " 'much',\n",
       " 'enough',\n",
       " 'sword',\n",
       " 'tell',\n",
       " 'girl',\n",
       " 'bran',\n",
       " 'great',\n",
       " 'its',\n",
       " 'looked',\n",
       " 'left',\n",
       " 'knew',\n",
       " 'asked',\n",
       " 'gave',\n",
       " 'maester',\n",
       " 'called',\n",
       " 'wall',\n",
       " 'every',\n",
       " 'heard',\n",
       " 'sansa',\n",
       " 'let',\n",
       " 'yet',\n",
       " 'went',\n",
       " 'turned',\n",
       " 'dany',\n",
       " 'why',\n",
       " 'need',\n",
       " 'behind',\n",
       " 'around',\n",
       " 'just',\n",
       " 'woman',\n",
       " 'another',\n",
       " 'snow',\n",
       " 'beneath',\n",
       " 'across',\n",
       " 'knight',\n",
       " 'keep',\n",
       " 'grace',\n",
       " 'found',\n",
       " 'gold',\n",
       " 'any',\n",
       " 'last',\n",
       " 'cersei',\n",
       " 'castle',\n",
       " 'those',\n",
       " 'stark',\n",
       " 'gods',\n",
       " 'think',\n",
       " 'hair',\n",
       " 'many',\n",
       " 'feet',\n",
       " 'against',\n",
       " 'hands',\n",
       " 'stannis',\n",
       " 'mother',\n",
       " 'catelyn',\n",
       " 'robert',\n",
       " 'seemed',\n",
       " 'prince',\n",
       " 'may',\n",
       " 'ever',\n",
       " 'robb',\n",
       " 'done',\n",
       " 'don',\n",
       " 'find',\n",
       " 'lannister',\n",
       " 're',\n",
       " 'hear',\n",
       " 'grey',\n",
       " 'name',\n",
       " 'horse',\n",
       " 'high',\n",
       " 'put',\n",
       " 'stone',\n",
       " 'wine',\n",
       " 'hard',\n",
       " 'water',\n",
       " 'upon',\n",
       " 'fire',\n",
       " 'iron',\n",
       " 'until',\n",
       " 'these',\n",
       " 'voice',\n",
       " 'gone',\n",
       " 'give',\n",
       " 'sam',\n",
       " 'seen',\n",
       " 'better',\n",
       " 'shall',\n",
       " 'ned',\n",
       " 'always',\n",
       " 'years',\n",
       " 'between',\n",
       " 'dark',\n",
       " 'place',\n",
       " 'small',\n",
       " 'cold',\n",
       " 'winterfell',\n",
       " 'most',\n",
       " 'hundred',\n",
       " 'stood',\n",
       " 'end',\n",
       " 'sister',\n",
       " 'words',\n",
       " 'sea',\n",
       " 'right',\n",
       " 'nothing',\n",
       " 'walls',\n",
       " 'fingers',\n",
       " 'same',\n",
       " 'cloak',\n",
       " 'house',\n",
       " 'young',\n",
       " 'does',\n",
       " 'beside',\n",
       " 'get',\n",
       " 'mouth',\n",
       " 'seven',\n",
       " 'watch',\n",
       " 'door',\n",
       " 'joffrey',\n",
       " 'green',\n",
       " 'big',\n",
       " 'under',\n",
       " 'few',\n",
       " 'sent',\n",
       " 'perhaps',\n",
       " 'almost',\n",
       " 'such',\n",
       " 'wanted',\n",
       " 'daughter',\n",
       " 'true',\n",
       " 'while',\n",
       " 'leave',\n",
       " 'city',\n",
       " 'wind',\n",
       " 'light',\n",
       " 'arms',\n",
       " 'children',\n",
       " 'herself',\n",
       " 'sweet',\n",
       " 'others',\n",
       " 'lost',\n",
       " 'theon',\n",
       " 'each',\n",
       " 'felt',\n",
       " 'side',\n",
       " 'yes',\n",
       " 'brothers',\n",
       " 'best',\n",
       " 'very',\n",
       " 'die',\n",
       " 'brought',\n",
       " 'soon',\n",
       " 'far',\n",
       " 'died',\n",
       " 'north',\n",
       " 'child',\n",
       " 'fear',\n",
       " 'along',\n",
       " 'word',\n",
       " 'brienne',\n",
       " 'both',\n",
       " 'taken',\n",
       " 'battle',\n",
       " 'help',\n",
       " 'new',\n",
       " 'tywin',\n",
       " 'davos',\n",
       " 'lords',\n",
       " 'something',\n",
       " 've',\n",
       " 'wife',\n",
       " 'mean',\n",
       " 'rest',\n",
       " 'hall',\n",
       " 'kill',\n",
       " 'strong',\n",
       " 'steel',\n",
       " 'began',\n",
       " 'sound',\n",
       " 'won',\n",
       " 'dragon',\n",
       " 'past',\n",
       " 'life',\n",
       " 'tower',\n",
       " 'killed',\n",
       " 'arm',\n",
       " 'sons',\n",
       " 'tried',\n",
       " 'free',\n",
       " 'thing',\n",
       " 'days',\n",
       " 'bear',\n",
       " 'bloody',\n",
       " 'heart',\n",
       " 'pale',\n",
       " 'love',\n",
       " 'moment',\n",
       " 'sat',\n",
       " 'bring',\n",
       " 'bed',\n",
       " 'close',\n",
       " 'knights',\n",
       " 'cut',\n",
       " 'wolf',\n",
       " 'horses',\n",
       " 'smile',\n",
       " 'death',\n",
       " 'inside',\n",
       " 'four',\n",
       " 'brown',\n",
       " 'dragons',\n",
       " 'hot',\n",
       " 'silver',\n",
       " 'part',\n",
       " 'bastard',\n",
       " 'open',\n",
       " 'nor',\n",
       " 'thousand',\n",
       " 'landing',\n",
       " 'uncle',\n",
       " 'above',\n",
       " 'going',\n",
       " 'blue',\n",
       " 'air',\n",
       " 'captain',\n",
       " 'please',\n",
       " 'laughed',\n",
       " 'river',\n",
       " 'sun',\n",
       " 'rose',\n",
       " 'fell',\n",
       " 'war',\n",
       " 'golden',\n",
       " 'sleep',\n",
       " 'without',\n",
       " 'swords',\n",
       " 'speak',\n",
       " 'renly',\n",
       " 'full',\n",
       " 'fool',\n",
       " 'certain',\n",
       " 'beyond',\n",
       " 'feel',\n",
       " 'send',\n",
       " 'tongue',\n",
       " 'got',\n",
       " 'fight',\n",
       " 'rode',\n",
       " 'set',\n",
       " 'thick',\n",
       " 'throat',\n",
       " 'world',\n",
       " 'deep',\n",
       " 'legs',\n",
       " 'call',\n",
       " 'honor',\n",
       " 'rock',\n",
       " 'trees',\n",
       " 'tall',\n",
       " 'table',\n",
       " 'pulled',\n",
       " 'broken',\n",
       " 'mormont',\n",
       " 'women',\n",
       " 'steps',\n",
       " 'things',\n",
       " 'next',\n",
       " 'hodor',\n",
       " 'heavy',\n",
       " 'burned',\n",
       " 'oh',\n",
       " 'toward',\n",
       " 'together',\n",
       " 'skin',\n",
       " 'given',\n",
       " 'since',\n",
       " 'smiled',\n",
       " 'dwarf',\n",
       " 'alone',\n",
       " 'moved',\n",
       " 'storm',\n",
       " 'raised',\n",
       " 'ride',\n",
       " 'ask',\n",
       " 'hope',\n",
       " 'eye',\n",
       " 'soft',\n",
       " 'reached',\n",
       " 'frey',\n",
       " 'second',\n",
       " 'remember',\n",
       " 'someone',\n",
       " 'remembered',\n",
       " 'coming',\n",
       " 'meant',\n",
       " 'cannot',\n",
       " 'hold',\n",
       " 'morning',\n",
       " 'ten',\n",
       " 'teeth',\n",
       " 'else',\n",
       " 'throne',\n",
       " 'command',\n",
       " 'which',\n",
       " 'fat',\n",
       " 'truth',\n",
       " 'commander',\n",
       " 'walder',\n",
       " 'doubt',\n",
       " 'ground',\n",
       " 'jorah',\n",
       " 'cup',\n",
       " 'outside',\n",
       " 'known',\n",
       " 'wore',\n",
       " 'ran',\n",
       " 'gate',\n",
       " 'room',\n",
       " 'held',\n",
       " 'closed',\n",
       " 'home',\n",
       " 'matter',\n",
       " 'sky',\n",
       " 'south',\n",
       " 'wood',\n",
       " 'dozen',\n",
       " 'wed',\n",
       " 'people',\n",
       " 'neck',\n",
       " 'riverrun',\n",
       " 'food',\n",
       " 'instead',\n",
       " 'near',\n",
       " 'talk',\n",
       " 'turn',\n",
       " 'none',\n",
       " 'ships',\n",
       " 'tyrell',\n",
       " 'below',\n",
       " 'moon',\n",
       " 'summer',\n",
       " 'bolton',\n",
       " 'shadow',\n",
       " 'lips',\n",
       " 'watched',\n",
       " 'times',\n",
       " 'leather',\n",
       " 'varys',\n",
       " 'shoulder',\n",
       " 'septon',\n",
       " 'warm',\n",
       " 'caught',\n",
       " 'believe',\n",
       " 'least',\n",
       " 'guards',\n",
       " 'answer',\n",
       " 'god',\n",
       " 'blade',\n",
       " 'wondered',\n",
       " 'ice',\n",
       " 'opened',\n",
       " 'shield',\n",
       " 'barristan',\n",
       " 'mine',\n",
       " 'armor',\n",
       " 'safe',\n",
       " 'six',\n",
       " 'kept',\n",
       " 'wish',\n",
       " 'return',\n",
       " 'tommen',\n",
       " 'used',\n",
       " 'smell',\n",
       " 'less',\n",
       " 'being',\n",
       " 'foot',\n",
       " 'floor',\n",
       " 'squire',\n",
       " 'eddard',\n",
       " 'empty',\n",
       " 'run',\n",
       " 'followed',\n",
       " 'friends',\n",
       " 'serve',\n",
       " 'beard',\n",
       " 'boys',\n",
       " 'baratheon',\n",
       " 'cloaks',\n",
       " 'wedding',\n",
       " 'eat',\n",
       " 'wrong',\n",
       " 'daenerys',\n",
       " 'ghost',\n",
       " 'sight',\n",
       " 'flesh',\n",
       " 'five',\n",
       " 'hound',\n",
       " 'ship',\n",
       " 'strength',\n",
       " 'returned',\n",
       " 'bones',\n",
       " 'nose',\n",
       " 'crown',\n",
       " 'yellow',\n",
       " 'chest',\n",
       " 'covered',\n",
       " 'says',\n",
       " 'commanded',\n",
       " 'petyr',\n",
       " 'sometimes',\n",
       " 'filled',\n",
       " 'aemon',\n",
       " 'friend',\n",
       " 'led',\n",
       " 'aye',\n",
       " 'common',\n",
       " 'yours',\n",
       " 'flames',\n",
       " 'spoke',\n",
       " 'show',\n",
       " 'fighting',\n",
       " 'asha',\n",
       " 'huge',\n",
       " 'aside',\n",
       " 'lysa',\n",
       " 'crow',\n",
       " 'belly',\n",
       " 'master',\n",
       " 'breath',\n",
       " 'seem',\n",
       " 'yard',\n",
       " 'gates',\n",
       " 'waiting',\n",
       " 'within',\n",
       " 'looking',\n",
       " 'wet',\n",
       " 'wooden',\n",
       " 'realm',\n",
       " 'thin',\n",
       " 'work',\n",
       " 'bad',\n",
       " 'use',\n",
       " 'promised',\n",
       " 'later',\n",
       " 'tree',\n",
       " 'husband',\n",
       " 'grew',\n",
       " 'onto',\n",
       " 'wildlings',\n",
       " 'loved',\n",
       " 'afraid',\n",
       " 'girls',\n",
       " 'greyjoy',\n",
       " 'shoulders',\n",
       " 'rain',\n",
       " 'shouted',\n",
       " 'walked',\n",
       " 'maid',\n",
       " 'mance',\n",
       " 'remained',\n",
       " 'late',\n",
       " 'guard',\n",
       " 'littlefinger',\n",
       " 'meereen',\n",
       " 'liked',\n",
       " 'fall',\n",
       " 'year',\n",
       " 'margaery',\n",
       " 'dog',\n",
       " 'passed',\n",
       " 'hurt',\n",
       " 'balon',\n",
       " 'taste',\n",
       " 'dothraki',\n",
       " 'lay',\n",
       " 'drew',\n",
       " 'spear',\n",
       " 'song',\n",
       " 'realized',\n",
       " 'pushed',\n",
       " 'sure',\n",
       " 'named',\n",
       " 'reach',\n",
       " 'brave',\n",
       " 'stand',\n",
       " 'different',\n",
       " 'finally',\n",
       " 'whispered',\n",
       " 'wolves',\n",
       " 'suddenly',\n",
       " 'poor',\n",
       " 'kingsguard',\n",
       " 'drogo',\n",
       " 'stay',\n",
       " 'arryn',\n",
       " 'stop',\n",
       " 'kingdoms',\n",
       " 'broke',\n",
       " 'ears',\n",
       " 'edmure',\n",
       " 'princess',\n",
       " 'burning',\n",
       " 'faces',\n",
       " 'lannisters',\n",
       " 'dream',\n",
       " 'axe',\n",
       " 'direwolf',\n",
       " 'west',\n",
       " 'tears',\n",
       " 'heir',\n",
       " 'drink',\n",
       " 'clegane',\n",
       " 'darkness',\n",
       " 'either',\n",
       " 'pointed',\n",
       " 'raven',\n",
       " 'hill',\n",
       " 'try',\n",
       " 'forward',\n",
       " 'sworn',\n",
       " 'pain',\n",
       " 'khal',\n",
       " 'lie',\n",
       " 'dagger',\n",
       " 'truly',\n",
       " 'kings',\n",
       " 'seat',\n",
       " 'grown',\n",
       " 'born',\n",
       " 'road',\n",
       " 'harrenhal',\n",
       " 'care',\n",
       " 'bronn',\n",
       " 'round',\n",
       " 'helm',\n",
       " 'feast',\n",
       " 'understand',\n",
       " 'quick',\n",
       " 'pycelle',\n",
       " 'meat',\n",
       " 'amongst',\n",
       " 'lifted',\n",
       " 'longer',\n",
       " 'reminded',\n",
       " 'whilst',\n",
       " 'maybe',\n",
       " 'mountain',\n",
       " 'short',\n",
       " 'step',\n",
       " 'rodrik',\n",
       " 'pretty',\n",
       " 'melisandre',\n",
       " 'ones',\n",
       " 'third',\n",
       " 'bit',\n",
       " 'worse',\n",
       " 'stopped',\n",
       " 'lands',\n",
       " 'aegon',\n",
       " 'sit',\n",
       " 'victarion',\n",
       " 'save',\n",
       " 'sharp',\n",
       " 'knows',\n",
       " 'live',\n",
       " 'smoke',\n",
       " 'whose',\n",
       " 'pray',\n",
       " 'leg',\n",
       " 'window',\n",
       " 'horn',\n",
       " 'younger',\n",
       " 'westeros',\n",
       " 'didn',\n",
       " 'twenty',\n",
       " 'silk',\n",
       " 'heads',\n",
       " 'slaves',\n",
       " 'ago',\n",
       " 'septa',\n",
       " 'pie',\n",
       " 'peace',\n",
       " 'laugh',\n",
       " 'hizdahr',\n",
       " 'mind',\n",
       " 'low',\n",
       " 'bread',\n",
       " 'wants',\n",
       " 'east',\n",
       " 'blind',\n",
       " 'reek',\n",
       " 'mad',\n",
       " 'sooner',\n",
       " 'towers',\n",
       " 'bright',\n",
       " 'myself',\n",
       " 'coin',\n",
       " 'older',\n",
       " 'slain',\n",
       " 'camp',\n",
       " 'making',\n",
       " 'walk',\n",
       " 'drowned',\n",
       " 'served',\n",
       " 'narrow',\n",
       " 'salt',\n",
       " 'point',\n",
       " 'wait',\n",
       " 'glanced',\n",
       " 'cheeks',\n",
       " 'cousin',\n",
       " 'luwin',\n",
       " 'knife',\n",
       " 'targaryen',\n",
       " 'shook',\n",
       " 'touched',\n",
       " 'quiet',\n",
       " 'stepped',\n",
       " 'sort',\n",
       " 'often',\n",
       " 'riding',\n",
       " 'naked',\n",
       " 'twisted',\n",
       " 'loras',\n",
       " 'choice',\n",
       " 'during',\n",
       " 'lion',\n",
       " 'forgotten',\n",
       " 'silence',\n",
       " 'fish',\n",
       " 'kevan',\n",
       " 'ramsay',\n",
       " 'hung',\n",
       " 'read',\n",
       " 'gift',\n",
       " 'running',\n",
       " 'replied',\n",
       " 'fallen',\n",
       " 'large',\n",
       " 'knees',\n",
       " 'silent',\n",
       " 'fought',\n",
       " 'company',\n",
       " 'cat',\n",
       " 'ahead',\n",
       " 'sept',\n",
       " 'needs',\n",
       " 'beautiful',\n",
       " 'rhaegar',\n",
       " 'dogs',\n",
       " 'dawn',\n",
       " 'knee',\n",
       " 'pass',\n",
       " 'dorne',\n",
       " 'casterly',\n",
       " 'mud',\n",
       " 'themselves',\n",
       " 'tully',\n",
       " 'body',\n",
       " 'singer',\n",
       " 'gregor',\n",
       " 'court',\n",
       " 'stupid',\n",
       " 'age',\n",
       " 'meera',\n",
       " 'trying',\n",
       " 'top',\n",
       " 'swear',\n",
       " 'kind',\n",
       " 'offered',\n",
       " 'gendry',\n",
       " 'leaves',\n",
       " 'whole',\n",
       " 'clothes',\n",
       " 'closer',\n",
       " 'anything',\n",
       " 'kiss',\n",
       " 'whatever',\n",
       " 'threw',\n",
       " 'wonder',\n",
       " 'agreed',\n",
       " 'pay',\n",
       " 'answered',\n",
       " 'climbed',\n",
       " 'saying',\n",
       " 'saddle',\n",
       " 'wide',\n",
       " 'stars',\n",
       " 'comes',\n",
       " 'stones',\n",
       " 'chain',\n",
       " 'trust',\n",
       " 'host',\n",
       " 'fair',\n",
       " 'pleased',\n",
       " 'trident',\n",
       " 'yourself',\n",
       " 'yunkai',\n",
       " 'dry',\n",
       " 'hour',\n",
       " 'insisted',\n",
       " 'eight',\n",
       " 'spears',\n",
       " 'dying',\n",
       " 'ear',\n",
       " 'fast',\n",
       " 'carried',\n",
       " 'service',\n",
       " 'doors',\n",
       " 'ought',\n",
       " 'fist',\n",
       " 'woods',\n",
       " 'mail',\n",
       " 'council',\n",
       " 'wasn',\n",
       " 'fine',\n",
       " 'crossed',\n",
       " 'needed',\n",
       " 'join',\n",
       " 'thank',\n",
       " 'milk',\n",
       " 'wildling',\n",
       " 'quentyn',\n",
       " 'finger',\n",
       " 'gilly',\n",
       " 'shadows',\n",
       " 'doing',\n",
       " 'tent',\n",
       " 'win',\n",
       " 'bird',\n",
       " 'land',\n",
       " 'helped',\n",
       " 'boots',\n",
       " 'imp',\n",
       " 'crows',\n",
       " 'names',\n",
       " 'somehow',\n",
       " 'folk',\n",
       " 'kissed',\n",
       " 'winter',\n",
       " 'letter',\n",
       " 'banners',\n",
       " 'screamed',\n",
       " 'angry',\n",
       " 'pink',\n",
       " 'frightened',\n",
       " 'learn',\n",
       " 'alive',\n",
       " 'torch',\n",
       " 'chair',\n",
       " 'eunuch',\n",
       " 'watching',\n",
       " 'daughters',\n",
       " 'tarly',\n",
       " 'dragonstone',\n",
       " 'harm',\n",
       " 'fires',\n",
       " 'learned',\n",
       " 'standing',\n",
       " 'serving',\n",
       " 'easy',\n",
       " 'neither',\n",
       " 'nine',\n",
       " 'wings',\n",
       " 'question',\n",
       " 'drunk',\n",
       " 'sail',\n",
       " 'priest',\n",
       " 'sisters',\n",
       " 'myrcella',\n",
       " 'nodded',\n",
       " 'harbor',\n",
       " 'bone',\n",
       " 'forth',\n",
       " 'warned',\n",
       " 'giant',\n",
       " 'slow',\n",
       " 'field',\n",
       " 'slipped',\n",
       " 'slid',\n",
       " 'slowly',\n",
       " 'bronze',\n",
       " 'dreams',\n",
       " 'falling',\n",
       " 'atop',\n",
       " 'promise',\n",
       " 'rise',\n",
       " 'slave',\n",
       " 'illyrio',\n",
       " 'whore',\n",
       " 'line',\n",
       " 'move',\n",
       " 'flowers',\n",
       " 'pyke',\n",
       " 'makes',\n",
       " 'laughter',\n",
       " 'loose',\n",
       " 'earth',\n",
       " 'grass',\n",
       " 'faced',\n",
       " 'bay',\n",
       " 'declared',\n",
       " 'twice',\n",
       " 'front',\n",
       " 'lived',\n",
       " 'power',\n",
       " 'viserys',\n",
       " 'cell',\n",
       " 'happened',\n",
       " 'because',\n",
       " 'play',\n",
       " 'chains',\n",
       " 'break',\n",
       " 'dance',\n",
       " 'oldtown',\n",
       " 'surely',\n",
       " 'aerys',\n",
       " 'clean',\n",
       " 'claim',\n",
       " 'unless',\n",
       " 'jeyne',\n",
       " 'eyrie',\n",
       " 'cried',\n",
       " 'fresh',\n",
       " 'pair',\n",
       " 'tormund',\n",
       " 'craster',\n",
       " 'laid',\n",
       " 'quite',\n",
       " 'morrow',\n",
       " 'shouting',\n",
       " 'sad',\n",
       " 'game',\n",
       " 'met',\n",
       " 'already',\n",
       " 'rule',\n",
       " 'touch',\n",
       " 'softly',\n",
       " 'woke',\n",
       " 'steward',\n",
       " 'sense',\n",
       " 'afterward',\n",
       " 'count',\n",
       " 'started',\n",
       " 'mounted',\n",
       " 'waters',\n",
       " 'sudden',\n",
       " 'captive',\n",
       " 'hide',\n",
       " 'jojen',\n",
       " ...]"
      ]
     },
     "execution_count": 22,
     "metadata": {},
     "output_type": "execute_result"
    }
   ],
   "source": [
    "y"
   ]
  },
  {
   "cell_type": "code",
   "execution_count": 23,
   "metadata": {},
   "outputs": [
    {
     "data": {
      "text/plain": [
       "17453"
      ]
     },
     "execution_count": 23,
     "metadata": {},
     "output_type": "execute_result"
    }
   ],
   "source": [
    "len(y)"
   ]
  },
  {
   "cell_type": "code",
   "execution_count": 24,
   "metadata": {},
   "outputs": [],
   "source": [
    "from sklearn.decomposition import PCA"
   ]
  },
  {
   "cell_type": "code",
   "execution_count": 25,
   "metadata": {},
   "outputs": [],
   "source": [
    "pca = PCA(n_components=3)"
   ]
  },
  {
   "cell_type": "code",
   "execution_count": 26,
   "metadata": {},
   "outputs": [],
   "source": [
    "X = pca.fit_transform(model.wv.get_normed_vectors())"
   ]
  },
  {
   "cell_type": "code",
   "execution_count": 27,
   "metadata": {},
   "outputs": [
    {
     "data": {
      "text/plain": [
       "(17453, 3)"
      ]
     },
     "execution_count": 27,
     "metadata": {},
     "output_type": "execute_result"
    }
   ],
   "source": [
    "X.shape"
   ]
  },
  {
   "cell_type": "code",
   "execution_count": 28,
   "metadata": {},
   "outputs": [
    {
     "data": {
      "application/vnd.plotly.v1+json": {
       "config": {
        "plotlyServerURL": "https://plot.ly"
       },
       "data": [
        {
         "hovertemplate": "color=the<br>0=%{x}<br>1=%{y}<br>2=%{z}<extra></extra>",
         "legendgroup": "the",
         "marker": {
          "color": "#636efa",
          "symbol": "circle"
         },
         "mode": "markers",
         "name": "the",
         "scene": "scene",
         "showlegend": true,
         "type": "scatter3d",
         "x": [
          0.1392022669315338
         ],
         "y": [
          -0.606347918510437
         ],
         "z": [
          -0.04263201355934143
         ]
        },
        {
         "hovertemplate": "color=and<br>0=%{x}<br>1=%{y}<br>2=%{z}<extra></extra>",
         "legendgroup": "and",
         "marker": {
          "color": "#EF553B",
          "symbol": "circle"
         },
         "mode": "markers",
         "name": "and",
         "scene": "scene",
         "showlegend": true,
         "type": "scatter3d",
         "x": [
          0.17462846636772156
         ],
         "y": [
          -0.34385788440704346
         ],
         "z": [
          0.030528753995895386
         ]
        },
        {
         "hovertemplate": "color=to<br>0=%{x}<br>1=%{y}<br>2=%{z}<extra></extra>",
         "legendgroup": "to",
         "marker": {
          "color": "#00cc96",
          "symbol": "circle"
         },
         "mode": "markers",
         "name": "to",
         "scene": "scene",
         "showlegend": true,
         "type": "scatter3d",
         "x": [
          -0.2892374098300934
         ],
         "y": [
          -0.5840374231338501
         ],
         "z": [
          0.24294355511665344
         ]
        },
        {
         "hovertemplate": "color=of<br>0=%{x}<br>1=%{y}<br>2=%{z}<extra></extra>",
         "legendgroup": "of",
         "marker": {
          "color": "#ab63fa",
          "symbol": "circle"
         },
         "mode": "markers",
         "name": "of",
         "scene": "scene",
         "showlegend": true,
         "type": "scatter3d",
         "x": [
          -0.007426068186759949
         ],
         "y": [
          -0.37326765060424805
         ],
         "z": [
          -0.10165289044380188
         ]
        },
        {
         "hovertemplate": "color=he<br>0=%{x}<br>1=%{y}<br>2=%{z}<extra></extra>",
         "legendgroup": "he",
         "marker": {
          "color": "#FFA15A",
          "symbol": "circle"
         },
         "mode": "markers",
         "name": "he",
         "scene": "scene",
         "showlegend": true,
         "type": "scatter3d",
         "x": [
          -0.10435508191585541
         ],
         "y": [
          -0.5267506837844849
         ],
         "z": [
          0.28758782148361206
         ]
        },
        {
         "hovertemplate": "color=his<br>0=%{x}<br>1=%{y}<br>2=%{z}<extra></extra>",
         "legendgroup": "his",
         "marker": {
          "color": "#19d3f3",
          "symbol": "circle"
         },
         "mode": "markers",
         "name": "his",
         "scene": "scene",
         "showlegend": true,
         "type": "scatter3d",
         "x": [
          0.042809873819351196
         ],
         "y": [
          -0.27757617831230164
         ],
         "z": [
          0.3165176212787628
         ]
        },
        {
         "hovertemplate": "color=was<br>0=%{x}<br>1=%{y}<br>2=%{z}<extra></extra>",
         "legendgroup": "was",
         "marker": {
          "color": "#FF6692",
          "symbol": "circle"
         },
         "mode": "markers",
         "name": "was",
         "scene": "scene",
         "showlegend": true,
         "type": "scatter3d",
         "x": [
          -0.1013798713684082
         ],
         "y": [
          -0.38105618953704834
         ],
         "z": [
          0.3421573340892792
         ]
        },
        {
         "hovertemplate": "color=you<br>0=%{x}<br>1=%{y}<br>2=%{z}<extra></extra>",
         "legendgroup": "you",
         "marker": {
          "color": "#B6E880",
          "symbol": "circle"
         },
         "mode": "markers",
         "name": "you",
         "scene": "scene",
         "showlegend": true,
         "type": "scatter3d",
         "x": [
          -0.5323078632354736
         ],
         "y": [
          -0.6123790740966797
         ],
         "z": [
          0.19835743308067322
         ]
        },
        {
         "hovertemplate": "color=her<br>0=%{x}<br>1=%{y}<br>2=%{z}<extra></extra>",
         "legendgroup": "her",
         "marker": {
          "color": "#FF97FF",
          "symbol": "circle"
         },
         "mode": "markers",
         "name": "her",
         "scene": "scene",
         "showlegend": true,
         "type": "scatter3d",
         "x": [
          0.005957901477813721
         ],
         "y": [
          -0.3762657046318054
         ],
         "z": [
          0.3595212697982788
         ]
        },
        {
         "hovertemplate": "color=in<br>0=%{x}<br>1=%{y}<br>2=%{z}<extra></extra>",
         "legendgroup": "in",
         "marker": {
          "color": "#FECB52",
          "symbol": "circle"
         },
         "mode": "markers",
         "name": "in",
         "scene": "scene",
         "showlegend": true,
         "type": "scatter3d",
         "x": [
          0.07402113080024719
         ],
         "y": [
          -0.4329192638397217
         ],
         "z": [
          0.09464119374752045
         ]
        },
        {
         "hovertemplate": "color=it<br>0=%{x}<br>1=%{y}<br>2=%{z}<extra></extra>",
         "legendgroup": "it",
         "marker": {
          "color": "#636efa",
          "symbol": "circle"
         },
         "mode": "markers",
         "name": "it",
         "scene": "scene",
         "showlegend": true,
         "type": "scatter3d",
         "x": [
          -0.06971244513988495
         ],
         "y": [
          -0.6144798994064331
         ],
         "z": [
          0.277290403842926
         ]
        },
        {
         "hovertemplate": "color=had<br>0=%{x}<br>1=%{y}<br>2=%{z}<extra></extra>",
         "legendgroup": "had",
         "marker": {
          "color": "#EF553B",
          "symbol": "circle"
         },
         "mode": "markers",
         "name": "had",
         "scene": "scene",
         "showlegend": true,
         "type": "scatter3d",
         "x": [
          -0.1482040286064148
         ],
         "y": [
          -0.5002763271331787
         ],
         "z": [
          0.20248207449913025
         ]
        },
        {
         "hovertemplate": "color=that<br>0=%{x}<br>1=%{y}<br>2=%{z}<extra></extra>",
         "legendgroup": "that",
         "marker": {
          "color": "#00cc96",
          "symbol": "circle"
         },
         "mode": "markers",
         "name": "that",
         "scene": "scene",
         "showlegend": true,
         "type": "scatter3d",
         "x": [
          -0.317923903465271
         ],
         "y": [
          -0.5943244099617004
         ],
         "z": [
          0.12437896430492401
         ]
        },
        {
         "hovertemplate": "color=she<br>0=%{x}<br>1=%{y}<br>2=%{z}<extra></extra>",
         "legendgroup": "she",
         "marker": {
          "color": "#ab63fa",
          "symbol": "circle"
         },
         "mode": "markers",
         "name": "she",
         "scene": "scene",
         "showlegend": true,
         "type": "scatter3d",
         "x": [
          -0.07450747489929199
         ],
         "y": [
          -0.49999645352363586
         ],
         "z": [
          0.3290729224681854
         ]
        },
        {
         "hovertemplate": "color=as<br>0=%{x}<br>1=%{y}<br>2=%{z}<extra></extra>",
         "legendgroup": "as",
         "marker": {
          "color": "#FFA15A",
          "symbol": "circle"
         },
         "mode": "markers",
         "name": "as",
         "scene": "scene",
         "showlegend": true,
         "type": "scatter3d",
         "x": [
          -0.027766428887844086
         ],
         "y": [
          -0.45297127962112427
         ],
         "z": [
          0.2844586670398712
         ]
        },
        {
         "hovertemplate": "color=with<br>0=%{x}<br>1=%{y}<br>2=%{z}<extra></extra>",
         "legendgroup": "with",
         "marker": {
          "color": "#19d3f3",
          "symbol": "circle"
         },
         "mode": "markers",
         "name": "with",
         "scene": "scene",
         "showlegend": true,
         "type": "scatter3d",
         "x": [
          0.11027207970619202
         ],
         "y": [
          -0.26664286851882935
         ],
         "z": [
          0.1958036869764328
         ]
        },
        {
         "hovertemplate": "color=him<br>0=%{x}<br>1=%{y}<br>2=%{z}<extra></extra>",
         "legendgroup": "him",
         "marker": {
          "color": "#FF6692",
          "symbol": "circle"
         },
         "mode": "markers",
         "name": "him",
         "scene": "scene",
         "showlegend": true,
         "type": "scatter3d",
         "x": [
          -0.1160358414053917
         ],
         "y": [
          -0.5046330690383911
         ],
         "z": [
          0.3227648138999939
         ]
        },
        {
         "hovertemplate": "color=not<br>0=%{x}<br>1=%{y}<br>2=%{z}<extra></extra>",
         "legendgroup": "not",
         "marker": {
          "color": "#B6E880",
          "symbol": "circle"
         },
         "mode": "markers",
         "name": "not",
         "scene": "scene",
         "showlegend": true,
         "type": "scatter3d",
         "x": [
          -0.4566708207130432
         ],
         "y": [
          -0.5643928050994873
         ],
         "z": [
          0.24190978705883026
         ]
        },
        {
         "hovertemplate": "color=but<br>0=%{x}<br>1=%{y}<br>2=%{z}<extra></extra>",
         "legendgroup": "but",
         "marker": {
          "color": "#FF97FF",
          "symbol": "circle"
         },
         "mode": "markers",
         "name": "but",
         "scene": "scene",
         "showlegend": true,
         "type": "scatter3d",
         "x": [
          -0.2262306809425354
         ],
         "y": [
          -0.5924936532974243
         ],
         "z": [
          0.22850851714611053
         ]
        },
        {
         "hovertemplate": "color=for<br>0=%{x}<br>1=%{y}<br>2=%{z}<extra></extra>",
         "legendgroup": "for",
         "marker": {
          "color": "#FECB52",
          "symbol": "circle"
         },
         "mode": "markers",
         "name": "for",
         "scene": "scene",
         "showlegend": true,
         "type": "scatter3d",
         "x": [
          -0.4283294081687927
         ],
         "y": [
          -0.5029128789901733
         ],
         "z": [
          0.2238948941230774
         ]
        },
        {
         "hovertemplate": "color=they<br>0=%{x}<br>1=%{y}<br>2=%{z}<extra></extra>",
         "legendgroup": "they",
         "marker": {
          "color": "#636efa",
          "symbol": "circle"
         },
         "mode": "markers",
         "name": "they",
         "scene": "scene",
         "showlegend": true,
         "type": "scatter3d",
         "x": [
          -0.02937731146812439
         ],
         "y": [
          -0.7255270481109619
         ],
         "z": [
          -0.035221368074417114
         ]
        },
        {
         "hovertemplate": "color=is<br>0=%{x}<br>1=%{y}<br>2=%{z}<extra></extra>",
         "legendgroup": "is",
         "marker": {
          "color": "#EF553B",
          "symbol": "circle"
         },
         "mode": "markers",
         "name": "is",
         "scene": "scene",
         "showlegend": true,
         "type": "scatter3d",
         "x": [
          -0.5787353515625
         ],
         "y": [
          -0.47522878646850586
         ],
         "z": [
          0.20268908143043518
         ]
        },
        {
         "hovertemplate": "color=at<br>0=%{x}<br>1=%{y}<br>2=%{z}<extra></extra>",
         "legendgroup": "at",
         "marker": {
          "color": "#00cc96",
          "symbol": "circle"
         },
         "mode": "markers",
         "name": "at",
         "scene": "scene",
         "showlegend": true,
         "type": "scatter3d",
         "x": [
          -0.0463232696056366
         ],
         "y": [
          -0.3847324252128601
         ],
         "z": [
          0.3306633234024048
         ]
        },
        {
         "hovertemplate": "color=on<br>0=%{x}<br>1=%{y}<br>2=%{z}<extra></extra>",
         "legendgroup": "on",
         "marker": {
          "color": "#ab63fa",
          "symbol": "circle"
         },
         "mode": "markers",
         "name": "on",
         "scene": "scene",
         "showlegend": true,
         "type": "scatter3d",
         "x": [
          0.1778164505958557
         ],
         "y": [
          -0.44864052534103394
         ],
         "z": [
          0.24141409993171692
         ]
        },
        {
         "hovertemplate": "color=said<br>0=%{x}<br>1=%{y}<br>2=%{z}<extra></extra>",
         "legendgroup": "said",
         "marker": {
          "color": "#FFA15A",
          "symbol": "circle"
         },
         "mode": "markers",
         "name": "said",
         "scene": "scene",
         "showlegend": true,
         "type": "scatter3d",
         "x": [
          -0.5569471120834351
         ],
         "y": [
          -0.4382922053337097
         ],
         "z": [
          0.5248430967330933
         ]
        },
        {
         "hovertemplate": "color=my<br>0=%{x}<br>1=%{y}<br>2=%{z}<extra></extra>",
         "legendgroup": "my",
         "marker": {
          "color": "#19d3f3",
          "symbol": "circle"
         },
         "mode": "markers",
         "name": "my",
         "scene": "scene",
         "showlegend": true,
         "type": "scatter3d",
         "x": [
          -0.47219106554985046
         ],
         "y": [
          -0.49537569284439087
         ],
         "z": [
          0.19215476512908936
         ]
        },
        {
         "hovertemplate": "color=have<br>0=%{x}<br>1=%{y}<br>2=%{z}<extra></extra>",
         "legendgroup": "have",
         "marker": {
          "color": "#FF6692",
          "symbol": "circle"
         },
         "mode": "markers",
         "name": "have",
         "scene": "scene",
         "showlegend": true,
         "type": "scatter3d",
         "x": [
          -0.3974708020687103
         ],
         "y": [
          -0.5910146236419678
         ],
         "z": [
          0.1537577509880066
         ]
        },
        {
         "hovertemplate": "color=be<br>0=%{x}<br>1=%{y}<br>2=%{z}<extra></extra>",
         "legendgroup": "be",
         "marker": {
          "color": "#B6E880",
          "symbol": "circle"
         },
         "mode": "markers",
         "name": "be",
         "scene": "scene",
         "showlegend": true,
         "type": "scatter3d",
         "x": [
          -0.4036060869693756
         ],
         "y": [
          -0.634101152420044
         ],
         "z": [
          0.1527174860239029
         ]
        },
        {
         "hovertemplate": "color=lord<br>0=%{x}<br>1=%{y}<br>2=%{z}<extra></extra>",
         "legendgroup": "lord",
         "marker": {
          "color": "#FF97FF",
          "symbol": "circle"
         },
         "mode": "markers",
         "name": "lord",
         "scene": "scene",
         "showlegend": true,
         "type": "scatter3d",
         "x": [
          -0.4872549772262573
         ],
         "y": [
          -0.4122629761695862
         ],
         "z": [
          0.11556196212768555
         ]
        },
        {
         "hovertemplate": "color=them<br>0=%{x}<br>1=%{y}<br>2=%{z}<extra></extra>",
         "legendgroup": "them",
         "marker": {
          "color": "#FECB52",
          "symbol": "circle"
         },
         "mode": "markers",
         "name": "them",
         "scene": "scene",
         "showlegend": true,
         "type": "scatter3d",
         "x": [
          0.015167534351348877
         ],
         "y": [
          -0.6964929699897766
         ],
         "z": [
          0.006432175636291504
         ]
        },
        {
         "hovertemplate": "color=no<br>0=%{x}<br>1=%{y}<br>2=%{z}<extra></extra>",
         "legendgroup": "no",
         "marker": {
          "color": "#636efa",
          "symbol": "circle"
         },
         "mode": "markers",
         "name": "no",
         "scene": "scene",
         "showlegend": true,
         "type": "scatter3d",
         "x": [
          -0.3646004796028137
         ],
         "y": [
          -0.5364495515823364
         ],
         "z": [
          0.10567297041416168
         ]
        },
        {
         "hovertemplate": "color=from<br>0=%{x}<br>1=%{y}<br>2=%{z}<extra></extra>",
         "legendgroup": "from",
         "marker": {
          "color": "#EF553B",
          "symbol": "circle"
         },
         "mode": "markers",
         "name": "from",
         "scene": "scene",
         "showlegend": true,
         "type": "scatter3d",
         "x": [
          0.18003642559051514
         ],
         "y": [
          -0.4604460895061493
         ],
         "z": [
          0.195123091340065
         ]
        },
        {
         "hovertemplate": "color=would<br>0=%{x}<br>1=%{y}<br>2=%{z}<extra></extra>",
         "legendgroup": "would",
         "marker": {
          "color": "#00cc96",
          "symbol": "circle"
         },
         "mode": "markers",
         "name": "would",
         "scene": "scene",
         "showlegend": true,
         "type": "scatter3d",
         "x": [
          -0.4116900861263275
         ],
         "y": [
          -0.550288200378418
         ],
         "z": [
          0.2843261957168579
         ]
        },
        {
         "hovertemplate": "color=were<br>0=%{x}<br>1=%{y}<br>2=%{z}<extra></extra>",
         "legendgroup": "were",
         "marker": {
          "color": "#ab63fa",
          "symbol": "circle"
         },
         "mode": "markers",
         "name": "were",
         "scene": "scene",
         "showlegend": true,
         "type": "scatter3d",
         "x": [
          0.028863579034805298
         ],
         "y": [
          -0.523965060710907
         ],
         "z": [
          0.06723304092884064
         ]
        },
        {
         "hovertemplate": "color=me<br>0=%{x}<br>1=%{y}<br>2=%{z}<extra></extra>",
         "legendgroup": "me",
         "marker": {
          "color": "#FFA15A",
          "symbol": "circle"
         },
         "mode": "markers",
         "name": "me",
         "scene": "scene",
         "showlegend": true,
         "type": "scatter3d",
         "x": [
          -0.4994370639324188
         ],
         "y": [
          -0.5717684626579285
         ],
         "z": [
          0.22716671228408813
         ]
        },
        {
         "hovertemplate": "color=your<br>0=%{x}<br>1=%{y}<br>2=%{z}<extra></extra>",
         "legendgroup": "your",
         "marker": {
          "color": "#19d3f3",
          "symbol": "circle"
         },
         "mode": "markers",
         "name": "your",
         "scene": "scene",
         "showlegend": true,
         "type": "scatter3d",
         "x": [
          -0.4542236626148224
         ],
         "y": [
          -0.46746212244033813
         ],
         "z": [
          0.18610671162605286
         ]
        },
        {
         "hovertemplate": "color=one<br>0=%{x}<br>1=%{y}<br>2=%{z}<extra></extra>",
         "legendgroup": "one",
         "marker": {
          "color": "#FF6692",
          "symbol": "circle"
         },
         "mode": "markers",
         "name": "one",
         "scene": "scene",
         "showlegend": true,
         "type": "scatter3d",
         "x": [
          -0.056751981377601624
         ],
         "y": [
          -0.5903561115264893
         ],
         "z": [
          0.15301261842250824
         ]
        },
        {
         "hovertemplate": "color=all<br>0=%{x}<br>1=%{y}<br>2=%{z}<extra></extra>",
         "legendgroup": "all",
         "marker": {
          "color": "#B6E880",
          "symbol": "circle"
         },
         "mode": "markers",
         "name": "all",
         "scene": "scene",
         "showlegend": true,
         "type": "scatter3d",
         "x": [
          -0.20347315073013306
         ],
         "y": [
          -0.7026519179344177
         ],
         "z": [
          -0.0007642209529876709
         ]
        },
        {
         "hovertemplate": "color=when<br>0=%{x}<br>1=%{y}<br>2=%{z}<extra></extra>",
         "legendgroup": "when",
         "marker": {
          "color": "#FF97FF",
          "symbol": "circle"
         },
         "mode": "markers",
         "name": "when",
         "scene": "scene",
         "showlegend": true,
         "type": "scatter3d",
         "x": [
          -0.13350164890289307
         ],
         "y": [
          -0.5660955905914307
         ],
         "z": [
          0.3230159878730774
         ]
        },
        {
         "hovertemplate": "color=will<br>0=%{x}<br>1=%{y}<br>2=%{z}<extra></extra>",
         "legendgroup": "will",
         "marker": {
          "color": "#FECB52",
          "symbol": "circle"
         },
         "mode": "markers",
         "name": "will",
         "scene": "scene",
         "showlegend": true,
         "type": "scatter3d",
         "x": [
          -0.49840763211250305
         ],
         "y": [
          -0.5363615155220032
         ],
         "z": [
          0.22526957094669342
         ]
        },
        {
         "hovertemplate": "color=ser<br>0=%{x}<br>1=%{y}<br>2=%{z}<extra></extra>",
         "legendgroup": "ser",
         "marker": {
          "color": "#636efa",
          "symbol": "circle"
         },
         "mode": "markers",
         "name": "ser",
         "scene": "scene",
         "showlegend": true,
         "type": "scatter3d",
         "x": [
          -0.3911387026309967
         ],
         "y": [
          -0.25893688201904297
         ],
         "z": [
          0.1495533287525177
         ]
        },
        {
         "hovertemplate": "color=if<br>0=%{x}<br>1=%{y}<br>2=%{z}<extra></extra>",
         "legendgroup": "if",
         "marker": {
          "color": "#EF553B",
          "symbol": "circle"
         },
         "mode": "markers",
         "name": "if",
         "scene": "scene",
         "showlegend": true,
         "type": "scatter3d",
         "x": [
          -0.39564400911331177
         ],
         "y": [
          -0.6107705235481262
         ],
         "z": [
          0.3038581609725952
         ]
        },
        {
         "hovertemplate": "color=so<br>0=%{x}<br>1=%{y}<br>2=%{z}<extra></extra>",
         "legendgroup": "so",
         "marker": {
          "color": "#00cc96",
          "symbol": "circle"
         },
         "mode": "markers",
         "name": "so",
         "scene": "scene",
         "showlegend": true,
         "type": "scatter3d",
         "x": [
          -0.18641772866249084
         ],
         "y": [
          -0.5477800369262695
         ],
         "z": [
          0.2988257110118866
         ]
        },
        {
         "hovertemplate": "color=their<br>0=%{x}<br>1=%{y}<br>2=%{z}<extra></extra>",
         "legendgroup": "their",
         "marker": {
          "color": "#ab63fa",
          "symbol": "circle"
         },
         "mode": "markers",
         "name": "their",
         "scene": "scene",
         "showlegend": true,
         "type": "scatter3d",
         "x": [
          0.061056554317474365
         ],
         "y": [
          -0.5511815547943115
         ],
         "z": [
          -0.17831304669380188
         ]
        },
        {
         "hovertemplate": "color=we<br>0=%{x}<br>1=%{y}<br>2=%{z}<extra></extra>",
         "legendgroup": "we",
         "marker": {
          "color": "#FFA15A",
          "symbol": "circle"
         },
         "mode": "markers",
         "name": "we",
         "scene": "scene",
         "showlegend": true,
         "type": "scatter3d",
         "x": [
          -0.367012619972229
         ],
         "y": [
          -0.7314674258232117
         ],
         "z": [
          0.0167752206325531
         ]
        },
        {
         "hovertemplate": "color=could<br>0=%{x}<br>1=%{y}<br>2=%{z}<extra></extra>",
         "legendgroup": "could",
         "marker": {
          "color": "#19d3f3",
          "symbol": "circle"
         },
         "mode": "markers",
         "name": "could",
         "scene": "scene",
         "showlegend": true,
         "type": "scatter3d",
         "x": [
          -0.10148699581623077
         ],
         "y": [
          -0.48917803168296814
         ],
         "z": [
          0.31946611404418945
         ]
        },
        {
         "hovertemplate": "color=are<br>0=%{x}<br>1=%{y}<br>2=%{z}<extra></extra>",
         "legendgroup": "are",
         "marker": {
          "color": "#FF6692",
          "symbol": "circle"
         },
         "mode": "markers",
         "name": "are",
         "scene": "scene",
         "showlegend": true,
         "type": "scatter3d",
         "x": [
          -0.42186737060546875
         ],
         "y": [
          -0.5347390174865723
         ],
         "z": [
          0.04184634983539581
         ]
        },
        {
         "hovertemplate": "color=man<br>0=%{x}<br>1=%{y}<br>2=%{z}<extra></extra>",
         "legendgroup": "man",
         "marker": {
          "color": "#B6E880",
          "symbol": "circle"
         },
         "mode": "markers",
         "name": "man",
         "scene": "scene",
         "showlegend": true,
         "type": "scatter3d",
         "x": [
          -0.12188445031642914
         ],
         "y": [
          -0.48589736223220825
         ],
         "z": [
          0.15943823754787445
         ]
        },
        {
         "hovertemplate": "color=there<br>0=%{x}<br>1=%{y}<br>2=%{z}<extra></extra>",
         "legendgroup": "there",
         "marker": {
          "color": "#FF97FF",
          "symbol": "circle"
         },
         "mode": "markers",
         "name": "there",
         "scene": "scene",
         "showlegend": true,
         "type": "scatter3d",
         "x": [
          -0.08207791298627853
         ],
         "y": [
          -0.6228992342948914
         ],
         "z": [
          0.04538068175315857
         ]
        },
        {
         "hovertemplate": "color=this<br>0=%{x}<br>1=%{y}<br>2=%{z}<extra></extra>",
         "legendgroup": "this",
         "marker": {
          "color": "#FECB52",
          "symbol": "circle"
         },
         "mode": "markers",
         "name": "this",
         "scene": "scene",
         "showlegend": true,
         "type": "scatter3d",
         "x": [
          -0.42716553807258606
         ],
         "y": [
          -0.6032025814056396
         ],
         "z": [
          0.13521946966648102
         ]
        },
        {
         "hovertemplate": "color=up<br>0=%{x}<br>1=%{y}<br>2=%{z}<extra></extra>",
         "legendgroup": "up",
         "marker": {
          "color": "#636efa",
          "symbol": "circle"
         },
         "mode": "markers",
         "name": "up",
         "scene": "scene",
         "showlegend": true,
         "type": "scatter3d",
         "x": [
          0.39872241020202637
         ],
         "y": [
          -0.5475080013275146
         ],
         "z": [
          0.3374476432800293
         ]
        },
        {
         "hovertemplate": "color=been<br>0=%{x}<br>1=%{y}<br>2=%{z}<extra></extra>",
         "legendgroup": "been",
         "marker": {
          "color": "#EF553B",
          "symbol": "circle"
         },
         "mode": "markers",
         "name": "been",
         "scene": "scene",
         "showlegend": true,
         "type": "scatter3d",
         "x": [
          -0.1685459166765213
         ],
         "y": [
          -0.5100646018981934
         ],
         "z": [
          0.1748703122138977
         ]
        },
        {
         "hovertemplate": "color=what<br>0=%{x}<br>1=%{y}<br>2=%{z}<extra></extra>",
         "legendgroup": "what",
         "marker": {
          "color": "#00cc96",
          "symbol": "circle"
         },
         "mode": "markers",
         "name": "what",
         "scene": "scene",
         "showlegend": true,
         "type": "scatter3d",
         "x": [
          -0.38589543104171753
         ],
         "y": [
          -0.6018903851509094
         ],
         "z": [
          0.1279529184103012
         ]
        },
        {
         "hovertemplate": "color=did<br>0=%{x}<br>1=%{y}<br>2=%{z}<extra></extra>",
         "legendgroup": "did",
         "marker": {
          "color": "#ab63fa",
          "symbol": "circle"
         },
         "mode": "markers",
         "name": "did",
         "scene": "scene",
         "showlegend": true,
         "type": "scatter3d",
         "x": [
          -0.36935949325561523
         ],
         "y": [
          -0.43863293528556824
         ],
         "z": [
          0.42489102482795715
         ]
        },
        {
         "hovertemplate": "color=by<br>0=%{x}<br>1=%{y}<br>2=%{z}<extra></extra>",
         "legendgroup": "by",
         "marker": {
          "color": "#FFA15A",
          "symbol": "circle"
         },
         "mode": "markers",
         "name": "by",
         "scene": "scene",
         "showlegend": true,
         "type": "scatter3d",
         "x": [
          -0.023004770278930664
         ],
         "y": [
          -0.44048193097114563
         ],
         "z": [
          0.05872005224227905
         ]
        },
        {
         "hovertemplate": "color=king<br>0=%{x}<br>1=%{y}<br>2=%{z}<extra></extra>",
         "legendgroup": "king",
         "marker": {
          "color": "#19d3f3",
          "symbol": "circle"
         },
         "mode": "markers",
         "name": "king",
         "scene": "scene",
         "showlegend": true,
         "type": "scatter3d",
         "x": [
          -0.3860170841217041
         ],
         "y": [
          -0.6357493996620178
         ],
         "z": [
          0.08051814138889313
         ]
        },
        {
         "hovertemplate": "color=do<br>0=%{x}<br>1=%{y}<br>2=%{z}<extra></extra>",
         "legendgroup": "do",
         "marker": {
          "color": "#FF6692",
          "symbol": "circle"
         },
         "mode": "markers",
         "name": "do",
         "scene": "scene",
         "showlegend": true,
         "type": "scatter3d",
         "x": [
          -0.5443423986434937
         ],
         "y": [
          -0.5160497426986694
         ],
         "z": [
          0.3305065631866455
         ]
        },
        {
         "hovertemplate": "color=men<br>0=%{x}<br>1=%{y}<br>2=%{z}<extra></extra>",
         "legendgroup": "men",
         "marker": {
          "color": "#B6E880",
          "symbol": "circle"
         },
         "mode": "markers",
         "name": "men",
         "scene": "scene",
         "showlegend": true,
         "type": "scatter3d",
         "x": [
          -0.10916788876056671
         ],
         "y": [
          -0.7697410583496094
         ],
         "z": [
          -0.21116378903388977
         ]
        },
        {
         "hovertemplate": "color=back<br>0=%{x}<br>1=%{y}<br>2=%{z}<extra></extra>",
         "legendgroup": "back",
         "marker": {
          "color": "#FF97FF",
          "symbol": "circle"
         },
         "mode": "markers",
         "name": "back",
         "scene": "scene",
         "showlegend": true,
         "type": "scatter3d",
         "x": [
          0.17613238096237183
         ],
         "y": [
          -0.6048749685287476
         ],
         "z": [
          0.47117891907691956
         ]
        },
        {
         "hovertemplate": "color=out<br>0=%{x}<br>1=%{y}<br>2=%{z}<extra></extra>",
         "legendgroup": "out",
         "marker": {
          "color": "#FECB52",
          "symbol": "circle"
         },
         "mode": "markers",
         "name": "out",
         "scene": "scene",
         "showlegend": true,
         "type": "scatter3d",
         "x": [
          0.25064682960510254
         ],
         "y": [
          -0.5341519117355347
         ],
         "z": [
          0.31529560685157776
         ]
        },
        {
         "hovertemplate": "color=more<br>0=%{x}<br>1=%{y}<br>2=%{z}<extra></extra>",
         "legendgroup": "more",
         "marker": {
          "color": "#636efa",
          "symbol": "circle"
         },
         "mode": "markers",
         "name": "more",
         "scene": "scene",
         "showlegend": true,
         "type": "scatter3d",
         "x": [
          -0.22640934586524963
         ],
         "y": [
          -0.5698840618133545
         ],
         "z": [
          0.09547750651836395
         ]
        },
        {
         "hovertemplate": "color=or<br>0=%{x}<br>1=%{y}<br>2=%{z}<extra></extra>",
         "legendgroup": "or",
         "marker": {
          "color": "#EF553B",
          "symbol": "circle"
         },
         "mode": "markers",
         "name": "or",
         "scene": "scene",
         "showlegend": true,
         "type": "scatter3d",
         "x": [
          -0.3326135277748108
         ],
         "y": [
          -0.5715846419334412
         ],
         "z": [
          0.12340347468852997
         ]
        },
        {
         "hovertemplate": "color=who<br>0=%{x}<br>1=%{y}<br>2=%{z}<extra></extra>",
         "legendgroup": "who",
         "marker": {
          "color": "#00cc96",
          "symbol": "circle"
         },
         "mode": "markers",
         "name": "who",
         "scene": "scene",
         "showlegend": true,
         "type": "scatter3d",
         "x": [
          -0.4464922547340393
         ],
         "y": [
          -0.6019266247749329
         ],
         "z": [
          -0.0761110782623291
         ]
        },
        {
         "hovertemplate": "color=down<br>0=%{x}<br>1=%{y}<br>2=%{z}<extra></extra>",
         "legendgroup": "down",
         "marker": {
          "color": "#ab63fa",
          "symbol": "circle"
         },
         "mode": "markers",
         "name": "down",
         "scene": "scene",
         "showlegend": true,
         "type": "scatter3d",
         "x": [
          0.4251924753189087
         ],
         "y": [
          -0.5782184600830078
         ],
         "z": [
          0.37702077627182007
         ]
        },
        {
         "hovertemplate": "color=well<br>0=%{x}<br>1=%{y}<br>2=%{z}<extra></extra>",
         "legendgroup": "well",
         "marker": {
          "color": "#FFA15A",
          "symbol": "circle"
         },
         "mode": "markers",
         "name": "well",
         "scene": "scene",
         "showlegend": true,
         "type": "scatter3d",
         "x": [
          -0.34119200706481934
         ],
         "y": [
          -0.5928122997283936
         ],
         "z": [
          0.08468611538410187
         ]
        },
        {
         "hovertemplate": "color=than<br>0=%{x}<br>1=%{y}<br>2=%{z}<extra></extra>",
         "legendgroup": "than",
         "marker": {
          "color": "#19d3f3",
          "symbol": "circle"
         },
         "mode": "markers",
         "name": "than",
         "scene": "scene",
         "showlegend": true,
         "type": "scatter3d",
         "x": [
          -0.2001132071018219
         ],
         "y": [
          -0.45324191451072693
         ],
         "z": [
          0.1865215301513672
         ]
        },
        {
         "hovertemplate": "color=only<br>0=%{x}<br>1=%{y}<br>2=%{z}<extra></extra>",
         "legendgroup": "only",
         "marker": {
          "color": "#FF6692",
          "symbol": "circle"
         },
         "mode": "markers",
         "name": "only",
         "scene": "scene",
         "showlegend": true,
         "type": "scatter3d",
         "x": [
          -0.28992959856987
         ],
         "y": [
          -0.6029996275901794
         ],
         "z": [
          0.08989796042442322
         ]
        },
        {
         "hovertemplate": "color=like<br>0=%{x}<br>1=%{y}<br>2=%{z}<extra></extra>",
         "legendgroup": "like",
         "marker": {
          "color": "#B6E880",
          "symbol": "circle"
         },
         "mode": "markers",
         "name": "like",
         "scene": "scene",
         "showlegend": true,
         "type": "scatter3d",
         "x": [
          0.05656538903713226
         ],
         "y": [
          -0.3655025362968445
         ],
         "z": [
          0.26237422227859497
         ]
        },
        {
         "hovertemplate": "color=jon<br>0=%{x}<br>1=%{y}<br>2=%{z}<extra></extra>",
         "legendgroup": "jon",
         "marker": {
          "color": "#FF97FF",
          "symbol": "circle"
         },
         "mode": "markers",
         "name": "jon",
         "scene": "scene",
         "showlegend": true,
         "type": "scatter3d",
         "x": [
          -0.07847046107053757
         ],
         "y": [
          -0.3843505382537842
         ],
         "z": [
          0.2605922818183899
         ]
        },
        {
         "hovertemplate": "color=some<br>0=%{x}<br>1=%{y}<br>2=%{z}<extra></extra>",
         "legendgroup": "some",
         "marker": {
          "color": "#FECB52",
          "symbol": "circle"
         },
         "mode": "markers",
         "name": "some",
         "scene": "scene",
         "showlegend": true,
         "type": "scatter3d",
         "x": [
          -0.13881729543209076
         ],
         "y": [
          -0.5570187568664551
         ],
         "z": [
          -0.12232890725135803
         ]
        },
        {
         "hovertemplate": "color=father<br>0=%{x}<br>1=%{y}<br>2=%{z}<extra></extra>",
         "legendgroup": "father",
         "marker": {
          "color": "#636efa",
          "symbol": "circle"
         },
         "mode": "markers",
         "name": "father",
         "scene": "scene",
         "showlegend": true,
         "type": "scatter3d",
         "x": [
          -0.48517826199531555
         ],
         "y": [
          -0.611100971698761
         ],
         "z": [
          0.21849960088729858
         ]
        },
        {
         "hovertemplate": "color=old<br>0=%{x}<br>1=%{y}<br>2=%{z}<extra></extra>",
         "legendgroup": "old",
         "marker": {
          "color": "#EF553B",
          "symbol": "circle"
         },
         "mode": "markers",
         "name": "old",
         "scene": "scene",
         "showlegend": true,
         "type": "scatter3d",
         "x": [
          -0.15602347254753113
         ],
         "y": [
          -0.4024166464805603
         ],
         "z": [
          0.00964444875717163
         ]
        },
        {
         "hovertemplate": "color=hand<br>0=%{x}<br>1=%{y}<br>2=%{z}<extra></extra>",
         "legendgroup": "hand",
         "marker": {
          "color": "#00cc96",
          "symbol": "circle"
         },
         "mode": "markers",
         "name": "hand",
         "scene": "scene",
         "showlegend": true,
         "type": "scatter3d",
         "x": [
          0.02182479202747345
         ],
         "y": [
          -0.46148985624313354
         ],
         "z": [
          0.4914545714855194
         ]
        },
        {
         "hovertemplate": "color=even<br>0=%{x}<br>1=%{y}<br>2=%{z}<extra></extra>",
         "legendgroup": "even",
         "marker": {
          "color": "#ab63fa",
          "symbol": "circle"
         },
         "mode": "markers",
         "name": "even",
         "scene": "scene",
         "showlegend": true,
         "type": "scatter3d",
         "x": [
          -0.17425894737243652
         ],
         "y": [
          -0.5606993436813354
         ],
         "z": [
          0.10666109621524811
         ]
        },
        {
         "hovertemplate": "color=too<br>0=%{x}<br>1=%{y}<br>2=%{z}<extra></extra>",
         "legendgroup": "too",
         "marker": {
          "color": "#FFA15A",
          "symbol": "circle"
         },
         "mode": "markers",
         "name": "too",
         "scene": "scene",
         "showlegend": true,
         "type": "scatter3d",
         "x": [
          -0.24372956156730652
         ],
         "y": [
          -0.45448145270347595
         ],
         "z": [
          0.23951199650764465
         ]
        },
        {
         "hovertemplate": "color=tyrion<br>0=%{x}<br>1=%{y}<br>2=%{z}<extra></extra>",
         "legendgroup": "tyrion",
         "marker": {
          "color": "#19d3f3",
          "symbol": "circle"
         },
         "mode": "markers",
         "name": "tyrion",
         "scene": "scene",
         "showlegend": true,
         "type": "scatter3d",
         "x": [
          -0.15439435839653015
         ],
         "y": [
          -0.2499668002128601
         ],
         "z": [
          0.36778318881988525
         ]
        },
        {
         "hovertemplate": "color=before<br>0=%{x}<br>1=%{y}<br>2=%{z}<extra></extra>",
         "legendgroup": "before",
         "marker": {
          "color": "#FF6692",
          "symbol": "circle"
         },
         "mode": "markers",
         "name": "before",
         "scene": "scene",
         "showlegend": true,
         "type": "scatter3d",
         "x": [
          -0.1279551386833191
         ],
         "y": [
          -0.6576213240623474
         ],
         "z": [
          0.29046836495399475
         ]
        },
        {
         "hovertemplate": "color=never<br>0=%{x}<br>1=%{y}<br>2=%{z}<extra></extra>",
         "legendgroup": "never",
         "marker": {
          "color": "#B6E880",
          "symbol": "circle"
         },
         "mode": "markers",
         "name": "never",
         "scene": "scene",
         "showlegend": true,
         "type": "scatter3d",
         "x": [
          -0.48424649238586426
         ],
         "y": [
          -0.5492745637893677
         ],
         "z": [
          0.2620503902435303
         ]
        },
        {
         "hovertemplate": "color=an<br>0=%{x}<br>1=%{y}<br>2=%{z}<extra></extra>",
         "legendgroup": "an",
         "marker": {
          "color": "#FF97FF",
          "symbol": "circle"
         },
         "mode": "markers",
         "name": "an",
         "scene": "scene",
         "showlegend": true,
         "type": "scatter3d",
         "x": [
          -0.04304778575897217
         ],
         "y": [
          -0.34142497181892395
         ],
         "z": [
          0.09712216258049011
         ]
        },
        {
         "hovertemplate": "color=off<br>0=%{x}<br>1=%{y}<br>2=%{z}<extra></extra>",
         "legendgroup": "off",
         "marker": {
          "color": "#FECB52",
          "symbol": "circle"
         },
         "mode": "markers",
         "name": "off",
         "scene": "scene",
         "showlegend": true,
         "type": "scatter3d",
         "x": [
          0.2749817967414856
         ],
         "y": [
          -0.41053861379623413
         ],
         "z": [
          0.44026583433151245
         ]
        },
        {
         "hovertemplate": "color=see<br>0=%{x}<br>1=%{y}<br>2=%{z}<extra></extra>",
         "legendgroup": "see",
         "marker": {
          "color": "#636efa",
          "symbol": "circle"
         },
         "mode": "markers",
         "name": "see",
         "scene": "scene",
         "showlegend": true,
         "type": "scatter3d",
         "x": [
          -0.18445149064064026
         ],
         "y": [
          -0.6228927969932556
         ],
         "z": [
          0.40191149711608887
         ]
        },
        {
         "hovertemplate": "color=know<br>0=%{x}<br>1=%{y}<br>2=%{z}<extra></extra>",
         "legendgroup": "know",
         "marker": {
          "color": "#EF553B",
          "symbol": "circle"
         },
         "mode": "markers",
         "name": "know",
         "scene": "scene",
         "showlegend": true,
         "type": "scatter3d",
         "x": [
          -0.5763354897499084
         ],
         "y": [
          -0.5523799657821655
         ],
         "z": [
          0.23705457150936127
         ]
        },
        {
         "hovertemplate": "color=into<br>0=%{x}<br>1=%{y}<br>2=%{z}<extra></extra>",
         "legendgroup": "into",
         "marker": {
          "color": "#00cc96",
          "symbol": "circle"
         },
         "mode": "markers",
         "name": "into",
         "scene": "scene",
         "showlegend": true,
         "type": "scatter3d",
         "x": [
          0.37298840284347534
         ],
         "y": [
          -0.387224942445755
         ],
         "z": [
          0.406424880027771
         ]
        },
        {
         "hovertemplate": "color=made<br>0=%{x}<br>1=%{y}<br>2=%{z}<extra></extra>",
         "legendgroup": "made",
         "marker": {
          "color": "#ab63fa",
          "symbol": "circle"
         },
         "mode": "markers",
         "name": "made",
         "scene": "scene",
         "showlegend": true,
         "type": "scatter3d",
         "x": [
          -0.05130912363529205
         ],
         "y": [
          -0.3511517643928528
         ],
         "z": [
          0.4101961851119995
         ]
        },
        {
         "hovertemplate": "color=now<br>0=%{x}<br>1=%{y}<br>2=%{z}<extra></extra>",
         "legendgroup": "now",
         "marker": {
          "color": "#FFA15A",
          "symbol": "circle"
         },
         "mode": "markers",
         "name": "now",
         "scene": "scene",
         "showlegend": true,
         "type": "scatter3d",
         "x": [
          -0.35150033235549927
         ],
         "y": [
          -0.6546193361282349
         ],
         "z": [
          0.21427081525325775
         ]
        },
        {
         "hovertemplate": "color=eyes<br>0=%{x}<br>1=%{y}<br>2=%{z}<extra></extra>",
         "legendgroup": "eyes",
         "marker": {
          "color": "#19d3f3",
          "symbol": "circle"
         },
         "mode": "markers",
         "name": "eyes",
         "scene": "scene",
         "showlegend": true,
         "type": "scatter3d",
         "x": [
          0.157210111618042
         ],
         "y": [
          -0.46980762481689453
         ],
         "z": [
          0.39360159635543823
         ]
        },
        {
         "hovertemplate": "color=black<br>0=%{x}<br>1=%{y}<br>2=%{z}<extra></extra>",
         "legendgroup": "black",
         "marker": {
          "color": "#FF6692",
          "symbol": "circle"
         },
         "mode": "markers",
         "name": "black",
         "scene": "scene",
         "showlegend": true,
         "type": "scatter3d",
         "x": [
          0.3778454065322876
         ],
         "y": [
          -0.3827839493751526
         ],
         "z": [
          -0.059084415435791016
         ]
        },
        {
         "hovertemplate": "color=told<br>0=%{x}<br>1=%{y}<br>2=%{z}<extra></extra>",
         "legendgroup": "told",
         "marker": {
          "color": "#B6E880",
          "symbol": "circle"
         },
         "mode": "markers",
         "name": "told",
         "scene": "scene",
         "showlegend": true,
         "type": "scatter3d",
         "x": [
          -0.4766989052295685
         ],
         "y": [
          -0.5115206241607666
         ],
         "z": [
          0.5043319463729858
         ]
        },
        {
         "hovertemplate": "color=lady<br>0=%{x}<br>1=%{y}<br>2=%{z}<extra></extra>",
         "legendgroup": "lady",
         "marker": {
          "color": "#FF97FF",
          "symbol": "circle"
         },
         "mode": "markers",
         "name": "lady",
         "scene": "scene",
         "showlegend": true,
         "type": "scatter3d",
         "x": [
          -0.5583696365356445
         ],
         "y": [
          -0.33464717864990234
         ],
         "z": [
          0.2052239626646042
         ]
        },
        {
         "hovertemplate": "color=thought<br>0=%{x}<br>1=%{y}<br>2=%{z}<extra></extra>",
         "legendgroup": "thought",
         "marker": {
          "color": "#FECB52",
          "symbol": "circle"
         },
         "mode": "markers",
         "name": "thought",
         "scene": "scene",
         "showlegend": true,
         "type": "scatter3d",
         "x": [
          -0.3504227101802826
         ],
         "y": [
          -0.5440260171890259
         ],
         "z": [
          0.536583423614502
         ]
        },
        {
         "hovertemplate": "color=time<br>0=%{x}<br>1=%{y}<br>2=%{z}<extra></extra>",
         "legendgroup": "time",
         "marker": {
          "color": "#636efa",
          "symbol": "circle"
         },
         "mode": "markers",
         "name": "time",
         "scene": "scene",
         "showlegend": true,
         "type": "scatter3d",
         "x": [
          -0.0770302414894104
         ],
         "y": [
          -0.6883454918861389
         ],
         "z": [
          0.35936176776885986
         ]
        },
        {
         "hovertemplate": "color=then<br>0=%{x}<br>1=%{y}<br>2=%{z}<extra></extra>",
         "legendgroup": "then",
         "marker": {
          "color": "#EF553B",
          "symbol": "circle"
         },
         "mode": "markers",
         "name": "then",
         "scene": "scene",
         "showlegend": true,
         "type": "scatter3d",
         "x": [
          0.06057816743850708
         ],
         "y": [
          -0.5187246203422546
         ],
         "z": [
          0.5253006219863892
         ]
        },
        {
         "hovertemplate": "color=how<br>0=%{x}<br>1=%{y}<br>2=%{z}<extra></extra>",
         "legendgroup": "how",
         "marker": {
          "color": "#00cc96",
          "symbol": "circle"
         },
         "mode": "markers",
         "name": "how",
         "scene": "scene",
         "showlegend": true,
         "type": "scatter3d",
         "x": [
          -0.37710535526275635
         ],
         "y": [
          -0.5199220776557922
         ],
         "z": [
          0.2371014803647995
         ]
        },
        {
         "hovertemplate": "color=long<br>0=%{x}<br>1=%{y}<br>2=%{z}<extra></extra>",
         "legendgroup": "long",
         "marker": {
          "color": "#ab63fa",
          "symbol": "circle"
         },
         "mode": "markers",
         "name": "long",
         "scene": "scene",
         "showlegend": true,
         "type": "scatter3d",
         "x": [
          0.1474689245223999
         ],
         "y": [
          -0.5407723188400269
         ],
         "z": [
          0.10752427577972412
         ]
        },
        {
         "hovertemplate": "color=has<br>0=%{x}<br>1=%{y}<br>2=%{z}<extra></extra>",
         "legendgroup": "has",
         "marker": {
          "color": "#FFA15A",
          "symbol": "circle"
         },
         "mode": "markers",
         "name": "has",
         "scene": "scene",
         "showlegend": true,
         "type": "scatter3d",
         "x": [
          -0.5319935083389282
         ],
         "y": [
          -0.4589725732803345
         ],
         "z": [
          0.10208158195018768
         ]
        },
        {
         "hovertemplate": "color=can<br>0=%{x}<br>1=%{y}<br>2=%{z}<extra></extra>",
         "legendgroup": "can",
         "marker": {
          "color": "#19d3f3",
          "symbol": "circle"
         },
         "mode": "markers",
         "name": "can",
         "scene": "scene",
         "showlegend": true,
         "type": "scatter3d",
         "x": [
          -0.40168851613998413
         ],
         "y": [
          -0.4831877648830414
         ],
         "z": [
          0.23674426972866058
         ]
        },
        {
         "hovertemplate": "color=might<br>0=%{x}<br>1=%{y}<br>2=%{z}<extra></extra>",
         "legendgroup": "might",
         "marker": {
          "color": "#FF6692",
          "symbol": "circle"
         },
         "mode": "markers",
         "name": "might",
         "scene": "scene",
         "showlegend": true,
         "type": "scatter3d",
         "x": [
          -0.4136471152305603
         ],
         "y": [
          -0.45776429772377014
         ],
         "z": [
          0.258750319480896
         ]
        },
        {
         "hovertemplate": "color=us<br>0=%{x}<br>1=%{y}<br>2=%{z}<extra></extra>",
         "legendgroup": "us",
         "marker": {
          "color": "#B6E880",
          "symbol": "circle"
         },
         "mode": "markers",
         "name": "us",
         "scene": "scene",
         "showlegend": true,
         "type": "scatter3d",
         "x": [
          -0.4481624364852905
         ],
         "y": [
          -0.7195991277694702
         ],
         "z": [
          -0.03721603751182556
         ]
        },
        {
         "hovertemplate": "color=come<br>0=%{x}<br>1=%{y}<br>2=%{z}<extra></extra>",
         "legendgroup": "come",
         "marker": {
          "color": "#FF97FF",
          "symbol": "circle"
         },
         "mode": "markers",
         "name": "come",
         "scene": "scene",
         "showlegend": true,
         "type": "scatter3d",
         "x": [
          -0.34361910820007324
         ],
         "y": [
          -0.7736413478851318
         ],
         "z": [
          0.2609671950340271
         ]
        },
        {
         "hovertemplate": "color=where<br>0=%{x}<br>1=%{y}<br>2=%{z}<extra></extra>",
         "legendgroup": "where",
         "marker": {
          "color": "#FECB52",
          "symbol": "circle"
         },
         "mode": "markers",
         "name": "where",
         "scene": "scene",
         "showlegend": true,
         "type": "scatter3d",
         "x": [
          0.1399591863155365
         ],
         "y": [
          -0.6406005024909973
         ],
         "z": [
          0.09355567395687103
         ]
        }
       ],
       "layout": {
        "legend": {
         "title": {
          "text": "color"
         },
         "tracegroupgap": 0
        },
        "margin": {
         "t": 60
        },
        "scene": {
         "domain": {
          "x": [
           0,
           1
          ],
          "y": [
           0,
           1
          ]
         },
         "xaxis": {
          "title": {
           "text": "0"
          }
         },
         "yaxis": {
          "title": {
           "text": "1"
          }
         },
         "zaxis": {
          "title": {
           "text": "2"
          }
         }
        },
        "template": {
         "data": {
          "bar": [
           {
            "error_x": {
             "color": "#2a3f5f"
            },
            "error_y": {
             "color": "#2a3f5f"
            },
            "marker": {
             "line": {
              "color": "#E5ECF6",
              "width": 0.5
             },
             "pattern": {
              "fillmode": "overlay",
              "size": 10,
              "solidity": 0.2
             }
            },
            "type": "bar"
           }
          ],
          "barpolar": [
           {
            "marker": {
             "line": {
              "color": "#E5ECF6",
              "width": 0.5
             },
             "pattern": {
              "fillmode": "overlay",
              "size": 10,
              "solidity": 0.2
             }
            },
            "type": "barpolar"
           }
          ],
          "carpet": [
           {
            "aaxis": {
             "endlinecolor": "#2a3f5f",
             "gridcolor": "white",
             "linecolor": "white",
             "minorgridcolor": "white",
             "startlinecolor": "#2a3f5f"
            },
            "baxis": {
             "endlinecolor": "#2a3f5f",
             "gridcolor": "white",
             "linecolor": "white",
             "minorgridcolor": "white",
             "startlinecolor": "#2a3f5f"
            },
            "type": "carpet"
           }
          ],
          "choropleth": [
           {
            "colorbar": {
             "outlinewidth": 0,
             "ticks": ""
            },
            "type": "choropleth"
           }
          ],
          "contour": [
           {
            "colorbar": {
             "outlinewidth": 0,
             "ticks": ""
            },
            "colorscale": [
             [
              0,
              "#0d0887"
             ],
             [
              0.1111111111111111,
              "#46039f"
             ],
             [
              0.2222222222222222,
              "#7201a8"
             ],
             [
              0.3333333333333333,
              "#9c179e"
             ],
             [
              0.4444444444444444,
              "#bd3786"
             ],
             [
              0.5555555555555556,
              "#d8576b"
             ],
             [
              0.6666666666666666,
              "#ed7953"
             ],
             [
              0.7777777777777778,
              "#fb9f3a"
             ],
             [
              0.8888888888888888,
              "#fdca26"
             ],
             [
              1,
              "#f0f921"
             ]
            ],
            "type": "contour"
           }
          ],
          "contourcarpet": [
           {
            "colorbar": {
             "outlinewidth": 0,
             "ticks": ""
            },
            "type": "contourcarpet"
           }
          ],
          "heatmap": [
           {
            "colorbar": {
             "outlinewidth": 0,
             "ticks": ""
            },
            "colorscale": [
             [
              0,
              "#0d0887"
             ],
             [
              0.1111111111111111,
              "#46039f"
             ],
             [
              0.2222222222222222,
              "#7201a8"
             ],
             [
              0.3333333333333333,
              "#9c179e"
             ],
             [
              0.4444444444444444,
              "#bd3786"
             ],
             [
              0.5555555555555556,
              "#d8576b"
             ],
             [
              0.6666666666666666,
              "#ed7953"
             ],
             [
              0.7777777777777778,
              "#fb9f3a"
             ],
             [
              0.8888888888888888,
              "#fdca26"
             ],
             [
              1,
              "#f0f921"
             ]
            ],
            "type": "heatmap"
           }
          ],
          "heatmapgl": [
           {
            "colorbar": {
             "outlinewidth": 0,
             "ticks": ""
            },
            "colorscale": [
             [
              0,
              "#0d0887"
             ],
             [
              0.1111111111111111,
              "#46039f"
             ],
             [
              0.2222222222222222,
              "#7201a8"
             ],
             [
              0.3333333333333333,
              "#9c179e"
             ],
             [
              0.4444444444444444,
              "#bd3786"
             ],
             [
              0.5555555555555556,
              "#d8576b"
             ],
             [
              0.6666666666666666,
              "#ed7953"
             ],
             [
              0.7777777777777778,
              "#fb9f3a"
             ],
             [
              0.8888888888888888,
              "#fdca26"
             ],
             [
              1,
              "#f0f921"
             ]
            ],
            "type": "heatmapgl"
           }
          ],
          "histogram": [
           {
            "marker": {
             "pattern": {
              "fillmode": "overlay",
              "size": 10,
              "solidity": 0.2
             }
            },
            "type": "histogram"
           }
          ],
          "histogram2d": [
           {
            "colorbar": {
             "outlinewidth": 0,
             "ticks": ""
            },
            "colorscale": [
             [
              0,
              "#0d0887"
             ],
             [
              0.1111111111111111,
              "#46039f"
             ],
             [
              0.2222222222222222,
              "#7201a8"
             ],
             [
              0.3333333333333333,
              "#9c179e"
             ],
             [
              0.4444444444444444,
              "#bd3786"
             ],
             [
              0.5555555555555556,
              "#d8576b"
             ],
             [
              0.6666666666666666,
              "#ed7953"
             ],
             [
              0.7777777777777778,
              "#fb9f3a"
             ],
             [
              0.8888888888888888,
              "#fdca26"
             ],
             [
              1,
              "#f0f921"
             ]
            ],
            "type": "histogram2d"
           }
          ],
          "histogram2dcontour": [
           {
            "colorbar": {
             "outlinewidth": 0,
             "ticks": ""
            },
            "colorscale": [
             [
              0,
              "#0d0887"
             ],
             [
              0.1111111111111111,
              "#46039f"
             ],
             [
              0.2222222222222222,
              "#7201a8"
             ],
             [
              0.3333333333333333,
              "#9c179e"
             ],
             [
              0.4444444444444444,
              "#bd3786"
             ],
             [
              0.5555555555555556,
              "#d8576b"
             ],
             [
              0.6666666666666666,
              "#ed7953"
             ],
             [
              0.7777777777777778,
              "#fb9f3a"
             ],
             [
              0.8888888888888888,
              "#fdca26"
             ],
             [
              1,
              "#f0f921"
             ]
            ],
            "type": "histogram2dcontour"
           }
          ],
          "mesh3d": [
           {
            "colorbar": {
             "outlinewidth": 0,
             "ticks": ""
            },
            "type": "mesh3d"
           }
          ],
          "parcoords": [
           {
            "line": {
             "colorbar": {
              "outlinewidth": 0,
              "ticks": ""
             }
            },
            "type": "parcoords"
           }
          ],
          "pie": [
           {
            "automargin": true,
            "type": "pie"
           }
          ],
          "scatter": [
           {
            "fillpattern": {
             "fillmode": "overlay",
             "size": 10,
             "solidity": 0.2
            },
            "type": "scatter"
           }
          ],
          "scatter3d": [
           {
            "line": {
             "colorbar": {
              "outlinewidth": 0,
              "ticks": ""
             }
            },
            "marker": {
             "colorbar": {
              "outlinewidth": 0,
              "ticks": ""
             }
            },
            "type": "scatter3d"
           }
          ],
          "scattercarpet": [
           {
            "marker": {
             "colorbar": {
              "outlinewidth": 0,
              "ticks": ""
             }
            },
            "type": "scattercarpet"
           }
          ],
          "scattergeo": [
           {
            "marker": {
             "colorbar": {
              "outlinewidth": 0,
              "ticks": ""
             }
            },
            "type": "scattergeo"
           }
          ],
          "scattergl": [
           {
            "marker": {
             "colorbar": {
              "outlinewidth": 0,
              "ticks": ""
             }
            },
            "type": "scattergl"
           }
          ],
          "scattermapbox": [
           {
            "marker": {
             "colorbar": {
              "outlinewidth": 0,
              "ticks": ""
             }
            },
            "type": "scattermapbox"
           }
          ],
          "scatterpolar": [
           {
            "marker": {
             "colorbar": {
              "outlinewidth": 0,
              "ticks": ""
             }
            },
            "type": "scatterpolar"
           }
          ],
          "scatterpolargl": [
           {
            "marker": {
             "colorbar": {
              "outlinewidth": 0,
              "ticks": ""
             }
            },
            "type": "scatterpolargl"
           }
          ],
          "scatterternary": [
           {
            "marker": {
             "colorbar": {
              "outlinewidth": 0,
              "ticks": ""
             }
            },
            "type": "scatterternary"
           }
          ],
          "surface": [
           {
            "colorbar": {
             "outlinewidth": 0,
             "ticks": ""
            },
            "colorscale": [
             [
              0,
              "#0d0887"
             ],
             [
              0.1111111111111111,
              "#46039f"
             ],
             [
              0.2222222222222222,
              "#7201a8"
             ],
             [
              0.3333333333333333,
              "#9c179e"
             ],
             [
              0.4444444444444444,
              "#bd3786"
             ],
             [
              0.5555555555555556,
              "#d8576b"
             ],
             [
              0.6666666666666666,
              "#ed7953"
             ],
             [
              0.7777777777777778,
              "#fb9f3a"
             ],
             [
              0.8888888888888888,
              "#fdca26"
             ],
             [
              1,
              "#f0f921"
             ]
            ],
            "type": "surface"
           }
          ],
          "table": [
           {
            "cells": {
             "fill": {
              "color": "#EBF0F8"
             },
             "line": {
              "color": "white"
             }
            },
            "header": {
             "fill": {
              "color": "#C8D4E3"
             },
             "line": {
              "color": "white"
             }
            },
            "type": "table"
           }
          ]
         },
         "layout": {
          "annotationdefaults": {
           "arrowcolor": "#2a3f5f",
           "arrowhead": 0,
           "arrowwidth": 1
          },
          "autotypenumbers": "strict",
          "coloraxis": {
           "colorbar": {
            "outlinewidth": 0,
            "ticks": ""
           }
          },
          "colorscale": {
           "diverging": [
            [
             0,
             "#8e0152"
            ],
            [
             0.1,
             "#c51b7d"
            ],
            [
             0.2,
             "#de77ae"
            ],
            [
             0.3,
             "#f1b6da"
            ],
            [
             0.4,
             "#fde0ef"
            ],
            [
             0.5,
             "#f7f7f7"
            ],
            [
             0.6,
             "#e6f5d0"
            ],
            [
             0.7,
             "#b8e186"
            ],
            [
             0.8,
             "#7fbc41"
            ],
            [
             0.9,
             "#4d9221"
            ],
            [
             1,
             "#276419"
            ]
           ],
           "sequential": [
            [
             0,
             "#0d0887"
            ],
            [
             0.1111111111111111,
             "#46039f"
            ],
            [
             0.2222222222222222,
             "#7201a8"
            ],
            [
             0.3333333333333333,
             "#9c179e"
            ],
            [
             0.4444444444444444,
             "#bd3786"
            ],
            [
             0.5555555555555556,
             "#d8576b"
            ],
            [
             0.6666666666666666,
             "#ed7953"
            ],
            [
             0.7777777777777778,
             "#fb9f3a"
            ],
            [
             0.8888888888888888,
             "#fdca26"
            ],
            [
             1,
             "#f0f921"
            ]
           ],
           "sequentialminus": [
            [
             0,
             "#0d0887"
            ],
            [
             0.1111111111111111,
             "#46039f"
            ],
            [
             0.2222222222222222,
             "#7201a8"
            ],
            [
             0.3333333333333333,
             "#9c179e"
            ],
            [
             0.4444444444444444,
             "#bd3786"
            ],
            [
             0.5555555555555556,
             "#d8576b"
            ],
            [
             0.6666666666666666,
             "#ed7953"
            ],
            [
             0.7777777777777778,
             "#fb9f3a"
            ],
            [
             0.8888888888888888,
             "#fdca26"
            ],
            [
             1,
             "#f0f921"
            ]
           ]
          },
          "colorway": [
           "#636efa",
           "#EF553B",
           "#00cc96",
           "#ab63fa",
           "#FFA15A",
           "#19d3f3",
           "#FF6692",
           "#B6E880",
           "#FF97FF",
           "#FECB52"
          ],
          "font": {
           "color": "#2a3f5f"
          },
          "geo": {
           "bgcolor": "white",
           "lakecolor": "white",
           "landcolor": "#E5ECF6",
           "showlakes": true,
           "showland": true,
           "subunitcolor": "white"
          },
          "hoverlabel": {
           "align": "left"
          },
          "hovermode": "closest",
          "mapbox": {
           "style": "light"
          },
          "paper_bgcolor": "white",
          "plot_bgcolor": "#E5ECF6",
          "polar": {
           "angularaxis": {
            "gridcolor": "white",
            "linecolor": "white",
            "ticks": ""
           },
           "bgcolor": "#E5ECF6",
           "radialaxis": {
            "gridcolor": "white",
            "linecolor": "white",
            "ticks": ""
           }
          },
          "scene": {
           "xaxis": {
            "backgroundcolor": "#E5ECF6",
            "gridcolor": "white",
            "gridwidth": 2,
            "linecolor": "white",
            "showbackground": true,
            "ticks": "",
            "zerolinecolor": "white"
           },
           "yaxis": {
            "backgroundcolor": "#E5ECF6",
            "gridcolor": "white",
            "gridwidth": 2,
            "linecolor": "white",
            "showbackground": true,
            "ticks": "",
            "zerolinecolor": "white"
           },
           "zaxis": {
            "backgroundcolor": "#E5ECF6",
            "gridcolor": "white",
            "gridwidth": 2,
            "linecolor": "white",
            "showbackground": true,
            "ticks": "",
            "zerolinecolor": "white"
           }
          },
          "shapedefaults": {
           "line": {
            "color": "#2a3f5f"
           }
          },
          "ternary": {
           "aaxis": {
            "gridcolor": "white",
            "linecolor": "white",
            "ticks": ""
           },
           "baxis": {
            "gridcolor": "white",
            "linecolor": "white",
            "ticks": ""
           },
           "bgcolor": "#E5ECF6",
           "caxis": {
            "gridcolor": "white",
            "linecolor": "white",
            "ticks": ""
           }
          },
          "title": {
           "x": 0.05
          },
          "xaxis": {
           "automargin": true,
           "gridcolor": "white",
           "linecolor": "white",
           "ticks": "",
           "title": {
            "standoff": 15
           },
           "zerolinecolor": "white",
           "zerolinewidth": 2
          },
          "yaxis": {
           "automargin": true,
           "gridcolor": "white",
           "linecolor": "white",
           "ticks": "",
           "title": {
            "standoff": 15
           },
           "zerolinecolor": "white",
           "zerolinewidth": 2
          }
         }
        }
       }
      }
     },
     "metadata": {},
     "output_type": "display_data"
    }
   ],
   "source": [
    "import plotly.express as px\n",
    "fig = px.scatter_3d(X[:100], x =0 , y =1,z=2,color=y[:100])\n",
    "fig.show()"
   ]
  },
  {
   "cell_type": "code",
   "execution_count": 30,
   "metadata": {},
   "outputs": [
    {
     "data": {
      "application/vnd.plotly.v1+json": {
       "config": {
        "plotlyServerURL": "https://plot.ly"
       },
       "data": [
        {
         "hovertemplate": "color=hands<br>0=%{x}<br>1=%{y}<br>2=%{z}<extra></extra>",
         "legendgroup": "hands",
         "marker": {
          "color": "#636efa",
          "symbol": "circle"
         },
         "mode": "markers",
         "name": "hands",
         "scene": "scene",
         "showlegend": true,
         "type": "scatter3d",
         "x": [
          0.2743786573410034
         ],
         "y": [
          -0.4296204447746277
         ],
         "z": [
          0.42519065737724304
         ]
        },
        {
         "hovertemplate": "color=stannis<br>0=%{x}<br>1=%{y}<br>2=%{z}<extra></extra>",
         "legendgroup": "stannis",
         "marker": {
          "color": "#EF553B",
          "symbol": "circle"
         },
         "mode": "markers",
         "name": "stannis",
         "scene": "scene",
         "showlegend": true,
         "type": "scatter3d",
         "x": [
          -0.41866496205329895
         ],
         "y": [
          -0.5991705656051636
         ],
         "z": [
          -0.03524315357208252
         ]
        },
        {
         "hovertemplate": "color=mother<br>0=%{x}<br>1=%{y}<br>2=%{z}<extra></extra>",
         "legendgroup": "mother",
         "marker": {
          "color": "#00cc96",
          "symbol": "circle"
         },
         "mode": "markers",
         "name": "mother",
         "scene": "scene",
         "showlegend": true,
         "type": "scatter3d",
         "x": [
          -0.44989264011383057
         ],
         "y": [
          -0.4890744686126709
         ],
         "z": [
          0.18291819095611572
         ]
        },
        {
         "hovertemplate": "color=catelyn<br>0=%{x}<br>1=%{y}<br>2=%{z}<extra></extra>",
         "legendgroup": "catelyn",
         "marker": {
          "color": "#ab63fa",
          "symbol": "circle"
         },
         "mode": "markers",
         "name": "catelyn",
         "scene": "scene",
         "showlegend": true,
         "type": "scatter3d",
         "x": [
          -0.2377721667289734
         ],
         "y": [
          -0.2859645187854767
         ],
         "z": [
          0.23605376482009888
         ]
        },
        {
         "hovertemplate": "color=robert<br>0=%{x}<br>1=%{y}<br>2=%{z}<extra></extra>",
         "legendgroup": "robert",
         "marker": {
          "color": "#FFA15A",
          "symbol": "circle"
         },
         "mode": "markers",
         "name": "robert",
         "scene": "scene",
         "showlegend": true,
         "type": "scatter3d",
         "x": [
          -0.5264586210250854
         ],
         "y": [
          -0.4407491683959961
         ],
         "z": [
          0.08858487010002136
         ]
        },
        {
         "hovertemplate": "color=seemed<br>0=%{x}<br>1=%{y}<br>2=%{z}<extra></extra>",
         "legendgroup": "seemed",
         "marker": {
          "color": "#19d3f3",
          "symbol": "circle"
         },
         "mode": "markers",
         "name": "seemed",
         "scene": "scene",
         "showlegend": true,
         "type": "scatter3d",
         "x": [
          -0.02061435580253601
         ],
         "y": [
          -0.43844324350357056
         ],
         "z": [
          0.34323564171791077
         ]
        },
        {
         "hovertemplate": "color=prince<br>0=%{x}<br>1=%{y}<br>2=%{z}<extra></extra>",
         "legendgroup": "prince",
         "marker": {
          "color": "#FF6692",
          "symbol": "circle"
         },
         "mode": "markers",
         "name": "prince",
         "scene": "scene",
         "showlegend": true,
         "type": "scatter3d",
         "x": [
          -0.5566562414169312
         ],
         "y": [
          -0.3906087875366211
         ],
         "z": [
          0.15069106221199036
         ]
        },
        {
         "hovertemplate": "color=may<br>0=%{x}<br>1=%{y}<br>2=%{z}<extra></extra>",
         "legendgroup": "may",
         "marker": {
          "color": "#B6E880",
          "symbol": "circle"
         },
         "mode": "markers",
         "name": "may",
         "scene": "scene",
         "showlegend": true,
         "type": "scatter3d",
         "x": [
          -0.5612620711326599
         ],
         "y": [
          -0.47074195742607117
         ],
         "z": [
          0.17759963870048523
         ]
        },
        {
         "hovertemplate": "color=ever<br>0=%{x}<br>1=%{y}<br>2=%{z}<extra></extra>",
         "legendgroup": "ever",
         "marker": {
          "color": "#FF97FF",
          "symbol": "circle"
         },
         "mode": "markers",
         "name": "ever",
         "scene": "scene",
         "showlegend": true,
         "type": "scatter3d",
         "x": [
          -0.44220370054244995
         ],
         "y": [
          -0.4931620657444
         ],
         "z": [
          0.14488601684570312
         ]
        },
        {
         "hovertemplate": "color=robb<br>0=%{x}<br>1=%{y}<br>2=%{z}<extra></extra>",
         "legendgroup": "robb",
         "marker": {
          "color": "#FECB52",
          "symbol": "circle"
         },
         "mode": "markers",
         "name": "robb",
         "scene": "scene",
         "showlegend": true,
         "type": "scatter3d",
         "x": [
          -0.3872314989566803
         ],
         "y": [
          -0.4383700489997864
         ],
         "z": [
          0.21010352671146393
         ]
        },
        {
         "hovertemplate": "color=done<br>0=%{x}<br>1=%{y}<br>2=%{z}<extra></extra>",
         "legendgroup": "done",
         "marker": {
          "color": "#636efa",
          "symbol": "circle"
         },
         "mode": "markers",
         "name": "done",
         "scene": "scene",
         "showlegend": true,
         "type": "scatter3d",
         "x": [
          -0.4605724811553955
         ],
         "y": [
          -0.561790406703949
         ],
         "z": [
          0.2953665554523468
         ]
        },
        {
         "hovertemplate": "color=don<br>0=%{x}<br>1=%{y}<br>2=%{z}<extra></extra>",
         "legendgroup": "don",
         "marker": {
          "color": "#EF553B",
          "symbol": "circle"
         },
         "mode": "markers",
         "name": "don",
         "scene": "scene",
         "showlegend": true,
         "type": "scatter3d",
         "x": [
          -0.4653000831604004
         ],
         "y": [
          -0.3363756835460663
         ],
         "z": [
          0.3849097192287445
         ]
        },
        {
         "hovertemplate": "color=find<br>0=%{x}<br>1=%{y}<br>2=%{z}<extra></extra>",
         "legendgroup": "find",
         "marker": {
          "color": "#00cc96",
          "symbol": "circle"
         },
         "mode": "markers",
         "name": "find",
         "scene": "scene",
         "showlegend": true,
         "type": "scatter3d",
         "x": [
          -0.40015852451324463
         ],
         "y": [
          -0.6067710518836975
         ],
         "z": [
          0.3789938986301422
         ]
        },
        {
         "hovertemplate": "color=lannister<br>0=%{x}<br>1=%{y}<br>2=%{z}<extra></extra>",
         "legendgroup": "lannister",
         "marker": {
          "color": "#ab63fa",
          "symbol": "circle"
         },
         "mode": "markers",
         "name": "lannister",
         "scene": "scene",
         "showlegend": true,
         "type": "scatter3d",
         "x": [
          -0.3959108591079712
         ],
         "y": [
          -0.39754316210746765
         ],
         "z": [
          0.11301621794700623
         ]
        },
        {
         "hovertemplate": "color=re<br>0=%{x}<br>1=%{y}<br>2=%{z}<extra></extra>",
         "legendgroup": "re",
         "marker": {
          "color": "#FFA15A",
          "symbol": "circle"
         },
         "mode": "markers",
         "name": "re",
         "scene": "scene",
         "showlegend": true,
         "type": "scatter3d",
         "x": [
          -0.37109649181365967
         ],
         "y": [
          -0.4572926163673401
         ],
         "z": [
          0.3206116259098053
         ]
        },
        {
         "hovertemplate": "color=hear<br>0=%{x}<br>1=%{y}<br>2=%{z}<extra></extra>",
         "legendgroup": "hear",
         "marker": {
          "color": "#19d3f3",
          "symbol": "circle"
         },
         "mode": "markers",
         "name": "hear",
         "scene": "scene",
         "showlegend": true,
         "type": "scatter3d",
         "x": [
          -0.15204031765460968
         ],
         "y": [
          -0.5029642581939697
         ],
         "z": [
          0.4767831265926361
         ]
        },
        {
         "hovertemplate": "color=grey<br>0=%{x}<br>1=%{y}<br>2=%{z}<extra></extra>",
         "legendgroup": "grey",
         "marker": {
          "color": "#FF6692",
          "symbol": "circle"
         },
         "mode": "markers",
         "name": "grey",
         "scene": "scene",
         "showlegend": true,
         "type": "scatter3d",
         "x": [
          0.45921236276626587
         ],
         "y": [
          -0.24494433403015137
         ],
         "z": [
          0.017291247844696045
         ]
        },
        {
         "hovertemplate": "color=name<br>0=%{x}<br>1=%{y}<br>2=%{z}<extra></extra>",
         "legendgroup": "name",
         "marker": {
          "color": "#B6E880",
          "symbol": "circle"
         },
         "mode": "markers",
         "name": "name",
         "scene": "scene",
         "showlegend": true,
         "type": "scatter3d",
         "x": [
          -0.5628038644790649
         ],
         "y": [
          -0.563576877117157
         ],
         "z": [
          0.269279420375824
         ]
        },
        {
         "hovertemplate": "color=horse<br>0=%{x}<br>1=%{y}<br>2=%{z}<extra></extra>",
         "legendgroup": "horse",
         "marker": {
          "color": "#FF97FF",
          "symbol": "circle"
         },
         "mode": "markers",
         "name": "horse",
         "scene": "scene",
         "showlegend": true,
         "type": "scatter3d",
         "x": [
          0.33099013566970825
         ],
         "y": [
          -0.5278569459915161
         ],
         "z": [
          0.3481394648551941
         ]
        },
        {
         "hovertemplate": "color=high<br>0=%{x}<br>1=%{y}<br>2=%{z}<extra></extra>",
         "legendgroup": "high",
         "marker": {
          "color": "#FECB52",
          "symbol": "circle"
         },
         "mode": "markers",
         "name": "high",
         "scene": "scene",
         "showlegend": true,
         "type": "scatter3d",
         "x": [
          0.1686326563358307
         ],
         "y": [
          -0.46649014949798584
         ],
         "z": [
          -0.1766243875026703
         ]
        },
        {
         "hovertemplate": "color=put<br>0=%{x}<br>1=%{y}<br>2=%{z}<extra></extra>",
         "legendgroup": "put",
         "marker": {
          "color": "#636efa",
          "symbol": "circle"
         },
         "mode": "markers",
         "name": "put",
         "scene": "scene",
         "showlegend": true,
         "type": "scatter3d",
         "x": [
          -0.2083064615726471
         ],
         "y": [
          -0.5036080479621887
         ],
         "z": [
          0.6577105522155762
         ]
        },
        {
         "hovertemplate": "color=stone<br>0=%{x}<br>1=%{y}<br>2=%{z}<extra></extra>",
         "legendgroup": "stone",
         "marker": {
          "color": "#EF553B",
          "symbol": "circle"
         },
         "mode": "markers",
         "name": "stone",
         "scene": "scene",
         "showlegend": true,
         "type": "scatter3d",
         "x": [
          0.6339577436447144
         ],
         "y": [
          -0.5001789927482605
         ],
         "z": [
          -0.13650807738304138
         ]
        },
        {
         "hovertemplate": "color=wine<br>0=%{x}<br>1=%{y}<br>2=%{z}<extra></extra>",
         "legendgroup": "wine",
         "marker": {
          "color": "#00cc96",
          "symbol": "circle"
         },
         "mode": "markers",
         "name": "wine",
         "scene": "scene",
         "showlegend": true,
         "type": "scatter3d",
         "x": [
          0.06841298937797546
         ],
         "y": [
          -0.254375159740448
         ],
         "z": [
          0.3437310457229614
         ]
        },
        {
         "hovertemplate": "color=hard<br>0=%{x}<br>1=%{y}<br>2=%{z}<extra></extra>",
         "legendgroup": "hard",
         "marker": {
          "color": "#ab63fa",
          "symbol": "circle"
         },
         "mode": "markers",
         "name": "hard",
         "scene": "scene",
         "showlegend": true,
         "type": "scatter3d",
         "x": [
          0.32201623916625977
         ],
         "y": [
          -0.3680887222290039
         ],
         "z": [
          0.38429516553878784
         ]
        },
        {
         "hovertemplate": "color=water<br>0=%{x}<br>1=%{y}<br>2=%{z}<extra></extra>",
         "legendgroup": "water",
         "marker": {
          "color": "#FFA15A",
          "symbol": "circle"
         },
         "mode": "markers",
         "name": "water",
         "scene": "scene",
         "showlegend": true,
         "type": "scatter3d",
         "x": [
          0.5259242653846741
         ],
         "y": [
          -0.5161448121070862
         ],
         "z": [
          0.22182151675224304
         ]
        },
        {
         "hovertemplate": "color=upon<br>0=%{x}<br>1=%{y}<br>2=%{z}<extra></extra>",
         "legendgroup": "upon",
         "marker": {
          "color": "#19d3f3",
          "symbol": "circle"
         },
         "mode": "markers",
         "name": "upon",
         "scene": "scene",
         "showlegend": true,
         "type": "scatter3d",
         "x": [
          0.11558440327644348
         ],
         "y": [
          -0.45712053775787354
         ],
         "z": [
          0.16475367546081543
         ]
        },
        {
         "hovertemplate": "color=fire<br>0=%{x}<br>1=%{y}<br>2=%{z}<extra></extra>",
         "legendgroup": "fire",
         "marker": {
          "color": "#FF6692",
          "symbol": "circle"
         },
         "mode": "markers",
         "name": "fire",
         "scene": "scene",
         "showlegend": true,
         "type": "scatter3d",
         "x": [
          0.4981216788291931
         ],
         "y": [
          -0.6727937459945679
         ],
         "z": [
          0.017054498195648193
         ]
        },
        {
         "hovertemplate": "color=iron<br>0=%{x}<br>1=%{y}<br>2=%{z}<extra></extra>",
         "legendgroup": "iron",
         "marker": {
          "color": "#B6E880",
          "symbol": "circle"
         },
         "mode": "markers",
         "name": "iron",
         "scene": "scene",
         "showlegend": true,
         "type": "scatter3d",
         "x": [
          0.19853156805038452
         ],
         "y": [
          -0.5153682231903076
         ],
         "z": [
          -0.1515037715435028
         ]
        },
        {
         "hovertemplate": "color=until<br>0=%{x}<br>1=%{y}<br>2=%{z}<extra></extra>",
         "legendgroup": "until",
         "marker": {
          "color": "#FF97FF",
          "symbol": "circle"
         },
         "mode": "markers",
         "name": "until",
         "scene": "scene",
         "showlegend": true,
         "type": "scatter3d",
         "x": [
          0.1171024739742279
         ],
         "y": [
          -0.5955342054367065
         ],
         "z": [
          0.4066625237464905
         ]
        },
        {
         "hovertemplate": "color=these<br>0=%{x}<br>1=%{y}<br>2=%{z}<extra></extra>",
         "legendgroup": "these",
         "marker": {
          "color": "#FECB52",
          "symbol": "circle"
         },
         "mode": "markers",
         "name": "these",
         "scene": "scene",
         "showlegend": true,
         "type": "scatter3d",
         "x": [
          -0.4470519423484802
         ],
         "y": [
          -0.6518936157226562
         ],
         "z": [
          -0.3435671031475067
         ]
        },
        {
         "hovertemplate": "color=voice<br>0=%{x}<br>1=%{y}<br>2=%{z}<extra></extra>",
         "legendgroup": "voice",
         "marker": {
          "color": "#636efa",
          "symbol": "circle"
         },
         "mode": "markers",
         "name": "voice",
         "scene": "scene",
         "showlegend": true,
         "type": "scatter3d",
         "x": [
          -0.004816137254238129
         ],
         "y": [
          -0.26651978492736816
         ],
         "z": [
          0.45435187220573425
         ]
        },
        {
         "hovertemplate": "color=gone<br>0=%{x}<br>1=%{y}<br>2=%{z}<extra></extra>",
         "legendgroup": "gone",
         "marker": {
          "color": "#EF553B",
          "symbol": "circle"
         },
         "mode": "markers",
         "name": "gone",
         "scene": "scene",
         "showlegend": true,
         "type": "scatter3d",
         "x": [
          -0.0348246768116951
         ],
         "y": [
          -0.5601011514663696
         ],
         "z": [
          0.3408857583999634
         ]
        },
        {
         "hovertemplate": "color=give<br>0=%{x}<br>1=%{y}<br>2=%{z}<extra></extra>",
         "legendgroup": "give",
         "marker": {
          "color": "#00cc96",
          "symbol": "circle"
         },
         "mode": "markers",
         "name": "give",
         "scene": "scene",
         "showlegend": true,
         "type": "scatter3d",
         "x": [
          -0.596350908279419
         ],
         "y": [
          -0.45418375730514526
         ],
         "z": [
          0.44990283250808716
         ]
        },
        {
         "hovertemplate": "color=sam<br>0=%{x}<br>1=%{y}<br>2=%{z}<extra></extra>",
         "legendgroup": "sam",
         "marker": {
          "color": "#ab63fa",
          "symbol": "circle"
         },
         "mode": "markers",
         "name": "sam",
         "scene": "scene",
         "showlegend": true,
         "type": "scatter3d",
         "x": [
          -0.0004051700234413147
         ],
         "y": [
          -0.3187347650527954
         ],
         "z": [
          0.39287257194519043
         ]
        },
        {
         "hovertemplate": "color=seen<br>0=%{x}<br>1=%{y}<br>2=%{z}<extra></extra>",
         "legendgroup": "seen",
         "marker": {
          "color": "#FFA15A",
          "symbol": "circle"
         },
         "mode": "markers",
         "name": "seen",
         "scene": "scene",
         "showlegend": true,
         "type": "scatter3d",
         "x": [
          -0.12798616290092468
         ],
         "y": [
          -0.5926529765129089
         ],
         "z": [
          0.2507309019565582
         ]
        },
        {
         "hovertemplate": "color=better<br>0=%{x}<br>1=%{y}<br>2=%{z}<extra></extra>",
         "legendgroup": "better",
         "marker": {
          "color": "#19d3f3",
          "symbol": "circle"
         },
         "mode": "markers",
         "name": "better",
         "scene": "scene",
         "showlegend": true,
         "type": "scatter3d",
         "x": [
          -0.435405969619751
         ],
         "y": [
          -0.47525233030319214
         ],
         "z": [
          0.14002689719200134
         ]
        },
        {
         "hovertemplate": "color=shall<br>0=%{x}<br>1=%{y}<br>2=%{z}<extra></extra>",
         "legendgroup": "shall",
         "marker": {
          "color": "#FF6692",
          "symbol": "circle"
         },
         "mode": "markers",
         "name": "shall",
         "scene": "scene",
         "showlegend": true,
         "type": "scatter3d",
         "x": [
          -0.5055420398712158
         ],
         "y": [
          -0.5169423222541809
         ],
         "z": [
          0.1428261399269104
         ]
        },
        {
         "hovertemplate": "color=ned<br>0=%{x}<br>1=%{y}<br>2=%{z}<extra></extra>",
         "legendgroup": "ned",
         "marker": {
          "color": "#B6E880",
          "symbol": "circle"
         },
         "mode": "markers",
         "name": "ned",
         "scene": "scene",
         "showlegend": true,
         "type": "scatter3d",
         "x": [
          -0.281837522983551
         ],
         "y": [
          -0.33955323696136475
         ],
         "z": [
          0.2847439646720886
         ]
        },
        {
         "hovertemplate": "color=always<br>0=%{x}<br>1=%{y}<br>2=%{z}<extra></extra>",
         "legendgroup": "always",
         "marker": {
          "color": "#FF97FF",
          "symbol": "circle"
         },
         "mode": "markers",
         "name": "always",
         "scene": "scene",
         "showlegend": true,
         "type": "scatter3d",
         "x": [
          -0.4436994791030884
         ],
         "y": [
          -0.4433801770210266
         ],
         "z": [
          0.1274602711200714
         ]
        },
        {
         "hovertemplate": "color=years<br>0=%{x}<br>1=%{y}<br>2=%{z}<extra></extra>",
         "legendgroup": "years",
         "marker": {
          "color": "#FECB52",
          "symbol": "circle"
         },
         "mode": "markers",
         "name": "years",
         "scene": "scene",
         "showlegend": true,
         "type": "scatter3d",
         "x": [
          -0.3170393407344818
         ],
         "y": [
          -0.6010744571685791
         ],
         "z": [
          -0.12459853291511536
         ]
        },
        {
         "hovertemplate": "color=between<br>0=%{x}<br>1=%{y}<br>2=%{z}<extra></extra>",
         "legendgroup": "between",
         "marker": {
          "color": "#636efa",
          "symbol": "circle"
         },
         "mode": "markers",
         "name": "between",
         "scene": "scene",
         "showlegend": true,
         "type": "scatter3d",
         "x": [
          0.41326552629470825
         ],
         "y": [
          -0.3217521905899048
         ],
         "z": [
          0.2889440357685089
         ]
        },
        {
         "hovertemplate": "color=dark<br>0=%{x}<br>1=%{y}<br>2=%{z}<extra></extra>",
         "legendgroup": "dark",
         "marker": {
          "color": "#EF553B",
          "symbol": "circle"
         },
         "mode": "markers",
         "name": "dark",
         "scene": "scene",
         "showlegend": true,
         "type": "scatter3d",
         "x": [
          0.5042749047279358
         ],
         "y": [
          -0.3990206718444824
         ],
         "z": [
          0.0401998907327652
         ]
        },
        {
         "hovertemplate": "color=place<br>0=%{x}<br>1=%{y}<br>2=%{z}<extra></extra>",
         "legendgroup": "place",
         "marker": {
          "color": "#00cc96",
          "symbol": "circle"
         },
         "mode": "markers",
         "name": "place",
         "scene": "scene",
         "showlegend": true,
         "type": "scatter3d",
         "x": [
          -0.1771165132522583
         ],
         "y": [
          -0.7705249786376953
         ],
         "z": [
          0.03658150136470795
         ]
        },
        {
         "hovertemplate": "color=small<br>0=%{x}<br>1=%{y}<br>2=%{z}<extra></extra>",
         "legendgroup": "small",
         "marker": {
          "color": "#ab63fa",
          "symbol": "circle"
         },
         "mode": "markers",
         "name": "small",
         "scene": "scene",
         "showlegend": true,
         "type": "scatter3d",
         "x": [
          0.21192306280136108
         ],
         "y": [
          -0.3487865924835205
         ],
         "z": [
          -0.15916046500205994
         ]
        },
        {
         "hovertemplate": "color=cold<br>0=%{x}<br>1=%{y}<br>2=%{z}<extra></extra>",
         "legendgroup": "cold",
         "marker": {
          "color": "#FFA15A",
          "symbol": "circle"
         },
         "mode": "markers",
         "name": "cold",
         "scene": "scene",
         "showlegend": true,
         "type": "scatter3d",
         "x": [
          0.3539295196533203
         ],
         "y": [
          -0.46875545382499695
         ],
         "z": [
          0.23509259521961212
         ]
        },
        {
         "hovertemplate": "color=winterfell<br>0=%{x}<br>1=%{y}<br>2=%{z}<extra></extra>",
         "legendgroup": "winterfell",
         "marker": {
          "color": "#19d3f3",
          "symbol": "circle"
         },
         "mode": "markers",
         "name": "winterfell",
         "scene": "scene",
         "showlegend": true,
         "type": "scatter3d",
         "x": [
          -0.323245108127594
         ],
         "y": [
          -0.6936391592025757
         ],
         "z": [
          0.007787927985191345
         ]
        },
        {
         "hovertemplate": "color=most<br>0=%{x}<br>1=%{y}<br>2=%{z}<extra></extra>",
         "legendgroup": "most",
         "marker": {
          "color": "#FF6692",
          "symbol": "circle"
         },
         "mode": "markers",
         "name": "most",
         "scene": "scene",
         "showlegend": true,
         "type": "scatter3d",
         "x": [
          -0.44429662823677063
         ],
         "y": [
          -0.5707842111587524
         ],
         "z": [
          -0.28628113865852356
         ]
        },
        {
         "hovertemplate": "color=hundred<br>0=%{x}<br>1=%{y}<br>2=%{z}<extra></extra>",
         "legendgroup": "hundred",
         "marker": {
          "color": "#B6E880",
          "symbol": "circle"
         },
         "mode": "markers",
         "name": "hundred",
         "scene": "scene",
         "showlegend": true,
         "type": "scatter3d",
         "x": [
          0.0018938779830932617
         ],
         "y": [
          -0.5965230464935303
         ],
         "z": [
          -0.3771364986896515
         ]
        },
        {
         "hovertemplate": "color=stood<br>0=%{x}<br>1=%{y}<br>2=%{z}<extra></extra>",
         "legendgroup": "stood",
         "marker": {
          "color": "#FF97FF",
          "symbol": "circle"
         },
         "mode": "markers",
         "name": "stood",
         "scene": "scene",
         "showlegend": true,
         "type": "scatter3d",
         "x": [
          0.2811562418937683
         ],
         "y": [
          -0.4029996991157532
         ],
         "z": [
          0.1973475217819214
         ]
        },
        {
         "hovertemplate": "color=end<br>0=%{x}<br>1=%{y}<br>2=%{z}<extra></extra>",
         "legendgroup": "end",
         "marker": {
          "color": "#FECB52",
          "symbol": "circle"
         },
         "mode": "markers",
         "name": "end",
         "scene": "scene",
         "showlegend": true,
         "type": "scatter3d",
         "x": [
          -0.09935338795185089
         ],
         "y": [
          -0.7681613564491272
         ],
         "z": [
          0.06388458609580994
         ]
        },
        {
         "hovertemplate": "color=sister<br>0=%{x}<br>1=%{y}<br>2=%{z}<extra></extra>",
         "legendgroup": "sister",
         "marker": {
          "color": "#636efa",
          "symbol": "circle"
         },
         "mode": "markers",
         "name": "sister",
         "scene": "scene",
         "showlegend": true,
         "type": "scatter3d",
         "x": [
          -0.5909104943275452
         ],
         "y": [
          -0.40198811888694763
         ],
         "z": [
          0.28425443172454834
         ]
        },
        {
         "hovertemplate": "color=words<br>0=%{x}<br>1=%{y}<br>2=%{z}<extra></extra>",
         "legendgroup": "words",
         "marker": {
          "color": "#EF553B",
          "symbol": "circle"
         },
         "mode": "markers",
         "name": "words",
         "scene": "scene",
         "showlegend": true,
         "type": "scatter3d",
         "x": [
          -0.2623734474182129
         ],
         "y": [
          -0.47698521614074707
         ],
         "z": [
          0.2966667413711548
         ]
        },
        {
         "hovertemplate": "color=sea<br>0=%{x}<br>1=%{y}<br>2=%{z}<extra></extra>",
         "legendgroup": "sea",
         "marker": {
          "color": "#00cc96",
          "symbol": "circle"
         },
         "mode": "markers",
         "name": "sea",
         "scene": "scene",
         "showlegend": true,
         "type": "scatter3d",
         "x": [
          0.11695823073387146
         ],
         "y": [
          -0.79742032289505
         ],
         "z": [
          -0.2875661551952362
         ]
        },
        {
         "hovertemplate": "color=right<br>0=%{x}<br>1=%{y}<br>2=%{z}<extra></extra>",
         "legendgroup": "right",
         "marker": {
          "color": "#ab63fa",
          "symbol": "circle"
         },
         "mode": "markers",
         "name": "right",
         "scene": "scene",
         "showlegend": true,
         "type": "scatter3d",
         "x": [
          0.13219651579856873
         ],
         "y": [
          -0.5124156475067139
         ],
         "z": [
          0.4264889657497406
         ]
        },
        {
         "hovertemplate": "color=nothing<br>0=%{x}<br>1=%{y}<br>2=%{z}<extra></extra>",
         "legendgroup": "nothing",
         "marker": {
          "color": "#FFA15A",
          "symbol": "circle"
         },
         "mode": "markers",
         "name": "nothing",
         "scene": "scene",
         "showlegend": true,
         "type": "scatter3d",
         "x": [
          -0.2661535143852234
         ],
         "y": [
          -0.5277167558670044
         ],
         "z": [
          0.139677494764328
         ]
        },
        {
         "hovertemplate": "color=walls<br>0=%{x}<br>1=%{y}<br>2=%{z}<extra></extra>",
         "legendgroup": "walls",
         "marker": {
          "color": "#19d3f3",
          "symbol": "circle"
         },
         "mode": "markers",
         "name": "walls",
         "scene": "scene",
         "showlegend": true,
         "type": "scatter3d",
         "x": [
          0.4265376925468445
         ],
         "y": [
          -0.7419581413269043
         ],
         "z": [
          -0.2938512861728668
         ]
        },
        {
         "hovertemplate": "color=fingers<br>0=%{x}<br>1=%{y}<br>2=%{z}<extra></extra>",
         "legendgroup": "fingers",
         "marker": {
          "color": "#FF6692",
          "symbol": "circle"
         },
         "mode": "markers",
         "name": "fingers",
         "scene": "scene",
         "showlegend": true,
         "type": "scatter3d",
         "x": [
          0.48225563764572144
         ],
         "y": [
          -0.3268986940383911
         ],
         "z": [
          0.4789600968360901
         ]
        },
        {
         "hovertemplate": "color=same<br>0=%{x}<br>1=%{y}<br>2=%{z}<extra></extra>",
         "legendgroup": "same",
         "marker": {
          "color": "#B6E880",
          "symbol": "circle"
         },
         "mode": "markers",
         "name": "same",
         "scene": "scene",
         "showlegend": true,
         "type": "scatter3d",
         "x": [
          -0.24513478577136993
         ],
         "y": [
          -0.500046968460083
         ],
         "z": [
          0.18745052814483643
         ]
        },
        {
         "hovertemplate": "color=cloak<br>0=%{x}<br>1=%{y}<br>2=%{z}<extra></extra>",
         "legendgroup": "cloak",
         "marker": {
          "color": "#FF97FF",
          "symbol": "circle"
         },
         "mode": "markers",
         "name": "cloak",
         "scene": "scene",
         "showlegend": true,
         "type": "scatter3d",
         "x": [
          0.4327235221862793
         ],
         "y": [
          -0.27742841839790344
         ],
         "z": [
          0.31651556491851807
         ]
        },
        {
         "hovertemplate": "color=house<br>0=%{x}<br>1=%{y}<br>2=%{z}<extra></extra>",
         "legendgroup": "house",
         "marker": {
          "color": "#FECB52",
          "symbol": "circle"
         },
         "mode": "markers",
         "name": "house",
         "scene": "scene",
         "showlegend": true,
         "type": "scatter3d",
         "x": [
          -0.30692264437675476
         ],
         "y": [
          -0.39933717250823975
         ],
         "z": [
          -0.17474114894866943
         ]
        },
        {
         "hovertemplate": "color=young<br>0=%{x}<br>1=%{y}<br>2=%{z}<extra></extra>",
         "legendgroup": "young",
         "marker": {
          "color": "#636efa",
          "symbol": "circle"
         },
         "mode": "markers",
         "name": "young",
         "scene": "scene",
         "showlegend": true,
         "type": "scatter3d",
         "x": [
          -0.48911339044570923
         ],
         "y": [
          -0.25216037034988403
         ],
         "z": [
          0.02709624171257019
         ]
        },
        {
         "hovertemplate": "color=does<br>0=%{x}<br>1=%{y}<br>2=%{z}<extra></extra>",
         "legendgroup": "does",
         "marker": {
          "color": "#EF553B",
          "symbol": "circle"
         },
         "mode": "markers",
         "name": "does",
         "scene": "scene",
         "showlegend": true,
         "type": "scatter3d",
         "x": [
          -0.6364197134971619
         ],
         "y": [
          -0.3540390133857727
         ],
         "z": [
          0.3211020827293396
         ]
        },
        {
         "hovertemplate": "color=beside<br>0=%{x}<br>1=%{y}<br>2=%{z}<extra></extra>",
         "legendgroup": "beside",
         "marker": {
          "color": "#00cc96",
          "symbol": "circle"
         },
         "mode": "markers",
         "name": "beside",
         "scene": "scene",
         "showlegend": true,
         "type": "scatter3d",
         "x": [
          0.2583020329475403
         ],
         "y": [
          -0.33533015847206116
         ],
         "z": [
          0.4333367645740509
         ]
        },
        {
         "hovertemplate": "color=get<br>0=%{x}<br>1=%{y}<br>2=%{z}<extra></extra>",
         "legendgroup": "get",
         "marker": {
          "color": "#ab63fa",
          "symbol": "circle"
         },
         "mode": "markers",
         "name": "get",
         "scene": "scene",
         "showlegend": true,
         "type": "scatter3d",
         "x": [
          -0.18437641859054565
         ],
         "y": [
          -0.6352574825286865
         ],
         "z": [
          0.5013763904571533
         ]
        },
        {
         "hovertemplate": "color=mouth<br>0=%{x}<br>1=%{y}<br>2=%{z}<extra></extra>",
         "legendgroup": "mouth",
         "marker": {
          "color": "#FFA15A",
          "symbol": "circle"
         },
         "mode": "markers",
         "name": "mouth",
         "scene": "scene",
         "showlegend": true,
         "type": "scatter3d",
         "x": [
          0.34192898869514465
         ],
         "y": [
          -0.28452619910240173
         ],
         "z": [
          0.551787257194519
         ]
        },
        {
         "hovertemplate": "color=seven<br>0=%{x}<br>1=%{y}<br>2=%{z}<extra></extra>",
         "legendgroup": "seven",
         "marker": {
          "color": "#19d3f3",
          "symbol": "circle"
         },
         "mode": "markers",
         "name": "seven",
         "scene": "scene",
         "showlegend": true,
         "type": "scatter3d",
         "x": [
          -0.34039822220802307
         ],
         "y": [
          -0.6887494921684265
         ],
         "z": [
          -0.5013490915298462
         ]
        },
        {
         "hovertemplate": "color=watch<br>0=%{x}<br>1=%{y}<br>2=%{z}<extra></extra>",
         "legendgroup": "watch",
         "marker": {
          "color": "#FF6692",
          "symbol": "circle"
         },
         "mode": "markers",
         "name": "watch",
         "scene": "scene",
         "showlegend": true,
         "type": "scatter3d",
         "x": [
          -0.3089304268360138
         ],
         "y": [
          -0.6341598629951477
         ],
         "z": [
          -0.02421167492866516
         ]
        },
        {
         "hovertemplate": "color=door<br>0=%{x}<br>1=%{y}<br>2=%{z}<extra></extra>",
         "legendgroup": "door",
         "marker": {
          "color": "#B6E880",
          "symbol": "circle"
         },
         "mode": "markers",
         "name": "door",
         "scene": "scene",
         "showlegend": true,
         "type": "scatter3d",
         "x": [
          0.44541609287261963
         ],
         "y": [
          -0.5101621747016907
         ],
         "z": [
          0.3879501521587372
         ]
        },
        {
         "hovertemplate": "color=joffrey<br>0=%{x}<br>1=%{y}<br>2=%{z}<extra></extra>",
         "legendgroup": "joffrey",
         "marker": {
          "color": "#FF97FF",
          "symbol": "circle"
         },
         "mode": "markers",
         "name": "joffrey",
         "scene": "scene",
         "showlegend": true,
         "type": "scatter3d",
         "x": [
          -0.5001775622367859
         ],
         "y": [
          -0.3837864100933075
         ],
         "z": [
          0.2565591633319855
         ]
        },
        {
         "hovertemplate": "color=green<br>0=%{x}<br>1=%{y}<br>2=%{z}<extra></extra>",
         "legendgroup": "green",
         "marker": {
          "color": "#FECB52",
          "symbol": "circle"
         },
         "mode": "markers",
         "name": "green",
         "scene": "scene",
         "showlegend": true,
         "type": "scatter3d",
         "x": [
          0.4181535243988037
         ],
         "y": [
          -0.23754185438156128
         ],
         "z": [
          -0.17589733004570007
         ]
        },
        {
         "hovertemplate": "color=big<br>0=%{x}<br>1=%{y}<br>2=%{z}<extra></extra>",
         "legendgroup": "big",
         "marker": {
          "color": "#636efa",
          "symbol": "circle"
         },
         "mode": "markers",
         "name": "big",
         "scene": "scene",
         "showlegend": true,
         "type": "scatter3d",
         "x": [
          0.2297297716140747
         ],
         "y": [
          -0.1448955237865448
         ],
         "z": [
          0.20981334149837494
         ]
        },
        {
         "hovertemplate": "color=under<br>0=%{x}<br>1=%{y}<br>2=%{z}<extra></extra>",
         "legendgroup": "under",
         "marker": {
          "color": "#EF553B",
          "symbol": "circle"
         },
         "mode": "markers",
         "name": "under",
         "scene": "scene",
         "showlegend": true,
         "type": "scatter3d",
         "x": [
          0.5659387111663818
         ],
         "y": [
          -0.2797794044017792
         ],
         "z": [
          0.31477195024490356
         ]
        },
        {
         "hovertemplate": "color=few<br>0=%{x}<br>1=%{y}<br>2=%{z}<extra></extra>",
         "legendgroup": "few",
         "marker": {
          "color": "#00cc96",
          "symbol": "circle"
         },
         "mode": "markers",
         "name": "few",
         "scene": "scene",
         "showlegend": true,
         "type": "scatter3d",
         "x": [
          0.011290490627288818
         ],
         "y": [
          -0.5862365365028381
         ],
         "z": [
          -0.1885722577571869
         ]
        },
        {
         "hovertemplate": "color=sent<br>0=%{x}<br>1=%{y}<br>2=%{z}<extra></extra>",
         "legendgroup": "sent",
         "marker": {
          "color": "#ab63fa",
          "symbol": "circle"
         },
         "mode": "markers",
         "name": "sent",
         "scene": "scene",
         "showlegend": true,
         "type": "scatter3d",
         "x": [
          -0.2730495035648346
         ],
         "y": [
          -0.5156110525131226
         ],
         "z": [
          0.4691717028617859
         ]
        },
        {
         "hovertemplate": "color=perhaps<br>0=%{x}<br>1=%{y}<br>2=%{z}<extra></extra>",
         "legendgroup": "perhaps",
         "marker": {
          "color": "#FFA15A",
          "symbol": "circle"
         },
         "mode": "markers",
         "name": "perhaps",
         "scene": "scene",
         "showlegend": true,
         "type": "scatter3d",
         "x": [
          -0.703191876411438
         ],
         "y": [
          -0.5048753023147583
         ],
         "z": [
          0.1511857956647873
         ]
        },
        {
         "hovertemplate": "color=almost<br>0=%{x}<br>1=%{y}<br>2=%{z}<extra></extra>",
         "legendgroup": "almost",
         "marker": {
          "color": "#19d3f3",
          "symbol": "circle"
         },
         "mode": "markers",
         "name": "almost",
         "scene": "scene",
         "showlegend": true,
         "type": "scatter3d",
         "x": [
          0.22664406895637512
         ],
         "y": [
          -0.32108810544013977
         ],
         "z": [
          0.479000985622406
         ]
        },
        {
         "hovertemplate": "color=such<br>0=%{x}<br>1=%{y}<br>2=%{z}<extra></extra>",
         "legendgroup": "such",
         "marker": {
          "color": "#FF6692",
          "symbol": "circle"
         },
         "mode": "markers",
         "name": "such",
         "scene": "scene",
         "showlegend": true,
         "type": "scatter3d",
         "x": [
          -0.6487802267074585
         ],
         "y": [
          -0.45568495988845825
         ],
         "z": [
          -0.07045221328735352
         ]
        },
        {
         "hovertemplate": "color=wanted<br>0=%{x}<br>1=%{y}<br>2=%{z}<extra></extra>",
         "legendgroup": "wanted",
         "marker": {
          "color": "#B6E880",
          "symbol": "circle"
         },
         "mode": "markers",
         "name": "wanted",
         "scene": "scene",
         "showlegend": true,
         "type": "scatter3d",
         "x": [
          -0.45162397623062134
         ],
         "y": [
          -0.4453265368938446
         ],
         "z": [
          0.6091415882110596
         ]
        },
        {
         "hovertemplate": "color=daughter<br>0=%{x}<br>1=%{y}<br>2=%{z}<extra></extra>",
         "legendgroup": "daughter",
         "marker": {
          "color": "#FF97FF",
          "symbol": "circle"
         },
         "mode": "markers",
         "name": "daughter",
         "scene": "scene",
         "showlegend": true,
         "type": "scatter3d",
         "x": [
          -0.5504518151283264
         ],
         "y": [
          -0.26049676537513733
         ],
         "z": [
          0.08337479829788208
         ]
        },
        {
         "hovertemplate": "color=true<br>0=%{x}<br>1=%{y}<br>2=%{z}<extra></extra>",
         "legendgroup": "true",
         "marker": {
          "color": "#FECB52",
          "symbol": "circle"
         },
         "mode": "markers",
         "name": "true",
         "scene": "scene",
         "showlegend": true,
         "type": "scatter3d",
         "x": [
          -0.7187020778656006
         ],
         "y": [
          -0.44155916571617126
         ],
         "z": [
          -0.007591575384140015
         ]
        },
        {
         "hovertemplate": "color=while<br>0=%{x}<br>1=%{y}<br>2=%{z}<extra></extra>",
         "legendgroup": "while",
         "marker": {
          "color": "#636efa",
          "symbol": "circle"
         },
         "mode": "markers",
         "name": "while",
         "scene": "scene",
         "showlegend": true,
         "type": "scatter3d",
         "x": [
          0.3142208158969879
         ],
         "y": [
          -0.45116183161735535
         ],
         "z": [
          0.2495449185371399
         ]
        },
        {
         "hovertemplate": "color=leave<br>0=%{x}<br>1=%{y}<br>2=%{z}<extra></extra>",
         "legendgroup": "leave",
         "marker": {
          "color": "#EF553B",
          "symbol": "circle"
         },
         "mode": "markers",
         "name": "leave",
         "scene": "scene",
         "showlegend": true,
         "type": "scatter3d",
         "x": [
          -0.45260342955589294
         ],
         "y": [
          -0.6708984375
         ],
         "z": [
          0.34831565618515015
         ]
        },
        {
         "hovertemplate": "color=city<br>0=%{x}<br>1=%{y}<br>2=%{z}<extra></extra>",
         "legendgroup": "city",
         "marker": {
          "color": "#00cc96",
          "symbol": "circle"
         },
         "mode": "markers",
         "name": "city",
         "scene": "scene",
         "showlegend": true,
         "type": "scatter3d",
         "x": [
          -0.16714757680892944
         ],
         "y": [
          -0.8601115942001343
         ],
         "z": [
          -0.3537852466106415
         ]
        },
        {
         "hovertemplate": "color=wind<br>0=%{x}<br>1=%{y}<br>2=%{z}<extra></extra>",
         "legendgroup": "wind",
         "marker": {
          "color": "#ab63fa",
          "symbol": "circle"
         },
         "mode": "markers",
         "name": "wind",
         "scene": "scene",
         "showlegend": true,
         "type": "scatter3d",
         "x": [
          0.5403847694396973
         ],
         "y": [
          -0.5480722188949585
         ],
         "z": [
          0.144781231880188
         ]
        },
        {
         "hovertemplate": "color=light<br>0=%{x}<br>1=%{y}<br>2=%{z}<extra></extra>",
         "legendgroup": "light",
         "marker": {
          "color": "#FFA15A",
          "symbol": "circle"
         },
         "mode": "markers",
         "name": "light",
         "scene": "scene",
         "showlegend": true,
         "type": "scatter3d",
         "x": [
          0.3929714560508728
         ],
         "y": [
          -0.6156233549118042
         ],
         "z": [
          0.043969154357910156
         ]
        },
        {
         "hovertemplate": "color=arms<br>0=%{x}<br>1=%{y}<br>2=%{z}<extra></extra>",
         "legendgroup": "arms",
         "marker": {
          "color": "#19d3f3",
          "symbol": "circle"
         },
         "mode": "markers",
         "name": "arms",
         "scene": "scene",
         "showlegend": true,
         "type": "scatter3d",
         "x": [
          0.19097208976745605
         ],
         "y": [
          -0.36044836044311523
         ],
         "z": [
          0.275869220495224
         ]
        },
        {
         "hovertemplate": "color=children<br>0=%{x}<br>1=%{y}<br>2=%{z}<extra></extra>",
         "legendgroup": "children",
         "marker": {
          "color": "#FF6692",
          "symbol": "circle"
         },
         "mode": "markers",
         "name": "children",
         "scene": "scene",
         "showlegend": true,
         "type": "scatter3d",
         "x": [
          -0.37108734250068665
         ],
         "y": [
          -0.6734870672225952
         ],
         "z": [
          -0.22779348492622375
         ]
        },
        {
         "hovertemplate": "color=herself<br>0=%{x}<br>1=%{y}<br>2=%{z}<extra></extra>",
         "legendgroup": "herself",
         "marker": {
          "color": "#B6E880",
          "symbol": "circle"
         },
         "mode": "markers",
         "name": "herself",
         "scene": "scene",
         "showlegend": true,
         "type": "scatter3d",
         "x": [
          -0.06484287232160568
         ],
         "y": [
          -0.3628500699996948
         ],
         "z": [
          0.3599867820739746
         ]
        },
        {
         "hovertemplate": "color=sweet<br>0=%{x}<br>1=%{y}<br>2=%{z}<extra></extra>",
         "legendgroup": "sweet",
         "marker": {
          "color": "#FF97FF",
          "symbol": "circle"
         },
         "mode": "markers",
         "name": "sweet",
         "scene": "scene",
         "showlegend": true,
         "type": "scatter3d",
         "x": [
          -0.4419298470020294
         ],
         "y": [
          -0.18566802144050598
         ],
         "z": [
          0.31117361783981323
         ]
        },
        {
         "hovertemplate": "color=others<br>0=%{x}<br>1=%{y}<br>2=%{z}<extra></extra>",
         "legendgroup": "others",
         "marker": {
          "color": "#FECB52",
          "symbol": "circle"
         },
         "mode": "markers",
         "name": "others",
         "scene": "scene",
         "showlegend": true,
         "type": "scatter3d",
         "x": [
          -0.030336439609527588
         ],
         "y": [
          -0.6167061924934387
         ],
         "z": [
          -0.17512279748916626
         ]
        },
        {
         "hovertemplate": "color=lost<br>0=%{x}<br>1=%{y}<br>2=%{z}<extra></extra>",
         "legendgroup": "lost",
         "marker": {
          "color": "#636efa",
          "symbol": "circle"
         },
         "mode": "markers",
         "name": "lost",
         "scene": "scene",
         "showlegend": true,
         "type": "scatter3d",
         "x": [
          -0.26572853326797485
         ],
         "y": [
          -0.5051151514053345
         ],
         "z": [
          0.24893619120121002
         ]
        },
        {
         "hovertemplate": "color=theon<br>0=%{x}<br>1=%{y}<br>2=%{z}<extra></extra>",
         "legendgroup": "theon",
         "marker": {
          "color": "#EF553B",
          "symbol": "circle"
         },
         "mode": "markers",
         "name": "theon",
         "scene": "scene",
         "showlegend": true,
         "type": "scatter3d",
         "x": [
          -0.21294566988945007
         ],
         "y": [
          -0.2614733576774597
         ],
         "z": [
          0.30219560861587524
         ]
        },
        {
         "hovertemplate": "color=each<br>0=%{x}<br>1=%{y}<br>2=%{z}<extra></extra>",
         "legendgroup": "each",
         "marker": {
          "color": "#00cc96",
          "symbol": "circle"
         },
         "mode": "markers",
         "name": "each",
         "scene": "scene",
         "showlegend": true,
         "type": "scatter3d",
         "x": [
          0.2360052466392517
         ],
         "y": [
          -0.5520660281181335
         ],
         "z": [
          -0.04711046814918518
         ]
        },
        {
         "hovertemplate": "color=felt<br>0=%{x}<br>1=%{y}<br>2=%{z}<extra></extra>",
         "legendgroup": "felt",
         "marker": {
          "color": "#ab63fa",
          "symbol": "circle"
         },
         "mode": "markers",
         "name": "felt",
         "scene": "scene",
         "showlegend": true,
         "type": "scatter3d",
         "x": [
          0.12908223271369934
         ],
         "y": [
          -0.2893349826335907
         ],
         "z": [
          0.6462812423706055
         ]
        },
        {
         "hovertemplate": "color=side<br>0=%{x}<br>1=%{y}<br>2=%{z}<extra></extra>",
         "legendgroup": "side",
         "marker": {
          "color": "#FFA15A",
          "symbol": "circle"
         },
         "mode": "markers",
         "name": "side",
         "scene": "scene",
         "showlegend": true,
         "type": "scatter3d",
         "x": [
          0.3068560063838959
         ],
         "y": [
          -0.6448577046394348
         ],
         "z": [
          0.21454958617687225
         ]
        },
        {
         "hovertemplate": "color=yes<br>0=%{x}<br>1=%{y}<br>2=%{z}<extra></extra>",
         "legendgroup": "yes",
         "marker": {
          "color": "#19d3f3",
          "symbol": "circle"
         },
         "mode": "markers",
         "name": "yes",
         "scene": "scene",
         "showlegend": true,
         "type": "scatter3d",
         "x": [
          -0.7417423725128174
         ],
         "y": [
          -0.2776818573474884
         ],
         "z": [
          0.23468807339668274
         ]
        },
        {
         "hovertemplate": "color=brothers<br>0=%{x}<br>1=%{y}<br>2=%{z}<extra></extra>",
         "legendgroup": "brothers",
         "marker": {
          "color": "#FF6692",
          "symbol": "circle"
         },
         "mode": "markers",
         "name": "brothers",
         "scene": "scene",
         "showlegend": true,
         "type": "scatter3d",
         "x": [
          -0.30237188935279846
         ],
         "y": [
          -0.6776949763298035
         ],
         "z": [
          -0.13894334435462952
         ]
        },
        {
         "hovertemplate": "color=best<br>0=%{x}<br>1=%{y}<br>2=%{z}<extra></extra>",
         "legendgroup": "best",
         "marker": {
          "color": "#B6E880",
          "symbol": "circle"
         },
         "mode": "markers",
         "name": "best",
         "scene": "scene",
         "showlegend": true,
         "type": "scatter3d",
         "x": [
          -0.5559133291244507
         ],
         "y": [
          -0.6493127346038818
         ],
         "z": [
          0.1545589715242386
         ]
        },
        {
         "hovertemplate": "color=very<br>0=%{x}<br>1=%{y}<br>2=%{z}<extra></extra>",
         "legendgroup": "very",
         "marker": {
          "color": "#FF97FF",
          "symbol": "circle"
         },
         "mode": "markers",
         "name": "very",
         "scene": "scene",
         "showlegend": true,
         "type": "scatter3d",
         "x": [
          -0.3753069341182709
         ],
         "y": [
          -0.3515886068344116
         ],
         "z": [
          0.12207597494125366
         ]
        },
        {
         "hovertemplate": "color=die<br>0=%{x}<br>1=%{y}<br>2=%{z}<extra></extra>",
         "legendgroup": "die",
         "marker": {
          "color": "#FECB52",
          "symbol": "circle"
         },
         "mode": "markers",
         "name": "die",
         "scene": "scene",
         "showlegend": true,
         "type": "scatter3d",
         "x": [
          -0.4649157226085663
         ],
         "y": [
          -0.6759361624717712
         ],
         "z": [
          0.22121718525886536
         ]
        },
        {
         "hovertemplate": "color=brought<br>0=%{x}<br>1=%{y}<br>2=%{z}<extra></extra>",
         "legendgroup": "brought",
         "marker": {
          "color": "#636efa",
          "symbol": "circle"
         },
         "mode": "markers",
         "name": "brought",
         "scene": "scene",
         "showlegend": true,
         "type": "scatter3d",
         "x": [
          -0.13372620940208435
         ],
         "y": [
          -0.3731243908405304
         ],
         "z": [
          0.4526601731777191
         ]
        },
        {
         "hovertemplate": "color=soon<br>0=%{x}<br>1=%{y}<br>2=%{z}<extra></extra>",
         "legendgroup": "soon",
         "marker": {
          "color": "#EF553B",
          "symbol": "circle"
         },
         "mode": "markers",
         "name": "soon",
         "scene": "scene",
         "showlegend": true,
         "type": "scatter3d",
         "x": [
          -0.24305224418640137
         ],
         "y": [
          -0.561279833316803
         ],
         "z": [
          0.1513514220714569
         ]
        },
        {
         "hovertemplate": "color=far<br>0=%{x}<br>1=%{y}<br>2=%{z}<extra></extra>",
         "legendgroup": "far",
         "marker": {
          "color": "#00cc96",
          "symbol": "circle"
         },
         "mode": "markers",
         "name": "far",
         "scene": "scene",
         "showlegend": true,
         "type": "scatter3d",
         "x": [
          -0.037585362792015076
         ],
         "y": [
          -0.6257085204124451
         ],
         "z": [
          0.08452659845352173
         ]
        },
        {
         "hovertemplate": "color=died<br>0=%{x}<br>1=%{y}<br>2=%{z}<extra></extra>",
         "legendgroup": "died",
         "marker": {
          "color": "#ab63fa",
          "symbol": "circle"
         },
         "mode": "markers",
         "name": "died",
         "scene": "scene",
         "showlegend": true,
         "type": "scatter3d",
         "x": [
          -0.3345845937728882
         ],
         "y": [
          -0.4729114770889282
         ],
         "z": [
          0.2211706042289734
         ]
        },
        {
         "hovertemplate": "color=north<br>0=%{x}<br>1=%{y}<br>2=%{z}<extra></extra>",
         "legendgroup": "north",
         "marker": {
          "color": "#FFA15A",
          "symbol": "circle"
         },
         "mode": "markers",
         "name": "north",
         "scene": "scene",
         "showlegend": true,
         "type": "scatter3d",
         "x": [
          -0.15147916972637177
         ],
         "y": [
          -0.7994759678840637
         ],
         "z": [
          -0.19352826476097107
         ]
        },
        {
         "hovertemplate": "color=child<br>0=%{x}<br>1=%{y}<br>2=%{z}<extra></extra>",
         "legendgroup": "child",
         "marker": {
          "color": "#19d3f3",
          "symbol": "circle"
         },
         "mode": "markers",
         "name": "child",
         "scene": "scene",
         "showlegend": true,
         "type": "scatter3d",
         "x": [
          -0.5381956696510315
         ],
         "y": [
          -0.3882502019405365
         ],
         "z": [
          0.18894459307193756
         ]
        },
        {
         "hovertemplate": "color=fear<br>0=%{x}<br>1=%{y}<br>2=%{z}<extra></extra>",
         "legendgroup": "fear",
         "marker": {
          "color": "#FF6692",
          "symbol": "circle"
         },
         "mode": "markers",
         "name": "fear",
         "scene": "scene",
         "showlegend": true,
         "type": "scatter3d",
         "x": [
          -0.3711373507976532
         ],
         "y": [
          -0.5199450254440308
         ],
         "z": [
          0.3184003233909607
         ]
        },
        {
         "hovertemplate": "color=along<br>0=%{x}<br>1=%{y}<br>2=%{z}<extra></extra>",
         "legendgroup": "along",
         "marker": {
          "color": "#B6E880",
          "symbol": "circle"
         },
         "mode": "markers",
         "name": "along",
         "scene": "scene",
         "showlegend": true,
         "type": "scatter3d",
         "x": [
          0.42971086502075195
         ],
         "y": [
          -0.5730124115943909
         ],
         "z": [
          -0.10758930444717407
         ]
        },
        {
         "hovertemplate": "color=word<br>0=%{x}<br>1=%{y}<br>2=%{z}<extra></extra>",
         "legendgroup": "word",
         "marker": {
          "color": "#FF97FF",
          "symbol": "circle"
         },
         "mode": "markers",
         "name": "word",
         "scene": "scene",
         "showlegend": true,
         "type": "scatter3d",
         "x": [
          -0.42751389741897583
         ],
         "y": [
          -0.6470433473587036
         ],
         "z": [
          0.25001904368400574
         ]
        },
        {
         "hovertemplate": "color=brienne<br>0=%{x}<br>1=%{y}<br>2=%{z}<extra></extra>",
         "legendgroup": "brienne",
         "marker": {
          "color": "#FECB52",
          "symbol": "circle"
         },
         "mode": "markers",
         "name": "brienne",
         "scene": "scene",
         "showlegend": true,
         "type": "scatter3d",
         "x": [
          0.011331513524055481
         ],
         "y": [
          -0.24974322319030762
         ],
         "z": [
          0.3208003044128418
         ]
        },
        {
         "hovertemplate": "color=both<br>0=%{x}<br>1=%{y}<br>2=%{z}<extra></extra>",
         "legendgroup": "both",
         "marker": {
          "color": "#636efa",
          "symbol": "circle"
         },
         "mode": "markers",
         "name": "both",
         "scene": "scene",
         "showlegend": true,
         "type": "scatter3d",
         "x": [
          -0.005091682076454163
         ],
         "y": [
          -0.46649959683418274
         ],
         "z": [
          0.03458996117115021
         ]
        },
        {
         "hovertemplate": "color=taken<br>0=%{x}<br>1=%{y}<br>2=%{z}<extra></extra>",
         "legendgroup": "taken",
         "marker": {
          "color": "#EF553B",
          "symbol": "circle"
         },
         "mode": "markers",
         "name": "taken",
         "scene": "scene",
         "showlegend": true,
         "type": "scatter3d",
         "x": [
          -0.3423653542995453
         ],
         "y": [
          -0.5729629397392273
         ],
         "z": [
          0.23836135864257812
         ]
        },
        {
         "hovertemplate": "color=battle<br>0=%{x}<br>1=%{y}<br>2=%{z}<extra></extra>",
         "legendgroup": "battle",
         "marker": {
          "color": "#00cc96",
          "symbol": "circle"
         },
         "mode": "markers",
         "name": "battle",
         "scene": "scene",
         "showlegend": true,
         "type": "scatter3d",
         "x": [
          -0.2674441337585449
         ],
         "y": [
          -0.759001612663269
         ],
         "z": [
          -0.20048263669013977
         ]
        },
        {
         "hovertemplate": "color=help<br>0=%{x}<br>1=%{y}<br>2=%{z}<extra></extra>",
         "legendgroup": "help",
         "marker": {
          "color": "#ab63fa",
          "symbol": "circle"
         },
         "mode": "markers",
         "name": "help",
         "scene": "scene",
         "showlegend": true,
         "type": "scatter3d",
         "x": [
          -0.5071970820426941
         ],
         "y": [
          -0.4568706154823303
         ],
         "z": [
          0.48452919721603394
         ]
        },
        {
         "hovertemplate": "color=new<br>0=%{x}<br>1=%{y}<br>2=%{z}<extra></extra>",
         "legendgroup": "new",
         "marker": {
          "color": "#FFA15A",
          "symbol": "circle"
         },
         "mode": "markers",
         "name": "new",
         "scene": "scene",
         "showlegend": true,
         "type": "scatter3d",
         "x": [
          -0.4029042720794678
         ],
         "y": [
          -0.5706665515899658
         ],
         "z": [
          -0.31868627667427063
         ]
        },
        {
         "hovertemplate": "color=tywin<br>0=%{x}<br>1=%{y}<br>2=%{z}<extra></extra>",
         "legendgroup": "tywin",
         "marker": {
          "color": "#19d3f3",
          "symbol": "circle"
         },
         "mode": "markers",
         "name": "tywin",
         "scene": "scene",
         "showlegend": true,
         "type": "scatter3d",
         "x": [
          -0.3920750916004181
         ],
         "y": [
          -0.322754442691803
         ],
         "z": [
          0.0655343234539032
         ]
        },
        {
         "hovertemplate": "color=davos<br>0=%{x}<br>1=%{y}<br>2=%{z}<extra></extra>",
         "legendgroup": "davos",
         "marker": {
          "color": "#FF6692",
          "symbol": "circle"
         },
         "mode": "markers",
         "name": "davos",
         "scene": "scene",
         "showlegend": true,
         "type": "scatter3d",
         "x": [
          -0.11915700137615204
         ],
         "y": [
          -0.2440473437309265
         ],
         "z": [
          0.06136389076709747
         ]
        },
        {
         "hovertemplate": "color=lords<br>0=%{x}<br>1=%{y}<br>2=%{z}<extra></extra>",
         "legendgroup": "lords",
         "marker": {
          "color": "#B6E880",
          "symbol": "circle"
         },
         "mode": "markers",
         "name": "lords",
         "scene": "scene",
         "showlegend": true,
         "type": "scatter3d",
         "x": [
          -0.42197102308273315
         ],
         "y": [
          -0.6295164823532104
         ],
         "z": [
          -0.3302600681781769
         ]
        },
        {
         "hovertemplate": "color=something<br>0=%{x}<br>1=%{y}<br>2=%{z}<extra></extra>",
         "legendgroup": "something",
         "marker": {
          "color": "#FF97FF",
          "symbol": "circle"
         },
         "mode": "markers",
         "name": "something",
         "scene": "scene",
         "showlegend": true,
         "type": "scatter3d",
         "x": [
          -0.09151391685009003
         ],
         "y": [
          -0.403949499130249
         ],
         "z": [
          0.36664339900016785
         ]
        },
        {
         "hovertemplate": "color=ve<br>0=%{x}<br>1=%{y}<br>2=%{z}<extra></extra>",
         "legendgroup": "ve",
         "marker": {
          "color": "#FECB52",
          "symbol": "circle"
         },
         "mode": "markers",
         "name": "ve",
         "scene": "scene",
         "showlegend": true,
         "type": "scatter3d",
         "x": [
          -0.43530768156051636
         ],
         "y": [
          -0.500029981136322
         ],
         "z": [
          0.04913145303726196
         ]
        },
        {
         "hovertemplate": "color=wife<br>0=%{x}<br>1=%{y}<br>2=%{z}<extra></extra>",
         "legendgroup": "wife",
         "marker": {
          "color": "#636efa",
          "symbol": "circle"
         },
         "mode": "markers",
         "name": "wife",
         "scene": "scene",
         "showlegend": true,
         "type": "scatter3d",
         "x": [
          -0.5898758769035339
         ],
         "y": [
          -0.3630862236022949
         ],
         "z": [
          0.0728512555360794
         ]
        },
        {
         "hovertemplate": "color=mean<br>0=%{x}<br>1=%{y}<br>2=%{z}<extra></extra>",
         "legendgroup": "mean",
         "marker": {
          "color": "#EF553B",
          "symbol": "circle"
         },
         "mode": "markers",
         "name": "mean",
         "scene": "scene",
         "showlegend": true,
         "type": "scatter3d",
         "x": [
          -0.6762166619300842
         ],
         "y": [
          -0.4958977699279785
         ],
         "z": [
          0.26748520135879517
         ]
        },
        {
         "hovertemplate": "color=rest<br>0=%{x}<br>1=%{y}<br>2=%{z}<extra></extra>",
         "legendgroup": "rest",
         "marker": {
          "color": "#00cc96",
          "symbol": "circle"
         },
         "mode": "markers",
         "name": "rest",
         "scene": "scene",
         "showlegend": true,
         "type": "scatter3d",
         "x": [
          -0.1390092968940735
         ],
         "y": [
          -0.7362731695175171
         ],
         "z": [
          -0.01971253752708435
         ]
        },
        {
         "hovertemplate": "color=hall<br>0=%{x}<br>1=%{y}<br>2=%{z}<extra></extra>",
         "legendgroup": "hall",
         "marker": {
          "color": "#ab63fa",
          "symbol": "circle"
         },
         "mode": "markers",
         "name": "hall",
         "scene": "scene",
         "showlegend": true,
         "type": "scatter3d",
         "x": [
          0.30646976828575134
         ],
         "y": [
          -0.5930380821228027
         ],
         "z": [
          -0.07288792729377747
         ]
        },
        {
         "hovertemplate": "color=kill<br>0=%{x}<br>1=%{y}<br>2=%{z}<extra></extra>",
         "legendgroup": "kill",
         "marker": {
          "color": "#FFA15A",
          "symbol": "circle"
         },
         "mode": "markers",
         "name": "kill",
         "scene": "scene",
         "showlegend": true,
         "type": "scatter3d",
         "x": [
          -0.5491385459899902
         ],
         "y": [
          -0.4662446975708008
         ],
         "z": [
          0.4974323511123657
         ]
        },
        {
         "hovertemplate": "color=strong<br>0=%{x}<br>1=%{y}<br>2=%{z}<extra></extra>",
         "legendgroup": "strong",
         "marker": {
          "color": "#19d3f3",
          "symbol": "circle"
         },
         "mode": "markers",
         "name": "strong",
         "scene": "scene",
         "showlegend": true,
         "type": "scatter3d",
         "x": [
          -0.28547754883766174
         ],
         "y": [
          -0.21958467364311218
         ],
         "z": [
          0.04636967182159424
         ]
        },
        {
         "hovertemplate": "color=steel<br>0=%{x}<br>1=%{y}<br>2=%{z}<extra></extra>",
         "legendgroup": "steel",
         "marker": {
          "color": "#FF6692",
          "symbol": "circle"
         },
         "mode": "markers",
         "name": "steel",
         "scene": "scene",
         "showlegend": true,
         "type": "scatter3d",
         "x": [
          0.5574309825897217
         ],
         "y": [
          -0.323310524225235
         ],
         "z": [
          0.056006669998168945
         ]
        },
        {
         "hovertemplate": "color=began<br>0=%{x}<br>1=%{y}<br>2=%{z}<extra></extra>",
         "legendgroup": "began",
         "marker": {
          "color": "#B6E880",
          "symbol": "circle"
         },
         "mode": "markers",
         "name": "began",
         "scene": "scene",
         "showlegend": true,
         "type": "scatter3d",
         "x": [
          0.27438339591026306
         ],
         "y": [
          -0.36705201864242554
         ],
         "z": [
          0.5545206665992737
         ]
        },
        {
         "hovertemplate": "color=sound<br>0=%{x}<br>1=%{y}<br>2=%{z}<extra></extra>",
         "legendgroup": "sound",
         "marker": {
          "color": "#FF97FF",
          "symbol": "circle"
         },
         "mode": "markers",
         "name": "sound",
         "scene": "scene",
         "showlegend": true,
         "type": "scatter3d",
         "x": [
          0.39558613300323486
         ],
         "y": [
          -0.42778727412223816
         ],
         "z": [
          0.2723686993122101
         ]
        },
        {
         "hovertemplate": "color=won<br>0=%{x}<br>1=%{y}<br>2=%{z}<extra></extra>",
         "legendgroup": "won",
         "marker": {
          "color": "#FECB52",
          "symbol": "circle"
         },
         "mode": "markers",
         "name": "won",
         "scene": "scene",
         "showlegend": true,
         "type": "scatter3d",
         "x": [
          -0.617445170879364
         ],
         "y": [
          -0.5160549283027649
         ],
         "z": [
          0.25762939453125
         ]
        },
        {
         "hovertemplate": "color=dragon<br>0=%{x}<br>1=%{y}<br>2=%{z}<extra></extra>",
         "legendgroup": "dragon",
         "marker": {
          "color": "#636efa",
          "symbol": "circle"
         },
         "mode": "markers",
         "name": "dragon",
         "scene": "scene",
         "showlegend": true,
         "type": "scatter3d",
         "x": [
          0.03500396013259888
         ],
         "y": [
          -0.64798903465271
         ],
         "z": [
          -0.13621845841407776
         ]
        },
        {
         "hovertemplate": "color=past<br>0=%{x}<br>1=%{y}<br>2=%{z}<extra></extra>",
         "legendgroup": "past",
         "marker": {
          "color": "#EF553B",
          "symbol": "circle"
         },
         "mode": "markers",
         "name": "past",
         "scene": "scene",
         "showlegend": true,
         "type": "scatter3d",
         "x": [
          0.3066472113132477
         ],
         "y": [
          -0.49114713072776794
         ],
         "z": [
          0.07204164564609528
         ]
        },
        {
         "hovertemplate": "color=life<br>0=%{x}<br>1=%{y}<br>2=%{z}<extra></extra>",
         "legendgroup": "life",
         "marker": {
          "color": "#00cc96",
          "symbol": "circle"
         },
         "mode": "markers",
         "name": "life",
         "scene": "scene",
         "showlegend": true,
         "type": "scatter3d",
         "x": [
          -0.48377323150634766
         ],
         "y": [
          -0.7289999127388
         ],
         "z": [
          0.050916194915771484
         ]
        },
        {
         "hovertemplate": "color=tower<br>0=%{x}<br>1=%{y}<br>2=%{z}<extra></extra>",
         "legendgroup": "tower",
         "marker": {
          "color": "#ab63fa",
          "symbol": "circle"
         },
         "mode": "markers",
         "name": "tower",
         "scene": "scene",
         "showlegend": true,
         "type": "scatter3d",
         "x": [
          0.32900261878967285
         ],
         "y": [
          -0.6333824396133423
         ],
         "z": [
          -0.005435094237327576
         ]
        },
        {
         "hovertemplate": "color=killed<br>0=%{x}<br>1=%{y}<br>2=%{z}<extra></extra>",
         "legendgroup": "killed",
         "marker": {
          "color": "#FFA15A",
          "symbol": "circle"
         },
         "mode": "markers",
         "name": "killed",
         "scene": "scene",
         "showlegend": true,
         "type": "scatter3d",
         "x": [
          -0.5427079796791077
         ],
         "y": [
          -0.3754463791847229
         ],
         "z": [
          0.45040515065193176
         ]
        },
        {
         "hovertemplate": "color=arm<br>0=%{x}<br>1=%{y}<br>2=%{z}<extra></extra>",
         "legendgroup": "arm",
         "marker": {
          "color": "#19d3f3",
          "symbol": "circle"
         },
         "mode": "markers",
         "name": "arm",
         "scene": "scene",
         "showlegend": true,
         "type": "scatter3d",
         "x": [
          0.34465640783309937
         ],
         "y": [
          -0.3266942799091339
         ],
         "z": [
          0.5932224988937378
         ]
        },
        {
         "hovertemplate": "color=sons<br>0=%{x}<br>1=%{y}<br>2=%{z}<extra></extra>",
         "legendgroup": "sons",
         "marker": {
          "color": "#FF6692",
          "symbol": "circle"
         },
         "mode": "markers",
         "name": "sons",
         "scene": "scene",
         "showlegend": true,
         "type": "scatter3d",
         "x": [
          -0.49585530161857605
         ],
         "y": [
          -0.5435037612915039
         ],
         "z": [
          -0.2109522521495819
         ]
        },
        {
         "hovertemplate": "color=tried<br>0=%{x}<br>1=%{y}<br>2=%{z}<extra></extra>",
         "legendgroup": "tried",
         "marker": {
          "color": "#B6E880",
          "symbol": "circle"
         },
         "mode": "markers",
         "name": "tried",
         "scene": "scene",
         "showlegend": true,
         "type": "scatter3d",
         "x": [
          -0.1030081957578659
         ],
         "y": [
          -0.38271793723106384
         ],
         "z": [
          0.6857891082763672
         ]
        },
        {
         "hovertemplate": "color=free<br>0=%{x}<br>1=%{y}<br>2=%{z}<extra></extra>",
         "legendgroup": "free",
         "marker": {
          "color": "#FF97FF",
          "symbol": "circle"
         },
         "mode": "markers",
         "name": "free",
         "scene": "scene",
         "showlegend": true,
         "type": "scatter3d",
         "x": [
          -0.17463679611682892
         ],
         "y": [
          -0.6544848680496216
         ],
         "z": [
          -0.20968684554100037
         ]
        },
        {
         "hovertemplate": "color=thing<br>0=%{x}<br>1=%{y}<br>2=%{z}<extra></extra>",
         "legendgroup": "thing",
         "marker": {
          "color": "#FECB52",
          "symbol": "circle"
         },
         "mode": "markers",
         "name": "thing",
         "scene": "scene",
         "showlegend": true,
         "type": "scatter3d",
         "x": [
          -0.25227105617523193
         ],
         "y": [
          -0.5625834465026855
         ],
         "z": [
          0.18793389201164246
         ]
        },
        {
         "hovertemplate": "color=days<br>0=%{x}<br>1=%{y}<br>2=%{z}<extra></extra>",
         "legendgroup": "days",
         "marker": {
          "color": "#636efa",
          "symbol": "circle"
         },
         "mode": "markers",
         "name": "days",
         "scene": "scene",
         "showlegend": true,
         "type": "scatter3d",
         "x": [
          -0.11422403156757355
         ],
         "y": [
          -0.7602047920227051
         ],
         "z": [
          -0.14174619317054749
         ]
        },
        {
         "hovertemplate": "color=bear<br>0=%{x}<br>1=%{y}<br>2=%{z}<extra></extra>",
         "legendgroup": "bear",
         "marker": {
          "color": "#EF553B",
          "symbol": "circle"
         },
         "mode": "markers",
         "name": "bear",
         "scene": "scene",
         "showlegend": true,
         "type": "scatter3d",
         "x": [
          -0.17119547724723816
         ],
         "y": [
          -0.48461276292800903
         ],
         "z": [
          0.08298105001449585
         ]
        },
        {
         "hovertemplate": "color=bloody<br>0=%{x}<br>1=%{y}<br>2=%{z}<extra></extra>",
         "legendgroup": "bloody",
         "marker": {
          "color": "#00cc96",
          "symbol": "circle"
         },
         "mode": "markers",
         "name": "bloody",
         "scene": "scene",
         "showlegend": true,
         "type": "scatter3d",
         "x": [
          -0.026185467839241028
         ],
         "y": [
          -0.4398447275161743
         ],
         "z": [
          0.25804603099823
         ]
        },
        {
         "hovertemplate": "color=heart<br>0=%{x}<br>1=%{y}<br>2=%{z}<extra></extra>",
         "legendgroup": "heart",
         "marker": {
          "color": "#ab63fa",
          "symbol": "circle"
         },
         "mode": "markers",
         "name": "heart",
         "scene": "scene",
         "showlegend": true,
         "type": "scatter3d",
         "x": [
          0.16048842668533325
         ],
         "y": [
          -0.5618448257446289
         ],
         "z": [
          0.2160128653049469
         ]
        },
        {
         "hovertemplate": "color=pale<br>0=%{x}<br>1=%{y}<br>2=%{z}<extra></extra>",
         "legendgroup": "pale",
         "marker": {
          "color": "#FFA15A",
          "symbol": "circle"
         },
         "mode": "markers",
         "name": "pale",
         "scene": "scene",
         "showlegend": true,
         "type": "scatter3d",
         "x": [
          0.6173067092895508
         ],
         "y": [
          -0.1866912543773651
         ],
         "z": [
          0.1431788057088852
         ]
        },
        {
         "hovertemplate": "color=love<br>0=%{x}<br>1=%{y}<br>2=%{z}<extra></extra>",
         "legendgroup": "love",
         "marker": {
          "color": "#19d3f3",
          "symbol": "circle"
         },
         "mode": "markers",
         "name": "love",
         "scene": "scene",
         "showlegend": true,
         "type": "scatter3d",
         "x": [
          -0.7837955951690674
         ],
         "y": [
          -0.4181276559829712
         ],
         "z": [
          0.213436096906662
         ]
        },
        {
         "hovertemplate": "color=moment<br>0=%{x}<br>1=%{y}<br>2=%{z}<extra></extra>",
         "legendgroup": "moment",
         "marker": {
          "color": "#FF6692",
          "symbol": "circle"
         },
         "mode": "markers",
         "name": "moment",
         "scene": "scene",
         "showlegend": true,
         "type": "scatter3d",
         "x": [
          -0.013273507356643677
         ],
         "y": [
          -0.40505096316337585
         ],
         "z": [
          0.49386394023895264
         ]
        },
        {
         "hovertemplate": "color=sat<br>0=%{x}<br>1=%{y}<br>2=%{z}<extra></extra>",
         "legendgroup": "sat",
         "marker": {
          "color": "#B6E880",
          "symbol": "circle"
         },
         "mode": "markers",
         "name": "sat",
         "scene": "scene",
         "showlegend": true,
         "type": "scatter3d",
         "x": [
          0.3074977397918701
         ],
         "y": [
          -0.3067641854286194
         ],
         "z": [
          0.46243903040885925
         ]
        },
        {
         "hovertemplate": "color=bring<br>0=%{x}<br>1=%{y}<br>2=%{z}<extra></extra>",
         "legendgroup": "bring",
         "marker": {
          "color": "#FF97FF",
          "symbol": "circle"
         },
         "mode": "markers",
         "name": "bring",
         "scene": "scene",
         "showlegend": true,
         "type": "scatter3d",
         "x": [
          -0.4612495005130768
         ],
         "y": [
          -0.505717933177948
         ],
         "z": [
          0.43984344601631165
         ]
        },
        {
         "hovertemplate": "color=bed<br>0=%{x}<br>1=%{y}<br>2=%{z}<extra></extra>",
         "legendgroup": "bed",
         "marker": {
          "color": "#FECB52",
          "symbol": "circle"
         },
         "mode": "markers",
         "name": "bed",
         "scene": "scene",
         "showlegend": true,
         "type": "scatter3d",
         "x": [
          0.07932551205158234
         ],
         "y": [
          -0.6144236922264099
         ],
         "z": [
          0.4159473776817322
         ]
        },
        {
         "hovertemplate": "color=close<br>0=%{x}<br>1=%{y}<br>2=%{z}<extra></extra>",
         "legendgroup": "close",
         "marker": {
          "color": "#636efa",
          "symbol": "circle"
         },
         "mode": "markers",
         "name": "close",
         "scene": "scene",
         "showlegend": true,
         "type": "scatter3d",
         "x": [
          0.2586323022842407
         ],
         "y": [
          -0.403749018907547
         ],
         "z": [
          0.36298269033432007
         ]
        },
        {
         "hovertemplate": "color=knights<br>0=%{x}<br>1=%{y}<br>2=%{z}<extra></extra>",
         "legendgroup": "knights",
         "marker": {
          "color": "#EF553B",
          "symbol": "circle"
         },
         "mode": "markers",
         "name": "knights",
         "scene": "scene",
         "showlegend": true,
         "type": "scatter3d",
         "x": [
          -0.24030323326587677
         ],
         "y": [
          -0.5574542284011841
         ],
         "z": [
          -0.36986687779426575
         ]
        },
        {
         "hovertemplate": "color=cut<br>0=%{x}<br>1=%{y}<br>2=%{z}<extra></extra>",
         "legendgroup": "cut",
         "marker": {
          "color": "#00cc96",
          "symbol": "circle"
         },
         "mode": "markers",
         "name": "cut",
         "scene": "scene",
         "showlegend": true,
         "type": "scatter3d",
         "x": [
          0.12868261337280273
         ],
         "y": [
          -0.3717697560787201
         ],
         "z": [
          0.6130901575088501
         ]
        },
        {
         "hovertemplate": "color=wolf<br>0=%{x}<br>1=%{y}<br>2=%{z}<extra></extra>",
         "legendgroup": "wolf",
         "marker": {
          "color": "#ab63fa",
          "symbol": "circle"
         },
         "mode": "markers",
         "name": "wolf",
         "scene": "scene",
         "showlegend": true,
         "type": "scatter3d",
         "x": [
          0.006647154688835144
         ],
         "y": [
          -0.4887431561946869
         ],
         "z": [
          0.24047964811325073
         ]
        },
        {
         "hovertemplate": "color=horses<br>0=%{x}<br>1=%{y}<br>2=%{z}<extra></extra>",
         "legendgroup": "horses",
         "marker": {
          "color": "#FFA15A",
          "symbol": "circle"
         },
         "mode": "markers",
         "name": "horses",
         "scene": "scene",
         "showlegend": true,
         "type": "scatter3d",
         "x": [
          0.27676618099212646
         ],
         "y": [
          -0.6394306421279907
         ],
         "z": [
          -0.10851964354515076
         ]
        },
        {
         "hovertemplate": "color=smile<br>0=%{x}<br>1=%{y}<br>2=%{z}<extra></extra>",
         "legendgroup": "smile",
         "marker": {
          "color": "#19d3f3",
          "symbol": "circle"
         },
         "mode": "markers",
         "name": "smile",
         "scene": "scene",
         "showlegend": true,
         "type": "scatter3d",
         "x": [
          -0.08035314083099365
         ],
         "y": [
          -0.08241385221481323
         ],
         "z": [
          0.5459770560264587
         ]
        },
        {
         "hovertemplate": "color=death<br>0=%{x}<br>1=%{y}<br>2=%{z}<extra></extra>",
         "legendgroup": "death",
         "marker": {
          "color": "#FF6692",
          "symbol": "circle"
         },
         "mode": "markers",
         "name": "death",
         "scene": "scene",
         "showlegend": true,
         "type": "scatter3d",
         "x": [
          -0.3905297517776489
         ],
         "y": [
          -0.6505874395370483
         ],
         "z": [
          0.05356508493423462
         ]
        },
        {
         "hovertemplate": "color=inside<br>0=%{x}<br>1=%{y}<br>2=%{z}<extra></extra>",
         "legendgroup": "inside",
         "marker": {
          "color": "#B6E880",
          "symbol": "circle"
         },
         "mode": "markers",
         "name": "inside",
         "scene": "scene",
         "showlegend": true,
         "type": "scatter3d",
         "x": [
          0.5322981476783752
         ],
         "y": [
          -0.41929417848587036
         ],
         "z": [
          0.3680626153945923
         ]
        },
        {
         "hovertemplate": "color=four<br>0=%{x}<br>1=%{y}<br>2=%{z}<extra></extra>",
         "legendgroup": "four",
         "marker": {
          "color": "#FF97FF",
          "symbol": "circle"
         },
         "mode": "markers",
         "name": "four",
         "scene": "scene",
         "showlegend": true,
         "type": "scatter3d",
         "x": [
          0.023523464798927307
         ],
         "y": [
          -0.49430373311042786
         ],
         "z": [
          -0.2873832881450653
         ]
        },
        {
         "hovertemplate": "color=brown<br>0=%{x}<br>1=%{y}<br>2=%{z}<extra></extra>",
         "legendgroup": "brown",
         "marker": {
          "color": "#FECB52",
          "symbol": "circle"
         },
         "mode": "markers",
         "name": "brown",
         "scene": "scene",
         "showlegend": true,
         "type": "scatter3d",
         "x": [
          0.4676920175552368
         ],
         "y": [
          -0.04476630687713623
         ],
         "z": [
          0.06928971409797668
         ]
        },
        {
         "hovertemplate": "color=dragons<br>0=%{x}<br>1=%{y}<br>2=%{z}<extra></extra>",
         "legendgroup": "dragons",
         "marker": {
          "color": "#636efa",
          "symbol": "circle"
         },
         "mode": "markers",
         "name": "dragons",
         "scene": "scene",
         "showlegend": true,
         "type": "scatter3d",
         "x": [
          -0.2843901813030243
         ],
         "y": [
          -0.6734086275100708
         ],
         "z": [
          -0.2755003869533539
         ]
        },
        {
         "hovertemplate": "color=hot<br>0=%{x}<br>1=%{y}<br>2=%{z}<extra></extra>",
         "legendgroup": "hot",
         "marker": {
          "color": "#EF553B",
          "symbol": "circle"
         },
         "mode": "markers",
         "name": "hot",
         "scene": "scene",
         "showlegend": true,
         "type": "scatter3d",
         "x": [
          0.39766108989715576
         ],
         "y": [
          -0.2812967896461487
         ],
         "z": [
          0.28488099575042725
         ]
        },
        {
         "hovertemplate": "color=silver<br>0=%{x}<br>1=%{y}<br>2=%{z}<extra></extra>",
         "legendgroup": "silver",
         "marker": {
          "color": "#00cc96",
          "symbol": "circle"
         },
         "mode": "markers",
         "name": "silver",
         "scene": "scene",
         "showlegend": true,
         "type": "scatter3d",
         "x": [
          0.38889777660369873
         ],
         "y": [
          -0.23794257640838623
         ],
         "z": [
          -0.07164216041564941
         ]
        },
        {
         "hovertemplate": "color=part<br>0=%{x}<br>1=%{y}<br>2=%{z}<extra></extra>",
         "legendgroup": "part",
         "marker": {
          "color": "#ab63fa",
          "symbol": "circle"
         },
         "mode": "markers",
         "name": "part",
         "scene": "scene",
         "showlegend": true,
         "type": "scatter3d",
         "x": [
          -0.4372888505458832
         ],
         "y": [
          -0.682303786277771
         ],
         "z": [
          -0.015727579593658447
         ]
        },
        {
         "hovertemplate": "color=bastard<br>0=%{x}<br>1=%{y}<br>2=%{z}<extra></extra>",
         "legendgroup": "bastard",
         "marker": {
          "color": "#FFA15A",
          "symbol": "circle"
         },
         "mode": "markers",
         "name": "bastard",
         "scene": "scene",
         "showlegend": true,
         "type": "scatter3d",
         "x": [
          -0.6545003056526184
         ],
         "y": [
          -0.35413670539855957
         ],
         "z": [
          0.058665260672569275
         ]
        },
        {
         "hovertemplate": "color=open<br>0=%{x}<br>1=%{y}<br>2=%{z}<extra></extra>",
         "legendgroup": "open",
         "marker": {
          "color": "#19d3f3",
          "symbol": "circle"
         },
         "mode": "markers",
         "name": "open",
         "scene": "scene",
         "showlegend": true,
         "type": "scatter3d",
         "x": [
          0.4040523171424866
         ],
         "y": [
          -0.3752261698246002
         ],
         "z": [
          0.40353623032569885
         ]
        },
        {
         "hovertemplate": "color=nor<br>0=%{x}<br>1=%{y}<br>2=%{z}<extra></extra>",
         "legendgroup": "nor",
         "marker": {
          "color": "#FF6692",
          "symbol": "circle"
         },
         "mode": "markers",
         "name": "nor",
         "scene": "scene",
         "showlegend": true,
         "type": "scatter3d",
         "x": [
          -0.4569757580757141
         ],
         "y": [
          -0.41865789890289307
         ],
         "z": [
          0.04150676727294922
         ]
        },
        {
         "hovertemplate": "color=thousand<br>0=%{x}<br>1=%{y}<br>2=%{z}<extra></extra>",
         "legendgroup": "thousand",
         "marker": {
          "color": "#B6E880",
          "symbol": "circle"
         },
         "mode": "markers",
         "name": "thousand",
         "scene": "scene",
         "showlegend": true,
         "type": "scatter3d",
         "x": [
          -0.10195140540599823
         ],
         "y": [
          -0.6276521682739258
         ],
         "z": [
          -0.3608291447162628
         ]
        },
        {
         "hovertemplate": "color=landing<br>0=%{x}<br>1=%{y}<br>2=%{z}<extra></extra>",
         "legendgroup": "landing",
         "marker": {
          "color": "#FF97FF",
          "symbol": "circle"
         },
         "mode": "markers",
         "name": "landing",
         "scene": "scene",
         "showlegend": true,
         "type": "scatter3d",
         "x": [
          -0.21402651071548462
         ],
         "y": [
          -0.6105697751045227
         ],
         "z": [
          0.08756096661090851
         ]
        },
        {
         "hovertemplate": "color=uncle<br>0=%{x}<br>1=%{y}<br>2=%{z}<extra></extra>",
         "legendgroup": "uncle",
         "marker": {
          "color": "#FECB52",
          "symbol": "circle"
         },
         "mode": "markers",
         "name": "uncle",
         "scene": "scene",
         "showlegend": true,
         "type": "scatter3d",
         "x": [
          -0.6056365966796875
         ],
         "y": [
          -0.39549484848976135
         ],
         "z": [
          0.2092253565788269
         ]
        },
        {
         "hovertemplate": "color=above<br>0=%{x}<br>1=%{y}<br>2=%{z}<extra></extra>",
         "legendgroup": "above",
         "marker": {
          "color": "#636efa",
          "symbol": "circle"
         },
         "mode": "markers",
         "name": "above",
         "scene": "scene",
         "showlegend": true,
         "type": "scatter3d",
         "x": [
          0.5093351006507874
         ],
         "y": [
          -0.42069464921951294
         ],
         "z": [
          0.07469889521598816
         ]
        },
        {
         "hovertemplate": "color=going<br>0=%{x}<br>1=%{y}<br>2=%{z}<extra></extra>",
         "legendgroup": "going",
         "marker": {
          "color": "#EF553B",
          "symbol": "circle"
         },
         "mode": "markers",
         "name": "going",
         "scene": "scene",
         "showlegend": true,
         "type": "scatter3d",
         "x": [
          -0.18035732209682465
         ],
         "y": [
          -0.5548729300498962
         ],
         "z": [
          0.3245905041694641
         ]
        },
        {
         "hovertemplate": "color=blue<br>0=%{x}<br>1=%{y}<br>2=%{z}<extra></extra>",
         "legendgroup": "blue",
         "marker": {
          "color": "#00cc96",
          "symbol": "circle"
         },
         "mode": "markers",
         "name": "blue",
         "scene": "scene",
         "showlegend": true,
         "type": "scatter3d",
         "x": [
          0.4783974289894104
         ],
         "y": [
          -0.21843993663787842
         ],
         "z": [
          -0.046723514795303345
         ]
        },
        {
         "hovertemplate": "color=air<br>0=%{x}<br>1=%{y}<br>2=%{z}<extra></extra>",
         "legendgroup": "air",
         "marker": {
          "color": "#ab63fa",
          "symbol": "circle"
         },
         "mode": "markers",
         "name": "air",
         "scene": "scene",
         "showlegend": true,
         "type": "scatter3d",
         "x": [
          0.679111123085022
         ],
         "y": [
          -0.4098269045352936
         ],
         "z": [
          0.16031962633132935
         ]
        },
        {
         "hovertemplate": "color=captain<br>0=%{x}<br>1=%{y}<br>2=%{z}<extra></extra>",
         "legendgroup": "captain",
         "marker": {
          "color": "#FFA15A",
          "symbol": "circle"
         },
         "mode": "markers",
         "name": "captain",
         "scene": "scene",
         "showlegend": true,
         "type": "scatter3d",
         "x": [
          -0.347959041595459
         ],
         "y": [
          -0.30025017261505127
         ],
         "z": [
          -0.08748754858970642
         ]
        },
        {
         "hovertemplate": "color=please<br>0=%{x}<br>1=%{y}<br>2=%{z}<extra></extra>",
         "legendgroup": "please",
         "marker": {
          "color": "#19d3f3",
          "symbol": "circle"
         },
         "mode": "markers",
         "name": "please",
         "scene": "scene",
         "showlegend": true,
         "type": "scatter3d",
         "x": [
          -0.6079618334770203
         ],
         "y": [
          -0.23741990327835083
         ],
         "z": [
          0.5170566439628601
         ]
        },
        {
         "hovertemplate": "color=laughed<br>0=%{x}<br>1=%{y}<br>2=%{z}<extra></extra>",
         "legendgroup": "laughed",
         "marker": {
          "color": "#FF6692",
          "symbol": "circle"
         },
         "mode": "markers",
         "name": "laughed",
         "scene": "scene",
         "showlegend": true,
         "type": "scatter3d",
         "x": [
          -0.2960633635520935
         ],
         "y": [
          -0.10285070538520813
         ],
         "z": [
          0.7110674381256104
         ]
        },
        {
         "hovertemplate": "color=river<br>0=%{x}<br>1=%{y}<br>2=%{z}<extra></extra>",
         "legendgroup": "river",
         "marker": {
          "color": "#B6E880",
          "symbol": "circle"
         },
         "mode": "markers",
         "name": "river",
         "scene": "scene",
         "showlegend": true,
         "type": "scatter3d",
         "x": [
          0.4025832414627075
         ],
         "y": [
          -0.7553739547729492
         ],
         "z": [
          -0.2290557324886322
         ]
        },
        {
         "hovertemplate": "color=sun<br>0=%{x}<br>1=%{y}<br>2=%{z}<extra></extra>",
         "legendgroup": "sun",
         "marker": {
          "color": "#FF97FF",
          "symbol": "circle"
         },
         "mode": "markers",
         "name": "sun",
         "scene": "scene",
         "showlegend": true,
         "type": "scatter3d",
         "x": [
          0.47505509853363037
         ],
         "y": [
          -0.6592075824737549
         ],
         "z": [
          -0.019935578107833862
         ]
        },
        {
         "hovertemplate": "color=rose<br>0=%{x}<br>1=%{y}<br>2=%{z}<extra></extra>",
         "legendgroup": "rose",
         "marker": {
          "color": "#FECB52",
          "symbol": "circle"
         },
         "mode": "markers",
         "name": "rose",
         "scene": "scene",
         "showlegend": true,
         "type": "scatter3d",
         "x": [
          0.5387929081916809
         ],
         "y": [
          -0.2867122292518616
         ],
         "z": [
          0.2943325340747833
         ]
        },
        {
         "hovertemplate": "color=fell<br>0=%{x}<br>1=%{y}<br>2=%{z}<extra></extra>",
         "legendgroup": "fell",
         "marker": {
          "color": "#636efa",
          "symbol": "circle"
         },
         "mode": "markers",
         "name": "fell",
         "scene": "scene",
         "showlegend": true,
         "type": "scatter3d",
         "x": [
          0.45345401763916016
         ],
         "y": [
          -0.3217375576496124
         ],
         "z": [
          0.5220540761947632
         ]
        },
        {
         "hovertemplate": "color=war<br>0=%{x}<br>1=%{y}<br>2=%{z}<extra></extra>",
         "legendgroup": "war",
         "marker": {
          "color": "#EF553B",
          "symbol": "circle"
         },
         "mode": "markers",
         "name": "war",
         "scene": "scene",
         "showlegend": true,
         "type": "scatter3d",
         "x": [
          -0.4696613550186157
         ],
         "y": [
          -0.7470722198486328
         ],
         "z": [
          -0.3750070035457611
         ]
        },
        {
         "hovertemplate": "color=golden<br>0=%{x}<br>1=%{y}<br>2=%{z}<extra></extra>",
         "legendgroup": "golden",
         "marker": {
          "color": "#00cc96",
          "symbol": "circle"
         },
         "mode": "markers",
         "name": "golden",
         "scene": "scene",
         "showlegend": true,
         "type": "scatter3d",
         "x": [
          0.35731884837150574
         ],
         "y": [
          -0.2821509838104248
         ],
         "z": [
          -0.14350321888923645
         ]
        },
        {
         "hovertemplate": "color=sleep<br>0=%{x}<br>1=%{y}<br>2=%{z}<extra></extra>",
         "legendgroup": "sleep",
         "marker": {
          "color": "#ab63fa",
          "symbol": "circle"
         },
         "mode": "markers",
         "name": "sleep",
         "scene": "scene",
         "showlegend": true,
         "type": "scatter3d",
         "x": [
          -0.027399010956287384
         ],
         "y": [
          -0.5787225961685181
         ],
         "z": [
          0.529781699180603
         ]
        },
        {
         "hovertemplate": "color=without<br>0=%{x}<br>1=%{y}<br>2=%{z}<extra></extra>",
         "legendgroup": "without",
         "marker": {
          "color": "#FFA15A",
          "symbol": "circle"
         },
         "mode": "markers",
         "name": "without",
         "scene": "scene",
         "showlegend": true,
         "type": "scatter3d",
         "x": [
          -0.5801798701286316
         ],
         "y": [
          -0.44219544529914856
         ],
         "z": [
          0.2342846393585205
         ]
        },
        {
         "hovertemplate": "color=swords<br>0=%{x}<br>1=%{y}<br>2=%{z}<extra></extra>",
         "legendgroup": "swords",
         "marker": {
          "color": "#19d3f3",
          "symbol": "circle"
         },
         "mode": "markers",
         "name": "swords",
         "scene": "scene",
         "showlegend": true,
         "type": "scatter3d",
         "x": [
          -0.09321561455726624
         ],
         "y": [
          -0.6370994448661804
         ],
         "z": [
          -0.28825345635414124
         ]
        },
        {
         "hovertemplate": "color=speak<br>0=%{x}<br>1=%{y}<br>2=%{z}<extra></extra>",
         "legendgroup": "speak",
         "marker": {
          "color": "#FF6692",
          "symbol": "circle"
         },
         "mode": "markers",
         "name": "speak",
         "scene": "scene",
         "showlegend": true,
         "type": "scatter3d",
         "x": [
          -0.5805966854095459
         ],
         "y": [
          -0.5347778797149658
         ],
         "z": [
          0.32989177107810974
         ]
        },
        {
         "hovertemplate": "color=renly<br>0=%{x}<br>1=%{y}<br>2=%{z}<extra></extra>",
         "legendgroup": "renly",
         "marker": {
          "color": "#B6E880",
          "symbol": "circle"
         },
         "mode": "markers",
         "name": "renly",
         "scene": "scene",
         "showlegend": true,
         "type": "scatter3d",
         "x": [
          -0.46516770124435425
         ],
         "y": [
          -0.3548583984375
         ],
         "z": [
          0.03428986668586731
         ]
        },
        {
         "hovertemplate": "color=full<br>0=%{x}<br>1=%{y}<br>2=%{z}<extra></extra>",
         "legendgroup": "full",
         "marker": {
          "color": "#FF97FF",
          "symbol": "circle"
         },
         "mode": "markers",
         "name": "full",
         "scene": "scene",
         "showlegend": true,
         "type": "scatter3d",
         "x": [
          0.22353145480155945
         ],
         "y": [
          -0.32556241750717163
         ],
         "z": [
          -0.05284115672111511
         ]
        },
        {
         "hovertemplate": "color=fool<br>0=%{x}<br>1=%{y}<br>2=%{z}<extra></extra>",
         "legendgroup": "fool",
         "marker": {
          "color": "#FECB52",
          "symbol": "circle"
         },
         "mode": "markers",
         "name": "fool",
         "scene": "scene",
         "showlegend": true,
         "type": "scatter3d",
         "x": [
          -0.5576459765434265
         ],
         "y": [
          -0.23596826195716858
         ],
         "z": [
          0.20956841111183167
         ]
        },
        {
         "hovertemplate": "color=certain<br>0=%{x}<br>1=%{y}<br>2=%{z}<extra></extra>",
         "legendgroup": "certain",
         "marker": {
          "color": "#636efa",
          "symbol": "circle"
         },
         "mode": "markers",
         "name": "certain",
         "scene": "scene",
         "showlegend": true,
         "type": "scatter3d",
         "x": [
          -0.4385496973991394
         ],
         "y": [
          -0.5079941153526306
         ],
         "z": [
          0.03271467983722687
         ]
        },
        {
         "hovertemplate": "color=beyond<br>0=%{x}<br>1=%{y}<br>2=%{z}<extra></extra>",
         "legendgroup": "beyond",
         "marker": {
          "color": "#EF553B",
          "symbol": "circle"
         },
         "mode": "markers",
         "name": "beyond",
         "scene": "scene",
         "showlegend": true,
         "type": "scatter3d",
         "x": [
          -0.01595178246498108
         ],
         "y": [
          -0.658040463924408
         ],
         "z": [
          -0.16484037041664124
         ]
        },
        {
         "hovertemplate": "color=feel<br>0=%{x}<br>1=%{y}<br>2=%{z}<extra></extra>",
         "legendgroup": "feel",
         "marker": {
          "color": "#00cc96",
          "symbol": "circle"
         },
         "mode": "markers",
         "name": "feel",
         "scene": "scene",
         "showlegend": true,
         "type": "scatter3d",
         "x": [
          0.12196390330791473
         ],
         "y": [
          -0.3920643925666809
         ],
         "z": [
          0.5309418439865112
         ]
        },
        {
         "hovertemplate": "color=send<br>0=%{x}<br>1=%{y}<br>2=%{z}<extra></extra>",
         "legendgroup": "send",
         "marker": {
          "color": "#ab63fa",
          "symbol": "circle"
         },
         "mode": "markers",
         "name": "send",
         "scene": "scene",
         "showlegend": true,
         "type": "scatter3d",
         "x": [
          -0.4709815979003906
         ],
         "y": [
          -0.5397002696990967
         ],
         "z": [
          0.42481935024261475
         ]
        },
        {
         "hovertemplate": "color=tongue<br>0=%{x}<br>1=%{y}<br>2=%{z}<extra></extra>",
         "legendgroup": "tongue",
         "marker": {
          "color": "#FFA15A",
          "symbol": "circle"
         },
         "mode": "markers",
         "name": "tongue",
         "scene": "scene",
         "showlegend": true,
         "type": "scatter3d",
         "x": [
          -0.12953118979930878
         ],
         "y": [
          -0.45776548981666565
         ],
         "z": [
          0.33888787031173706
         ]
        },
        {
         "hovertemplate": "color=got<br>0=%{x}<br>1=%{y}<br>2=%{z}<extra></extra>",
         "legendgroup": "got",
         "marker": {
          "color": "#19d3f3",
          "symbol": "circle"
         },
         "mode": "markers",
         "name": "got",
         "scene": "scene",
         "showlegend": true,
         "type": "scatter3d",
         "x": [
          -0.12405066192150116
         ],
         "y": [
          -0.3774731159210205
         ],
         "z": [
          0.655135989189148
         ]
        },
        {
         "hovertemplate": "color=fight<br>0=%{x}<br>1=%{y}<br>2=%{z}<extra></extra>",
         "legendgroup": "fight",
         "marker": {
          "color": "#FF6692",
          "symbol": "circle"
         },
         "mode": "markers",
         "name": "fight",
         "scene": "scene",
         "showlegend": true,
         "type": "scatter3d",
         "x": [
          -0.4624459743499756
         ],
         "y": [
          -0.6769230365753174
         ],
         "z": [
          0.15859204530715942
         ]
        },
        {
         "hovertemplate": "color=rode<br>0=%{x}<br>1=%{y}<br>2=%{z}<extra></extra>",
         "legendgroup": "rode",
         "marker": {
          "color": "#B6E880",
          "symbol": "circle"
         },
         "mode": "markers",
         "name": "rode",
         "scene": "scene",
         "showlegend": true,
         "type": "scatter3d",
         "x": [
          0.22588568925857544
         ],
         "y": [
          -0.44431087374687195
         ],
         "z": [
          0.3516789376735687
         ]
        },
        {
         "hovertemplate": "color=set<br>0=%{x}<br>1=%{y}<br>2=%{z}<extra></extra>",
         "legendgroup": "set",
         "marker": {
          "color": "#FF97FF",
          "symbol": "circle"
         },
         "mode": "markers",
         "name": "set",
         "scene": "scene",
         "showlegend": true,
         "type": "scatter3d",
         "x": [
          0.25534600019454956
         ],
         "y": [
          -0.5326541066169739
         ],
         "z": [
          0.2918033301830292
         ]
        },
        {
         "hovertemplate": "color=thick<br>0=%{x}<br>1=%{y}<br>2=%{z}<extra></extra>",
         "legendgroup": "thick",
         "marker": {
          "color": "#FECB52",
          "symbol": "circle"
         },
         "mode": "markers",
         "name": "thick",
         "scene": "scene",
         "showlegend": true,
         "type": "scatter3d",
         "x": [
          0.633567214012146
         ],
         "y": [
          -0.13650083541870117
         ],
         "z": [
          0.0874689519405365
         ]
        },
        {
         "hovertemplate": "color=throat<br>0=%{x}<br>1=%{y}<br>2=%{z}<extra></extra>",
         "legendgroup": "throat",
         "marker": {
          "color": "#636efa",
          "symbol": "circle"
         },
         "mode": "markers",
         "name": "throat",
         "scene": "scene",
         "showlegend": true,
         "type": "scatter3d",
         "x": [
          0.357763409614563
         ],
         "y": [
          -0.2823839485645294
         ],
         "z": [
          0.6239991188049316
         ]
        },
        {
         "hovertemplate": "color=world<br>0=%{x}<br>1=%{y}<br>2=%{z}<extra></extra>",
         "legendgroup": "world",
         "marker": {
          "color": "#EF553B",
          "symbol": "circle"
         },
         "mode": "markers",
         "name": "world",
         "scene": "scene",
         "showlegend": true,
         "type": "scatter3d",
         "x": [
          0.013029798865318298
         ],
         "y": [
          -0.8681291341781616
         ],
         "z": [
          -0.15721359848976135
         ]
        },
        {
         "hovertemplate": "color=deep<br>0=%{x}<br>1=%{y}<br>2=%{z}<extra></extra>",
         "legendgroup": "deep",
         "marker": {
          "color": "#00cc96",
          "symbol": "circle"
         },
         "mode": "markers",
         "name": "deep",
         "scene": "scene",
         "showlegend": true,
         "type": "scatter3d",
         "x": [
          0.6946445107460022
         ],
         "y": [
          -0.31253647804260254
         ],
         "z": [
          0.03947252035140991
         ]
        },
        {
         "hovertemplate": "color=legs<br>0=%{x}<br>1=%{y}<br>2=%{z}<extra></extra>",
         "legendgroup": "legs",
         "marker": {
          "color": "#ab63fa",
          "symbol": "circle"
         },
         "mode": "markers",
         "name": "legs",
         "scene": "scene",
         "showlegend": true,
         "type": "scatter3d",
         "x": [
          0.47544729709625244
         ],
         "y": [
          -0.3876345753669739
         ],
         "z": [
          0.40102943778038025
         ]
        },
        {
         "hovertemplate": "color=call<br>0=%{x}<br>1=%{y}<br>2=%{z}<extra></extra>",
         "legendgroup": "call",
         "marker": {
          "color": "#FFA15A",
          "symbol": "circle"
         },
         "mode": "markers",
         "name": "call",
         "scene": "scene",
         "showlegend": true,
         "type": "scatter3d",
         "x": [
          -0.5228177309036255
         ],
         "y": [
          -0.37014418840408325
         ],
         "z": [
          0.4781973361968994
         ]
        },
        {
         "hovertemplate": "color=honor<br>0=%{x}<br>1=%{y}<br>2=%{z}<extra></extra>",
         "legendgroup": "honor",
         "marker": {
          "color": "#19d3f3",
          "symbol": "circle"
         },
         "mode": "markers",
         "name": "honor",
         "scene": "scene",
         "showlegend": true,
         "type": "scatter3d",
         "x": [
          -0.6533187627792358
         ],
         "y": [
          -0.5451161861419678
         ],
         "z": [
          -0.1131155788898468
         ]
        },
        {
         "hovertemplate": "color=rock<br>0=%{x}<br>1=%{y}<br>2=%{z}<extra></extra>",
         "legendgroup": "rock",
         "marker": {
          "color": "#FF6692",
          "symbol": "circle"
         },
         "mode": "markers",
         "name": "rock",
         "scene": "scene",
         "showlegend": true,
         "type": "scatter3d",
         "x": [
          0.08912397921085358
         ],
         "y": [
          -0.6055043339729309
         ],
         "z": [
          -0.09254029393196106
         ]
        },
        {
         "hovertemplate": "color=trees<br>0=%{x}<br>1=%{y}<br>2=%{z}<extra></extra>",
         "legendgroup": "trees",
         "marker": {
          "color": "#B6E880",
          "symbol": "circle"
         },
         "mode": "markers",
         "name": "trees",
         "scene": "scene",
         "showlegend": true,
         "type": "scatter3d",
         "x": [
          0.6350998878479004
         ],
         "y": [
          -0.5858222246170044
         ],
         "z": [
          -0.153702050447464
         ]
        },
        {
         "hovertemplate": "color=tall<br>0=%{x}<br>1=%{y}<br>2=%{z}<extra></extra>",
         "legendgroup": "tall",
         "marker": {
          "color": "#FF97FF",
          "symbol": "circle"
         },
         "mode": "markers",
         "name": "tall",
         "scene": "scene",
         "showlegend": true,
         "type": "scatter3d",
         "x": [
          0.4147564172744751
         ],
         "y": [
          -0.25259754061698914
         ],
         "z": [
          -0.04619690775871277
         ]
        },
        {
         "hovertemplate": "color=table<br>0=%{x}<br>1=%{y}<br>2=%{z}<extra></extra>",
         "legendgroup": "table",
         "marker": {
          "color": "#FECB52",
          "symbol": "circle"
         },
         "mode": "markers",
         "name": "table",
         "scene": "scene",
         "showlegend": true,
         "type": "scatter3d",
         "x": [
          0.4101434350013733
         ],
         "y": [
          -0.4206027686595917
         ],
         "z": [
          0.23833714425563812
         ]
        },
        {
         "hovertemplate": "color=pulled<br>0=%{x}<br>1=%{y}<br>2=%{z}<extra></extra>",
         "legendgroup": "pulled",
         "marker": {
          "color": "#636efa",
          "symbol": "circle"
         },
         "mode": "markers",
         "name": "pulled",
         "scene": "scene",
         "showlegend": true,
         "type": "scatter3d",
         "x": [
          0.45112723112106323
         ],
         "y": [
          -0.1868249475955963
         ],
         "z": [
          0.714562177658081
         ]
        },
        {
         "hovertemplate": "color=broken<br>0=%{x}<br>1=%{y}<br>2=%{z}<extra></extra>",
         "legendgroup": "broken",
         "marker": {
          "color": "#EF553B",
          "symbol": "circle"
         },
         "mode": "markers",
         "name": "broken",
         "scene": "scene",
         "showlegend": true,
         "type": "scatter3d",
         "x": [
          0.6555839776992798
         ],
         "y": [
          -0.35583505034446716
         ],
         "z": [
          0.06432926654815674
         ]
        },
        {
         "hovertemplate": "color=mormont<br>0=%{x}<br>1=%{y}<br>2=%{z}<extra></extra>",
         "legendgroup": "mormont",
         "marker": {
          "color": "#00cc96",
          "symbol": "circle"
         },
         "mode": "markers",
         "name": "mormont",
         "scene": "scene",
         "showlegend": true,
         "type": "scatter3d",
         "x": [
          -0.10170435160398483
         ],
         "y": [
          -0.12839218974113464
         ],
         "z": [
          0.2156485915184021
         ]
        },
        {
         "hovertemplate": "color=women<br>0=%{x}<br>1=%{y}<br>2=%{z}<extra></extra>",
         "legendgroup": "women",
         "marker": {
          "color": "#ab63fa",
          "symbol": "circle"
         },
         "mode": "markers",
         "name": "women",
         "scene": "scene",
         "showlegend": true,
         "type": "scatter3d",
         "x": [
          -0.1596049964427948
         ],
         "y": [
          -0.5668165683746338
         ],
         "z": [
          -0.3740973174571991
         ]
        },
        {
         "hovertemplate": "color=steps<br>0=%{x}<br>1=%{y}<br>2=%{z}<extra></extra>",
         "legendgroup": "steps",
         "marker": {
          "color": "#FFA15A",
          "symbol": "circle"
         },
         "mode": "markers",
         "name": "steps",
         "scene": "scene",
         "showlegend": true,
         "type": "scatter3d",
         "x": [
          0.5419524908065796
         ],
         "y": [
          -0.5611042976379395
         ],
         "z": [
          0.2291990965604782
         ]
        },
        {
         "hovertemplate": "color=things<br>0=%{x}<br>1=%{y}<br>2=%{z}<extra></extra>",
         "legendgroup": "things",
         "marker": {
          "color": "#19d3f3",
          "symbol": "circle"
         },
         "mode": "markers",
         "name": "things",
         "scene": "scene",
         "showlegend": true,
         "type": "scatter3d",
         "x": [
          -0.2828856110572815
         ],
         "y": [
          -0.6107707023620605
         ],
         "z": [
          -0.10995635390281677
         ]
        },
        {
         "hovertemplate": "color=next<br>0=%{x}<br>1=%{y}<br>2=%{z}<extra></extra>",
         "legendgroup": "next",
         "marker": {
          "color": "#FF6692",
          "symbol": "circle"
         },
         "mode": "markers",
         "name": "next",
         "scene": "scene",
         "showlegend": true,
         "type": "scatter3d",
         "x": [
          -0.12492053210735321
         ],
         "y": [
          -0.5793490409851074
         ],
         "z": [
          0.31765395402908325
         ]
        },
        {
         "hovertemplate": "color=hodor<br>0=%{x}<br>1=%{y}<br>2=%{z}<extra></extra>",
         "legendgroup": "hodor",
         "marker": {
          "color": "#B6E880",
          "symbol": "circle"
         },
         "mode": "markers",
         "name": "hodor",
         "scene": "scene",
         "showlegend": true,
         "type": "scatter3d",
         "x": [
          0.32468855381011963
         ],
         "y": [
          -0.15502464771270752
         ],
         "z": [
          0.5574991703033447
         ]
        },
        {
         "hovertemplate": "color=heavy<br>0=%{x}<br>1=%{y}<br>2=%{z}<extra></extra>",
         "legendgroup": "heavy",
         "marker": {
          "color": "#FF97FF",
          "symbol": "circle"
         },
         "mode": "markers",
         "name": "heavy",
         "scene": "scene",
         "showlegend": true,
         "type": "scatter3d",
         "x": [
          0.6715898513793945
         ],
         "y": [
          -0.1684977114200592
         ],
         "z": [
          0.12904369831085205
         ]
        },
        {
         "hovertemplate": "color=burned<br>0=%{x}<br>1=%{y}<br>2=%{z}<extra></extra>",
         "legendgroup": "burned",
         "marker": {
          "color": "#FECB52",
          "symbol": "circle"
         },
         "mode": "markers",
         "name": "burned",
         "scene": "scene",
         "showlegend": true,
         "type": "scatter3d",
         "x": [
          0.3734101951122284
         ],
         "y": [
          -0.5558887124061584
         ],
         "z": [
          0.030133098363876343
         ]
        },
        {
         "hovertemplate": "color=oh<br>0=%{x}<br>1=%{y}<br>2=%{z}<extra></extra>",
         "legendgroup": "oh",
         "marker": {
          "color": "#636efa",
          "symbol": "circle"
         },
         "mode": "markers",
         "name": "oh",
         "scene": "scene",
         "showlegend": true,
         "type": "scatter3d",
         "x": [
          -0.7308158874511719
         ],
         "y": [
          -0.16687089204788208
         ],
         "z": [
          0.24196401238441467
         ]
        },
        {
         "hovertemplate": "color=toward<br>0=%{x}<br>1=%{y}<br>2=%{z}<extra></extra>",
         "legendgroup": "toward",
         "marker": {
          "color": "#EF553B",
          "symbol": "circle"
         },
         "mode": "markers",
         "name": "toward",
         "scene": "scene",
         "showlegend": true,
         "type": "scatter3d",
         "x": [
          0.45724189281463623
         ],
         "y": [
          -0.3447873592376709
         ],
         "z": [
          0.426578164100647
         ]
        },
        {
         "hovertemplate": "color=together<br>0=%{x}<br>1=%{y}<br>2=%{z}<extra></extra>",
         "legendgroup": "together",
         "marker": {
          "color": "#00cc96",
          "symbol": "circle"
         },
         "mode": "markers",
         "name": "together",
         "scene": "scene",
         "showlegend": true,
         "type": "scatter3d",
         "x": [
          0.33480018377304077
         ],
         "y": [
          -0.4772646129131317
         ],
         "z": [
          0.06010232865810394
         ]
        },
        {
         "hovertemplate": "color=skin<br>0=%{x}<br>1=%{y}<br>2=%{z}<extra></extra>",
         "legendgroup": "skin",
         "marker": {
          "color": "#ab63fa",
          "symbol": "circle"
         },
         "mode": "markers",
         "name": "skin",
         "scene": "scene",
         "showlegend": true,
         "type": "scatter3d",
         "x": [
          0.5269017219543457
         ],
         "y": [
          -0.22636497020721436
         ],
         "z": [
          0.4021979868412018
         ]
        },
        {
         "hovertemplate": "color=given<br>0=%{x}<br>1=%{y}<br>2=%{z}<extra></extra>",
         "legendgroup": "given",
         "marker": {
          "color": "#FFA15A",
          "symbol": "circle"
         },
         "mode": "markers",
         "name": "given",
         "scene": "scene",
         "showlegend": true,
         "type": "scatter3d",
         "x": [
          -0.4180779755115509
         ],
         "y": [
          -0.4008646607398987
         ],
         "z": [
          0.3769565224647522
         ]
        },
        {
         "hovertemplate": "color=since<br>0=%{x}<br>1=%{y}<br>2=%{z}<extra></extra>",
         "legendgroup": "since",
         "marker": {
          "color": "#19d3f3",
          "symbol": "circle"
         },
         "mode": "markers",
         "name": "since",
         "scene": "scene",
         "showlegend": true,
         "type": "scatter3d",
         "x": [
          -0.29821377992630005
         ],
         "y": [
          -0.5039591193199158
         ],
         "z": [
          0.08582165837287903
         ]
        },
        {
         "hovertemplate": "color=smiled<br>0=%{x}<br>1=%{y}<br>2=%{z}<extra></extra>",
         "legendgroup": "smiled",
         "marker": {
          "color": "#FF6692",
          "symbol": "circle"
         },
         "mode": "markers",
         "name": "smiled",
         "scene": "scene",
         "showlegend": true,
         "type": "scatter3d",
         "x": [
          -0.13685396313667297
         ],
         "y": [
          0.01449674367904663
         ],
         "z": [
          0.7027398347854614
         ]
        },
        {
         "hovertemplate": "color=dwarf<br>0=%{x}<br>1=%{y}<br>2=%{z}<extra></extra>",
         "legendgroup": "dwarf",
         "marker": {
          "color": "#B6E880",
          "symbol": "circle"
         },
         "mode": "markers",
         "name": "dwarf",
         "scene": "scene",
         "showlegend": true,
         "type": "scatter3d",
         "x": [
          -0.34505608677864075
         ],
         "y": [
          -0.25364255905151367
         ],
         "z": [
          0.3514877259731293
         ]
        },
        {
         "hovertemplate": "color=alone<br>0=%{x}<br>1=%{y}<br>2=%{z}<extra></extra>",
         "legendgroup": "alone",
         "marker": {
          "color": "#FF97FF",
          "symbol": "circle"
         },
         "mode": "markers",
         "name": "alone",
         "scene": "scene",
         "showlegend": true,
         "type": "scatter3d",
         "x": [
          -0.14852449297904968
         ],
         "y": [
          -0.6017236709594727
         ],
         "z": [
          0.21178339421749115
         ]
        },
        {
         "hovertemplate": "color=moved<br>0=%{x}<br>1=%{y}<br>2=%{z}<extra></extra>",
         "legendgroup": "moved",
         "marker": {
          "color": "#FECB52",
          "symbol": "circle"
         },
         "mode": "markers",
         "name": "moved",
         "scene": "scene",
         "showlegend": true,
         "type": "scatter3d",
         "x": [
          0.3588069677352905
         ],
         "y": [
          -0.28364652395248413
         ],
         "z": [
          0.645313024520874
         ]
        },
        {
         "hovertemplate": "color=storm<br>0=%{x}<br>1=%{y}<br>2=%{z}<extra></extra>",
         "legendgroup": "storm",
         "marker": {
          "color": "#636efa",
          "symbol": "circle"
         },
         "mode": "markers",
         "name": "storm",
         "scene": "scene",
         "showlegend": true,
         "type": "scatter3d",
         "x": [
          -0.10844718664884567
         ],
         "y": [
          -0.5949109196662903
         ],
         "z": [
          -0.15585413575172424
         ]
        },
        {
         "hovertemplate": "color=raised<br>0=%{x}<br>1=%{y}<br>2=%{z}<extra></extra>",
         "legendgroup": "raised",
         "marker": {
          "color": "#EF553B",
          "symbol": "circle"
         },
         "mode": "markers",
         "name": "raised",
         "scene": "scene",
         "showlegend": true,
         "type": "scatter3d",
         "x": [
          0.14004918932914734
         ],
         "y": [
          -0.22342213988304138
         ],
         "z": [
          0.4872015416622162
         ]
        },
        {
         "hovertemplate": "color=ride<br>0=%{x}<br>1=%{y}<br>2=%{z}<extra></extra>",
         "legendgroup": "ride",
         "marker": {
          "color": "#00cc96",
          "symbol": "circle"
         },
         "mode": "markers",
         "name": "ride",
         "scene": "scene",
         "showlegend": true,
         "type": "scatter3d",
         "x": [
          -0.17435389757156372
         ],
         "y": [
          -0.7379127740859985
         ],
         "z": [
          0.22827963531017303
         ]
        },
        {
         "hovertemplate": "color=ask<br>0=%{x}<br>1=%{y}<br>2=%{z}<extra></extra>",
         "legendgroup": "ask",
         "marker": {
          "color": "#ab63fa",
          "symbol": "circle"
         },
         "mode": "markers",
         "name": "ask",
         "scene": "scene",
         "showlegend": true,
         "type": "scatter3d",
         "x": [
          -0.7424247860908508
         ],
         "y": [
          -0.4334169626235962
         ],
         "z": [
          0.3807811737060547
         ]
        },
        {
         "hovertemplate": "color=hope<br>0=%{x}<br>1=%{y}<br>2=%{z}<extra></extra>",
         "legendgroup": "hope",
         "marker": {
          "color": "#FFA15A",
          "symbol": "circle"
         },
         "mode": "markers",
         "name": "hope",
         "scene": "scene",
         "showlegend": true,
         "type": "scatter3d",
         "x": [
          -0.6371018886566162
         ],
         "y": [
          -0.614488422870636
         ],
         "z": [
          0.24268223345279694
         ]
        },
        {
         "hovertemplate": "color=eye<br>0=%{x}<br>1=%{y}<br>2=%{z}<extra></extra>",
         "legendgroup": "eye",
         "marker": {
          "color": "#19d3f3",
          "symbol": "circle"
         },
         "mode": "markers",
         "name": "eye",
         "scene": "scene",
         "showlegend": true,
         "type": "scatter3d",
         "x": [
          0.1944495439529419
         ],
         "y": [
          -0.5512333512306213
         ],
         "z": [
          0.25671860575675964
         ]
        },
        {
         "hovertemplate": "color=soft<br>0=%{x}<br>1=%{y}<br>2=%{z}<extra></extra>",
         "legendgroup": "soft",
         "marker": {
          "color": "#FF6692",
          "symbol": "circle"
         },
         "mode": "markers",
         "name": "soft",
         "scene": "scene",
         "showlegend": true,
         "type": "scatter3d",
         "x": [
          0.5536828637123108
         ],
         "y": [
          -0.03886812925338745
         ],
         "z": [
          0.33501023054122925
         ]
        },
        {
         "hovertemplate": "color=reached<br>0=%{x}<br>1=%{y}<br>2=%{z}<extra></extra>",
         "legendgroup": "reached",
         "marker": {
          "color": "#B6E880",
          "symbol": "circle"
         },
         "mode": "markers",
         "name": "reached",
         "scene": "scene",
         "showlegend": true,
         "type": "scatter3d",
         "x": [
          0.3011062741279602
         ],
         "y": [
          -0.4418179392814636
         ],
         "z": [
          0.5490795373916626
         ]
        },
        {
         "hovertemplate": "color=frey<br>0=%{x}<br>1=%{y}<br>2=%{z}<extra></extra>",
         "legendgroup": "frey",
         "marker": {
          "color": "#FF97FF",
          "symbol": "circle"
         },
         "mode": "markers",
         "name": "frey",
         "scene": "scene",
         "showlegend": true,
         "type": "scatter3d",
         "x": [
          -0.44940221309661865
         ],
         "y": [
          -0.1968172788619995
         ],
         "z": [
          -0.0456395149230957
         ]
        },
        {
         "hovertemplate": "color=second<br>0=%{x}<br>1=%{y}<br>2=%{z}<extra></extra>",
         "legendgroup": "second",
         "marker": {
          "color": "#FECB52",
          "symbol": "circle"
         },
         "mode": "markers",
         "name": "second",
         "scene": "scene",
         "showlegend": true,
         "type": "scatter3d",
         "x": [
          -0.05996211618185043
         ],
         "y": [
          -0.3043416142463684
         ],
         "z": [
          0.026140794157981873
         ]
        },
        {
         "hovertemplate": "color=remember<br>0=%{x}<br>1=%{y}<br>2=%{z}<extra></extra>",
         "legendgroup": "remember",
         "marker": {
          "color": "#636efa",
          "symbol": "circle"
         },
         "mode": "markers",
         "name": "remember",
         "scene": "scene",
         "showlegend": true,
         "type": "scatter3d",
         "x": [
          -0.5099539756774902
         ],
         "y": [
          -0.4219481945037842
         ],
         "z": [
          0.4521525204181671
         ]
        },
        {
         "hovertemplate": "color=someone<br>0=%{x}<br>1=%{y}<br>2=%{z}<extra></extra>",
         "legendgroup": "someone",
         "marker": {
          "color": "#EF553B",
          "symbol": "circle"
         },
         "mode": "markers",
         "name": "someone",
         "scene": "scene",
         "showlegend": true,
         "type": "scatter3d",
         "x": [
          -0.2636173367500305
         ],
         "y": [
          -0.4503711760044098
         ],
         "z": [
          0.28953975439071655
         ]
        },
        {
         "hovertemplate": "color=remembered<br>0=%{x}<br>1=%{y}<br>2=%{z}<extra></extra>",
         "legendgroup": "remembered",
         "marker": {
          "color": "#00cc96",
          "symbol": "circle"
         },
         "mode": "markers",
         "name": "remembered",
         "scene": "scene",
         "showlegend": true,
         "type": "scatter3d",
         "x": [
          -0.15661421418190002
         ],
         "y": [
          -0.2737559676170349
         ],
         "z": [
          0.5523004531860352
         ]
        },
        {
         "hovertemplate": "color=coming<br>0=%{x}<br>1=%{y}<br>2=%{z}<extra></extra>",
         "legendgroup": "coming",
         "marker": {
          "color": "#ab63fa",
          "symbol": "circle"
         },
         "mode": "markers",
         "name": "coming",
         "scene": "scene",
         "showlegend": true,
         "type": "scatter3d",
         "x": [
          0.040244102478027344
         ],
         "y": [
          -0.6436689496040344
         ],
         "z": [
          0.1736658662557602
         ]
        },
        {
         "hovertemplate": "color=meant<br>0=%{x}<br>1=%{y}<br>2=%{z}<extra></extra>",
         "legendgroup": "meant",
         "marker": {
          "color": "#FFA15A",
          "symbol": "circle"
         },
         "mode": "markers",
         "name": "meant",
         "scene": "scene",
         "showlegend": true,
         "type": "scatter3d",
         "x": [
          -0.5911794900894165
         ],
         "y": [
          -0.41038766503334045
         ],
         "z": [
          0.3596028685569763
         ]
        },
        {
         "hovertemplate": "color=cannot<br>0=%{x}<br>1=%{y}<br>2=%{z}<extra></extra>",
         "legendgroup": "cannot",
         "marker": {
          "color": "#19d3f3",
          "symbol": "circle"
         },
         "mode": "markers",
         "name": "cannot",
         "scene": "scene",
         "showlegend": true,
         "type": "scatter3d",
         "x": [
          -0.5957552790641785
         ],
         "y": [
          -0.4322071373462677
         ],
         "z": [
          0.1428118497133255
         ]
        },
        {
         "hovertemplate": "color=hold<br>0=%{x}<br>1=%{y}<br>2=%{z}<extra></extra>",
         "legendgroup": "hold",
         "marker": {
          "color": "#FF6692",
          "symbol": "circle"
         },
         "mode": "markers",
         "name": "hold",
         "scene": "scene",
         "showlegend": true,
         "type": "scatter3d",
         "x": [
          -0.36425283551216125
         ],
         "y": [
          -0.5123511552810669
         ],
         "z": [
          0.38112643361091614
         ]
        },
        {
         "hovertemplate": "color=morning<br>0=%{x}<br>1=%{y}<br>2=%{z}<extra></extra>",
         "legendgroup": "morning",
         "marker": {
          "color": "#B6E880",
          "symbol": "circle"
         },
         "mode": "markers",
         "name": "morning",
         "scene": "scene",
         "showlegend": true,
         "type": "scatter3d",
         "x": [
          0.2164967656135559
         ],
         "y": [
          -0.5639725923538208
         ],
         "z": [
          0.1677943915128708
         ]
        },
        {
         "hovertemplate": "color=ten<br>0=%{x}<br>1=%{y}<br>2=%{z}<extra></extra>",
         "legendgroup": "ten",
         "marker": {
          "color": "#FF97FF",
          "symbol": "circle"
         },
         "mode": "markers",
         "name": "ten",
         "scene": "scene",
         "showlegend": true,
         "type": "scatter3d",
         "x": [
          -0.1724303811788559
         ],
         "y": [
          -0.5026443004608154
         ],
         "z": [
          -0.2596020996570587
         ]
        },
        {
         "hovertemplate": "color=teeth<br>0=%{x}<br>1=%{y}<br>2=%{z}<extra></extra>",
         "legendgroup": "teeth",
         "marker": {
          "color": "#FECB52",
          "symbol": "circle"
         },
         "mode": "markers",
         "name": "teeth",
         "scene": "scene",
         "showlegend": true,
         "type": "scatter3d",
         "x": [
          0.5245977640151978
         ],
         "y": [
          -0.2705124020576477
         ],
         "z": [
          0.3840938210487366
         ]
        },
        {
         "hovertemplate": "color=else<br>0=%{x}<br>1=%{y}<br>2=%{z}<extra></extra>",
         "legendgroup": "else",
         "marker": {
          "color": "#636efa",
          "symbol": "circle"
         },
         "mode": "markers",
         "name": "else",
         "scene": "scene",
         "showlegend": true,
         "type": "scatter3d",
         "x": [
          -0.4919053018093109
         ],
         "y": [
          -0.39250901341438293
         ],
         "z": [
          0.24518616497516632
         ]
        },
        {
         "hovertemplate": "color=throne<br>0=%{x}<br>1=%{y}<br>2=%{z}<extra></extra>",
         "legendgroup": "throne",
         "marker": {
          "color": "#EF553B",
          "symbol": "circle"
         },
         "mode": "markers",
         "name": "throne",
         "scene": "scene",
         "showlegend": true,
         "type": "scatter3d",
         "x": [
          -0.18889975547790527
         ],
         "y": [
          -0.590855062007904
         ],
         "z": [
          0.031757816672325134
         ]
        },
        {
         "hovertemplate": "color=command<br>0=%{x}<br>1=%{y}<br>2=%{z}<extra></extra>",
         "legendgroup": "command",
         "marker": {
          "color": "#00cc96",
          "symbol": "circle"
         },
         "mode": "markers",
         "name": "command",
         "scene": "scene",
         "showlegend": true,
         "type": "scatter3d",
         "x": [
          -0.47853487730026245
         ],
         "y": [
          -0.5485919713973999
         ],
         "z": [
          0.06187887489795685
         ]
        },
        {
         "hovertemplate": "color=which<br>0=%{x}<br>1=%{y}<br>2=%{z}<extra></extra>",
         "legendgroup": "which",
         "marker": {
          "color": "#ab63fa",
          "symbol": "circle"
         },
         "mode": "markers",
         "name": "which",
         "scene": "scene",
         "showlegend": true,
         "type": "scatter3d",
         "x": [
          -0.37493056058883667
         ],
         "y": [
          -0.5174827575683594
         ],
         "z": [
          -0.11246255040168762
         ]
        },
        {
         "hovertemplate": "color=fat<br>0=%{x}<br>1=%{y}<br>2=%{z}<extra></extra>",
         "legendgroup": "fat",
         "marker": {
          "color": "#FFA15A",
          "symbol": "circle"
         },
         "mode": "markers",
         "name": "fat",
         "scene": "scene",
         "showlegend": true,
         "type": "scatter3d",
         "x": [
          -0.02607674151659012
         ],
         "y": [
          -0.032244205474853516
         ],
         "z": [
          0.2047722041606903
         ]
        },
        {
         "hovertemplate": "color=truth<br>0=%{x}<br>1=%{y}<br>2=%{z}<extra></extra>",
         "legendgroup": "truth",
         "marker": {
          "color": "#19d3f3",
          "symbol": "circle"
         },
         "mode": "markers",
         "name": "truth",
         "scene": "scene",
         "showlegend": true,
         "type": "scatter3d",
         "x": [
          -0.48972636461257935
         ],
         "y": [
          -0.5107527375221252
         ],
         "z": [
          -0.10570356249809265
         ]
        },
        {
         "hovertemplate": "color=commander<br>0=%{x}<br>1=%{y}<br>2=%{z}<extra></extra>",
         "legendgroup": "commander",
         "marker": {
          "color": "#FF6692",
          "symbol": "circle"
         },
         "mode": "markers",
         "name": "commander",
         "scene": "scene",
         "showlegend": true,
         "type": "scatter3d",
         "x": [
          -0.3708059787750244
         ],
         "y": [
          -0.3944350481033325
         ],
         "z": [
          -0.1018618643283844
         ]
        },
        {
         "hovertemplate": "color=walder<br>0=%{x}<br>1=%{y}<br>2=%{z}<extra></extra>",
         "legendgroup": "walder",
         "marker": {
          "color": "#B6E880",
          "symbol": "circle"
         },
         "mode": "markers",
         "name": "walder",
         "scene": "scene",
         "showlegend": true,
         "type": "scatter3d",
         "x": [
          -0.36416465044021606
         ],
         "y": [
          -0.15350297093391418
         ],
         "z": [
          -0.0750124454498291
         ]
        },
        {
         "hovertemplate": "color=doubt<br>0=%{x}<br>1=%{y}<br>2=%{z}<extra></extra>",
         "legendgroup": "doubt",
         "marker": {
          "color": "#FF97FF",
          "symbol": "circle"
         },
         "mode": "markers",
         "name": "doubt",
         "scene": "scene",
         "showlegend": true,
         "type": "scatter3d",
         "x": [
          -0.5625565052032471
         ],
         "y": [
          -0.4679622948169708
         ],
         "z": [
          0.1440969705581665
         ]
        },
        {
         "hovertemplate": "color=ground<br>0=%{x}<br>1=%{y}<br>2=%{z}<extra></extra>",
         "legendgroup": "ground",
         "marker": {
          "color": "#FECB52",
          "symbol": "circle"
         },
         "mode": "markers",
         "name": "ground",
         "scene": "scene",
         "showlegend": true,
         "type": "scatter3d",
         "x": [
          0.6972805261611938
         ],
         "y": [
          -0.4950089454650879
         ],
         "z": [
          0.22174008190631866
         ]
        },
        {
         "hovertemplate": "color=jorah<br>0=%{x}<br>1=%{y}<br>2=%{z}<extra></extra>",
         "legendgroup": "jorah",
         "marker": {
          "color": "#636efa",
          "symbol": "circle"
         },
         "mode": "markers",
         "name": "jorah",
         "scene": "scene",
         "showlegend": true,
         "type": "scatter3d",
         "x": [
          -0.09287434071302414
         ],
         "y": [
          -0.18671086430549622
         ],
         "z": [
          0.38468050956726074
         ]
        },
        {
         "hovertemplate": "color=cup<br>0=%{x}<br>1=%{y}<br>2=%{z}<extra></extra>",
         "legendgroup": "cup",
         "marker": {
          "color": "#EF553B",
          "symbol": "circle"
         },
         "mode": "markers",
         "name": "cup",
         "scene": "scene",
         "showlegend": true,
         "type": "scatter3d",
         "x": [
          0.10664379596710205
         ],
         "y": [
          -0.24985113739967346
         ],
         "z": [
          0.4477943778038025
         ]
        },
        {
         "hovertemplate": "color=outside<br>0=%{x}<br>1=%{y}<br>2=%{z}<extra></extra>",
         "legendgroup": "outside",
         "marker": {
          "color": "#00cc96",
          "symbol": "circle"
         },
         "mode": "markers",
         "name": "outside",
         "scene": "scene",
         "showlegend": true,
         "type": "scatter3d",
         "x": [
          0.3364688754081726
         ],
         "y": [
          -0.5383354425430298
         ],
         "z": [
          -0.04069036245346069
         ]
        },
        {
         "hovertemplate": "color=known<br>0=%{x}<br>1=%{y}<br>2=%{z}<extra></extra>",
         "legendgroup": "known",
         "marker": {
          "color": "#ab63fa",
          "symbol": "circle"
         },
         "mode": "markers",
         "name": "known",
         "scene": "scene",
         "showlegend": true,
         "type": "scatter3d",
         "x": [
          -0.48261091113090515
         ],
         "y": [
          -0.41805097460746765
         ],
         "z": [
          0.17237482964992523
         ]
        },
        {
         "hovertemplate": "color=wore<br>0=%{x}<br>1=%{y}<br>2=%{z}<extra></extra>",
         "legendgroup": "wore",
         "marker": {
          "color": "#FFA15A",
          "symbol": "circle"
         },
         "mode": "markers",
         "name": "wore",
         "scene": "scene",
         "showlegend": true,
         "type": "scatter3d",
         "x": [
          0.2704836130142212
         ],
         "y": [
          -0.11771529912948608
         ],
         "z": [
          0.13064976036548615
         ]
        },
        {
         "hovertemplate": "color=ran<br>0=%{x}<br>1=%{y}<br>2=%{z}<extra></extra>",
         "legendgroup": "ran",
         "marker": {
          "color": "#19d3f3",
          "symbol": "circle"
         },
         "mode": "markers",
         "name": "ran",
         "scene": "scene",
         "showlegend": true,
         "type": "scatter3d",
         "x": [
          0.54548180103302
         ],
         "y": [
          -0.26383376121520996
         ],
         "z": [
          0.5449183583259583
         ]
        },
        {
         "hovertemplate": "color=gate<br>0=%{x}<br>1=%{y}<br>2=%{z}<extra></extra>",
         "legendgroup": "gate",
         "marker": {
          "color": "#FF6692",
          "symbol": "circle"
         },
         "mode": "markers",
         "name": "gate",
         "scene": "scene",
         "showlegend": true,
         "type": "scatter3d",
         "x": [
          0.3488338589668274
         ],
         "y": [
          -0.7367457747459412
         ],
         "z": [
          -0.03786709904670715
         ]
        },
        {
         "hovertemplate": "color=room<br>0=%{x}<br>1=%{y}<br>2=%{z}<extra></extra>",
         "legendgroup": "room",
         "marker": {
          "color": "#B6E880",
          "symbol": "circle"
         },
         "mode": "markers",
         "name": "room",
         "scene": "scene",
         "showlegend": true,
         "type": "scatter3d",
         "x": [
          0.4676246643066406
         ],
         "y": [
          -0.6087278723716736
         ],
         "z": [
          0.10540598630905151
         ]
        },
        {
         "hovertemplate": "color=held<br>0=%{x}<br>1=%{y}<br>2=%{z}<extra></extra>",
         "legendgroup": "held",
         "marker": {
          "color": "#FF97FF",
          "symbol": "circle"
         },
         "mode": "markers",
         "name": "held",
         "scene": "scene",
         "showlegend": true,
         "type": "scatter3d",
         "x": [
          0.1382746696472168
         ],
         "y": [
          -0.17498701810836792
         ],
         "z": [
          0.6050887107849121
         ]
        },
        {
         "hovertemplate": "color=closed<br>0=%{x}<br>1=%{y}<br>2=%{z}<extra></extra>",
         "legendgroup": "closed",
         "marker": {
          "color": "#FECB52",
          "symbol": "circle"
         },
         "mode": "markers",
         "name": "closed",
         "scene": "scene",
         "showlegend": true,
         "type": "scatter3d",
         "x": [
          0.39696329832077026
         ],
         "y": [
          -0.26720181107521057
         ],
         "z": [
          0.47630393505096436
         ]
        },
        {
         "hovertemplate": "color=home<br>0=%{x}<br>1=%{y}<br>2=%{z}<extra></extra>",
         "legendgroup": "home",
         "marker": {
          "color": "#636efa",
          "symbol": "circle"
         },
         "mode": "markers",
         "name": "home",
         "scene": "scene",
         "showlegend": true,
         "type": "scatter3d",
         "x": [
          -0.38560399413108826
         ],
         "y": [
          -0.6400027275085449
         ],
         "z": [
          0.12865610420703888
         ]
        },
        {
         "hovertemplate": "color=matter<br>0=%{x}<br>1=%{y}<br>2=%{z}<extra></extra>",
         "legendgroup": "matter",
         "marker": {
          "color": "#EF553B",
          "symbol": "circle"
         },
         "mode": "markers",
         "name": "matter",
         "scene": "scene",
         "showlegend": true,
         "type": "scatter3d",
         "x": [
          -0.45682448148727417
         ],
         "y": [
          -0.4182935953140259
         ],
         "z": [
          0.1810034066438675
         ]
        },
        {
         "hovertemplate": "color=sky<br>0=%{x}<br>1=%{y}<br>2=%{z}<extra></extra>",
         "legendgroup": "sky",
         "marker": {
          "color": "#00cc96",
          "symbol": "circle"
         },
         "mode": "markers",
         "name": "sky",
         "scene": "scene",
         "showlegend": true,
         "type": "scatter3d",
         "x": [
          0.621853768825531
         ],
         "y": [
          -0.5328702330589294
         ],
         "z": [
          -0.025226563215255737
         ]
        },
        {
         "hovertemplate": "color=south<br>0=%{x}<br>1=%{y}<br>2=%{z}<extra></extra>",
         "legendgroup": "south",
         "marker": {
          "color": "#ab63fa",
          "symbol": "circle"
         },
         "mode": "markers",
         "name": "south",
         "scene": "scene",
         "showlegend": true,
         "type": "scatter3d",
         "x": [
          0.05355975031852722
         ],
         "y": [
          -0.7776966094970703
         ],
         "z": [
          -0.24455273151397705
         ]
        },
        {
         "hovertemplate": "color=wood<br>0=%{x}<br>1=%{y}<br>2=%{z}<extra></extra>",
         "legendgroup": "wood",
         "marker": {
          "color": "#FFA15A",
          "symbol": "circle"
         },
         "mode": "markers",
         "name": "wood",
         "scene": "scene",
         "showlegend": true,
         "type": "scatter3d",
         "x": [
          0.6745282411575317
         ],
         "y": [
          -0.5262912511825562
         ],
         "z": [
          -0.12849202752113342
         ]
        },
        {
         "hovertemplate": "color=dozen<br>0=%{x}<br>1=%{y}<br>2=%{z}<extra></extra>",
         "legendgroup": "dozen",
         "marker": {
          "color": "#19d3f3",
          "symbol": "circle"
         },
         "mode": "markers",
         "name": "dozen",
         "scene": "scene",
         "showlegend": true,
         "type": "scatter3d",
         "x": [
          0.2774279713630676
         ],
         "y": [
          -0.51502525806427
         ],
         "z": [
          -0.3035336434841156
         ]
        },
        {
         "hovertemplate": "color=wed<br>0=%{x}<br>1=%{y}<br>2=%{z}<extra></extra>",
         "legendgroup": "wed",
         "marker": {
          "color": "#FF6692",
          "symbol": "circle"
         },
         "mode": "markers",
         "name": "wed",
         "scene": "scene",
         "showlegend": true,
         "type": "scatter3d",
         "x": [
          -0.7747097611427307
         ],
         "y": [
          -0.39164504408836365
         ],
         "z": [
          0.21188831329345703
         ]
        },
        {
         "hovertemplate": "color=people<br>0=%{x}<br>1=%{y}<br>2=%{z}<extra></extra>",
         "legendgroup": "people",
         "marker": {
          "color": "#B6E880",
          "symbol": "circle"
         },
         "mode": "markers",
         "name": "people",
         "scene": "scene",
         "showlegend": true,
         "type": "scatter3d",
         "x": [
          -0.29323700070381165
         ],
         "y": [
          -0.7688094973564148
         ],
         "z": [
          -0.27561846375465393
         ]
        },
        {
         "hovertemplate": "color=neck<br>0=%{x}<br>1=%{y}<br>2=%{z}<extra></extra>",
         "legendgroup": "neck",
         "marker": {
          "color": "#FF97FF",
          "symbol": "circle"
         },
         "mode": "markers",
         "name": "neck",
         "scene": "scene",
         "showlegend": true,
         "type": "scatter3d",
         "x": [
          0.5587412714958191
         ],
         "y": [
          -0.3318307101726532
         ],
         "z": [
          0.4220687448978424
         ]
        },
        {
         "hovertemplate": "color=riverrun<br>0=%{x}<br>1=%{y}<br>2=%{z}<extra></extra>",
         "legendgroup": "riverrun",
         "marker": {
          "color": "#FECB52",
          "symbol": "circle"
         },
         "mode": "markers",
         "name": "riverrun",
         "scene": "scene",
         "showlegend": true,
         "type": "scatter3d",
         "x": [
          -0.4013822674751282
         ],
         "y": [
          -0.5640937089920044
         ],
         "z": [
          -0.06160396337509155
         ]
        },
        {
         "hovertemplate": "color=food<br>0=%{x}<br>1=%{y}<br>2=%{z}<extra></extra>",
         "legendgroup": "food",
         "marker": {
          "color": "#636efa",
          "symbol": "circle"
         },
         "mode": "markers",
         "name": "food",
         "scene": "scene",
         "showlegend": true,
         "type": "scatter3d",
         "x": [
          -0.04659198224544525
         ],
         "y": [
          -0.639595627784729
         ],
         "z": [
          -0.08302423357963562
         ]
        },
        {
         "hovertemplate": "color=instead<br>0=%{x}<br>1=%{y}<br>2=%{z}<extra></extra>",
         "legendgroup": "instead",
         "marker": {
          "color": "#EF553B",
          "symbol": "circle"
         },
         "mode": "markers",
         "name": "instead",
         "scene": "scene",
         "showlegend": true,
         "type": "scatter3d",
         "x": [
          0.006914615631103516
         ],
         "y": [
          -0.3112858831882477
         ],
         "z": [
          0.2902792692184448
         ]
        },
        {
         "hovertemplate": "color=near<br>0=%{x}<br>1=%{y}<br>2=%{z}<extra></extra>",
         "legendgroup": "near",
         "marker": {
          "color": "#00cc96",
          "symbol": "circle"
         },
         "mode": "markers",
         "name": "near",
         "scene": "scene",
         "showlegend": true,
         "type": "scatter3d",
         "x": [
          0.15418124198913574
         ],
         "y": [
          -0.44557613134384155
         ],
         "z": [
          -0.004675641655921936
         ]
        },
        {
         "hovertemplate": "color=talk<br>0=%{x}<br>1=%{y}<br>2=%{z}<extra></extra>",
         "legendgroup": "talk",
         "marker": {
          "color": "#ab63fa",
          "symbol": "circle"
         },
         "mode": "markers",
         "name": "talk",
         "scene": "scene",
         "showlegend": true,
         "type": "scatter3d",
         "x": [
          -0.4187549352645874
         ],
         "y": [
          -0.6261531710624695
         ],
         "z": [
          0.2268313318490982
         ]
        },
        {
         "hovertemplate": "color=turn<br>0=%{x}<br>1=%{y}<br>2=%{z}<extra></extra>",
         "legendgroup": "turn",
         "marker": {
          "color": "#FFA15A",
          "symbol": "circle"
         },
         "mode": "markers",
         "name": "turn",
         "scene": "scene",
         "showlegend": true,
         "type": "scatter3d",
         "x": [
          -0.0810822993516922
         ],
         "y": [
          -0.6890479922294617
         ],
         "z": [
          0.39699646830558777
         ]
        },
        {
         "hovertemplate": "color=none<br>0=%{x}<br>1=%{y}<br>2=%{z}<extra></extra>",
         "legendgroup": "none",
         "marker": {
          "color": "#19d3f3",
          "symbol": "circle"
         },
         "mode": "markers",
         "name": "none",
         "scene": "scene",
         "showlegend": true,
         "type": "scatter3d",
         "x": [
          -0.5148804783821106
         ],
         "y": [
          -0.5306798815727234
         ],
         "z": [
          -0.08325597643852234
         ]
        },
        {
         "hovertemplate": "color=ships<br>0=%{x}<br>1=%{y}<br>2=%{z}<extra></extra>",
         "legendgroup": "ships",
         "marker": {
          "color": "#FF6692",
          "symbol": "circle"
         },
         "mode": "markers",
         "name": "ships",
         "scene": "scene",
         "showlegend": true,
         "type": "scatter3d",
         "x": [
          -0.08618941903114319
         ],
         "y": [
          -0.7822969555854797
         ],
         "z": [
          -0.44907745718955994
         ]
        },
        {
         "hovertemplate": "color=tyrell<br>0=%{x}<br>1=%{y}<br>2=%{z}<extra></extra>",
         "legendgroup": "tyrell",
         "marker": {
          "color": "#B6E880",
          "symbol": "circle"
         },
         "mode": "markers",
         "name": "tyrell",
         "scene": "scene",
         "showlegend": true,
         "type": "scatter3d",
         "x": [
          -0.5019496083259583
         ],
         "y": [
          -0.19195252656936646
         ],
         "z": [
          -0.020197689533233643
         ]
        },
        {
         "hovertemplate": "color=below<br>0=%{x}<br>1=%{y}<br>2=%{z}<extra></extra>",
         "legendgroup": "below",
         "marker": {
          "color": "#FF97FF",
          "symbol": "circle"
         },
         "mode": "markers",
         "name": "below",
         "scene": "scene",
         "showlegend": true,
         "type": "scatter3d",
         "x": [
          0.5906810760498047
         ],
         "y": [
          -0.5120679140090942
         ],
         "z": [
          0.07762269675731659
         ]
        },
        {
         "hovertemplate": "color=moon<br>0=%{x}<br>1=%{y}<br>2=%{z}<extra></extra>",
         "legendgroup": "moon",
         "marker": {
          "color": "#FECB52",
          "symbol": "circle"
         },
         "mode": "markers",
         "name": "moon",
         "scene": "scene",
         "showlegend": true,
         "type": "scatter3d",
         "x": [
          0.3931557536125183
         ],
         "y": [
          -0.5165254473686218
         ],
         "z": [
          -0.10867011547088623
         ]
        },
        {
         "hovertemplate": "color=summer<br>0=%{x}<br>1=%{y}<br>2=%{z}<extra></extra>",
         "legendgroup": "summer",
         "marker": {
          "color": "#636efa",
          "symbol": "circle"
         },
         "mode": "markers",
         "name": "summer",
         "scene": "scene",
         "showlegend": true,
         "type": "scatter3d",
         "x": [
          0.28021591901779175
         ],
         "y": [
          -0.43654072284698486
         ],
         "z": [
          -0.14739391207695007
         ]
        },
        {
         "hovertemplate": "color=bolton<br>0=%{x}<br>1=%{y}<br>2=%{z}<extra></extra>",
         "legendgroup": "bolton",
         "marker": {
          "color": "#EF553B",
          "symbol": "circle"
         },
         "mode": "markers",
         "name": "bolton",
         "scene": "scene",
         "showlegend": true,
         "type": "scatter3d",
         "x": [
          -0.48289918899536133
         ],
         "y": [
          -0.28606709837913513
         ],
         "z": [
          -0.02082231640815735
         ]
        },
        {
         "hovertemplate": "color=shadow<br>0=%{x}<br>1=%{y}<br>2=%{z}<extra></extra>",
         "legendgroup": "shadow",
         "marker": {
          "color": "#00cc96",
          "symbol": "circle"
         },
         "mode": "markers",
         "name": "shadow",
         "scene": "scene",
         "showlegend": true,
         "type": "scatter3d",
         "x": [
          0.4153052568435669
         ],
         "y": [
          -0.6110209226608276
         ],
         "z": [
          -0.09556442499160767
         ]
        },
        {
         "hovertemplate": "color=lips<br>0=%{x}<br>1=%{y}<br>2=%{z}<extra></extra>",
         "legendgroup": "lips",
         "marker": {
          "color": "#ab63fa",
          "symbol": "circle"
         },
         "mode": "markers",
         "name": "lips",
         "scene": "scene",
         "showlegend": true,
         "type": "scatter3d",
         "x": [
          0.3165404498577118
         ],
         "y": [
          -0.1858239769935608
         ],
         "z": [
          0.5595431327819824
         ]
        },
        {
         "hovertemplate": "color=watched<br>0=%{x}<br>1=%{y}<br>2=%{z}<extra></extra>",
         "legendgroup": "watched",
         "marker": {
          "color": "#FFA15A",
          "symbol": "circle"
         },
         "mode": "markers",
         "name": "watched",
         "scene": "scene",
         "showlegend": true,
         "type": "scatter3d",
         "x": [
          0.18897485733032227
         ],
         "y": [
          -0.29853391647338867
         ],
         "z": [
          0.5971944332122803
         ]
        },
        {
         "hovertemplate": "color=times<br>0=%{x}<br>1=%{y}<br>2=%{z}<extra></extra>",
         "legendgroup": "times",
         "marker": {
          "color": "#19d3f3",
          "symbol": "circle"
         },
         "mode": "markers",
         "name": "times",
         "scene": "scene",
         "showlegend": true,
         "type": "scatter3d",
         "x": [
          -0.24923597276210785
         ],
         "y": [
          -0.6570870280265808
         ],
         "z": [
          -0.09478759765625
         ]
        },
        {
         "hovertemplate": "color=leather<br>0=%{x}<br>1=%{y}<br>2=%{z}<extra></extra>",
         "legendgroup": "leather",
         "marker": {
          "color": "#FF6692",
          "symbol": "circle"
         },
         "mode": "markers",
         "name": "leather",
         "scene": "scene",
         "showlegend": true,
         "type": "scatter3d",
         "x": [
          0.6275010704994202
         ],
         "y": [
          -0.1514034867286682
         ],
         "z": [
          0.05904456973075867
         ]
        },
        {
         "hovertemplate": "color=varys<br>0=%{x}<br>1=%{y}<br>2=%{z}<extra></extra>",
         "legendgroup": "varys",
         "marker": {
          "color": "#B6E880",
          "symbol": "circle"
         },
         "mode": "markers",
         "name": "varys",
         "scene": "scene",
         "showlegend": true,
         "type": "scatter3d",
         "x": [
          -0.4874638617038727
         ],
         "y": [
          -0.11469060182571411
         ],
         "z": [
          0.10727927088737488
         ]
        },
        {
         "hovertemplate": "color=shoulder<br>0=%{x}<br>1=%{y}<br>2=%{z}<extra></extra>",
         "legendgroup": "shoulder",
         "marker": {
          "color": "#FF97FF",
          "symbol": "circle"
         },
         "mode": "markers",
         "name": "shoulder",
         "scene": "scene",
         "showlegend": true,
         "type": "scatter3d",
         "x": [
          0.5024650692939758
         ],
         "y": [
          -0.2634021043777466
         ],
         "z": [
          0.4895745515823364
         ]
        },
        {
         "hovertemplate": "color=septon<br>0=%{x}<br>1=%{y}<br>2=%{z}<extra></extra>",
         "legendgroup": "septon",
         "marker": {
          "color": "#FECB52",
          "symbol": "circle"
         },
         "mode": "markers",
         "name": "septon",
         "scene": "scene",
         "showlegend": true,
         "type": "scatter3d",
         "x": [
          -0.3090093433856964
         ],
         "y": [
          -0.4020206332206726
         ],
         "z": [
          -0.15331777930259705
         ]
        }
       ],
       "layout": {
        "legend": {
         "title": {
          "text": "color"
         },
         "tracegroupgap": 0
        },
        "margin": {
         "t": 60
        },
        "scene": {
         "domain": {
          "x": [
           0,
           1
          ],
          "y": [
           0,
           1
          ]
         },
         "xaxis": {
          "title": {
           "text": "0"
          }
         },
         "yaxis": {
          "title": {
           "text": "1"
          }
         },
         "zaxis": {
          "title": {
           "text": "2"
          }
         }
        },
        "template": {
         "data": {
          "bar": [
           {
            "error_x": {
             "color": "#2a3f5f"
            },
            "error_y": {
             "color": "#2a3f5f"
            },
            "marker": {
             "line": {
              "color": "#E5ECF6",
              "width": 0.5
             },
             "pattern": {
              "fillmode": "overlay",
              "size": 10,
              "solidity": 0.2
             }
            },
            "type": "bar"
           }
          ],
          "barpolar": [
           {
            "marker": {
             "line": {
              "color": "#E5ECF6",
              "width": 0.5
             },
             "pattern": {
              "fillmode": "overlay",
              "size": 10,
              "solidity": 0.2
             }
            },
            "type": "barpolar"
           }
          ],
          "carpet": [
           {
            "aaxis": {
             "endlinecolor": "#2a3f5f",
             "gridcolor": "white",
             "linecolor": "white",
             "minorgridcolor": "white",
             "startlinecolor": "#2a3f5f"
            },
            "baxis": {
             "endlinecolor": "#2a3f5f",
             "gridcolor": "white",
             "linecolor": "white",
             "minorgridcolor": "white",
             "startlinecolor": "#2a3f5f"
            },
            "type": "carpet"
           }
          ],
          "choropleth": [
           {
            "colorbar": {
             "outlinewidth": 0,
             "ticks": ""
            },
            "type": "choropleth"
           }
          ],
          "contour": [
           {
            "colorbar": {
             "outlinewidth": 0,
             "ticks": ""
            },
            "colorscale": [
             [
              0,
              "#0d0887"
             ],
             [
              0.1111111111111111,
              "#46039f"
             ],
             [
              0.2222222222222222,
              "#7201a8"
             ],
             [
              0.3333333333333333,
              "#9c179e"
             ],
             [
              0.4444444444444444,
              "#bd3786"
             ],
             [
              0.5555555555555556,
              "#d8576b"
             ],
             [
              0.6666666666666666,
              "#ed7953"
             ],
             [
              0.7777777777777778,
              "#fb9f3a"
             ],
             [
              0.8888888888888888,
              "#fdca26"
             ],
             [
              1,
              "#f0f921"
             ]
            ],
            "type": "contour"
           }
          ],
          "contourcarpet": [
           {
            "colorbar": {
             "outlinewidth": 0,
             "ticks": ""
            },
            "type": "contourcarpet"
           }
          ],
          "heatmap": [
           {
            "colorbar": {
             "outlinewidth": 0,
             "ticks": ""
            },
            "colorscale": [
             [
              0,
              "#0d0887"
             ],
             [
              0.1111111111111111,
              "#46039f"
             ],
             [
              0.2222222222222222,
              "#7201a8"
             ],
             [
              0.3333333333333333,
              "#9c179e"
             ],
             [
              0.4444444444444444,
              "#bd3786"
             ],
             [
              0.5555555555555556,
              "#d8576b"
             ],
             [
              0.6666666666666666,
              "#ed7953"
             ],
             [
              0.7777777777777778,
              "#fb9f3a"
             ],
             [
              0.8888888888888888,
              "#fdca26"
             ],
             [
              1,
              "#f0f921"
             ]
            ],
            "type": "heatmap"
           }
          ],
          "heatmapgl": [
           {
            "colorbar": {
             "outlinewidth": 0,
             "ticks": ""
            },
            "colorscale": [
             [
              0,
              "#0d0887"
             ],
             [
              0.1111111111111111,
              "#46039f"
             ],
             [
              0.2222222222222222,
              "#7201a8"
             ],
             [
              0.3333333333333333,
              "#9c179e"
             ],
             [
              0.4444444444444444,
              "#bd3786"
             ],
             [
              0.5555555555555556,
              "#d8576b"
             ],
             [
              0.6666666666666666,
              "#ed7953"
             ],
             [
              0.7777777777777778,
              "#fb9f3a"
             ],
             [
              0.8888888888888888,
              "#fdca26"
             ],
             [
              1,
              "#f0f921"
             ]
            ],
            "type": "heatmapgl"
           }
          ],
          "histogram": [
           {
            "marker": {
             "pattern": {
              "fillmode": "overlay",
              "size": 10,
              "solidity": 0.2
             }
            },
            "type": "histogram"
           }
          ],
          "histogram2d": [
           {
            "colorbar": {
             "outlinewidth": 0,
             "ticks": ""
            },
            "colorscale": [
             [
              0,
              "#0d0887"
             ],
             [
              0.1111111111111111,
              "#46039f"
             ],
             [
              0.2222222222222222,
              "#7201a8"
             ],
             [
              0.3333333333333333,
              "#9c179e"
             ],
             [
              0.4444444444444444,
              "#bd3786"
             ],
             [
              0.5555555555555556,
              "#d8576b"
             ],
             [
              0.6666666666666666,
              "#ed7953"
             ],
             [
              0.7777777777777778,
              "#fb9f3a"
             ],
             [
              0.8888888888888888,
              "#fdca26"
             ],
             [
              1,
              "#f0f921"
             ]
            ],
            "type": "histogram2d"
           }
          ],
          "histogram2dcontour": [
           {
            "colorbar": {
             "outlinewidth": 0,
             "ticks": ""
            },
            "colorscale": [
             [
              0,
              "#0d0887"
             ],
             [
              0.1111111111111111,
              "#46039f"
             ],
             [
              0.2222222222222222,
              "#7201a8"
             ],
             [
              0.3333333333333333,
              "#9c179e"
             ],
             [
              0.4444444444444444,
              "#bd3786"
             ],
             [
              0.5555555555555556,
              "#d8576b"
             ],
             [
              0.6666666666666666,
              "#ed7953"
             ],
             [
              0.7777777777777778,
              "#fb9f3a"
             ],
             [
              0.8888888888888888,
              "#fdca26"
             ],
             [
              1,
              "#f0f921"
             ]
            ],
            "type": "histogram2dcontour"
           }
          ],
          "mesh3d": [
           {
            "colorbar": {
             "outlinewidth": 0,
             "ticks": ""
            },
            "type": "mesh3d"
           }
          ],
          "parcoords": [
           {
            "line": {
             "colorbar": {
              "outlinewidth": 0,
              "ticks": ""
             }
            },
            "type": "parcoords"
           }
          ],
          "pie": [
           {
            "automargin": true,
            "type": "pie"
           }
          ],
          "scatter": [
           {
            "fillpattern": {
             "fillmode": "overlay",
             "size": 10,
             "solidity": 0.2
            },
            "type": "scatter"
           }
          ],
          "scatter3d": [
           {
            "line": {
             "colorbar": {
              "outlinewidth": 0,
              "ticks": ""
             }
            },
            "marker": {
             "colorbar": {
              "outlinewidth": 0,
              "ticks": ""
             }
            },
            "type": "scatter3d"
           }
          ],
          "scattercarpet": [
           {
            "marker": {
             "colorbar": {
              "outlinewidth": 0,
              "ticks": ""
             }
            },
            "type": "scattercarpet"
           }
          ],
          "scattergeo": [
           {
            "marker": {
             "colorbar": {
              "outlinewidth": 0,
              "ticks": ""
             }
            },
            "type": "scattergeo"
           }
          ],
          "scattergl": [
           {
            "marker": {
             "colorbar": {
              "outlinewidth": 0,
              "ticks": ""
             }
            },
            "type": "scattergl"
           }
          ],
          "scattermapbox": [
           {
            "marker": {
             "colorbar": {
              "outlinewidth": 0,
              "ticks": ""
             }
            },
            "type": "scattermapbox"
           }
          ],
          "scatterpolar": [
           {
            "marker": {
             "colorbar": {
              "outlinewidth": 0,
              "ticks": ""
             }
            },
            "type": "scatterpolar"
           }
          ],
          "scatterpolargl": [
           {
            "marker": {
             "colorbar": {
              "outlinewidth": 0,
              "ticks": ""
             }
            },
            "type": "scatterpolargl"
           }
          ],
          "scatterternary": [
           {
            "marker": {
             "colorbar": {
              "outlinewidth": 0,
              "ticks": ""
             }
            },
            "type": "scatterternary"
           }
          ],
          "surface": [
           {
            "colorbar": {
             "outlinewidth": 0,
             "ticks": ""
            },
            "colorscale": [
             [
              0,
              "#0d0887"
             ],
             [
              0.1111111111111111,
              "#46039f"
             ],
             [
              0.2222222222222222,
              "#7201a8"
             ],
             [
              0.3333333333333333,
              "#9c179e"
             ],
             [
              0.4444444444444444,
              "#bd3786"
             ],
             [
              0.5555555555555556,
              "#d8576b"
             ],
             [
              0.6666666666666666,
              "#ed7953"
             ],
             [
              0.7777777777777778,
              "#fb9f3a"
             ],
             [
              0.8888888888888888,
              "#fdca26"
             ],
             [
              1,
              "#f0f921"
             ]
            ],
            "type": "surface"
           }
          ],
          "table": [
           {
            "cells": {
             "fill": {
              "color": "#EBF0F8"
             },
             "line": {
              "color": "white"
             }
            },
            "header": {
             "fill": {
              "color": "#C8D4E3"
             },
             "line": {
              "color": "white"
             }
            },
            "type": "table"
           }
          ]
         },
         "layout": {
          "annotationdefaults": {
           "arrowcolor": "#2a3f5f",
           "arrowhead": 0,
           "arrowwidth": 1
          },
          "autotypenumbers": "strict",
          "coloraxis": {
           "colorbar": {
            "outlinewidth": 0,
            "ticks": ""
           }
          },
          "colorscale": {
           "diverging": [
            [
             0,
             "#8e0152"
            ],
            [
             0.1,
             "#c51b7d"
            ],
            [
             0.2,
             "#de77ae"
            ],
            [
             0.3,
             "#f1b6da"
            ],
            [
             0.4,
             "#fde0ef"
            ],
            [
             0.5,
             "#f7f7f7"
            ],
            [
             0.6,
             "#e6f5d0"
            ],
            [
             0.7,
             "#b8e186"
            ],
            [
             0.8,
             "#7fbc41"
            ],
            [
             0.9,
             "#4d9221"
            ],
            [
             1,
             "#276419"
            ]
           ],
           "sequential": [
            [
             0,
             "#0d0887"
            ],
            [
             0.1111111111111111,
             "#46039f"
            ],
            [
             0.2222222222222222,
             "#7201a8"
            ],
            [
             0.3333333333333333,
             "#9c179e"
            ],
            [
             0.4444444444444444,
             "#bd3786"
            ],
            [
             0.5555555555555556,
             "#d8576b"
            ],
            [
             0.6666666666666666,
             "#ed7953"
            ],
            [
             0.7777777777777778,
             "#fb9f3a"
            ],
            [
             0.8888888888888888,
             "#fdca26"
            ],
            [
             1,
             "#f0f921"
            ]
           ],
           "sequentialminus": [
            [
             0,
             "#0d0887"
            ],
            [
             0.1111111111111111,
             "#46039f"
            ],
            [
             0.2222222222222222,
             "#7201a8"
            ],
            [
             0.3333333333333333,
             "#9c179e"
            ],
            [
             0.4444444444444444,
             "#bd3786"
            ],
            [
             0.5555555555555556,
             "#d8576b"
            ],
            [
             0.6666666666666666,
             "#ed7953"
            ],
            [
             0.7777777777777778,
             "#fb9f3a"
            ],
            [
             0.8888888888888888,
             "#fdca26"
            ],
            [
             1,
             "#f0f921"
            ]
           ]
          },
          "colorway": [
           "#636efa",
           "#EF553B",
           "#00cc96",
           "#ab63fa",
           "#FFA15A",
           "#19d3f3",
           "#FF6692",
           "#B6E880",
           "#FF97FF",
           "#FECB52"
          ],
          "font": {
           "color": "#2a3f5f"
          },
          "geo": {
           "bgcolor": "white",
           "lakecolor": "white",
           "landcolor": "#E5ECF6",
           "showlakes": true,
           "showland": true,
           "subunitcolor": "white"
          },
          "hoverlabel": {
           "align": "left"
          },
          "hovermode": "closest",
          "mapbox": {
           "style": "light"
          },
          "paper_bgcolor": "white",
          "plot_bgcolor": "#E5ECF6",
          "polar": {
           "angularaxis": {
            "gridcolor": "white",
            "linecolor": "white",
            "ticks": ""
           },
           "bgcolor": "#E5ECF6",
           "radialaxis": {
            "gridcolor": "white",
            "linecolor": "white",
            "ticks": ""
           }
          },
          "scene": {
           "xaxis": {
            "backgroundcolor": "#E5ECF6",
            "gridcolor": "white",
            "gridwidth": 2,
            "linecolor": "white",
            "showbackground": true,
            "ticks": "",
            "zerolinecolor": "white"
           },
           "yaxis": {
            "backgroundcolor": "#E5ECF6",
            "gridcolor": "white",
            "gridwidth": 2,
            "linecolor": "white",
            "showbackground": true,
            "ticks": "",
            "zerolinecolor": "white"
           },
           "zaxis": {
            "backgroundcolor": "#E5ECF6",
            "gridcolor": "white",
            "gridwidth": 2,
            "linecolor": "white",
            "showbackground": true,
            "ticks": "",
            "zerolinecolor": "white"
           }
          },
          "shapedefaults": {
           "line": {
            "color": "#2a3f5f"
           }
          },
          "ternary": {
           "aaxis": {
            "gridcolor": "white",
            "linecolor": "white",
            "ticks": ""
           },
           "baxis": {
            "gridcolor": "white",
            "linecolor": "white",
            "ticks": ""
           },
           "bgcolor": "#E5ECF6",
           "caxis": {
            "gridcolor": "white",
            "linecolor": "white",
            "ticks": ""
           }
          },
          "title": {
           "x": 0.05
          },
          "xaxis": {
           "automargin": true,
           "gridcolor": "white",
           "linecolor": "white",
           "ticks": "",
           "title": {
            "standoff": 15
           },
           "zerolinecolor": "white",
           "zerolinewidth": 2
          },
          "yaxis": {
           "automargin": true,
           "gridcolor": "white",
           "linecolor": "white",
           "ticks": "",
           "title": {
            "standoff": 15
           },
           "zerolinecolor": "white",
           "zerolinewidth": 2
          }
         }
        }
       }
      }
     },
     "metadata": {},
     "output_type": "display_data"
    }
   ],
   "source": [
    "fig = px.scatter_3d(X[200:500], x =0 , y =1,z=2,color=y[200:500])\n",
    "fig.show()"
   ]
  },
  {
   "cell_type": "code",
   "execution_count": null,
   "metadata": {},
   "outputs": [],
   "source": []
  }
 ],
 "metadata": {
  "kernelspec": {
   "display_name": "base",
   "language": "python",
   "name": "python3"
  },
  "language_info": {
   "codemirror_mode": {
    "name": "ipython",
    "version": 3
   },
   "file_extension": ".py",
   "mimetype": "text/x-python",
   "name": "python",
   "nbconvert_exporter": "python",
   "pygments_lexer": "ipython3",
   "version": "3.12.7"
  }
 },
 "nbformat": 4,
 "nbformat_minor": 2
}
